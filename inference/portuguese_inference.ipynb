{
 "cells": [
  {
   "cell_type": "markdown",
   "id": "7457d8a8-f5a7-4549-ace1-29ddd570ccba",
   "metadata": {
    "toc-hr-collapsed": true
   },
   "source": [
    "# Imports"
   ]
  },
  {
   "cell_type": "code",
   "execution_count": 1,
   "id": "813f6399-9a93-4ea2-8e9f-f5f39e81a065",
   "metadata": {},
   "outputs": [
    {
     "data": {
      "application/javascript": [
       "IPython.notebook.set_autosave_interval(60000)"
      ]
     },
     "metadata": {},
     "output_type": "display_data"
    },
    {
     "name": "stdout",
     "output_type": "stream",
     "text": [
      "Autosaving every 60 seconds\n"
     ]
    }
   ],
   "source": [
    "%autosave 60"
   ]
  },
  {
   "cell_type": "code",
   "execution_count": 2,
   "id": "7e5a5004-8900-4685-a999-f215c51c4d81",
   "metadata": {},
   "outputs": [
    {
     "name": "stderr",
     "output_type": "stream",
     "text": [
      "/Users/stefano/opt/anaconda3/envs/s2ds/lib/python3.10/site-packages/tqdm/auto.py:22: TqdmWarning: IProgress not found. Please update jupyter and ipywidgets. See https://ipywidgets.readthedocs.io/en/stable/user_install.html\n",
      "  from .autonotebook import tqdm as notebook_tqdm\n"
     ]
    }
   ],
   "source": [
    "#import spacy\n",
    "import numpy\n",
    "import seaborn\n",
    "import matplotlib.pyplot as plt\n",
    "import pandas\n",
    "import pickle\n",
    "from pathlib import Path\n",
    "from dataclasses import dataclass, field\n",
    "from tqdm import tqdm\n",
    "import transformers # conda install tensorflow\n",
    "from transformers import pipeline, AutoTokenizer, AutoModelForTokenClassification\n",
    "from IPython.display import display, HTML\n",
    "from collections import deque\n",
    "from multiprocessing import Pool\n",
    "import os\n",
    "from functools import partial\n",
    "import pandas as pd\n",
    "import numpy as np\n",
    "import re\n",
    "\n",
    "# Needed to train the model\n",
    "from datasets import Dataset,DatasetDict\n",
    "from transformers import AutoModelForSequenceClassification,AutoTokenizer"
   ]
  },
  {
   "cell_type": "markdown",
   "id": "c897385b-7313-4707-8249-64184bd446c3",
   "metadata": {},
   "source": [
    "# Data"
   ]
  },
  {
   "cell_type": "markdown",
   "id": "b2f2fb85-278a-4d60-ae79-e64875532995",
   "metadata": {},
   "source": [
    "Read"
   ]
  },
  {
   "cell_type": "code",
   "execution_count": 3,
   "id": "1a84b2b0-b1d3-4cf7-bcc2-2bf0efbaeabd",
   "metadata": {},
   "outputs": [],
   "source": [
    "inputdir = Path('../dataset_for_inference')\n",
    "filename = Path('portuguese_data_for_inference.csv')\n",
    "data = pd.read_csv(inputdir/filename)"
   ]
  },
  {
   "cell_type": "markdown",
   "id": "f2a311e1-5fee-4ccc-8745-5922902627d6",
   "metadata": {},
   "source": [
    "Take a look at it"
   ]
  },
  {
   "cell_type": "code",
   "execution_count": 4,
   "id": "0004eabc-516a-47a7-af09-bfc77a8ea3a5",
   "metadata": {},
   "outputs": [
    {
     "data": {
      "text/html": [
       "<div>\n",
       "<style scoped>\n",
       "    .dataframe tbody tr th:only-of-type {\n",
       "        vertical-align: middle;\n",
       "    }\n",
       "\n",
       "    .dataframe tbody tr th {\n",
       "        vertical-align: top;\n",
       "    }\n",
       "\n",
       "    .dataframe thead th {\n",
       "        text-align: right;\n",
       "    }\n",
       "</style>\n",
       "<table border=\"1\" class=\"dataframe\">\n",
       "  <thead>\n",
       "    <tr style=\"text-align: right;\">\n",
       "      <th></th>\n",
       "      <th>id</th>\n",
       "      <th>name</th>\n",
       "      <th>full_text</th>\n",
       "      <th>article_length</th>\n",
       "    </tr>\n",
       "  </thead>\n",
       "  <tbody>\n",
       "    <tr>\n",
       "      <th>0</th>\n",
       "      <td>54006424</td>\n",
       "      <td>Clemens Tönnies</td>\n",
       "      <td>O presidente do FC Schalke 04 e proprietário ...</td>\n",
       "      <td>6376</td>\n",
       "    </tr>\n",
       "    <tr>\n",
       "      <th>1</th>\n",
       "      <td>54006424</td>\n",
       "      <td>Gerald Asamoah</td>\n",
       "      <td>O presidente do FC Schalke 04 e proprietário ...</td>\n",
       "      <td>6376</td>\n",
       "    </tr>\n",
       "    <tr>\n",
       "      <th>2</th>\n",
       "      <td>54006424</td>\n",
       "      <td>Hans Sarpei</td>\n",
       "      <td>O presidente do FC Schalke 04 e proprietário ...</td>\n",
       "      <td>6376</td>\n",
       "    </tr>\n",
       "    <tr>\n",
       "      <th>3</th>\n",
       "      <td>54006424</td>\n",
       "      <td>Cacau</td>\n",
       "      <td>O presidente do FC Schalke 04 e proprietário ...</td>\n",
       "      <td>6376</td>\n",
       "    </tr>\n",
       "    <tr>\n",
       "      <th>4</th>\n",
       "      <td>54003004</td>\n",
       "      <td>Angela Merkel</td>\n",
       "      <td>Em meados de março, quando o coronavírus com...</td>\n",
       "      <td>5029</td>\n",
       "    </tr>\n",
       "    <tr>\n",
       "      <th>...</th>\n",
       "      <td>...</td>\n",
       "      <td>...</td>\n",
       "      <td>...</td>\n",
       "      <td>...</td>\n",
       "    </tr>\n",
       "    <tr>\n",
       "      <th>40136</th>\n",
       "      <td>54005845</td>\n",
       "      <td>Von der Leyen</td>\n",
       "      <td>A controversa lei de segurança nacional impos...</td>\n",
       "      <td>5983</td>\n",
       "    </tr>\n",
       "    <tr>\n",
       "      <th>40137</th>\n",
       "      <td>54005845</td>\n",
       "      <td>Charles Michel</td>\n",
       "      <td>A controversa lei de segurança nacional impos...</td>\n",
       "      <td>5983</td>\n",
       "    </tr>\n",
       "    <tr>\n",
       "      <th>40138</th>\n",
       "      <td>54005845</td>\n",
       "      <td>Gyde Jensen</td>\n",
       "      <td>A controversa lei de segurança nacional impos...</td>\n",
       "      <td>5983</td>\n",
       "    </tr>\n",
       "    <tr>\n",
       "      <th>40139</th>\n",
       "      <td>54005845</td>\n",
       "      <td>Angela Merkel</td>\n",
       "      <td>A controversa lei de segurança nacional impos...</td>\n",
       "      <td>5983</td>\n",
       "    </tr>\n",
       "    <tr>\n",
       "      <th>40140</th>\n",
       "      <td>54005845</td>\n",
       "      <td>Julian Braithwaite</td>\n",
       "      <td>A controversa lei de segurança nacional impos...</td>\n",
       "      <td>5983</td>\n",
       "    </tr>\n",
       "  </tbody>\n",
       "</table>\n",
       "<p>40141 rows × 4 columns</p>\n",
       "</div>"
      ],
      "text/plain": [
       "             id                name  \\\n",
       "0      54006424    Clemens Tönnies   \n",
       "1      54006424      Gerald Asamoah   \n",
       "2      54006424         Hans Sarpei   \n",
       "3      54006424               Cacau   \n",
       "4      54003004       Angela Merkel   \n",
       "...         ...                 ...   \n",
       "40136  54005845       Von der Leyen   \n",
       "40137  54005845      Charles Michel   \n",
       "40138  54005845         Gyde Jensen   \n",
       "40139  54005845       Angela Merkel   \n",
       "40140  54005845  Julian Braithwaite   \n",
       "\n",
       "                                               full_text  article_length  \n",
       "0      O presidente do FC Schalke 04 e proprietário ...            6376  \n",
       "1      O presidente do FC Schalke 04 e proprietário ...            6376  \n",
       "2      O presidente do FC Schalke 04 e proprietário ...            6376  \n",
       "3      O presidente do FC Schalke 04 e proprietário ...            6376  \n",
       "4      Em meados de março, quando o coronavírus com...            5029  \n",
       "...                                                  ...             ...  \n",
       "40136  A controversa lei de segurança nacional impos...            5983  \n",
       "40137  A controversa lei de segurança nacional impos...            5983  \n",
       "40138  A controversa lei de segurança nacional impos...            5983  \n",
       "40139  A controversa lei de segurança nacional impos...            5983  \n",
       "40140  A controversa lei de segurança nacional impos...            5983  \n",
       "\n",
       "[40141 rows x 4 columns]"
      ]
     },
     "execution_count": 4,
     "metadata": {},
     "output_type": "execute_result"
    }
   ],
   "source": [
    "data"
   ]
  },
  {
   "cell_type": "code",
   "execution_count": 5,
   "id": "1f4f5a15-304a-4569-9d61-fa11b555466c",
   "metadata": {},
   "outputs": [
    {
     "name": "stdout",
     "output_type": "stream",
     "text": [
      "<class 'pandas.core.frame.DataFrame'>\n",
      "RangeIndex: 40141 entries, 0 to 40140\n",
      "Data columns (total 4 columns):\n",
      " #   Column          Non-Null Count  Dtype \n",
      "---  ------          --------------  ----- \n",
      " 0   id              40141 non-null  int64 \n",
      " 1   name            40141 non-null  object\n",
      " 2   full_text       40141 non-null  object\n",
      " 3   article_length  40141 non-null  int64 \n",
      "dtypes: int64(2), object(2)\n",
      "memory usage: 1.2+ MB\n"
     ]
    }
   ],
   "source": [
    "data.info()"
   ]
  },
  {
   "cell_type": "code",
   "execution_count": 6,
   "id": "87aff310-63c1-4754-b2e6-955f064bdf50",
   "metadata": {},
   "outputs": [
    {
     "data": {
      "text/html": [
       "<div>\n",
       "<style scoped>\n",
       "    .dataframe tbody tr th:only-of-type {\n",
       "        vertical-align: middle;\n",
       "    }\n",
       "\n",
       "    .dataframe tbody tr th {\n",
       "        vertical-align: top;\n",
       "    }\n",
       "\n",
       "    .dataframe thead th {\n",
       "        text-align: right;\n",
       "    }\n",
       "</style>\n",
       "<table border=\"1\" class=\"dataframe\">\n",
       "  <thead>\n",
       "    <tr style=\"text-align: right;\">\n",
       "      <th></th>\n",
       "      <th>id</th>\n",
       "      <th>article_length</th>\n",
       "    </tr>\n",
       "  </thead>\n",
       "  <tbody>\n",
       "    <tr>\n",
       "      <th>count</th>\n",
       "      <td>4.014100e+04</td>\n",
       "      <td>40141.000000</td>\n",
       "    </tr>\n",
       "    <tr>\n",
       "      <th>mean</th>\n",
       "      <td>5.723879e+07</td>\n",
       "      <td>4690.522209</td>\n",
       "    </tr>\n",
       "    <tr>\n",
       "      <th>std</th>\n",
       "      <td>3.093354e+06</td>\n",
       "      <td>1853.511628</td>\n",
       "    </tr>\n",
       "    <tr>\n",
       "      <th>min</th>\n",
       "      <td>3.672863e+07</td>\n",
       "      <td>816.000000</td>\n",
       "    </tr>\n",
       "    <tr>\n",
       "      <th>25%</th>\n",
       "      <td>5.464829e+07</td>\n",
       "      <td>3287.000000</td>\n",
       "    </tr>\n",
       "    <tr>\n",
       "      <th>50%</th>\n",
       "      <td>5.712484e+07</td>\n",
       "      <td>4438.000000</td>\n",
       "    </tr>\n",
       "    <tr>\n",
       "      <th>75%</th>\n",
       "      <td>5.994633e+07</td>\n",
       "      <td>5818.000000</td>\n",
       "    </tr>\n",
       "    <tr>\n",
       "      <th>max</th>\n",
       "      <td>6.246369e+07</td>\n",
       "      <td>11293.000000</td>\n",
       "    </tr>\n",
       "  </tbody>\n",
       "</table>\n",
       "</div>"
      ],
      "text/plain": [
       "                 id  article_length\n",
       "count  4.014100e+04    40141.000000\n",
       "mean   5.723879e+07     4690.522209\n",
       "std    3.093354e+06     1853.511628\n",
       "min    3.672863e+07      816.000000\n",
       "25%    5.464829e+07     3287.000000\n",
       "50%    5.712484e+07     4438.000000\n",
       "75%    5.994633e+07     5818.000000\n",
       "max    6.246369e+07    11293.000000"
      ]
     },
     "execution_count": 6,
     "metadata": {},
     "output_type": "execute_result"
    }
   ],
   "source": [
    "data.describe()"
   ]
  },
  {
   "cell_type": "code",
   "execution_count": 84,
   "id": "dd4d9579-7276-4f26-8c3d-1e167f1a59fd",
   "metadata": {},
   "outputs": [
    {
     "data": {
      "text/html": [
       "<div>\n",
       "<style scoped>\n",
       "    .dataframe tbody tr th:only-of-type {\n",
       "        vertical-align: middle;\n",
       "    }\n",
       "\n",
       "    .dataframe tbody tr th {\n",
       "        vertical-align: top;\n",
       "    }\n",
       "\n",
       "    .dataframe thead th {\n",
       "        text-align: right;\n",
       "    }\n",
       "</style>\n",
       "<table border=\"1\" class=\"dataframe\">\n",
       "  <thead>\n",
       "    <tr style=\"text-align: right;\">\n",
       "      <th></th>\n",
       "      <th>name</th>\n",
       "      <th>full_text</th>\n",
       "    </tr>\n",
       "  </thead>\n",
       "  <tbody>\n",
       "    <tr>\n",
       "      <th>count</th>\n",
       "      <td>40141</td>\n",
       "      <td>40141</td>\n",
       "    </tr>\n",
       "    <tr>\n",
       "      <th>unique</th>\n",
       "      <td>16669</td>\n",
       "      <td>9332</td>\n",
       "    </tr>\n",
       "    <tr>\n",
       "      <th>top</th>\n",
       "      <td>Jair Bolsonaro</td>\n",
       "      <td>Os Estados Unidos impuseram nesta sexta-feira ...</td>\n",
       "    </tr>\n",
       "    <tr>\n",
       "      <th>freq</th>\n",
       "      <td>1530</td>\n",
       "      <td>10</td>\n",
       "    </tr>\n",
       "  </tbody>\n",
       "</table>\n",
       "</div>"
      ],
      "text/plain": [
       "                  name                                          full_text\n",
       "count            40141                                              40141\n",
       "unique           16669                                               9332\n",
       "top     Jair Bolsonaro  Os Estados Unidos impuseram nesta sexta-feira ...\n",
       "freq              1530                                                 10"
      ]
     },
     "execution_count": 84,
     "metadata": {},
     "output_type": "execute_result"
    }
   ],
   "source": [
    "data.describe(include=['object'])"
   ]
  },
  {
   "cell_type": "markdown",
   "id": "91b4dbbd-f920-4b8f-9ec7-7601d50e1f75",
   "metadata": {
    "tags": []
   },
   "source": [
    "# Remove unnecessary columns"
   ]
  },
  {
   "cell_type": "code",
   "execution_count": 85,
   "id": "93416f8c-af2c-49b3-a225-49bf2b28a632",
   "metadata": {},
   "outputs": [],
   "source": [
    "data = data.drop(columns=['article_length'])"
   ]
  },
  {
   "cell_type": "code",
   "execution_count": 86,
   "id": "2c293cf7-b5bf-4bad-83f8-b47d3217fdf6",
   "metadata": {},
   "outputs": [
    {
     "data": {
      "text/html": [
       "<div>\n",
       "<style scoped>\n",
       "    .dataframe tbody tr th:only-of-type {\n",
       "        vertical-align: middle;\n",
       "    }\n",
       "\n",
       "    .dataframe tbody tr th {\n",
       "        vertical-align: top;\n",
       "    }\n",
       "\n",
       "    .dataframe thead th {\n",
       "        text-align: right;\n",
       "    }\n",
       "</style>\n",
       "<table border=\"1\" class=\"dataframe\">\n",
       "  <thead>\n",
       "    <tr style=\"text-align: right;\">\n",
       "      <th></th>\n",
       "      <th>id</th>\n",
       "      <th>name</th>\n",
       "      <th>full_text</th>\n",
       "    </tr>\n",
       "  </thead>\n",
       "  <tbody>\n",
       "    <tr>\n",
       "      <th>0</th>\n",
       "      <td>54006424</td>\n",
       "      <td>Clemens Tönnies</td>\n",
       "      <td>O presidente do FC Schalke 04 e proprietário ...</td>\n",
       "    </tr>\n",
       "    <tr>\n",
       "      <th>1</th>\n",
       "      <td>54006424</td>\n",
       "      <td>Gerald Asamoah</td>\n",
       "      <td>O presidente do FC Schalke 04 e proprietário ...</td>\n",
       "    </tr>\n",
       "    <tr>\n",
       "      <th>2</th>\n",
       "      <td>54006424</td>\n",
       "      <td>Hans Sarpei</td>\n",
       "      <td>O presidente do FC Schalke 04 e proprietário ...</td>\n",
       "    </tr>\n",
       "    <tr>\n",
       "      <th>3</th>\n",
       "      <td>54006424</td>\n",
       "      <td>Cacau</td>\n",
       "      <td>O presidente do FC Schalke 04 e proprietário ...</td>\n",
       "    </tr>\n",
       "    <tr>\n",
       "      <th>4</th>\n",
       "      <td>54003004</td>\n",
       "      <td>Angela Merkel</td>\n",
       "      <td>Em meados de março, quando o coronavírus com...</td>\n",
       "    </tr>\n",
       "    <tr>\n",
       "      <th>...</th>\n",
       "      <td>...</td>\n",
       "      <td>...</td>\n",
       "      <td>...</td>\n",
       "    </tr>\n",
       "    <tr>\n",
       "      <th>40136</th>\n",
       "      <td>54005845</td>\n",
       "      <td>Von der Leyen</td>\n",
       "      <td>A controversa lei de segurança nacional impos...</td>\n",
       "    </tr>\n",
       "    <tr>\n",
       "      <th>40137</th>\n",
       "      <td>54005845</td>\n",
       "      <td>Charles Michel</td>\n",
       "      <td>A controversa lei de segurança nacional impos...</td>\n",
       "    </tr>\n",
       "    <tr>\n",
       "      <th>40138</th>\n",
       "      <td>54005845</td>\n",
       "      <td>Gyde Jensen</td>\n",
       "      <td>A controversa lei de segurança nacional impos...</td>\n",
       "    </tr>\n",
       "    <tr>\n",
       "      <th>40139</th>\n",
       "      <td>54005845</td>\n",
       "      <td>Angela Merkel</td>\n",
       "      <td>A controversa lei de segurança nacional impos...</td>\n",
       "    </tr>\n",
       "    <tr>\n",
       "      <th>40140</th>\n",
       "      <td>54005845</td>\n",
       "      <td>Julian Braithwaite</td>\n",
       "      <td>A controversa lei de segurança nacional impos...</td>\n",
       "    </tr>\n",
       "  </tbody>\n",
       "</table>\n",
       "<p>40141 rows × 3 columns</p>\n",
       "</div>"
      ],
      "text/plain": [
       "             id                name  \\\n",
       "0      54006424    Clemens Tönnies   \n",
       "1      54006424      Gerald Asamoah   \n",
       "2      54006424         Hans Sarpei   \n",
       "3      54006424               Cacau   \n",
       "4      54003004       Angela Merkel   \n",
       "...         ...                 ...   \n",
       "40136  54005845       Von der Leyen   \n",
       "40137  54005845      Charles Michel   \n",
       "40138  54005845         Gyde Jensen   \n",
       "40139  54005845       Angela Merkel   \n",
       "40140  54005845  Julian Braithwaite   \n",
       "\n",
       "                                               full_text  \n",
       "0      O presidente do FC Schalke 04 e proprietário ...  \n",
       "1      O presidente do FC Schalke 04 e proprietário ...  \n",
       "2      O presidente do FC Schalke 04 e proprietário ...  \n",
       "3      O presidente do FC Schalke 04 e proprietário ...  \n",
       "4      Em meados de março, quando o coronavírus com...  \n",
       "...                                                  ...  \n",
       "40136  A controversa lei de segurança nacional impos...  \n",
       "40137  A controversa lei de segurança nacional impos...  \n",
       "40138  A controversa lei de segurança nacional impos...  \n",
       "40139  A controversa lei de segurança nacional impos...  \n",
       "40140  A controversa lei de segurança nacional impos...  \n",
       "\n",
       "[40141 rows x 3 columns]"
      ]
     },
     "execution_count": 86,
     "metadata": {},
     "output_type": "execute_result"
    }
   ],
   "source": [
    "data"
   ]
  },
  {
   "cell_type": "markdown",
   "id": "9deb1f90-c87c-41fe-a3ac-79ac5a7e34c2",
   "metadata": {},
   "source": [
    "# Check that all names are actually in the article text"
   ]
  },
  {
   "cell_type": "code",
   "execution_count": 87,
   "id": "e78832fe-b256-43b6-bd30-f4e46b551e97",
   "metadata": {},
   "outputs": [],
   "source": [
    "names_not_in_text=[]\n",
    "for row in data.itertuples():\n",
    "    if not row.name in row.full_text:\n",
    "        names_not_in_text.append(row.Index)"
   ]
  },
  {
   "cell_type": "code",
   "execution_count": 88,
   "id": "0724067e-ba5c-49bd-8c69-994c4607cfb6",
   "metadata": {},
   "outputs": [
    {
     "data": {
      "text/html": [
       "<div>\n",
       "<style scoped>\n",
       "    .dataframe tbody tr th:only-of-type {\n",
       "        vertical-align: middle;\n",
       "    }\n",
       "\n",
       "    .dataframe tbody tr th {\n",
       "        vertical-align: top;\n",
       "    }\n",
       "\n",
       "    .dataframe thead th {\n",
       "        text-align: right;\n",
       "    }\n",
       "</style>\n",
       "<table border=\"1\" class=\"dataframe\">\n",
       "  <thead>\n",
       "    <tr style=\"text-align: right;\">\n",
       "      <th></th>\n",
       "      <th>id</th>\n",
       "      <th>name</th>\n",
       "      <th>full_text</th>\n",
       "    </tr>\n",
       "  </thead>\n",
       "  <tbody>\n",
       "    <tr>\n",
       "      <th>70</th>\n",
       "      <td>54029587</td>\n",
       "      <td>Annegret Kramp - Karrenbauer</td>\n",
       "      <td>A ministra alemã da Defesa, Annegret Kramp-Ka...</td>\n",
       "    </tr>\n",
       "    <tr>\n",
       "      <th>106</th>\n",
       "      <td>54026231</td>\n",
       "      <td>Yedi López - Cotarelo</td>\n",
       "      <td>Cuba retorna lentamente ao normal. Em todo o p...</td>\n",
       "    </tr>\n",
       "    <tr>\n",
       "      <th>129</th>\n",
       "      <td>54036868</td>\n",
       "      <td>Jean - Yves Le Drian</td>\n",
       "      <td>O primeiro-ministro francês, Edouard Philippe...</td>\n",
       "    </tr>\n",
       "    <tr>\n",
       "      <th>152</th>\n",
       "      <td>54037037</td>\n",
       "      <td>M. O</td>\n",
       "      <td>Decisões do Supremo Tribunal Federal (STF) in...</td>\n",
       "    </tr>\n",
       "    <tr>\n",
       "      <th>166</th>\n",
       "      <td>54044041</td>\n",
       "      <td>Jean - Yves Drian</td>\n",
       "      <td>Às 10 horas da manhã desta sexta-feira (03/0...</td>\n",
       "    </tr>\n",
       "    <tr>\n",
       "      <th>...</th>\n",
       "      <td>...</td>\n",
       "      <td>...</td>\n",
       "      <td>...</td>\n",
       "    </tr>\n",
       "    <tr>\n",
       "      <th>39921</th>\n",
       "      <td>53932221</td>\n",
       "      <td>Claudia Azevedo - Ramos</td>\n",
       "      <td>A Amazônia tem 23% de suas terras públicas n...</td>\n",
       "    </tr>\n",
       "    <tr>\n",
       "      <th>39925</th>\n",
       "      <td>53932071</td>\n",
       "      <td>Kim Yo - jong</td>\n",
       "      <td>Em 24 de junho de 1950, tanques norte-coreanos...</td>\n",
       "    </tr>\n",
       "    <tr>\n",
       "      <th>39926</th>\n",
       "      <td>53932071</td>\n",
       "      <td>Kim Jong - un</td>\n",
       "      <td>Em 24 de junho de 1950, tanques norte-coreanos...</td>\n",
       "    </tr>\n",
       "    <tr>\n",
       "      <th>40061</th>\n",
       "      <td>53979535</td>\n",
       "      <td>Jean - Luc Mélenchon</td>\n",
       "      <td>O partido do presidente Emmanuel Macron sofreu...</td>\n",
       "    </tr>\n",
       "    <tr>\n",
       "      <th>40098</th>\n",
       "      <td>53993751</td>\n",
       "      <td>Tam Yiu - chung</td>\n",
       "      <td>A China confirmou que aprovou nesta terça-fei...</td>\n",
       "    </tr>\n",
       "  </tbody>\n",
       "</table>\n",
       "<p>1149 rows × 3 columns</p>\n",
       "</div>"
      ],
      "text/plain": [
       "             id                          name  \\\n",
       "70     54029587  Annegret Kramp - Karrenbauer   \n",
       "106    54026231        Yedi López - Cotarelo   \n",
       "129    54036868          Jean - Yves Le Drian   \n",
       "152    54037037                          M. O   \n",
       "166    54044041             Jean - Yves Drian   \n",
       "...         ...                           ...   \n",
       "39921  53932221       Claudia Azevedo - Ramos   \n",
       "39925  53932071                 Kim Yo - jong   \n",
       "39926  53932071                 Kim Jong - un   \n",
       "40061  53979535         Jean - Luc Mélenchon   \n",
       "40098  53993751               Tam Yiu - chung   \n",
       "\n",
       "                                               full_text  \n",
       "70     A ministra alemã da Defesa, Annegret Kramp-Ka...  \n",
       "106    Cuba retorna lentamente ao normal. Em todo o p...  \n",
       "129    O primeiro-ministro francês, Edouard Philippe...  \n",
       "152    Decisões do Supremo Tribunal Federal (STF) in...  \n",
       "166    Às 10 horas da manhã desta sexta-feira (03/0...  \n",
       "...                                                  ...  \n",
       "39921  A Amazônia tem 23% de suas terras públicas n...  \n",
       "39925  Em 24 de junho de 1950, tanques norte-coreanos...  \n",
       "39926  Em 24 de junho de 1950, tanques norte-coreanos...  \n",
       "40061  O partido do presidente Emmanuel Macron sofreu...  \n",
       "40098  A China confirmou que aprovou nesta terça-fei...  \n",
       "\n",
       "[1149 rows x 3 columns]"
      ]
     },
     "execution_count": 88,
     "metadata": {},
     "output_type": "execute_result"
    }
   ],
   "source": [
    "data.loc[names_not_in_text]"
   ]
  },
  {
   "cell_type": "markdown",
   "id": "141fe96b-d35f-45a1-bba1-500bef1e86cb",
   "metadata": {},
   "source": [
    "It seems that there is a difficulty when dashes are part of the name. **This has to do with the NER, which may have returned a different unicode (compared to the one in the original article text) when extarcting the names**.\n",
    "\n",
    "Let us see if that is the whole issue."
   ]
  },
  {
   "cell_type": "code",
   "execution_count": 89,
   "id": "153a8dbd-098e-4d44-b77c-5ae90739fcf6",
   "metadata": {},
   "outputs": [],
   "source": [
    "names_with_dash=[]\n",
    "for row in data.itertuples():\n",
    "    if ' - ' in row.name:\n",
    "        names_with_dash.append(row.Index)"
   ]
  },
  {
   "cell_type": "code",
   "execution_count": 90,
   "id": "2e1e81a6-532d-48b9-8a02-e85f2f4470c8",
   "metadata": {},
   "outputs": [
    {
     "data": {
      "text/plain": [
       "1088"
      ]
     },
     "execution_count": 90,
     "metadata": {},
     "output_type": "execute_result"
    }
   ],
   "source": [
    "len(names_with_dash)"
   ]
  },
  {
   "cell_type": "code",
   "execution_count": 91,
   "id": "1d9f2cf4-5d1e-4c36-b73a-884be7c066f3",
   "metadata": {},
   "outputs": [
    {
     "data": {
      "text/html": [
       "<div>\n",
       "<style scoped>\n",
       "    .dataframe tbody tr th:only-of-type {\n",
       "        vertical-align: middle;\n",
       "    }\n",
       "\n",
       "    .dataframe tbody tr th {\n",
       "        vertical-align: top;\n",
       "    }\n",
       "\n",
       "    .dataframe thead th {\n",
       "        text-align: right;\n",
       "    }\n",
       "</style>\n",
       "<table border=\"1\" class=\"dataframe\">\n",
       "  <thead>\n",
       "    <tr style=\"text-align: right;\">\n",
       "      <th></th>\n",
       "      <th>id</th>\n",
       "      <th>name</th>\n",
       "      <th>full_text</th>\n",
       "    </tr>\n",
       "  </thead>\n",
       "  <tbody>\n",
       "    <tr>\n",
       "      <th>22656</th>\n",
       "      <td>61969974</td>\n",
       "      <td>Federico \" Fico \" Gutiérrez</td>\n",
       "      <td>O candidato de esquerda Gustavo Petro e o empr...</td>\n",
       "    </tr>\n",
       "    <tr>\n",
       "      <th>39044</th>\n",
       "      <td>53704930</td>\n",
       "      <td>Robert O ’ Brien</td>\n",
       "      <td>O presidente dos Estados Unidos, Donald Trump,...</td>\n",
       "    </tr>\n",
       "    <tr>\n",
       "      <th>23300</th>\n",
       "      <td>62111436</td>\n",
       "      <td>\" Pelado \"</td>\n",
       "      <td>A Polícia Federal (PF) afirmou neste domingo ...</td>\n",
       "    </tr>\n",
       "    <tr>\n",
       "      <th>5508</th>\n",
       "      <td>55466164</td>\n",
       "      <td>Jaroslav Nad '</td>\n",
       "      <td>O governo da Eslováquia informou neste doming...</td>\n",
       "    </tr>\n",
       "    <tr>\n",
       "      <th>25991</th>\n",
       "      <td>58710325</td>\n",
       "      <td>Fernando Henrique [ Cardoso</td>\n",
       "      <td>Para o cineasta Luiz Bolognesi, o fogo que ati...</td>\n",
       "    </tr>\n",
       "    <tr>\n",
       "      <th>...</th>\n",
       "      <td>...</td>\n",
       "      <td>...</td>\n",
       "      <td>...</td>\n",
       "    </tr>\n",
       "    <tr>\n",
       "      <th>26618</th>\n",
       "      <td>58866305</td>\n",
       "      <td>Jorge \" Tigre \" Acosta</td>\n",
       "      <td>A justiça argentina sentenciou nesta sexta-fe...</td>\n",
       "    </tr>\n",
       "    <tr>\n",
       "      <th>26619</th>\n",
       "      <td>58866305</td>\n",
       "      <td>Alberto \" Gato \" González</td>\n",
       "      <td>A justiça argentina sentenciou nesta sexta-fe...</td>\n",
       "    </tr>\n",
       "    <tr>\n",
       "      <th>18941</th>\n",
       "      <td>61085218</td>\n",
       "      <td>Fernanda *</td>\n",
       "      <td>\"Eu já vi mulher defecar no chão durante a r...</td>\n",
       "    </tr>\n",
       "    <tr>\n",
       "      <th>3070</th>\n",
       "      <td>54838911</td>\n",
       "      <td>Abraham ] Weintraub</td>\n",
       "      <td>Pouco mais de dois anos atrás, quando o diret...</td>\n",
       "    </tr>\n",
       "    <tr>\n",
       "      <th>3071</th>\n",
       "      <td>54838911</td>\n",
       "      <td>Ricardo ] Salles</td>\n",
       "      <td>Pouco mais de dois anos atrás, quando o diret...</td>\n",
       "    </tr>\n",
       "  </tbody>\n",
       "</table>\n",
       "<p>61 rows × 3 columns</p>\n",
       "</div>"
      ],
      "text/plain": [
       "             id                          name  \\\n",
       "22656  61969974  Federico \" Fico \" Gutiérrez   \n",
       "39044  53704930              Robert O ’ Brien   \n",
       "23300  62111436                    \" Pelado \"   \n",
       "5508   55466164                Jaroslav Nad '   \n",
       "25991  58710325   Fernando Henrique [ Cardoso   \n",
       "...         ...                           ...   \n",
       "26618  58866305        Jorge \" Tigre \" Acosta   \n",
       "26619  58866305    Alberto \" Gato \" González   \n",
       "18941  61085218                    Fernanda *   \n",
       "3070   54838911           Abraham ] Weintraub   \n",
       "3071   54838911              Ricardo ] Salles   \n",
       "\n",
       "                                               full_text  \n",
       "22656  O candidato de esquerda Gustavo Petro e o empr...  \n",
       "39044  O presidente dos Estados Unidos, Donald Trump,...  \n",
       "23300  A Polícia Federal (PF) afirmou neste domingo ...  \n",
       "5508   O governo da Eslováquia informou neste doming...  \n",
       "25991  Para o cineasta Luiz Bolognesi, o fogo que ati...  \n",
       "...                                                  ...  \n",
       "26618  A justiça argentina sentenciou nesta sexta-fe...  \n",
       "26619  A justiça argentina sentenciou nesta sexta-fe...  \n",
       "18941  \"Eu já vi mulher defecar no chão durante a r...  \n",
       "3070   Pouco mais de dois anos atrás, quando o diret...  \n",
       "3071   Pouco mais de dois anos atrás, quando o diret...  \n",
       "\n",
       "[61 rows x 3 columns]"
      ]
     },
     "execution_count": 91,
     "metadata": {},
     "output_type": "execute_result"
    }
   ],
   "source": [
    "data.loc[list(set(names_not_in_text)-set(names_with_dash))]"
   ]
  },
  {
   "cell_type": "markdown",
   "id": "13865cee-a79b-4bec-9e06-0ba4542ec921",
   "metadata": {},
   "source": [
    "It seems that are 61 names without dashes in it that are also problematic. Judging by the table above, those seems to be cases where the NER got confused. "
   ]
  },
  {
   "cell_type": "markdown",
   "id": "11e85c4c-4a97-417c-93c4-bd2413a8e88e",
   "metadata": {},
   "source": [
    "Fortunatelly, all cases in which the name is \"not in the article text\" amount to 1149 cases. Thas corresponds to a small percentage of the inference data."
   ]
  },
  {
   "cell_type": "code",
   "execution_count": 7,
   "id": "64441812-76be-4ccc-883c-e6ddc97011b2",
   "metadata": {},
   "outputs": [
    {
     "name": "stdout",
     "output_type": "stream",
     "text": [
      "2.862410004733315%\n"
     ]
    }
   ],
   "source": [
    "print(f'{100*(1149/40141)}%')"
   ]
  },
  {
   "cell_type": "markdown",
   "id": "40c08307-db37-403a-8b03-82986acc4623",
   "metadata": {},
   "source": [
    "We will remove those 1149 cases"
   ]
  },
  {
   "cell_type": "code",
   "execution_count": 93,
   "id": "007c41ff-5773-4652-a5e3-5ea96819c727",
   "metadata": {},
   "outputs": [
    {
     "data": {
      "text/plain": [
       "1149"
      ]
     },
     "execution_count": 93,
     "metadata": {},
     "output_type": "execute_result"
    }
   ],
   "source": [
    "len(names_not_in_text)"
   ]
  },
  {
   "cell_type": "markdown",
   "id": "5b15222f-3be1-49e2-9692-c47218458aa4",
   "metadata": {},
   "source": [
    "## Remove problematic inputs"
   ]
  },
  {
   "cell_type": "code",
   "execution_count": 94,
   "id": "1d07d5d3-81a7-4ace-ba70-1103c0e3da0f",
   "metadata": {
    "tags": []
   },
   "outputs": [],
   "source": [
    "data = data.drop(names_not_in_text)"
   ]
  },
  {
   "cell_type": "markdown",
   "id": "a8b2b2b1-4f06-456b-bee6-ccb183c6e0a8",
   "metadata": {},
   "source": [
    "Check result"
   ]
  },
  {
   "cell_type": "code",
   "execution_count": 95,
   "id": "ed8cc829-61d5-430b-9894-ea918a5445f8",
   "metadata": {},
   "outputs": [],
   "source": [
    "names_not_in_text=[]\n",
    "for row in data.itertuples():\n",
    "    if not row.name in row.full_text:\n",
    "        names_not_in_text.append(row.Index)"
   ]
  },
  {
   "cell_type": "code",
   "execution_count": 96,
   "id": "da340374-0d64-4552-8df0-ad2f331b691f",
   "metadata": {},
   "outputs": [
    {
     "data": {
      "text/plain": [
       "0"
      ]
     },
     "execution_count": 96,
     "metadata": {},
     "output_type": "execute_result"
    }
   ],
   "source": [
    "len(names_not_in_text)"
   ]
  },
  {
   "cell_type": "code",
   "execution_count": 97,
   "id": "dd6eae15-b1b0-4f8a-8186-4abb3d202b4d",
   "metadata": {},
   "outputs": [],
   "source": [
    "data = data.reset_index(drop=True)"
   ]
  },
  {
   "cell_type": "code",
   "execution_count": 98,
   "id": "630b23ae-299f-41c6-8b44-100b06b0472d",
   "metadata": {},
   "outputs": [
    {
     "data": {
      "text/html": [
       "<div>\n",
       "<style scoped>\n",
       "    .dataframe tbody tr th:only-of-type {\n",
       "        vertical-align: middle;\n",
       "    }\n",
       "\n",
       "    .dataframe tbody tr th {\n",
       "        vertical-align: top;\n",
       "    }\n",
       "\n",
       "    .dataframe thead th {\n",
       "        text-align: right;\n",
       "    }\n",
       "</style>\n",
       "<table border=\"1\" class=\"dataframe\">\n",
       "  <thead>\n",
       "    <tr style=\"text-align: right;\">\n",
       "      <th></th>\n",
       "      <th>id</th>\n",
       "      <th>name</th>\n",
       "      <th>full_text</th>\n",
       "    </tr>\n",
       "  </thead>\n",
       "  <tbody>\n",
       "    <tr>\n",
       "      <th>0</th>\n",
       "      <td>54006424</td>\n",
       "      <td>Clemens Tönnies</td>\n",
       "      <td>O presidente do FC Schalke 04 e proprietário ...</td>\n",
       "    </tr>\n",
       "    <tr>\n",
       "      <th>1</th>\n",
       "      <td>54006424</td>\n",
       "      <td>Gerald Asamoah</td>\n",
       "      <td>O presidente do FC Schalke 04 e proprietário ...</td>\n",
       "    </tr>\n",
       "    <tr>\n",
       "      <th>2</th>\n",
       "      <td>54006424</td>\n",
       "      <td>Hans Sarpei</td>\n",
       "      <td>O presidente do FC Schalke 04 e proprietário ...</td>\n",
       "    </tr>\n",
       "    <tr>\n",
       "      <th>3</th>\n",
       "      <td>54006424</td>\n",
       "      <td>Cacau</td>\n",
       "      <td>O presidente do FC Schalke 04 e proprietário ...</td>\n",
       "    </tr>\n",
       "    <tr>\n",
       "      <th>4</th>\n",
       "      <td>54003004</td>\n",
       "      <td>Angela Merkel</td>\n",
       "      <td>Em meados de março, quando o coronavírus com...</td>\n",
       "    </tr>\n",
       "    <tr>\n",
       "      <th>...</th>\n",
       "      <td>...</td>\n",
       "      <td>...</td>\n",
       "      <td>...</td>\n",
       "    </tr>\n",
       "    <tr>\n",
       "      <th>38987</th>\n",
       "      <td>54005845</td>\n",
       "      <td>Von der Leyen</td>\n",
       "      <td>A controversa lei de segurança nacional impos...</td>\n",
       "    </tr>\n",
       "    <tr>\n",
       "      <th>38988</th>\n",
       "      <td>54005845</td>\n",
       "      <td>Charles Michel</td>\n",
       "      <td>A controversa lei de segurança nacional impos...</td>\n",
       "    </tr>\n",
       "    <tr>\n",
       "      <th>38989</th>\n",
       "      <td>54005845</td>\n",
       "      <td>Gyde Jensen</td>\n",
       "      <td>A controversa lei de segurança nacional impos...</td>\n",
       "    </tr>\n",
       "    <tr>\n",
       "      <th>38990</th>\n",
       "      <td>54005845</td>\n",
       "      <td>Angela Merkel</td>\n",
       "      <td>A controversa lei de segurança nacional impos...</td>\n",
       "    </tr>\n",
       "    <tr>\n",
       "      <th>38991</th>\n",
       "      <td>54005845</td>\n",
       "      <td>Julian Braithwaite</td>\n",
       "      <td>A controversa lei de segurança nacional impos...</td>\n",
       "    </tr>\n",
       "  </tbody>\n",
       "</table>\n",
       "<p>38992 rows × 3 columns</p>\n",
       "</div>"
      ],
      "text/plain": [
       "             id                name  \\\n",
       "0      54006424    Clemens Tönnies   \n",
       "1      54006424      Gerald Asamoah   \n",
       "2      54006424         Hans Sarpei   \n",
       "3      54006424               Cacau   \n",
       "4      54003004       Angela Merkel   \n",
       "...         ...                 ...   \n",
       "38987  54005845       Von der Leyen   \n",
       "38988  54005845      Charles Michel   \n",
       "38989  54005845         Gyde Jensen   \n",
       "38990  54005845       Angela Merkel   \n",
       "38991  54005845  Julian Braithwaite   \n",
       "\n",
       "                                               full_text  \n",
       "0      O presidente do FC Schalke 04 e proprietário ...  \n",
       "1      O presidente do FC Schalke 04 e proprietário ...  \n",
       "2      O presidente do FC Schalke 04 e proprietário ...  \n",
       "3      O presidente do FC Schalke 04 e proprietário ...  \n",
       "4      Em meados de março, quando o coronavírus com...  \n",
       "...                                                  ...  \n",
       "38987  A controversa lei de segurança nacional impos...  \n",
       "38988  A controversa lei de segurança nacional impos...  \n",
       "38989  A controversa lei de segurança nacional impos...  \n",
       "38990  A controversa lei de segurança nacional impos...  \n",
       "38991  A controversa lei de segurança nacional impos...  \n",
       "\n",
       "[38992 rows x 3 columns]"
      ]
     },
     "execution_count": 98,
     "metadata": {},
     "output_type": "execute_result"
    }
   ],
   "source": [
    "data"
   ]
  },
  {
   "cell_type": "markdown",
   "id": "1153fc29-d406-4cbb-9837-c4e303dfcb3c",
   "metadata": {},
   "source": [
    "# Conform to use input string whose length does not exceed 512 characters"
   ]
  },
  {
   "cell_type": "code",
   "execution_count": 99,
   "id": "4508f836-a8f9-4231-9555-0f4af288e363",
   "metadata": {},
   "outputs": [],
   "source": [
    "new_full_text = []\n",
    "for row in data.itertuples():\n",
    "    name = row.name\n",
    "    full_text = row.full_text\n",
    "    \n",
    "    # Split full text into sentences\n",
    "    sentences = full_text.split('. ')\n",
    "    for i in range(len(sentences)-1):\n",
    "        sentences[i] = sentences[i]+'.' # Add dot that was removed when splitting\n",
    "\n",
    "    # Find name occurrences\n",
    "    name_occurrences = []\n",
    "    for i in range(len(sentences)):\n",
    "        if name in sentences[i]:\n",
    "            name_occurrences.append(i)\n",
    "    \n",
    "    # First ocurrence\n",
    "    name_occurrence = np.min(name_occurrences)\n",
    "    \n",
    "    # Append sentences one by one until it gets too large\n",
    "    max_num_of_characters = 420\n",
    "    max_num_of_sentences_to_append = 7\n",
    "    new_sentence = sentences[name_occurrence]\n",
    "    for i in range(2,max_num_of_sentences_to_append+2):\n",
    "        _new_sentence = ' '.join(sentences[name_occurrence:name_occurrence+i])\n",
    "        if len(_new_sentence) <= max_num_of_characters:\n",
    "            new_sentence = _new_sentence\n",
    "            \n",
    "    # Collect new input\n",
    "    new_full_text.append(new_sentence)"
   ]
  },
  {
   "cell_type": "code",
   "execution_count": 100,
   "id": "545d9ace-0f4f-43a2-bdab-99a23ec41799",
   "metadata": {},
   "outputs": [],
   "source": [
    "data['new_full_text'] = new_full_text"
   ]
  },
  {
   "cell_type": "code",
   "execution_count": 101,
   "id": "552c39bd-838a-48b8-876f-043c980a96bd",
   "metadata": {},
   "outputs": [
    {
     "data": {
      "text/html": [
       "<div>\n",
       "<style scoped>\n",
       "    .dataframe tbody tr th:only-of-type {\n",
       "        vertical-align: middle;\n",
       "    }\n",
       "\n",
       "    .dataframe tbody tr th {\n",
       "        vertical-align: top;\n",
       "    }\n",
       "\n",
       "    .dataframe thead th {\n",
       "        text-align: right;\n",
       "    }\n",
       "</style>\n",
       "<table border=\"1\" class=\"dataframe\">\n",
       "  <thead>\n",
       "    <tr style=\"text-align: right;\">\n",
       "      <th></th>\n",
       "      <th>id</th>\n",
       "      <th>name</th>\n",
       "      <th>full_text</th>\n",
       "      <th>new_full_text</th>\n",
       "    </tr>\n",
       "  </thead>\n",
       "  <tbody>\n",
       "    <tr>\n",
       "      <th>0</th>\n",
       "      <td>54006424</td>\n",
       "      <td>Clemens Tönnies</td>\n",
       "      <td>O presidente do FC Schalke 04 e proprietário ...</td>\n",
       "      <td>O presidente do FC Schalke 04 e proprietário ...</td>\n",
       "    </tr>\n",
       "    <tr>\n",
       "      <th>1</th>\n",
       "      <td>54006424</td>\n",
       "      <td>Gerald Asamoah</td>\n",
       "      <td>O presidente do FC Schalke 04 e proprietário ...</td>\n",
       "      <td>No mês de agosto, durante um evento do clube,...</td>\n",
       "    </tr>\n",
       "    <tr>\n",
       "      <th>2</th>\n",
       "      <td>54006424</td>\n",
       "      <td>Hans Sarpei</td>\n",
       "      <td>O presidente do FC Schalke 04 e proprietário ...</td>\n",
       "      <td>No mês de agosto, durante um evento do clube,...</td>\n",
       "    </tr>\n",
       "    <tr>\n",
       "      <th>3</th>\n",
       "      <td>54006424</td>\n",
       "      <td>Cacau</td>\n",
       "      <td>O presidente do FC Schalke 04 e proprietário ...</td>\n",
       "      <td>No mês de agosto, durante um evento do clube,...</td>\n",
       "    </tr>\n",
       "    <tr>\n",
       "      <th>4</th>\n",
       "      <td>54003004</td>\n",
       "      <td>Angela Merkel</td>\n",
       "      <td>Em meados de março, quando o coronavírus com...</td>\n",
       "      <td>Em meados de março, quando o coronavírus com...</td>\n",
       "    </tr>\n",
       "    <tr>\n",
       "      <th>...</th>\n",
       "      <td>...</td>\n",
       "      <td>...</td>\n",
       "      <td>...</td>\n",
       "      <td>...</td>\n",
       "    </tr>\n",
       "    <tr>\n",
       "      <th>38987</th>\n",
       "      <td>54005845</td>\n",
       "      <td>Von der Leyen</td>\n",
       "      <td>A controversa lei de segurança nacional impos...</td>\n",
       "      <td>Von der Leyen acrescentou que a UE discute med...</td>\n",
       "    </tr>\n",
       "    <tr>\n",
       "      <th>38988</th>\n",
       "      <td>54005845</td>\n",
       "      <td>Charles Michel</td>\n",
       "      <td>A controversa lei de segurança nacional impos...</td>\n",
       "      <td>O presidente do Conselho Europeu, Charles Mich...</td>\n",
       "    </tr>\n",
       "    <tr>\n",
       "      <th>38989</th>\n",
       "      <td>54005845</td>\n",
       "      <td>Gyde Jensen</td>\n",
       "      <td>A controversa lei de segurança nacional impos...</td>\n",
       "      <td>Na Alemanha, a presidente do Comitê de Direit...</td>\n",
       "    </tr>\n",
       "    <tr>\n",
       "      <th>38990</th>\n",
       "      <td>54005845</td>\n",
       "      <td>Angela Merkel</td>\n",
       "      <td>A controversa lei de segurança nacional impos...</td>\n",
       "      <td>Na Alemanha, a presidente do Comitê de Direit...</td>\n",
       "    </tr>\n",
       "    <tr>\n",
       "      <th>38991</th>\n",
       "      <td>54005845</td>\n",
       "      <td>Julian Braithwaite</td>\n",
       "      <td>A controversa lei de segurança nacional impos...</td>\n",
       "      <td>O embaixador da ONU em Genebra, Julian Braithw...</td>\n",
       "    </tr>\n",
       "  </tbody>\n",
       "</table>\n",
       "<p>38992 rows × 4 columns</p>\n",
       "</div>"
      ],
      "text/plain": [
       "             id                name  \\\n",
       "0      54006424    Clemens Tönnies   \n",
       "1      54006424      Gerald Asamoah   \n",
       "2      54006424         Hans Sarpei   \n",
       "3      54006424               Cacau   \n",
       "4      54003004       Angela Merkel   \n",
       "...         ...                 ...   \n",
       "38987  54005845       Von der Leyen   \n",
       "38988  54005845      Charles Michel   \n",
       "38989  54005845         Gyde Jensen   \n",
       "38990  54005845       Angela Merkel   \n",
       "38991  54005845  Julian Braithwaite   \n",
       "\n",
       "                                               full_text  \\\n",
       "0      O presidente do FC Schalke 04 e proprietário ...   \n",
       "1      O presidente do FC Schalke 04 e proprietário ...   \n",
       "2      O presidente do FC Schalke 04 e proprietário ...   \n",
       "3      O presidente do FC Schalke 04 e proprietário ...   \n",
       "4      Em meados de março, quando o coronavírus com...   \n",
       "...                                                  ...   \n",
       "38987  A controversa lei de segurança nacional impos...   \n",
       "38988  A controversa lei de segurança nacional impos...   \n",
       "38989  A controversa lei de segurança nacional impos...   \n",
       "38990  A controversa lei de segurança nacional impos...   \n",
       "38991  A controversa lei de segurança nacional impos...   \n",
       "\n",
       "                                           new_full_text  \n",
       "0      O presidente do FC Schalke 04 e proprietário ...  \n",
       "1      No mês de agosto, durante um evento do clube,...  \n",
       "2      No mês de agosto, durante um evento do clube,...  \n",
       "3      No mês de agosto, durante um evento do clube,...  \n",
       "4      Em meados de março, quando o coronavírus com...  \n",
       "...                                                  ...  \n",
       "38987  Von der Leyen acrescentou que a UE discute med...  \n",
       "38988  O presidente do Conselho Europeu, Charles Mich...  \n",
       "38989  Na Alemanha, a presidente do Comitê de Direit...  \n",
       "38990  Na Alemanha, a presidente do Comitê de Direit...  \n",
       "38991  O embaixador da ONU em Genebra, Julian Braithw...  \n",
       "\n",
       "[38992 rows x 4 columns]"
      ]
     },
     "execution_count": 101,
     "metadata": {},
     "output_type": "execute_result"
    }
   ],
   "source": [
    "data"
   ]
  },
  {
   "cell_type": "markdown",
   "id": "0fca40fa-0075-4f03-bf6d-5a2c3bfdb171",
   "metadata": {},
   "source": [
    "Check"
   ]
  },
  {
   "cell_type": "code",
   "execution_count": 102,
   "id": "0aeaadd8-e250-4430-8089-b89d2bfd3749",
   "metadata": {},
   "outputs": [
    {
     "name": "stdout",
     "output_type": "stream",
     "text": [
      "Priscila Naves Tardelli\n",
      "\n",
      "Decisões do Supremo Tribunal Federal (STF) influenciam todas as instâncias inferiores do Poder Judiciário. Por esse motivo, causou repercussão entre advogados criminalistas o fato de, especialmente no contexto da atual pandemia, a ministra do STF Rosa Weber negar, na última terça-feira (30/06), um pedido de liminar para que um jovem condenado pelo furto de dois xampus, no valor de 10 reais cada, cumprisse penas alternativas. O jovem em questão tem outros furtos na ficha de antecedentes. Em sua decisão, a ministra destaca trechos da condenação pelo juiz de primeira instância, que se baseou na reincidência para afirmar que o jovem não tem condições de \"conviver em sociedade\", ainda que o valor dos xampus seja irrisório. A decisão intensifica um debate que tem criado divisões no meio jurídico durante a pandemia. No dia 17 de março, quando os números da covid-19 no país ainda estavam longe dos atuais, o Conselho Nacional de Justiça (CNJ) editou a Recomendação 62/2020. Entre outros pontos, o texto incentiva magistrados a reverem prisões de pessoas que integrem grupos de risco, estejam em final de pena ou não tenham cometido crimes violentos nem pertençam a organizações criminosas. O posicionamento do CNJ, renovado em 12 de junho por mais três meses, lembra os riscos à saúde dos detentos e de toda a sociedade, uma vez que servidores do sistema levam a doença para fora das unidades. O texto assinala ainda o reconhecimento pelo STF do \"estado de coisas inconstitucional\" no sistema penitenciário brasileiro na Arguição de Descumprimento de Preceito Fundamental (ADPF) no 347. Segundo o Conselho Nacional do Ministério Público (CNMP), a taxa de ocupação média nos 1.408 estabelecimentos penais no país é de 165,72%. Um levantamento da Agência Pública mostra que quatro em cada dez unidades não possui consultório médico, enquanto a população carcerária registra uma incidência de tuberculose 35 vezes maior do que a população livre. Na época em que a recomendação do CNJ foi publicada, a Corte Interamericana de Direitos Humanos pediu que os demais países adotassem as medidas propostas. A iniciativa também foi elogiada pelo Alto Comissariado das Nações Unidas para os Direitos Humanos (ACNUDH), em carta de apoio divulgada no dia 6 de abril. De acordo com a Constituição Federal, cabe ao CNJ a fiscalização e normatização do Poder Judiciário e atos praticados por seus órgãos. Entretanto, a própria carta magna reconhece a liberdade de decisão dos magistrados. Portanto, recomendações do Conselho não precisam ser acatadas obrigatoriamente por juízes e desembargadores. Eloísa Machado, professora de Direito Constitucional e coordenadora do projeto Supremo em Pauta, na Fundação Getúlio Vargas (FGV), lembra que o STF contribuiu para esvaziar o peso da recomendação do CNJ, apesar de ambos os órgãos serem presididos pelo ministro Dias Toffoli. \"Diante de uma provocação para aplicação compulsória dessa recomendação, o STF entendeu que se tratava apenas de uma orientação geral, sem nenhum tipo de imposição para os magistrados reverem prisões provisórias ou evitarem novas prisões. Isso serviu de estímulo para juízes que já usavam de maneira excessiva a prisão provisória e não se sentiram instados a rever essas prisões, muitas delas abusivas\", avalia. Com 773.151 pessoas presas, segundo dados do Departamento Penitenciário Nacional (Depen), o Brasil tem a terceira maior população carcerária do mundo. Desse total, 33% correspondem a presos provisórios, que ainda não foram julgados. Casos como o que teve liminar rejeitada pela ministra Rosa Weber nesta semana mobilizaram um mutirão voluntário de cem associados do Instituto de Defesa do Direito de Defesa (IDDD) em São Paulo. Eles acompanham 531 processos atualmente. O IDDD obteve decisões favoráveis na Justiça em 71 desses casos – 22 na primeira instância; 18 na segunda; 29 no STJ e dois no STF. Há recursos aguardando análise há mais de dois meses. Das seis decisões referentes a casos acompanhados por um único advogado, nenhuma mencionou a proposição do Conselho Nacional de Justiça. Uma crítica recorrente entre os membros do grupo são os erros em trechos de decisões – que indicariam um método \"copia e cola\" –, mesmo em instâncias mais elevadas, como o Superior Tribunal de Justiça (STJ). \"A postura geral do Judiciário é conservadora e deixa de considerar coisas importantes. A prisão cautelar (provisória) é entendida como uma absoluta exceção em nosso ordenamento jurídico. Só se justifica para tentativa de interferência ou fuga. Chamo atenção para o viés ilegal e atécnico de várias das decisões, que demonstram um senso de punir ilegítimo e uma distorção de papéis dos agentes\", afirma Hugo Leonardo, presidente do IDDD. Embora o tom crítico adotado pelo Instituto ecoe entre importantes pesquisadores do Direito Criminal, há contestações dentro do meio jurídico. Antonio Henrique Graciano Suxberger, membro auxiliar da Comissão do Sistema Prisional do Conselho Nacional do Ministério Público (CSP/CNMP), enxerga uma confusão entre as particularidades impostas pelo contexto da pandemia à Justiça Criminal e um movimento de desencarceramento coletivo que considera imprudente. Reconhecendo que o sistema carcerário reproduz a desigualdade social do país, o promotor chama atenção para a variedade dos casos processados. \"Não podemos esquecer que a prisão cautelar ainda é medida de prevenção, como em casos de violência doméstica. Precisamos discutir o congestionamento processual em primeira instância, cujo equacionamento passa pela riqueza de alternativas penais. Não há respostas prontas para o combate à pandemia, mas medidas de atuação e enfrentamento nas quais precisamos avançar. Sequer conseguimos ter dados claros sobre o sistema prisional\", diz. Em meio à pandemia, a mãe de M.O. espera que o reencontro com o filho na última terça-feira (30/6) ponha fim ao sofrimento da família. Epilético, o jovem de 20 anos contraiu o novo coronavírus dentro do Jardim São Luiz, unidade da Fundação Casa (Centro de Atendimento Socioeducativo ao Adolescente) em São Paulo. \"Estou sofrendo, com pressão alta todos os dias. Quero levar meu filho no médico e dar um bom alimento. Ele é negro e está com a pele clara, sem banho de sol\", disse a mãe à DW Brasil, na véspera da liberação assistida de M.O. O jovem estava há dois anos e três meses na instituição, pela acusação de envolvimento em um crime de latrocínio, que a família contesta com base em um laudo pericial. Os advogados Flavio Grossi e Priscila Naves Tardelli, sócios do escritório Naves e Almeida Sociedade de Advogados, tentavam a soltura desde o final de maio por se tratar de um jovem do grupo de risco, quando ele ainda não tinha contraído o vírus. Após a negativa da juíza Calila Radamilans, a dupla teria ainda dois recursos negados no Tribunal de Justiça de São Paulo, um no STJ e outro no STF, pela ministra Carmem Lúcia. Primeiro a contrair a covid-19 na unidade, M.O. infectou mais de 40 internos e seis funcionários. Os dois médicos que prestavam atendimento no local estão afastados desde o início da pandemia por integrarem o grupo de risco. Não há penas para adolescentes infratores que ingressam no sistema socioeducativo, mas um período de internação com duração mínima de seis meses e máxima de três anos. estava na unidade há dois anos e três meses, com relatórios de quatro técnicos da Fundação Casa recomendando sua liberação. \"O Judiciário vem se confundindo com o poder de Segurança Pública. São coisas separadas. Cabe ao juiz aplicar o direito\", critica Grossi. A dupla de advogados chama atenção para a decisão de soltura da juíza, que ressalta a \"imunização\" do jovem após sofrer com a doença na unidade. O boletim semanal do CNJ, que organiza dados levantados junto aos governos estaduais, indicava em 29 de junho a ocorrência de 9.586 casos confirmados de covid-19 no sistema prisional (5.554 entre detentos e 4.032 por servidores) – um aumento de 162,3% nos últimos 30 dias e 21,1% na última semana. Foram 114 os óbitos confirmados até agora (58 detentos e 56 servidores), tendo havido alta de 50% nos últimos 30 dias. Especialistas chamam atenção para a elevada probabilidade de subnotificação, já que o acesso a testes é precário na maioria dos estados. Ainda de acordo com o CNJ, 32,5 mil pessoas foram retiradas das unidades prisionais entre 17 de março e 12 de junho em atendimento à Recomendação 62/2020. O número corresponde a 4,8% do total de pessoas em privação de liberdade. Entre os que deixaram as unidades prisionais durante a pandemia, a taxa de reincidência criminal foi de 2,5%. O indicador contrasta com a média de 42,5% observada entre 2015 e 2019.\n",
      "\n",
      "Os advogados Flavio Grossi e Priscila Naves Tardelli, sócios do escritório Naves e Almeida Sociedade de Advogados, tentavam a soltura desde o final de maio por se tratar de um jovem do grupo de risco, quando ele ainda não tinha contraído o vírus.\n",
      "\n",
      "251\n"
     ]
    }
   ],
   "source": [
    "i=150\n",
    "print(data.iloc[i]['name'])\n",
    "print('')\n",
    "print(data.iloc[i].full_text)\n",
    "print('')\n",
    "print(data.iloc[i].new_full_text)\n",
    "print('')\n",
    "print(len(data.iloc[i].new_full_text))"
   ]
  },
  {
   "cell_type": "markdown",
   "id": "63dc21ec-2657-4398-8f4f-6dfd8948233e",
   "metadata": {},
   "source": [
    "Drop and rename columns"
   ]
  },
  {
   "cell_type": "code",
   "execution_count": 105,
   "id": "c3b42c69-b073-4bef-8195-d9910036d82e",
   "metadata": {},
   "outputs": [],
   "source": [
    "data = data.drop(columns=['full_text'])\n",
    "data = data.rename(columns={\"new_full_text\": \"full_text\"})"
   ]
  },
  {
   "cell_type": "code",
   "execution_count": 106,
   "id": "bd6658d3-9b39-4adf-a10e-b187bb7e1b62",
   "metadata": {},
   "outputs": [
    {
     "data": {
      "text/html": [
       "<div>\n",
       "<style scoped>\n",
       "    .dataframe tbody tr th:only-of-type {\n",
       "        vertical-align: middle;\n",
       "    }\n",
       "\n",
       "    .dataframe tbody tr th {\n",
       "        vertical-align: top;\n",
       "    }\n",
       "\n",
       "    .dataframe thead th {\n",
       "        text-align: right;\n",
       "    }\n",
       "</style>\n",
       "<table border=\"1\" class=\"dataframe\">\n",
       "  <thead>\n",
       "    <tr style=\"text-align: right;\">\n",
       "      <th></th>\n",
       "      <th>id</th>\n",
       "      <th>name</th>\n",
       "      <th>full_text</th>\n",
       "    </tr>\n",
       "  </thead>\n",
       "  <tbody>\n",
       "    <tr>\n",
       "      <th>0</th>\n",
       "      <td>54006424</td>\n",
       "      <td>Clemens Tönnies</td>\n",
       "      <td>O presidente do FC Schalke 04 e proprietário ...</td>\n",
       "    </tr>\n",
       "    <tr>\n",
       "      <th>1</th>\n",
       "      <td>54006424</td>\n",
       "      <td>Gerald Asamoah</td>\n",
       "      <td>No mês de agosto, durante um evento do clube,...</td>\n",
       "    </tr>\n",
       "    <tr>\n",
       "      <th>2</th>\n",
       "      <td>54006424</td>\n",
       "      <td>Hans Sarpei</td>\n",
       "      <td>No mês de agosto, durante um evento do clube,...</td>\n",
       "    </tr>\n",
       "    <tr>\n",
       "      <th>3</th>\n",
       "      <td>54006424</td>\n",
       "      <td>Cacau</td>\n",
       "      <td>No mês de agosto, durante um evento do clube,...</td>\n",
       "    </tr>\n",
       "    <tr>\n",
       "      <th>4</th>\n",
       "      <td>54003004</td>\n",
       "      <td>Angela Merkel</td>\n",
       "      <td>Em meados de março, quando o coronavírus com...</td>\n",
       "    </tr>\n",
       "  </tbody>\n",
       "</table>\n",
       "</div>"
      ],
      "text/plain": [
       "         id              name  \\\n",
       "0  54006424  Clemens Tönnies   \n",
       "1  54006424    Gerald Asamoah   \n",
       "2  54006424       Hans Sarpei   \n",
       "3  54006424             Cacau   \n",
       "4  54003004     Angela Merkel   \n",
       "\n",
       "                                           full_text  \n",
       "0  O presidente do FC Schalke 04 e proprietário ...  \n",
       "1  No mês de agosto, durante um evento do clube,...  \n",
       "2  No mês de agosto, durante um evento do clube,...  \n",
       "3  No mês de agosto, durante um evento do clube,...  \n",
       "4  Em meados de março, quando o coronavírus com...  "
      ]
     },
     "execution_count": 106,
     "metadata": {},
     "output_type": "execute_result"
    }
   ],
   "source": [
    "data.head()"
   ]
  },
  {
   "cell_type": "markdown",
   "id": "0add5672-332e-44f1-9da7-728bfb8aed7c",
   "metadata": {},
   "source": [
    "Create the input"
   ]
  },
  {
   "cell_type": "code",
   "execution_count": 107,
   "id": "30aeeee2-39fe-483b-a460-e622c5689dd7",
   "metadata": {},
   "outputs": [],
   "source": [
    "data['input'] = 'TEXT1: ' + data['name'] + '; TEXT2: ' + data['full_text']"
   ]
  },
  {
   "cell_type": "code",
   "execution_count": 108,
   "id": "f4b43339-17c1-414a-98e3-8de81a25c37b",
   "metadata": {},
   "outputs": [
    {
     "data": {
      "text/html": [
       "<div>\n",
       "<style scoped>\n",
       "    .dataframe tbody tr th:only-of-type {\n",
       "        vertical-align: middle;\n",
       "    }\n",
       "\n",
       "    .dataframe tbody tr th {\n",
       "        vertical-align: top;\n",
       "    }\n",
       "\n",
       "    .dataframe thead th {\n",
       "        text-align: right;\n",
       "    }\n",
       "</style>\n",
       "<table border=\"1\" class=\"dataframe\">\n",
       "  <thead>\n",
       "    <tr style=\"text-align: right;\">\n",
       "      <th></th>\n",
       "      <th>id</th>\n",
       "      <th>name</th>\n",
       "      <th>full_text</th>\n",
       "      <th>input</th>\n",
       "    </tr>\n",
       "  </thead>\n",
       "  <tbody>\n",
       "    <tr>\n",
       "      <th>0</th>\n",
       "      <td>54006424</td>\n",
       "      <td>Clemens Tönnies</td>\n",
       "      <td>O presidente do FC Schalke 04 e proprietário ...</td>\n",
       "      <td>TEXT1: Clemens Tönnies; TEXT2: O presidente d...</td>\n",
       "    </tr>\n",
       "    <tr>\n",
       "      <th>1</th>\n",
       "      <td>54006424</td>\n",
       "      <td>Gerald Asamoah</td>\n",
       "      <td>No mês de agosto, durante um evento do clube,...</td>\n",
       "      <td>TEXT1: Gerald Asamoah; TEXT2: No mês de agost...</td>\n",
       "    </tr>\n",
       "    <tr>\n",
       "      <th>2</th>\n",
       "      <td>54006424</td>\n",
       "      <td>Hans Sarpei</td>\n",
       "      <td>No mês de agosto, durante um evento do clube,...</td>\n",
       "      <td>TEXT1: Hans Sarpei; TEXT2: No mês de agosto, ...</td>\n",
       "    </tr>\n",
       "    <tr>\n",
       "      <th>3</th>\n",
       "      <td>54006424</td>\n",
       "      <td>Cacau</td>\n",
       "      <td>No mês de agosto, durante um evento do clube,...</td>\n",
       "      <td>TEXT1: Cacau; TEXT2: No mês de agosto, durant...</td>\n",
       "    </tr>\n",
       "    <tr>\n",
       "      <th>4</th>\n",
       "      <td>54003004</td>\n",
       "      <td>Angela Merkel</td>\n",
       "      <td>Em meados de março, quando o coronavírus com...</td>\n",
       "      <td>TEXT1: Angela Merkel; TEXT2: Em meados de marc...</td>\n",
       "    </tr>\n",
       "  </tbody>\n",
       "</table>\n",
       "</div>"
      ],
      "text/plain": [
       "         id              name  \\\n",
       "0  54006424  Clemens Tönnies   \n",
       "1  54006424    Gerald Asamoah   \n",
       "2  54006424       Hans Sarpei   \n",
       "3  54006424             Cacau   \n",
       "4  54003004     Angela Merkel   \n",
       "\n",
       "                                           full_text  \\\n",
       "0  O presidente do FC Schalke 04 e proprietário ...   \n",
       "1  No mês de agosto, durante um evento do clube,...   \n",
       "2  No mês de agosto, durante um evento do clube,...   \n",
       "3  No mês de agosto, durante um evento do clube,...   \n",
       "4  Em meados de março, quando o coronavírus com...   \n",
       "\n",
       "                                               input  \n",
       "0  TEXT1: Clemens Tönnies; TEXT2: O presidente d...  \n",
       "1  TEXT1: Gerald Asamoah; TEXT2: No mês de agost...  \n",
       "2  TEXT1: Hans Sarpei; TEXT2: No mês de agosto, ...  \n",
       "3  TEXT1: Cacau; TEXT2: No mês de agosto, durant...  \n",
       "4  TEXT1: Angela Merkel; TEXT2: Em meados de marc...  "
      ]
     },
     "execution_count": 108,
     "metadata": {},
     "output_type": "execute_result"
    }
   ],
   "source": [
    "data.head()"
   ]
  },
  {
   "cell_type": "markdown",
   "id": "041df8ee-3710-41b4-9c57-097d94aed5ba",
   "metadata": {},
   "source": [
    "Check"
   ]
  },
  {
   "cell_type": "code",
   "execution_count": 109,
   "id": "3a8497e4-d40b-4d5d-9fae-24c611ab1269",
   "metadata": {},
   "outputs": [
    {
     "name": "stdout",
     "output_type": "stream",
     "text": [
      "patriarca Bartolomeu de\n",
      "\n",
      "O patriarca Bartolomeu de Constantinopla, chefe da Igreja Ortodoxa, se disse estritamente contra a conversão de Hagia Sophia em uma mesquita. \"A Hagia é um dos monumentos mais importantes da civilização humana e pertence não apenas aos seus proprietários imediatos, mas a toda a humanidade\", disse, durante uma missa em Istambul.\n",
      "\n",
      "335\n",
      "\n",
      "TEXT1: patriarca Bartolomeu de; TEXT2: O patriarca Bartolomeu de Constantinopla, chefe da Igreja Ortodoxa, se disse estritamente contra a conversão de Hagia Sophia em uma mesquita. \"A Hagia é um dos monumentos mais importantes da civilização humana e pertence não apenas aos seus proprietários imediatos, mas a toda a humanidade\", disse, durante uma missa em Istambul.\n",
      "\n",
      "374\n"
     ]
    }
   ],
   "source": [
    "i=100\n",
    "print(data.iloc[i]['name'])\n",
    "print('')\n",
    "print(data.iloc[i].full_text)\n",
    "print('')\n",
    "print(len(data.iloc[i].full_text))\n",
    "print('')\n",
    "print(data.iloc[i].input)\n",
    "print('')\n",
    "print(len(data.iloc[i].input))"
   ]
  },
  {
   "cell_type": "markdown",
   "id": "883e7d7e-e8c2-4b6b-99cd-b524924f1cfc",
   "metadata": {
    "tags": []
   },
   "source": [
    "# Format the dataset"
   ]
  },
  {
   "cell_type": "markdown",
   "id": "8500eada-5a22-4d5b-9f73-3ca7581a2cd4",
   "metadata": {},
   "source": [
    "Keep only columns needed for the model "
   ]
  },
  {
   "cell_type": "code",
   "execution_count": 33,
   "id": "094abbc5-43d8-410c-883e-fbc0776a8091",
   "metadata": {},
   "outputs": [],
   "source": [
    "data = data[['input']]"
   ]
  },
  {
   "cell_type": "code",
   "execution_count": 34,
   "id": "bd3895a3-cc64-4826-b9ad-b1484939cc22",
   "metadata": {},
   "outputs": [
    {
     "data": {
      "text/html": [
       "<div>\n",
       "<style scoped>\n",
       "    .dataframe tbody tr th:only-of-type {\n",
       "        vertical-align: middle;\n",
       "    }\n",
       "\n",
       "    .dataframe tbody tr th {\n",
       "        vertical-align: top;\n",
       "    }\n",
       "\n",
       "    .dataframe thead th {\n",
       "        text-align: right;\n",
       "    }\n",
       "</style>\n",
       "<table border=\"1\" class=\"dataframe\">\n",
       "  <thead>\n",
       "    <tr style=\"text-align: right;\">\n",
       "      <th></th>\n",
       "      <th>input</th>\n",
       "    </tr>\n",
       "  </thead>\n",
       "  <tbody>\n",
       "    <tr>\n",
       "      <th>0</th>\n",
       "      <td>TEXT1: Clemens Tönnies; TEXT2: O presidente d...</td>\n",
       "    </tr>\n",
       "    <tr>\n",
       "      <th>1</th>\n",
       "      <td>TEXT1: Gerald Asamoah; TEXT2: No mês de agost...</td>\n",
       "    </tr>\n",
       "    <tr>\n",
       "      <th>2</th>\n",
       "      <td>TEXT1: Hans Sarpei; TEXT2: No mês de agosto, ...</td>\n",
       "    </tr>\n",
       "    <tr>\n",
       "      <th>3</th>\n",
       "      <td>TEXT1: Cacau; TEXT2: No mês de agosto, durant...</td>\n",
       "    </tr>\n",
       "    <tr>\n",
       "      <th>4</th>\n",
       "      <td>TEXT1: Angela Merkel; TEXT2: Em meados de marc...</td>\n",
       "    </tr>\n",
       "  </tbody>\n",
       "</table>\n",
       "</div>"
      ],
      "text/plain": [
       "                                               input\n",
       "0  TEXT1: Clemens Tönnies; TEXT2: O presidente d...\n",
       "1  TEXT1: Gerald Asamoah; TEXT2: No mês de agost...\n",
       "2  TEXT1: Hans Sarpei; TEXT2: No mês de agosto, ...\n",
       "3  TEXT1: Cacau; TEXT2: No mês de agosto, durant...\n",
       "4  TEXT1: Angela Merkel; TEXT2: Em meados de marc..."
      ]
     },
     "execution_count": 34,
     "metadata": {},
     "output_type": "execute_result"
    }
   ],
   "source": [
    "data.head()"
   ]
  },
  {
   "cell_type": "markdown",
   "id": "c38f1580-4ab7-4667-9d24-38d4be3c537a",
   "metadata": {},
   "source": [
    "# Read model"
   ]
  },
  {
   "cell_type": "markdown",
   "id": "8e3db0d3-dd59-4493-84b8-39cd007e75dd",
   "metadata": {},
   "source": [
    "**I still do not know how to properly load a saved model, so I will circunvent the issue by repeating the same steps I used for training the model but skipping the actual training part**"
   ]
  },
  {
   "cell_type": "markdown",
   "id": "ba6afb40-7b15-4525-8ee2-60484b407147",
   "metadata": {},
   "source": [
    "## Read dataset"
   ]
  },
  {
   "cell_type": "code",
   "execution_count": 8,
   "id": "0424d664-6944-4ca8-8dfc-ea3e55703301",
   "metadata": {},
   "outputs": [],
   "source": [
    "inputdir = Path('../training')\n",
    "\n",
    "filename = Path('portuguese_training_data_v5.csv')\n",
    "training_data = pd.read_csv(inputdir/filename)\n",
    "\n",
    "filename = Path('portuguese_test_data_v5.csv')\n",
    "test_data = pd.read_csv(inputdir/filename)"
   ]
  },
  {
   "cell_type": "code",
   "execution_count": 9,
   "id": "ece38391-4fde-4035-a6ac-eb3cf36cdab6",
   "metadata": {},
   "outputs": [
    {
     "data": {
      "text/html": [
       "<div>\n",
       "<style scoped>\n",
       "    .dataframe tbody tr th:only-of-type {\n",
       "        vertical-align: middle;\n",
       "    }\n",
       "\n",
       "    .dataframe tbody tr th {\n",
       "        vertical-align: top;\n",
       "    }\n",
       "\n",
       "    .dataframe thead th {\n",
       "        text-align: right;\n",
       "    }\n",
       "</style>\n",
       "<table border=\"1\" class=\"dataframe\">\n",
       "  <thead>\n",
       "    <tr style=\"text-align: right;\">\n",
       "      <th></th>\n",
       "      <th>id</th>\n",
       "      <th>name</th>\n",
       "      <th>full_text</th>\n",
       "      <th>label</th>\n",
       "      <th>input</th>\n",
       "    </tr>\n",
       "  </thead>\n",
       "  <tbody>\n",
       "    <tr>\n",
       "      <th>0</th>\n",
       "      <td>54153414</td>\n",
       "      <td>Andrzej Duda</td>\n",
       "      <td>A comissão eleitoral da Polônia anunciou nes...</td>\n",
       "      <td>1.0</td>\n",
       "      <td>TEXT1: Andrzej Duda; TEXT2: A comissão eleito...</td>\n",
       "    </tr>\n",
       "    <tr>\n",
       "      <th>1</th>\n",
       "      <td>55253572</td>\n",
       "      <td>Erich Honecker</td>\n",
       "      <td>Natural e casual, elegantemente trajando ócul...</td>\n",
       "      <td>1.0</td>\n",
       "      <td>TEXT1: Erich Honecker; TEXT2: Natural e casual...</td>\n",
       "    </tr>\n",
       "    <tr>\n",
       "      <th>2</th>\n",
       "      <td>58168985</td>\n",
       "      <td>Chris Whitty</td>\n",
       "      <td>Apesar do número crescente de casos de covid-...</td>\n",
       "      <td>0.0</td>\n",
       "      <td>TEXT1: Chris Whitty; TEXT2: Apesar do número ...</td>\n",
       "    </tr>\n",
       "    <tr>\n",
       "      <th>3</th>\n",
       "      <td>53821497</td>\n",
       "      <td>Luiz Henrique Mandetta</td>\n",
       "      <td>A Food and Drug Administration (FDA), agência...</td>\n",
       "      <td>1.0</td>\n",
       "      <td>TEXT1: Luiz Henrique Mandetta; TEXT2: A Food a...</td>\n",
       "    </tr>\n",
       "    <tr>\n",
       "      <th>4</th>\n",
       "      <td>57170897</td>\n",
       "      <td>Angela Merkel</td>\n",
       "      <td>O populismo de direita alemão deu um passo ma...</td>\n",
       "      <td>0.0</td>\n",
       "      <td>TEXT1: Angela Merkel; TEXT2: O populismo de di...</td>\n",
       "    </tr>\n",
       "    <tr>\n",
       "      <th>...</th>\n",
       "      <td>...</td>\n",
       "      <td>...</td>\n",
       "      <td>...</td>\n",
       "      <td>...</td>\n",
       "      <td>...</td>\n",
       "    </tr>\n",
       "    <tr>\n",
       "      <th>7835</th>\n",
       "      <td>61292150</td>\n",
       "      <td>Dilma Rousseff</td>\n",
       "      <td>Trata-se de um movimento iniciado nos anos 199...</td>\n",
       "      <td>0.0</td>\n",
       "      <td>TEXT1: Dilma Rousseff; TEXT2: Trata-se de um m...</td>\n",
       "    </tr>\n",
       "    <tr>\n",
       "      <th>7836</th>\n",
       "      <td>60338691</td>\n",
       "      <td>Thomas Mann</td>\n",
       "      <td>A bordo de jet-skis, os homens avançam velozm...</td>\n",
       "      <td>1.0</td>\n",
       "      <td>TEXT1: Thomas Mann; TEXT2: A bordo de jet-skis...</td>\n",
       "    </tr>\n",
       "    <tr>\n",
       "      <th>7837</th>\n",
       "      <td>57352798</td>\n",
       "      <td>Donald Trump</td>\n",
       "      <td>Os desenvolvedores da vacina russa contra covi...</td>\n",
       "      <td>1.0</td>\n",
       "      <td>TEXT1: Donald Trump; TEXT2: Os desenvolvedores...</td>\n",
       "    </tr>\n",
       "    <tr>\n",
       "      <th>7838</th>\n",
       "      <td>61662604</td>\n",
       "      <td>Bolsonaro</td>\n",
       "      <td>Durante o governo do ex-presidente americano D...</td>\n",
       "      <td>1.0</td>\n",
       "      <td>TEXT1: Bolsonaro; TEXT2: Durante o governo do ...</td>\n",
       "    </tr>\n",
       "    <tr>\n",
       "      <th>7839</th>\n",
       "      <td>55919036</td>\n",
       "      <td>Michelle Bachelet</td>\n",
       "      <td>O ativista e jornalista iraniano Ruhollah Zam ...</td>\n",
       "      <td>0.0</td>\n",
       "      <td>TEXT1: Michelle Bachelet; TEXT2: O ativista e ...</td>\n",
       "    </tr>\n",
       "  </tbody>\n",
       "</table>\n",
       "<p>7840 rows × 5 columns</p>\n",
       "</div>"
      ],
      "text/plain": [
       "            id                    name  \\\n",
       "0     54153414            Andrzej Duda   \n",
       "1     55253572          Erich Honecker   \n",
       "2     58168985            Chris Whitty   \n",
       "3     53821497  Luiz Henrique Mandetta   \n",
       "4     57170897           Angela Merkel   \n",
       "...        ...                     ...   \n",
       "7835  61292150          Dilma Rousseff   \n",
       "7836  60338691             Thomas Mann   \n",
       "7837  57352798            Donald Trump   \n",
       "7838  61662604               Bolsonaro   \n",
       "7839  55919036       Michelle Bachelet   \n",
       "\n",
       "                                              full_text  label  \\\n",
       "0     A comissão eleitoral da Polônia anunciou nes...    1.0   \n",
       "1     Natural e casual, elegantemente trajando ócul...    1.0   \n",
       "2     Apesar do número crescente de casos de covid-...    0.0   \n",
       "3     A Food and Drug Administration (FDA), agência...    1.0   \n",
       "4     O populismo de direita alemão deu um passo ma...    0.0   \n",
       "...                                                 ...    ...   \n",
       "7835  Trata-se de um movimento iniciado nos anos 199...    0.0   \n",
       "7836  A bordo de jet-skis, os homens avançam velozm...    1.0   \n",
       "7837  Os desenvolvedores da vacina russa contra covi...    1.0   \n",
       "7838  Durante o governo do ex-presidente americano D...    1.0   \n",
       "7839  O ativista e jornalista iraniano Ruhollah Zam ...    0.0   \n",
       "\n",
       "                                                  input  \n",
       "0     TEXT1: Andrzej Duda; TEXT2: A comissão eleito...  \n",
       "1     TEXT1: Erich Honecker; TEXT2: Natural e casual...  \n",
       "2     TEXT1: Chris Whitty; TEXT2: Apesar do número ...  \n",
       "3     TEXT1: Luiz Henrique Mandetta; TEXT2: A Food a...  \n",
       "4     TEXT1: Angela Merkel; TEXT2: O populismo de di...  \n",
       "...                                                 ...  \n",
       "7835  TEXT1: Dilma Rousseff; TEXT2: Trata-se de um m...  \n",
       "7836  TEXT1: Thomas Mann; TEXT2: A bordo de jet-skis...  \n",
       "7837  TEXT1: Donald Trump; TEXT2: Os desenvolvedores...  \n",
       "7838  TEXT1: Bolsonaro; TEXT2: Durante o governo do ...  \n",
       "7839  TEXT1: Michelle Bachelet; TEXT2: O ativista e ...  \n",
       "\n",
       "[7840 rows x 5 columns]"
      ]
     },
     "execution_count": 9,
     "metadata": {},
     "output_type": "execute_result"
    }
   ],
   "source": [
    "training_data"
   ]
  },
  {
   "cell_type": "markdown",
   "id": "b3408c2f-137c-4b73-a8fa-def4f94f3ac4",
   "metadata": {},
   "source": [
    "## Conform to use input string whose length does not exceed 512 characters"
   ]
  },
  {
   "cell_type": "code",
   "execution_count": 37,
   "id": "83158b75-a992-478c-b58e-9205dbc75fec",
   "metadata": {},
   "outputs": [],
   "source": [
    "new_full_text = []\n",
    "for row in training_data.itertuples():\n",
    "    name = row.name\n",
    "    full_text = row.full_text\n",
    "    \n",
    "    # Split full text into sentences\n",
    "    sentences = full_text.split('. ')\n",
    "    for i in range(len(sentences)-1):\n",
    "        sentences[i] = sentences[i]+'.' # Add dot that was removed when splitting\n",
    "\n",
    "    # Find name occurrences\n",
    "    name_occurrences = []\n",
    "    for i in range(len(sentences)):\n",
    "        if name in sentences[i]:\n",
    "            name_occurrences.append(i)\n",
    "    \n",
    "    # First ocurrence\n",
    "    name_occurrence = np.min(name_occurrences)\n",
    "    \n",
    "    # Append sentences one by one until it gets too large\n",
    "    max_num_of_characters = 420\n",
    "    max_num_of_sentences_to_append = 7\n",
    "    new_sentence = sentences[name_occurrence]\n",
    "    for i in range(2,max_num_of_sentences_to_append+2):\n",
    "        _new_sentence = ' '.join(sentences[name_occurrence:name_occurrence+i])\n",
    "        if len(_new_sentence) <= max_num_of_characters:\n",
    "            new_sentence = _new_sentence\n",
    "            \n",
    "    # Collect new input\n",
    "    new_full_text.append(new_sentence)"
   ]
  },
  {
   "cell_type": "code",
   "execution_count": 38,
   "id": "1a9aa1a0-f93e-438c-b1ff-e969f7fce119",
   "metadata": {},
   "outputs": [],
   "source": [
    "training_data['new_full_text'] = new_full_text"
   ]
  },
  {
   "cell_type": "code",
   "execution_count": 39,
   "id": "fe7374bc-8cef-4220-aec6-c9441d40c898",
   "metadata": {},
   "outputs": [
    {
     "data": {
      "text/html": [
       "<div>\n",
       "<style scoped>\n",
       "    .dataframe tbody tr th:only-of-type {\n",
       "        vertical-align: middle;\n",
       "    }\n",
       "\n",
       "    .dataframe tbody tr th {\n",
       "        vertical-align: top;\n",
       "    }\n",
       "\n",
       "    .dataframe thead th {\n",
       "        text-align: right;\n",
       "    }\n",
       "</style>\n",
       "<table border=\"1\" class=\"dataframe\">\n",
       "  <thead>\n",
       "    <tr style=\"text-align: right;\">\n",
       "      <th></th>\n",
       "      <th>id</th>\n",
       "      <th>name</th>\n",
       "      <th>full_text</th>\n",
       "      <th>label</th>\n",
       "      <th>input</th>\n",
       "      <th>new_full_text</th>\n",
       "    </tr>\n",
       "  </thead>\n",
       "  <tbody>\n",
       "    <tr>\n",
       "      <th>0</th>\n",
       "      <td>54153414</td>\n",
       "      <td>Andrzej Duda</td>\n",
       "      <td>A comissão eleitoral da Polônia anunciou nes...</td>\n",
       "      <td>1.0</td>\n",
       "      <td>TEXT1: Andrzej Duda; TEXT2: A comissão eleito...</td>\n",
       "      <td>A comissão eleitoral da Polônia anunciou nes...</td>\n",
       "    </tr>\n",
       "    <tr>\n",
       "      <th>1</th>\n",
       "      <td>55253572</td>\n",
       "      <td>Erich Honecker</td>\n",
       "      <td>Natural e casual, elegantemente trajando ócul...</td>\n",
       "      <td>1.0</td>\n",
       "      <td>TEXT1: Erich Honecker; TEXT2: Natural e casual...</td>\n",
       "      <td>Natural e casual, elegantemente trajando ócul...</td>\n",
       "    </tr>\n",
       "    <tr>\n",
       "      <th>2</th>\n",
       "      <td>58168985</td>\n",
       "      <td>Chris Whitty</td>\n",
       "      <td>Apesar do número crescente de casos de covid-...</td>\n",
       "      <td>0.0</td>\n",
       "      <td>TEXT1: Chris Whitty; TEXT2: Apesar do número ...</td>\n",
       "      <td>Questionados sobre isso durante a coletiva de ...</td>\n",
       "    </tr>\n",
       "    <tr>\n",
       "      <th>3</th>\n",
       "      <td>53821497</td>\n",
       "      <td>Luiz Henrique Mandetta</td>\n",
       "      <td>A Food and Drug Administration (FDA), agência...</td>\n",
       "      <td>1.0</td>\n",
       "      <td>TEXT1: Luiz Henrique Mandetta; TEXT2: A Food a...</td>\n",
       "      <td>Discórdias sobre o uso do medicamento teriam ...</td>\n",
       "    </tr>\n",
       "    <tr>\n",
       "      <th>4</th>\n",
       "      <td>57170897</td>\n",
       "      <td>Angela Merkel</td>\n",
       "      <td>O populismo de direita alemão deu um passo ma...</td>\n",
       "      <td>0.0</td>\n",
       "      <td>TEXT1: Angela Merkel; TEXT2: O populismo de di...</td>\n",
       "      <td>Em setembro, a Alemanha realiza eleições ger...</td>\n",
       "    </tr>\n",
       "  </tbody>\n",
       "</table>\n",
       "</div>"
      ],
      "text/plain": [
       "         id                    name  \\\n",
       "0  54153414            Andrzej Duda   \n",
       "1  55253572          Erich Honecker   \n",
       "2  58168985            Chris Whitty   \n",
       "3  53821497  Luiz Henrique Mandetta   \n",
       "4  57170897           Angela Merkel   \n",
       "\n",
       "                                           full_text  label  \\\n",
       "0  A comissão eleitoral da Polônia anunciou nes...    1.0   \n",
       "1  Natural e casual, elegantemente trajando ócul...    1.0   \n",
       "2  Apesar do número crescente de casos de covid-...    0.0   \n",
       "3  A Food and Drug Administration (FDA), agência...    1.0   \n",
       "4  O populismo de direita alemão deu um passo ma...    0.0   \n",
       "\n",
       "                                               input  \\\n",
       "0  TEXT1: Andrzej Duda; TEXT2: A comissão eleito...   \n",
       "1  TEXT1: Erich Honecker; TEXT2: Natural e casual...   \n",
       "2  TEXT1: Chris Whitty; TEXT2: Apesar do número ...   \n",
       "3  TEXT1: Luiz Henrique Mandetta; TEXT2: A Food a...   \n",
       "4  TEXT1: Angela Merkel; TEXT2: O populismo de di...   \n",
       "\n",
       "                                       new_full_text  \n",
       "0  A comissão eleitoral da Polônia anunciou nes...  \n",
       "1  Natural e casual, elegantemente trajando ócul...  \n",
       "2  Questionados sobre isso durante a coletiva de ...  \n",
       "3  Discórdias sobre o uso do medicamento teriam ...  \n",
       "4  Em setembro, a Alemanha realiza eleições ger...  "
      ]
     },
     "execution_count": 39,
     "metadata": {},
     "output_type": "execute_result"
    }
   ],
   "source": [
    "training_data.head()"
   ]
  },
  {
   "cell_type": "markdown",
   "id": "80673bdb-f907-428d-9002-25d3fd75abe9",
   "metadata": {},
   "source": [
    "Check"
   ]
  },
  {
   "cell_type": "code",
   "execution_count": 40,
   "id": "eed2ae2d-d6df-4f5b-b4c3-400534468020",
   "metadata": {},
   "outputs": [
    {
     "name": "stdout",
     "output_type": "stream",
     "text": [
      "Heiko Maas\n",
      "\n",
      "Em videoconferência no Conselho de Segurança das Nações Unidas, o ministro alemão do Exterior, Heiko Maas, conclamou a comunidade mundial a agir de forma mais decidida contra todas as formas de violência sexual no contexto de conflitos de guerra. \"Estupro, prostituição forçada e escravidão sexual continuam sendo empregados como armas em conflitos por todo o mundo\", frisou o chefe de diplomacia. Ele criticou que, 20 anos após a aprovação da Resolução 1.325 da ONU e mais de um ano após a Resolução 2.467, \"quase não se veem progressos\": as vítimas frequentemente não recebem a ajuda de que necessitam, e a criminalidade sexualizada nas guerras segue destruindo sociedades em todas as regiões. Detentora da presidência rotativa do Conselho de Segurança da ONU no mês de julho, a Alemanha declarou como uma de suas prioridades o combate à violência sexual em conflitos bélicos. O debate desta sexta-feira (17/07) foi promovido também pela República Dominicana. Maas reivindicou a implementação vinculativa tanto da agenda Mulheres, Paz e Segurança quanto da Resolução 2.467 para combate a crimes sexuais em conflitos e fortalecimento das vítimas. É preciso garantir que sobreviventes dessa violência recebam assistência médica e legal, e que as mulheres participem imediatamente da consolidação da paz. Além disso, sanções devem passar a ter um papel mais incisivo na luta contra os crimes de guerra sexualizados, para que a impunidade dos agressores tenha fim, exigiu o político social-democrata. Ele comparou os desafios que os crimes sexuais em conflitos representam para a comunidade internacional com o combate à covid-19, sendo a violência específica de gênero um \"vírus global\" que há anos destrói vidas humanas e comunidades, sem que haja uma vacina à vista. O ministro alemão lembrou ainda o quanto a pandemia piorou a situação para numerosas vítimas: as medidas de confinamento dificultam seu acesso às entidades jurídicas e médicas, e o volume de denúncias de violência sexual reduziu-se significativamente. Segundo relatório da Organização das Nações Unidas relativo a 2019, em pelo menos 19 países foram praticados crimes sexuais por mais de 50 partidos de conflitos bélicos, incluindo exércitos governamentais, grupos rebeldes e organizações terroristas. No entanto as estatísticas sobre o número de vítimas são inexatas, tanto pelo medo de estigmatização como devido à investigação incompleta por parte das autoridades. A encarregada especial da ONU para violência sexual em conflitos, Pramila Patten, apelou para que se coloquem os atingidos no centro do interesse político, a fim de garantir que recebam a ajuda necessária. Ela enfatizou que essa forma de violência é empregada em zonas de conflito de todo o mundo como tática e como método de tortura. Além disso, vítimas de estupro brutal não são apenas fisicamente mutiladas, mas também carregam feridas psicológicas consigo.\n",
      "\n",
      "Em videoconferência no Conselho de Segurança das Nações Unidas, o ministro alemão do Exterior, Heiko Maas, conclamou a comunidade mundial a agir de forma mais decidida contra todas as formas de violência sexual no contexto de conflitos de guerra. \"Estupro, prostituição forçada e escravidão sexual continuam sendo empregados como armas em conflitos por todo o mundo\", frisou o chefe de diplomacia.\n",
      "\n",
      "407\n"
     ]
    }
   ],
   "source": [
    "i=150\n",
    "print(training_data.iloc[i]['name'])\n",
    "print('')\n",
    "print(training_data.iloc[i].full_text)\n",
    "print('')\n",
    "print(training_data.iloc[i].new_full_text)\n",
    "print('')\n",
    "print(len(training_data.iloc[i].new_full_text))"
   ]
  },
  {
   "cell_type": "markdown",
   "id": "25986e22-a2a3-4156-9ee0-be30439e0059",
   "metadata": {},
   "source": [
    "Drop and rename columns"
   ]
  },
  {
   "cell_type": "code",
   "execution_count": 43,
   "id": "44f7f88d-7ac3-4d55-b037-33228b24474b",
   "metadata": {},
   "outputs": [],
   "source": [
    "training_data = training_data.drop(columns=['input', 'full_text'])\n",
    "training_data = training_data.rename(columns={\"new_full_text\": \"full_text\"})"
   ]
  },
  {
   "cell_type": "code",
   "execution_count": 44,
   "id": "53422995-07f4-4b46-b91f-99b46c5f5bda",
   "metadata": {},
   "outputs": [
    {
     "data": {
      "text/html": [
       "<div>\n",
       "<style scoped>\n",
       "    .dataframe tbody tr th:only-of-type {\n",
       "        vertical-align: middle;\n",
       "    }\n",
       "\n",
       "    .dataframe tbody tr th {\n",
       "        vertical-align: top;\n",
       "    }\n",
       "\n",
       "    .dataframe thead th {\n",
       "        text-align: right;\n",
       "    }\n",
       "</style>\n",
       "<table border=\"1\" class=\"dataframe\">\n",
       "  <thead>\n",
       "    <tr style=\"text-align: right;\">\n",
       "      <th></th>\n",
       "      <th>id</th>\n",
       "      <th>name</th>\n",
       "      <th>label</th>\n",
       "      <th>full_text</th>\n",
       "    </tr>\n",
       "  </thead>\n",
       "  <tbody>\n",
       "    <tr>\n",
       "      <th>0</th>\n",
       "      <td>54153414</td>\n",
       "      <td>Andrzej Duda</td>\n",
       "      <td>1.0</td>\n",
       "      <td>A comissão eleitoral da Polônia anunciou nes...</td>\n",
       "    </tr>\n",
       "    <tr>\n",
       "      <th>1</th>\n",
       "      <td>55253572</td>\n",
       "      <td>Erich Honecker</td>\n",
       "      <td>1.0</td>\n",
       "      <td>Natural e casual, elegantemente trajando ócul...</td>\n",
       "    </tr>\n",
       "    <tr>\n",
       "      <th>2</th>\n",
       "      <td>58168985</td>\n",
       "      <td>Chris Whitty</td>\n",
       "      <td>0.0</td>\n",
       "      <td>Questionados sobre isso durante a coletiva de ...</td>\n",
       "    </tr>\n",
       "    <tr>\n",
       "      <th>3</th>\n",
       "      <td>53821497</td>\n",
       "      <td>Luiz Henrique Mandetta</td>\n",
       "      <td>1.0</td>\n",
       "      <td>Discórdias sobre o uso do medicamento teriam ...</td>\n",
       "    </tr>\n",
       "    <tr>\n",
       "      <th>4</th>\n",
       "      <td>57170897</td>\n",
       "      <td>Angela Merkel</td>\n",
       "      <td>0.0</td>\n",
       "      <td>Em setembro, a Alemanha realiza eleições ger...</td>\n",
       "    </tr>\n",
       "  </tbody>\n",
       "</table>\n",
       "</div>"
      ],
      "text/plain": [
       "         id                    name  label  \\\n",
       "0  54153414            Andrzej Duda    1.0   \n",
       "1  55253572          Erich Honecker    1.0   \n",
       "2  58168985            Chris Whitty    0.0   \n",
       "3  53821497  Luiz Henrique Mandetta    1.0   \n",
       "4  57170897           Angela Merkel    0.0   \n",
       "\n",
       "                                           full_text  \n",
       "0  A comissão eleitoral da Polônia anunciou nes...  \n",
       "1  Natural e casual, elegantemente trajando ócul...  \n",
       "2  Questionados sobre isso durante a coletiva de ...  \n",
       "3  Discórdias sobre o uso do medicamento teriam ...  \n",
       "4  Em setembro, a Alemanha realiza eleições ger...  "
      ]
     },
     "execution_count": 44,
     "metadata": {},
     "output_type": "execute_result"
    }
   ],
   "source": [
    "training_data.head()"
   ]
  },
  {
   "cell_type": "markdown",
   "id": "37361dba-6d2b-4f74-b646-86d85b156cd1",
   "metadata": {},
   "source": [
    "Create, once again, the input"
   ]
  },
  {
   "cell_type": "code",
   "execution_count": 45,
   "id": "a69063df-dddc-44b8-82bb-8505bec11ef2",
   "metadata": {},
   "outputs": [],
   "source": [
    "training_data['input'] = 'TEXT1: ' + training_data['name'] + '; TEXT2: ' + training_data['full_text']"
   ]
  },
  {
   "cell_type": "code",
   "execution_count": 46,
   "id": "789158aa-e0cc-4b26-95de-1179a45a0727",
   "metadata": {},
   "outputs": [
    {
     "data": {
      "text/html": [
       "<div>\n",
       "<style scoped>\n",
       "    .dataframe tbody tr th:only-of-type {\n",
       "        vertical-align: middle;\n",
       "    }\n",
       "\n",
       "    .dataframe tbody tr th {\n",
       "        vertical-align: top;\n",
       "    }\n",
       "\n",
       "    .dataframe thead th {\n",
       "        text-align: right;\n",
       "    }\n",
       "</style>\n",
       "<table border=\"1\" class=\"dataframe\">\n",
       "  <thead>\n",
       "    <tr style=\"text-align: right;\">\n",
       "      <th></th>\n",
       "      <th>id</th>\n",
       "      <th>name</th>\n",
       "      <th>label</th>\n",
       "      <th>full_text</th>\n",
       "      <th>input</th>\n",
       "    </tr>\n",
       "  </thead>\n",
       "  <tbody>\n",
       "    <tr>\n",
       "      <th>0</th>\n",
       "      <td>54153414</td>\n",
       "      <td>Andrzej Duda</td>\n",
       "      <td>1.0</td>\n",
       "      <td>A comissão eleitoral da Polônia anunciou nes...</td>\n",
       "      <td>TEXT1: Andrzej Duda; TEXT2: A comissão eleito...</td>\n",
       "    </tr>\n",
       "    <tr>\n",
       "      <th>1</th>\n",
       "      <td>55253572</td>\n",
       "      <td>Erich Honecker</td>\n",
       "      <td>1.0</td>\n",
       "      <td>Natural e casual, elegantemente trajando ócul...</td>\n",
       "      <td>TEXT1: Erich Honecker; TEXT2: Natural e casual...</td>\n",
       "    </tr>\n",
       "    <tr>\n",
       "      <th>2</th>\n",
       "      <td>58168985</td>\n",
       "      <td>Chris Whitty</td>\n",
       "      <td>0.0</td>\n",
       "      <td>Questionados sobre isso durante a coletiva de ...</td>\n",
       "      <td>TEXT1: Chris Whitty; TEXT2: Questionados sobre...</td>\n",
       "    </tr>\n",
       "    <tr>\n",
       "      <th>3</th>\n",
       "      <td>53821497</td>\n",
       "      <td>Luiz Henrique Mandetta</td>\n",
       "      <td>1.0</td>\n",
       "      <td>Discórdias sobre o uso do medicamento teriam ...</td>\n",
       "      <td>TEXT1: Luiz Henrique Mandetta; TEXT2: Discórd...</td>\n",
       "    </tr>\n",
       "    <tr>\n",
       "      <th>4</th>\n",
       "      <td>57170897</td>\n",
       "      <td>Angela Merkel</td>\n",
       "      <td>0.0</td>\n",
       "      <td>Em setembro, a Alemanha realiza eleições ger...</td>\n",
       "      <td>TEXT1: Angela Merkel; TEXT2: Em setembro, a Al...</td>\n",
       "    </tr>\n",
       "  </tbody>\n",
       "</table>\n",
       "</div>"
      ],
      "text/plain": [
       "         id                    name  label  \\\n",
       "0  54153414            Andrzej Duda    1.0   \n",
       "1  55253572          Erich Honecker    1.0   \n",
       "2  58168985            Chris Whitty    0.0   \n",
       "3  53821497  Luiz Henrique Mandetta    1.0   \n",
       "4  57170897           Angela Merkel    0.0   \n",
       "\n",
       "                                           full_text  \\\n",
       "0  A comissão eleitoral da Polônia anunciou nes...   \n",
       "1  Natural e casual, elegantemente trajando ócul...   \n",
       "2  Questionados sobre isso durante a coletiva de ...   \n",
       "3  Discórdias sobre o uso do medicamento teriam ...   \n",
       "4  Em setembro, a Alemanha realiza eleições ger...   \n",
       "\n",
       "                                               input  \n",
       "0  TEXT1: Andrzej Duda; TEXT2: A comissão eleito...  \n",
       "1  TEXT1: Erich Honecker; TEXT2: Natural e casual...  \n",
       "2  TEXT1: Chris Whitty; TEXT2: Questionados sobre...  \n",
       "3  TEXT1: Luiz Henrique Mandetta; TEXT2: Discórd...  \n",
       "4  TEXT1: Angela Merkel; TEXT2: Em setembro, a Al...  "
      ]
     },
     "execution_count": 46,
     "metadata": {},
     "output_type": "execute_result"
    }
   ],
   "source": [
    "training_data.head()"
   ]
  },
  {
   "cell_type": "markdown",
   "id": "b62a0888-f687-40b2-bdf8-5b18be31b3cb",
   "metadata": {},
   "source": [
    "Check"
   ]
  },
  {
   "cell_type": "code",
   "execution_count": 47,
   "id": "a3f71af7-1c3f-4090-8bfe-9eb2269f6656",
   "metadata": {},
   "outputs": [
    {
     "name": "stdout",
     "output_type": "stream",
     "text": [
      "Winfried Kretschmann\n",
      "\n",
      "Segundo o governador Winfried Kretschmann, o tráfego de fronteira com áreas de risco do coronavírus será severamente controlado. Quem trabalha nos países vizinhos poderá atravessar a fronteira para esse fim, mas ficam vedadas as compras internacionais. O político advertiu que muitos deixam de obedecer os regulamentos, e que para desacelerar o avanço dos contágios com o coronavírus, cada dia conta.\n",
      "\n",
      "410\n",
      "\n",
      "TEXT1: Winfried Kretschmann; TEXT2: Segundo o governador Winfried Kretschmann, o tráfego de fronteira com áreas de risco do coronavírus será severamente controlado. Quem trabalha nos países vizinhos poderá atravessar a fronteira para esse fim, mas ficam vedadas as compras internacionais. O político advertiu que muitos deixam de obedecer os regulamentos, e que para desacelerar o avanço dos contágios com o coronavírus, cada dia conta.\n",
      "\n",
      "446\n"
     ]
    }
   ],
   "source": [
    "i=100\n",
    "print(training_data.iloc[i]['name'])\n",
    "print('')\n",
    "print(training_data.iloc[i].full_text)\n",
    "print('')\n",
    "print(len(training_data.iloc[i].full_text))\n",
    "print('')\n",
    "print(training_data.iloc[i].input)\n",
    "print('')\n",
    "print(len(training_data.iloc[i].input))"
   ]
  },
  {
   "cell_type": "markdown",
   "id": "31b5dd06-716e-43b1-83ce-66510eae10ba",
   "metadata": {
    "tags": []
   },
   "source": [
    "## Format the dataset"
   ]
  },
  {
   "cell_type": "markdown",
   "id": "85fd994d-89e7-4935-aeb1-8c89e7c77bb2",
   "metadata": {},
   "source": [
    "Conform to Transformers standard dataset format."
   ]
  },
  {
   "cell_type": "code",
   "execution_count": 48,
   "id": "6b6bc3df-5be7-4996-9c22-3e1f2e545bef",
   "metadata": {},
   "outputs": [],
   "source": [
    "training_ds = Dataset.from_pandas(training_data)"
   ]
  },
  {
   "cell_type": "markdown",
   "id": "488a556a-9afa-4901-8d0c-f072e334a647",
   "metadata": {},
   "source": [
    "Take a look at the dataset"
   ]
  },
  {
   "cell_type": "code",
   "execution_count": 49,
   "id": "cbf78ae8-f34d-4825-ae63-ff98b6aa805f",
   "metadata": {},
   "outputs": [
    {
     "data": {
      "text/plain": [
       "Dataset({\n",
       "    features: ['id', 'name', 'label', 'full_text', 'input'],\n",
       "    num_rows: 7840\n",
       "})"
      ]
     },
     "execution_count": 49,
     "metadata": {},
     "output_type": "execute_result"
    }
   ],
   "source": [
    "training_ds"
   ]
  },
  {
   "cell_type": "markdown",
   "id": "8a728c40-4c0e-4f71-bc24-4e9f8aec4b03",
   "metadata": {
    "tags": []
   },
   "source": [
    "## Tokenization"
   ]
  },
  {
   "cell_type": "code",
   "execution_count": 50,
   "id": "7edabe6d-0dd1-4a21-b8a3-f4305b15e74d",
   "metadata": {},
   "outputs": [
    {
     "data": {
      "text/html": [
       "<div>\n",
       "<style scoped>\n",
       "    .dataframe tbody tr th:only-of-type {\n",
       "        vertical-align: middle;\n",
       "    }\n",
       "\n",
       "    .dataframe tbody tr th {\n",
       "        vertical-align: top;\n",
       "    }\n",
       "\n",
       "    .dataframe thead th {\n",
       "        text-align: right;\n",
       "    }\n",
       "</style>\n",
       "<table border=\"1\" class=\"dataframe\">\n",
       "  <thead>\n",
       "    <tr style=\"text-align: right;\">\n",
       "      <th></th>\n",
       "      <th>id</th>\n",
       "      <th>name</th>\n",
       "      <th>label</th>\n",
       "      <th>full_text</th>\n",
       "      <th>input</th>\n",
       "    </tr>\n",
       "  </thead>\n",
       "  <tbody>\n",
       "    <tr>\n",
       "      <th>0</th>\n",
       "      <td>54153414</td>\n",
       "      <td>Andrzej Duda</td>\n",
       "      <td>1.0</td>\n",
       "      <td>A comissão eleitoral da Polônia anunciou nes...</td>\n",
       "      <td>TEXT1: Andrzej Duda; TEXT2: A comissão eleito...</td>\n",
       "    </tr>\n",
       "    <tr>\n",
       "      <th>1</th>\n",
       "      <td>55253572</td>\n",
       "      <td>Erich Honecker</td>\n",
       "      <td>1.0</td>\n",
       "      <td>Natural e casual, elegantemente trajando ócul...</td>\n",
       "      <td>TEXT1: Erich Honecker; TEXT2: Natural e casual...</td>\n",
       "    </tr>\n",
       "    <tr>\n",
       "      <th>2</th>\n",
       "      <td>58168985</td>\n",
       "      <td>Chris Whitty</td>\n",
       "      <td>0.0</td>\n",
       "      <td>Questionados sobre isso durante a coletiva de ...</td>\n",
       "      <td>TEXT1: Chris Whitty; TEXT2: Questionados sobre...</td>\n",
       "    </tr>\n",
       "    <tr>\n",
       "      <th>3</th>\n",
       "      <td>53821497</td>\n",
       "      <td>Luiz Henrique Mandetta</td>\n",
       "      <td>1.0</td>\n",
       "      <td>Discórdias sobre o uso do medicamento teriam ...</td>\n",
       "      <td>TEXT1: Luiz Henrique Mandetta; TEXT2: Discórd...</td>\n",
       "    </tr>\n",
       "    <tr>\n",
       "      <th>4</th>\n",
       "      <td>57170897</td>\n",
       "      <td>Angela Merkel</td>\n",
       "      <td>0.0</td>\n",
       "      <td>Em setembro, a Alemanha realiza eleições ger...</td>\n",
       "      <td>TEXT1: Angela Merkel; TEXT2: Em setembro, a Al...</td>\n",
       "    </tr>\n",
       "    <tr>\n",
       "      <th>...</th>\n",
       "      <td>...</td>\n",
       "      <td>...</td>\n",
       "      <td>...</td>\n",
       "      <td>...</td>\n",
       "      <td>...</td>\n",
       "    </tr>\n",
       "    <tr>\n",
       "      <th>7835</th>\n",
       "      <td>61292150</td>\n",
       "      <td>Dilma Rousseff</td>\n",
       "      <td>0.0</td>\n",
       "      <td>O pesquisador situa o governo Fernando Henriqu...</td>\n",
       "      <td>TEXT1: Dilma Rousseff; TEXT2: O pesquisador si...</td>\n",
       "    </tr>\n",
       "    <tr>\n",
       "      <th>7836</th>\n",
       "      <td>60338691</td>\n",
       "      <td>Thomas Mann</td>\n",
       "      <td>1.0</td>\n",
       "      <td>Além disso, ela mesma traduzia para o portugu...</td>\n",
       "      <td>TEXT1: Thomas Mann; TEXT2: Além disso, ela me...</td>\n",
       "    </tr>\n",
       "    <tr>\n",
       "      <th>7837</th>\n",
       "      <td>57352798</td>\n",
       "      <td>Donald Trump</td>\n",
       "      <td>1.0</td>\n",
       "      <td>A mesma sequência de tuítes na conta oficial...</td>\n",
       "      <td>TEXT1: Donald Trump; TEXT2: A mesma sequência...</td>\n",
       "    </tr>\n",
       "    <tr>\n",
       "      <th>7838</th>\n",
       "      <td>61662604</td>\n",
       "      <td>Bolsonaro</td>\n",
       "      <td>1.0</td>\n",
       "      <td>A postura oficial do Brasil tem sido favoráve...</td>\n",
       "      <td>TEXT1: Bolsonaro; TEXT2: A postura oficial do ...</td>\n",
       "    </tr>\n",
       "    <tr>\n",
       "      <th>7839</th>\n",
       "      <td>55919036</td>\n",
       "      <td>Michelle Bachelet</td>\n",
       "      <td>0.0</td>\n",
       "      <td>\"A RSF está indignada com este novo crime da ...</td>\n",
       "      <td>TEXT1: Michelle Bachelet; TEXT2: \"A RSF está ...</td>\n",
       "    </tr>\n",
       "  </tbody>\n",
       "</table>\n",
       "<p>7840 rows × 5 columns</p>\n",
       "</div>"
      ],
      "text/plain": [
       "            id                    name  label  \\\n",
       "0     54153414            Andrzej Duda    1.0   \n",
       "1     55253572          Erich Honecker    1.0   \n",
       "2     58168985            Chris Whitty    0.0   \n",
       "3     53821497  Luiz Henrique Mandetta    1.0   \n",
       "4     57170897           Angela Merkel    0.0   \n",
       "...        ...                     ...    ...   \n",
       "7835  61292150          Dilma Rousseff    0.0   \n",
       "7836  60338691             Thomas Mann    1.0   \n",
       "7837  57352798            Donald Trump    1.0   \n",
       "7838  61662604               Bolsonaro    1.0   \n",
       "7839  55919036       Michelle Bachelet    0.0   \n",
       "\n",
       "                                              full_text  \\\n",
       "0     A comissão eleitoral da Polônia anunciou nes...   \n",
       "1     Natural e casual, elegantemente trajando ócul...   \n",
       "2     Questionados sobre isso durante a coletiva de ...   \n",
       "3     Discórdias sobre o uso do medicamento teriam ...   \n",
       "4     Em setembro, a Alemanha realiza eleições ger...   \n",
       "...                                                 ...   \n",
       "7835  O pesquisador situa o governo Fernando Henriqu...   \n",
       "7836  Além disso, ela mesma traduzia para o portugu...   \n",
       "7837  A mesma sequência de tuítes na conta oficial...   \n",
       "7838  A postura oficial do Brasil tem sido favoráve...   \n",
       "7839  \"A RSF está indignada com este novo crime da ...   \n",
       "\n",
       "                                                  input  \n",
       "0     TEXT1: Andrzej Duda; TEXT2: A comissão eleito...  \n",
       "1     TEXT1: Erich Honecker; TEXT2: Natural e casual...  \n",
       "2     TEXT1: Chris Whitty; TEXT2: Questionados sobre...  \n",
       "3     TEXT1: Luiz Henrique Mandetta; TEXT2: Discórd...  \n",
       "4     TEXT1: Angela Merkel; TEXT2: Em setembro, a Al...  \n",
       "...                                                 ...  \n",
       "7835  TEXT1: Dilma Rousseff; TEXT2: O pesquisador si...  \n",
       "7836  TEXT1: Thomas Mann; TEXT2: Além disso, ela me...  \n",
       "7837  TEXT1: Donald Trump; TEXT2: A mesma sequência...  \n",
       "7838  TEXT1: Bolsonaro; TEXT2: A postura oficial do ...  \n",
       "7839  TEXT1: Michelle Bachelet; TEXT2: \"A RSF está ...  \n",
       "\n",
       "[7840 rows x 5 columns]"
      ]
     },
     "execution_count": 50,
     "metadata": {},
     "output_type": "execute_result"
    }
   ],
   "source": [
    "training_data"
   ]
  },
  {
   "cell_type": "markdown",
   "id": "4b92be8b-7453-4ddc-bd37-120ca8471148",
   "metadata": {},
   "source": [
    "Point to our model"
   ]
  },
  {
   "cell_type": "code",
   "execution_count": 51,
   "id": "98f83bdb-1f40-4258-9c3d-945694216ee9",
   "metadata": {
    "tags": []
   },
   "outputs": [],
   "source": [
    "model_nm = '/Users/stefano/bert-base-multilingual-cased-ner-hrl-namesGenderPTv2'\n",
    "tokz = AutoTokenizer.from_pretrained(model_nm)"
   ]
  },
  {
   "cell_type": "markdown",
   "id": "b7c8de94-e415-482c-805e-61cb0d5d6dd5",
   "metadata": {},
   "source": [
    "We can check the indices of the special token IDs like so"
   ]
  },
  {
   "cell_type": "code",
   "execution_count": 52,
   "id": "54d2bbfa-ee26-4459-8307-7654de97194a",
   "metadata": {},
   "outputs": [
    {
     "data": {
      "text/plain": [
       "['[UNK]', '[SEP]', '[PAD]', '[CLS]', '[MASK]']"
      ]
     },
     "execution_count": 52,
     "metadata": {},
     "output_type": "execute_result"
    }
   ],
   "source": [
    "tokz.all_special_tokens"
   ]
  },
  {
   "cell_type": "markdown",
   "id": "be0d0674-0fdf-492c-ac79-9a2aaec76061",
   "metadata": {},
   "source": [
    "Function to tokenize the input"
   ]
  },
  {
   "cell_type": "code",
   "execution_count": 53,
   "id": "eb439013-b6b5-4959-b9e7-e326141c4bc0",
   "metadata": {},
   "outputs": [],
   "source": [
    "def tok_func(x):\n",
    "    return tokz (x[\"input\"])"
   ]
  },
  {
   "cell_type": "markdown",
   "id": "9e5cdc6c-6013-419f-ac02-2634c02c85df",
   "metadata": {},
   "source": [
    "Tokenize the dataset and remove columns that are no longer needed"
   ]
  },
  {
   "cell_type": "code",
   "execution_count": 54,
   "id": "734dc714-0673-46bb-b3ab-272545d845d6",
   "metadata": {},
   "outputs": [
    {
     "data": {
      "text/plain": [
       "Dataset({\n",
       "    features: ['id', 'name', 'label', 'full_text', 'input'],\n",
       "    num_rows: 7840\n",
       "})"
      ]
     },
     "execution_count": 54,
     "metadata": {},
     "output_type": "execute_result"
    }
   ],
   "source": [
    "training_ds"
   ]
  },
  {
   "cell_type": "code",
   "execution_count": 55,
   "id": "9cea6b0d-0991-4c4b-a12f-d0a376beb540",
   "metadata": {},
   "outputs": [
    {
     "name": "stderr",
     "output_type": "stream",
     "text": [
      "Parameter 'function'=<function tok_func at 0x7fc7d951b130> of the transform datasets.arrow_dataset.Dataset._map_single couldn't be hashed properly, a random hash was used instead. Make sure your transforms and parameters are serializable with pickle or dill for the dataset fingerprinting and caching to work. If you reuse this transform, the caching mechanism will consider it to be different from the previous calls and recompute everything. This warning is only showed once. Subsequent hashing failures won't be showed.\n",
      " 88%|████████▊ | 7/8 [00:00<00:00,  8.27ba/s]\n"
     ]
    }
   ],
   "source": [
    "cols = ['id', 'name', 'full_text', 'input']\n",
    "tok_training_ds = training_ds.map(tok_func, batched=True, remove_columns=cols)"
   ]
  },
  {
   "cell_type": "markdown",
   "id": "8c8a9bde-a77f-4d6c-939b-4b1f43a8f7e5",
   "metadata": {},
   "source": [
    "Take a look at the tokenized dataset"
   ]
  },
  {
   "cell_type": "code",
   "execution_count": 56,
   "id": "e613eb1a-c0e1-48de-8bf7-63fef7fc35cb",
   "metadata": {},
   "outputs": [
    {
     "data": {
      "text/plain": [
       "Dataset({\n",
       "    features: ['label', 'input_ids', 'token_type_ids', 'attention_mask'],\n",
       "    num_rows: 7840\n",
       "})"
      ]
     },
     "execution_count": 56,
     "metadata": {},
     "output_type": "execute_result"
    }
   ],
   "source": [
    "tok_training_ds"
   ]
  },
  {
   "cell_type": "markdown",
   "id": "60a06b15-e259-4c6e-b320-af95f3fba7b2",
   "metadata": {},
   "source": [
    "## Separate the training set and the validation set"
   ]
  },
  {
   "cell_type": "markdown",
   "id": "acb28716-8af0-4d23-b883-61c4b73b02ca",
   "metadata": {},
   "source": [
    "Use a 25% of the dataset as test set (**same values and seed we used before**, in the Jupyter notebook `training/portuguese_training_v3.ipynb`)"
   ]
  },
  {
   "cell_type": "code",
   "execution_count": 57,
   "id": "cc250984-3d33-474f-afad-cfed81486109",
   "metadata": {},
   "outputs": [
    {
     "data": {
      "text/plain": [
       "DatasetDict({\n",
       "    train: Dataset({\n",
       "        features: ['label', 'input_ids', 'token_type_ids', 'attention_mask'],\n",
       "        num_rows: 5880\n",
       "    })\n",
       "    test: Dataset({\n",
       "        features: ['label', 'input_ids', 'token_type_ids', 'attention_mask'],\n",
       "        num_rows: 1960\n",
       "    })\n",
       "})"
      ]
     },
     "execution_count": 57,
     "metadata": {},
     "output_type": "execute_result"
    }
   ],
   "source": [
    "dds = tok_training_ds.train_test_split(0.25, seed=42)\n",
    "dds"
   ]
  },
  {
   "cell_type": "markdown",
   "id": "1c664dbb-a973-49c8-bf6a-6e26f1c18633",
   "metadata": {},
   "source": [
    "## Training of the model"
   ]
  },
  {
   "cell_type": "markdown",
   "id": "42e3966c-09db-4f37-9070-3a88da30bb90",
   "metadata": {},
   "source": [
    "(**Note that we are not actually gonna train the model**)"
   ]
  },
  {
   "cell_type": "markdown",
   "id": "d284aa0b-34e5-4b71-b662-fdbf082c717b",
   "metadata": {},
   "source": [
    "Transformers expects metrics to be returned as a `dict`, since that way the trainer knows what label to use, so let's create a function to do that:"
   ]
  },
  {
   "cell_type": "code",
   "execution_count": 58,
   "id": "5458f464-3211-45db-a9e6-a3b783af4c71",
   "metadata": {},
   "outputs": [],
   "source": [
    "from transformers import TrainingArguments, Trainer"
   ]
  },
  {
   "cell_type": "code",
   "execution_count": 59,
   "id": "f8cfdf76-c6f7-4723-bbef-1c88a18ea581",
   "metadata": {},
   "outputs": [],
   "source": [
    "epochs = 4\n",
    "lr = 1e-4 # Learning rate\n",
    "bs = 128 # batch size\n",
    "wd = 0.01 # weight decay"
   ]
  },
  {
   "cell_type": "markdown",
   "id": "71b61133-910b-47f0-8280-dcb31b0817c3",
   "metadata": {},
   "source": [
    "Prepare the argument. I am using the same arguments as in the example in the video (1:15:50): https://www.youtube.com/watch?v=toUgBQv1BT8&t=652s"
   ]
  },
  {
   "cell_type": "code",
   "execution_count": 60,
   "id": "7e258f98-8af0-408e-952c-6be869803d98",
   "metadata": {},
   "outputs": [],
   "source": [
    "# It gave me an error when `fp16=True` so I use `fp16=False`\n",
    "\n",
    "args = TrainingArguments('outputs',\\\n",
    "                         learning_rate=lr,\\\n",
    "                         warmup_ratio=0.1,\\\n",
    "                         lr_scheduler_type='cosine',\\\n",
    "                         fp16=False,\\\n",
    "                         evaluation_strategy=\"epoch\",\\\n",
    "                         per_device_train_batch_size=bs,\\\n",
    "                         per_device_eval_batch_size=bs*2,\\\n",
    "                         num_train_epochs=epochs,\\\n",
    "                         weight_decay=wd,\\\n",
    "                         report_to='none')"
   ]
  },
  {
   "cell_type": "code",
   "execution_count": 61,
   "id": "d1f717e3-02c3-4ee0-8694-e1cb2958be95",
   "metadata": {},
   "outputs": [],
   "source": [
    "model = AutoModelForSequenceClassification.from_pretrained(model_nm, num_labels=1, ignore_mismatched_sizes=True)\n",
    "trainer = Trainer(model, args, train_dataset=dds['train'], eval_dataset=dds['test'], tokenizer=tokz)"
   ]
  },
  {
   "cell_type": "markdown",
   "id": "8f37640c-d0b6-4fdb-bcbd-1d2e06477b8b",
   "metadata": {},
   "source": [
    "# Inference"
   ]
  },
  {
   "cell_type": "markdown",
   "id": "1abad9e1-fa16-4ee1-9f96-6173fb10a225",
   "metadata": {},
   "source": [
    "Format the data to be used"
   ]
  },
  {
   "cell_type": "code",
   "execution_count": 62,
   "id": "d86d42fb-5b1f-4155-bb06-5b4701dcb232",
   "metadata": {},
   "outputs": [
    {
     "name": "stderr",
     "output_type": "stream",
     "text": [
      " 97%|█████████▋| 38/39 [00:03<00:00, 12.22ba/s]\n"
     ]
    }
   ],
   "source": [
    "eval_ds = Dataset.from_pandas(data).map(tok_func, batched=True)"
   ]
  },
  {
   "cell_type": "code",
   "execution_count": 63,
   "id": "d796e589-0355-4fbc-8480-e3eaa524868d",
   "metadata": {},
   "outputs": [
    {
     "data": {
      "text/plain": [
       "Dataset({\n",
       "    features: ['input', 'input_ids', 'token_type_ids', 'attention_mask'],\n",
       "    num_rows: 38992\n",
       "})"
      ]
     },
     "execution_count": 63,
     "metadata": {},
     "output_type": "execute_result"
    }
   ],
   "source": [
    "eval_ds"
   ]
  },
  {
   "cell_type": "markdown",
   "id": "2f91436e-088f-4e00-a0fa-47b8d6352dd8",
   "metadata": {},
   "source": [
    "Use the previously trained model to infer/predict the values in the data set"
   ]
  },
  {
   "cell_type": "code",
   "execution_count": 64,
   "id": "5084f56b-71a5-49ef-98c8-3ea983f1600d",
   "metadata": {},
   "outputs": [
    {
     "name": "stderr",
     "output_type": "stream",
     "text": [
      "The following columns in the test set don't have a corresponding argument in `BertForSequenceClassification.forward` and have been ignored: input. If input are not expected by `BertForSequenceClassification.forward`,  you can safely ignore this message.\n",
      "***** Running Prediction *****\n",
      "  Num examples = 38992\n",
      "  Batch size = 256\n",
      "You're using a BertTokenizerFast tokenizer. Please note that with a fast tokenizer, using the `__call__` method is faster than using a method to encode the text followed by a call to the `pad` method to get a padded encoding.\n"
     ]
    },
    {
     "data": {
      "text/html": [],
      "text/plain": [
       "<IPython.core.display.HTML object>"
      ]
     },
     "metadata": {},
     "output_type": "display_data"
    }
   ],
   "source": [
    "preds = trainer.predict(eval_ds).predictions.astype(float)"
   ]
  },
  {
   "cell_type": "markdown",
   "id": "2ae60f6c-a17a-4578-a8b7-b2fc73575eb5",
   "metadata": {},
   "source": [
    "Clip and round predictions so that they are exactly 0 or 1"
   ]
  },
  {
   "cell_type": "code",
   "execution_count": 68,
   "id": "e0de9b3c-a468-4d17-a2c2-239472e14987",
   "metadata": {},
   "outputs": [],
   "source": [
    "preds_lst = []\n",
    "for n in np.clip(preds, 0, 1):\n",
    "    #print(f'{n.item():.2f}')\n",
    "    preds_lst.append(np.rint(n.item()))"
   ]
  },
  {
   "cell_type": "markdown",
   "id": "59b9f59d-e3b7-48cd-a6eb-554e6353ab69",
   "metadata": {},
   "source": [
    "Show it"
   ]
  },
  {
   "cell_type": "code",
   "execution_count": 69,
   "id": "06d8c2f1-4342-4a67-bf2b-c60bcd3d5cf3",
   "metadata": {},
   "outputs": [
    {
     "data": {
      "text/plain": [
       "[1.0, 1.0, 1.0, 1.0, 0.0, 1.0, 1.0, 1.0, 0.0, 0.0]"
      ]
     },
     "execution_count": 69,
     "metadata": {},
     "output_type": "execute_result"
    }
   ],
   "source": [
    "preds_lst[0:10]"
   ]
  },
  {
   "cell_type": "markdown",
   "id": "17e931fe-2355-44f3-8c16-10f6c6d029db",
   "metadata": {},
   "source": [
    "Add the predictions to a DataFrame"
   ]
  },
  {
   "cell_type": "code",
   "execution_count": 71,
   "id": "e006d2f6-9dd9-4c98-99f7-59bc5a236f94",
   "metadata": {},
   "outputs": [],
   "source": [
    "data_with_prediction = data.copy()\n",
    "data_with_prediction['prediction'] = preds_lst"
   ]
  },
  {
   "cell_type": "code",
   "execution_count": 73,
   "id": "3fd43cbb-f9d4-46b0-8f22-5107bf4818b0",
   "metadata": {},
   "outputs": [
    {
     "data": {
      "text/html": [
       "<div>\n",
       "<style scoped>\n",
       "    .dataframe tbody tr th:only-of-type {\n",
       "        vertical-align: middle;\n",
       "    }\n",
       "\n",
       "    .dataframe tbody tr th {\n",
       "        vertical-align: top;\n",
       "    }\n",
       "\n",
       "    .dataframe thead th {\n",
       "        text-align: right;\n",
       "    }\n",
       "</style>\n",
       "<table border=\"1\" class=\"dataframe\">\n",
       "  <thead>\n",
       "    <tr style=\"text-align: right;\">\n",
       "      <th></th>\n",
       "      <th>input</th>\n",
       "      <th>prediction</th>\n",
       "    </tr>\n",
       "  </thead>\n",
       "  <tbody>\n",
       "    <tr>\n",
       "      <th>0</th>\n",
       "      <td>TEXT1: Clemens Tönnies; TEXT2: O presidente d...</td>\n",
       "      <td>1.0</td>\n",
       "    </tr>\n",
       "    <tr>\n",
       "      <th>1</th>\n",
       "      <td>TEXT1: Gerald Asamoah; TEXT2: No mês de agost...</td>\n",
       "      <td>1.0</td>\n",
       "    </tr>\n",
       "    <tr>\n",
       "      <th>2</th>\n",
       "      <td>TEXT1: Hans Sarpei; TEXT2: No mês de agosto, ...</td>\n",
       "      <td>1.0</td>\n",
       "    </tr>\n",
       "    <tr>\n",
       "      <th>3</th>\n",
       "      <td>TEXT1: Cacau; TEXT2: No mês de agosto, durant...</td>\n",
       "      <td>1.0</td>\n",
       "    </tr>\n",
       "    <tr>\n",
       "      <th>4</th>\n",
       "      <td>TEXT1: Angela Merkel; TEXT2: Em meados de marc...</td>\n",
       "      <td>0.0</td>\n",
       "    </tr>\n",
       "    <tr>\n",
       "      <th>...</th>\n",
       "      <td>...</td>\n",
       "      <td>...</td>\n",
       "    </tr>\n",
       "    <tr>\n",
       "      <th>38987</th>\n",
       "      <td>TEXT1: Von der Leyen; TEXT2: Von der Leyen acr...</td>\n",
       "      <td>1.0</td>\n",
       "    </tr>\n",
       "    <tr>\n",
       "      <th>38988</th>\n",
       "      <td>TEXT1: Charles Michel; TEXT2: O presidente do ...</td>\n",
       "      <td>1.0</td>\n",
       "    </tr>\n",
       "    <tr>\n",
       "      <th>38989</th>\n",
       "      <td>TEXT1: Gyde Jensen; TEXT2: Na Alemanha, a pres...</td>\n",
       "      <td>0.0</td>\n",
       "    </tr>\n",
       "    <tr>\n",
       "      <th>38990</th>\n",
       "      <td>TEXT1: Angela Merkel; TEXT2: Na Alemanha, a pr...</td>\n",
       "      <td>0.0</td>\n",
       "    </tr>\n",
       "    <tr>\n",
       "      <th>38991</th>\n",
       "      <td>TEXT1: Julian Braithwaite; TEXT2: O embaixador...</td>\n",
       "      <td>1.0</td>\n",
       "    </tr>\n",
       "  </tbody>\n",
       "</table>\n",
       "<p>38992 rows × 2 columns</p>\n",
       "</div>"
      ],
      "text/plain": [
       "                                                   input  prediction\n",
       "0      TEXT1: Clemens Tönnies; TEXT2: O presidente d...         1.0\n",
       "1      TEXT1: Gerald Asamoah; TEXT2: No mês de agost...         1.0\n",
       "2      TEXT1: Hans Sarpei; TEXT2: No mês de agosto, ...         1.0\n",
       "3      TEXT1: Cacau; TEXT2: No mês de agosto, durant...         1.0\n",
       "4      TEXT1: Angela Merkel; TEXT2: Em meados de marc...         0.0\n",
       "...                                                  ...         ...\n",
       "38987  TEXT1: Von der Leyen; TEXT2: Von der Leyen acr...         1.0\n",
       "38988  TEXT1: Charles Michel; TEXT2: O presidente do ...         1.0\n",
       "38989  TEXT1: Gyde Jensen; TEXT2: Na Alemanha, a pres...         0.0\n",
       "38990  TEXT1: Angela Merkel; TEXT2: Na Alemanha, a pr...         0.0\n",
       "38991  TEXT1: Julian Braithwaite; TEXT2: O embaixador...         1.0\n",
       "\n",
       "[38992 rows x 2 columns]"
      ]
     },
     "execution_count": 73,
     "metadata": {},
     "output_type": "execute_result"
    }
   ],
   "source": [
    "data_with_prediction"
   ]
  },
  {
   "cell_type": "markdown",
   "id": "3d26c6aa-812f-4cfd-b550-6948efc95418",
   "metadata": {},
   "source": [
    "Check the predictions"
   ]
  },
  {
   "cell_type": "code",
   "execution_count": 79,
   "id": "9a6a6b08-4adf-44d2-ad7e-0c8aa4101428",
   "metadata": {},
   "outputs": [
    {
     "data": {
      "text/plain": [
       "1.0    29885\n",
       "0.0     9107\n",
       "Name: prediction, dtype: int64"
      ]
     },
     "execution_count": 79,
     "metadata": {},
     "output_type": "execute_result"
    }
   ],
   "source": [
    "data_with_prediction.prediction.value_counts()"
   ]
  },
  {
   "cell_type": "markdown",
   "id": "332b9886-2482-445d-93a3-df8e590867ae",
   "metadata": {},
   "source": [
    "# Save inferences"
   ]
  },
  {
   "cell_type": "code",
   "execution_count": 76,
   "id": "048dfef5-3b4b-4d57-8e3a-355dfd594b2f",
   "metadata": {},
   "outputs": [],
   "source": [
    "outputdir = Path.cwd()\n",
    "filename = 'portuguese_all_processed_articles.csv'\n",
    "data_with_prediction.to_csv(outputdir/filename)"
   ]
  },
  {
   "cell_type": "markdown",
   "id": "062eafa7-e778-46d3-9fb6-58eb43578618",
   "metadata": {},
   "source": [
    "# Add useful columns to the result"
   ]
  },
  {
   "cell_type": "markdown",
   "id": "36c17fb0-1221-4905-8387-8aa4ccd082ab",
   "metadata": {},
   "source": [
    "Check the two DataFrames to combine"
   ]
  },
  {
   "cell_type": "code",
   "execution_count": 110,
   "id": "a1121fe9-cc86-4051-b648-6ff91d7434c0",
   "metadata": {},
   "outputs": [
    {
     "data": {
      "text/html": [
       "<div>\n",
       "<style scoped>\n",
       "    .dataframe tbody tr th:only-of-type {\n",
       "        vertical-align: middle;\n",
       "    }\n",
       "\n",
       "    .dataframe tbody tr th {\n",
       "        vertical-align: top;\n",
       "    }\n",
       "\n",
       "    .dataframe thead th {\n",
       "        text-align: right;\n",
       "    }\n",
       "</style>\n",
       "<table border=\"1\" class=\"dataframe\">\n",
       "  <thead>\n",
       "    <tr style=\"text-align: right;\">\n",
       "      <th></th>\n",
       "      <th>id</th>\n",
       "      <th>name</th>\n",
       "      <th>full_text</th>\n",
       "      <th>input</th>\n",
       "    </tr>\n",
       "  </thead>\n",
       "  <tbody>\n",
       "    <tr>\n",
       "      <th>0</th>\n",
       "      <td>54006424</td>\n",
       "      <td>Clemens Tönnies</td>\n",
       "      <td>O presidente do FC Schalke 04 e proprietário ...</td>\n",
       "      <td>TEXT1: Clemens Tönnies; TEXT2: O presidente d...</td>\n",
       "    </tr>\n",
       "    <tr>\n",
       "      <th>1</th>\n",
       "      <td>54006424</td>\n",
       "      <td>Gerald Asamoah</td>\n",
       "      <td>No mês de agosto, durante um evento do clube,...</td>\n",
       "      <td>TEXT1: Gerald Asamoah; TEXT2: No mês de agost...</td>\n",
       "    </tr>\n",
       "    <tr>\n",
       "      <th>2</th>\n",
       "      <td>54006424</td>\n",
       "      <td>Hans Sarpei</td>\n",
       "      <td>No mês de agosto, durante um evento do clube,...</td>\n",
       "      <td>TEXT1: Hans Sarpei; TEXT2: No mês de agosto, ...</td>\n",
       "    </tr>\n",
       "    <tr>\n",
       "      <th>3</th>\n",
       "      <td>54006424</td>\n",
       "      <td>Cacau</td>\n",
       "      <td>No mês de agosto, durante um evento do clube,...</td>\n",
       "      <td>TEXT1: Cacau; TEXT2: No mês de agosto, durant...</td>\n",
       "    </tr>\n",
       "    <tr>\n",
       "      <th>4</th>\n",
       "      <td>54003004</td>\n",
       "      <td>Angela Merkel</td>\n",
       "      <td>Em meados de março, quando o coronavírus com...</td>\n",
       "      <td>TEXT1: Angela Merkel; TEXT2: Em meados de marc...</td>\n",
       "    </tr>\n",
       "    <tr>\n",
       "      <th>...</th>\n",
       "      <td>...</td>\n",
       "      <td>...</td>\n",
       "      <td>...</td>\n",
       "      <td>...</td>\n",
       "    </tr>\n",
       "    <tr>\n",
       "      <th>38987</th>\n",
       "      <td>54005845</td>\n",
       "      <td>Von der Leyen</td>\n",
       "      <td>Von der Leyen acrescentou que a UE discute med...</td>\n",
       "      <td>TEXT1: Von der Leyen; TEXT2: Von der Leyen acr...</td>\n",
       "    </tr>\n",
       "    <tr>\n",
       "      <th>38988</th>\n",
       "      <td>54005845</td>\n",
       "      <td>Charles Michel</td>\n",
       "      <td>O presidente do Conselho Europeu, Charles Mich...</td>\n",
       "      <td>TEXT1: Charles Michel; TEXT2: O presidente do ...</td>\n",
       "    </tr>\n",
       "    <tr>\n",
       "      <th>38989</th>\n",
       "      <td>54005845</td>\n",
       "      <td>Gyde Jensen</td>\n",
       "      <td>Na Alemanha, a presidente do Comitê de Direit...</td>\n",
       "      <td>TEXT1: Gyde Jensen; TEXT2: Na Alemanha, a pres...</td>\n",
       "    </tr>\n",
       "    <tr>\n",
       "      <th>38990</th>\n",
       "      <td>54005845</td>\n",
       "      <td>Angela Merkel</td>\n",
       "      <td>Na Alemanha, a presidente do Comitê de Direit...</td>\n",
       "      <td>TEXT1: Angela Merkel; TEXT2: Na Alemanha, a pr...</td>\n",
       "    </tr>\n",
       "    <tr>\n",
       "      <th>38991</th>\n",
       "      <td>54005845</td>\n",
       "      <td>Julian Braithwaite</td>\n",
       "      <td>O embaixador da ONU em Genebra, Julian Braithw...</td>\n",
       "      <td>TEXT1: Julian Braithwaite; TEXT2: O embaixador...</td>\n",
       "    </tr>\n",
       "  </tbody>\n",
       "</table>\n",
       "<p>38992 rows × 4 columns</p>\n",
       "</div>"
      ],
      "text/plain": [
       "             id                name  \\\n",
       "0      54006424    Clemens Tönnies   \n",
       "1      54006424      Gerald Asamoah   \n",
       "2      54006424         Hans Sarpei   \n",
       "3      54006424               Cacau   \n",
       "4      54003004       Angela Merkel   \n",
       "...         ...                 ...   \n",
       "38987  54005845       Von der Leyen   \n",
       "38988  54005845      Charles Michel   \n",
       "38989  54005845         Gyde Jensen   \n",
       "38990  54005845       Angela Merkel   \n",
       "38991  54005845  Julian Braithwaite   \n",
       "\n",
       "                                               full_text  \\\n",
       "0      O presidente do FC Schalke 04 e proprietário ...   \n",
       "1      No mês de agosto, durante um evento do clube,...   \n",
       "2      No mês de agosto, durante um evento do clube,...   \n",
       "3      No mês de agosto, durante um evento do clube,...   \n",
       "4      Em meados de março, quando o coronavírus com...   \n",
       "...                                                  ...   \n",
       "38987  Von der Leyen acrescentou que a UE discute med...   \n",
       "38988  O presidente do Conselho Europeu, Charles Mich...   \n",
       "38989  Na Alemanha, a presidente do Comitê de Direit...   \n",
       "38990  Na Alemanha, a presidente do Comitê de Direit...   \n",
       "38991  O embaixador da ONU em Genebra, Julian Braithw...   \n",
       "\n",
       "                                                   input  \n",
       "0      TEXT1: Clemens Tönnies; TEXT2: O presidente d...  \n",
       "1      TEXT1: Gerald Asamoah; TEXT2: No mês de agost...  \n",
       "2      TEXT1: Hans Sarpei; TEXT2: No mês de agosto, ...  \n",
       "3      TEXT1: Cacau; TEXT2: No mês de agosto, durant...  \n",
       "4      TEXT1: Angela Merkel; TEXT2: Em meados de marc...  \n",
       "...                                                  ...  \n",
       "38987  TEXT1: Von der Leyen; TEXT2: Von der Leyen acr...  \n",
       "38988  TEXT1: Charles Michel; TEXT2: O presidente do ...  \n",
       "38989  TEXT1: Gyde Jensen; TEXT2: Na Alemanha, a pres...  \n",
       "38990  TEXT1: Angela Merkel; TEXT2: Na Alemanha, a pr...  \n",
       "38991  TEXT1: Julian Braithwaite; TEXT2: O embaixador...  \n",
       "\n",
       "[38992 rows x 4 columns]"
      ]
     },
     "execution_count": 110,
     "metadata": {},
     "output_type": "execute_result"
    }
   ],
   "source": [
    "data"
   ]
  },
  {
   "cell_type": "code",
   "execution_count": 111,
   "id": "71ad4c57-a600-424e-8135-e10709e09eb5",
   "metadata": {},
   "outputs": [
    {
     "data": {
      "text/html": [
       "<div>\n",
       "<style scoped>\n",
       "    .dataframe tbody tr th:only-of-type {\n",
       "        vertical-align: middle;\n",
       "    }\n",
       "\n",
       "    .dataframe tbody tr th {\n",
       "        vertical-align: top;\n",
       "    }\n",
       "\n",
       "    .dataframe thead th {\n",
       "        text-align: right;\n",
       "    }\n",
       "</style>\n",
       "<table border=\"1\" class=\"dataframe\">\n",
       "  <thead>\n",
       "    <tr style=\"text-align: right;\">\n",
       "      <th></th>\n",
       "      <th>input</th>\n",
       "      <th>prediction</th>\n",
       "    </tr>\n",
       "  </thead>\n",
       "  <tbody>\n",
       "    <tr>\n",
       "      <th>0</th>\n",
       "      <td>TEXT1: Clemens Tönnies; TEXT2: O presidente d...</td>\n",
       "      <td>1.0</td>\n",
       "    </tr>\n",
       "    <tr>\n",
       "      <th>1</th>\n",
       "      <td>TEXT1: Gerald Asamoah; TEXT2: No mês de agost...</td>\n",
       "      <td>1.0</td>\n",
       "    </tr>\n",
       "    <tr>\n",
       "      <th>2</th>\n",
       "      <td>TEXT1: Hans Sarpei; TEXT2: No mês de agosto, ...</td>\n",
       "      <td>1.0</td>\n",
       "    </tr>\n",
       "    <tr>\n",
       "      <th>3</th>\n",
       "      <td>TEXT1: Cacau; TEXT2: No mês de agosto, durant...</td>\n",
       "      <td>1.0</td>\n",
       "    </tr>\n",
       "    <tr>\n",
       "      <th>4</th>\n",
       "      <td>TEXT1: Angela Merkel; TEXT2: Em meados de marc...</td>\n",
       "      <td>0.0</td>\n",
       "    </tr>\n",
       "    <tr>\n",
       "      <th>...</th>\n",
       "      <td>...</td>\n",
       "      <td>...</td>\n",
       "    </tr>\n",
       "    <tr>\n",
       "      <th>38987</th>\n",
       "      <td>TEXT1: Von der Leyen; TEXT2: Von der Leyen acr...</td>\n",
       "      <td>1.0</td>\n",
       "    </tr>\n",
       "    <tr>\n",
       "      <th>38988</th>\n",
       "      <td>TEXT1: Charles Michel; TEXT2: O presidente do ...</td>\n",
       "      <td>1.0</td>\n",
       "    </tr>\n",
       "    <tr>\n",
       "      <th>38989</th>\n",
       "      <td>TEXT1: Gyde Jensen; TEXT2: Na Alemanha, a pres...</td>\n",
       "      <td>0.0</td>\n",
       "    </tr>\n",
       "    <tr>\n",
       "      <th>38990</th>\n",
       "      <td>TEXT1: Angela Merkel; TEXT2: Na Alemanha, a pr...</td>\n",
       "      <td>0.0</td>\n",
       "    </tr>\n",
       "    <tr>\n",
       "      <th>38991</th>\n",
       "      <td>TEXT1: Julian Braithwaite; TEXT2: O embaixador...</td>\n",
       "      <td>1.0</td>\n",
       "    </tr>\n",
       "  </tbody>\n",
       "</table>\n",
       "<p>38992 rows × 2 columns</p>\n",
       "</div>"
      ],
      "text/plain": [
       "                                                   input  prediction\n",
       "0      TEXT1: Clemens Tönnies; TEXT2: O presidente d...         1.0\n",
       "1      TEXT1: Gerald Asamoah; TEXT2: No mês de agost...         1.0\n",
       "2      TEXT1: Hans Sarpei; TEXT2: No mês de agosto, ...         1.0\n",
       "3      TEXT1: Cacau; TEXT2: No mês de agosto, durant...         1.0\n",
       "4      TEXT1: Angela Merkel; TEXT2: Em meados de marc...         0.0\n",
       "...                                                  ...         ...\n",
       "38987  TEXT1: Von der Leyen; TEXT2: Von der Leyen acr...         1.0\n",
       "38988  TEXT1: Charles Michel; TEXT2: O presidente do ...         1.0\n",
       "38989  TEXT1: Gyde Jensen; TEXT2: Na Alemanha, a pres...         0.0\n",
       "38990  TEXT1: Angela Merkel; TEXT2: Na Alemanha, a pr...         0.0\n",
       "38991  TEXT1: Julian Braithwaite; TEXT2: O embaixador...         1.0\n",
       "\n",
       "[38992 rows x 2 columns]"
      ]
     },
     "execution_count": 111,
     "metadata": {},
     "output_type": "execute_result"
    }
   ],
   "source": [
    "data_with_prediction"
   ]
  },
  {
   "cell_type": "markdown",
   "id": "bc435a24-bf49-4dec-bf08-ed4211e707eb",
   "metadata": {},
   "source": [
    "Confirm that we are combining the right DataFrames"
   ]
  },
  {
   "cell_type": "code",
   "execution_count": 113,
   "id": "b7ee708c-6aa5-4dc2-86e0-10723099bd52",
   "metadata": {},
   "outputs": [
    {
     "data": {
      "text/plain": [
       "True"
      ]
     },
     "execution_count": 113,
     "metadata": {},
     "output_type": "execute_result"
    }
   ],
   "source": [
    "np.all(data_with_prediction.index == data.index)"
   ]
  },
  {
   "cell_type": "markdown",
   "id": "891a4235-e45e-48d6-841f-851868c8f448",
   "metadata": {},
   "source": [
    "Drop unnecessary columns"
   ]
  },
  {
   "cell_type": "code",
   "execution_count": 115,
   "id": "5673c9cf-4e04-4e62-8f40-41244301cd94",
   "metadata": {},
   "outputs": [],
   "source": [
    "data = data.drop(columns=['full_text'])"
   ]
  },
  {
   "cell_type": "markdown",
   "id": "c807db9b-3e9d-46ed-b210-c90cace97fd2",
   "metadata": {},
   "source": [
    "Add column for the predictions/inferences"
   ]
  },
  {
   "cell_type": "code",
   "execution_count": 116,
   "id": "21113799-2b76-49b2-b974-afc0c7b6117c",
   "metadata": {},
   "outputs": [],
   "source": [
    "data['prediction'] = preds_lst"
   ]
  },
  {
   "cell_type": "markdown",
   "id": "e7648379-1b2e-4efe-ba52-5e5eb01267b1",
   "metadata": {},
   "source": [
    "Check the two DataFrames to combine"
   ]
  },
  {
   "cell_type": "code",
   "execution_count": 117,
   "id": "e26f7e29-53d1-4efd-b38c-6c3cfc376832",
   "metadata": {},
   "outputs": [
    {
     "data": {
      "text/html": [
       "<div>\n",
       "<style scoped>\n",
       "    .dataframe tbody tr th:only-of-type {\n",
       "        vertical-align: middle;\n",
       "    }\n",
       "\n",
       "    .dataframe tbody tr th {\n",
       "        vertical-align: top;\n",
       "    }\n",
       "\n",
       "    .dataframe thead th {\n",
       "        text-align: right;\n",
       "    }\n",
       "</style>\n",
       "<table border=\"1\" class=\"dataframe\">\n",
       "  <thead>\n",
       "    <tr style=\"text-align: right;\">\n",
       "      <th></th>\n",
       "      <th>input</th>\n",
       "      <th>prediction</th>\n",
       "    </tr>\n",
       "  </thead>\n",
       "  <tbody>\n",
       "    <tr>\n",
       "      <th>0</th>\n",
       "      <td>TEXT1: Clemens Tönnies; TEXT2: O presidente d...</td>\n",
       "      <td>1.0</td>\n",
       "    </tr>\n",
       "    <tr>\n",
       "      <th>1</th>\n",
       "      <td>TEXT1: Gerald Asamoah; TEXT2: No mês de agost...</td>\n",
       "      <td>1.0</td>\n",
       "    </tr>\n",
       "    <tr>\n",
       "      <th>2</th>\n",
       "      <td>TEXT1: Hans Sarpei; TEXT2: No mês de agosto, ...</td>\n",
       "      <td>1.0</td>\n",
       "    </tr>\n",
       "    <tr>\n",
       "      <th>3</th>\n",
       "      <td>TEXT1: Cacau; TEXT2: No mês de agosto, durant...</td>\n",
       "      <td>1.0</td>\n",
       "    </tr>\n",
       "    <tr>\n",
       "      <th>4</th>\n",
       "      <td>TEXT1: Angela Merkel; TEXT2: Em meados de marc...</td>\n",
       "      <td>0.0</td>\n",
       "    </tr>\n",
       "    <tr>\n",
       "      <th>...</th>\n",
       "      <td>...</td>\n",
       "      <td>...</td>\n",
       "    </tr>\n",
       "    <tr>\n",
       "      <th>38987</th>\n",
       "      <td>TEXT1: Von der Leyen; TEXT2: Von der Leyen acr...</td>\n",
       "      <td>1.0</td>\n",
       "    </tr>\n",
       "    <tr>\n",
       "      <th>38988</th>\n",
       "      <td>TEXT1: Charles Michel; TEXT2: O presidente do ...</td>\n",
       "      <td>1.0</td>\n",
       "    </tr>\n",
       "    <tr>\n",
       "      <th>38989</th>\n",
       "      <td>TEXT1: Gyde Jensen; TEXT2: Na Alemanha, a pres...</td>\n",
       "      <td>0.0</td>\n",
       "    </tr>\n",
       "    <tr>\n",
       "      <th>38990</th>\n",
       "      <td>TEXT1: Angela Merkel; TEXT2: Na Alemanha, a pr...</td>\n",
       "      <td>0.0</td>\n",
       "    </tr>\n",
       "    <tr>\n",
       "      <th>38991</th>\n",
       "      <td>TEXT1: Julian Braithwaite; TEXT2: O embaixador...</td>\n",
       "      <td>1.0</td>\n",
       "    </tr>\n",
       "  </tbody>\n",
       "</table>\n",
       "<p>38992 rows × 2 columns</p>\n",
       "</div>"
      ],
      "text/plain": [
       "                                                   input  prediction\n",
       "0      TEXT1: Clemens Tönnies; TEXT2: O presidente d...         1.0\n",
       "1      TEXT1: Gerald Asamoah; TEXT2: No mês de agost...         1.0\n",
       "2      TEXT1: Hans Sarpei; TEXT2: No mês de agosto, ...         1.0\n",
       "3      TEXT1: Cacau; TEXT2: No mês de agosto, durant...         1.0\n",
       "4      TEXT1: Angela Merkel; TEXT2: Em meados de marc...         0.0\n",
       "...                                                  ...         ...\n",
       "38987  TEXT1: Von der Leyen; TEXT2: Von der Leyen acr...         1.0\n",
       "38988  TEXT1: Charles Michel; TEXT2: O presidente do ...         1.0\n",
       "38989  TEXT1: Gyde Jensen; TEXT2: Na Alemanha, a pres...         0.0\n",
       "38990  TEXT1: Angela Merkel; TEXT2: Na Alemanha, a pr...         0.0\n",
       "38991  TEXT1: Julian Braithwaite; TEXT2: O embaixador...         1.0\n",
       "\n",
       "[38992 rows x 2 columns]"
      ]
     },
     "execution_count": 117,
     "metadata": {},
     "output_type": "execute_result"
    }
   ],
   "source": [
    "data_with_prediction"
   ]
  },
  {
   "cell_type": "code",
   "execution_count": 118,
   "id": "e6061bff-d6a1-4946-a1ff-7a0b8c30f4b3",
   "metadata": {},
   "outputs": [
    {
     "data": {
      "text/html": [
       "<div>\n",
       "<style scoped>\n",
       "    .dataframe tbody tr th:only-of-type {\n",
       "        vertical-align: middle;\n",
       "    }\n",
       "\n",
       "    .dataframe tbody tr th {\n",
       "        vertical-align: top;\n",
       "    }\n",
       "\n",
       "    .dataframe thead th {\n",
       "        text-align: right;\n",
       "    }\n",
       "</style>\n",
       "<table border=\"1\" class=\"dataframe\">\n",
       "  <thead>\n",
       "    <tr style=\"text-align: right;\">\n",
       "      <th></th>\n",
       "      <th>id</th>\n",
       "      <th>name</th>\n",
       "      <th>input</th>\n",
       "      <th>prediction</th>\n",
       "    </tr>\n",
       "  </thead>\n",
       "  <tbody>\n",
       "    <tr>\n",
       "      <th>0</th>\n",
       "      <td>54006424</td>\n",
       "      <td>Clemens Tönnies</td>\n",
       "      <td>TEXT1: Clemens Tönnies; TEXT2: O presidente d...</td>\n",
       "      <td>1.0</td>\n",
       "    </tr>\n",
       "    <tr>\n",
       "      <th>1</th>\n",
       "      <td>54006424</td>\n",
       "      <td>Gerald Asamoah</td>\n",
       "      <td>TEXT1: Gerald Asamoah; TEXT2: No mês de agost...</td>\n",
       "      <td>1.0</td>\n",
       "    </tr>\n",
       "    <tr>\n",
       "      <th>2</th>\n",
       "      <td>54006424</td>\n",
       "      <td>Hans Sarpei</td>\n",
       "      <td>TEXT1: Hans Sarpei; TEXT2: No mês de agosto, ...</td>\n",
       "      <td>1.0</td>\n",
       "    </tr>\n",
       "    <tr>\n",
       "      <th>3</th>\n",
       "      <td>54006424</td>\n",
       "      <td>Cacau</td>\n",
       "      <td>TEXT1: Cacau; TEXT2: No mês de agosto, durant...</td>\n",
       "      <td>1.0</td>\n",
       "    </tr>\n",
       "    <tr>\n",
       "      <th>4</th>\n",
       "      <td>54003004</td>\n",
       "      <td>Angela Merkel</td>\n",
       "      <td>TEXT1: Angela Merkel; TEXT2: Em meados de marc...</td>\n",
       "      <td>0.0</td>\n",
       "    </tr>\n",
       "    <tr>\n",
       "      <th>...</th>\n",
       "      <td>...</td>\n",
       "      <td>...</td>\n",
       "      <td>...</td>\n",
       "      <td>...</td>\n",
       "    </tr>\n",
       "    <tr>\n",
       "      <th>38987</th>\n",
       "      <td>54005845</td>\n",
       "      <td>Von der Leyen</td>\n",
       "      <td>TEXT1: Von der Leyen; TEXT2: Von der Leyen acr...</td>\n",
       "      <td>1.0</td>\n",
       "    </tr>\n",
       "    <tr>\n",
       "      <th>38988</th>\n",
       "      <td>54005845</td>\n",
       "      <td>Charles Michel</td>\n",
       "      <td>TEXT1: Charles Michel; TEXT2: O presidente do ...</td>\n",
       "      <td>1.0</td>\n",
       "    </tr>\n",
       "    <tr>\n",
       "      <th>38989</th>\n",
       "      <td>54005845</td>\n",
       "      <td>Gyde Jensen</td>\n",
       "      <td>TEXT1: Gyde Jensen; TEXT2: Na Alemanha, a pres...</td>\n",
       "      <td>0.0</td>\n",
       "    </tr>\n",
       "    <tr>\n",
       "      <th>38990</th>\n",
       "      <td>54005845</td>\n",
       "      <td>Angela Merkel</td>\n",
       "      <td>TEXT1: Angela Merkel; TEXT2: Na Alemanha, a pr...</td>\n",
       "      <td>0.0</td>\n",
       "    </tr>\n",
       "    <tr>\n",
       "      <th>38991</th>\n",
       "      <td>54005845</td>\n",
       "      <td>Julian Braithwaite</td>\n",
       "      <td>TEXT1: Julian Braithwaite; TEXT2: O embaixador...</td>\n",
       "      <td>1.0</td>\n",
       "    </tr>\n",
       "  </tbody>\n",
       "</table>\n",
       "<p>38992 rows × 4 columns</p>\n",
       "</div>"
      ],
      "text/plain": [
       "             id                name  \\\n",
       "0      54006424    Clemens Tönnies   \n",
       "1      54006424      Gerald Asamoah   \n",
       "2      54006424         Hans Sarpei   \n",
       "3      54006424               Cacau   \n",
       "4      54003004       Angela Merkel   \n",
       "...         ...                 ...   \n",
       "38987  54005845       Von der Leyen   \n",
       "38988  54005845      Charles Michel   \n",
       "38989  54005845         Gyde Jensen   \n",
       "38990  54005845       Angela Merkel   \n",
       "38991  54005845  Julian Braithwaite   \n",
       "\n",
       "                                                   input  prediction  \n",
       "0      TEXT1: Clemens Tönnies; TEXT2: O presidente d...         1.0  \n",
       "1      TEXT1: Gerald Asamoah; TEXT2: No mês de agost...         1.0  \n",
       "2      TEXT1: Hans Sarpei; TEXT2: No mês de agosto, ...         1.0  \n",
       "3      TEXT1: Cacau; TEXT2: No mês de agosto, durant...         1.0  \n",
       "4      TEXT1: Angela Merkel; TEXT2: Em meados de marc...         0.0  \n",
       "...                                                  ...         ...  \n",
       "38987  TEXT1: Von der Leyen; TEXT2: Von der Leyen acr...         1.0  \n",
       "38988  TEXT1: Charles Michel; TEXT2: O presidente do ...         1.0  \n",
       "38989  TEXT1: Gyde Jensen; TEXT2: Na Alemanha, a pres...         0.0  \n",
       "38990  TEXT1: Angela Merkel; TEXT2: Na Alemanha, a pr...         0.0  \n",
       "38991  TEXT1: Julian Braithwaite; TEXT2: O embaixador...         1.0  \n",
       "\n",
       "[38992 rows x 4 columns]"
      ]
     },
     "execution_count": 118,
     "metadata": {},
     "output_type": "execute_result"
    }
   ],
   "source": [
    "data"
   ]
  },
  {
   "cell_type": "code",
   "execution_count": 120,
   "id": "ba21567c-4fdd-45b8-b771-5d6fdfc29089",
   "metadata": {},
   "outputs": [
    {
     "data": {
      "text/plain": [
       "True"
      ]
     },
     "execution_count": 120,
     "metadata": {},
     "output_type": "execute_result"
    }
   ],
   "source": [
    "np.all(data.input == data_with_prediction.input)"
   ]
  },
  {
   "cell_type": "code",
   "execution_count": 121,
   "id": "8781e6cd-6cea-415e-a7bb-978f35801b4e",
   "metadata": {},
   "outputs": [
    {
     "data": {
      "text/plain": [
       "0        True\n",
       "1        True\n",
       "2        True\n",
       "3        True\n",
       "4        True\n",
       "         ... \n",
       "38987    True\n",
       "38988    True\n",
       "38989    True\n",
       "38990    True\n",
       "38991    True\n",
       "Name: input, Length: 38992, dtype: bool"
      ]
     },
     "execution_count": 121,
     "metadata": {},
     "output_type": "execute_result"
    }
   ],
   "source": [
    "data.input == data_with_prediction.input"
   ]
  },
  {
   "cell_type": "code",
   "execution_count": 125,
   "id": "16391458-b15e-45a1-9036-4934a7f9844e",
   "metadata": {},
   "outputs": [],
   "source": [
    "outputdir = Path.cwd()\n",
    "filename = 'portuguese_all_processed_articles_v2.csv'\n",
    "data.to_csv(outputdir/filename, index=False)"
   ]
  }
 ],
 "metadata": {
  "kernelspec": {
   "display_name": "Python 3 (ipykernel)",
   "language": "python",
   "name": "python3"
  },
  "language_info": {
   "codemirror_mode": {
    "name": "ipython",
    "version": 3
   },
   "file_extension": ".py",
   "mimetype": "text/x-python",
   "name": "python",
   "nbconvert_exporter": "python",
   "pygments_lexer": "ipython3",
   "version": "3.10.6"
  },
  "toc-showmarkdowntxt": false
 },
 "nbformat": 4,
 "nbformat_minor": 5
}
