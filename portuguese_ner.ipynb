{
 "cells": [
  {
   "cell_type": "markdown",
   "id": "8a6e88ae-0144-4d38-974f-bd117dffb176",
   "metadata": {
    "tags": []
   },
   "source": [
    "# Imports"
   ]
  },
  {
   "cell_type": "code",
   "execution_count": 1,
   "id": "9a21fecd-dfe0-4d8a-bce9-e895145156cb",
   "metadata": {},
   "outputs": [
    {
     "data": {
      "application/javascript": "IPython.notebook.set_autosave_interval(60000)"
     },
     "metadata": {},
     "output_type": "display_data"
    },
    {
     "name": "stdout",
     "output_type": "stream",
     "text": [
      "Autosaving every 60 seconds\n"
     ]
    }
   ],
   "source": [
    "%autosave 60"
   ]
  },
  {
   "cell_type": "code",
   "execution_count": 2,
   "id": "46863ff8-f6c0-4056-94de-d6ac812695f4",
   "metadata": {},
   "outputs": [
    {
     "name": "stderr",
     "output_type": "stream",
     "text": [
      "/Users/stefano/opt/anaconda3/envs/s2ds/lib/python3.10/site-packages/tqdm/auto.py:22: TqdmWarning: IProgress not found. Please update jupyter and ipywidgets. See https://ipywidgets.readthedocs.io/en/stable/user_install.html\n",
      "  from .autonotebook import tqdm as notebook_tqdm\n"
     ]
    }
   ],
   "source": [
    "import numpy\n",
    "import seaborn\n",
    "import matplotlib.pyplot as plt\n",
    "import pandas\n",
    "import pickle\n",
    "from pathlib import Path\n",
    "from dataclasses import dataclass, field\n",
    "from tqdm import tqdm\n",
    "import transformers # conda install tensorflow\n",
    "from transformers import pipeline, AutoTokenizer, AutoModelForTokenClassification\n",
    "from IPython.display import display, HTML\n",
    "from collections import deque\n",
    "from multiprocessing import Pool\n",
    "import os\n",
    "from functools import partial\n",
    "import pandas as pd\n",
    "import numpy as np"
   ]
  },
  {
   "cell_type": "markdown",
   "id": "f749520f-4a5b-4af4-bef1-afc4f3d366c0",
   "metadata": {},
   "source": [
    "# Data ../cleaning/"
   ]
  },
  {
   "cell_type": "markdown",
   "id": "f21ff81e-cca4-471e-9740-e42dd3927954",
   "metadata": {},
   "source": [
    "It is necessary to define the class `Article` before loading the pickle file with the extracted sentences since the pickle file contains instances of this class."
   ]
  },
  {
   "cell_type": "code",
   "execution_count": 3,
   "id": "778b2140-1b72-47e7-8817-a2678b0bedab",
   "metadata": {},
   "outputs": [],
   "source": [
    "@dataclass(frozen=True)\n",
    "class Article:\n",
    "    id: int\n",
    "    language: str\n",
    "    sentences: list[str] = field(repr=False)\n",
    "    original_text: str = field(repr=False)\n",
    "    number_of_sentences: int = field(init=False)\n",
    "    persons: tuple[list] = field(init=False, repr=False)\n",
    "    \n",
    "    def __post_init__(self):\n",
    "        object.__setattr__(self, 'number_of_sentences', len(self.sentences))\n",
    "        object.__setattr__(self, 'persons', tuple([] for i in range(self.number_of_sentences))) # one list per sentence\n",
    "    \n",
    "    def render_html(self):\n",
    "        \"\"\"Print attribute `original_text` rendered in HTML\"\"\"\n",
    "        display(HTML(self.original_text))"
   ]
  },
  {
   "cell_type": "markdown",
   "id": "24d74c95-e5e6-4313-964e-7261831e300f",
   "metadata": {},
   "source": [
    "Read pickled file that stores the sentences of the articles"
   ]
  },
  {
   "cell_type": "code",
   "execution_count": 4,
   "id": "de244d26-9b13-478c-95e4-0c0ee99afa16",
   "metadata": {},
   "outputs": [],
   "source": [
    "inputdir = Path('data')\n",
    "file = 'portuguese_sentences.pickle'\n",
    "with open(inputdir/file, 'rb') as file:\n",
    "    articles = pickle.load(file)"
   ]
  },
  {
   "cell_type": "markdown",
   "id": "485eabd5-feb9-487d-81b5-39ff54b7b095",
   "metadata": {},
   "source": [
    "Show info for the first 10 articles"
   ]
  },
  {
   "cell_type": "code",
   "execution_count": 5,
   "id": "546dd5a8-1e7a-47d4-8b71-be7479fd7b8c",
   "metadata": {},
   "outputs": [
    {
     "data": {
      "text/plain": [
       "[Article(id=54006424, language='PORTUGUESE_BRAZIL', number_of_sentences=41),\n",
       " Article(id=54003004, language='PORTUGUESE_BRAZIL', number_of_sentences=34),\n",
       " Article(id=54009380, language='PORTUGUESE_BRAZIL', number_of_sentences=14),\n",
       " Article(id=54008153, language='PORTUGUESE_BRAZIL', number_of_sentences=22),\n",
       " Article(id=54009331, language='PORTUGUESE_BRAZIL', number_of_sentences=20),\n",
       " Article(id=54010979, language='PORTUGUESE_BRAZIL', number_of_sentences=32),\n",
       " Article(id=54011278, language='PORTUGUESE_BRAZIL', number_of_sentences=19),\n",
       " Article(id=54012392, language='PORTUGUESE_BRAZIL', number_of_sentences=161),\n",
       " Article(id=54015488, language='PORTUGUESE_BRAZIL', number_of_sentences=13),\n",
       " Article(id=54015413, language='PORTUGUESE_BRAZIL', number_of_sentences=19)]"
      ]
     },
     "execution_count": 5,
     "metadata": {},
     "output_type": "execute_result"
    }
   ],
   "source": [
    "articles[:10]"
   ]
  },
  {
   "cell_type": "markdown",
   "id": "3d4ef8d3-2f16-4fee-a5b5-9231eb56e9ef",
   "metadata": {},
   "source": [
    "# Named Entity Recognition (NER)"
   ]
  },
  {
   "cell_type": "markdown",
   "id": "2f29dfbb-9ae9-4291-974f-6cdc838749fa",
   "metadata": {},
   "source": [
    "Select a model from the Hugging Face hub and load it along with its tokenizer and a token-classification head (NER)."
   ]
  },
  {
   "cell_type": "code",
   "execution_count": 6,
   "id": "ec3117cc-1137-495f-b1b2-278c610a744b",
   "metadata": {},
   "outputs": [],
   "source": [
    "checkpoint = \"Davlan/bert-base-multilingual-cased-ner-hrl\"\n",
    "tokenizer = AutoTokenizer.from_pretrained(checkpoint)\n",
    "model = AutoModelForTokenClassification.from_pretrained(checkpoint)"
   ]
  },
  {
   "cell_type": "markdown",
   "id": "6fa4a95a-d1f6-4e92-888a-91c8b6867290",
   "metadata": {},
   "source": [
    "Use the pipeline for NER and group similar entities (e.g.: name and last name)."
   ]
  },
  {
   "cell_type": "code",
   "execution_count": 7,
   "id": "17987e1c-a0fd-48aa-9a32-0f978beac442",
   "metadata": {},
   "outputs": [],
   "source": [
    "nlp = pipeline(\"ner\", model=model, tokenizer=tokenizer, aggregation_strategy=\"simple\")"
   ]
  },
  {
   "cell_type": "markdown",
   "id": "3b1e30b8-1728-49a6-b223-ffbffef9ff18",
   "metadata": {},
   "source": [
    "Read the docs"
   ]
  },
  {
   "cell_type": "code",
   "execution_count": 8,
   "id": "12e03c91-085a-441d-964d-ca42a6b11229",
   "metadata": {
    "collapsed": true,
    "jupyter": {
     "outputs_hidden": true
    },
    "tags": []
   },
   "outputs": [
    {
     "name": "stdout",
     "output_type": "stream",
     "text": [
      "\u001b[0;31mSignature:\u001b[0m      \u001b[0mnlp\u001b[0m\u001b[0;34m(\u001b[0m\u001b[0minputs\u001b[0m\u001b[0;34m:\u001b[0m \u001b[0mUnion\u001b[0m\u001b[0;34m[\u001b[0m\u001b[0mstr\u001b[0m\u001b[0;34m,\u001b[0m \u001b[0mList\u001b[0m\u001b[0;34m[\u001b[0m\u001b[0mstr\u001b[0m\u001b[0;34m]\u001b[0m\u001b[0;34m]\u001b[0m\u001b[0;34m,\u001b[0m \u001b[0;34m**\u001b[0m\u001b[0mkwargs\u001b[0m\u001b[0;34m)\u001b[0m\u001b[0;34m\u001b[0m\u001b[0;34m\u001b[0m\u001b[0m\n",
      "\u001b[0;31mType:\u001b[0m           TokenClassificationPipeline\n",
      "\u001b[0;31mString form:\u001b[0m    <transformers.pipelines.token_classification.TokenClassificationPipeline object at 0x7fbf4b87ee90>\n",
      "\u001b[0;31mFile:\u001b[0m           ~/opt/anaconda3/envs/s2ds/lib/python3.10/site-packages/transformers/pipelines/token_classification.py\n",
      "\u001b[0;31mDocstring:\u001b[0m     \n",
      "Named Entity Recognition pipeline using any `ModelForTokenClassification`. See the [named entity recognition\n",
      "examples](../task_summary#named-entity-recognition) for more information.\n",
      "\n",
      "This token recognition pipeline can currently be loaded from [`pipeline`] using the following task identifier:\n",
      "`\"ner\"` (for predicting the classes of tokens in a sequence: person, organisation, location or miscellaneous).\n",
      "\n",
      "The models that this pipeline can use are models that have been fine-tuned on a token classification task. See the\n",
      "up-to-date list of available models on\n",
      "[huggingface.co/models](https://huggingface.co/models?filter=token-classification).\n",
      "\n",
      "Arguments:\n",
      "    model ([`PreTrainedModel`] or [`TFPreTrainedModel`]):\n",
      "        The model that will be used by the pipeline to make predictions. This needs to be a model inheriting from\n",
      "        [`PreTrainedModel`] for PyTorch and [`TFPreTrainedModel`] for TensorFlow.\n",
      "    tokenizer ([`PreTrainedTokenizer`]):\n",
      "        The tokenizer that will be used by the pipeline to encode data for the model. This object inherits from\n",
      "        [`PreTrainedTokenizer`].\n",
      "    modelcard (`str` or [`ModelCard`], *optional*):\n",
      "        Model card attributed to the model for this pipeline.\n",
      "    framework (`str`, *optional*):\n",
      "        The framework to use, either `\"pt\"` for PyTorch or `\"tf\"` for TensorFlow. The specified framework must be\n",
      "        installed.\n",
      "\n",
      "        If no framework is specified, will default to the one currently installed. If no framework is specified and\n",
      "        both frameworks are installed, will default to the framework of the `model`, or to PyTorch if no model is\n",
      "        provided.\n",
      "    task (`str`, defaults to `\"\"`):\n",
      "        A task-identifier for the pipeline.\n",
      "    num_workers (`int`, *optional*, defaults to 8):\n",
      "        When the pipeline will use *DataLoader* (when passing a dataset, on GPU for a Pytorch model), the number of\n",
      "        workers to be used.\n",
      "    batch_size (`int`, *optional*, defaults to 1):\n",
      "        When the pipeline will use *DataLoader* (when passing a dataset, on GPU for a Pytorch model), the size of\n",
      "        the batch to use, for inference this is not always beneficial, please read [Batching with\n",
      "        pipelines](https://huggingface.co/transformers/main_classes/pipelines.html#pipeline-batching) .\n",
      "    args_parser ([`~pipelines.ArgumentHandler`], *optional*):\n",
      "        Reference to the object in charge of parsing supplied pipeline parameters.\n",
      "    device (`int`, *optional*, defaults to -1):\n",
      "        Device ordinal for CPU/GPU supports. Setting this to -1 will leverage CPU, a positive will run the model on\n",
      "        the associated CUDA device id. You can pass native `torch.device` or a `str` too.\n",
      "    binary_output (`bool`, *optional*, defaults to `False`):\n",
      "        Flag indicating if the output the pipeline should happen in a binary format (i.e., pickle) or as raw text.\n",
      "\n",
      "    ignore_labels (`List[str]`, defaults to `[\"O\"]`):\n",
      "        A list of labels to ignore.\n",
      "    grouped_entities (`bool`, *optional*, defaults to `False`):\n",
      "        DEPRECATED, use `aggregation_strategy` instead. Whether or not to group the tokens corresponding to the\n",
      "        same entity together in the predictions or not.\n",
      "    aggregation_strategy (`str`, *optional*, defaults to `\"none\"`):\n",
      "        The strategy to fuse (or not) tokens based on the model prediction.\n",
      "\n",
      "            - \"none\" : Will simply not do any aggregation and simply return raw results from the model\n",
      "            - \"simple\" : Will attempt to group entities following the default schema. (A, B-TAG), (B, I-TAG), (C,\n",
      "              I-TAG), (D, B-TAG2) (E, B-TAG2) will end up being [{\"word\": ABC, \"entity\": \"TAG\"}, {\"word\": \"D\",\n",
      "              \"entity\": \"TAG2\"}, {\"word\": \"E\", \"entity\": \"TAG2\"}] Notice that two consecutive B tags will end up as\n",
      "              different entities. On word based languages, we might end up splitting words undesirably : Imagine\n",
      "              Microsoft being tagged as [{\"word\": \"Micro\", \"entity\": \"ENTERPRISE\"}, {\"word\": \"soft\", \"entity\":\n",
      "              \"NAME\"}]. Look for FIRST, MAX, AVERAGE for ways to mitigate that and disambiguate words (on languages\n",
      "              that support that meaning, which is basically tokens separated by a space). These mitigations will\n",
      "              only work on real words, \"New york\" might still be tagged with two different entities.\n",
      "            - \"first\" : (works only on word based models) Will use the `SIMPLE` strategy except that words, cannot\n",
      "              end up with different tags. Words will simply use the tag of the first token of the word when there\n",
      "              is ambiguity.\n",
      "            - \"average\" : (works only on word based models) Will use the `SIMPLE` strategy except that words,\n",
      "              cannot end up with different tags. scores will be averaged first across tokens, and then the maximum\n",
      "              label is applied.\n",
      "            - \"max\" : (works only on word based models) Will use the `SIMPLE` strategy except that words, cannot\n",
      "              end up with different tags. Word entity will simply be the token with the maximum score.\n",
      "\u001b[0;31mCall docstring:\u001b[0m\n",
      "Classify each token of the text(s) given as inputs.\n",
      "\n",
      "Args:\n",
      "    inputs (`str` or `List[str]`):\n",
      "        One or several texts (or one list of texts) for token classification.\n",
      "\n",
      "Return:\n",
      "    A list or a list of list of `dict`: Each result comes as a list of dictionaries (one for each token in the\n",
      "    corresponding input, or each entity if this pipeline was instantiated with an aggregation_strategy) with\n",
      "    the following keys:\n",
      "\n",
      "    - **word** (`str`) -- The token/word classified. This is obtained by decoding the selected tokens. If you\n",
      "      want to have the exact string in the original sentence, use `start` and `end`.\n",
      "    - **score** (`float`) -- The corresponding probability for `entity`.\n",
      "    - **entity** (`str`) -- The entity predicted for that token/word (it is named *entity_group* when\n",
      "      *aggregation_strategy* is not `\"none\"`.\n",
      "    - **index** (`int`, only present when `aggregation_strategy=\"none\"`) -- The index of the corresponding\n",
      "      token in the sentence.\n",
      "    - **start** (`int`, *optional*) -- The index of the start of the corresponding entity in the sentence. Only\n",
      "      exists if the offsets are available within the tokenizer\n",
      "    - **end** (`int`, *optional*) -- The index of the end of the corresponding entity in the sentence. Only\n",
      "      exists if the offsets are available within the tokenizer\n"
     ]
    }
   ],
   "source": [
    "nlp?"
   ]
  },
  {
   "cell_type": "code",
   "execution_count": 12,
   "id": "216f3d77-be3b-4059-abee-758041b076b3",
   "metadata": {
    "collapsed": true,
    "jupyter": {
     "outputs_hidden": true
    },
    "tags": []
   },
   "outputs": [
    {
     "data": {
      "text/plain": [
       "\u001b[0;31mSignature:\u001b[0m\n",
       "\u001b[0mpipeline\u001b[0m\u001b[0;34m(\u001b[0m\u001b[0;34m\u001b[0m\n",
       "\u001b[0;34m\u001b[0m    \u001b[0mtask\u001b[0m\u001b[0;34m:\u001b[0m \u001b[0mstr\u001b[0m \u001b[0;34m=\u001b[0m \u001b[0;32mNone\u001b[0m\u001b[0;34m,\u001b[0m\u001b[0;34m\u001b[0m\n",
       "\u001b[0;34m\u001b[0m    \u001b[0mmodel\u001b[0m\u001b[0;34m:\u001b[0m \u001b[0mOptional\u001b[0m \u001b[0;34m=\u001b[0m \u001b[0;32mNone\u001b[0m\u001b[0;34m,\u001b[0m\u001b[0;34m\u001b[0m\n",
       "\u001b[0;34m\u001b[0m    \u001b[0mconfig\u001b[0m\u001b[0;34m:\u001b[0m \u001b[0mUnion\u001b[0m\u001b[0;34m[\u001b[0m\u001b[0mstr\u001b[0m\u001b[0;34m,\u001b[0m \u001b[0mtransformers\u001b[0m\u001b[0;34m.\u001b[0m\u001b[0mconfiguration_utils\u001b[0m\u001b[0;34m.\u001b[0m\u001b[0mPretrainedConfig\u001b[0m\u001b[0;34m,\u001b[0m \u001b[0mNoneType\u001b[0m\u001b[0;34m]\u001b[0m \u001b[0;34m=\u001b[0m \u001b[0;32mNone\u001b[0m\u001b[0;34m,\u001b[0m\u001b[0;34m\u001b[0m\n",
       "\u001b[0;34m\u001b[0m    \u001b[0mtokenizer\u001b[0m\u001b[0;34m:\u001b[0m \u001b[0mUnion\u001b[0m\u001b[0;34m[\u001b[0m\u001b[0mstr\u001b[0m\u001b[0;34m,\u001b[0m \u001b[0mtransformers\u001b[0m\u001b[0;34m.\u001b[0m\u001b[0mtokenization_utils\u001b[0m\u001b[0;34m.\u001b[0m\u001b[0mPreTrainedTokenizer\u001b[0m\u001b[0;34m,\u001b[0m \u001b[0mtransformers\u001b[0m\u001b[0;34m.\u001b[0m\u001b[0mtokenization_utils_fast\u001b[0m\u001b[0;34m.\u001b[0m\u001b[0mPreTrainedTokenizerFast\u001b[0m\u001b[0;34m,\u001b[0m \u001b[0mNoneType\u001b[0m\u001b[0;34m]\u001b[0m \u001b[0;34m=\u001b[0m \u001b[0;32mNone\u001b[0m\u001b[0;34m,\u001b[0m\u001b[0;34m\u001b[0m\n",
       "\u001b[0;34m\u001b[0m    \u001b[0mfeature_extractor\u001b[0m\u001b[0;34m:\u001b[0m \u001b[0mUnion\u001b[0m\u001b[0;34m[\u001b[0m\u001b[0mstr\u001b[0m\u001b[0;34m,\u001b[0m \u001b[0mForwardRef\u001b[0m\u001b[0;34m(\u001b[0m\u001b[0;34m'SequenceFeatureExtractor'\u001b[0m\u001b[0;34m)\u001b[0m\u001b[0;34m,\u001b[0m \u001b[0mNoneType\u001b[0m\u001b[0;34m]\u001b[0m \u001b[0;34m=\u001b[0m \u001b[0;32mNone\u001b[0m\u001b[0;34m,\u001b[0m\u001b[0;34m\u001b[0m\n",
       "\u001b[0;34m\u001b[0m    \u001b[0mframework\u001b[0m\u001b[0;34m:\u001b[0m \u001b[0mOptional\u001b[0m\u001b[0;34m[\u001b[0m\u001b[0mstr\u001b[0m\u001b[0;34m]\u001b[0m \u001b[0;34m=\u001b[0m \u001b[0;32mNone\u001b[0m\u001b[0;34m,\u001b[0m\u001b[0;34m\u001b[0m\n",
       "\u001b[0;34m\u001b[0m    \u001b[0mrevision\u001b[0m\u001b[0;34m:\u001b[0m \u001b[0mOptional\u001b[0m\u001b[0;34m[\u001b[0m\u001b[0mstr\u001b[0m\u001b[0;34m]\u001b[0m \u001b[0;34m=\u001b[0m \u001b[0;32mNone\u001b[0m\u001b[0;34m,\u001b[0m\u001b[0;34m\u001b[0m\n",
       "\u001b[0;34m\u001b[0m    \u001b[0muse_fast\u001b[0m\u001b[0;34m:\u001b[0m \u001b[0mbool\u001b[0m \u001b[0;34m=\u001b[0m \u001b[0;32mTrue\u001b[0m\u001b[0;34m,\u001b[0m\u001b[0;34m\u001b[0m\n",
       "\u001b[0;34m\u001b[0m    \u001b[0muse_auth_token\u001b[0m\u001b[0;34m:\u001b[0m \u001b[0mUnion\u001b[0m\u001b[0;34m[\u001b[0m\u001b[0mbool\u001b[0m\u001b[0;34m,\u001b[0m \u001b[0mstr\u001b[0m\u001b[0;34m,\u001b[0m \u001b[0mNoneType\u001b[0m\u001b[0;34m]\u001b[0m \u001b[0;34m=\u001b[0m \u001b[0;32mNone\u001b[0m\u001b[0;34m,\u001b[0m\u001b[0;34m\u001b[0m\n",
       "\u001b[0;34m\u001b[0m    \u001b[0mdevice\u001b[0m\u001b[0;34m:\u001b[0m \u001b[0mUnion\u001b[0m\u001b[0;34m[\u001b[0m\u001b[0mint\u001b[0m\u001b[0;34m,\u001b[0m \u001b[0mstr\u001b[0m\u001b[0;34m,\u001b[0m \u001b[0mForwardRef\u001b[0m\u001b[0;34m(\u001b[0m\u001b[0;34m'torch.device'\u001b[0m\u001b[0;34m)\u001b[0m\u001b[0;34m,\u001b[0m \u001b[0mNoneType\u001b[0m\u001b[0;34m]\u001b[0m \u001b[0;34m=\u001b[0m \u001b[0;32mNone\u001b[0m\u001b[0;34m,\u001b[0m\u001b[0;34m\u001b[0m\n",
       "\u001b[0;34m\u001b[0m    \u001b[0mdevice_map\u001b[0m\u001b[0;34m=\u001b[0m\u001b[0;32mNone\u001b[0m\u001b[0;34m,\u001b[0m\u001b[0;34m\u001b[0m\n",
       "\u001b[0;34m\u001b[0m    \u001b[0mtorch_dtype\u001b[0m\u001b[0;34m=\u001b[0m\u001b[0;32mNone\u001b[0m\u001b[0;34m,\u001b[0m\u001b[0;34m\u001b[0m\n",
       "\u001b[0;34m\u001b[0m    \u001b[0mtrust_remote_code\u001b[0m\u001b[0;34m:\u001b[0m \u001b[0mOptional\u001b[0m\u001b[0;34m[\u001b[0m\u001b[0mbool\u001b[0m\u001b[0;34m]\u001b[0m \u001b[0;34m=\u001b[0m \u001b[0;32mNone\u001b[0m\u001b[0;34m,\u001b[0m\u001b[0;34m\u001b[0m\n",
       "\u001b[0;34m\u001b[0m    \u001b[0mmodel_kwargs\u001b[0m\u001b[0;34m:\u001b[0m \u001b[0mDict\u001b[0m\u001b[0;34m[\u001b[0m\u001b[0mstr\u001b[0m\u001b[0;34m,\u001b[0m \u001b[0mAny\u001b[0m\u001b[0;34m]\u001b[0m \u001b[0;34m=\u001b[0m \u001b[0;32mNone\u001b[0m\u001b[0;34m,\u001b[0m\u001b[0;34m\u001b[0m\n",
       "\u001b[0;34m\u001b[0m    \u001b[0mpipeline_class\u001b[0m\u001b[0;34m:\u001b[0m \u001b[0mOptional\u001b[0m\u001b[0;34m[\u001b[0m\u001b[0mAny\u001b[0m\u001b[0;34m]\u001b[0m \u001b[0;34m=\u001b[0m \u001b[0;32mNone\u001b[0m\u001b[0;34m,\u001b[0m\u001b[0;34m\u001b[0m\n",
       "\u001b[0;34m\u001b[0m    \u001b[0;34m**\u001b[0m\u001b[0mkwargs\u001b[0m\u001b[0;34m,\u001b[0m\u001b[0;34m\u001b[0m\n",
       "\u001b[0;34m\u001b[0m\u001b[0;34m)\u001b[0m \u001b[0;34m->\u001b[0m \u001b[0mtransformers\u001b[0m\u001b[0;34m.\u001b[0m\u001b[0mpipelines\u001b[0m\u001b[0;34m.\u001b[0m\u001b[0mbase\u001b[0m\u001b[0;34m.\u001b[0m\u001b[0mPipeline\u001b[0m\u001b[0;34m\u001b[0m\u001b[0;34m\u001b[0m\u001b[0m\n",
       "\u001b[0;31mDocstring:\u001b[0m\n",
       "Utility factory method to build a [`Pipeline`].\n",
       "\n",
       "Pipelines are made of:\n",
       "\n",
       "    - A [tokenizer](tokenizer) in charge of mapping raw textual input to token.\n",
       "    - A [model](model) to make predictions from the inputs.\n",
       "    - Some (optional) post processing for enhancing model's output.\n",
       "\n",
       "Args:\n",
       "    task (`str`):\n",
       "        The task defining which pipeline will be returned. Currently accepted tasks are:\n",
       "\n",
       "        - `\"audio-classification\"`: will return a [`AudioClassificationPipeline`].\n",
       "        - `\"automatic-speech-recognition\"`: will return a [`AutomaticSpeechRecognitionPipeline`].\n",
       "        - `\"conversational\"`: will return a [`ConversationalPipeline`].\n",
       "        - `\"feature-extraction\"`: will return a [`FeatureExtractionPipeline`].\n",
       "        - `\"fill-mask\"`: will return a [`FillMaskPipeline`]:.\n",
       "        - `\"image-classification\"`: will return a [`ImageClassificationPipeline`].\n",
       "        - `\"question-answering\"`: will return a [`QuestionAnsweringPipeline`].\n",
       "        - `\"table-question-answering\"`: will return a [`TableQuestionAnsweringPipeline`].\n",
       "        - `\"text2text-generation\"`: will return a [`Text2TextGenerationPipeline`].\n",
       "        - `\"text-classification\"` (alias `\"sentiment-analysis\"` available): will return a\n",
       "          [`TextClassificationPipeline`].\n",
       "        - `\"text-generation\"`: will return a [`TextGenerationPipeline`]:.\n",
       "        - `\"token-classification\"` (alias `\"ner\"` available): will return a [`TokenClassificationPipeline`].\n",
       "        - `\"translation\"`: will return a [`TranslationPipeline`].\n",
       "        - `\"translation_xx_to_yy\"`: will return a [`TranslationPipeline`].\n",
       "        - `\"summarization\"`: will return a [`SummarizationPipeline`].\n",
       "        - `\"zero-shot-classification\"`: will return a [`ZeroShotClassificationPipeline`].\n",
       "\n",
       "    model (`str` or [`PreTrainedModel`] or [`TFPreTrainedModel`], *optional*):\n",
       "        The model that will be used by the pipeline to make predictions. This can be a model identifier or an\n",
       "        actual instance of a pretrained model inheriting from [`PreTrainedModel`] (for PyTorch) or\n",
       "        [`TFPreTrainedModel`] (for TensorFlow).\n",
       "\n",
       "        If not provided, the default for the `task` will be loaded.\n",
       "    config (`str` or [`PretrainedConfig`], *optional*):\n",
       "        The configuration that will be used by the pipeline to instantiate the model. This can be a model\n",
       "        identifier or an actual pretrained model configuration inheriting from [`PretrainedConfig`].\n",
       "\n",
       "        If not provided, the default configuration file for the requested model will be used. That means that if\n",
       "        `model` is given, its default configuration will be used. However, if `model` is not supplied, this\n",
       "        `task`'s default model's config is used instead.\n",
       "    tokenizer (`str` or [`PreTrainedTokenizer`], *optional*):\n",
       "        The tokenizer that will be used by the pipeline to encode data for the model. This can be a model\n",
       "        identifier or an actual pretrained tokenizer inheriting from [`PreTrainedTokenizer`].\n",
       "\n",
       "        If not provided, the default tokenizer for the given `model` will be loaded (if it is a string). If `model`\n",
       "        is not specified or not a string, then the default tokenizer for `config` is loaded (if it is a string).\n",
       "        However, if `config` is also not given or not a string, then the default tokenizer for the given `task`\n",
       "        will be loaded.\n",
       "    feature_extractor (`str` or [`PreTrainedFeatureExtractor`], *optional*):\n",
       "        The feature extractor that will be used by the pipeline to encode data for the model. This can be a model\n",
       "        identifier or an actual pretrained feature extractor inheriting from [`PreTrainedFeatureExtractor`].\n",
       "\n",
       "        Feature extractors are used for non-NLP models, such as Speech or Vision models as well as multi-modal\n",
       "        models. Multi-modal models will also require a tokenizer to be passed.\n",
       "\n",
       "        If not provided, the default feature extractor for the given `model` will be loaded (if it is a string). If\n",
       "        `model` is not specified or not a string, then the default feature extractor for `config` is loaded (if it\n",
       "        is a string). However, if `config` is also not given or not a string, then the default feature extractor\n",
       "        for the given `task` will be loaded.\n",
       "    framework (`str`, *optional*):\n",
       "        The framework to use, either `\"pt\"` for PyTorch or `\"tf\"` for TensorFlow. The specified framework must be\n",
       "        installed.\n",
       "\n",
       "        If no framework is specified, will default to the one currently installed. If no framework is specified and\n",
       "        both frameworks are installed, will default to the framework of the `model`, or to PyTorch if no model is\n",
       "        provided.\n",
       "    revision (`str`, *optional*, defaults to `\"main\"`):\n",
       "        When passing a task name or a string model identifier: The specific model version to use. It can be a\n",
       "        branch name, a tag name, or a commit id, since we use a git-based system for storing models and other\n",
       "        artifacts on huggingface.co, so `revision` can be any identifier allowed by git.\n",
       "    use_fast (`bool`, *optional*, defaults to `True`):\n",
       "        Whether or not to use a Fast tokenizer if possible (a [`PreTrainedTokenizerFast`]).\n",
       "    use_auth_token (`str` or *bool*, *optional*):\n",
       "        The token to use as HTTP bearer authorization for remote files. If `True`, will use the token generated\n",
       "        when running `huggingface-cli login` (stored in `~/.huggingface`).\n",
       "    device (`int` or `str` or `torch.device`):\n",
       "        Defines the device (*e.g.*, `\"cpu\"`, `\"cuda:1\"`, `\"mps\"`, or a GPU ordinal rank like `1`) on which this\n",
       "        pipeline will be allocated.\n",
       "    device_map (`str` or `Dict[str, Union[int, str, torch.device]`, *optional*):\n",
       "        Sent directly as `model_kwargs` (just a simpler shortcut). When `accelerate` library is present, set\n",
       "        `device_map=\"auto\"` to compute the most optimized `device_map` automatically. [More\n",
       "        information](https://huggingface.co/docs/accelerate/main/en/big_modeling#accelerate.cpu_offload)\n",
       "\n",
       "        <Tip warning={true}>\n",
       "\n",
       "        Do not use `device_map` AND `device` at the same time as they will conflict\n",
       "\n",
       "        </Tip>\n",
       "\n",
       "    torch_dtype (`str` or `torch.dtype`, *optional*):\n",
       "        Sent directly as `model_kwargs` (just a simpler shortcut) to use the available precision for this model\n",
       "        (`torch.float16`, `torch.bfloat16`, ... or `\"auto\"`).\n",
       "    trust_remote_code (`bool`, *optional*, defaults to `False`):\n",
       "        Whether or not to allow for custom code defined on the Hub in their own modeling, configuration,\n",
       "        tokenization or even pipeline files. This option should only be set to `True` for repositories you trust\n",
       "        and in which you have read the code, as it will execute code present on the Hub on your local machine.\n",
       "    model_kwargs:\n",
       "        Additional dictionary of keyword arguments passed along to the model's `from_pretrained(...,\n",
       "        **model_kwargs)` function.\n",
       "    kwargs:\n",
       "        Additional keyword arguments passed along to the specific pipeline init (see the documentation for the\n",
       "        corresponding pipeline class for possible values).\n",
       "\n",
       "Returns:\n",
       "    [`Pipeline`]: A suitable pipeline for the task.\n",
       "\n",
       "Examples:\n",
       "\n",
       "```python\n",
       ">>> from transformers import pipeline, AutoModelForTokenClassification, AutoTokenizer\n",
       "\n",
       ">>> # Sentiment analysis pipeline\n",
       ">>> pipeline(\"sentiment-analysis\")\n",
       "\n",
       ">>> # Question answering pipeline, specifying the checkpoint identifier\n",
       ">>> pipeline(\"question-answering\", model=\"distilbert-base-cased-distilled-squad\", tokenizer=\"bert-base-cased\")\n",
       "\n",
       ">>> # Named entity recognition pipeline, passing in a specific model and tokenizer\n",
       ">>> model = AutoModelForTokenClassification.from_pretrained(\"dbmdz/bert-large-cased-finetuned-conll03-english\")\n",
       ">>> tokenizer = AutoTokenizer.from_pretrained(\"bert-base-cased\")\n",
       ">>> pipeline(\"ner\", model=model, tokenizer=tokenizer)\n",
       "```\n",
       "\u001b[0;31mFile:\u001b[0m      ~/anaconda3/envs/py310/lib/python3.10/site-packages/transformers/pipelines/__init__.py\n",
       "\u001b[0;31mType:\u001b[0m      function\n"
      ]
     },
     "metadata": {},
     "output_type": "display_data"
    }
   ],
   "source": [
    "pipeline?"
   ]
  },
  {
   "cell_type": "markdown",
   "id": "9174e989-3da7-4215-9402-116e461bbf6b",
   "metadata": {},
   "source": [
    "## Test"
   ]
  },
  {
   "cell_type": "markdown",
   "id": "1f4afe5f-f940-4183-ac1e-ea7d636a9bd6",
   "metadata": {},
   "source": [
    "Try the NER on one sentence"
   ]
  },
  {
   "cell_type": "code",
   "execution_count": 9,
   "id": "8bdda562-a1a7-4308-8737-87c0a322f0a4",
   "metadata": {},
   "outputs": [
    {
     "data": {
      "text/plain": [
       "'O presidente do FC Schalke 04 e proprietário de um frigorífico no centro de um novo surto de coronavírus na Alemanha, Clemens Tönnies, renunciou nesta terça-feira (30/06) ao cargo que ocupava há 19 anos no tradicional clube de futebol alemão após se envolver em uma série de controvérsias, ainda que em questões bastante diferentes.'"
      ]
     },
     "execution_count": 9,
     "metadata": {},
     "output_type": "execute_result"
    }
   ],
   "source": [
    "text = articles[0].sentences[0]\n",
    "text"
   ]
  },
  {
   "cell_type": "code",
   "execution_count": 10,
   "id": "a51f291d-326d-4deb-af41-fe4f07aac2a9",
   "metadata": {},
   "outputs": [
    {
     "data": {
      "text/plain": [
       "[{'entity_group': 'ORG',\n",
       "  'score': 0.9998289,\n",
       "  'word': 'FC Schalke 04',\n",
       "  'start': 16,\n",
       "  'end': 29},\n",
       " {'entity_group': 'LOC',\n",
       "  'score': 0.99983025,\n",
       "  'word': 'Alemanha',\n",
       "  'start': 111,\n",
       "  'end': 119},\n",
       " {'entity_group': 'PER',\n",
       "  'score': 0.99981546,\n",
       "  'word': 'Clemens Tönnies',\n",
       "  'start': 121,\n",
       "  'end': 137}]"
      ]
     },
     "execution_count": 10,
     "metadata": {},
     "output_type": "execute_result"
    }
   ],
   "source": [
    "nlp(text)"
   ]
  },
  {
   "cell_type": "markdown",
   "id": "a9587b62-830f-4fb9-962b-d9664219130e",
   "metadata": {},
   "source": [
    "Extract only the names from the NER output"
   ]
  },
  {
   "cell_type": "code",
   "execution_count": 11,
   "id": "101ffcd4-e310-48fb-a708-a6f6ff3009c5",
   "metadata": {},
   "outputs": [
    {
     "data": {
      "text/plain": [
       "['Clemens Tönnies']"
      ]
     },
     "execution_count": 11,
     "metadata": {},
     "output_type": "execute_result"
    }
   ],
   "source": [
    "[group['word'] for group in nlp(text) if group['entity_group']=='PER']"
   ]
  },
  {
   "cell_type": "markdown",
   "id": "919ad4e2-ce36-4850-90af-3bf96706c342",
   "metadata": {},
   "source": [
    "## Check the first 10 articles "
   ]
  },
  {
   "cell_type": "markdown",
   "id": "32bf39e0-002f-43eb-9e07-da063b799e1c",
   "metadata": {},
   "source": [
    "(You may want to interrup the code in the next cell since it takes time to run)"
   ]
  },
  {
   "cell_type": "code",
   "execution_count": 26,
   "id": "407962f1-e1df-48d1-a77c-e889a4cc3e23",
   "metadata": {
    "collapsed": true,
    "jupyter": {
     "outputs_hidden": true
    },
    "tags": []
   },
   "outputs": [
    {
     "name": "stdout",
     "output_type": "stream",
     "text": [
      "article=0, sentence=0, names=['Clemens Tönnies']\n",
      "article=0, sentence=1, names=[]\n",
      "article=0, sentence=2, names=[]\n",
      "article=0, sentence=3, names=[]\n",
      "article=0, sentence=4, names=[]\n",
      "article=0, sentence=5, names=[]\n",
      "article=0, sentence=6, names=['Gerald Asamoah', 'Hans Sarpei', 'Cacau']\n",
      "article=0, sentence=7, names=[]\n",
      "article=0, sentence=8, names=[]\n",
      "article=0, sentence=9, names=[]\n",
      "article=0, sentence=10, names=[]\n",
      "article=0, sentence=11, names=[]\n",
      "article=0, sentence=12, names=[]\n",
      "article=0, sentence=13, names=[]\n",
      "article=0, sentence=14, names=[]\n",
      "article=0, sentence=15, names=[]\n",
      "article=0, sentence=16, names=[]\n",
      "article=0, sentence=17, names=[]\n",
      "article=0, sentence=18, names=[]\n",
      "article=0, sentence=19, names=[]\n",
      "article=0, sentence=20, names=[]\n",
      "article=0, sentence=21, names=[]\n",
      "article=0, sentence=22, names=[]\n",
      "article=0, sentence=23, names=[]\n",
      "article=0, sentence=24, names=[]\n",
      "article=0, sentence=25, names=[]\n",
      "article=0, sentence=26, names=[]\n",
      "article=0, sentence=27, names=[]\n",
      "article=0, sentence=28, names=[]\n",
      "article=0, sentence=29, names=[]\n",
      "article=0, sentence=30, names=[]\n",
      "article=0, sentence=31, names=[]\n",
      "article=0, sentence=32, names=[]\n",
      "article=0, sentence=33, names=[]\n",
      "article=0, sentence=34, names=[]\n",
      "article=0, sentence=35, names=[]\n",
      "article=0, sentence=36, names=[]\n",
      "article=0, sentence=37, names=[]\n",
      "article=0, sentence=38, names=[]\n",
      "article=0, sentence=39, names=['Clemens Tönnies']\n",
      "article=0, sentence=40, names=[]\n",
      "article=1, sentence=0, names=['Angela Merkel']\n",
      "article=1, sentence=1, names=[]\n",
      "article=1, sentence=2, names=[]\n",
      "article=1, sentence=3, names=[]\n",
      "article=1, sentence=4, names=[]\n",
      "article=1, sentence=5, names=[]\n",
      "article=1, sentence=6, names=[]\n",
      "article=1, sentence=7, names=[]\n",
      "article=1, sentence=8, names=['Emmanuel Macron', 'Merkel']\n",
      "article=1, sentence=9, names=[]\n",
      "article=1, sentence=10, names=[]\n",
      "article=1, sentence=11, names=['Olaf Scholz', 'Alexander Hamilton']\n",
      "article=1, sentence=12, names=[]\n",
      "article=1, sentence=13, names=[]\n",
      "article=1, sentence=14, names=['Hamilton']\n",
      "article=1, sentence=15, names=['Alexander Hamilton']\n",
      "article=1, sentence=16, names=[]\n",
      "article=1, sentence=17, names=[]\n",
      "article=1, sentence=18, names=[]\n",
      "article=1, sentence=19, names=[]\n",
      "article=1, sentence=20, names=['Hamilton']\n",
      "article=1, sentence=21, names=[]\n",
      "article=1, sentence=22, names=[]\n",
      "article=1, sentence=23, names=[]\n",
      "article=1, sentence=24, names=['Christine Lagarde']\n",
      "article=1, sentence=25, names=[]\n",
      "article=1, sentence=26, names=['Merkel']\n",
      "article=1, sentence=27, names=['Merkel']\n",
      "article=1, sentence=28, names=['Ursula von der Leyen']\n",
      "article=1, sentence=29, names=[]\n",
      "article=1, sentence=30, names=['Merkel']\n",
      "article=1, sentence=31, names=['Robert Schuman', 'Merkel']\n",
      "article=1, sentence=32, names=['Schuman']\n",
      "article=1, sentence=33, names=[]\n",
      "article=2, sentence=0, names=[]\n",
      "article=2, sentence=1, names=[]\n",
      "article=2, sentence=2, names=[]\n",
      "article=2, sentence=3, names=['Lícia D ́Ávila']\n",
      "article=2, sentence=4, names=[]\n",
      "article=2, sentence=5, names=[]\n",
      "article=2, sentence=6, names=[]\n",
      "article=2, sentence=7, names=[]\n",
      "article=2, sentence=8, names=['James Webb']\n",
      "article=2, sentence=9, names=[]\n",
      "article=2, sentence=10, names=[]\n",
      "article=2, sentence=11, names=[]\n",
      "article=2, sentence=12, names=[]\n",
      "article=2, sentence=13, names=[]\n",
      "article=3, sentence=0, names=[]\n",
      "article=3, sentence=1, names=[]\n",
      "article=3, sentence=2, names=[]\n",
      "article=3, sentence=3, names=[]\n",
      "article=3, sentence=4, names=[]\n",
      "article=3, sentence=5, names=['Xi Jinping']\n",
      "article=3, sentence=6, names=[]\n",
      "article=3, sentence=7, names=[]\n",
      "article=3, sentence=8, names=[]\n",
      "article=3, sentence=9, names=[]\n",
      "article=3, sentence=10, names=[]\n",
      "article=3, sentence=11, names=[]\n",
      "article=3, sentence=12, names=[]\n",
      "article=3, sentence=13, names=[]\n",
      "article=3, sentence=14, names=['Zhang Xiaoming']\n",
      "article=3, sentence=15, names=[]\n",
      "article=3, sentence=16, names=['Carrie Lam']\n",
      "article=3, sentence=17, names=[]\n",
      "article=3, sentence=18, names=[]\n",
      "article=3, sentence=19, names=['Mike Pompeo']\n",
      "article=3, sentence=20, names=[]\n",
      "article=3, sentence=21, names=[]\n",
      "article=4, sentence=0, names=['Donald Trump']\n",
      "article=4, sentence=1, names=['Mark Esper', 'Mark Milley', 'Jonathan Hoffman']\n",
      "article=4, sentence=2, names=[]\n",
      "article=4, sentence=3, names=[]\n",
      "article=4, sentence=4, names=['Trump']\n",
      "article=4, sentence=5, names=[]\n",
      "article=4, sentence=6, names=[]\n",
      "article=4, sentence=7, names=[]\n",
      "article=4, sentence=8, names=[]\n",
      "article=4, sentence=9, names=[]\n",
      "article=4, sentence=10, names=[]\n",
      "article=4, sentence=11, names=[]\n",
      "article=4, sentence=12, names=[]\n",
      "article=4, sentence=13, names=[]\n",
      "article=4, sentence=14, names=[]\n",
      "article=4, sentence=15, names=['Heiko Maas']\n",
      "article=4, sentence=16, names=[]\n",
      "article=4, sentence=17, names=['Peter Bayer', 'Angela Merkel']\n",
      "article=4, sentence=18, names=['Johann Wadephul', 'Merkel']\n",
      "article=4, sentence=19, names=[]\n",
      "article=5, sentence=0, names=[]\n",
      "article=5, sentence=1, names=[]\n",
      "article=5, sentence=2, names=[]\n",
      "article=5, sentence=3, names=[]\n",
      "article=5, sentence=4, names=[]\n",
      "article=5, sentence=5, names=[]\n",
      "article=5, sentence=6, names=[]\n",
      "article=5, sentence=7, names=[]\n",
      "article=5, sentence=8, names=['Joseph Nye']\n",
      "article=5, sentence=9, names=[]\n",
      "article=5, sentence=10, names=[]\n",
      "article=5, sentence=11, names=[]\n",
      "article=5, sentence=12, names=[]\n",
      "article=5, sentence=13, names=['Parag Khanna']\n",
      "article=5, sentence=14, names=[]\n",
      "article=5, sentence=15, names=[]\n",
      "article=5, sentence=16, names=[]\n",
      "article=5, sentence=17, names=['Rubens Ricupero']\n",
      "article=5, sentence=18, names=[]\n",
      "article=5, sentence=19, names=['Lula', 'Dilma']\n",
      "article=5, sentence=20, names=['Jair Bolsonaro']\n",
      "article=5, sentence=21, names=[]\n",
      "article=5, sentence=22, names=[]\n",
      "article=5, sentence=23, names=[]\n",
      "article=5, sentence=24, names=[]\n",
      "article=5, sentence=25, names=[]\n",
      "article=5, sentence=26, names=[]\n",
      "article=5, sentence=27, names=[]\n",
      "article=5, sentence=28, names=['Alexander Busch']\n",
      "article=5, sentence=29, names=[]\n",
      "article=5, sentence=30, names=['Busch']\n",
      "article=5, sentence=31, names=[]\n",
      "article=6, sentence=0, names=['Gerd Müller']\n",
      "article=6, sentence=1, names=[]\n",
      "article=6, sentence=2, names=[]\n",
      "article=6, sentence=3, names=[]\n",
      "article=6, sentence=4, names=[]\n",
      "article=6, sentence=5, names=[]\n",
      "article=6, sentence=6, names=[]\n",
      "article=6, sentence=7, names=[]\n",
      "article=6, sentence=8, names=[]\n",
      "article=6, sentence=9, names=[]\n",
      "article=6, sentence=10, names=[]\n",
      "article=6, sentence=11, names=[]\n",
      "article=6, sentence=12, names=['Gonzalo Vargas Llosa']\n",
      "article=6, sentence=13, names=[]\n",
      "article=6, sentence=14, names=[]\n",
      "article=6, sentence=15, names=[]\n",
      "article=6, sentence=16, names=['Horst Seehofer']\n",
      "article=6, sentence=17, names=['Seehofer']\n",
      "article=6, sentence=18, names=[]\n",
      "article=7, sentence=0, names=['Ciro Gomes']\n",
      "article=7, sentence=1, names=[]\n",
      "article=7, sentence=2, names=['Jair Bolsonaro']\n",
      "article=7, sentence=3, names=[]\n",
      "article=7, sentence=4, names=['Bolsonaro']\n",
      "article=7, sentence=5, names=[]\n",
      "article=7, sentence=6, names=[]\n",
      "article=7, sentence=7, names=['Leonel Brizola', 'Ciro']\n",
      "article=7, sentence=8, names=['Ciro', 'Paulo Guedes']\n",
      "article=7, sentence=9, names=[]\n",
      "article=7, sentence=10, names=[]\n",
      "article=7, sentence=11, names=[]\n",
      "article=7, sentence=12, names=[]\n",
      "article=7, sentence=13, names=[]\n",
      "article=7, sentence=14, names=['Dilma Rousseff', 'Ciro']\n",
      "article=7, sentence=15, names=['Dilma']\n",
      "article=7, sentence=16, names=[]\n",
      "article=7, sentence=17, names=[]\n",
      "article=7, sentence=18, names=[]\n",
      "article=7, sentence=19, names=[]\n",
      "article=7, sentence=20, names=[]\n",
      "article=7, sentence=21, names=[]\n",
      "article=7, sentence=22, names=[]\n",
      "article=7, sentence=23, names=[]\n",
      "article=7, sentence=24, names=['Bolsonaro']\n",
      "article=7, sentence=25, names=[]\n",
      "article=7, sentence=26, names=[]\n",
      "article=7, sentence=27, names=[]\n",
      "article=7, sentence=28, names=[]\n",
      "article=7, sentence=29, names=[]\n",
      "article=7, sentence=30, names=[]\n",
      "article=7, sentence=31, names=['Bolsonaro']\n",
      "article=7, sentence=32, names=[]\n",
      "article=7, sentence=33, names=[]\n",
      "article=7, sentence=34, names=['Bolsonaro']\n",
      "article=7, sentence=35, names=[]\n",
      "article=7, sentence=36, names=[]\n",
      "article=7, sentence=37, names=[]\n",
      "article=7, sentence=38, names=[]\n",
      "article=7, sentence=39, names=[]\n",
      "article=7, sentence=40, names=['Bolsonaro']\n",
      "article=7, sentence=41, names=[]\n",
      "article=7, sentence=42, names=[]\n",
      "article=7, sentence=43, names=[]\n",
      "article=7, sentence=44, names=['Fernando Henrique Cardoso']\n",
      "article=7, sentence=45, names=[]\n",
      "article=7, sentence=46, names=[]\n",
      "article=7, sentence=47, names=[]\n",
      "article=7, sentence=48, names=[]\n",
      "article=7, sentence=49, names=[]\n",
      "article=7, sentence=50, names=[]\n",
      "article=7, sentence=51, names=['Dilma']\n",
      "article=7, sentence=52, names=['Fernando Henrique']\n",
      "article=7, sentence=53, names=[]\n",
      "article=7, sentence=54, names=[]\n",
      "article=7, sentence=55, names=[]\n",
      "article=7, sentence=56, names=[]\n",
      "article=7, sentence=57, names=[]\n",
      "article=7, sentence=58, names=[]\n",
      "article=7, sentence=59, names=[]\n",
      "article=7, sentence=60, names=[]\n",
      "article=7, sentence=61, names=[]\n",
      "article=7, sentence=62, names=[]\n",
      "article=7, sentence=63, names=[]\n",
      "article=7, sentence=64, names=['Jair Messias Bolsonaro']\n",
      "article=7, sentence=65, names=['Lula']\n",
      "article=7, sentence=66, names=['Fernando Haddad']\n",
      "article=7, sentence=67, names=['Bolsonaro']\n",
      "article=7, sentence=68, names=[]\n",
      "article=7, sentence=69, names=[]\n",
      "article=7, sentence=70, names=[]\n",
      "article=7, sentence=71, names=[]\n",
      "article=7, sentence=72, names=['Dilma']\n",
      "article=7, sentence=73, names=[]\n",
      "article=7, sentence=74, names=['Bolsonaro']\n",
      "article=7, sentence=75, names=['Lula', 'Bolsonaro']\n",
      "article=7, sentence=76, names=[]\n",
      "article=7, sentence=77, names=[]\n",
      "article=7, sentence=78, names=['Bolsonaro']\n",
      "article=7, sentence=79, names=[]\n",
      "article=7, sentence=80, names=['Lula']\n",
      "article=7, sentence=81, names=[]\n",
      "article=7, sentence=82, names=[]\n",
      "article=7, sentence=83, names=[]\n",
      "article=7, sentence=84, names=[]\n",
      "article=7, sentence=85, names=[]\n",
      "article=7, sentence=86, names=[]\n",
      "article=7, sentence=87, names=[]\n",
      "article=7, sentence=88, names=[]\n",
      "article=7, sentence=89, names=[]\n",
      "article=7, sentence=90, names=[]\n",
      "article=7, sentence=91, names=[]\n",
      "article=7, sentence=92, names=[]\n",
      "article=7, sentence=93, names=[]\n",
      "article=7, sentence=94, names=[]\n",
      "article=7, sentence=95, names=[]\n",
      "article=7, sentence=96, names=[]\n",
      "article=7, sentence=97, names=[]\n",
      "article=7, sentence=98, names=[]\n",
      "article=7, sentence=99, names=[]\n",
      "article=7, sentence=100, names=[]\n",
      "article=7, sentence=101, names=[]\n",
      "article=7, sentence=102, names=[]\n",
      "article=7, sentence=103, names=[]\n",
      "article=7, sentence=104, names=[]\n",
      "article=7, sentence=105, names=[]\n",
      "article=7, sentence=106, names=[]\n",
      "article=7, sentence=107, names=[]\n",
      "article=7, sentence=108, names=[]\n",
      "article=7, sentence=109, names=[]\n",
      "article=7, sentence=110, names=[]\n",
      "article=7, sentence=111, names=[]\n",
      "article=7, sentence=112, names=[]\n",
      "article=7, sentence=113, names=[]\n",
      "article=7, sentence=114, names=[]\n",
      "article=7, sentence=115, names=[]\n",
      "article=7, sentence=116, names=[]\n",
      "article=7, sentence=117, names=[]\n",
      "article=7, sentence=118, names=[]\n",
      "article=7, sentence=119, names=[]\n",
      "article=7, sentence=120, names=[]\n",
      "article=7, sentence=121, names=['Dilma']\n",
      "article=7, sentence=122, names=[]\n",
      "article=7, sentence=123, names=[]\n",
      "article=7, sentence=124, names=[]\n",
      "article=7, sentence=125, names=[]\n",
      "article=7, sentence=126, names=[]\n",
      "article=7, sentence=127, names=[]\n",
      "article=7, sentence=128, names=[]\n",
      "article=7, sentence=129, names=[]\n",
      "article=7, sentence=130, names=[]\n",
      "article=7, sentence=131, names=[]\n",
      "article=7, sentence=132, names=[]\n",
      "article=7, sentence=133, names=[]\n",
      "article=7, sentence=134, names=[]\n",
      "article=7, sentence=135, names=['Dilma']\n",
      "article=7, sentence=136, names=[]\n",
      "article=7, sentence=137, names=[]\n",
      "article=7, sentence=138, names=[]\n",
      "article=7, sentence=139, names=['Cid Gomes']\n",
      "article=7, sentence=140, names=[]\n",
      "article=7, sentence=141, names=[]\n",
      "article=7, sentence=142, names=[]\n",
      "article=7, sentence=143, names=[]\n",
      "article=7, sentence=144, names=[]\n",
      "article=7, sentence=145, names=[]\n",
      "article=7, sentence=146, names=[]\n",
      "article=7, sentence=147, names=[]\n",
      "article=7, sentence=148, names=[]\n",
      "article=7, sentence=149, names=[]\n",
      "article=7, sentence=150, names=['Fernando Henrique', 'Lula', 'Dilma']\n",
      "article=7, sentence=151, names=[]\n",
      "article=7, sentence=152, names=['Mauro Benevides Filho', 'Nelson Marconi']\n",
      "article=7, sentence=153, names=[]\n",
      "article=7, sentence=154, names=[]\n",
      "article=7, sentence=155, names=[]\n",
      "article=7, sentence=156, names=['Lula']\n",
      "article=7, sentence=157, names=[]\n",
      "article=7, sentence=158, names=[]\n",
      "article=7, sentence=159, names=['Sarney', 'Collor', 'Dilma']\n",
      "article=7, sentence=160, names=[]\n",
      "article=8, sentence=0, names=[]\n",
      "article=8, sentence=1, names=[]\n",
      "article=8, sentence=2, names=[]\n",
      "article=8, sentence=3, names=[]\n",
      "article=8, sentence=4, names=[]\n",
      "article=8, sentence=5, names=[]\n",
      "article=8, sentence=6, names=[]\n",
      "article=8, sentence=7, names=[]\n",
      "article=8, sentence=8, names=[]\n",
      "article=8, sentence=9, names=[]\n",
      "article=8, sentence=10, names=[]\n",
      "article=8, sentence=11, names=[]\n",
      "article=8, sentence=12, names=[]\n",
      "article=9, sentence=0, names=[]\n",
      "article=9, sentence=1, names=[]\n",
      "article=9, sentence=2, names=[]\n",
      "article=9, sentence=3, names=[]\n",
      "article=9, sentence=4, names=[]\n",
      "article=9, sentence=5, names=[]\n",
      "article=9, sentence=6, names=['Stefan Frey']\n",
      "article=9, sentence=7, names=[]\n",
      "article=9, sentence=8, names=['Frey']\n",
      "article=9, sentence=9, names=[]\n",
      "article=9, sentence=10, names=[]\n",
      "article=9, sentence=11, names=[]\n",
      "article=9, sentence=12, names=[]\n",
      "article=9, sentence=13, names=[]\n",
      "article=9, sentence=14, names=[]\n",
      "article=9, sentence=15, names=[]\n",
      "article=9, sentence=16, names=[]\n",
      "article=9, sentence=17, names=[]\n",
      "article=9, sentence=18, names=[]\n"
     ]
    }
   ],
   "source": [
    "for i1,article in enumerate(articles[:10]):\n",
    "    for i2,sentence in enumerate(article.sentences):\n",
    "        names = [group['word'] for group in nlp(sentence) if group['entity_group']=='PER' and group['score']>0.8]\n",
    "        if '#' in ''.join(names):\n",
    "            names = [] # Keep no names if NER includes the # character\n",
    "        # if len(names)>0:\n",
    "        #     print(f'article={i1}, sentence={i2}, {names=}')\n",
    "        print(f'article={i1}, sentence={i2}, {names=}')\n",
    "    "
   ]
  },
  {
   "cell_type": "markdown",
   "id": "e65c1a98-6444-45f3-905e-84b7f76f2e03",
   "metadata": {},
   "source": [
    "## Collect names in the dataclass"
   ]
  },
  {
   "cell_type": "markdown",
   "id": "7f706d83-e652-430d-8601-9891e3bf2120",
   "metadata": {},
   "source": [
    "Let us try with only 2 articles"
   ]
  },
  {
   "cell_type": "code",
   "execution_count": 28,
   "id": "fbe62418-0d06-4e5c-9f0a-c4f01cc88031",
   "metadata": {
    "collapsed": true,
    "jupyter": {
     "outputs_hidden": true
    },
    "tags": []
   },
   "outputs": [
    {
     "name": "stdout",
     "output_type": "stream",
     "text": [
      "[]\n",
      "article=0, sentence=0, names=['Clemens Tönnies'], persons_list=['Clemens Tönnies']\n",
      "[]\n",
      "article=0, sentence=1, names=[], persons_list=[]\n",
      "[]\n",
      "article=0, sentence=2, names=[], persons_list=[]\n",
      "[]\n",
      "article=0, sentence=3, names=[], persons_list=[]\n",
      "[]\n",
      "article=0, sentence=4, names=[], persons_list=[]\n",
      "[]\n",
      "article=0, sentence=5, names=[], persons_list=[]\n",
      "[]\n",
      "article=0, sentence=6, names=['Gerald Asamoah', 'Hans Sarpei', 'Cacau'], persons_list=['Gerald Asamoah', 'Hans Sarpei', 'Cacau']\n",
      "[]\n",
      "article=0, sentence=7, names=[], persons_list=[]\n",
      "[]\n",
      "article=0, sentence=8, names=[], persons_list=[]\n",
      "[]\n",
      "article=0, sentence=9, names=[], persons_list=[]\n",
      "[]\n",
      "article=0, sentence=10, names=[], persons_list=[]\n",
      "[]\n",
      "article=0, sentence=11, names=[], persons_list=[]\n",
      "[]\n",
      "article=0, sentence=12, names=[], persons_list=[]\n",
      "[]\n",
      "article=0, sentence=13, names=[], persons_list=[]\n",
      "[]\n",
      "article=0, sentence=14, names=[], persons_list=[]\n",
      "[]\n",
      "article=0, sentence=15, names=[], persons_list=[]\n",
      "[]\n",
      "article=0, sentence=16, names=[], persons_list=[]\n",
      "[]\n",
      "article=0, sentence=17, names=[], persons_list=[]\n",
      "[]\n",
      "article=0, sentence=18, names=[], persons_list=[]\n",
      "[]\n",
      "article=0, sentence=19, names=[], persons_list=[]\n",
      "[]\n",
      "article=0, sentence=20, names=[], persons_list=[]\n",
      "[]\n",
      "article=0, sentence=21, names=[], persons_list=[]\n",
      "[]\n",
      "article=0, sentence=22, names=[], persons_list=[]\n",
      "[]\n",
      "article=0, sentence=23, names=[], persons_list=[]\n",
      "[]\n",
      "article=0, sentence=24, names=[], persons_list=[]\n",
      "[]\n",
      "article=0, sentence=25, names=[], persons_list=[]\n",
      "[]\n",
      "article=0, sentence=26, names=[], persons_list=[]\n",
      "[]\n",
      "article=0, sentence=27, names=[], persons_list=[]\n",
      "[]\n",
      "article=0, sentence=28, names=[], persons_list=[]\n",
      "[]\n",
      "article=0, sentence=29, names=[], persons_list=[]\n",
      "[]\n",
      "article=0, sentence=30, names=[], persons_list=[]\n",
      "[]\n",
      "article=0, sentence=31, names=[], persons_list=[]\n",
      "[]\n",
      "article=0, sentence=32, names=[], persons_list=[]\n",
      "[]\n",
      "article=0, sentence=33, names=[], persons_list=[]\n",
      "[]\n",
      "article=0, sentence=34, names=[], persons_list=[]\n",
      "[]\n",
      "article=0, sentence=35, names=[], persons_list=[]\n",
      "[]\n",
      "article=0, sentence=36, names=[], persons_list=[]\n",
      "[]\n",
      "article=0, sentence=37, names=[], persons_list=[]\n",
      "[]\n",
      "article=0, sentence=38, names=[], persons_list=[]\n",
      "[]\n",
      "article=0, sentence=39, names=['Clemens Tönnies'], persons_list=['Clemens Tönnies']\n",
      "[]\n",
      "article=0, sentence=40, names=[], persons_list=[]\n",
      "[]\n",
      "article=1, sentence=0, names=['Angela Merkel'], persons_list=['Angela Merkel']\n",
      "[]\n",
      "article=1, sentence=1, names=[], persons_list=[]\n",
      "[]\n",
      "article=1, sentence=2, names=[], persons_list=[]\n",
      "[]\n",
      "article=1, sentence=3, names=[], persons_list=[]\n",
      "[]\n",
      "article=1, sentence=4, names=[], persons_list=[]\n",
      "[]\n",
      "article=1, sentence=5, names=[], persons_list=[]\n",
      "[]\n",
      "article=1, sentence=6, names=[], persons_list=[]\n",
      "[]\n",
      "article=1, sentence=7, names=[], persons_list=[]\n",
      "[]\n",
      "article=1, sentence=8, names=['Emmanuel Macron', 'Merkel'], persons_list=['Emmanuel Macron', 'Merkel']\n",
      "[]\n",
      "article=1, sentence=9, names=[], persons_list=[]\n",
      "[]\n",
      "article=1, sentence=10, names=[], persons_list=[]\n",
      "[]\n",
      "article=1, sentence=11, names=['Olaf Scholz', 'Alexander Hamilton'], persons_list=['Olaf Scholz', 'Alexander Hamilton']\n",
      "[]\n",
      "article=1, sentence=12, names=[], persons_list=[]\n",
      "[]\n",
      "article=1, sentence=13, names=[], persons_list=[]\n",
      "[]\n",
      "article=1, sentence=14, names=['Hamilton'], persons_list=['Hamilton']\n",
      "[]\n",
      "article=1, sentence=15, names=['Alexander Hamilton'], persons_list=['Alexander Hamilton']\n",
      "[]\n",
      "article=1, sentence=16, names=[], persons_list=[]\n",
      "[]\n",
      "article=1, sentence=17, names=[], persons_list=[]\n",
      "[]\n",
      "article=1, sentence=18, names=[], persons_list=[]\n",
      "[]\n",
      "article=1, sentence=19, names=[], persons_list=[]\n",
      "[]\n",
      "article=1, sentence=20, names=['Hamilton'], persons_list=['Hamilton']\n",
      "[]\n",
      "article=1, sentence=21, names=[], persons_list=[]\n",
      "[]\n",
      "article=1, sentence=22, names=[], persons_list=[]\n",
      "[]\n",
      "article=1, sentence=23, names=[], persons_list=[]\n",
      "[]\n",
      "article=1, sentence=24, names=['Christine Lagarde'], persons_list=['Christine Lagarde']\n",
      "[]\n",
      "article=1, sentence=25, names=[], persons_list=[]\n",
      "[]\n",
      "article=1, sentence=26, names=['Merkel'], persons_list=['Merkel']\n",
      "[]\n",
      "article=1, sentence=27, names=['Merkel'], persons_list=['Merkel']\n",
      "[]\n",
      "article=1, sentence=28, names=['Ursula von der Leyen'], persons_list=['Ursula von der Leyen']\n",
      "[]\n",
      "article=1, sentence=29, names=[], persons_list=[]\n",
      "[]\n",
      "article=1, sentence=30, names=['Merkel'], persons_list=['Merkel']\n",
      "[]\n",
      "article=1, sentence=31, names=['Robert Schuman', 'Merkel'], persons_list=['Robert Schuman', 'Merkel']\n",
      "[]\n",
      "article=1, sentence=32, names=['Schuman'], persons_list=['Schuman']\n",
      "[]\n",
      "article=1, sentence=33, names=[], persons_list=[]\n"
     ]
    }
   ],
   "source": [
    "for i1,article in enumerate(articles[:2]):\n",
    "    for i2,(sentence,persons_list) in enumerate(zip(article.sentences,article.persons)):\n",
    "        persons_list.clear() # Enure we start with an empty list\n",
    "        print(persons_list)\n",
    "        names = [group['word'] for group in nlp(sentence) if group['entity_group']=='PER' and group['score']>0.8]\n",
    "        if '#' in ''.join(names):\n",
    "            names = [] # Keep no names if NER includes the # character\n",
    "        persons_list.extend(names)\n",
    "        print(f'article={i1}, sentence={i2}, {names=}, {persons_list=}')"
   ]
  },
  {
   "cell_type": "markdown",
   "id": "c7f9311b-0286-483a-8ac4-5c8fc74bcad5",
   "metadata": {},
   "source": [
    "Show information about the first articles"
   ]
  },
  {
   "cell_type": "code",
   "execution_count": 29,
   "id": "ee713ee2",
   "metadata": {},
   "outputs": [
    {
     "data": {
      "text/plain": [
       "[Article(id=54006424, language='PORTUGUESE_BRAZIL', number_of_sentences=41),\n",
       " Article(id=54003004, language='PORTUGUESE_BRAZIL', number_of_sentences=34),\n",
       " Article(id=54009380, language='PORTUGUESE_BRAZIL', number_of_sentences=14)]"
      ]
     },
     "execution_count": 29,
     "metadata": {},
     "output_type": "execute_result"
    }
   ],
   "source": [
    "articles[:3]"
   ]
  },
  {
   "cell_type": "markdown",
   "id": "61d1f8e3-7374-4508-8dc6-26e68fb9c7d1",
   "metadata": {},
   "source": [
    "Check sentences and persons correspondence for article 0"
   ]
  },
  {
   "cell_type": "code",
   "execution_count": 30,
   "id": "7f1eae96-cb3c-444b-ab86-9f9a5a2f6845",
   "metadata": {},
   "outputs": [
    {
     "data": {
      "text/plain": [
       "'Em meados de março, quando o coronavírus começou a se espalhar pela Europa, a chanceler federal alemã, Angela Merkel, deu um aviso implacável: \"Este é o maior desafio que a União Europeia já enfrentou\", disse.'"
      ]
     },
     "execution_count": 30,
     "metadata": {},
     "output_type": "execute_result"
    }
   ],
   "source": [
    "articles[1].sentences[0]"
   ]
  },
  {
   "cell_type": "code",
   "execution_count": 31,
   "id": "cff9a5cb-e612-4ee1-9809-8b86ecda75f3",
   "metadata": {},
   "outputs": [
    {
     "data": {
      "text/plain": [
       "['Angela Merkel']"
      ]
     },
     "execution_count": 31,
     "metadata": {},
     "output_type": "execute_result"
    }
   ],
   "source": [
    "articles[1].persons[0]"
   ]
  },
  {
   "cell_type": "markdown",
   "id": "15d6e84b-6bac-4f37-907f-da58b4973909",
   "metadata": {},
   "source": [
    "Check sentences and persons correspondence for article 1"
   ]
  },
  {
   "cell_type": "code",
   "execution_count": 32,
   "id": "2e7b7791-20ab-4bc6-8461-2b198c504034",
   "metadata": {},
   "outputs": [
    {
     "data": {
      "text/plain": [
       "'Agora, à medida que os países-membros começam a relaxar o isolamento e reabrem as fronteiras, a atenção se volta à recuperação.'"
      ]
     },
     "execution_count": 32,
     "metadata": {},
     "output_type": "execute_result"
    }
   ],
   "source": [
    "articles[1].sentences[1]"
   ]
  },
  {
   "cell_type": "code",
   "execution_count": 33,
   "id": "e95abc1e-1920-4aaf-8767-73b21fbb1f50",
   "metadata": {},
   "outputs": [
    {
     "data": {
      "text/plain": [
       "[]"
      ]
     },
     "execution_count": 33,
     "metadata": {},
     "output_type": "execute_result"
    }
   ],
   "source": [
    "articles[1].persons[1]"
   ]
  },
  {
   "cell_type": "markdown",
   "id": "2e3202b3-1692-4d3a-b09b-9367bfee0da3",
   "metadata": {},
   "source": [
    "Check sentences and persons correspondence for article 2"
   ]
  },
  {
   "cell_type": "code",
   "execution_count": 34,
   "id": "d802015f-21ad-47ff-8ddf-b21039444b2a",
   "metadata": {},
   "outputs": [
    {
     "data": {
      "text/plain": [
       "'Se existe algum país em condições de catalisar a integração fiscal necessária para estabilizar a Europa, esse país é a Alemanha.'"
      ]
     },
     "execution_count": 34,
     "metadata": {},
     "output_type": "execute_result"
    }
   ],
   "source": [
    "articles[1].sentences[2]"
   ]
  },
  {
   "cell_type": "code",
   "execution_count": 35,
   "id": "d8560ab3-9c1a-453f-b8c3-07215bc87ed9",
   "metadata": {},
   "outputs": [
    {
     "data": {
      "text/plain": [
       "[]"
      ]
     },
     "execution_count": 35,
     "metadata": {},
     "output_type": "execute_result"
    }
   ],
   "source": [
    "articles[1].persons[2]"
   ]
  },
  {
   "cell_type": "markdown",
   "id": "4f4101fe-bb68-4373-b0e8-b6a35f8bc019",
   "metadata": {},
   "source": [
    "Show the number of sentences in the first article"
   ]
  },
  {
   "cell_type": "code",
   "execution_count": 36,
   "id": "8eb9e6f4-7722-4ccf-8e1e-6c9a98b5f108",
   "metadata": {},
   "outputs": [
    {
     "data": {
      "text/plain": [
       "41"
      ]
     },
     "execution_count": 36,
     "metadata": {},
     "output_type": "execute_result"
    }
   ],
   "source": [
    "len(articles[0].sentences)"
   ]
  },
  {
   "cell_type": "markdown",
   "id": "2f0e60f0-07bb-4b36-bc73-d2af60660bc4",
   "metadata": {},
   "source": [
    "# Collect names in all articles"
   ]
  },
  {
   "cell_type": "markdown",
   "id": "1864702b-e256-403c-a596-99519a4c4f22",
   "metadata": {},
   "source": [
    "## Parallel run (not used)"
   ]
  },
  {
   "cell_type": "markdown",
   "id": "6bd806ec-96e7-4213-bc1c-e2802d48341d",
   "metadata": {},
   "source": [
    "Not used because it seemed to take longer thatn the non-parallel version, maybe due to RAM or CPU resources (2 CPU and 4 GB RAM when I tried it)."
   ]
  },
  {
   "cell_type": "code",
   "execution_count": 37,
   "id": "e3dd69ce-2cdc-445f-86c1-f9afe07a20a7",
   "metadata": {},
   "outputs": [],
   "source": [
    "os.environ[\"TOKENIZERS_PARALLELISM\"] = \"false\" # set to \"true\" to parallelize (said by the transformers package)"
   ]
  },
  {
   "cell_type": "markdown",
   "id": "a36b5b69-e35c-49f3-af47-f7bb178e9946",
   "metadata": {},
   "source": [
    "Print the value of the environment variable "
   ]
  },
  {
   "cell_type": "code",
   "execution_count": 22,
   "id": "f55d5583-73da-4234-acc0-2d947c6d6503",
   "metadata": {},
   "outputs": [
    {
     "name": "stdout",
     "output_type": "stream",
     "text": [
      "huggingface/tokenizers: The current process just got forked, after parallelism has already been used. Disabling parallelism to avoid deadlocks...\n",
      "To disable this warning, you can either:\n",
      "\t- Avoid using `tokenizers` before the fork if possible\n",
      "\t- Explicitly set the environment variable TOKENIZERS_PARALLELISM=(true | false)\n",
      "false\n"
     ]
    }
   ],
   "source": [
    "! echo $TOKENIZERS_PARALLELISM"
   ]
  },
  {
   "cell_type": "markdown",
   "id": "2bab79c2-867e-41b9-8749-5f08bec57dec",
   "metadata": {},
   "source": [
    "Parallelize"
   ]
  },
  {
   "cell_type": "code",
   "execution_count": 36,
   "id": "12f4db59-ee79-4494-88cb-c23be9d9da4b",
   "metadata": {
    "collapsed": true,
    "jupyter": {
     "outputs_hidden": true
    },
    "tags": []
   },
   "outputs": [
    {
     "name": "stderr",
     "output_type": "stream",
     "text": [
      "  1%|          | 93/11848 [12:08<25:34:39,  7.83s/it]Process ForkPoolWorker-11:\n",
      "Process ForkPoolWorker-12:\n",
      "Traceback (most recent call last):\n",
      "  File \"/home/stefano/anaconda3/envs/py310/lib/python3.10/multiprocessing/process.py\", line 314, in _bootstrap\n",
      "    self.run()\n",
      "Traceback (most recent call last):\n",
      "  File \"/home/stefano/anaconda3/envs/py310/lib/python3.10/multiprocessing/process.py\", line 108, in run\n",
      "    self._target(*self._args, **self._kwargs)\n",
      "  File \"/home/stefano/anaconda3/envs/py310/lib/python3.10/multiprocessing/pool.py\", line 125, in worker\n",
      "    result = (True, func(*args, **kwds))\n",
      "  File \"/tmp/ipykernel_622/494436015.py\", line 7, in find_and_add_names\n",
      "    names = [group['word'] for group in ner(sentence) if group['entity_group']=='PER' and group['score']>score]\n",
      "  File \"/home/stefano/anaconda3/envs/py310/lib/python3.10/site-packages/transformers/pipelines/token_classification.py\", line 192, in __call__\n",
      "    return super().__call__(inputs, **kwargs)\n",
      "  File \"/home/stefano/anaconda3/envs/py310/lib/python3.10/multiprocessing/process.py\", line 314, in _bootstrap\n",
      "    self.run()\n",
      "  File \"/home/stefano/anaconda3/envs/py310/lib/python3.10/site-packages/transformers/pipelines/base.py\", line 1074, in __call__\n",
      "    return self.run_single(inputs, preprocess_params, forward_params, postprocess_params)\n",
      "  File \"/home/stefano/anaconda3/envs/py310/lib/python3.10/site-packages/transformers/pipelines/base.py\", line 1081, in run_single\n",
      "    model_outputs = self.forward(model_inputs, **forward_params)\n",
      "  File \"/home/stefano/anaconda3/envs/py310/lib/python3.10/site-packages/transformers/pipelines/base.py\", line 990, in forward\n",
      "    model_outputs = self._forward(model_inputs, **forward_params)\n",
      "  File \"/home/stefano/anaconda3/envs/py310/lib/python3.10/site-packages/transformers/pipelines/token_classification.py\", line 218, in _forward\n",
      "    logits = self.model(**model_inputs)[0]\n",
      "  File \"/home/stefano/anaconda3/envs/py310/lib/python3.10/site-packages/torch/nn/modules/module.py\", line 1190, in _call_impl\n",
      "    return forward_call(*input, **kwargs)\n",
      "  File \"/home/stefano/anaconda3/envs/py310/lib/python3.10/multiprocessing/process.py\", line 108, in run\n",
      "    self._target(*self._args, **self._kwargs)\n",
      "  File \"/home/stefano/anaconda3/envs/py310/lib/python3.10/site-packages/transformers/models/bert/modeling_bert.py\", line 1751, in forward\n",
      "    outputs = self.bert(\n",
      "  File \"/home/stefano/anaconda3/envs/py310/lib/python3.10/site-packages/torch/nn/modules/module.py\", line 1190, in _call_impl\n",
      "    return forward_call(*input, **kwargs)\n",
      "  File \"/home/stefano/anaconda3/envs/py310/lib/python3.10/site-packages/transformers/models/bert/modeling_bert.py\", line 1014, in forward\n",
      "    encoder_outputs = self.encoder(\n",
      "  File \"/home/stefano/anaconda3/envs/py310/lib/python3.10/multiprocessing/pool.py\", line 125, in worker\n",
      "    result = (True, func(*args, **kwds))\n",
      "  File \"/home/stefano/anaconda3/envs/py310/lib/python3.10/site-packages/torch/nn/modules/module.py\", line 1190, in _call_impl\n",
      "    return forward_call(*input, **kwargs)\n",
      "  File \"/tmp/ipykernel_622/494436015.py\", line 7, in find_and_add_names\n",
      "    names = [group['word'] for group in ner(sentence) if group['entity_group']=='PER' and group['score']>score]\n",
      "  File \"/home/stefano/anaconda3/envs/py310/lib/python3.10/site-packages/transformers/models/bert/modeling_bert.py\", line 603, in forward\n",
      "    layer_outputs = layer_module(\n",
      "  File \"/home/stefano/anaconda3/envs/py310/lib/python3.10/site-packages/transformers/pipelines/token_classification.py\", line 192, in __call__\n",
      "    return super().__call__(inputs, **kwargs)\n",
      "  File \"/home/stefano/anaconda3/envs/py310/lib/python3.10/site-packages/torch/nn/modules/module.py\", line 1190, in _call_impl\n",
      "    return forward_call(*input, **kwargs)\n",
      "  File \"/home/stefano/anaconda3/envs/py310/lib/python3.10/site-packages/transformers/models/bert/modeling_bert.py\", line 531, in forward\n",
      "    layer_output = apply_chunking_to_forward(\n",
      "  File \"/home/stefano/anaconda3/envs/py310/lib/python3.10/site-packages/transformers/pytorch_utils.py\", line 246, in apply_chunking_to_forward\n",
      "    return forward_fn(*input_tensors)\n",
      "  File \"/home/stefano/anaconda3/envs/py310/lib/python3.10/site-packages/transformers/pipelines/base.py\", line 1074, in __call__\n",
      "    return self.run_single(inputs, preprocess_params, forward_params, postprocess_params)\n",
      "  File \"/home/stefano/anaconda3/envs/py310/lib/python3.10/site-packages/transformers/models/bert/modeling_bert.py\", line 543, in feed_forward_chunk\n",
      "    intermediate_output = self.intermediate(attention_output)\n",
      "  File \"/home/stefano/anaconda3/envs/py310/lib/python3.10/site-packages/torch/nn/modules/module.py\", line 1190, in _call_impl\n",
      "    return forward_call(*input, **kwargs)\n",
      "  File \"/home/stefano/anaconda3/envs/py310/lib/python3.10/site-packages/transformers/models/bert/modeling_bert.py\", line 443, in forward\n",
      "    hidden_states = self.dense(hidden_states)\n",
      "  File \"/home/stefano/anaconda3/envs/py310/lib/python3.10/site-packages/torch/nn/modules/module.py\", line 1190, in _call_impl\n",
      "    return forward_call(*input, **kwargs)\n",
      "  File \"/home/stefano/anaconda3/envs/py310/lib/python3.10/site-packages/transformers/pipelines/base.py\", line 1081, in run_single\n",
      "    model_outputs = self.forward(model_inputs, **forward_params)\n",
      "  File \"/home/stefano/anaconda3/envs/py310/lib/python3.10/site-packages/torch/nn/modules/linear.py\", line 114, in forward\n",
      "    return F.linear(input, self.weight, self.bias)\n",
      "  File \"/home/stefano/anaconda3/envs/py310/lib/python3.10/site-packages/transformers/pipelines/base.py\", line 990, in forward\n",
      "    model_outputs = self._forward(model_inputs, **forward_params)\n",
      "KeyboardInterrupt\n",
      "  File \"/home/stefano/anaconda3/envs/py310/lib/python3.10/site-packages/transformers/pipelines/token_classification.py\", line 218, in _forward\n",
      "    logits = self.model(**model_inputs)[0]\n",
      "  File \"/home/stefano/anaconda3/envs/py310/lib/python3.10/site-packages/torch/nn/modules/module.py\", line 1190, in _call_impl\n",
      "    return forward_call(*input, **kwargs)\n",
      "  File \"/home/stefano/anaconda3/envs/py310/lib/python3.10/site-packages/transformers/models/bert/modeling_bert.py\", line 1751, in forward\n",
      "    outputs = self.bert(\n",
      "  File \"/home/stefano/anaconda3/envs/py310/lib/python3.10/site-packages/torch/nn/modules/module.py\", line 1190, in _call_impl\n",
      "    return forward_call(*input, **kwargs)\n",
      "  File \"/home/stefano/anaconda3/envs/py310/lib/python3.10/site-packages/transformers/models/bert/modeling_bert.py\", line 1014, in forward\n",
      "    encoder_outputs = self.encoder(\n",
      "  File \"/home/stefano/anaconda3/envs/py310/lib/python3.10/site-packages/torch/nn/modules/module.py\", line 1190, in _call_impl\n",
      "    return forward_call(*input, **kwargs)\n",
      "  File \"/home/stefano/anaconda3/envs/py310/lib/python3.10/site-packages/transformers/models/bert/modeling_bert.py\", line 603, in forward\n",
      "    layer_outputs = layer_module(\n",
      "  File \"/home/stefano/anaconda3/envs/py310/lib/python3.10/site-packages/torch/nn/modules/module.py\", line 1190, in _call_impl\n",
      "    return forward_call(*input, **kwargs)\n",
      "  File \"/home/stefano/anaconda3/envs/py310/lib/python3.10/site-packages/transformers/models/bert/modeling_bert.py\", line 489, in forward\n",
      "    self_attention_outputs = self.attention(\n",
      "  File \"/home/stefano/anaconda3/envs/py310/lib/python3.10/site-packages/torch/nn/modules/module.py\", line 1190, in _call_impl\n",
      "    return forward_call(*input, **kwargs)\n",
      "  File \"/home/stefano/anaconda3/envs/py310/lib/python3.10/site-packages/transformers/models/bert/modeling_bert.py\", line 419, in forward\n",
      "    self_outputs = self.self(\n",
      "  File \"/home/stefano/anaconda3/envs/py310/lib/python3.10/site-packages/torch/nn/modules/module.py\", line 1190, in _call_impl\n",
      "    return forward_call(*input, **kwargs)\n",
      "  File \"/home/stefano/anaconda3/envs/py310/lib/python3.10/site-packages/transformers/models/bert/modeling_bert.py\", line 308, in forward\n",
      "    value_layer = self.transpose_for_scores(self.value(hidden_states))\n",
      "  File \"/home/stefano/anaconda3/envs/py310/lib/python3.10/site-packages/torch/nn/modules/module.py\", line 1190, in _call_impl\n",
      "    return forward_call(*input, **kwargs)\n",
      "  File \"/home/stefano/anaconda3/envs/py310/lib/python3.10/site-packages/torch/nn/modules/linear.py\", line 114, in forward\n",
      "    return F.linear(input, self.weight, self.bias)\n",
      "\n",
      "KeyboardInterrupt\n"
     ]
    },
    {
     "ename": "KeyboardInterrupt",
     "evalue": "",
     "output_type": "error",
     "traceback": [
      "\u001b[0;31m---------------------------------------------------------------------------\u001b[0m",
      "\u001b[0;31mIndexError\u001b[0m                                Traceback (most recent call last)",
      "File \u001b[0;32m~/anaconda3/envs/py310/lib/python3.10/multiprocessing/pool.py:856\u001b[0m, in \u001b[0;36mIMapIterator.next\u001b[0;34m(self, timeout)\u001b[0m\n\u001b[1;32m    855\u001b[0m \u001b[38;5;28;01mtry\u001b[39;00m:\n\u001b[0;32m--> 856\u001b[0m     item \u001b[38;5;241m=\u001b[39m \u001b[38;5;28;43mself\u001b[39;49m\u001b[38;5;241;43m.\u001b[39;49m\u001b[43m_items\u001b[49m\u001b[38;5;241;43m.\u001b[39;49m\u001b[43mpopleft\u001b[49m\u001b[43m(\u001b[49m\u001b[43m)\u001b[49m\n\u001b[1;32m    857\u001b[0m \u001b[38;5;28;01mexcept\u001b[39;00m \u001b[38;5;167;01mIndexError\u001b[39;00m:\n",
      "\u001b[0;31mIndexError\u001b[0m: pop from an empty deque",
      "\nDuring handling of the above exception, another exception occurred:\n",
      "\u001b[0;31mKeyboardInterrupt\u001b[0m                         Traceback (most recent call last)",
      "Input \u001b[0;32mIn [36]\u001b[0m, in \u001b[0;36m<cell line: 3>\u001b[0;34m()\u001b[0m\n\u001b[1;32m      5\u001b[0m it \u001b[38;5;241m=\u001b[39m tqdm(it, total\u001b[38;5;241m=\u001b[39m\u001b[38;5;28mlen\u001b[39m(articles))\n\u001b[1;32m      6\u001b[0m \u001b[38;5;66;03m# Exhaust the iterator\u001b[39;00m\n\u001b[0;32m----> 7\u001b[0m \u001b[43mdeque\u001b[49m\u001b[43m(\u001b[49m\u001b[43mit\u001b[49m\u001b[43m,\u001b[49m\u001b[43m \u001b[49m\u001b[43mmaxlen\u001b[49m\u001b[38;5;241;43m=\u001b[39;49m\u001b[38;5;241;43m0\u001b[39;49m\u001b[43m)\u001b[49m\n",
      "File \u001b[0;32m~/anaconda3/envs/py310/lib/python3.10/site-packages/tqdm/std.py:1195\u001b[0m, in \u001b[0;36mtqdm.__iter__\u001b[0;34m(self)\u001b[0m\n\u001b[1;32m   1192\u001b[0m time \u001b[38;5;241m=\u001b[39m \u001b[38;5;28mself\u001b[39m\u001b[38;5;241m.\u001b[39m_time\n\u001b[1;32m   1194\u001b[0m \u001b[38;5;28;01mtry\u001b[39;00m:\n\u001b[0;32m-> 1195\u001b[0m     \u001b[38;5;28;01mfor\u001b[39;00m obj \u001b[38;5;129;01min\u001b[39;00m iterable:\n\u001b[1;32m   1196\u001b[0m         \u001b[38;5;28;01myield\u001b[39;00m obj\n\u001b[1;32m   1197\u001b[0m         \u001b[38;5;66;03m# Update and possibly print the progressbar.\u001b[39;00m\n\u001b[1;32m   1198\u001b[0m         \u001b[38;5;66;03m# Note: does not call self.update(1) for speed optimisation.\u001b[39;00m\n",
      "File \u001b[0;32m~/anaconda3/envs/py310/lib/python3.10/multiprocessing/pool.py:861\u001b[0m, in \u001b[0;36mIMapIterator.next\u001b[0;34m(self, timeout)\u001b[0m\n\u001b[1;32m    859\u001b[0m     \u001b[38;5;28mself\u001b[39m\u001b[38;5;241m.\u001b[39m_pool \u001b[38;5;241m=\u001b[39m \u001b[38;5;28;01mNone\u001b[39;00m\n\u001b[1;32m    860\u001b[0m     \u001b[38;5;28;01mraise\u001b[39;00m \u001b[38;5;167;01mStopIteration\u001b[39;00m \u001b[38;5;28;01mfrom\u001b[39;00m \u001b[38;5;28mNone\u001b[39m\n\u001b[0;32m--> 861\u001b[0m \u001b[38;5;28;43mself\u001b[39;49m\u001b[38;5;241;43m.\u001b[39;49m\u001b[43m_cond\u001b[49m\u001b[38;5;241;43m.\u001b[39;49m\u001b[43mwait\u001b[49m\u001b[43m(\u001b[49m\u001b[43mtimeout\u001b[49m\u001b[43m)\u001b[49m\n\u001b[1;32m    862\u001b[0m \u001b[38;5;28;01mtry\u001b[39;00m:\n\u001b[1;32m    863\u001b[0m     item \u001b[38;5;241m=\u001b[39m \u001b[38;5;28mself\u001b[39m\u001b[38;5;241m.\u001b[39m_items\u001b[38;5;241m.\u001b[39mpopleft()\n",
      "File \u001b[0;32m~/anaconda3/envs/py310/lib/python3.10/threading.py:320\u001b[0m, in \u001b[0;36mCondition.wait\u001b[0;34m(self, timeout)\u001b[0m\n\u001b[1;32m    318\u001b[0m \u001b[38;5;28;01mtry\u001b[39;00m:    \u001b[38;5;66;03m# restore state no matter what (e.g., KeyboardInterrupt)\u001b[39;00m\n\u001b[1;32m    319\u001b[0m     \u001b[38;5;28;01mif\u001b[39;00m timeout \u001b[38;5;129;01mis\u001b[39;00m \u001b[38;5;28;01mNone\u001b[39;00m:\n\u001b[0;32m--> 320\u001b[0m         \u001b[43mwaiter\u001b[49m\u001b[38;5;241;43m.\u001b[39;49m\u001b[43macquire\u001b[49m\u001b[43m(\u001b[49m\u001b[43m)\u001b[49m\n\u001b[1;32m    321\u001b[0m         gotit \u001b[38;5;241m=\u001b[39m \u001b[38;5;28;01mTrue\u001b[39;00m\n\u001b[1;32m    322\u001b[0m     \u001b[38;5;28;01melse\u001b[39;00m:\n",
      "\u001b[0;31mKeyboardInterrupt\u001b[0m: "
     ]
    }
   ],
   "source": [
    "ncores = 2\n",
    "_find_and_add_names = partial(find_and_add_names, ner=nlp) # alias of function with only one argument\n",
    "with Pool(ncores) as pool:\n",
    "    it = pool.imap_unordered(_find_and_add_names, articles)\n",
    "    it = tqdm(it, total=len(articles))\n",
    "    # Exhaust the iterator\n",
    "    deque(it, maxlen=0)"
   ]
  },
  {
   "cell_type": "markdown",
   "id": "4a4ae644-c1a0-4b16-a225-47d80a209f30",
   "metadata": {},
   "source": [
    "## Non-parallel run"
   ]
  },
  {
   "cell_type": "markdown",
   "id": "c2113b03-3563-4b9b-8040-16fcb56d5f90",
   "metadata": {},
   "source": [
    "The following cell took 16 hours to finish using a coputer with 2 CPUs and 2 (or 4) GB of RAM."
   ]
  },
  {
   "cell_type": "code",
   "execution_count": 9,
   "id": "795a3411-5f39-4eca-a0a1-476407666f01",
   "metadata": {},
   "outputs": [
    {
     "name": "stderr",
     "output_type": "stream",
     "text": [
      "100%|██████████| 11848/11848 [16:44:43<00:00,  5.09s/it]  \n"
     ]
    }
   ],
   "source": [
    "for article in tqdm(articles):\n",
    "    for sentence,persons_list in zip(article.sentences,article.persons):\n",
    "        persons_list.clear() # Enure we start with an empty list\n",
    "        names = [group['word'] for group in nlp(sentence) if group['entity_group']=='PER' and group['score']>0.8]\n",
    "        if '#' in ''.join(names):\n",
    "            names = [] # Keep no names if NER includes the # character\n",
    "        persons_list.extend(names)"
   ]
  },
  {
   "cell_type": "markdown",
   "id": "ff359ae1-2b7b-4aaf-80dd-e1b61740049f",
   "metadata": {},
   "source": [
    "## Save results"
   ]
  },
  {
   "cell_type": "code",
   "execution_count": 17,
   "id": "f995ed43-5795-4b56-b18e-f6a5c258867f",
   "metadata": {},
   "outputs": [],
   "source": [
    "outputdir = Path.cwd()\n",
    "file = 'portuguese_sentences_with_names.pickle'"
   ]
  },
  {
   "cell_type": "code",
   "execution_count": 14,
   "id": "9154f934-6608-40d3-a99f-99648d6e16ec",
   "metadata": {},
   "outputs": [],
   "source": [
    "with open(outputdir/file, 'wb') as file:\n",
    "    pickle.dump(articles, file)"
   ]
  },
  {
   "cell_type": "markdown",
   "id": "668716dc-2868-4894-a482-f6e1be6b60d2",
   "metadata": {},
   "source": [
    "# Read results and format as CSV"
   ]
  },
  {
   "cell_type": "markdown",
   "id": "f9935599-0462-48d4-9d25-02e0f90e6ba2",
   "metadata": {},
   "source": [
    "Read pickled file that stores the sentences of all articles"
   ]
  },
  {
   "cell_type": "code",
   "execution_count": 8,
   "id": "7bcf76a9-9216-4497-8195-8fa43b83fcc0",
   "metadata": {},
   "outputs": [],
   "source": [
    "inputdir = Path.cwd()\n",
    "file = Path('portuguese_sentences_with_names.pickle')\n",
    "with open(inputdir/file, 'rb') as file:\n",
    "    articles = pickle.load(file)"
   ]
  },
  {
   "cell_type": "markdown",
   "id": "118ad2f5-06c5-4f08-a691-3b40e70f4794",
   "metadata": {},
   "source": [
    "Show info ofr the first 10 articles"
   ]
  },
  {
   "cell_type": "code",
   "execution_count": 9,
   "id": "659025b8-ad20-45b2-9440-ae6cc4076a94",
   "metadata": {},
   "outputs": [
    {
     "data": {
      "text/plain": [
       "[Article(id=54006424, language='PORTUGUESE_BRAZIL', number_of_sentences=41),\n",
       " Article(id=54003004, language='PORTUGUESE_BRAZIL', number_of_sentences=34),\n",
       " Article(id=54009380, language='PORTUGUESE_BRAZIL', number_of_sentences=14),\n",
       " Article(id=54008153, language='PORTUGUESE_BRAZIL', number_of_sentences=22),\n",
       " Article(id=54009331, language='PORTUGUESE_BRAZIL', number_of_sentences=20),\n",
       " Article(id=54010979, language='PORTUGUESE_BRAZIL', number_of_sentences=32),\n",
       " Article(id=54011278, language='PORTUGUESE_BRAZIL', number_of_sentences=19),\n",
       " Article(id=54012392, language='PORTUGUESE_BRAZIL', number_of_sentences=161),\n",
       " Article(id=54015488, language='PORTUGUESE_BRAZIL', number_of_sentences=13),\n",
       " Article(id=54015413, language='PORTUGUESE_BRAZIL', number_of_sentences=19)]"
      ]
     },
     "execution_count": 9,
     "metadata": {},
     "output_type": "execute_result"
    }
   ],
   "source": [
    "articles[:10]"
   ]
  },
  {
   "cell_type": "markdown",
   "id": "e7fb9229-8970-4053-8b74-06efa6f2959d",
   "metadata": {},
   "source": [
    "## Explore more in detail that everything looks good"
   ]
  },
  {
   "cell_type": "markdown",
   "id": "38c2e6f2-0f3d-49e6-9821-46f3fd1509b0",
   "metadata": {},
   "source": [
    "Show the first 3 sentences in the article 7"
   ]
  },
  {
   "cell_type": "code",
   "execution_count": 69,
   "id": "ba9586c7-2ffb-4fb3-be2b-b3b5642297f2",
   "metadata": {},
   "outputs": [
    {
     "data": {
      "text/plain": [
       "['Três vezes candidato a presidente da República, Ciro Gomes se prepara para tentar mais uma vez.',\n",
       " 'Ele acaba de lançar olivro Projeto nacional: o dever da esperança, no qual analisa problemas estruturais do Brasil e apresenta propostas e que funcionará como um guia na caminhada até a próxima campanha nacional, daqui a cerca de dois anos.',\n",
       " 'Questionado sobre o atual momento da política brasileira, ele afirma que \"o que levou o Brasil a esse fundo do poço foi a decepção da esmagadora maioria da opinião pública com as práticas corruptas e a desastrada gestão econômica do PT\" e defende um processo de impeachment contra o presidente Jair Bolsonaro.']"
      ]
     },
     "execution_count": 69,
     "metadata": {},
     "output_type": "execute_result"
    }
   ],
   "source": [
    "articles[7].sentences[:3]"
   ]
  },
  {
   "cell_type": "markdown",
   "id": "4d031389-6870-4048-9182-d019c274d1ff",
   "metadata": {},
   "source": [
    "Show the names foundn in the first 3 sentences in the article 7"
   ]
  },
  {
   "cell_type": "code",
   "execution_count": 13,
   "id": "ed07464f-340b-4b98-97ed-4a0a488119ef",
   "metadata": {},
   "outputs": [
    {
     "data": {
      "text/plain": [
       "(['Ciro Gomes'], [], ['Jair Bolsonaro'])"
      ]
     },
     "execution_count": 13,
     "metadata": {},
     "output_type": "execute_result"
    }
   ],
   "source": [
    "articles[7].persons[:3]"
   ]
  },
  {
   "cell_type": "markdown",
   "id": "c39cbcb2-c7f0-4725-be62-86c5206f1734",
   "metadata": {},
   "source": [
    "Show all names found in article 0"
   ]
  },
  {
   "cell_type": "code",
   "execution_count": 20,
   "id": "59aac60c-9d32-4d8a-afb7-b045a67f076a",
   "metadata": {
    "collapsed": true,
    "jupyter": {
     "outputs_hidden": true
    },
    "tags": []
   },
   "outputs": [
    {
     "data": {
      "text/plain": [
       "(['Clemens Tönnies'],\n",
       " [],\n",
       " [],\n",
       " [],\n",
       " [],\n",
       " [],\n",
       " ['Gerald Asamoah', 'Hans Sarpei', 'Cacau'],\n",
       " [],\n",
       " [],\n",
       " [],\n",
       " [],\n",
       " [],\n",
       " [],\n",
       " [],\n",
       " [],\n",
       " [],\n",
       " [],\n",
       " [],\n",
       " [],\n",
       " [],\n",
       " [],\n",
       " [],\n",
       " [],\n",
       " [],\n",
       " [],\n",
       " [],\n",
       " [],\n",
       " [],\n",
       " [],\n",
       " [],\n",
       " [],\n",
       " [],\n",
       " [],\n",
       " [],\n",
       " [],\n",
       " [],\n",
       " [],\n",
       " [],\n",
       " [],\n",
       " ['Clemens Tönnies'],\n",
       " [])"
      ]
     },
     "execution_count": 20,
     "metadata": {},
     "output_type": "execute_result"
    }
   ],
   "source": [
    "articles[0].persons"
   ]
  },
  {
   "cell_type": "markdown",
   "id": "6dd20576-48df-400c-9453-7569dafcbbc3",
   "metadata": {},
   "source": [
    "## Convert to a Pandas DataFrame"
   ]
  },
  {
   "cell_type": "code",
   "execution_count": 71,
   "id": "b3f44ee6-fd78-488c-9243-efb8106e9d43",
   "metadata": {},
   "outputs": [
    {
     "name": "stderr",
     "output_type": "stream",
     "text": [
      "100%|██████████| 11848/11848 [01:35<00:00, 124.26it/s]\n"
     ]
    }
   ],
   "source": [
    "dfs = []\n",
    "for article in tqdm(articles):\n",
    "    for sentence,persons_list in zip(article.sentences,article.persons):\n",
    "        if len(persons_list)==0:\n",
    "            persons_list = [\"\"] # convert empty to a list with an empty string so that it is always a string\n",
    "        df = pd.DataFrame({\n",
    "            'id':article.id,\n",
    "            'language':article.language,\n",
    "            'sentence':sentence,\n",
    "            'name':persons_list\n",
    "        })\n",
    "        dfs.append(df)"
   ]
  },
  {
   "cell_type": "code",
   "execution_count": 82,
   "id": "92b2d257-cab2-413f-98ba-ee7ca89314e2",
   "metadata": {},
   "outputs": [],
   "source": [
    "df = pd.concat(dfs, ignore_index=True)"
   ]
  },
  {
   "cell_type": "markdown",
   "id": "ebbc3cef-c516-4bc3-8dc4-5c587baeb23c",
   "metadata": {},
   "source": [
    "Check result"
   ]
  },
  {
   "cell_type": "code",
   "execution_count": 74,
   "id": "953915d1-1d83-422e-b9c5-c9061bb2024e",
   "metadata": {},
   "outputs": [
    {
     "data": {
      "text/html": [
       "<div>\n",
       "<style scoped>\n",
       "    .dataframe tbody tr th:only-of-type {\n",
       "        vertical-align: middle;\n",
       "    }\n",
       "\n",
       "    .dataframe tbody tr th {\n",
       "        vertical-align: top;\n",
       "    }\n",
       "\n",
       "    .dataframe thead th {\n",
       "        text-align: right;\n",
       "    }\n",
       "</style>\n",
       "<table border=\"1\" class=\"dataframe\">\n",
       "  <thead>\n",
       "    <tr style=\"text-align: right;\">\n",
       "      <th></th>\n",
       "      <th>id</th>\n",
       "      <th>language</th>\n",
       "      <th>sentence</th>\n",
       "      <th>name</th>\n",
       "    </tr>\n",
       "  </thead>\n",
       "  <tbody>\n",
       "    <tr>\n",
       "      <th>0</th>\n",
       "      <td>54006424</td>\n",
       "      <td>PORTUGUESE_BRAZIL</td>\n",
       "      <td>O presidente do FC Schalke 04 e proprietário ...</td>\n",
       "      <td>Clemens Tönnies</td>\n",
       "    </tr>\n",
       "    <tr>\n",
       "      <th>1</th>\n",
       "      <td>54006424</td>\n",
       "      <td>PORTUGUESE_BRAZIL</td>\n",
       "      <td>O Schalke não conseguiu nenhuma vitória nos ...</td>\n",
       "      <td></td>\n",
       "    </tr>\n",
       "    <tr>\n",
       "      <th>2</th>\n",
       "      <td>54006424</td>\n",
       "      <td>PORTUGUESE_BRAZIL</td>\n",
       "      <td>A equipe dos \"azuis-reais\" terminou o campeona...</td>\n",
       "      <td></td>\n",
       "    </tr>\n",
       "    <tr>\n",
       "      <th>3</th>\n",
       "      <td>54006424</td>\n",
       "      <td>PORTUGUESE_BRAZIL</td>\n",
       "      <td>A participação em uma dessas grandes competi...</td>\n",
       "      <td></td>\n",
       "    </tr>\n",
       "    <tr>\n",
       "      <th>4</th>\n",
       "      <td>54006424</td>\n",
       "      <td>PORTUGUESE_BRAZIL</td>\n",
       "      <td>Tönnies foi amplamente criticado no ano passa...</td>\n",
       "      <td></td>\n",
       "    </tr>\n",
       "    <tr>\n",
       "      <th>5</th>\n",
       "      <td>54006424</td>\n",
       "      <td>PORTUGUESE_BRAZIL</td>\n",
       "      <td>No mês de agosto, durante um evento do clube,...</td>\n",
       "      <td></td>\n",
       "    </tr>\n",
       "    <tr>\n",
       "      <th>6</th>\n",
       "      <td>54006424</td>\n",
       "      <td>PORTUGUESE_BRAZIL</td>\n",
       "      <td>O comentário foi criticado como racista por e...</td>\n",
       "      <td>Gerald Asamoah</td>\n",
       "    </tr>\n",
       "    <tr>\n",
       "      <th>7</th>\n",
       "      <td>54006424</td>\n",
       "      <td>PORTUGUESE_BRAZIL</td>\n",
       "      <td>O comentário foi criticado como racista por e...</td>\n",
       "      <td>Hans Sarpei</td>\n",
       "    </tr>\n",
       "    <tr>\n",
       "      <th>8</th>\n",
       "      <td>54006424</td>\n",
       "      <td>PORTUGUESE_BRAZIL</td>\n",
       "      <td>O comentário foi criticado como racista por e...</td>\n",
       "      <td>Cacau</td>\n",
       "    </tr>\n",
       "    <tr>\n",
       "      <th>9</th>\n",
       "      <td>54006424</td>\n",
       "      <td>PORTUGUESE_BRAZIL</td>\n",
       "      <td>Mais tarde, Tönnies se desculpou pela afirmac...</td>\n",
       "      <td></td>\n",
       "    </tr>\n",
       "  </tbody>\n",
       "</table>\n",
       "</div>"
      ],
      "text/plain": [
       "         id           language  \\\n",
       "0  54006424  PORTUGUESE_BRAZIL   \n",
       "1  54006424  PORTUGUESE_BRAZIL   \n",
       "2  54006424  PORTUGUESE_BRAZIL   \n",
       "3  54006424  PORTUGUESE_BRAZIL   \n",
       "4  54006424  PORTUGUESE_BRAZIL   \n",
       "5  54006424  PORTUGUESE_BRAZIL   \n",
       "6  54006424  PORTUGUESE_BRAZIL   \n",
       "7  54006424  PORTUGUESE_BRAZIL   \n",
       "8  54006424  PORTUGUESE_BRAZIL   \n",
       "9  54006424  PORTUGUESE_BRAZIL   \n",
       "\n",
       "                                            sentence              name  \n",
       "0  O presidente do FC Schalke 04 e proprietário ...  Clemens Tönnies  \n",
       "1  O Schalke não conseguiu nenhuma vitória nos ...                    \n",
       "2  A equipe dos \"azuis-reais\" terminou o campeona...                    \n",
       "3  A participação em uma dessas grandes competi...                    \n",
       "4  Tönnies foi amplamente criticado no ano passa...                    \n",
       "5  No mês de agosto, durante um evento do clube,...                    \n",
       "6  O comentário foi criticado como racista por e...    Gerald Asamoah  \n",
       "7  O comentário foi criticado como racista por e...       Hans Sarpei  \n",
       "8  O comentário foi criticado como racista por e...             Cacau  \n",
       "9  Mais tarde, Tönnies se desculpou pela afirmac...                    "
      ]
     },
     "execution_count": 74,
     "metadata": {},
     "output_type": "execute_result"
    }
   ],
   "source": [
    "df.head(10)"
   ]
  },
  {
   "cell_type": "code",
   "execution_count": 75,
   "id": "4c81144c-69d2-46bd-b684-92a9e9716b7c",
   "metadata": {},
   "outputs": [
    {
     "name": "stdout",
     "output_type": "stream",
     "text": [
      "<class 'pandas.core.frame.DataFrame'>\n",
      "RangeIndex: 386075 entries, 0 to 386074\n",
      "Data columns (total 4 columns):\n",
      " #   Column    Non-Null Count   Dtype \n",
      "---  ------    --------------   ----- \n",
      " 0   id        386075 non-null  int64 \n",
      " 1   language  386075 non-null  object\n",
      " 2   sentence  386075 non-null  object\n",
      " 3   name      386075 non-null  object\n",
      "dtypes: int64(1), object(3)\n",
      "memory usage: 11.8+ MB\n"
     ]
    }
   ],
   "source": [
    "df.info()"
   ]
  },
  {
   "cell_type": "code",
   "execution_count": 38,
   "id": "05fd2973-c996-4f8b-9212-29b026ab78e9",
   "metadata": {
    "tags": []
   },
   "outputs": [
    {
     "data": {
      "text/html": [
       "<div>\n",
       "<style scoped>\n",
       "    .dataframe tbody tr th:only-of-type {\n",
       "        vertical-align: middle;\n",
       "    }\n",
       "\n",
       "    .dataframe tbody tr th {\n",
       "        vertical-align: top;\n",
       "    }\n",
       "\n",
       "    .dataframe thead th {\n",
       "        text-align: right;\n",
       "    }\n",
       "</style>\n",
       "<table border=\"1\" class=\"dataframe\">\n",
       "  <thead>\n",
       "    <tr style=\"text-align: right;\">\n",
       "      <th></th>\n",
       "      <th>id</th>\n",
       "      <th>language</th>\n",
       "      <th>sentence</th>\n",
       "      <th>name</th>\n",
       "    </tr>\n",
       "  </thead>\n",
       "  <tbody>\n",
       "    <tr>\n",
       "      <th>count</th>\n",
       "      <td>386075.0</td>\n",
       "      <td>386075</td>\n",
       "      <td>386075</td>\n",
       "      <td>386075</td>\n",
       "    </tr>\n",
       "    <tr>\n",
       "      <th>unique</th>\n",
       "      <td>NaN</td>\n",
       "      <td>1</td>\n",
       "      <td>341975</td>\n",
       "      <td>27952</td>\n",
       "    </tr>\n",
       "    <tr>\n",
       "      <th>top</th>\n",
       "      <td>NaN</td>\n",
       "      <td>PORTUGUESE_BRAZIL</td>\n",
       "      <td>Diversas autoridades e instituições de saúd...</td>\n",
       "      <td></td>\n",
       "    </tr>\n",
       "    <tr>\n",
       "      <th>freq</th>\n",
       "      <td>NaN</td>\n",
       "      <td>386075</td>\n",
       "      <td>267</td>\n",
       "      <td>260633</td>\n",
       "    </tr>\n",
       "  </tbody>\n",
       "</table>\n",
       "</div>"
      ],
      "text/plain": [
       "              id           language  \\\n",
       "count   386075.0             386075   \n",
       "unique       NaN                  1   \n",
       "top          NaN  PORTUGUESE_BRAZIL   \n",
       "freq         NaN             386075   \n",
       "\n",
       "                                                 sentence    name  \n",
       "count                                              386075  386075  \n",
       "unique                                             341975   27952  \n",
       "top     Diversas autoridades e instituições de saúd...          \n",
       "freq                                                  267  260633  "
      ]
     },
     "execution_count": 38,
     "metadata": {},
     "output_type": "execute_result"
    }
   ],
   "source": [
    "df.describe(include='all')[:4]"
   ]
  },
  {
   "cell_type": "code",
   "execution_count": 76,
   "id": "a44cb144-4fa9-40f1-b477-f0b04886d15f",
   "metadata": {},
   "outputs": [
    {
     "data": {
      "text/html": [
       "<div>\n",
       "<style scoped>\n",
       "    .dataframe tbody tr th:only-of-type {\n",
       "        vertical-align: middle;\n",
       "    }\n",
       "\n",
       "    .dataframe tbody tr th {\n",
       "        vertical-align: top;\n",
       "    }\n",
       "\n",
       "    .dataframe thead th {\n",
       "        text-align: right;\n",
       "    }\n",
       "</style>\n",
       "<table border=\"1\" class=\"dataframe\">\n",
       "  <thead>\n",
       "    <tr style=\"text-align: right;\">\n",
       "      <th></th>\n",
       "      <th>id</th>\n",
       "      <th>language</th>\n",
       "      <th>sentence</th>\n",
       "      <th>name</th>\n",
       "    </tr>\n",
       "  </thead>\n",
       "  <tbody>\n",
       "    <tr>\n",
       "      <th>0</th>\n",
       "      <td>54006424</td>\n",
       "      <td>PORTUGUESE_BRAZIL</td>\n",
       "      <td>O presidente do FC Schalke 04 e proprietário ...</td>\n",
       "      <td>Clemens Tönnies</td>\n",
       "    </tr>\n",
       "    <tr>\n",
       "      <th>6</th>\n",
       "      <td>54006424</td>\n",
       "      <td>PORTUGUESE_BRAZIL</td>\n",
       "      <td>O comentário foi criticado como racista por e...</td>\n",
       "      <td>Gerald Asamoah</td>\n",
       "    </tr>\n",
       "    <tr>\n",
       "      <th>7</th>\n",
       "      <td>54006424</td>\n",
       "      <td>PORTUGUESE_BRAZIL</td>\n",
       "      <td>O comentário foi criticado como racista por e...</td>\n",
       "      <td>Hans Sarpei</td>\n",
       "    </tr>\n",
       "    <tr>\n",
       "      <th>8</th>\n",
       "      <td>54006424</td>\n",
       "      <td>PORTUGUESE_BRAZIL</td>\n",
       "      <td>O comentário foi criticado como racista por e...</td>\n",
       "      <td>Cacau</td>\n",
       "    </tr>\n",
       "    <tr>\n",
       "      <th>41</th>\n",
       "      <td>54006424</td>\n",
       "      <td>PORTUGUESE_BRAZIL</td>\n",
       "      <td>A revolta gerada pelo papel da empresa no ress...</td>\n",
       "      <td>Clemens Tönnies</td>\n",
       "    </tr>\n",
       "    <tr>\n",
       "      <th>43</th>\n",
       "      <td>54003004</td>\n",
       "      <td>PORTUGUESE_BRAZIL</td>\n",
       "      <td>Em meados de março, quando o coronavírus com...</td>\n",
       "      <td>Angela Merkel</td>\n",
       "    </tr>\n",
       "    <tr>\n",
       "      <th>51</th>\n",
       "      <td>54003004</td>\n",
       "      <td>PORTUGUESE_BRAZIL</td>\n",
       "      <td>E após anos mantendo o presidente francês, E...</td>\n",
       "      <td>Emmanuel Macron</td>\n",
       "    </tr>\n",
       "    <tr>\n",
       "      <th>52</th>\n",
       "      <td>54003004</td>\n",
       "      <td>PORTUGUESE_BRAZIL</td>\n",
       "      <td>E após anos mantendo o presidente francês, E...</td>\n",
       "      <td>Merkel</td>\n",
       "    </tr>\n",
       "    <tr>\n",
       "      <th>55</th>\n",
       "      <td>54003004</td>\n",
       "      <td>PORTUGUESE_BRAZIL</td>\n",
       "      <td>O ministro alemão das Finanças, Olaf Scholz,...</td>\n",
       "      <td>Olaf Scholz</td>\n",
       "    </tr>\n",
       "    <tr>\n",
       "      <th>56</th>\n",
       "      <td>54003004</td>\n",
       "      <td>PORTUGUESE_BRAZIL</td>\n",
       "      <td>O ministro alemão das Finanças, Olaf Scholz,...</td>\n",
       "      <td>Alexander Hamilton</td>\n",
       "    </tr>\n",
       "  </tbody>\n",
       "</table>\n",
       "</div>"
      ],
      "text/plain": [
       "          id           language  \\\n",
       "0   54006424  PORTUGUESE_BRAZIL   \n",
       "6   54006424  PORTUGUESE_BRAZIL   \n",
       "7   54006424  PORTUGUESE_BRAZIL   \n",
       "8   54006424  PORTUGUESE_BRAZIL   \n",
       "41  54006424  PORTUGUESE_BRAZIL   \n",
       "43  54003004  PORTUGUESE_BRAZIL   \n",
       "51  54003004  PORTUGUESE_BRAZIL   \n",
       "52  54003004  PORTUGUESE_BRAZIL   \n",
       "55  54003004  PORTUGUESE_BRAZIL   \n",
       "56  54003004  PORTUGUESE_BRAZIL   \n",
       "\n",
       "                                             sentence                name  \n",
       "0   O presidente do FC Schalke 04 e proprietário ...    Clemens Tönnies  \n",
       "6   O comentário foi criticado como racista por e...      Gerald Asamoah  \n",
       "7   O comentário foi criticado como racista por e...         Hans Sarpei  \n",
       "8   O comentário foi criticado como racista por e...               Cacau  \n",
       "41  A revolta gerada pelo papel da empresa no ress...    Clemens Tönnies  \n",
       "43  Em meados de março, quando o coronavírus com...       Angela Merkel  \n",
       "51  E após anos mantendo o presidente francês, E...     Emmanuel Macron  \n",
       "52  E após anos mantendo o presidente francês, E...              Merkel  \n",
       "55  O ministro alemão das Finanças, Olaf Scholz,...         Olaf Scholz  \n",
       "56  O ministro alemão das Finanças, Olaf Scholz,...  Alexander Hamilton  "
      ]
     },
     "execution_count": 76,
     "metadata": {},
     "output_type": "execute_result"
    }
   ],
   "source": [
    "df.query('name!=\"\"').head(10)"
   ]
  },
  {
   "cell_type": "code",
   "execution_count": 40,
   "id": "08ad9901-6c97-4c75-b0b1-dc687cc1834d",
   "metadata": {
    "tags": []
   },
   "outputs": [
    {
     "data": {
      "text/html": [
       "<div>\n",
       "<style scoped>\n",
       "    .dataframe tbody tr th:only-of-type {\n",
       "        vertical-align: middle;\n",
       "    }\n",
       "\n",
       "    .dataframe tbody tr th {\n",
       "        vertical-align: top;\n",
       "    }\n",
       "\n",
       "    .dataframe thead th {\n",
       "        text-align: right;\n",
       "    }\n",
       "</style>\n",
       "<table border=\"1\" class=\"dataframe\">\n",
       "  <thead>\n",
       "    <tr style=\"text-align: right;\">\n",
       "      <th></th>\n",
       "      <th>id</th>\n",
       "      <th>language</th>\n",
       "      <th>sentence</th>\n",
       "      <th>name</th>\n",
       "    </tr>\n",
       "  </thead>\n",
       "  <tbody>\n",
       "    <tr>\n",
       "      <th>count</th>\n",
       "      <td>125442.0</td>\n",
       "      <td>125442</td>\n",
       "      <td>125442</td>\n",
       "      <td>125442</td>\n",
       "    </tr>\n",
       "    <tr>\n",
       "      <th>unique</th>\n",
       "      <td>NaN</td>\n",
       "      <td>1</td>\n",
       "      <td>93353</td>\n",
       "      <td>27951</td>\n",
       "    </tr>\n",
       "    <tr>\n",
       "      <th>top</th>\n",
       "      <td>NaN</td>\n",
       "      <td>PORTUGUESE_BRAZIL</td>\n",
       "      <td>O texto reflete a opinião do autor, não nece...</td>\n",
       "      <td>Bolsonaro</td>\n",
       "    </tr>\n",
       "    <tr>\n",
       "      <th>freq</th>\n",
       "      <td>NaN</td>\n",
       "      <td>125442</td>\n",
       "      <td>107</td>\n",
       "      <td>7996</td>\n",
       "    </tr>\n",
       "  </tbody>\n",
       "</table>\n",
       "</div>"
      ],
      "text/plain": [
       "              id           language  \\\n",
       "count   125442.0             125442   \n",
       "unique       NaN                  1   \n",
       "top          NaN  PORTUGUESE_BRAZIL   \n",
       "freq         NaN             125442   \n",
       "\n",
       "                                                 sentence       name  \n",
       "count                                              125442     125442  \n",
       "unique                                              93353      27951  \n",
       "top     O texto reflete a opinião do autor, não nece...  Bolsonaro  \n",
       "freq                                                  107       7996  "
      ]
     },
     "execution_count": 40,
     "metadata": {},
     "output_type": "execute_result"
    }
   ],
   "source": [
    "df.query('name!=\"\"').describe(include='all')[:4]"
   ]
  },
  {
   "cell_type": "markdown",
   "id": "c74b788e-bee9-4b39-a374-1d61c092b410",
   "metadata": {},
   "source": [
    "## Save"
   ]
  },
  {
   "cell_type": "code",
   "execution_count": 77,
   "id": "0f146bc1-a55c-4dc1-9d6b-54cb12ba6642",
   "metadata": {},
   "outputs": [],
   "source": [
    "outputdir = Path.cwd()\n",
    "filename = 'portuguese_sentences_with_names.csv'\n",
    "df.to_csv(outputdir/filename, index=False)"
   ]
  },
  {
   "cell_type": "markdown",
   "id": "6fe9d5db-a5dc-4b2c-ab63-1cb38c60fcfc",
   "metadata": {},
   "source": [
    "## Remove redundancy"
   ]
  },
  {
   "cell_type": "markdown",
   "id": "3d454e3a-3b95-498c-8238-ca385c413690",
   "metadata": {},
   "source": [
    "Read data"
   ]
  },
  {
   "cell_type": "code",
   "execution_count": 41,
   "id": "7fbab278-e5e5-4dcc-9d6d-4f61c2ed836e",
   "metadata": {},
   "outputs": [],
   "source": [
    "inputdir = Path.cwd()\n",
    "filename = 'portuguese_sentences_with_names.csv'\n",
    "dtype={'id':int,\n",
    "       'language':str,\n",
    "       'sentence':str,\n",
    "       'name':str\n",
    "       }\n",
    "\n",
    "df = pd.read_csv(inputdir/filename, dtype=dtype).fillna('')"
   ]
  },
  {
   "cell_type": "code",
   "execution_count": 47,
   "id": "26e8cf67-a1d1-4431-b5e3-c3fb10850634",
   "metadata": {},
   "outputs": [
    {
     "data": {
      "text/html": [
       "<div>\n",
       "<style scoped>\n",
       "    .dataframe tbody tr th:only-of-type {\n",
       "        vertical-align: middle;\n",
       "    }\n",
       "\n",
       "    .dataframe tbody tr th {\n",
       "        vertical-align: top;\n",
       "    }\n",
       "\n",
       "    .dataframe thead th {\n",
       "        text-align: right;\n",
       "    }\n",
       "</style>\n",
       "<table border=\"1\" class=\"dataframe\">\n",
       "  <thead>\n",
       "    <tr style=\"text-align: right;\">\n",
       "      <th></th>\n",
       "      <th>id</th>\n",
       "      <th>language</th>\n",
       "      <th>sentence</th>\n",
       "      <th>name</th>\n",
       "    </tr>\n",
       "  </thead>\n",
       "  <tbody>\n",
       "    <tr>\n",
       "      <th>0</th>\n",
       "      <td>54006424</td>\n",
       "      <td>PORTUGUESE_BRAZIL</td>\n",
       "      <td>O presidente do FC Schalke 04 e proprietário ...</td>\n",
       "      <td>Clemens Tönnies</td>\n",
       "    </tr>\n",
       "    <tr>\n",
       "      <th>1</th>\n",
       "      <td>54006424</td>\n",
       "      <td>PORTUGUESE_BRAZIL</td>\n",
       "      <td>O Schalke não conseguiu nenhuma vitória nos ...</td>\n",
       "      <td></td>\n",
       "    </tr>\n",
       "    <tr>\n",
       "      <th>2</th>\n",
       "      <td>54006424</td>\n",
       "      <td>PORTUGUESE_BRAZIL</td>\n",
       "      <td>A equipe dos \"azuis-reais\" terminou o campeona...</td>\n",
       "      <td></td>\n",
       "    </tr>\n",
       "    <tr>\n",
       "      <th>3</th>\n",
       "      <td>54006424</td>\n",
       "      <td>PORTUGUESE_BRAZIL</td>\n",
       "      <td>A participação em uma dessas grandes competi...</td>\n",
       "      <td></td>\n",
       "    </tr>\n",
       "    <tr>\n",
       "      <th>4</th>\n",
       "      <td>54006424</td>\n",
       "      <td>PORTUGUESE_BRAZIL</td>\n",
       "      <td>Tönnies foi amplamente criticado no ano passa...</td>\n",
       "      <td></td>\n",
       "    </tr>\n",
       "    <tr>\n",
       "      <th>...</th>\n",
       "      <td>...</td>\n",
       "      <td>...</td>\n",
       "      <td>...</td>\n",
       "      <td>...</td>\n",
       "    </tr>\n",
       "    <tr>\n",
       "      <th>386070</th>\n",
       "      <td>54006316</td>\n",
       "      <td>PORTUGUESE_BRAZIL</td>\n",
       "      <td>Na avaliação por grupo de 100 mil habitantes...</td>\n",
       "      <td></td>\n",
       "    </tr>\n",
       "    <tr>\n",
       "      <th>386071</th>\n",
       "      <td>54006316</td>\n",
       "      <td>PORTUGUESE_BRAZIL</td>\n",
       "      <td>O Rio de Janeiro, a segunda unidade da federac...</td>\n",
       "      <td></td>\n",
       "    </tr>\n",
       "    <tr>\n",
       "      <th>386072</th>\n",
       "      <td>54006316</td>\n",
       "      <td>PORTUGUESE_BRAZIL</td>\n",
       "      <td>O estado mais afetado continua sendo São Paul...</td>\n",
       "      <td></td>\n",
       "    </tr>\n",
       "    <tr>\n",
       "      <th>386073</th>\n",
       "      <td>54006316</td>\n",
       "      <td>PORTUGUESE_BRAZIL</td>\n",
       "      <td>Em números acumulados, o Brasil tem 790.040 p...</td>\n",
       "      <td></td>\n",
       "    </tr>\n",
       "    <tr>\n",
       "      <th>386074</th>\n",
       "      <td>54006316</td>\n",
       "      <td>PORTUGUESE_BRAZIL</td>\n",
       "      <td>Entretanto, diversas autoridades e instituiço...</td>\n",
       "      <td></td>\n",
       "    </tr>\n",
       "  </tbody>\n",
       "</table>\n",
       "<p>386075 rows × 4 columns</p>\n",
       "</div>"
      ],
      "text/plain": [
       "              id           language  \\\n",
       "0       54006424  PORTUGUESE_BRAZIL   \n",
       "1       54006424  PORTUGUESE_BRAZIL   \n",
       "2       54006424  PORTUGUESE_BRAZIL   \n",
       "3       54006424  PORTUGUESE_BRAZIL   \n",
       "4       54006424  PORTUGUESE_BRAZIL   \n",
       "...          ...                ...   \n",
       "386070  54006316  PORTUGUESE_BRAZIL   \n",
       "386071  54006316  PORTUGUESE_BRAZIL   \n",
       "386072  54006316  PORTUGUESE_BRAZIL   \n",
       "386073  54006316  PORTUGUESE_BRAZIL   \n",
       "386074  54006316  PORTUGUESE_BRAZIL   \n",
       "\n",
       "                                                 sentence              name  \n",
       "0       O presidente do FC Schalke 04 e proprietário ...  Clemens Tönnies  \n",
       "1       O Schalke não conseguiu nenhuma vitória nos ...                    \n",
       "2       A equipe dos \"azuis-reais\" terminou o campeona...                    \n",
       "3       A participação em uma dessas grandes competi...                    \n",
       "4       Tönnies foi amplamente criticado no ano passa...                    \n",
       "...                                                   ...               ...  \n",
       "386070  Na avaliação por grupo de 100 mil habitantes...                    \n",
       "386071  O Rio de Janeiro, a segunda unidade da federac...                    \n",
       "386072  O estado mais afetado continua sendo São Paul...                    \n",
       "386073  Em números acumulados, o Brasil tem 790.040 p...                    \n",
       "386074  Entretanto, diversas autoridades e instituiço...                    \n",
       "\n",
       "[386075 rows x 4 columns]"
      ]
     },
     "execution_count": 47,
     "metadata": {},
     "output_type": "execute_result"
    }
   ],
   "source": [
    "df"
   ]
  },
  {
   "cell_type": "markdown",
   "id": "f7b72c55-5852-4552-b92c-307deb62fb59",
   "metadata": {},
   "source": [
    "Drop unnecessary columns"
   ]
  },
  {
   "cell_type": "code",
   "execution_count": 48,
   "id": "50d86f03-5378-4573-b7df-3d9c11991c3c",
   "metadata": {},
   "outputs": [],
   "source": [
    "df = df.drop(columns=['language'])"
   ]
  },
  {
   "cell_type": "markdown",
   "id": "463d4066-4347-47df-9f52-5c6c20e63b02",
   "metadata": {},
   "source": [
    "Remove sentences with no found names"
   ]
  },
  {
   "cell_type": "code",
   "execution_count": 49,
   "id": "2a4c8ec5-eb31-41eb-b48c-dc5d6e919d8c",
   "metadata": {},
   "outputs": [],
   "source": [
    "df = df.query('name!=\"\"')"
   ]
  },
  {
   "cell_type": "markdown",
   "id": "ddaf845b-e234-49d9-829c-abb5bd0b8d95",
   "metadata": {},
   "source": [
    "Reset index"
   ]
  },
  {
   "cell_type": "code",
   "execution_count": 50,
   "id": "4d040d37-07f8-4e30-bea4-356bed26d78b",
   "metadata": {},
   "outputs": [],
   "source": [
    "df = df.reset_index(drop=True)"
   ]
  },
  {
   "cell_type": "code",
   "execution_count": 51,
   "id": "d8631a9a-8bb2-42e3-8621-fe75ddaf90d0",
   "metadata": {},
   "outputs": [
    {
     "data": {
      "text/html": [
       "<div>\n",
       "<style scoped>\n",
       "    .dataframe tbody tr th:only-of-type {\n",
       "        vertical-align: middle;\n",
       "    }\n",
       "\n",
       "    .dataframe tbody tr th {\n",
       "        vertical-align: top;\n",
       "    }\n",
       "\n",
       "    .dataframe thead th {\n",
       "        text-align: right;\n",
       "    }\n",
       "</style>\n",
       "<table border=\"1\" class=\"dataframe\">\n",
       "  <thead>\n",
       "    <tr style=\"text-align: right;\">\n",
       "      <th></th>\n",
       "      <th>id</th>\n",
       "      <th>sentence</th>\n",
       "      <th>name</th>\n",
       "    </tr>\n",
       "  </thead>\n",
       "  <tbody>\n",
       "    <tr>\n",
       "      <th>0</th>\n",
       "      <td>54006424</td>\n",
       "      <td>O presidente do FC Schalke 04 e proprietário ...</td>\n",
       "      <td>Clemens Tönnies</td>\n",
       "    </tr>\n",
       "    <tr>\n",
       "      <th>1</th>\n",
       "      <td>54006424</td>\n",
       "      <td>O comentário foi criticado como racista por e...</td>\n",
       "      <td>Gerald Asamoah</td>\n",
       "    </tr>\n",
       "    <tr>\n",
       "      <th>2</th>\n",
       "      <td>54006424</td>\n",
       "      <td>O comentário foi criticado como racista por e...</td>\n",
       "      <td>Hans Sarpei</td>\n",
       "    </tr>\n",
       "    <tr>\n",
       "      <th>3</th>\n",
       "      <td>54006424</td>\n",
       "      <td>O comentário foi criticado como racista por e...</td>\n",
       "      <td>Cacau</td>\n",
       "    </tr>\n",
       "    <tr>\n",
       "      <th>4</th>\n",
       "      <td>54006424</td>\n",
       "      <td>A revolta gerada pelo papel da empresa no ress...</td>\n",
       "      <td>Clemens Tönnies</td>\n",
       "    </tr>\n",
       "    <tr>\n",
       "      <th>...</th>\n",
       "      <td>...</td>\n",
       "      <td>...</td>\n",
       "      <td>...</td>\n",
       "    </tr>\n",
       "    <tr>\n",
       "      <th>125437</th>\n",
       "      <td>54006072</td>\n",
       "      <td>Paulo, o nome mais cotado para substituir Deco...</td>\n",
       "      <td>Anderson Correia</td>\n",
       "    </tr>\n",
       "    <tr>\n",
       "      <th>125438</th>\n",
       "      <td>54006072</td>\n",
       "      <td>Também seriam possíveis candidatos o secreta...</td>\n",
       "      <td>Renato Feder</td>\n",
       "    </tr>\n",
       "    <tr>\n",
       "      <th>125439</th>\n",
       "      <td>54006072</td>\n",
       "      <td>Também seriam possíveis candidatos o secreta...</td>\n",
       "      <td>Sérgio</td>\n",
       "    </tr>\n",
       "    <tr>\n",
       "      <th>125440</th>\n",
       "      <td>54006072</td>\n",
       "      <td>O nome de Freitas é relacionado como orientad...</td>\n",
       "      <td>Freitas</td>\n",
       "    </tr>\n",
       "    <tr>\n",
       "      <th>125441</th>\n",
       "      <td>54006072</td>\n",
       "      <td>O nome de Freitas é relacionado como orientad...</td>\n",
       "      <td>Decotelli</td>\n",
       "    </tr>\n",
       "  </tbody>\n",
       "</table>\n",
       "<p>125442 rows × 3 columns</p>\n",
       "</div>"
      ],
      "text/plain": [
       "              id                                           sentence  \\\n",
       "0       54006424  O presidente do FC Schalke 04 e proprietário ...   \n",
       "1       54006424  O comentário foi criticado como racista por e...   \n",
       "2       54006424  O comentário foi criticado como racista por e...   \n",
       "3       54006424  O comentário foi criticado como racista por e...   \n",
       "4       54006424  A revolta gerada pelo papel da empresa no ress...   \n",
       "...          ...                                                ...   \n",
       "125437  54006072  Paulo, o nome mais cotado para substituir Deco...   \n",
       "125438  54006072  Também seriam possíveis candidatos o secreta...   \n",
       "125439  54006072  Também seriam possíveis candidatos o secreta...   \n",
       "125440  54006072  O nome de Freitas é relacionado como orientad...   \n",
       "125441  54006072  O nome de Freitas é relacionado como orientad...   \n",
       "\n",
       "                    name  \n",
       "0       Clemens Tönnies  \n",
       "1         Gerald Asamoah  \n",
       "2            Hans Sarpei  \n",
       "3                  Cacau  \n",
       "4       Clemens Tönnies  \n",
       "...                  ...  \n",
       "125437  Anderson Correia  \n",
       "125438      Renato Feder  \n",
       "125439           Sérgio  \n",
       "125440           Freitas  \n",
       "125441         Decotelli  \n",
       "\n",
       "[125442 rows x 3 columns]"
      ]
     },
     "execution_count": 51,
     "metadata": {},
     "output_type": "execute_result"
    }
   ],
   "source": [
    "df"
   ]
  },
  {
   "cell_type": "code",
   "execution_count": null,
   "id": "b9f07e2d-b3b2-42a4-81f8-c703afcc4ef3",
   "metadata": {},
   "outputs": [],
   "source": [
    "outputdir = Path.cwd()\n",
    "filename = 'portuguese_sentences_with_names_tight.csv'\n",
    "df.to_csv(outputdir/filename, index=False)"
   ]
  },
  {
   "cell_type": "markdown",
   "id": "195c7773-eaef-4413-9255-800facd3432e",
   "metadata": {},
   "source": [
    "# Homogenize names (alias) in sentences"
   ]
  },
  {
   "cell_type": "markdown",
   "id": "129ac18d-6318-42a6-85eb-792ed07e7293",
   "metadata": {},
   "source": [
    "Read CSV file"
   ]
  },
  {
   "cell_type": "code",
   "execution_count": 527,
   "id": "a7de3927-684c-4cd7-8fd8-624ed2543a5d",
   "metadata": {},
   "outputs": [],
   "source": [
    "inputdir = Path('/home/stefano')\n",
    "filename = Path('portuguese_sentences_with_names_tight.csv')\n",
    "dtype={'id':int,\n",
    "       'sentence':str,\n",
    "       'name':str\n",
    "       }\n",
    "df = pd.read_csv(inputdir/filename, dtype=dtype)"
   ]
  },
  {
   "cell_type": "code",
   "execution_count": 528,
   "id": "03f7402b-6ce1-4e8b-8f3b-b414e99cd91a",
   "metadata": {},
   "outputs": [
    {
     "data": {
      "text/html": [
       "<div>\n",
       "<style scoped>\n",
       "    .dataframe tbody tr th:only-of-type {\n",
       "        vertical-align: middle;\n",
       "    }\n",
       "\n",
       "    .dataframe tbody tr th {\n",
       "        vertical-align: top;\n",
       "    }\n",
       "\n",
       "    .dataframe thead th {\n",
       "        text-align: right;\n",
       "    }\n",
       "</style>\n",
       "<table border=\"1\" class=\"dataframe\">\n",
       "  <thead>\n",
       "    <tr style=\"text-align: right;\">\n",
       "      <th></th>\n",
       "      <th>id</th>\n",
       "      <th>sentence</th>\n",
       "      <th>name</th>\n",
       "    </tr>\n",
       "  </thead>\n",
       "  <tbody>\n",
       "    <tr>\n",
       "      <th>0</th>\n",
       "      <td>54006424</td>\n",
       "      <td>O presidente do FC Schalke 04 e proprietário ...</td>\n",
       "      <td>Clemens Tönnies</td>\n",
       "    </tr>\n",
       "    <tr>\n",
       "      <th>1</th>\n",
       "      <td>54006424</td>\n",
       "      <td>O comentário foi criticado como racista por e...</td>\n",
       "      <td>Gerald Asamoah</td>\n",
       "    </tr>\n",
       "    <tr>\n",
       "      <th>2</th>\n",
       "      <td>54006424</td>\n",
       "      <td>O comentário foi criticado como racista por e...</td>\n",
       "      <td>Hans Sarpei</td>\n",
       "    </tr>\n",
       "    <tr>\n",
       "      <th>3</th>\n",
       "      <td>54006424</td>\n",
       "      <td>O comentário foi criticado como racista por e...</td>\n",
       "      <td>Cacau</td>\n",
       "    </tr>\n",
       "    <tr>\n",
       "      <th>4</th>\n",
       "      <td>54006424</td>\n",
       "      <td>A revolta gerada pelo papel da empresa no ress...</td>\n",
       "      <td>Clemens Tönnies</td>\n",
       "    </tr>\n",
       "    <tr>\n",
       "      <th>5</th>\n",
       "      <td>54003004</td>\n",
       "      <td>Em meados de março, quando o coronavírus com...</td>\n",
       "      <td>Angela Merkel</td>\n",
       "    </tr>\n",
       "    <tr>\n",
       "      <th>6</th>\n",
       "      <td>54003004</td>\n",
       "      <td>E após anos mantendo o presidente francês, E...</td>\n",
       "      <td>Emmanuel Macron</td>\n",
       "    </tr>\n",
       "    <tr>\n",
       "      <th>7</th>\n",
       "      <td>54003004</td>\n",
       "      <td>E após anos mantendo o presidente francês, E...</td>\n",
       "      <td>Merkel</td>\n",
       "    </tr>\n",
       "    <tr>\n",
       "      <th>8</th>\n",
       "      <td>54003004</td>\n",
       "      <td>O ministro alemão das Finanças, Olaf Scholz,...</td>\n",
       "      <td>Olaf Scholz</td>\n",
       "    </tr>\n",
       "    <tr>\n",
       "      <th>9</th>\n",
       "      <td>54003004</td>\n",
       "      <td>O ministro alemão das Finanças, Olaf Scholz,...</td>\n",
       "      <td>Alexander Hamilton</td>\n",
       "    </tr>\n",
       "  </tbody>\n",
       "</table>\n",
       "</div>"
      ],
      "text/plain": [
       "         id                                           sentence  \\\n",
       "0  54006424  O presidente do FC Schalke 04 e proprietário ...   \n",
       "1  54006424  O comentário foi criticado como racista por e...   \n",
       "2  54006424  O comentário foi criticado como racista por e...   \n",
       "3  54006424  O comentário foi criticado como racista por e...   \n",
       "4  54006424  A revolta gerada pelo papel da empresa no ress...   \n",
       "5  54003004  Em meados de março, quando o coronavírus com...   \n",
       "6  54003004  E após anos mantendo o presidente francês, E...   \n",
       "7  54003004  E após anos mantendo o presidente francês, E...   \n",
       "8  54003004  O ministro alemão das Finanças, Olaf Scholz,...   \n",
       "9  54003004  O ministro alemão das Finanças, Olaf Scholz,...   \n",
       "\n",
       "                 name  \n",
       "0    Clemens Tönnies  \n",
       "1      Gerald Asamoah  \n",
       "2         Hans Sarpei  \n",
       "3               Cacau  \n",
       "4    Clemens Tönnies  \n",
       "5       Angela Merkel  \n",
       "6     Emmanuel Macron  \n",
       "7              Merkel  \n",
       "8         Olaf Scholz  \n",
       "9  Alexander Hamilton  "
      ]
     },
     "execution_count": 528,
     "metadata": {},
     "output_type": "execute_result"
    }
   ],
   "source": [
    "df.head(10)"
   ]
  },
  {
   "cell_type": "code",
   "execution_count": 529,
   "id": "1f5d731d-11e7-4bd9-bb7d-100678247d66",
   "metadata": {},
   "outputs": [
    {
     "name": "stdout",
     "output_type": "stream",
     "text": [
      "<class 'pandas.core.frame.DataFrame'>\n",
      "RangeIndex: 125442 entries, 0 to 125441\n",
      "Data columns (total 3 columns):\n",
      " #   Column    Non-Null Count   Dtype \n",
      "---  ------    --------------   ----- \n",
      " 0   id        125442 non-null  int64 \n",
      " 1   sentence  125442 non-null  object\n",
      " 2   name      125442 non-null  object\n",
      "dtypes: int64(1), object(2)\n",
      "memory usage: 2.9+ MB\n"
     ]
    }
   ],
   "source": [
    "df.info()"
   ]
  },
  {
   "cell_type": "code",
   "execution_count": 530,
   "id": "c26d7022-2926-41a7-9ac7-3de13e0ed6ae",
   "metadata": {},
   "outputs": [
    {
     "data": {
      "text/plain": [
       "id                                                   54006424\n",
       "sentence    O presidente do FC Schalke 04 e proprietário ...\n",
       "name                                         Clemens Tönnies\n",
       "Name: 0, dtype: object"
      ]
     },
     "execution_count": 530,
     "metadata": {},
     "output_type": "execute_result"
    }
   ],
   "source": [
    "df.iloc[0]"
   ]
  },
  {
   "cell_type": "markdown",
   "id": "ab83a07b-8e26-43af-ba79-226cd0209da6",
   "metadata": {},
   "source": [
    "## Find sentences with multiple names in it."
   ]
  },
  {
   "cell_type": "code",
   "execution_count": 531,
   "id": "cbecfd06-3a27-4f3b-a475-1030d9e4287a",
   "metadata": {},
   "outputs": [],
   "source": [
    "# Group by article and sentence to find all names in a sentence\n",
    "df_grouped = df.groupby(['id','sentence']).agg({'name':lambda x: list(x)}).reset_index()"
   ]
  },
  {
   "cell_type": "code",
   "execution_count": 520,
   "id": "5ce2373d-f1f4-474e-a1e9-59a7ceac8e5d",
   "metadata": {},
   "outputs": [
    {
     "data": {
      "text/html": [
       "<div>\n",
       "<style scoped>\n",
       "    .dataframe tbody tr th:only-of-type {\n",
       "        vertical-align: middle;\n",
       "    }\n",
       "\n",
       "    .dataframe tbody tr th {\n",
       "        vertical-align: top;\n",
       "    }\n",
       "\n",
       "    .dataframe thead th {\n",
       "        text-align: right;\n",
       "    }\n",
       "</style>\n",
       "<table border=\"1\" class=\"dataframe\">\n",
       "  <thead>\n",
       "    <tr style=\"text-align: right;\">\n",
       "      <th></th>\n",
       "      <th>id</th>\n",
       "      <th>sentence</th>\n",
       "      <th>name</th>\n",
       "    </tr>\n",
       "  </thead>\n",
       "  <tbody>\n",
       "    <tr>\n",
       "      <th>0</th>\n",
       "      <td>36728631</td>\n",
       "      <td>E você tem Elon, que tem uma abordagem mais p...</td>\n",
       "      <td>[Elon]</td>\n",
       "    </tr>\n",
       "    <tr>\n",
       "      <th>1</th>\n",
       "      <td>36728631</td>\n",
       "      <td>E, falando com Richard Branson, ele teve esses...</td>\n",
       "      <td>[Richard Branson, Peter]</td>\n",
       "    </tr>\n",
       "    <tr>\n",
       "      <th>2</th>\n",
       "      <td>36728631</td>\n",
       "      <td>Ele se encontrou com Elon Musk quando Elon est...</td>\n",
       "      <td>[Elon Musk, Elon, Richard Branson]</td>\n",
       "    </tr>\n",
       "    <tr>\n",
       "      <th>3</th>\n",
       "      <td>36728631</td>\n",
       "      <td>Jeff estava decidido a fazer tudo o que ele pu...</td>\n",
       "      <td>[Jeff]</td>\n",
       "    </tr>\n",
       "    <tr>\n",
       "      <th>4</th>\n",
       "      <td>36728631</td>\n",
       "      <td>Julian Guthrie, autora do livro How to make a ...</td>\n",
       "      <td>[Julian Guthrie]</td>\n",
       "    </tr>\n",
       "    <tr>\n",
       "      <th>...</th>\n",
       "      <td>...</td>\n",
       "      <td>...</td>\n",
       "      <td>...</td>\n",
       "    </tr>\n",
       "    <tr>\n",
       "      <th>97739</th>\n",
       "      <td>62463689</td>\n",
       "      <td>John Bolton, ex-assessor de segurança naciona...</td>\n",
       "      <td>[John Bolton, Donald Trump]</td>\n",
       "    </tr>\n",
       "    <tr>\n",
       "      <th>97740</th>\n",
       "      <td>62463689</td>\n",
       "      <td>Mencionou apenas o malsucedido golpe na Venezu...</td>\n",
       "      <td>[Nicolás Maduro, Juan Guaido]</td>\n",
       "    </tr>\n",
       "    <tr>\n",
       "      <th>97741</th>\n",
       "      <td>62463689</td>\n",
       "      <td>O ex-assessor também considerou \"risível\" ac...</td>\n",
       "      <td>[Trump]</td>\n",
       "    </tr>\n",
       "    <tr>\n",
       "      <th>97742</th>\n",
       "      <td>62463689</td>\n",
       "      <td>Os comentários de Bolton sobre os distúrbios...</td>\n",
       "      <td>[Bolton, Trump]</td>\n",
       "    </tr>\n",
       "    <tr>\n",
       "      <th>97743</th>\n",
       "      <td>62463689</td>\n",
       "      <td>Sobre esse episódio, Bolton disse que \"a opos...</td>\n",
       "      <td>[Bolton, Nicolás Maduro]</td>\n",
       "    </tr>\n",
       "  </tbody>\n",
       "</table>\n",
       "<p>97744 rows × 3 columns</p>\n",
       "</div>"
      ],
      "text/plain": [
       "             id                                           sentence  \\\n",
       "0      36728631  E você tem Elon, que tem uma abordagem mais p...   \n",
       "1      36728631  E, falando com Richard Branson, ele teve esses...   \n",
       "2      36728631  Ele se encontrou com Elon Musk quando Elon est...   \n",
       "3      36728631  Jeff estava decidido a fazer tudo o que ele pu...   \n",
       "4      36728631  Julian Guthrie, autora do livro How to make a ...   \n",
       "...         ...                                                ...   \n",
       "97739  62463689  John Bolton, ex-assessor de segurança naciona...   \n",
       "97740  62463689  Mencionou apenas o malsucedido golpe na Venezu...   \n",
       "97741  62463689  O ex-assessor também considerou \"risível\" ac...   \n",
       "97742  62463689  Os comentários de Bolton sobre os distúrbios...   \n",
       "97743  62463689  Sobre esse episódio, Bolton disse que \"a opos...   \n",
       "\n",
       "                                     name  \n",
       "0                                  [Elon]  \n",
       "1                [Richard Branson, Peter]  \n",
       "2      [Elon Musk, Elon, Richard Branson]  \n",
       "3                                  [Jeff]  \n",
       "4                        [Julian Guthrie]  \n",
       "...                                   ...  \n",
       "97739         [John Bolton, Donald Trump]  \n",
       "97740      [Nicolás Maduro, Juan Guaido]  \n",
       "97741                             [Trump]  \n",
       "97742                     [Bolton, Trump]  \n",
       "97743           [Bolton, Nicolás Maduro]  \n",
       "\n",
       "[97744 rows x 3 columns]"
      ]
     },
     "execution_count": 520,
     "metadata": {},
     "output_type": "execute_result"
    }
   ],
   "source": [
    "df_grouped"
   ]
  },
  {
   "cell_type": "markdown",
   "id": "dd9399d0-48b5-422d-a82d-d9f4359a5da8",
   "metadata": {},
   "source": [
    "## Delete row in the DataFrame where name appears in short version"
   ]
  },
  {
   "cell_type": "markdown",
   "id": "499d713c-47f3-41ff-8cfc-876bee621643",
   "metadata": {},
   "source": [
    "**Example**"
   ]
  },
  {
   "cell_type": "code",
   "execution_count": 532,
   "id": "099af094-abb9-4118-b1af-e2e7584c2358",
   "metadata": {},
   "outputs": [],
   "source": [
    "# s = 'E você tem Elon, que tem uma abordagem mais pragmática em \"escapar\" do planeta.'\n",
    "s = 'Ele se encontrou com Elon Musk quando Elon estava apenas pensando em ir ao espaço, e ele estava se reunindo com Richard Branson.'\n",
    "id = 36728631"
   ]
  },
  {
   "cell_type": "code",
   "execution_count": 533,
   "id": "6101d47a-f6ee-4c7a-95ab-9a803bf01dd4",
   "metadata": {},
   "outputs": [
    {
     "data": {
      "text/html": [
       "<div>\n",
       "<style scoped>\n",
       "    .dataframe tbody tr th:only-of-type {\n",
       "        vertical-align: middle;\n",
       "    }\n",
       "\n",
       "    .dataframe tbody tr th {\n",
       "        vertical-align: top;\n",
       "    }\n",
       "\n",
       "    .dataframe thead th {\n",
       "        text-align: right;\n",
       "    }\n",
       "</style>\n",
       "<table border=\"1\" class=\"dataframe\">\n",
       "  <thead>\n",
       "    <tr style=\"text-align: right;\">\n",
       "      <th></th>\n",
       "      <th>id</th>\n",
       "      <th>sentence</th>\n",
       "      <th>name</th>\n",
       "    </tr>\n",
       "  </thead>\n",
       "  <tbody>\n",
       "    <tr>\n",
       "      <th>121359</th>\n",
       "      <td>36728631</td>\n",
       "      <td>Ele se encontrou com Elon Musk quando Elon est...</td>\n",
       "      <td>Elon Musk</td>\n",
       "    </tr>\n",
       "    <tr>\n",
       "      <th>121360</th>\n",
       "      <td>36728631</td>\n",
       "      <td>Ele se encontrou com Elon Musk quando Elon est...</td>\n",
       "      <td>Elon</td>\n",
       "    </tr>\n",
       "    <tr>\n",
       "      <th>121361</th>\n",
       "      <td>36728631</td>\n",
       "      <td>Ele se encontrou com Elon Musk quando Elon est...</td>\n",
       "      <td>Richard Branson</td>\n",
       "    </tr>\n",
       "  </tbody>\n",
       "</table>\n",
       "</div>"
      ],
      "text/plain": [
       "              id                                           sentence  \\\n",
       "121359  36728631  Ele se encontrou com Elon Musk quando Elon est...   \n",
       "121360  36728631  Ele se encontrou com Elon Musk quando Elon est...   \n",
       "121361  36728631  Ele se encontrou com Elon Musk quando Elon est...   \n",
       "\n",
       "                   name  \n",
       "121359        Elon Musk  \n",
       "121360             Elon  \n",
       "121361  Richard Branson  "
      ]
     },
     "execution_count": 533,
     "metadata": {},
     "output_type": "execute_result"
    }
   ],
   "source": [
    "df.query('id==@id and sentence==@s')"
   ]
  },
  {
   "cell_type": "code",
   "execution_count": 534,
   "id": "2b80df11-d21b-4941-8ab5-c7b75ed7c9c1",
   "metadata": {},
   "outputs": [
    {
     "data": {
      "text/plain": [
       "['Elon Musk', 'Elon', 'Richard Branson']"
      ]
     },
     "execution_count": 534,
     "metadata": {},
     "output_type": "execute_result"
    }
   ],
   "source": [
    "df.query('id==@id and sentence==@s').name.tolist()"
   ]
  },
  {
   "cell_type": "markdown",
   "id": "7fc684bd-4cef-4d7f-b37a-1444ec50b471",
   "metadata": {},
   "source": [
    "In the sentence above, we will delete the row whose name column puts \"Elon\" because there is another row whose name column puts \"Elon Musk\"."
   ]
  },
  {
   "cell_type": "markdown",
   "id": "81c82db7-1717-4a40-8d66-6ea221f3d762",
   "metadata": {
    "tags": []
   },
   "source": [
    "## Function"
   ]
  },
  {
   "cell_type": "code",
   "execution_count": 535,
   "id": "c3f06646-23ea-41ee-9266-63f56a4285a4",
   "metadata": {},
   "outputs": [],
   "source": [
    "def is_subname(name:str, names:list[str]) -> bool:\n",
    "    \"\"\"Check if `name` is a substring of (or is contained in) any name in `names`.\"\"\"\n",
    "    \n",
    "    # Check types\n",
    "    if not isinstance(name,str):\n",
    "        TypeError('`name` must be a string or a list whose elements are strings.')\n",
    "    if not isinstance(names,list) or not all(isinstance(n,str) for n in names):\n",
    "        raise TypeError('`names` must be a list of strings strings.')\n",
    "    \n",
    "    # Main\n",
    "    for potential_composed_name in names:\n",
    "        if name != potential_composed_name:\n",
    "            if name in potential_composed_name:\n",
    "                return True\n",
    "    return False"
   ]
  },
  {
   "cell_type": "code",
   "execution_count": 536,
   "id": "448bf06b-a875-414c-b4c9-f398d78af3f2",
   "metadata": {
    "tags": []
   },
   "outputs": [
    {
     "name": "stderr",
     "output_type": "stream",
     "text": [
      "100%|██████████| 125442/125442 [36:29<00:00, 57.30it/s] \n"
     ]
    }
   ],
   "source": [
    "indexes = []\n",
    "# sample = df_test.iloc[121351:121369] # test line\n",
    "# pbar = tqdm(sample.itertuples(), total=len(sample.index)) # test line\n",
    "pbar = tqdm(df.itertuples(), total=len(df.index))\n",
    "for row in pbar:\n",
    "    query = 'id==@row.id and sentence==@row.sentence' # Here I assume that the pair row.id and row.sentence are always unique in df\n",
    "    names = df.query(query).name.tolist()\n",
    "    if is_subname(row.name,names):\n",
    "        indexes.append(row.Index)"
   ]
  },
  {
   "cell_type": "markdown",
   "id": "ae8bbf9d-0757-4e1c-ac28-9e85d46ce240",
   "metadata": {},
   "source": [
    "## Check results"
   ]
  },
  {
   "cell_type": "code",
   "execution_count": 303,
   "id": "0ee2096b-2f51-4a9e-843a-b6294c4d7a63",
   "metadata": {},
   "outputs": [
    {
     "data": {
      "text/plain": [
       "393"
      ]
     },
     "execution_count": 303,
     "metadata": {},
     "output_type": "execute_result"
    }
   ],
   "source": [
    "len(indexes)"
   ]
  },
  {
   "cell_type": "code",
   "execution_count": 538,
   "id": "70a3f720-185c-434a-a61b-5f2f47dd0f34",
   "metadata": {},
   "outputs": [
    {
     "data": {
      "text/plain": [
       "[98, 463, 687, 931, 993, 1090, 1255, 1286, 1289, 1514]"
      ]
     },
     "execution_count": 538,
     "metadata": {},
     "output_type": "execute_result"
    }
   ],
   "source": [
    "indexes[:10]"
   ]
  },
  {
   "cell_type": "code",
   "execution_count": 315,
   "id": "5697bed7-f8ff-477d-a26c-7d079ee15f14",
   "metadata": {},
   "outputs": [
    {
     "data": {
      "text/html": [
       "<div>\n",
       "<style scoped>\n",
       "    .dataframe tbody tr th:only-of-type {\n",
       "        vertical-align: middle;\n",
       "    }\n",
       "\n",
       "    .dataframe tbody tr th {\n",
       "        vertical-align: top;\n",
       "    }\n",
       "\n",
       "    .dataframe thead th {\n",
       "        text-align: right;\n",
       "    }\n",
       "</style>\n",
       "<table border=\"1\" class=\"dataframe\">\n",
       "  <thead>\n",
       "    <tr style=\"text-align: right;\">\n",
       "      <th></th>\n",
       "      <th>id</th>\n",
       "      <th>sentence</th>\n",
       "      <th>name</th>\n",
       "    </tr>\n",
       "  </thead>\n",
       "  <tbody>\n",
       "    <tr>\n",
       "      <th>96</th>\n",
       "      <td>54018196</td>\n",
       "      <td>As investigações atuais são sobre corrupça...</td>\n",
       "      <td>Queiroz</td>\n",
       "    </tr>\n",
       "    <tr>\n",
       "      <th>97</th>\n",
       "      <td>54018196</td>\n",
       "      <td>Nos últimos anos, no entanto, foi sobretudo o...</td>\n",
       "      <td>Bolsonaro</td>\n",
       "    </tr>\n",
       "    <tr>\n",
       "      <th>98</th>\n",
       "      <td>54018196</td>\n",
       "      <td>Bolsonaro venceu a campanha eleitoral de 2018 ...</td>\n",
       "      <td>Bolsonaro</td>\n",
       "    </tr>\n",
       "    <tr>\n",
       "      <th>99</th>\n",
       "      <td>54018196</td>\n",
       "      <td>Bolsonaro venceu a campanha eleitoral de 2018 ...</td>\n",
       "      <td>Carlos Bolsonaro</td>\n",
       "    </tr>\n",
       "  </tbody>\n",
       "</table>\n",
       "</div>"
      ],
      "text/plain": [
       "          id                                           sentence  \\\n",
       "96  54018196  As investigações atuais são sobre corrupça...   \n",
       "97  54018196  Nos últimos anos, no entanto, foi sobretudo o...   \n",
       "98  54018196  Bolsonaro venceu a campanha eleitoral de 2018 ...   \n",
       "99  54018196  Bolsonaro venceu a campanha eleitoral de 2018 ...   \n",
       "\n",
       "                name  \n",
       "96           Queiroz  \n",
       "97         Bolsonaro  \n",
       "98         Bolsonaro  \n",
       "99  Carlos Bolsonaro  "
      ]
     },
     "execution_count": 315,
     "metadata": {},
     "output_type": "execute_result"
    }
   ],
   "source": [
    "i = 98\n",
    "df[i-2:i+2]"
   ]
  },
  {
   "cell_type": "code",
   "execution_count": 316,
   "id": "e05ce4c4-0ac2-45e4-8776-047c39f05a91",
   "metadata": {},
   "outputs": [
    {
     "data": {
      "text/html": [
       "<div>\n",
       "<style scoped>\n",
       "    .dataframe tbody tr th:only-of-type {\n",
       "        vertical-align: middle;\n",
       "    }\n",
       "\n",
       "    .dataframe tbody tr th {\n",
       "        vertical-align: top;\n",
       "    }\n",
       "\n",
       "    .dataframe thead th {\n",
       "        text-align: right;\n",
       "    }\n",
       "</style>\n",
       "<table border=\"1\" class=\"dataframe\">\n",
       "  <thead>\n",
       "    <tr style=\"text-align: right;\">\n",
       "      <th></th>\n",
       "      <th>id</th>\n",
       "      <th>sentence</th>\n",
       "      <th>name</th>\n",
       "    </tr>\n",
       "  </thead>\n",
       "  <tbody>\n",
       "    <tr>\n",
       "      <th>461</th>\n",
       "      <td>54040436</td>\n",
       "      <td>\"Concedemos esta autorização menos de um mê...</td>\n",
       "      <td>Stella Kyriakides</td>\n",
       "    </tr>\n",
       "    <tr>\n",
       "      <th>462</th>\n",
       "      <td>54041511</td>\n",
       "      <td>Mirando o presidente dos EUA, Donald Trump, um...</td>\n",
       "      <td>Donald Trump</td>\n",
       "    </tr>\n",
       "    <tr>\n",
       "      <th>463</th>\n",
       "      <td>54041511</td>\n",
       "      <td>Mirando o presidente dos EUA, Donald Trump, um...</td>\n",
       "      <td>Donald</td>\n",
       "    </tr>\n",
       "    <tr>\n",
       "      <th>464</th>\n",
       "      <td>54044041</td>\n",
       "      <td>Às 10 horas da manhã desta sexta-feira (03/0...</td>\n",
       "      <td>Matignon</td>\n",
       "    </tr>\n",
       "  </tbody>\n",
       "</table>\n",
       "</div>"
      ],
      "text/plain": [
       "           id                                           sentence  \\\n",
       "461  54040436  \"Concedemos esta autorização menos de um mê...   \n",
       "462  54041511  Mirando o presidente dos EUA, Donald Trump, um...   \n",
       "463  54041511  Mirando o presidente dos EUA, Donald Trump, um...   \n",
       "464  54044041  Às 10 horas da manhã desta sexta-feira (03/0...   \n",
       "\n",
       "                  name  \n",
       "461  Stella Kyriakides  \n",
       "462       Donald Trump  \n",
       "463             Donald  \n",
       "464           Matignon  "
      ]
     },
     "execution_count": 316,
     "metadata": {},
     "output_type": "execute_result"
    }
   ],
   "source": [
    "i = 463\n",
    "df[i-2:i+2]"
   ]
  },
  {
   "cell_type": "code",
   "execution_count": 317,
   "id": "0af2dcad-a1e7-4046-884e-37195fff00e8",
   "metadata": {},
   "outputs": [
    {
     "data": {
      "text/html": [
       "<div>\n",
       "<style scoped>\n",
       "    .dataframe tbody tr th:only-of-type {\n",
       "        vertical-align: middle;\n",
       "    }\n",
       "\n",
       "    .dataframe tbody tr th {\n",
       "        vertical-align: top;\n",
       "    }\n",
       "\n",
       "    .dataframe thead th {\n",
       "        text-align: right;\n",
       "    }\n",
       "</style>\n",
       "<table border=\"1\" class=\"dataframe\">\n",
       "  <thead>\n",
       "    <tr style=\"text-align: right;\">\n",
       "      <th></th>\n",
       "      <th>id</th>\n",
       "      <th>sentence</th>\n",
       "      <th>name</th>\n",
       "    </tr>\n",
       "  </thead>\n",
       "  <tbody>\n",
       "    <tr>\n",
       "      <th>685</th>\n",
       "      <td>54064053</td>\n",
       "      <td>E entre os mais fiéis existe incômodo com ca...</td>\n",
       "      <td>Bolsonaro</td>\n",
       "    </tr>\n",
       "    <tr>\n",
       "      <th>686</th>\n",
       "      <td>54064053</td>\n",
       "      <td>Também veem como ponto de instabilidade a atu...</td>\n",
       "      <td>Flávio Bolsonaro</td>\n",
       "    </tr>\n",
       "    <tr>\n",
       "      <th>687</th>\n",
       "      <td>54064053</td>\n",
       "      <td>Também veem como ponto de instabilidade a atu...</td>\n",
       "      <td>Bolsonaro</td>\n",
       "    </tr>\n",
       "    <tr>\n",
       "      <th>688</th>\n",
       "      <td>54064053</td>\n",
       "      <td>Isso aparece nos três grupos com intensidade ...</td>\n",
       "      <td>Bolsonaro</td>\n",
       "    </tr>\n",
       "  </tbody>\n",
       "</table>\n",
       "</div>"
      ],
      "text/plain": [
       "           id                                           sentence  \\\n",
       "685  54064053  E entre os mais fiéis existe incômodo com ca...   \n",
       "686  54064053  Também veem como ponto de instabilidade a atu...   \n",
       "687  54064053  Também veem como ponto de instabilidade a atu...   \n",
       "688  54064053  Isso aparece nos três grupos com intensidade ...   \n",
       "\n",
       "                  name  \n",
       "685          Bolsonaro  \n",
       "686  Flávio Bolsonaro  \n",
       "687          Bolsonaro  \n",
       "688          Bolsonaro  "
      ]
     },
     "execution_count": 317,
     "metadata": {},
     "output_type": "execute_result"
    }
   ],
   "source": [
    "i = 687\n",
    "df[i-2:i+2]"
   ]
  },
  {
   "cell_type": "markdown",
   "id": "5fdd7cc2-dcd1-4ae7-8ead-019b1ae6c6d6",
   "metadata": {
    "tags": []
   },
   "source": [
    "## Apply results"
   ]
  },
  {
   "cell_type": "markdown",
   "id": "1e286f5b-7277-4b02-8718-2c35bd21d7ff",
   "metadata": {},
   "source": [
    "Before application"
   ]
  },
  {
   "cell_type": "code",
   "execution_count": 318,
   "id": "f31d9ed9-deb4-4091-b705-cc0feb5df3b4",
   "metadata": {},
   "outputs": [
    {
     "data": {
      "text/html": [
       "<div>\n",
       "<style scoped>\n",
       "    .dataframe tbody tr th:only-of-type {\n",
       "        vertical-align: middle;\n",
       "    }\n",
       "\n",
       "    .dataframe tbody tr th {\n",
       "        vertical-align: top;\n",
       "    }\n",
       "\n",
       "    .dataframe thead th {\n",
       "        text-align: right;\n",
       "    }\n",
       "</style>\n",
       "<table border=\"1\" class=\"dataframe\">\n",
       "  <thead>\n",
       "    <tr style=\"text-align: right;\">\n",
       "      <th></th>\n",
       "      <th>id</th>\n",
       "      <th>sentence</th>\n",
       "      <th>name</th>\n",
       "    </tr>\n",
       "  </thead>\n",
       "  <tbody>\n",
       "    <tr>\n",
       "      <th>96</th>\n",
       "      <td>54018196</td>\n",
       "      <td>As investigações atuais são sobre corrupça...</td>\n",
       "      <td>Queiroz</td>\n",
       "    </tr>\n",
       "    <tr>\n",
       "      <th>97</th>\n",
       "      <td>54018196</td>\n",
       "      <td>Nos últimos anos, no entanto, foi sobretudo o...</td>\n",
       "      <td>Bolsonaro</td>\n",
       "    </tr>\n",
       "    <tr>\n",
       "      <th>98</th>\n",
       "      <td>54018196</td>\n",
       "      <td>Bolsonaro venceu a campanha eleitoral de 2018 ...</td>\n",
       "      <td>Bolsonaro</td>\n",
       "    </tr>\n",
       "    <tr>\n",
       "      <th>99</th>\n",
       "      <td>54018196</td>\n",
       "      <td>Bolsonaro venceu a campanha eleitoral de 2018 ...</td>\n",
       "      <td>Carlos Bolsonaro</td>\n",
       "    </tr>\n",
       "  </tbody>\n",
       "</table>\n",
       "</div>"
      ],
      "text/plain": [
       "          id                                           sentence  \\\n",
       "96  54018196  As investigações atuais são sobre corrupça...   \n",
       "97  54018196  Nos últimos anos, no entanto, foi sobretudo o...   \n",
       "98  54018196  Bolsonaro venceu a campanha eleitoral de 2018 ...   \n",
       "99  54018196  Bolsonaro venceu a campanha eleitoral de 2018 ...   \n",
       "\n",
       "                name  \n",
       "96           Queiroz  \n",
       "97         Bolsonaro  \n",
       "98         Bolsonaro  \n",
       "99  Carlos Bolsonaro  "
      ]
     },
     "execution_count": 318,
     "metadata": {},
     "output_type": "execute_result"
    }
   ],
   "source": [
    "i = 98\n",
    "df[i-2:i+2]"
   ]
  },
  {
   "cell_type": "markdown",
   "id": "4b1329bb-00fb-46cf-9a4d-47783b79d306",
   "metadata": {},
   "source": [
    "Application"
   ]
  },
  {
   "cell_type": "code",
   "execution_count": 320,
   "id": "a89b22e2-0268-4780-9f9e-cf88e411fb8c",
   "metadata": {},
   "outputs": [],
   "source": [
    "df = df.drop(index=indexes).reset_index(drop=True)"
   ]
  },
  {
   "cell_type": "markdown",
   "id": "0e81756c-1518-4e15-94af-7b80cc8f7743",
   "metadata": {},
   "source": [
    "After application"
   ]
  },
  {
   "cell_type": "code",
   "execution_count": 321,
   "id": "d6f8665a-8f37-47a6-a3fb-1bd78a3edb5d",
   "metadata": {},
   "outputs": [
    {
     "data": {
      "text/html": [
       "<div>\n",
       "<style scoped>\n",
       "    .dataframe tbody tr th:only-of-type {\n",
       "        vertical-align: middle;\n",
       "    }\n",
       "\n",
       "    .dataframe tbody tr th {\n",
       "        vertical-align: top;\n",
       "    }\n",
       "\n",
       "    .dataframe thead th {\n",
       "        text-align: right;\n",
       "    }\n",
       "</style>\n",
       "<table border=\"1\" class=\"dataframe\">\n",
       "  <thead>\n",
       "    <tr style=\"text-align: right;\">\n",
       "      <th></th>\n",
       "      <th>id</th>\n",
       "      <th>sentence</th>\n",
       "      <th>name</th>\n",
       "    </tr>\n",
       "  </thead>\n",
       "  <tbody>\n",
       "    <tr>\n",
       "      <th>96</th>\n",
       "      <td>54018196</td>\n",
       "      <td>As investigações atuais são sobre corrupça...</td>\n",
       "      <td>Queiroz</td>\n",
       "    </tr>\n",
       "    <tr>\n",
       "      <th>97</th>\n",
       "      <td>54018196</td>\n",
       "      <td>Nos últimos anos, no entanto, foi sobretudo o...</td>\n",
       "      <td>Bolsonaro</td>\n",
       "    </tr>\n",
       "    <tr>\n",
       "      <th>98</th>\n",
       "      <td>54018196</td>\n",
       "      <td>Bolsonaro venceu a campanha eleitoral de 2018 ...</td>\n",
       "      <td>Carlos Bolsonaro</td>\n",
       "    </tr>\n",
       "    <tr>\n",
       "      <th>99</th>\n",
       "      <td>54018196</td>\n",
       "      <td>Desde então, o tom nas redes favoráveis a Bo...</td>\n",
       "      <td>Bolsonaro</td>\n",
       "    </tr>\n",
       "  </tbody>\n",
       "</table>\n",
       "</div>"
      ],
      "text/plain": [
       "          id                                           sentence  \\\n",
       "96  54018196  As investigações atuais são sobre corrupça...   \n",
       "97  54018196  Nos últimos anos, no entanto, foi sobretudo o...   \n",
       "98  54018196  Bolsonaro venceu a campanha eleitoral de 2018 ...   \n",
       "99  54018196  Desde então, o tom nas redes favoráveis a Bo...   \n",
       "\n",
       "                name  \n",
       "96           Queiroz  \n",
       "97         Bolsonaro  \n",
       "98  Carlos Bolsonaro  \n",
       "99         Bolsonaro  "
      ]
     },
     "execution_count": 321,
     "metadata": {},
     "output_type": "execute_result"
    }
   ],
   "source": [
    "i = 98\n",
    "df[i-2:i+2]"
   ]
  },
  {
   "cell_type": "code",
   "execution_count": 322,
   "id": "b49ead07-2857-4e70-bce3-ff3876d8037a",
   "metadata": {},
   "outputs": [
    {
     "data": {
      "text/plain": [
       "125049"
      ]
     },
     "execution_count": 322,
     "metadata": {},
     "output_type": "execute_result"
    }
   ],
   "source": [
    "df.index.size"
   ]
  },
  {
   "cell_type": "code",
   "execution_count": 323,
   "id": "ddd9b54c-db64-4706-8be7-6c35b756dafd",
   "metadata": {},
   "outputs": [
    {
     "data": {
      "text/plain": [
       "393"
      ]
     },
     "execution_count": 323,
     "metadata": {},
     "output_type": "execute_result"
    }
   ],
   "source": [
    "125442-df.index.size"
   ]
  },
  {
   "cell_type": "code",
   "execution_count": 324,
   "id": "4371e831-8022-48eb-8887-6e6c14a6da37",
   "metadata": {},
   "outputs": [
    {
     "data": {
      "text/plain": [
       "393"
      ]
     },
     "execution_count": 324,
     "metadata": {},
     "output_type": "execute_result"
    }
   ],
   "source": [
    "len(indexes)"
   ]
  },
  {
   "cell_type": "markdown",
   "id": "c031cf46-a299-4978-931e-0d59bc0e5e76",
   "metadata": {
    "tags": []
   },
   "source": [
    "## Save"
   ]
  },
  {
   "cell_type": "code",
   "execution_count": 540,
   "id": "671b00f0-536f-4113-a0b1-4e500a72b52d",
   "metadata": {},
   "outputs": [],
   "source": [
    "outputdir = Path.cwd()\n",
    "filename = 'portuguese_sentences_with_names_v2.csv'\n",
    "df.to_csv(outputdir/filename, index=False)"
   ]
  },
  {
   "cell_type": "markdown",
   "id": "b0d927f8-4fcb-4123-af02-8d967bc9ea3e",
   "metadata": {},
   "source": [
    "# Remove duplicated names in sentences"
   ]
  },
  {
   "cell_type": "markdown",
   "id": "00ef3044-beb7-4a5c-acfb-71e56f530e39",
   "metadata": {},
   "source": [
    "Read CSV file"
   ]
  },
  {
   "cell_type": "code",
   "execution_count": 541,
   "id": "6f00a0f9-ff3d-42e2-977a-7e61ebabf32b",
   "metadata": {
    "tags": []
   },
   "outputs": [],
   "source": [
    "inputdir = Path.cwd()\n",
    "filename = Path('portuguese_sentences_with_names_v2.csv')\n",
    "dtype={'id':int,\n",
    "       'sentence':str,\n",
    "       'name':str\n",
    "       }\n",
    "df = pd.read_csv(inputdir/filename, dtype=dtype)"
   ]
  },
  {
   "cell_type": "code",
   "execution_count": 327,
   "id": "5f7e14f0-26f2-49ff-9d04-dbdd1619b8cf",
   "metadata": {},
   "outputs": [
    {
     "data": {
      "text/html": [
       "<div>\n",
       "<style scoped>\n",
       "    .dataframe tbody tr th:only-of-type {\n",
       "        vertical-align: middle;\n",
       "    }\n",
       "\n",
       "    .dataframe tbody tr th {\n",
       "        vertical-align: top;\n",
       "    }\n",
       "\n",
       "    .dataframe thead th {\n",
       "        text-align: right;\n",
       "    }\n",
       "</style>\n",
       "<table border=\"1\" class=\"dataframe\">\n",
       "  <thead>\n",
       "    <tr style=\"text-align: right;\">\n",
       "      <th></th>\n",
       "      <th>id</th>\n",
       "      <th>sentence</th>\n",
       "      <th>name</th>\n",
       "    </tr>\n",
       "  </thead>\n",
       "  <tbody>\n",
       "    <tr>\n",
       "      <th>0</th>\n",
       "      <td>54006424</td>\n",
       "      <td>O presidente do FC Schalke 04 e proprietário ...</td>\n",
       "      <td>Clemens Tönnies</td>\n",
       "    </tr>\n",
       "    <tr>\n",
       "      <th>1</th>\n",
       "      <td>54006424</td>\n",
       "      <td>O comentário foi criticado como racista por e...</td>\n",
       "      <td>Gerald Asamoah</td>\n",
       "    </tr>\n",
       "    <tr>\n",
       "      <th>2</th>\n",
       "      <td>54006424</td>\n",
       "      <td>O comentário foi criticado como racista por e...</td>\n",
       "      <td>Hans Sarpei</td>\n",
       "    </tr>\n",
       "    <tr>\n",
       "      <th>3</th>\n",
       "      <td>54006424</td>\n",
       "      <td>O comentário foi criticado como racista por e...</td>\n",
       "      <td>Cacau</td>\n",
       "    </tr>\n",
       "    <tr>\n",
       "      <th>4</th>\n",
       "      <td>54006424</td>\n",
       "      <td>A revolta gerada pelo papel da empresa no ress...</td>\n",
       "      <td>Clemens Tönnies</td>\n",
       "    </tr>\n",
       "    <tr>\n",
       "      <th>5</th>\n",
       "      <td>54003004</td>\n",
       "      <td>Em meados de março, quando o coronavírus com...</td>\n",
       "      <td>Angela Merkel</td>\n",
       "    </tr>\n",
       "    <tr>\n",
       "      <th>6</th>\n",
       "      <td>54003004</td>\n",
       "      <td>E após anos mantendo o presidente francês, E...</td>\n",
       "      <td>Emmanuel Macron</td>\n",
       "    </tr>\n",
       "    <tr>\n",
       "      <th>7</th>\n",
       "      <td>54003004</td>\n",
       "      <td>E após anos mantendo o presidente francês, E...</td>\n",
       "      <td>Merkel</td>\n",
       "    </tr>\n",
       "    <tr>\n",
       "      <th>8</th>\n",
       "      <td>54003004</td>\n",
       "      <td>O ministro alemão das Finanças, Olaf Scholz,...</td>\n",
       "      <td>Olaf Scholz</td>\n",
       "    </tr>\n",
       "    <tr>\n",
       "      <th>9</th>\n",
       "      <td>54003004</td>\n",
       "      <td>O ministro alemão das Finanças, Olaf Scholz,...</td>\n",
       "      <td>Alexander Hamilton</td>\n",
       "    </tr>\n",
       "  </tbody>\n",
       "</table>\n",
       "</div>"
      ],
      "text/plain": [
       "         id                                           sentence  \\\n",
       "0  54006424  O presidente do FC Schalke 04 e proprietário ...   \n",
       "1  54006424  O comentário foi criticado como racista por e...   \n",
       "2  54006424  O comentário foi criticado como racista por e...   \n",
       "3  54006424  O comentário foi criticado como racista por e...   \n",
       "4  54006424  A revolta gerada pelo papel da empresa no ress...   \n",
       "5  54003004  Em meados de março, quando o coronavírus com...   \n",
       "6  54003004  E após anos mantendo o presidente francês, E...   \n",
       "7  54003004  E após anos mantendo o presidente francês, E...   \n",
       "8  54003004  O ministro alemão das Finanças, Olaf Scholz,...   \n",
       "9  54003004  O ministro alemão das Finanças, Olaf Scholz,...   \n",
       "\n",
       "                 name  \n",
       "0    Clemens Tönnies  \n",
       "1      Gerald Asamoah  \n",
       "2         Hans Sarpei  \n",
       "3               Cacau  \n",
       "4    Clemens Tönnies  \n",
       "5       Angela Merkel  \n",
       "6     Emmanuel Macron  \n",
       "7              Merkel  \n",
       "8         Olaf Scholz  \n",
       "9  Alexander Hamilton  "
      ]
     },
     "execution_count": 327,
     "metadata": {},
     "output_type": "execute_result"
    }
   ],
   "source": [
    "df.head(10)"
   ]
  },
  {
   "cell_type": "code",
   "execution_count": 542,
   "id": "f2c33d59-b6ca-4f7f-b381-e3c74837d92a",
   "metadata": {},
   "outputs": [
    {
     "name": "stdout",
     "output_type": "stream",
     "text": [
      "<class 'pandas.core.frame.DataFrame'>\n",
      "RangeIndex: 125442 entries, 0 to 125441\n",
      "Data columns (total 3 columns):\n",
      " #   Column    Non-Null Count   Dtype \n",
      "---  ------    --------------   ----- \n",
      " 0   id        125442 non-null  int64 \n",
      " 1   sentence  125442 non-null  object\n",
      " 2   name      125442 non-null  object\n",
      "dtypes: int64(1), object(2)\n",
      "memory usage: 2.9+ MB\n"
     ]
    }
   ],
   "source": [
    "df.info()"
   ]
  },
  {
   "cell_type": "code",
   "execution_count": 543,
   "id": "f3305f3b-90ce-4820-a96c-7e3afaf887a5",
   "metadata": {},
   "outputs": [
    {
     "data": {
      "text/plain": [
       "id                                                   54006424\n",
       "sentence    O presidente do FC Schalke 04 e proprietário ...\n",
       "name                                         Clemens Tönnies\n",
       "Name: 0, dtype: object"
      ]
     },
     "execution_count": 543,
     "metadata": {},
     "output_type": "execute_result"
    }
   ],
   "source": [
    "df.iloc[0]"
   ]
  },
  {
   "cell_type": "markdown",
   "id": "f16d7de4-56fc-46be-b962-398bbc5a51b1",
   "metadata": {},
   "source": [
    "## Find sentences with multiple names in it"
   ]
  },
  {
   "cell_type": "code",
   "execution_count": 544,
   "id": "3b13a287-a847-447e-a6e4-d34a3ff8884b",
   "metadata": {},
   "outputs": [
    {
     "data": {
      "text/html": [
       "<div>\n",
       "<style scoped>\n",
       "    .dataframe tbody tr th:only-of-type {\n",
       "        vertical-align: middle;\n",
       "    }\n",
       "\n",
       "    .dataframe tbody tr th {\n",
       "        vertical-align: top;\n",
       "    }\n",
       "\n",
       "    .dataframe thead th {\n",
       "        text-align: right;\n",
       "    }\n",
       "</style>\n",
       "<table border=\"1\" class=\"dataframe\">\n",
       "  <thead>\n",
       "    <tr style=\"text-align: right;\">\n",
       "      <th></th>\n",
       "      <th>id</th>\n",
       "      <th>sentence</th>\n",
       "      <th>name</th>\n",
       "    </tr>\n",
       "  </thead>\n",
       "  <tbody>\n",
       "    <tr>\n",
       "      <th>121366</th>\n",
       "      <td>36728631</td>\n",
       "      <td>Peter é também pragmático, mas a abordagem ...</td>\n",
       "      <td>Peter</td>\n",
       "    </tr>\n",
       "    <tr>\n",
       "      <th>121369</th>\n",
       "      <td>36728631</td>\n",
       "      <td>Peter é também pragmático, mas a abordagem ...</td>\n",
       "      <td>Peter</td>\n",
       "    </tr>\n",
       "    <tr>\n",
       "      <th>101397</th>\n",
       "      <td>51850454</td>\n",
       "      <td>O cientista político Jairo Nicolau lembra que...</td>\n",
       "      <td>Bolsonaro</td>\n",
       "    </tr>\n",
       "    <tr>\n",
       "      <th>101398</th>\n",
       "      <td>51850454</td>\n",
       "      <td>O cientista político Jairo Nicolau lembra que...</td>\n",
       "      <td>Bolsonaro</td>\n",
       "    </tr>\n",
       "    <tr>\n",
       "      <th>101575</th>\n",
       "      <td>51865798</td>\n",
       "      <td>\"Se o senhor Ghosn viesse para a França, não...</td>\n",
       "      <td>Ghosn</td>\n",
       "    </tr>\n",
       "    <tr>\n",
       "      <th>...</th>\n",
       "      <td>...</td>\n",
       "      <td>...</td>\n",
       "      <td>...</td>\n",
       "    </tr>\n",
       "    <tr>\n",
       "      <th>76214</th>\n",
       "      <td>62426373</td>\n",
       "      <td>Arruda foi assassinado a tiros na noite de sá...</td>\n",
       "      <td>Arruda</td>\n",
       "    </tr>\n",
       "    <tr>\n",
       "      <th>76334</th>\n",
       "      <td>62436456</td>\n",
       "      <td>No entanto, após Moro romper com Bolsonaro em...</td>\n",
       "      <td>Moro</td>\n",
       "    </tr>\n",
       "    <tr>\n",
       "      <th>76337</th>\n",
       "      <td>62436456</td>\n",
       "      <td>No entanto, após Moro romper com Bolsonaro em...</td>\n",
       "      <td>Moro</td>\n",
       "    </tr>\n",
       "    <tr>\n",
       "      <th>76762</th>\n",
       "      <td>62463689</td>\n",
       "      <td>\"É Donald Trump cuidando de Donald Trump.</td>\n",
       "      <td>Donald Trump</td>\n",
       "    </tr>\n",
       "    <tr>\n",
       "      <th>76763</th>\n",
       "      <td>62463689</td>\n",
       "      <td>\"É Donald Trump cuidando de Donald Trump.</td>\n",
       "      <td>Donald Trump</td>\n",
       "    </tr>\n",
       "  </tbody>\n",
       "</table>\n",
       "<p>1192 rows × 3 columns</p>\n",
       "</div>"
      ],
      "text/plain": [
       "              id                                           sentence  \\\n",
       "121366  36728631  Peter é também pragmático, mas a abordagem ...   \n",
       "121369  36728631  Peter é também pragmático, mas a abordagem ...   \n",
       "101397  51850454  O cientista político Jairo Nicolau lembra que...   \n",
       "101398  51850454  O cientista político Jairo Nicolau lembra que...   \n",
       "101575  51865798  \"Se o senhor Ghosn viesse para a França, não...   \n",
       "...          ...                                                ...   \n",
       "76214   62426373  Arruda foi assassinado a tiros na noite de sá...   \n",
       "76334   62436456  No entanto, após Moro romper com Bolsonaro em...   \n",
       "76337   62436456  No entanto, após Moro romper com Bolsonaro em...   \n",
       "76762   62463689         \"É Donald Trump cuidando de Donald Trump.   \n",
       "76763   62463689         \"É Donald Trump cuidando de Donald Trump.   \n",
       "\n",
       "                name  \n",
       "121366         Peter  \n",
       "121369         Peter  \n",
       "101397     Bolsonaro  \n",
       "101398     Bolsonaro  \n",
       "101575         Ghosn  \n",
       "...              ...  \n",
       "76214         Arruda  \n",
       "76334           Moro  \n",
       "76337           Moro  \n",
       "76762   Donald Trump  \n",
       "76763   Donald Trump  \n",
       "\n",
       "[1192 rows x 3 columns]"
      ]
     },
     "execution_count": 544,
     "metadata": {},
     "output_type": "execute_result"
    }
   ],
   "source": [
    "pd.concat(g for _, g in df.groupby(['id','sentence','name']) if len(g) > 1)"
   ]
  },
  {
   "cell_type": "markdown",
   "id": "876b0eba-7cd1-4991-9cdb-84db1f4b98f0",
   "metadata": {},
   "source": [
    "Check a few ones"
   ]
  },
  {
   "cell_type": "code",
   "execution_count": 546,
   "id": "8d2b252f-3d78-48ed-a241-cc188f1bd140",
   "metadata": {},
   "outputs": [
    {
     "data": {
      "text/html": [
       "<div>\n",
       "<style scoped>\n",
       "    .dataframe tbody tr th:only-of-type {\n",
       "        vertical-align: middle;\n",
       "    }\n",
       "\n",
       "    .dataframe tbody tr th {\n",
       "        vertical-align: top;\n",
       "    }\n",
       "\n",
       "    .dataframe thead th {\n",
       "        text-align: right;\n",
       "    }\n",
       "</style>\n",
       "<table border=\"1\" class=\"dataframe\">\n",
       "  <thead>\n",
       "    <tr style=\"text-align: right;\">\n",
       "      <th></th>\n",
       "      <th>id</th>\n",
       "      <th>sentence</th>\n",
       "      <th>name</th>\n",
       "    </tr>\n",
       "  </thead>\n",
       "  <tbody>\n",
       "    <tr>\n",
       "      <th>121363</th>\n",
       "      <td>36728631</td>\n",
       "      <td>E, falando com Richard Branson, ele teve esses...</td>\n",
       "      <td>Richard Branson</td>\n",
       "    </tr>\n",
       "    <tr>\n",
       "      <th>121364</th>\n",
       "      <td>36728631</td>\n",
       "      <td>E, falando com Richard Branson, ele teve esses...</td>\n",
       "      <td>Peter</td>\n",
       "    </tr>\n",
       "    <tr>\n",
       "      <th>121365</th>\n",
       "      <td>36728631</td>\n",
       "      <td>E você tem Elon, que tem uma abordagem mais p...</td>\n",
       "      <td>Elon</td>\n",
       "    </tr>\n",
       "    <tr>\n",
       "      <th>121366</th>\n",
       "      <td>36728631</td>\n",
       "      <td>Peter é também pragmático, mas a abordagem ...</td>\n",
       "      <td>Peter</td>\n",
       "    </tr>\n",
       "    <tr>\n",
       "      <th>121367</th>\n",
       "      <td>36728631</td>\n",
       "      <td>Peter é também pragmático, mas a abordagem ...</td>\n",
       "      <td>Elon</td>\n",
       "    </tr>\n",
       "    <tr>\n",
       "      <th>121368</th>\n",
       "      <td>36728631</td>\n",
       "      <td>Peter é também pragmático, mas a abordagem ...</td>\n",
       "      <td>Jeff Bezos</td>\n",
       "    </tr>\n",
       "    <tr>\n",
       "      <th>121369</th>\n",
       "      <td>36728631</td>\n",
       "      <td>Peter é também pragmático, mas a abordagem ...</td>\n",
       "      <td>Peter</td>\n",
       "    </tr>\n",
       "  </tbody>\n",
       "</table>\n",
       "</div>"
      ],
      "text/plain": [
       "              id                                           sentence  \\\n",
       "121363  36728631  E, falando com Richard Branson, ele teve esses...   \n",
       "121364  36728631  E, falando com Richard Branson, ele teve esses...   \n",
       "121365  36728631  E você tem Elon, que tem uma abordagem mais p...   \n",
       "121366  36728631  Peter é também pragmático, mas a abordagem ...   \n",
       "121367  36728631  Peter é também pragmático, mas a abordagem ...   \n",
       "121368  36728631  Peter é também pragmático, mas a abordagem ...   \n",
       "121369  36728631  Peter é também pragmático, mas a abordagem ...   \n",
       "\n",
       "                   name  \n",
       "121363  Richard Branson  \n",
       "121364            Peter  \n",
       "121365             Elon  \n",
       "121366            Peter  \n",
       "121367             Elon  \n",
       "121368       Jeff Bezos  \n",
       "121369            Peter  "
      ]
     },
     "execution_count": 546,
     "metadata": {},
     "output_type": "execute_result"
    }
   ],
   "source": [
    "i = 121366\n",
    "df.loc[i-3:i+3]"
   ]
  },
  {
   "cell_type": "code",
   "execution_count": 548,
   "id": "e8aff9b7-46f1-413e-b41e-fbd627654dfe",
   "metadata": {},
   "outputs": [
    {
     "data": {
      "text/html": [
       "<div>\n",
       "<style scoped>\n",
       "    .dataframe tbody tr th:only-of-type {\n",
       "        vertical-align: middle;\n",
       "    }\n",
       "\n",
       "    .dataframe tbody tr th {\n",
       "        vertical-align: top;\n",
       "    }\n",
       "\n",
       "    .dataframe thead th {\n",
       "        text-align: right;\n",
       "    }\n",
       "</style>\n",
       "<table border=\"1\" class=\"dataframe\">\n",
       "  <thead>\n",
       "    <tr style=\"text-align: right;\">\n",
       "      <th></th>\n",
       "      <th>id</th>\n",
       "      <th>sentence</th>\n",
       "      <th>name</th>\n",
       "    </tr>\n",
       "  </thead>\n",
       "  <tbody>\n",
       "    <tr>\n",
       "      <th>101394</th>\n",
       "      <td>51850454</td>\n",
       "      <td>Para Nogueira, as áreas de cultura, meio ambi...</td>\n",
       "      <td>Ernesto Araújo</td>\n",
       "    </tr>\n",
       "    <tr>\n",
       "      <th>101395</th>\n",
       "      <td>51850454</td>\n",
       "      <td>Para Nogueira, essa foi a tendência de 2019 e...</td>\n",
       "      <td>Nogueira</td>\n",
       "    </tr>\n",
       "    <tr>\n",
       "      <th>101396</th>\n",
       "      <td>51850454</td>\n",
       "      <td>O cientista político Jairo Nicolau lembra que...</td>\n",
       "      <td>Jairo Nicolau</td>\n",
       "    </tr>\n",
       "    <tr>\n",
       "      <th>101397</th>\n",
       "      <td>51850454</td>\n",
       "      <td>O cientista político Jairo Nicolau lembra que...</td>\n",
       "      <td>Bolsonaro</td>\n",
       "    </tr>\n",
       "    <tr>\n",
       "      <th>101398</th>\n",
       "      <td>51850454</td>\n",
       "      <td>O cientista político Jairo Nicolau lembra que...</td>\n",
       "      <td>Bolsonaro</td>\n",
       "    </tr>\n",
       "    <tr>\n",
       "      <th>101399</th>\n",
       "      <td>51850454</td>\n",
       "      <td>O cientista político Jairo Nicolau lembra que...</td>\n",
       "      <td>Viktor Orba</td>\n",
       "    </tr>\n",
       "    <tr>\n",
       "      <th>101400</th>\n",
       "      <td>51850454</td>\n",
       "      <td>\"A retórica continua terrível, antidemocrát...</td>\n",
       "      <td>Nicolau</td>\n",
       "    </tr>\n",
       "  </tbody>\n",
       "</table>\n",
       "</div>"
      ],
      "text/plain": [
       "              id                                           sentence  \\\n",
       "101394  51850454  Para Nogueira, as áreas de cultura, meio ambi...   \n",
       "101395  51850454  Para Nogueira, essa foi a tendência de 2019 e...   \n",
       "101396  51850454  O cientista político Jairo Nicolau lembra que...   \n",
       "101397  51850454  O cientista político Jairo Nicolau lembra que...   \n",
       "101398  51850454  O cientista político Jairo Nicolau lembra que...   \n",
       "101399  51850454  O cientista político Jairo Nicolau lembra que...   \n",
       "101400  51850454  \"A retórica continua terrível, antidemocrát...   \n",
       "\n",
       "                   name  \n",
       "101394  Ernesto Araújo  \n",
       "101395         Nogueira  \n",
       "101396    Jairo Nicolau  \n",
       "101397        Bolsonaro  \n",
       "101398        Bolsonaro  \n",
       "101399      Viktor Orba  \n",
       "101400          Nicolau  "
      ]
     },
     "execution_count": 548,
     "metadata": {},
     "output_type": "execute_result"
    }
   ],
   "source": [
    "i = 101397\n",
    "df.loc[i-3:i+3]"
   ]
  },
  {
   "cell_type": "code",
   "execution_count": 549,
   "id": "e8dd5189-2d1f-4fb8-93c9-a1156fced079",
   "metadata": {},
   "outputs": [
    {
     "data": {
      "text/html": [
       "<div>\n",
       "<style scoped>\n",
       "    .dataframe tbody tr th:only-of-type {\n",
       "        vertical-align: middle;\n",
       "    }\n",
       "\n",
       "    .dataframe tbody tr th {\n",
       "        vertical-align: top;\n",
       "    }\n",
       "\n",
       "    .dataframe thead th {\n",
       "        text-align: right;\n",
       "    }\n",
       "</style>\n",
       "<table border=\"1\" class=\"dataframe\">\n",
       "  <thead>\n",
       "    <tr style=\"text-align: right;\">\n",
       "      <th></th>\n",
       "      <th>id</th>\n",
       "      <th>sentence</th>\n",
       "      <th>name</th>\n",
       "    </tr>\n",
       "  </thead>\n",
       "  <tbody>\n",
       "    <tr>\n",
       "      <th>101572</th>\n",
       "      <td>51865798</td>\n",
       "      <td>Antes de pousar com seu jato particular na cap...</td>\n",
       "      <td>Ghosn</td>\n",
       "    </tr>\n",
       "    <tr>\n",
       "      <th>101573</th>\n",
       "      <td>51865798</td>\n",
       "      <td>Agora, essa etapa da jornada também tem conse...</td>\n",
       "      <td>Ghosn</td>\n",
       "    </tr>\n",
       "    <tr>\n",
       "      <th>101574</th>\n",
       "      <td>51865798</td>\n",
       "      <td>Fugindo das autoridades japonesas e possivelme...</td>\n",
       "      <td>Ghosn</td>\n",
       "    </tr>\n",
       "    <tr>\n",
       "      <th>101575</th>\n",
       "      <td>51865798</td>\n",
       "      <td>\"Se o senhor Ghosn viesse para a França, não...</td>\n",
       "      <td>Ghosn</td>\n",
       "    </tr>\n",
       "    <tr>\n",
       "      <th>101576</th>\n",
       "      <td>51865798</td>\n",
       "      <td>\"Se o senhor Ghosn viesse para a França, não...</td>\n",
       "      <td>Ghosn</td>\n",
       "    </tr>\n",
       "    <tr>\n",
       "      <th>101577</th>\n",
       "      <td>51865798</td>\n",
       "      <td>\"Se o senhor Ghosn viesse para a França, não...</td>\n",
       "      <td>Agnès Pannier - Runacher</td>\n",
       "    </tr>\n",
       "    <tr>\n",
       "      <th>101578</th>\n",
       "      <td>51865798</td>\n",
       "      <td>As autoridades francesas disseram ter tido con...</td>\n",
       "      <td>Ghosn</td>\n",
       "    </tr>\n",
       "  </tbody>\n",
       "</table>\n",
       "</div>"
      ],
      "text/plain": [
       "              id                                           sentence  \\\n",
       "101572  51865798  Antes de pousar com seu jato particular na cap...   \n",
       "101573  51865798  Agora, essa etapa da jornada também tem conse...   \n",
       "101574  51865798  Fugindo das autoridades japonesas e possivelme...   \n",
       "101575  51865798  \"Se o senhor Ghosn viesse para a França, não...   \n",
       "101576  51865798  \"Se o senhor Ghosn viesse para a França, não...   \n",
       "101577  51865798  \"Se o senhor Ghosn viesse para a França, não...   \n",
       "101578  51865798  As autoridades francesas disseram ter tido con...   \n",
       "\n",
       "                             name  \n",
       "101572                      Ghosn  \n",
       "101573                      Ghosn  \n",
       "101574                      Ghosn  \n",
       "101575                      Ghosn  \n",
       "101576                      Ghosn  \n",
       "101577  Agnès Pannier - Runacher  \n",
       "101578                      Ghosn  "
      ]
     },
     "execution_count": 549,
     "metadata": {},
     "output_type": "execute_result"
    }
   ],
   "source": [
    "i = 101575\n",
    "df.loc[i-3:i+3]"
   ]
  },
  {
   "cell_type": "markdown",
   "id": "6b399383-217f-4a6a-bad0-412376e0e4c7",
   "metadata": {},
   "source": [
    "Get the index of all repetead names (a.k.a. indexes we attempt to remove from the DataFrame) per sentence except for the first appareance."
   ]
  },
  {
   "cell_type": "markdown",
   "id": "00039446-b742-485c-bb5a-54d093cc2b86",
   "metadata": {},
   "source": [
    "All indexes"
   ]
  },
  {
   "cell_type": "code",
   "execution_count": null,
   "id": "ab513a3f-3874-4675-8acd-655b9fdc1db6",
   "metadata": {},
   "outputs": [
    {
     "data": {
      "text/html": [
       "<div>\n",
       "<style scoped>\n",
       "    .dataframe tbody tr th:only-of-type {\n",
       "        vertical-align: middle;\n",
       "    }\n",
       "\n",
       "    .dataframe tbody tr th {\n",
       "        vertical-align: top;\n",
       "    }\n",
       "\n",
       "    .dataframe thead th {\n",
       "        text-align: right;\n",
       "    }\n",
       "</style>\n",
       "<table border=\"1\" class=\"dataframe\">\n",
       "  <thead>\n",
       "    <tr style=\"text-align: right;\">\n",
       "      <th></th>\n",
       "      <th>id</th>\n",
       "      <th>sentence</th>\n",
       "      <th>name</th>\n",
       "    </tr>\n",
       "  </thead>\n",
       "  <tbody>\n",
       "    <tr>\n",
       "      <th>121366</th>\n",
       "      <td>36728631</td>\n",
       "      <td>Peter é também pragmático, mas a abordagem ...</td>\n",
       "      <td>Peter</td>\n",
       "    </tr>\n",
       "    <tr>\n",
       "      <th>121369</th>\n",
       "      <td>36728631</td>\n",
       "      <td>Peter é também pragmático, mas a abordagem ...</td>\n",
       "      <td>Peter</td>\n",
       "    </tr>\n",
       "    <tr>\n",
       "      <th>101397</th>\n",
       "      <td>51850454</td>\n",
       "      <td>O cientista político Jairo Nicolau lembra que...</td>\n",
       "      <td>Bolsonaro</td>\n",
       "    </tr>\n",
       "    <tr>\n",
       "      <th>101398</th>\n",
       "      <td>51850454</td>\n",
       "      <td>O cientista político Jairo Nicolau lembra que...</td>\n",
       "      <td>Bolsonaro</td>\n",
       "    </tr>\n",
       "    <tr>\n",
       "      <th>101575</th>\n",
       "      <td>51865798</td>\n",
       "      <td>\"Se o senhor Ghosn viesse para a França, não...</td>\n",
       "      <td>Ghosn</td>\n",
       "    </tr>\n",
       "    <tr>\n",
       "      <th>...</th>\n",
       "      <td>...</td>\n",
       "      <td>...</td>\n",
       "      <td>...</td>\n",
       "    </tr>\n",
       "    <tr>\n",
       "      <th>76214</th>\n",
       "      <td>62426373</td>\n",
       "      <td>Arruda foi assassinado a tiros na noite de sá...</td>\n",
       "      <td>Arruda</td>\n",
       "    </tr>\n",
       "    <tr>\n",
       "      <th>76334</th>\n",
       "      <td>62436456</td>\n",
       "      <td>No entanto, após Moro romper com Bolsonaro em...</td>\n",
       "      <td>Moro</td>\n",
       "    </tr>\n",
       "    <tr>\n",
       "      <th>76337</th>\n",
       "      <td>62436456</td>\n",
       "      <td>No entanto, após Moro romper com Bolsonaro em...</td>\n",
       "      <td>Moro</td>\n",
       "    </tr>\n",
       "    <tr>\n",
       "      <th>76762</th>\n",
       "      <td>62463689</td>\n",
       "      <td>\"É Donald Trump cuidando de Donald Trump.</td>\n",
       "      <td>Donald Trump</td>\n",
       "    </tr>\n",
       "    <tr>\n",
       "      <th>76763</th>\n",
       "      <td>62463689</td>\n",
       "      <td>\"É Donald Trump cuidando de Donald Trump.</td>\n",
       "      <td>Donald Trump</td>\n",
       "    </tr>\n",
       "  </tbody>\n",
       "</table>\n",
       "<p>1192 rows × 3 columns</p>\n",
       "</div>"
      ],
      "text/plain": [
       "              id                                           sentence  \\\n",
       "121366  36728631  Peter é também pragmático, mas a abordagem ...   \n",
       "121369  36728631  Peter é também pragmático, mas a abordagem ...   \n",
       "101397  51850454  O cientista político Jairo Nicolau lembra que...   \n",
       "101398  51850454  O cientista político Jairo Nicolau lembra que...   \n",
       "101575  51865798  \"Se o senhor Ghosn viesse para a França, não...   \n",
       "...          ...                                                ...   \n",
       "76214   62426373  Arruda foi assassinado a tiros na noite de sá...   \n",
       "76334   62436456  No entanto, após Moro romper com Bolsonaro em...   \n",
       "76337   62436456  No entanto, após Moro romper com Bolsonaro em...   \n",
       "76762   62463689         \"É Donald Trump cuidando de Donald Trump.   \n",
       "76763   62463689         \"É Donald Trump cuidando de Donald Trump.   \n",
       "\n",
       "                name  \n",
       "121366         Peter  \n",
       "121369         Peter  \n",
       "101397     Bolsonaro  \n",
       "101398     Bolsonaro  \n",
       "101575         Ghosn  \n",
       "...              ...  \n",
       "76214         Arruda  \n",
       "76334           Moro  \n",
       "76337           Moro  \n",
       "76762   Donald Trump  \n",
       "76763   Donald Trump  \n",
       "\n",
       "[1192 rows x 3 columns]"
      ]
     },
     "execution_count": 553,
     "metadata": {},
     "output_type": "execute_result"
    }
   ],
   "source": [
    "pd.concat(g for _, g in df.groupby(['id','sentence','name']) if len(g) > 1)"
   ]
  },
  {
   "cell_type": "markdown",
   "id": "65817dfe-fe21-4303-a965-71fbad1004af",
   "metadata": {},
   "source": [
    "Target indexes"
   ]
  },
  {
   "cell_type": "code",
   "execution_count": 554,
   "id": "13508bca-fbc3-4cb6-842c-21eb75b8f2aa",
   "metadata": {},
   "outputs": [
    {
     "data": {
      "text/html": [
       "<div>\n",
       "<style scoped>\n",
       "    .dataframe tbody tr th:only-of-type {\n",
       "        vertical-align: middle;\n",
       "    }\n",
       "\n",
       "    .dataframe tbody tr th {\n",
       "        vertical-align: top;\n",
       "    }\n",
       "\n",
       "    .dataframe thead th {\n",
       "        text-align: right;\n",
       "    }\n",
       "</style>\n",
       "<table border=\"1\" class=\"dataframe\">\n",
       "  <thead>\n",
       "    <tr style=\"text-align: right;\">\n",
       "      <th></th>\n",
       "      <th>id</th>\n",
       "      <th>sentence</th>\n",
       "      <th>name</th>\n",
       "    </tr>\n",
       "  </thead>\n",
       "  <tbody>\n",
       "    <tr>\n",
       "      <th>121369</th>\n",
       "      <td>36728631</td>\n",
       "      <td>Peter é também pragmático, mas a abordagem ...</td>\n",
       "      <td>Peter</td>\n",
       "    </tr>\n",
       "    <tr>\n",
       "      <th>101398</th>\n",
       "      <td>51850454</td>\n",
       "      <td>O cientista político Jairo Nicolau lembra que...</td>\n",
       "      <td>Bolsonaro</td>\n",
       "    </tr>\n",
       "    <tr>\n",
       "      <th>101576</th>\n",
       "      <td>51865798</td>\n",
       "      <td>\"Se o senhor Ghosn viesse para a França, não...</td>\n",
       "      <td>Ghosn</td>\n",
       "    </tr>\n",
       "    <tr>\n",
       "      <th>102155</th>\n",
       "      <td>51919375</td>\n",
       "      <td>A Nissan assegurou nesta terça-feira que a fu...</td>\n",
       "      <td>Ghosn</td>\n",
       "    </tr>\n",
       "    <tr>\n",
       "      <th>102215</th>\n",
       "      <td>51921279</td>\n",
       "      <td>\"O assassinato de Soleimani não muda nada na ...</td>\n",
       "      <td>Soleimani</td>\n",
       "    </tr>\n",
       "    <tr>\n",
       "      <th>...</th>\n",
       "      <td>...</td>\n",
       "      <td>...</td>\n",
       "      <td>...</td>\n",
       "    </tr>\n",
       "    <tr>\n",
       "      <th>75656</th>\n",
       "      <td>62401502</td>\n",
       "      <td>A União das Organizações Indígenas do Vale...</td>\n",
       "      <td>Pereira</td>\n",
       "    </tr>\n",
       "    <tr>\n",
       "      <th>75657</th>\n",
       "      <td>62401502</td>\n",
       "      <td>A União das Organizações Indígenas do Vale...</td>\n",
       "      <td>Phillips</td>\n",
       "    </tr>\n",
       "    <tr>\n",
       "      <th>76214</th>\n",
       "      <td>62426373</td>\n",
       "      <td>Arruda foi assassinado a tiros na noite de sá...</td>\n",
       "      <td>Arruda</td>\n",
       "    </tr>\n",
       "    <tr>\n",
       "      <th>76337</th>\n",
       "      <td>62436456</td>\n",
       "      <td>No entanto, após Moro romper com Bolsonaro em...</td>\n",
       "      <td>Moro</td>\n",
       "    </tr>\n",
       "    <tr>\n",
       "      <th>76763</th>\n",
       "      <td>62463689</td>\n",
       "      <td>\"É Donald Trump cuidando de Donald Trump.</td>\n",
       "      <td>Donald Trump</td>\n",
       "    </tr>\n",
       "  </tbody>\n",
       "</table>\n",
       "<p>604 rows × 3 columns</p>\n",
       "</div>"
      ],
      "text/plain": [
       "              id                                           sentence  \\\n",
       "121369  36728631  Peter é também pragmático, mas a abordagem ...   \n",
       "101398  51850454  O cientista político Jairo Nicolau lembra que...   \n",
       "101576  51865798  \"Se o senhor Ghosn viesse para a França, não...   \n",
       "102155  51919375  A Nissan assegurou nesta terça-feira que a fu...   \n",
       "102215  51921279  \"O assassinato de Soleimani não muda nada na ...   \n",
       "...          ...                                                ...   \n",
       "75656   62401502  A União das Organizações Indígenas do Vale...   \n",
       "75657   62401502  A União das Organizações Indígenas do Vale...   \n",
       "76214   62426373  Arruda foi assassinado a tiros na noite de sá...   \n",
       "76337   62436456  No entanto, após Moro romper com Bolsonaro em...   \n",
       "76763   62463689         \"É Donald Trump cuidando de Donald Trump.   \n",
       "\n",
       "                name  \n",
       "121369         Peter  \n",
       "101398     Bolsonaro  \n",
       "101576         Ghosn  \n",
       "102155         Ghosn  \n",
       "102215     Soleimani  \n",
       "...              ...  \n",
       "75656        Pereira  \n",
       "75657       Phillips  \n",
       "76214         Arruda  \n",
       "76337           Moro  \n",
       "76763   Donald Trump  \n",
       "\n",
       "[604 rows x 3 columns]"
      ]
     },
     "execution_count": 554,
     "metadata": {},
     "output_type": "execute_result"
    }
   ],
   "source": [
    "pd.concat(g.iloc[1:] for _, g in df.groupby(['id','sentence','name']) if len(g) > 1)"
   ]
  },
  {
   "cell_type": "markdown",
   "id": "ce81dcc3-8d6f-404c-b891-f26a7c1c97d5",
   "metadata": {},
   "source": [
    "Save the indexes"
   ]
  },
  {
   "cell_type": "code",
   "execution_count": 555,
   "id": "baa2ab69-727d-4fda-98c2-3943b8eaf6af",
   "metadata": {},
   "outputs": [
    {
     "data": {
      "text/plain": [
       "Int64Index([121369, 101398, 101576, 102155, 102215, 102225, 103347, 103348,\n",
       "            103349, 103452,\n",
       "            ...\n",
       "             74001,  74295,  75111,  75555,  75623,  75656,  75657,  76214,\n",
       "             76337,  76763],\n",
       "           dtype='int64', length=604)"
      ]
     },
     "execution_count": 555,
     "metadata": {},
     "output_type": "execute_result"
    }
   ],
   "source": [
    "indexes = pd.concat(g.iloc[1:] for _, g in df.groupby(['id','sentence','name']) if len(g) > 1).index\n",
    "indexes"
   ]
  },
  {
   "cell_type": "markdown",
   "id": "4227c2b3-e919-4732-9703-33dba364b26b",
   "metadata": {},
   "source": [
    "Remove indexes"
   ]
  },
  {
   "cell_type": "code",
   "execution_count": 556,
   "id": "c346ae7b-2c0f-4a0f-8f02-980f56094ef1",
   "metadata": {},
   "outputs": [],
   "source": [
    "df = df.drop(index=indexes).reset_index(drop=True)"
   ]
  },
  {
   "cell_type": "markdown",
   "id": "82918f99-d688-4ed8-a927-9bc13402129e",
   "metadata": {},
   "source": [
    "Check results"
   ]
  },
  {
   "cell_type": "code",
   "execution_count": 557,
   "id": "5a1dc310-b0fc-4938-b39a-d4d6e5110627",
   "metadata": {},
   "outputs": [
    {
     "data": {
      "text/html": [
       "<div>\n",
       "<style scoped>\n",
       "    .dataframe tbody tr th:only-of-type {\n",
       "        vertical-align: middle;\n",
       "    }\n",
       "\n",
       "    .dataframe tbody tr th {\n",
       "        vertical-align: top;\n",
       "    }\n",
       "\n",
       "    .dataframe thead th {\n",
       "        text-align: right;\n",
       "    }\n",
       "</style>\n",
       "<table border=\"1\" class=\"dataframe\">\n",
       "  <thead>\n",
       "    <tr style=\"text-align: right;\">\n",
       "      <th></th>\n",
       "      <th>id</th>\n",
       "      <th>sentence</th>\n",
       "      <th>name</th>\n",
       "    </tr>\n",
       "  </thead>\n",
       "  <tbody>\n",
       "    <tr>\n",
       "      <th>0</th>\n",
       "      <td>54006424</td>\n",
       "      <td>O presidente do FC Schalke 04 e proprietário ...</td>\n",
       "      <td>Clemens Tönnies</td>\n",
       "    </tr>\n",
       "    <tr>\n",
       "      <th>1</th>\n",
       "      <td>54006424</td>\n",
       "      <td>O comentário foi criticado como racista por e...</td>\n",
       "      <td>Gerald Asamoah</td>\n",
       "    </tr>\n",
       "    <tr>\n",
       "      <th>2</th>\n",
       "      <td>54006424</td>\n",
       "      <td>O comentário foi criticado como racista por e...</td>\n",
       "      <td>Hans Sarpei</td>\n",
       "    </tr>\n",
       "    <tr>\n",
       "      <th>3</th>\n",
       "      <td>54006424</td>\n",
       "      <td>O comentário foi criticado como racista por e...</td>\n",
       "      <td>Cacau</td>\n",
       "    </tr>\n",
       "    <tr>\n",
       "      <th>4</th>\n",
       "      <td>54006424</td>\n",
       "      <td>A revolta gerada pelo papel da empresa no ress...</td>\n",
       "      <td>Clemens Tönnies</td>\n",
       "    </tr>\n",
       "    <tr>\n",
       "      <th>...</th>\n",
       "      <td>...</td>\n",
       "      <td>...</td>\n",
       "      <td>...</td>\n",
       "    </tr>\n",
       "    <tr>\n",
       "      <th>124833</th>\n",
       "      <td>54006072</td>\n",
       "      <td>Paulo, o nome mais cotado para substituir Deco...</td>\n",
       "      <td>Anderson Correia</td>\n",
       "    </tr>\n",
       "    <tr>\n",
       "      <th>124834</th>\n",
       "      <td>54006072</td>\n",
       "      <td>Também seriam possíveis candidatos o secreta...</td>\n",
       "      <td>Renato Feder</td>\n",
       "    </tr>\n",
       "    <tr>\n",
       "      <th>124835</th>\n",
       "      <td>54006072</td>\n",
       "      <td>Também seriam possíveis candidatos o secreta...</td>\n",
       "      <td>Sérgio</td>\n",
       "    </tr>\n",
       "    <tr>\n",
       "      <th>124836</th>\n",
       "      <td>54006072</td>\n",
       "      <td>O nome de Freitas é relacionado como orientad...</td>\n",
       "      <td>Freitas</td>\n",
       "    </tr>\n",
       "    <tr>\n",
       "      <th>124837</th>\n",
       "      <td>54006072</td>\n",
       "      <td>O nome de Freitas é relacionado como orientad...</td>\n",
       "      <td>Decotelli</td>\n",
       "    </tr>\n",
       "  </tbody>\n",
       "</table>\n",
       "<p>124838 rows × 3 columns</p>\n",
       "</div>"
      ],
      "text/plain": [
       "              id                                           sentence  \\\n",
       "0       54006424  O presidente do FC Schalke 04 e proprietário ...   \n",
       "1       54006424  O comentário foi criticado como racista por e...   \n",
       "2       54006424  O comentário foi criticado como racista por e...   \n",
       "3       54006424  O comentário foi criticado como racista por e...   \n",
       "4       54006424  A revolta gerada pelo papel da empresa no ress...   \n",
       "...          ...                                                ...   \n",
       "124833  54006072  Paulo, o nome mais cotado para substituir Deco...   \n",
       "124834  54006072  Também seriam possíveis candidatos o secreta...   \n",
       "124835  54006072  Também seriam possíveis candidatos o secreta...   \n",
       "124836  54006072  O nome de Freitas é relacionado como orientad...   \n",
       "124837  54006072  O nome de Freitas é relacionado como orientad...   \n",
       "\n",
       "                    name  \n",
       "0       Clemens Tönnies  \n",
       "1         Gerald Asamoah  \n",
       "2            Hans Sarpei  \n",
       "3                  Cacau  \n",
       "4       Clemens Tönnies  \n",
       "...                  ...  \n",
       "124833  Anderson Correia  \n",
       "124834      Renato Feder  \n",
       "124835           Sérgio  \n",
       "124836           Freitas  \n",
       "124837         Decotelli  \n",
       "\n",
       "[124838 rows x 3 columns]"
      ]
     },
     "execution_count": 557,
     "metadata": {},
     "output_type": "execute_result"
    }
   ],
   "source": [
    "df"
   ]
  },
  {
   "cell_type": "markdown",
   "id": "d4347413-25bd-4161-9218-3aeb7f86ce43",
   "metadata": {},
   "source": [
    "Confirm result"
   ]
  },
  {
   "cell_type": "code",
   "execution_count": 558,
   "id": "d93f2cb9-bf58-4570-aa2a-8b138027482f",
   "metadata": {},
   "outputs": [
    {
     "data": {
      "text/plain": [
       "[]"
      ]
     },
     "execution_count": 558,
     "metadata": {},
     "output_type": "execute_result"
    }
   ],
   "source": [
    "[g for _, g in df.groupby(['id','sentence','name']) if len(g) > 1]"
   ]
  },
  {
   "cell_type": "code",
   "execution_count": 559,
   "id": "78d16c91-0c06-422d-a7bb-d8e36aea1b45",
   "metadata": {},
   "outputs": [
    {
     "name": "stdout",
     "output_type": "stream",
     "text": [
      "<class 'pandas.core.frame.DataFrame'>\n",
      "RangeIndex: 124838 entries, 0 to 124837\n",
      "Data columns (total 3 columns):\n",
      " #   Column    Non-Null Count   Dtype \n",
      "---  ------    --------------   ----- \n",
      " 0   id        124838 non-null  int64 \n",
      " 1   sentence  124838 non-null  object\n",
      " 2   name      124838 non-null  object\n",
      "dtypes: int64(1), object(2)\n",
      "memory usage: 2.9+ MB\n"
     ]
    }
   ],
   "source": [
    "df.info()"
   ]
  },
  {
   "cell_type": "markdown",
   "id": "aa238157-b12c-4bd6-9f48-147a66588f78",
   "metadata": {},
   "source": [
    "## Save"
   ]
  },
  {
   "cell_type": "code",
   "execution_count": 560,
   "id": "d24205db-69fd-4503-8f71-b9ea5e0984e5",
   "metadata": {},
   "outputs": [],
   "source": [
    "outputdir = Path.cwd()\n",
    "filename = 'portuguese_sentences_with_names_v3.csv'\n",
    "df.to_csv(outputdir/filename, index=False)"
   ]
  },
  {
   "cell_type": "markdown",
   "id": "55095e24-75c9-4f95-ab3c-45f81194a8f8",
   "metadata": {},
   "source": [
    "# Homogenize names (alias) in articles"
   ]
  },
  {
   "cell_type": "markdown",
   "id": "d88a0456-ff87-4ad8-af20-48aaf3c26795",
   "metadata": {},
   "source": [
    "Read CSV file"
   ]
  },
  {
   "cell_type": "code",
   "execution_count": 595,
   "id": "1a5fdb23-d837-4080-8dea-61f35d138274",
   "metadata": {},
   "outputs": [],
   "source": [
    "inputdir = Path.cwd()\n",
    "filename = 'portuguese_sentences_with_names_v3.csv'\n",
    "dtype={'id':int,\n",
    "       'sentence':str,\n",
    "       'name':str\n",
    "       }\n",
    "df = pd.read_csv(inputdir/filename, dtype=dtype)"
   ]
  },
  {
   "cell_type": "code",
   "execution_count": 596,
   "id": "77cfcb2b-6c44-411b-994e-844ba3066d79",
   "metadata": {},
   "outputs": [
    {
     "data": {
      "text/html": [
       "<div>\n",
       "<style scoped>\n",
       "    .dataframe tbody tr th:only-of-type {\n",
       "        vertical-align: middle;\n",
       "    }\n",
       "\n",
       "    .dataframe tbody tr th {\n",
       "        vertical-align: top;\n",
       "    }\n",
       "\n",
       "    .dataframe thead th {\n",
       "        text-align: right;\n",
       "    }\n",
       "</style>\n",
       "<table border=\"1\" class=\"dataframe\">\n",
       "  <thead>\n",
       "    <tr style=\"text-align: right;\">\n",
       "      <th></th>\n",
       "      <th>id</th>\n",
       "      <th>sentence</th>\n",
       "      <th>name</th>\n",
       "    </tr>\n",
       "  </thead>\n",
       "  <tbody>\n",
       "    <tr>\n",
       "      <th>0</th>\n",
       "      <td>54006424</td>\n",
       "      <td>O presidente do FC Schalke 04 e proprietário ...</td>\n",
       "      <td>Clemens Tönnies</td>\n",
       "    </tr>\n",
       "    <tr>\n",
       "      <th>1</th>\n",
       "      <td>54006424</td>\n",
       "      <td>O comentário foi criticado como racista por e...</td>\n",
       "      <td>Gerald Asamoah</td>\n",
       "    </tr>\n",
       "    <tr>\n",
       "      <th>2</th>\n",
       "      <td>54006424</td>\n",
       "      <td>O comentário foi criticado como racista por e...</td>\n",
       "      <td>Hans Sarpei</td>\n",
       "    </tr>\n",
       "    <tr>\n",
       "      <th>3</th>\n",
       "      <td>54006424</td>\n",
       "      <td>O comentário foi criticado como racista por e...</td>\n",
       "      <td>Cacau</td>\n",
       "    </tr>\n",
       "    <tr>\n",
       "      <th>4</th>\n",
       "      <td>54006424</td>\n",
       "      <td>A revolta gerada pelo papel da empresa no ress...</td>\n",
       "      <td>Clemens Tönnies</td>\n",
       "    </tr>\n",
       "    <tr>\n",
       "      <th>5</th>\n",
       "      <td>54003004</td>\n",
       "      <td>Em meados de março, quando o coronavírus com...</td>\n",
       "      <td>Angela Merkel</td>\n",
       "    </tr>\n",
       "    <tr>\n",
       "      <th>6</th>\n",
       "      <td>54003004</td>\n",
       "      <td>E após anos mantendo o presidente francês, E...</td>\n",
       "      <td>Emmanuel Macron</td>\n",
       "    </tr>\n",
       "    <tr>\n",
       "      <th>7</th>\n",
       "      <td>54003004</td>\n",
       "      <td>E após anos mantendo o presidente francês, E...</td>\n",
       "      <td>Merkel</td>\n",
       "    </tr>\n",
       "    <tr>\n",
       "      <th>8</th>\n",
       "      <td>54003004</td>\n",
       "      <td>O ministro alemão das Finanças, Olaf Scholz,...</td>\n",
       "      <td>Olaf Scholz</td>\n",
       "    </tr>\n",
       "    <tr>\n",
       "      <th>9</th>\n",
       "      <td>54003004</td>\n",
       "      <td>O ministro alemão das Finanças, Olaf Scholz,...</td>\n",
       "      <td>Alexander Hamilton</td>\n",
       "    </tr>\n",
       "  </tbody>\n",
       "</table>\n",
       "</div>"
      ],
      "text/plain": [
       "         id                                           sentence  \\\n",
       "0  54006424  O presidente do FC Schalke 04 e proprietário ...   \n",
       "1  54006424  O comentário foi criticado como racista por e...   \n",
       "2  54006424  O comentário foi criticado como racista por e...   \n",
       "3  54006424  O comentário foi criticado como racista por e...   \n",
       "4  54006424  A revolta gerada pelo papel da empresa no ress...   \n",
       "5  54003004  Em meados de março, quando o coronavírus com...   \n",
       "6  54003004  E após anos mantendo o presidente francês, E...   \n",
       "7  54003004  E após anos mantendo o presidente francês, E...   \n",
       "8  54003004  O ministro alemão das Finanças, Olaf Scholz,...   \n",
       "9  54003004  O ministro alemão das Finanças, Olaf Scholz,...   \n",
       "\n",
       "                 name  \n",
       "0    Clemens Tönnies  \n",
       "1      Gerald Asamoah  \n",
       "2         Hans Sarpei  \n",
       "3               Cacau  \n",
       "4    Clemens Tönnies  \n",
       "5       Angela Merkel  \n",
       "6     Emmanuel Macron  \n",
       "7              Merkel  \n",
       "8         Olaf Scholz  \n",
       "9  Alexander Hamilton  "
      ]
     },
     "execution_count": 596,
     "metadata": {},
     "output_type": "execute_result"
    }
   ],
   "source": [
    "df.head(10)"
   ]
  },
  {
   "cell_type": "code",
   "execution_count": 597,
   "id": "5c650f63-46fe-4899-a7c2-b464fd5c868e",
   "metadata": {},
   "outputs": [
    {
     "name": "stdout",
     "output_type": "stream",
     "text": [
      "<class 'pandas.core.frame.DataFrame'>\n",
      "RangeIndex: 124838 entries, 0 to 124837\n",
      "Data columns (total 3 columns):\n",
      " #   Column    Non-Null Count   Dtype \n",
      "---  ------    --------------   ----- \n",
      " 0   id        124838 non-null  int64 \n",
      " 1   sentence  124838 non-null  object\n",
      " 2   name      124838 non-null  object\n",
      "dtypes: int64(1), object(2)\n",
      "memory usage: 2.9+ MB\n"
     ]
    }
   ],
   "source": [
    "df.info()"
   ]
  },
  {
   "cell_type": "code",
   "execution_count": 598,
   "id": "7b917dc1-8f90-47c5-b0ca-c0abda16245b",
   "metadata": {},
   "outputs": [
    {
     "data": {
      "text/plain": [
       "id                                                   54006424\n",
       "sentence    O presidente do FC Schalke 04 e proprietário ...\n",
       "name                                         Clemens Tönnies\n",
       "Name: 0, dtype: object"
      ]
     },
     "execution_count": 598,
     "metadata": {},
     "output_type": "execute_result"
    }
   ],
   "source": [
    "df.iloc[0]"
   ]
  },
  {
   "cell_type": "markdown",
   "id": "237ecd7c-5ffb-4c0f-8b63-d802179a54e1",
   "metadata": {},
   "source": [
    "## Remove column for sentence"
   ]
  },
  {
   "cell_type": "code",
   "execution_count": 599,
   "id": "dfa69901-6762-444d-8e86-cef5c82e1a74",
   "metadata": {},
   "outputs": [
    {
     "data": {
      "text/html": [
       "<div>\n",
       "<style scoped>\n",
       "    .dataframe tbody tr th:only-of-type {\n",
       "        vertical-align: middle;\n",
       "    }\n",
       "\n",
       "    .dataframe tbody tr th {\n",
       "        vertical-align: top;\n",
       "    }\n",
       "\n",
       "    .dataframe thead th {\n",
       "        text-align: right;\n",
       "    }\n",
       "</style>\n",
       "<table border=\"1\" class=\"dataframe\">\n",
       "  <thead>\n",
       "    <tr style=\"text-align: right;\">\n",
       "      <th></th>\n",
       "      <th>id</th>\n",
       "      <th>name</th>\n",
       "    </tr>\n",
       "  </thead>\n",
       "  <tbody>\n",
       "    <tr>\n",
       "      <th>0</th>\n",
       "      <td>54006424</td>\n",
       "      <td>Clemens Tönnies</td>\n",
       "    </tr>\n",
       "    <tr>\n",
       "      <th>1</th>\n",
       "      <td>54006424</td>\n",
       "      <td>Gerald Asamoah</td>\n",
       "    </tr>\n",
       "    <tr>\n",
       "      <th>2</th>\n",
       "      <td>54006424</td>\n",
       "      <td>Hans Sarpei</td>\n",
       "    </tr>\n",
       "    <tr>\n",
       "      <th>3</th>\n",
       "      <td>54006424</td>\n",
       "      <td>Cacau</td>\n",
       "    </tr>\n",
       "    <tr>\n",
       "      <th>4</th>\n",
       "      <td>54006424</td>\n",
       "      <td>Clemens Tönnies</td>\n",
       "    </tr>\n",
       "    <tr>\n",
       "      <th>...</th>\n",
       "      <td>...</td>\n",
       "      <td>...</td>\n",
       "    </tr>\n",
       "    <tr>\n",
       "      <th>124833</th>\n",
       "      <td>54006072</td>\n",
       "      <td>Anderson Correia</td>\n",
       "    </tr>\n",
       "    <tr>\n",
       "      <th>124834</th>\n",
       "      <td>54006072</td>\n",
       "      <td>Renato Feder</td>\n",
       "    </tr>\n",
       "    <tr>\n",
       "      <th>124835</th>\n",
       "      <td>54006072</td>\n",
       "      <td>Sérgio</td>\n",
       "    </tr>\n",
       "    <tr>\n",
       "      <th>124836</th>\n",
       "      <td>54006072</td>\n",
       "      <td>Freitas</td>\n",
       "    </tr>\n",
       "    <tr>\n",
       "      <th>124837</th>\n",
       "      <td>54006072</td>\n",
       "      <td>Decotelli</td>\n",
       "    </tr>\n",
       "  </tbody>\n",
       "</table>\n",
       "<p>124838 rows × 2 columns</p>\n",
       "</div>"
      ],
      "text/plain": [
       "              id              name\n",
       "0       54006424  Clemens Tönnies\n",
       "1       54006424    Gerald Asamoah\n",
       "2       54006424       Hans Sarpei\n",
       "3       54006424             Cacau\n",
       "4       54006424  Clemens Tönnies\n",
       "...          ...               ...\n",
       "124833  54006072  Anderson Correia\n",
       "124834  54006072      Renato Feder\n",
       "124835  54006072           Sérgio\n",
       "124836  54006072           Freitas\n",
       "124837  54006072         Decotelli\n",
       "\n",
       "[124838 rows x 2 columns]"
      ]
     },
     "execution_count": 599,
     "metadata": {},
     "output_type": "execute_result"
    }
   ],
   "source": [
    "df = df.drop(columns=['sentence'])\n",
    "df"
   ]
  },
  {
   "cell_type": "markdown",
   "id": "3fdfe961-d17c-4801-8ed0-014ca368646d",
   "metadata": {},
   "source": [
    "## Find articles with multiple names in it."
   ]
  },
  {
   "cell_type": "code",
   "execution_count": 600,
   "id": "87e14e40-9d62-4608-948d-42c0086d9178",
   "metadata": {},
   "outputs": [
    {
     "data": {
      "text/html": [
       "<div>\n",
       "<style scoped>\n",
       "    .dataframe tbody tr th:only-of-type {\n",
       "        vertical-align: middle;\n",
       "    }\n",
       "\n",
       "    .dataframe tbody tr th {\n",
       "        vertical-align: top;\n",
       "    }\n",
       "\n",
       "    .dataframe thead th {\n",
       "        text-align: right;\n",
       "    }\n",
       "</style>\n",
       "<table border=\"1\" class=\"dataframe\">\n",
       "  <thead>\n",
       "    <tr style=\"text-align: right;\">\n",
       "      <th></th>\n",
       "      <th>name</th>\n",
       "    </tr>\n",
       "    <tr>\n",
       "      <th>id</th>\n",
       "      <th></th>\n",
       "    </tr>\n",
       "  </thead>\n",
       "  <tbody>\n",
       "    <tr>\n",
       "      <th>36728631</th>\n",
       "      <td>[Julian Guthrie, Julian Guthrie, Peter Diamand...</td>\n",
       "    </tr>\n",
       "    <tr>\n",
       "      <th>51740080</th>\n",
       "      <td>[Francisco, Dionísio Kuduavicz, Dionísio, Jo...</td>\n",
       "    </tr>\n",
       "    <tr>\n",
       "      <th>51846913</th>\n",
       "      <td>[Donald Trump, Jair Bolsonaro, Trump, Bolsonar...</td>\n",
       "    </tr>\n",
       "    <tr>\n",
       "      <th>51850454</th>\n",
       "      <td>[Jair Messias Bolsonaro, Michel Temer, Bolsona...</td>\n",
       "    </tr>\n",
       "    <tr>\n",
       "      <th>51850907</th>\n",
       "      <td>[Massa]</td>\n",
       "    </tr>\n",
       "    <tr>\n",
       "      <th>...</th>\n",
       "      <td>...</td>\n",
       "    </tr>\n",
       "    <tr>\n",
       "      <th>62461355</th>\n",
       "      <td>[Trump, Stephanie Murphy, Murphy, Trump, Cassi...</td>\n",
       "    </tr>\n",
       "    <tr>\n",
       "      <th>62461496</th>\n",
       "      <td>[Marcos do Val, Jair Bolsonaro, Rodrigo Pachec...</td>\n",
       "    </tr>\n",
       "    <tr>\n",
       "      <th>62462074</th>\n",
       "      <td>[Joe Biden, Avi Avisana, Yair Lapid, Naftali B...</td>\n",
       "    </tr>\n",
       "    <tr>\n",
       "      <th>62463146</th>\n",
       "      <td>[Gergely Gulyas, Viktor Orban, Gulyas, Gulyas,...</td>\n",
       "    </tr>\n",
       "    <tr>\n",
       "      <th>62463689</th>\n",
       "      <td>[John Bolton, Donald Trump, Bolton, Trump, Bol...</td>\n",
       "    </tr>\n",
       "  </tbody>\n",
       "</table>\n",
       "<p>10541 rows × 1 columns</p>\n",
       "</div>"
      ],
      "text/plain": [
       "                                                       name\n",
       "id                                                         \n",
       "36728631  [Julian Guthrie, Julian Guthrie, Peter Diamand...\n",
       "51740080  [Francisco, Dionísio Kuduavicz, Dionísio, Jo...\n",
       "51846913  [Donald Trump, Jair Bolsonaro, Trump, Bolsonar...\n",
       "51850454  [Jair Messias Bolsonaro, Michel Temer, Bolsona...\n",
       "51850907                                            [Massa]\n",
       "...                                                     ...\n",
       "62461355  [Trump, Stephanie Murphy, Murphy, Trump, Cassi...\n",
       "62461496  [Marcos do Val, Jair Bolsonaro, Rodrigo Pachec...\n",
       "62462074  [Joe Biden, Avi Avisana, Yair Lapid, Naftali B...\n",
       "62463146  [Gergely Gulyas, Viktor Orban, Gulyas, Gulyas,...\n",
       "62463689  [John Bolton, Donald Trump, Bolton, Trump, Bol...\n",
       "\n",
       "[10541 rows x 1 columns]"
      ]
     },
     "execution_count": 600,
     "metadata": {},
     "output_type": "execute_result"
    }
   ],
   "source": [
    "df_grouped = df.groupby(['id']).agg({'name':lambda x: list(x)})\n",
    "df_grouped"
   ]
  },
  {
   "cell_type": "markdown",
   "id": "e52a32bd-60b7-42d1-a6cc-2866d348b821",
   "metadata": {},
   "source": [
    "Check some articles (ids)"
   ]
  },
  {
   "cell_type": "code",
   "execution_count": 601,
   "id": "e511c9d0-7b12-48f8-afb4-03115d132635",
   "metadata": {},
   "outputs": [
    {
     "name": "stdout",
     "output_type": "stream",
     "text": [
      "Number of names = 22\n"
     ]
    },
    {
     "data": {
      "text/plain": [
       "['Julian Guthrie',\n",
       " 'Julian Guthrie',\n",
       " 'Peter Diamandis',\n",
       " 'Peter',\n",
       " 'Peter',\n",
       " 'Jeff Bezos',\n",
       " 'Elon Musk',\n",
       " 'Elon',\n",
       " 'Richard Branson',\n",
       " 'Peter Diamandis',\n",
       " 'Richard Branson',\n",
       " 'Peter',\n",
       " 'Elon',\n",
       " 'Peter',\n",
       " 'Elon',\n",
       " 'Jeff Bezos',\n",
       " 'Jeff',\n",
       " 'Peter',\n",
       " 'Burt Rutan',\n",
       " 'Dumitru Popescu',\n",
       " 'Steve Bennett',\n",
       " 'Elon Musk']"
      ]
     },
     "execution_count": 601,
     "metadata": {},
     "output_type": "execute_result"
    }
   ],
   "source": [
    "id = 36728631\n",
    "names = df.query('id==@id').name.tolist()\n",
    "print(f'Number of names = {len(names)}')\n",
    "names"
   ]
  },
  {
   "cell_type": "markdown",
   "id": "86659b56-adc9-43c6-9e4a-6f462c70547d",
   "metadata": {},
   "source": [
    "## Delete row in the DataFrame where name appears in short version"
   ]
  },
  {
   "cell_type": "code",
   "execution_count": 568,
   "id": "9fd23397-e00a-4c06-adb1-cc82930c1036",
   "metadata": {},
   "outputs": [
    {
     "name": "stderr",
     "output_type": "stream",
     "text": [
      "100%|██████████| 124838/124838 [06:33<00:00, 316.89it/s]\n"
     ]
    }
   ],
   "source": [
    "indexes = []\n",
    "# sample = df_test.iloc[121351:121369] # test line\n",
    "# pbar = tqdm(sample.itertuples(), total=len(sample.index)) # test line\n",
    "pbar = tqdm(df.itertuples(), total=len(df.index))\n",
    "for row in pbar:\n",
    "    query = 'id==@row.id'\n",
    "    names = df.query(query).name.tolist()\n",
    "    if is_subname(row.name,names):\n",
    "        indexes.append(row.Index)"
   ]
  },
  {
   "cell_type": "markdown",
   "id": "ac13c841-c784-4b7e-9466-cabb42e7ae15",
   "metadata": {},
   "source": [
    "## Check results"
   ]
  },
  {
   "cell_type": "code",
   "execution_count": 602,
   "id": "d407151f-60bf-4537-b370-5206ce159602",
   "metadata": {},
   "outputs": [
    {
     "data": {
      "text/plain": [
       "56775"
      ]
     },
     "execution_count": 602,
     "metadata": {},
     "output_type": "execute_result"
    }
   ],
   "source": [
    "len(indexes)"
   ]
  },
  {
   "cell_type": "code",
   "execution_count": 603,
   "id": "373e8718-0ca3-4f97-ba4c-aa25861ceddc",
   "metadata": {},
   "outputs": [
    {
     "data": {
      "text/plain": [
       "[7, 10, 12, 14, 15, 17, 19, 20, 31, 36]"
      ]
     },
     "execution_count": 603,
     "metadata": {},
     "output_type": "execute_result"
    }
   ],
   "source": [
    "indexes[:10]"
   ]
  },
  {
   "cell_type": "code",
   "execution_count": 604,
   "id": "136e38b6-32d4-4072-a94f-835314dc2c7a",
   "metadata": {},
   "outputs": [
    {
     "data": {
      "text/html": [
       "<div>\n",
       "<style scoped>\n",
       "    .dataframe tbody tr th:only-of-type {\n",
       "        vertical-align: middle;\n",
       "    }\n",
       "\n",
       "    .dataframe tbody tr th {\n",
       "        vertical-align: top;\n",
       "    }\n",
       "\n",
       "    .dataframe thead th {\n",
       "        text-align: right;\n",
       "    }\n",
       "</style>\n",
       "<table border=\"1\" class=\"dataframe\">\n",
       "  <thead>\n",
       "    <tr style=\"text-align: right;\">\n",
       "      <th></th>\n",
       "      <th>id</th>\n",
       "      <th>name</th>\n",
       "    </tr>\n",
       "  </thead>\n",
       "  <tbody>\n",
       "    <tr>\n",
       "      <th>0</th>\n",
       "      <td>54006424</td>\n",
       "      <td>Clemens Tönnies</td>\n",
       "    </tr>\n",
       "    <tr>\n",
       "      <th>1</th>\n",
       "      <td>54006424</td>\n",
       "      <td>Gerald Asamoah</td>\n",
       "    </tr>\n",
       "    <tr>\n",
       "      <th>2</th>\n",
       "      <td>54006424</td>\n",
       "      <td>Hans Sarpei</td>\n",
       "    </tr>\n",
       "    <tr>\n",
       "      <th>3</th>\n",
       "      <td>54006424</td>\n",
       "      <td>Cacau</td>\n",
       "    </tr>\n",
       "    <tr>\n",
       "      <th>4</th>\n",
       "      <td>54006424</td>\n",
       "      <td>Clemens Tönnies</td>\n",
       "    </tr>\n",
       "    <tr>\n",
       "      <th>5</th>\n",
       "      <td>54003004</td>\n",
       "      <td>Angela Merkel</td>\n",
       "    </tr>\n",
       "    <tr>\n",
       "      <th>6</th>\n",
       "      <td>54003004</td>\n",
       "      <td>Emmanuel Macron</td>\n",
       "    </tr>\n",
       "    <tr>\n",
       "      <th>7</th>\n",
       "      <td>54003004</td>\n",
       "      <td>Merkel</td>\n",
       "    </tr>\n",
       "    <tr>\n",
       "      <th>8</th>\n",
       "      <td>54003004</td>\n",
       "      <td>Olaf Scholz</td>\n",
       "    </tr>\n",
       "    <tr>\n",
       "      <th>9</th>\n",
       "      <td>54003004</td>\n",
       "      <td>Alexander Hamilton</td>\n",
       "    </tr>\n",
       "    <tr>\n",
       "      <th>10</th>\n",
       "      <td>54003004</td>\n",
       "      <td>Hamilton</td>\n",
       "    </tr>\n",
       "    <tr>\n",
       "      <th>11</th>\n",
       "      <td>54003004</td>\n",
       "      <td>Alexander Hamilton</td>\n",
       "    </tr>\n",
       "    <tr>\n",
       "      <th>12</th>\n",
       "      <td>54003004</td>\n",
       "      <td>Hamilton</td>\n",
       "    </tr>\n",
       "    <tr>\n",
       "      <th>13</th>\n",
       "      <td>54003004</td>\n",
       "      <td>Christine Lagarde</td>\n",
       "    </tr>\n",
       "    <tr>\n",
       "      <th>14</th>\n",
       "      <td>54003004</td>\n",
       "      <td>Merkel</td>\n",
       "    </tr>\n",
       "    <tr>\n",
       "      <th>15</th>\n",
       "      <td>54003004</td>\n",
       "      <td>Merkel</td>\n",
       "    </tr>\n",
       "    <tr>\n",
       "      <th>16</th>\n",
       "      <td>54003004</td>\n",
       "      <td>Ursula von der Leyen</td>\n",
       "    </tr>\n",
       "    <tr>\n",
       "      <th>17</th>\n",
       "      <td>54003004</td>\n",
       "      <td>Merkel</td>\n",
       "    </tr>\n",
       "  </tbody>\n",
       "</table>\n",
       "</div>"
      ],
      "text/plain": [
       "          id                  name\n",
       "0   54006424      Clemens Tönnies\n",
       "1   54006424        Gerald Asamoah\n",
       "2   54006424           Hans Sarpei\n",
       "3   54006424                 Cacau\n",
       "4   54006424      Clemens Tönnies\n",
       "5   54003004         Angela Merkel\n",
       "6   54003004       Emmanuel Macron\n",
       "7   54003004                Merkel\n",
       "8   54003004           Olaf Scholz\n",
       "9   54003004    Alexander Hamilton\n",
       "10  54003004              Hamilton\n",
       "11  54003004    Alexander Hamilton\n",
       "12  54003004              Hamilton\n",
       "13  54003004     Christine Lagarde\n",
       "14  54003004                Merkel\n",
       "15  54003004                Merkel\n",
       "16  54003004  Ursula von der Leyen\n",
       "17  54003004                Merkel"
      ]
     },
     "execution_count": 604,
     "metadata": {},
     "output_type": "execute_result"
    }
   ],
   "source": [
    "i = 7\n",
    "df.loc[i-10:i+10]"
   ]
  },
  {
   "cell_type": "code",
   "execution_count": 605,
   "id": "7b70808d-b496-4598-965e-96d4dbdab1e1",
   "metadata": {},
   "outputs": [
    {
     "data": {
      "text/plain": [
       "[467, 468, 469, 472, 473, 476, 477, 478, 479, 488]"
      ]
     },
     "execution_count": 605,
     "metadata": {},
     "output_type": "execute_result"
    }
   ],
   "source": [
    "indexes[200:210]"
   ]
  },
  {
   "cell_type": "code",
   "execution_count": 606,
   "id": "c8b1895c-86cf-4fb5-adba-ee96d0ce73b2",
   "metadata": {},
   "outputs": [
    {
     "data": {
      "text/html": [
       "<div>\n",
       "<style scoped>\n",
       "    .dataframe tbody tr th:only-of-type {\n",
       "        vertical-align: middle;\n",
       "    }\n",
       "\n",
       "    .dataframe tbody tr th {\n",
       "        vertical-align: top;\n",
       "    }\n",
       "\n",
       "    .dataframe thead th {\n",
       "        text-align: right;\n",
       "    }\n",
       "</style>\n",
       "<table border=\"1\" class=\"dataframe\">\n",
       "  <thead>\n",
       "    <tr style=\"text-align: right;\">\n",
       "      <th></th>\n",
       "      <th>id</th>\n",
       "      <th>name</th>\n",
       "    </tr>\n",
       "  </thead>\n",
       "  <tbody>\n",
       "    <tr>\n",
       "      <th>457</th>\n",
       "      <td>54040436</td>\n",
       "      <td>Stella Kyriakides</td>\n",
       "    </tr>\n",
       "    <tr>\n",
       "      <th>458</th>\n",
       "      <td>54041511</td>\n",
       "      <td>Donald Trump</td>\n",
       "    </tr>\n",
       "    <tr>\n",
       "      <th>459</th>\n",
       "      <td>54041511</td>\n",
       "      <td>Donald</td>\n",
       "    </tr>\n",
       "    <tr>\n",
       "      <th>460</th>\n",
       "      <td>54044041</td>\n",
       "      <td>Matignon</td>\n",
       "    </tr>\n",
       "    <tr>\n",
       "      <th>461</th>\n",
       "      <td>54044041</td>\n",
       "      <td>Édouard Philippe</td>\n",
       "    </tr>\n",
       "    <tr>\n",
       "      <th>462</th>\n",
       "      <td>54044041</td>\n",
       "      <td>Emmanuel Macron</td>\n",
       "    </tr>\n",
       "    <tr>\n",
       "      <th>463</th>\n",
       "      <td>54044041</td>\n",
       "      <td>Jean Castex</td>\n",
       "    </tr>\n",
       "    <tr>\n",
       "      <th>464</th>\n",
       "      <td>54044041</td>\n",
       "      <td>Philippe</td>\n",
       "    </tr>\n",
       "    <tr>\n",
       "      <th>465</th>\n",
       "      <td>54044041</td>\n",
       "      <td>Macron</td>\n",
       "    </tr>\n",
       "    <tr>\n",
       "      <th>466</th>\n",
       "      <td>54044041</td>\n",
       "      <td>Philippe</td>\n",
       "    </tr>\n",
       "    <tr>\n",
       "      <th>467</th>\n",
       "      <td>54044041</td>\n",
       "      <td>Macron</td>\n",
       "    </tr>\n",
       "    <tr>\n",
       "      <th>468</th>\n",
       "      <td>54044041</td>\n",
       "      <td>Macron</td>\n",
       "    </tr>\n",
       "    <tr>\n",
       "      <th>469</th>\n",
       "      <td>54044041</td>\n",
       "      <td>Philippe</td>\n",
       "    </tr>\n",
       "    <tr>\n",
       "      <th>470</th>\n",
       "      <td>54044041</td>\n",
       "      <td>Jean Castex</td>\n",
       "    </tr>\n",
       "    <tr>\n",
       "      <th>471</th>\n",
       "      <td>54044041</td>\n",
       "      <td>Nicolas Sarkozy</td>\n",
       "    </tr>\n",
       "    <tr>\n",
       "      <th>472</th>\n",
       "      <td>54044041</td>\n",
       "      <td>Castex</td>\n",
       "    </tr>\n",
       "    <tr>\n",
       "      <th>473</th>\n",
       "      <td>54044041</td>\n",
       "      <td>Macron</td>\n",
       "    </tr>\n",
       "    <tr>\n",
       "      <th>474</th>\n",
       "      <td>54044041</td>\n",
       "      <td>Florence Parly</td>\n",
       "    </tr>\n",
       "    <tr>\n",
       "      <th>475</th>\n",
       "      <td>54044041</td>\n",
       "      <td>Jean - Yves Drian</td>\n",
       "    </tr>\n",
       "    <tr>\n",
       "      <th>476</th>\n",
       "      <td>54044041</td>\n",
       "      <td>Macron</td>\n",
       "    </tr>\n",
       "    <tr>\n",
       "      <th>477</th>\n",
       "      <td>54044041</td>\n",
       "      <td>Macron</td>\n",
       "    </tr>\n",
       "  </tbody>\n",
       "</table>\n",
       "</div>"
      ],
      "text/plain": [
       "           id               name\n",
       "457  54040436  Stella Kyriakides\n",
       "458  54041511       Donald Trump\n",
       "459  54041511             Donald\n",
       "460  54044041           Matignon\n",
       "461  54044041  Édouard Philippe\n",
       "462  54044041    Emmanuel Macron\n",
       "463  54044041        Jean Castex\n",
       "464  54044041           Philippe\n",
       "465  54044041             Macron\n",
       "466  54044041           Philippe\n",
       "467  54044041             Macron\n",
       "468  54044041             Macron\n",
       "469  54044041           Philippe\n",
       "470  54044041        Jean Castex\n",
       "471  54044041    Nicolas Sarkozy\n",
       "472  54044041             Castex\n",
       "473  54044041             Macron\n",
       "474  54044041     Florence Parly\n",
       "475  54044041  Jean - Yves Drian\n",
       "476  54044041             Macron\n",
       "477  54044041             Macron"
      ]
     },
     "execution_count": 606,
     "metadata": {},
     "output_type": "execute_result"
    }
   ],
   "source": [
    "i = 467\n",
    "df.loc[i-10:i+10]"
   ]
  },
  {
   "cell_type": "markdown",
   "id": "39d7380c-d5b4-4506-8e54-b904c899bbfa",
   "metadata": {
    "tags": []
   },
   "source": [
    "## Apply results"
   ]
  },
  {
   "cell_type": "markdown",
   "id": "278b80d9-806b-4136-8430-b0457b089219",
   "metadata": {},
   "source": [
    "Before application"
   ]
  },
  {
   "cell_type": "code",
   "execution_count": 607,
   "id": "7d278235-87d2-467d-80ca-e053a0d6481f",
   "metadata": {},
   "outputs": [
    {
     "data": {
      "text/html": [
       "<div>\n",
       "<style scoped>\n",
       "    .dataframe tbody tr th:only-of-type {\n",
       "        vertical-align: middle;\n",
       "    }\n",
       "\n",
       "    .dataframe tbody tr th {\n",
       "        vertical-align: top;\n",
       "    }\n",
       "\n",
       "    .dataframe thead th {\n",
       "        text-align: right;\n",
       "    }\n",
       "</style>\n",
       "<table border=\"1\" class=\"dataframe\">\n",
       "  <thead>\n",
       "    <tr style=\"text-align: right;\">\n",
       "      <th></th>\n",
       "      <th>id</th>\n",
       "      <th>name</th>\n",
       "    </tr>\n",
       "  </thead>\n",
       "  <tbody>\n",
       "    <tr>\n",
       "      <th>457</th>\n",
       "      <td>54040436</td>\n",
       "      <td>Stella Kyriakides</td>\n",
       "    </tr>\n",
       "    <tr>\n",
       "      <th>458</th>\n",
       "      <td>54041511</td>\n",
       "      <td>Donald Trump</td>\n",
       "    </tr>\n",
       "    <tr>\n",
       "      <th>459</th>\n",
       "      <td>54041511</td>\n",
       "      <td>Donald</td>\n",
       "    </tr>\n",
       "    <tr>\n",
       "      <th>460</th>\n",
       "      <td>54044041</td>\n",
       "      <td>Matignon</td>\n",
       "    </tr>\n",
       "    <tr>\n",
       "      <th>461</th>\n",
       "      <td>54044041</td>\n",
       "      <td>Édouard Philippe</td>\n",
       "    </tr>\n",
       "    <tr>\n",
       "      <th>462</th>\n",
       "      <td>54044041</td>\n",
       "      <td>Emmanuel Macron</td>\n",
       "    </tr>\n",
       "    <tr>\n",
       "      <th>463</th>\n",
       "      <td>54044041</td>\n",
       "      <td>Jean Castex</td>\n",
       "    </tr>\n",
       "    <tr>\n",
       "      <th>464</th>\n",
       "      <td>54044041</td>\n",
       "      <td>Philippe</td>\n",
       "    </tr>\n",
       "    <tr>\n",
       "      <th>465</th>\n",
       "      <td>54044041</td>\n",
       "      <td>Macron</td>\n",
       "    </tr>\n",
       "    <tr>\n",
       "      <th>466</th>\n",
       "      <td>54044041</td>\n",
       "      <td>Philippe</td>\n",
       "    </tr>\n",
       "    <tr>\n",
       "      <th>467</th>\n",
       "      <td>54044041</td>\n",
       "      <td>Macron</td>\n",
       "    </tr>\n",
       "    <tr>\n",
       "      <th>468</th>\n",
       "      <td>54044041</td>\n",
       "      <td>Macron</td>\n",
       "    </tr>\n",
       "    <tr>\n",
       "      <th>469</th>\n",
       "      <td>54044041</td>\n",
       "      <td>Philippe</td>\n",
       "    </tr>\n",
       "    <tr>\n",
       "      <th>470</th>\n",
       "      <td>54044041</td>\n",
       "      <td>Jean Castex</td>\n",
       "    </tr>\n",
       "    <tr>\n",
       "      <th>471</th>\n",
       "      <td>54044041</td>\n",
       "      <td>Nicolas Sarkozy</td>\n",
       "    </tr>\n",
       "    <tr>\n",
       "      <th>472</th>\n",
       "      <td>54044041</td>\n",
       "      <td>Castex</td>\n",
       "    </tr>\n",
       "    <tr>\n",
       "      <th>473</th>\n",
       "      <td>54044041</td>\n",
       "      <td>Macron</td>\n",
       "    </tr>\n",
       "    <tr>\n",
       "      <th>474</th>\n",
       "      <td>54044041</td>\n",
       "      <td>Florence Parly</td>\n",
       "    </tr>\n",
       "    <tr>\n",
       "      <th>475</th>\n",
       "      <td>54044041</td>\n",
       "      <td>Jean - Yves Drian</td>\n",
       "    </tr>\n",
       "    <tr>\n",
       "      <th>476</th>\n",
       "      <td>54044041</td>\n",
       "      <td>Macron</td>\n",
       "    </tr>\n",
       "    <tr>\n",
       "      <th>477</th>\n",
       "      <td>54044041</td>\n",
       "      <td>Macron</td>\n",
       "    </tr>\n",
       "  </tbody>\n",
       "</table>\n",
       "</div>"
      ],
      "text/plain": [
       "           id               name\n",
       "457  54040436  Stella Kyriakides\n",
       "458  54041511       Donald Trump\n",
       "459  54041511             Donald\n",
       "460  54044041           Matignon\n",
       "461  54044041  Édouard Philippe\n",
       "462  54044041    Emmanuel Macron\n",
       "463  54044041        Jean Castex\n",
       "464  54044041           Philippe\n",
       "465  54044041             Macron\n",
       "466  54044041           Philippe\n",
       "467  54044041             Macron\n",
       "468  54044041             Macron\n",
       "469  54044041           Philippe\n",
       "470  54044041        Jean Castex\n",
       "471  54044041    Nicolas Sarkozy\n",
       "472  54044041             Castex\n",
       "473  54044041             Macron\n",
       "474  54044041     Florence Parly\n",
       "475  54044041  Jean - Yves Drian\n",
       "476  54044041             Macron\n",
       "477  54044041             Macron"
      ]
     },
     "execution_count": 607,
     "metadata": {},
     "output_type": "execute_result"
    }
   ],
   "source": [
    "i = 467\n",
    "df.loc[i-10:i+10]"
   ]
  },
  {
   "cell_type": "markdown",
   "id": "d7c8c2f3-2f58-4bc3-8996-3d351f10f615",
   "metadata": {},
   "source": [
    "Check application without making permanent changes"
   ]
  },
  {
   "cell_type": "code",
   "execution_count": 608,
   "id": "bddd3dad-67df-4ba1-b5dd-62f79092115d",
   "metadata": {},
   "outputs": [
    {
     "data": {
      "text/html": [
       "<div>\n",
       "<style scoped>\n",
       "    .dataframe tbody tr th:only-of-type {\n",
       "        vertical-align: middle;\n",
       "    }\n",
       "\n",
       "    .dataframe tbody tr th {\n",
       "        vertical-align: top;\n",
       "    }\n",
       "\n",
       "    .dataframe thead th {\n",
       "        text-align: right;\n",
       "    }\n",
       "</style>\n",
       "<table border=\"1\" class=\"dataframe\">\n",
       "  <thead>\n",
       "    <tr style=\"text-align: right;\">\n",
       "      <th></th>\n",
       "      <th>id</th>\n",
       "      <th>name</th>\n",
       "    </tr>\n",
       "  </thead>\n",
       "  <tbody>\n",
       "    <tr>\n",
       "      <th>457</th>\n",
       "      <td>54040436</td>\n",
       "      <td>Stella Kyriakides</td>\n",
       "    </tr>\n",
       "    <tr>\n",
       "      <th>458</th>\n",
       "      <td>54041511</td>\n",
       "      <td>Donald Trump</td>\n",
       "    </tr>\n",
       "    <tr>\n",
       "      <th>460</th>\n",
       "      <td>54044041</td>\n",
       "      <td>Matignon</td>\n",
       "    </tr>\n",
       "    <tr>\n",
       "      <th>461</th>\n",
       "      <td>54044041</td>\n",
       "      <td>Édouard Philippe</td>\n",
       "    </tr>\n",
       "    <tr>\n",
       "      <th>462</th>\n",
       "      <td>54044041</td>\n",
       "      <td>Emmanuel Macron</td>\n",
       "    </tr>\n",
       "    <tr>\n",
       "      <th>463</th>\n",
       "      <td>54044041</td>\n",
       "      <td>Jean Castex</td>\n",
       "    </tr>\n",
       "    <tr>\n",
       "      <th>470</th>\n",
       "      <td>54044041</td>\n",
       "      <td>Jean Castex</td>\n",
       "    </tr>\n",
       "    <tr>\n",
       "      <th>471</th>\n",
       "      <td>54044041</td>\n",
       "      <td>Nicolas Sarkozy</td>\n",
       "    </tr>\n",
       "    <tr>\n",
       "      <th>474</th>\n",
       "      <td>54044041</td>\n",
       "      <td>Florence Parly</td>\n",
       "    </tr>\n",
       "    <tr>\n",
       "      <th>475</th>\n",
       "      <td>54044041</td>\n",
       "      <td>Jean - Yves Drian</td>\n",
       "    </tr>\n",
       "  </tbody>\n",
       "</table>\n",
       "</div>"
      ],
      "text/plain": [
       "           id               name\n",
       "457  54040436  Stella Kyriakides\n",
       "458  54041511       Donald Trump\n",
       "460  54044041           Matignon\n",
       "461  54044041  Édouard Philippe\n",
       "462  54044041    Emmanuel Macron\n",
       "463  54044041        Jean Castex\n",
       "470  54044041        Jean Castex\n",
       "471  54044041    Nicolas Sarkozy\n",
       "474  54044041     Florence Parly\n",
       "475  54044041  Jean - Yves Drian"
      ]
     },
     "execution_count": 608,
     "metadata": {},
     "output_type": "execute_result"
    }
   ],
   "source": [
    "i = 467\n",
    "df.drop(index=indexes).loc[i-10:i+10]"
   ]
  },
  {
   "cell_type": "markdown",
   "id": "80bdc651-3700-40ed-994c-b5f9437c3850",
   "metadata": {},
   "source": [
    "Application"
   ]
  },
  {
   "cell_type": "code",
   "execution_count": 609,
   "id": "5e6a3ca2-559d-47ae-831c-07866f63d2cf",
   "metadata": {},
   "outputs": [],
   "source": [
    "df = df.drop(index=indexes)"
   ]
  },
  {
   "cell_type": "markdown",
   "id": "520e827e-0b27-4321-8d8b-ccce5003aefa",
   "metadata": {},
   "source": [
    "After application"
   ]
  },
  {
   "cell_type": "code",
   "execution_count": 610,
   "id": "660a7430-2b2e-40b5-9296-03c112c274c6",
   "metadata": {},
   "outputs": [
    {
     "data": {
      "text/html": [
       "<div>\n",
       "<style scoped>\n",
       "    .dataframe tbody tr th:only-of-type {\n",
       "        vertical-align: middle;\n",
       "    }\n",
       "\n",
       "    .dataframe tbody tr th {\n",
       "        vertical-align: top;\n",
       "    }\n",
       "\n",
       "    .dataframe thead th {\n",
       "        text-align: right;\n",
       "    }\n",
       "</style>\n",
       "<table border=\"1\" class=\"dataframe\">\n",
       "  <thead>\n",
       "    <tr style=\"text-align: right;\">\n",
       "      <th></th>\n",
       "      <th>id</th>\n",
       "      <th>name</th>\n",
       "    </tr>\n",
       "  </thead>\n",
       "  <tbody>\n",
       "    <tr>\n",
       "      <th>457</th>\n",
       "      <td>54040436</td>\n",
       "      <td>Stella Kyriakides</td>\n",
       "    </tr>\n",
       "    <tr>\n",
       "      <th>458</th>\n",
       "      <td>54041511</td>\n",
       "      <td>Donald Trump</td>\n",
       "    </tr>\n",
       "    <tr>\n",
       "      <th>460</th>\n",
       "      <td>54044041</td>\n",
       "      <td>Matignon</td>\n",
       "    </tr>\n",
       "    <tr>\n",
       "      <th>461</th>\n",
       "      <td>54044041</td>\n",
       "      <td>Édouard Philippe</td>\n",
       "    </tr>\n",
       "    <tr>\n",
       "      <th>462</th>\n",
       "      <td>54044041</td>\n",
       "      <td>Emmanuel Macron</td>\n",
       "    </tr>\n",
       "    <tr>\n",
       "      <th>463</th>\n",
       "      <td>54044041</td>\n",
       "      <td>Jean Castex</td>\n",
       "    </tr>\n",
       "    <tr>\n",
       "      <th>470</th>\n",
       "      <td>54044041</td>\n",
       "      <td>Jean Castex</td>\n",
       "    </tr>\n",
       "    <tr>\n",
       "      <th>471</th>\n",
       "      <td>54044041</td>\n",
       "      <td>Nicolas Sarkozy</td>\n",
       "    </tr>\n",
       "    <tr>\n",
       "      <th>474</th>\n",
       "      <td>54044041</td>\n",
       "      <td>Florence Parly</td>\n",
       "    </tr>\n",
       "    <tr>\n",
       "      <th>475</th>\n",
       "      <td>54044041</td>\n",
       "      <td>Jean - Yves Drian</td>\n",
       "    </tr>\n",
       "  </tbody>\n",
       "</table>\n",
       "</div>"
      ],
      "text/plain": [
       "           id               name\n",
       "457  54040436  Stella Kyriakides\n",
       "458  54041511       Donald Trump\n",
       "460  54044041           Matignon\n",
       "461  54044041  Édouard Philippe\n",
       "462  54044041    Emmanuel Macron\n",
       "463  54044041        Jean Castex\n",
       "470  54044041        Jean Castex\n",
       "471  54044041    Nicolas Sarkozy\n",
       "474  54044041     Florence Parly\n",
       "475  54044041  Jean - Yves Drian"
      ]
     },
     "execution_count": 610,
     "metadata": {},
     "output_type": "execute_result"
    }
   ],
   "source": [
    "i = 467\n",
    "df.loc[i-10:i+10]"
   ]
  },
  {
   "cell_type": "markdown",
   "id": "b307fe64-667d-4459-956c-20db846a57f3",
   "metadata": {},
   "source": [
    "Reset indexes"
   ]
  },
  {
   "cell_type": "code",
   "execution_count": 611,
   "id": "b3c583a7-3db0-4379-8930-3113db17c9cc",
   "metadata": {},
   "outputs": [],
   "source": [
    "df = df.reset_index(drop=True)"
   ]
  },
  {
   "cell_type": "code",
   "execution_count": 615,
   "id": "a21a954d-921e-4ad4-b643-a70a9bbbd529",
   "metadata": {},
   "outputs": [
    {
     "data": {
      "text/html": [
       "<div>\n",
       "<style scoped>\n",
       "    .dataframe tbody tr th:only-of-type {\n",
       "        vertical-align: middle;\n",
       "    }\n",
       "\n",
       "    .dataframe tbody tr th {\n",
       "        vertical-align: top;\n",
       "    }\n",
       "\n",
       "    .dataframe thead th {\n",
       "        text-align: right;\n",
       "    }\n",
       "</style>\n",
       "<table border=\"1\" class=\"dataframe\">\n",
       "  <thead>\n",
       "    <tr style=\"text-align: right;\">\n",
       "      <th></th>\n",
       "      <th>id</th>\n",
       "      <th>name</th>\n",
       "    </tr>\n",
       "  </thead>\n",
       "  <tbody>\n",
       "    <tr>\n",
       "      <th>0</th>\n",
       "      <td>54006424</td>\n",
       "      <td>Clemens Tönnies</td>\n",
       "    </tr>\n",
       "    <tr>\n",
       "      <th>1</th>\n",
       "      <td>54006424</td>\n",
       "      <td>Gerald Asamoah</td>\n",
       "    </tr>\n",
       "    <tr>\n",
       "      <th>2</th>\n",
       "      <td>54006424</td>\n",
       "      <td>Hans Sarpei</td>\n",
       "    </tr>\n",
       "    <tr>\n",
       "      <th>3</th>\n",
       "      <td>54006424</td>\n",
       "      <td>Cacau</td>\n",
       "    </tr>\n",
       "    <tr>\n",
       "      <th>4</th>\n",
       "      <td>54006424</td>\n",
       "      <td>Clemens Tönnies</td>\n",
       "    </tr>\n",
       "    <tr>\n",
       "      <th>5</th>\n",
       "      <td>54003004</td>\n",
       "      <td>Angela Merkel</td>\n",
       "    </tr>\n",
       "    <tr>\n",
       "      <th>6</th>\n",
       "      <td>54003004</td>\n",
       "      <td>Emmanuel Macron</td>\n",
       "    </tr>\n",
       "    <tr>\n",
       "      <th>7</th>\n",
       "      <td>54003004</td>\n",
       "      <td>Olaf Scholz</td>\n",
       "    </tr>\n",
       "    <tr>\n",
       "      <th>8</th>\n",
       "      <td>54003004</td>\n",
       "      <td>Alexander Hamilton</td>\n",
       "    </tr>\n",
       "    <tr>\n",
       "      <th>9</th>\n",
       "      <td>54003004</td>\n",
       "      <td>Alexander Hamilton</td>\n",
       "    </tr>\n",
       "  </tbody>\n",
       "</table>\n",
       "</div>"
      ],
      "text/plain": [
       "         id                name\n",
       "0  54006424    Clemens Tönnies\n",
       "1  54006424      Gerald Asamoah\n",
       "2  54006424         Hans Sarpei\n",
       "3  54006424               Cacau\n",
       "4  54006424    Clemens Tönnies\n",
       "5  54003004       Angela Merkel\n",
       "6  54003004     Emmanuel Macron\n",
       "7  54003004         Olaf Scholz\n",
       "8  54003004  Alexander Hamilton\n",
       "9  54003004  Alexander Hamilton"
      ]
     },
     "execution_count": 615,
     "metadata": {},
     "output_type": "execute_result"
    }
   ],
   "source": [
    "df.head(10)"
   ]
  },
  {
   "cell_type": "markdown",
   "id": "cb73f338-c850-4b6b-a43b-5da350fbed7d",
   "metadata": {
    "tags": []
   },
   "source": [
    "## Save"
   ]
  },
  {
   "cell_type": "code",
   "execution_count": 618,
   "id": "d7ce72ca-9ea8-44d7-8616-990c11390ad1",
   "metadata": {},
   "outputs": [],
   "source": [
    "outputdir = Path.cwd()\n",
    "filename = 'portuguese_articles_and_names_v2.csv'\n",
    "df.to_csv(outputdir/filename, index=False)"
   ]
  },
  {
   "cell_type": "markdown",
   "id": "1683de4c-95df-4986-b449-10e1739a49fe",
   "metadata": {},
   "source": [
    "# Remove duplicated names in articles"
   ]
  },
  {
   "cell_type": "markdown",
   "id": "57b932ac-cfe0-4c21-a57e-bed21863f040",
   "metadata": {},
   "source": [
    "Read CSV file"
   ]
  },
  {
   "cell_type": "code",
   "execution_count": 619,
   "id": "d9a55b44-877a-4dd2-bc9a-4c58a9f886ff",
   "metadata": {
    "tags": []
   },
   "outputs": [],
   "source": [
    "inputdir = Path.cwd()\n",
    "filename = 'portuguese_articles_and_names_v2.csv'\n",
    "dtype={'id':int,\n",
    "       'name':str\n",
    "       }\n",
    "df = pd.read_csv(inputdir/filename, dtype=dtype)"
   ]
  },
  {
   "cell_type": "code",
   "execution_count": 620,
   "id": "6c5e28f0-4930-4b9b-81fa-01e8c8cec4d6",
   "metadata": {},
   "outputs": [
    {
     "data": {
      "text/html": [
       "<div>\n",
       "<style scoped>\n",
       "    .dataframe tbody tr th:only-of-type {\n",
       "        vertical-align: middle;\n",
       "    }\n",
       "\n",
       "    .dataframe tbody tr th {\n",
       "        vertical-align: top;\n",
       "    }\n",
       "\n",
       "    .dataframe thead th {\n",
       "        text-align: right;\n",
       "    }\n",
       "</style>\n",
       "<table border=\"1\" class=\"dataframe\">\n",
       "  <thead>\n",
       "    <tr style=\"text-align: right;\">\n",
       "      <th></th>\n",
       "      <th>id</th>\n",
       "      <th>name</th>\n",
       "    </tr>\n",
       "  </thead>\n",
       "  <tbody>\n",
       "    <tr>\n",
       "      <th>0</th>\n",
       "      <td>54006424</td>\n",
       "      <td>Clemens Tönnies</td>\n",
       "    </tr>\n",
       "    <tr>\n",
       "      <th>1</th>\n",
       "      <td>54006424</td>\n",
       "      <td>Gerald Asamoah</td>\n",
       "    </tr>\n",
       "    <tr>\n",
       "      <th>2</th>\n",
       "      <td>54006424</td>\n",
       "      <td>Hans Sarpei</td>\n",
       "    </tr>\n",
       "    <tr>\n",
       "      <th>3</th>\n",
       "      <td>54006424</td>\n",
       "      <td>Cacau</td>\n",
       "    </tr>\n",
       "    <tr>\n",
       "      <th>4</th>\n",
       "      <td>54006424</td>\n",
       "      <td>Clemens Tönnies</td>\n",
       "    </tr>\n",
       "    <tr>\n",
       "      <th>5</th>\n",
       "      <td>54003004</td>\n",
       "      <td>Angela Merkel</td>\n",
       "    </tr>\n",
       "    <tr>\n",
       "      <th>6</th>\n",
       "      <td>54003004</td>\n",
       "      <td>Emmanuel Macron</td>\n",
       "    </tr>\n",
       "    <tr>\n",
       "      <th>7</th>\n",
       "      <td>54003004</td>\n",
       "      <td>Olaf Scholz</td>\n",
       "    </tr>\n",
       "    <tr>\n",
       "      <th>8</th>\n",
       "      <td>54003004</td>\n",
       "      <td>Alexander Hamilton</td>\n",
       "    </tr>\n",
       "    <tr>\n",
       "      <th>9</th>\n",
       "      <td>54003004</td>\n",
       "      <td>Alexander Hamilton</td>\n",
       "    </tr>\n",
       "  </tbody>\n",
       "</table>\n",
       "</div>"
      ],
      "text/plain": [
       "         id                name\n",
       "0  54006424    Clemens Tönnies\n",
       "1  54006424      Gerald Asamoah\n",
       "2  54006424         Hans Sarpei\n",
       "3  54006424               Cacau\n",
       "4  54006424    Clemens Tönnies\n",
       "5  54003004       Angela Merkel\n",
       "6  54003004     Emmanuel Macron\n",
       "7  54003004         Olaf Scholz\n",
       "8  54003004  Alexander Hamilton\n",
       "9  54003004  Alexander Hamilton"
      ]
     },
     "execution_count": 620,
     "metadata": {},
     "output_type": "execute_result"
    }
   ],
   "source": [
    "df.head(10)"
   ]
  },
  {
   "cell_type": "code",
   "execution_count": 621,
   "id": "0fc0aaf6-c638-439c-b107-f53788e2123b",
   "metadata": {},
   "outputs": [
    {
     "name": "stdout",
     "output_type": "stream",
     "text": [
      "<class 'pandas.core.frame.DataFrame'>\n",
      "RangeIndex: 68063 entries, 0 to 68062\n",
      "Data columns (total 2 columns):\n",
      " #   Column  Non-Null Count  Dtype \n",
      "---  ------  --------------  ----- \n",
      " 0   id      68063 non-null  int64 \n",
      " 1   name    68063 non-null  object\n",
      "dtypes: int64(1), object(1)\n",
      "memory usage: 1.0+ MB\n"
     ]
    }
   ],
   "source": [
    "df.info()"
   ]
  },
  {
   "cell_type": "code",
   "execution_count": 622,
   "id": "1b86068b-8395-470d-816e-343ff4126ffe",
   "metadata": {},
   "outputs": [
    {
     "data": {
      "text/plain": [
       "id              54006424\n",
       "name    Clemens Tönnies\n",
       "Name: 0, dtype: object"
      ]
     },
     "execution_count": 622,
     "metadata": {},
     "output_type": "execute_result"
    }
   ],
   "source": [
    "df.iloc[0]"
   ]
  },
  {
   "cell_type": "markdown",
   "id": "ed7952c7-5425-4453-a322-e9ec795ee2d6",
   "metadata": {},
   "source": [
    "## Find articles with multiple names in it"
   ]
  },
  {
   "cell_type": "code",
   "execution_count": 623,
   "id": "23caa943-dabf-494f-99a2-0c275e3d3725",
   "metadata": {},
   "outputs": [
    {
     "data": {
      "text/html": [
       "<div>\n",
       "<style scoped>\n",
       "    .dataframe tbody tr th:only-of-type {\n",
       "        vertical-align: middle;\n",
       "    }\n",
       "\n",
       "    .dataframe tbody tr th {\n",
       "        vertical-align: top;\n",
       "    }\n",
       "\n",
       "    .dataframe thead th {\n",
       "        text-align: right;\n",
       "    }\n",
       "</style>\n",
       "<table border=\"1\" class=\"dataframe\">\n",
       "  <thead>\n",
       "    <tr style=\"text-align: right;\">\n",
       "      <th></th>\n",
       "      <th>id</th>\n",
       "      <th>name</th>\n",
       "    </tr>\n",
       "  </thead>\n",
       "  <tbody>\n",
       "    <tr>\n",
       "      <th>65706</th>\n",
       "      <td>36728631</td>\n",
       "      <td>Elon Musk</td>\n",
       "    </tr>\n",
       "    <tr>\n",
       "      <th>65714</th>\n",
       "      <td>36728631</td>\n",
       "      <td>Elon Musk</td>\n",
       "    </tr>\n",
       "    <tr>\n",
       "      <th>65705</th>\n",
       "      <td>36728631</td>\n",
       "      <td>Jeff Bezos</td>\n",
       "    </tr>\n",
       "    <tr>\n",
       "      <th>65710</th>\n",
       "      <td>36728631</td>\n",
       "      <td>Jeff Bezos</td>\n",
       "    </tr>\n",
       "    <tr>\n",
       "      <th>65702</th>\n",
       "      <td>36728631</td>\n",
       "      <td>Julian Guthrie</td>\n",
       "    </tr>\n",
       "    <tr>\n",
       "      <th>...</th>\n",
       "      <td>...</td>\n",
       "      <td>...</td>\n",
       "    </tr>\n",
       "    <tr>\n",
       "      <th>41469</th>\n",
       "      <td>62463689</td>\n",
       "      <td>Donald Trump</td>\n",
       "    </tr>\n",
       "    <tr>\n",
       "      <th>41467</th>\n",
       "      <td>62463689</td>\n",
       "      <td>John Bolton</td>\n",
       "    </tr>\n",
       "    <tr>\n",
       "      <th>41473</th>\n",
       "      <td>62463689</td>\n",
       "      <td>John Bolton</td>\n",
       "    </tr>\n",
       "    <tr>\n",
       "      <th>41470</th>\n",
       "      <td>62463689</td>\n",
       "      <td>Nicolás Maduro</td>\n",
       "    </tr>\n",
       "    <tr>\n",
       "      <th>41472</th>\n",
       "      <td>62463689</td>\n",
       "      <td>Nicolás Maduro</td>\n",
       "    </tr>\n",
       "  </tbody>\n",
       "</table>\n",
       "<p>17429 rows × 2 columns</p>\n",
       "</div>"
      ],
      "text/plain": [
       "             id             name\n",
       "65706  36728631        Elon Musk\n",
       "65714  36728631        Elon Musk\n",
       "65705  36728631       Jeff Bezos\n",
       "65710  36728631       Jeff Bezos\n",
       "65702  36728631   Julian Guthrie\n",
       "...         ...              ...\n",
       "41469  62463689     Donald Trump\n",
       "41467  62463689      John Bolton\n",
       "41473  62463689      John Bolton\n",
       "41470  62463689  Nicolás Maduro\n",
       "41472  62463689  Nicolás Maduro\n",
       "\n",
       "[17429 rows x 2 columns]"
      ]
     },
     "execution_count": 623,
     "metadata": {},
     "output_type": "execute_result"
    }
   ],
   "source": [
    "pd.concat(g for _, g in df.groupby(['id','name']) if len(g) > 1)"
   ]
  },
  {
   "cell_type": "markdown",
   "id": "933b4ad9-3ab4-47d8-affd-a5c366fb5095",
   "metadata": {},
   "source": [
    "Check a few ones"
   ]
  },
  {
   "cell_type": "code",
   "execution_count": 632,
   "id": "619cb36e-6394-4c00-82cf-27f980b9a467",
   "metadata": {},
   "outputs": [
    {
     "name": "stdout",
     "output_type": "stream",
     "text": [
      "Repeated name: Elon Musk\n",
      "In article: 36728631\n"
     ]
    },
    {
     "data": {
      "text/html": [
       "<div>\n",
       "<style scoped>\n",
       "    .dataframe tbody tr th:only-of-type {\n",
       "        vertical-align: middle;\n",
       "    }\n",
       "\n",
       "    .dataframe tbody tr th {\n",
       "        vertical-align: top;\n",
       "    }\n",
       "\n",
       "    .dataframe thead th {\n",
       "        text-align: right;\n",
       "    }\n",
       "</style>\n",
       "<table border=\"1\" class=\"dataframe\">\n",
       "  <thead>\n",
       "    <tr style=\"text-align: right;\">\n",
       "      <th></th>\n",
       "      <th>id</th>\n",
       "      <th>name</th>\n",
       "    </tr>\n",
       "  </thead>\n",
       "  <tbody>\n",
       "    <tr>\n",
       "      <th>65696</th>\n",
       "      <td>53631101</td>\n",
       "      <td>Dominic Raab</td>\n",
       "    </tr>\n",
       "    <tr>\n",
       "      <th>65697</th>\n",
       "      <td>53631101</td>\n",
       "      <td>Priti Patel</td>\n",
       "    </tr>\n",
       "    <tr>\n",
       "      <th>65698</th>\n",
       "      <td>53622574</td>\n",
       "      <td>Josephine</td>\n",
       "    </tr>\n",
       "    <tr>\n",
       "      <th>65699</th>\n",
       "      <td>53622574</td>\n",
       "      <td>Chang Heung - Lin</td>\n",
       "    </tr>\n",
       "    <tr>\n",
       "      <th>65700</th>\n",
       "      <td>53622574</td>\n",
       "      <td>Dominic Raab</td>\n",
       "    </tr>\n",
       "    <tr>\n",
       "      <th>65701</th>\n",
       "      <td>53622574</td>\n",
       "      <td>Priti Patel</td>\n",
       "    </tr>\n",
       "    <tr>\n",
       "      <th>65702</th>\n",
       "      <td>36728631</td>\n",
       "      <td>Julian Guthrie</td>\n",
       "    </tr>\n",
       "    <tr>\n",
       "      <th>65703</th>\n",
       "      <td>36728631</td>\n",
       "      <td>Julian Guthrie</td>\n",
       "    </tr>\n",
       "    <tr>\n",
       "      <th>65704</th>\n",
       "      <td>36728631</td>\n",
       "      <td>Peter Diamandis</td>\n",
       "    </tr>\n",
       "    <tr>\n",
       "      <th>65705</th>\n",
       "      <td>36728631</td>\n",
       "      <td>Jeff Bezos</td>\n",
       "    </tr>\n",
       "    <tr>\n",
       "      <th>65706</th>\n",
       "      <td>36728631</td>\n",
       "      <td>Elon Musk</td>\n",
       "    </tr>\n",
       "    <tr>\n",
       "      <th>65707</th>\n",
       "      <td>36728631</td>\n",
       "      <td>Richard Branson</td>\n",
       "    </tr>\n",
       "    <tr>\n",
       "      <th>65708</th>\n",
       "      <td>36728631</td>\n",
       "      <td>Peter Diamandis</td>\n",
       "    </tr>\n",
       "    <tr>\n",
       "      <th>65709</th>\n",
       "      <td>36728631</td>\n",
       "      <td>Richard Branson</td>\n",
       "    </tr>\n",
       "    <tr>\n",
       "      <th>65710</th>\n",
       "      <td>36728631</td>\n",
       "      <td>Jeff Bezos</td>\n",
       "    </tr>\n",
       "    <tr>\n",
       "      <th>65711</th>\n",
       "      <td>36728631</td>\n",
       "      <td>Burt Rutan</td>\n",
       "    </tr>\n",
       "    <tr>\n",
       "      <th>65712</th>\n",
       "      <td>36728631</td>\n",
       "      <td>Dumitru Popescu</td>\n",
       "    </tr>\n",
       "    <tr>\n",
       "      <th>65713</th>\n",
       "      <td>36728631</td>\n",
       "      <td>Steve Bennett</td>\n",
       "    </tr>\n",
       "    <tr>\n",
       "      <th>65714</th>\n",
       "      <td>36728631</td>\n",
       "      <td>Elon Musk</td>\n",
       "    </tr>\n",
       "    <tr>\n",
       "      <th>65715</th>\n",
       "      <td>53632446</td>\n",
       "      <td>Oliver Dowden</td>\n",
       "    </tr>\n",
       "    <tr>\n",
       "      <th>65716</th>\n",
       "      <td>53632446</td>\n",
       "      <td>João Dória</td>\n",
       "    </tr>\n",
       "  </tbody>\n",
       "</table>\n",
       "</div>"
      ],
      "text/plain": [
       "             id               name\n",
       "65696  53631101       Dominic Raab\n",
       "65697  53631101        Priti Patel\n",
       "65698  53622574          Josephine\n",
       "65699  53622574  Chang Heung - Lin\n",
       "65700  53622574       Dominic Raab\n",
       "65701  53622574        Priti Patel\n",
       "65702  36728631     Julian Guthrie\n",
       "65703  36728631     Julian Guthrie\n",
       "65704  36728631    Peter Diamandis\n",
       "65705  36728631         Jeff Bezos\n",
       "65706  36728631          Elon Musk\n",
       "65707  36728631    Richard Branson\n",
       "65708  36728631    Peter Diamandis\n",
       "65709  36728631    Richard Branson\n",
       "65710  36728631         Jeff Bezos\n",
       "65711  36728631         Burt Rutan\n",
       "65712  36728631    Dumitru Popescu\n",
       "65713  36728631      Steve Bennett\n",
       "65714  36728631          Elon Musk\n",
       "65715  53632446      Oliver Dowden\n",
       "65716  53632446       João Dória"
      ]
     },
     "execution_count": 632,
     "metadata": {},
     "output_type": "execute_result"
    }
   ],
   "source": [
    "i = 65706\n",
    "print(f'Repeated name: {df.loc[i][\"name\"]}')\n",
    "print(f'In article: {df.loc[i][\"id\"]}')\n",
    "df.loc[i-10:i+10]"
   ]
  },
  {
   "cell_type": "code",
   "execution_count": 633,
   "id": "fee5a471-2f9a-40f3-b679-ea06ff7512d5",
   "metadata": {},
   "outputs": [
    {
     "name": "stdout",
     "output_type": "stream",
     "text": [
      "Repeated name: Donald Trump\n",
      "In article: 62463689\n"
     ]
    },
    {
     "data": {
      "text/html": [
       "<div>\n",
       "<style scoped>\n",
       "    .dataframe tbody tr th:only-of-type {\n",
       "        vertical-align: middle;\n",
       "    }\n",
       "\n",
       "    .dataframe tbody tr th {\n",
       "        vertical-align: top;\n",
       "    }\n",
       "\n",
       "    .dataframe thead th {\n",
       "        text-align: right;\n",
       "    }\n",
       "</style>\n",
       "<table border=\"1\" class=\"dataframe\">\n",
       "  <thead>\n",
       "    <tr style=\"text-align: right;\">\n",
       "      <th></th>\n",
       "      <th>id</th>\n",
       "      <th>name</th>\n",
       "    </tr>\n",
       "  </thead>\n",
       "  <tbody>\n",
       "    <tr>\n",
       "      <th>41459</th>\n",
       "      <td>62462074</td>\n",
       "      <td>Mahmoud Abbas</td>\n",
       "    </tr>\n",
       "    <tr>\n",
       "      <th>41460</th>\n",
       "      <td>62462074</td>\n",
       "      <td>Jesus</td>\n",
       "    </tr>\n",
       "    <tr>\n",
       "      <th>41461</th>\n",
       "      <td>62462074</td>\n",
       "      <td>Simon Rishmawi</td>\n",
       "    </tr>\n",
       "    <tr>\n",
       "      <th>41462</th>\n",
       "      <td>62462074</td>\n",
       "      <td>Miral Assaf</td>\n",
       "    </tr>\n",
       "    <tr>\n",
       "      <th>41463</th>\n",
       "      <td>62462074</td>\n",
       "      <td>Shireen Abu Akleh</td>\n",
       "    </tr>\n",
       "    <tr>\n",
       "      <th>41464</th>\n",
       "      <td>62463146</td>\n",
       "      <td>Gergely Gulyas</td>\n",
       "    </tr>\n",
       "    <tr>\n",
       "      <th>41465</th>\n",
       "      <td>62463146</td>\n",
       "      <td>Viktor Orban</td>\n",
       "    </tr>\n",
       "    <tr>\n",
       "      <th>41466</th>\n",
       "      <td>62463146</td>\n",
       "      <td>Peter Szijjarto</td>\n",
       "    </tr>\n",
       "    <tr>\n",
       "      <th>41467</th>\n",
       "      <td>62463689</td>\n",
       "      <td>John Bolton</td>\n",
       "    </tr>\n",
       "    <tr>\n",
       "      <th>41468</th>\n",
       "      <td>62463689</td>\n",
       "      <td>Donald Trump</td>\n",
       "    </tr>\n",
       "    <tr>\n",
       "      <th>41469</th>\n",
       "      <td>62463689</td>\n",
       "      <td>Donald Trump</td>\n",
       "    </tr>\n",
       "    <tr>\n",
       "      <th>41470</th>\n",
       "      <td>62463689</td>\n",
       "      <td>Nicolás Maduro</td>\n",
       "    </tr>\n",
       "    <tr>\n",
       "      <th>41471</th>\n",
       "      <td>62463689</td>\n",
       "      <td>Juan Guaido</td>\n",
       "    </tr>\n",
       "    <tr>\n",
       "      <th>41472</th>\n",
       "      <td>62463689</td>\n",
       "      <td>Nicolás Maduro</td>\n",
       "    </tr>\n",
       "    <tr>\n",
       "      <th>41473</th>\n",
       "      <td>62463689</td>\n",
       "      <td>John Bolton</td>\n",
       "    </tr>\n",
       "    <tr>\n",
       "      <th>41474</th>\n",
       "      <td>62463689</td>\n",
       "      <td>Ronald Reagan</td>\n",
       "    </tr>\n",
       "    <tr>\n",
       "      <th>41475</th>\n",
       "      <td>62463689</td>\n",
       "      <td>George H</td>\n",
       "    </tr>\n",
       "    <tr>\n",
       "      <th>41476</th>\n",
       "      <td>62463689</td>\n",
       "      <td>Bush</td>\n",
       "    </tr>\n",
       "    <tr>\n",
       "      <th>41477</th>\n",
       "      <td>62463689</td>\n",
       "      <td>George W</td>\n",
       "    </tr>\n",
       "    <tr>\n",
       "      <th>41478</th>\n",
       "      <td>62463689</td>\n",
       "      <td>Bush</td>\n",
       "    </tr>\n",
       "    <tr>\n",
       "      <th>41479</th>\n",
       "      <td>58119452</td>\n",
       "      <td>Marcelo Queiroga</td>\n",
       "    </tr>\n",
       "  </tbody>\n",
       "</table>\n",
       "</div>"
      ],
      "text/plain": [
       "             id               name\n",
       "41459  62462074      Mahmoud Abbas\n",
       "41460  62462074              Jesus\n",
       "41461  62462074     Simon Rishmawi\n",
       "41462  62462074        Miral Assaf\n",
       "41463  62462074  Shireen Abu Akleh\n",
       "41464  62463146     Gergely Gulyas\n",
       "41465  62463146       Viktor Orban\n",
       "41466  62463146    Peter Szijjarto\n",
       "41467  62463689        John Bolton\n",
       "41468  62463689       Donald Trump\n",
       "41469  62463689       Donald Trump\n",
       "41470  62463689    Nicolás Maduro\n",
       "41471  62463689        Juan Guaido\n",
       "41472  62463689    Nicolás Maduro\n",
       "41473  62463689        John Bolton\n",
       "41474  62463689      Ronald Reagan\n",
       "41475  62463689           George H\n",
       "41476  62463689               Bush\n",
       "41477  62463689           George W\n",
       "41478  62463689               Bush\n",
       "41479  58119452   Marcelo Queiroga"
      ]
     },
     "execution_count": 633,
     "metadata": {},
     "output_type": "execute_result"
    }
   ],
   "source": [
    "i = 41469\n",
    "print(f'Repeated name: {df.loc[i][\"name\"]}')\n",
    "print(f'In article: {df.loc[i][\"id\"]}')\n",
    "df.loc[i-10:i+10]"
   ]
  },
  {
   "cell_type": "markdown",
   "id": "71c8abf1-4e24-4d06-862a-9db847f25166",
   "metadata": {},
   "source": [
    "Get the index of all repetead names (a.k.a. indexes we attempt to remove from the DataFrame) per sentence except for the first appareance."
   ]
  },
  {
   "cell_type": "markdown",
   "id": "e53a88ae-87de-4a52-8dfd-d09f6df68dfe",
   "metadata": {},
   "source": [
    "All indexes"
   ]
  },
  {
   "cell_type": "code",
   "execution_count": 634,
   "id": "fcc0741b-4a61-4221-8659-9a0b8459adb5",
   "metadata": {},
   "outputs": [
    {
     "data": {
      "text/html": [
       "<div>\n",
       "<style scoped>\n",
       "    .dataframe tbody tr th:only-of-type {\n",
       "        vertical-align: middle;\n",
       "    }\n",
       "\n",
       "    .dataframe tbody tr th {\n",
       "        vertical-align: top;\n",
       "    }\n",
       "\n",
       "    .dataframe thead th {\n",
       "        text-align: right;\n",
       "    }\n",
       "</style>\n",
       "<table border=\"1\" class=\"dataframe\">\n",
       "  <thead>\n",
       "    <tr style=\"text-align: right;\">\n",
       "      <th></th>\n",
       "      <th>id</th>\n",
       "      <th>name</th>\n",
       "    </tr>\n",
       "  </thead>\n",
       "  <tbody>\n",
       "    <tr>\n",
       "      <th>65706</th>\n",
       "      <td>36728631</td>\n",
       "      <td>Elon Musk</td>\n",
       "    </tr>\n",
       "    <tr>\n",
       "      <th>65714</th>\n",
       "      <td>36728631</td>\n",
       "      <td>Elon Musk</td>\n",
       "    </tr>\n",
       "    <tr>\n",
       "      <th>65705</th>\n",
       "      <td>36728631</td>\n",
       "      <td>Jeff Bezos</td>\n",
       "    </tr>\n",
       "    <tr>\n",
       "      <th>65710</th>\n",
       "      <td>36728631</td>\n",
       "      <td>Jeff Bezos</td>\n",
       "    </tr>\n",
       "    <tr>\n",
       "      <th>65702</th>\n",
       "      <td>36728631</td>\n",
       "      <td>Julian Guthrie</td>\n",
       "    </tr>\n",
       "    <tr>\n",
       "      <th>...</th>\n",
       "      <td>...</td>\n",
       "      <td>...</td>\n",
       "    </tr>\n",
       "    <tr>\n",
       "      <th>41469</th>\n",
       "      <td>62463689</td>\n",
       "      <td>Donald Trump</td>\n",
       "    </tr>\n",
       "    <tr>\n",
       "      <th>41467</th>\n",
       "      <td>62463689</td>\n",
       "      <td>John Bolton</td>\n",
       "    </tr>\n",
       "    <tr>\n",
       "      <th>41473</th>\n",
       "      <td>62463689</td>\n",
       "      <td>John Bolton</td>\n",
       "    </tr>\n",
       "    <tr>\n",
       "      <th>41470</th>\n",
       "      <td>62463689</td>\n",
       "      <td>Nicolás Maduro</td>\n",
       "    </tr>\n",
       "    <tr>\n",
       "      <th>41472</th>\n",
       "      <td>62463689</td>\n",
       "      <td>Nicolás Maduro</td>\n",
       "    </tr>\n",
       "  </tbody>\n",
       "</table>\n",
       "<p>17429 rows × 2 columns</p>\n",
       "</div>"
      ],
      "text/plain": [
       "             id             name\n",
       "65706  36728631        Elon Musk\n",
       "65714  36728631        Elon Musk\n",
       "65705  36728631       Jeff Bezos\n",
       "65710  36728631       Jeff Bezos\n",
       "65702  36728631   Julian Guthrie\n",
       "...         ...              ...\n",
       "41469  62463689     Donald Trump\n",
       "41467  62463689      John Bolton\n",
       "41473  62463689      John Bolton\n",
       "41470  62463689  Nicolás Maduro\n",
       "41472  62463689  Nicolás Maduro\n",
       "\n",
       "[17429 rows x 2 columns]"
      ]
     },
     "execution_count": 634,
     "metadata": {},
     "output_type": "execute_result"
    }
   ],
   "source": [
    "pd.concat(g for _, g in df.groupby(['id','name']) if len(g) > 1)"
   ]
  },
  {
   "cell_type": "markdown",
   "id": "a360ca94-5a3d-4bf2-96e0-bfe3c7cf4899",
   "metadata": {},
   "source": [
    "Target indexes"
   ]
  },
  {
   "cell_type": "code",
   "execution_count": 635,
   "id": "854fa057-084f-4c6a-9da5-1f63d4e64602",
   "metadata": {},
   "outputs": [
    {
     "data": {
      "text/html": [
       "<div>\n",
       "<style scoped>\n",
       "    .dataframe tbody tr th:only-of-type {\n",
       "        vertical-align: middle;\n",
       "    }\n",
       "\n",
       "    .dataframe tbody tr th {\n",
       "        vertical-align: top;\n",
       "    }\n",
       "\n",
       "    .dataframe thead th {\n",
       "        text-align: right;\n",
       "    }\n",
       "</style>\n",
       "<table border=\"1\" class=\"dataframe\">\n",
       "  <thead>\n",
       "    <tr style=\"text-align: right;\">\n",
       "      <th></th>\n",
       "      <th>id</th>\n",
       "      <th>name</th>\n",
       "    </tr>\n",
       "  </thead>\n",
       "  <tbody>\n",
       "    <tr>\n",
       "      <th>65714</th>\n",
       "      <td>36728631</td>\n",
       "      <td>Elon Musk</td>\n",
       "    </tr>\n",
       "    <tr>\n",
       "      <th>65710</th>\n",
       "      <td>36728631</td>\n",
       "      <td>Jeff Bezos</td>\n",
       "    </tr>\n",
       "    <tr>\n",
       "      <th>65703</th>\n",
       "      <td>36728631</td>\n",
       "      <td>Julian Guthrie</td>\n",
       "    </tr>\n",
       "    <tr>\n",
       "      <th>65708</th>\n",
       "      <td>36728631</td>\n",
       "      <td>Peter Diamandis</td>\n",
       "    </tr>\n",
       "    <tr>\n",
       "      <th>65709</th>\n",
       "      <td>36728631</td>\n",
       "      <td>Richard Branson</td>\n",
       "    </tr>\n",
       "    <tr>\n",
       "      <th>...</th>\n",
       "      <td>...</td>\n",
       "      <td>...</td>\n",
       "    </tr>\n",
       "    <tr>\n",
       "      <th>41446</th>\n",
       "      <td>62461496</td>\n",
       "      <td>Marcos do Val</td>\n",
       "    </tr>\n",
       "    <tr>\n",
       "      <th>41478</th>\n",
       "      <td>62463689</td>\n",
       "      <td>Bush</td>\n",
       "    </tr>\n",
       "    <tr>\n",
       "      <th>41469</th>\n",
       "      <td>62463689</td>\n",
       "      <td>Donald Trump</td>\n",
       "    </tr>\n",
       "    <tr>\n",
       "      <th>41473</th>\n",
       "      <td>62463689</td>\n",
       "      <td>John Bolton</td>\n",
       "    </tr>\n",
       "    <tr>\n",
       "      <th>41472</th>\n",
       "      <td>62463689</td>\n",
       "      <td>Nicolás Maduro</td>\n",
       "    </tr>\n",
       "  </tbody>\n",
       "</table>\n",
       "<p>10794 rows × 2 columns</p>\n",
       "</div>"
      ],
      "text/plain": [
       "             id             name\n",
       "65714  36728631        Elon Musk\n",
       "65710  36728631       Jeff Bezos\n",
       "65703  36728631   Julian Guthrie\n",
       "65708  36728631  Peter Diamandis\n",
       "65709  36728631  Richard Branson\n",
       "...         ...              ...\n",
       "41446  62461496    Marcos do Val\n",
       "41478  62463689             Bush\n",
       "41469  62463689     Donald Trump\n",
       "41473  62463689      John Bolton\n",
       "41472  62463689  Nicolás Maduro\n",
       "\n",
       "[10794 rows x 2 columns]"
      ]
     },
     "execution_count": 635,
     "metadata": {},
     "output_type": "execute_result"
    }
   ],
   "source": [
    "pd.concat(g.iloc[1:] for _, g in df.groupby(['id','name']) if len(g) > 1)"
   ]
  },
  {
   "cell_type": "markdown",
   "id": "9b958f42-e448-4686-b5ad-490c20c40823",
   "metadata": {},
   "source": [
    "Save the indexes"
   ]
  },
  {
   "cell_type": "code",
   "execution_count": 636,
   "id": "25ecd87e-a810-4ae3-aa3a-e8d3316c7ee8",
   "metadata": {},
   "outputs": [
    {
     "data": {
      "text/plain": [
       "Int64Index([65714, 65710, 65703, 65708, 65709, 54954, 54946, 54947, 54948,\n",
       "            54951,\n",
       "            ...\n",
       "            41430, 41433, 41436, 41437, 41440, 41446, 41478, 41469, 41473,\n",
       "            41472],\n",
       "           dtype='int64', length=10794)"
      ]
     },
     "execution_count": 636,
     "metadata": {},
     "output_type": "execute_result"
    }
   ],
   "source": [
    "indexes = pd.concat(g.iloc[1:] for _, g in df.groupby(['id','name']) if len(g) > 1).index\n",
    "indexes"
   ]
  },
  {
   "cell_type": "markdown",
   "id": "6d7f1aff-a31c-40ea-8cff-c6fd3449818a",
   "metadata": {},
   "source": [
    "Remove indexes"
   ]
  },
  {
   "cell_type": "code",
   "execution_count": 637,
   "id": "dee15b35-54a5-4a49-98f6-0217c841f597",
   "metadata": {},
   "outputs": [],
   "source": [
    "df = df.drop(index=indexes).reset_index(drop=True)"
   ]
  },
  {
   "cell_type": "markdown",
   "id": "d0842c1e-5c61-40b8-8174-e88de222c8a3",
   "metadata": {},
   "source": [
    "Check results"
   ]
  },
  {
   "cell_type": "code",
   "execution_count": 640,
   "id": "fc1cf281-e23c-4515-aa86-9fd8ebab0aec",
   "metadata": {},
   "outputs": [
    {
     "data": {
      "text/html": [
       "<div>\n",
       "<style scoped>\n",
       "    .dataframe tbody tr th:only-of-type {\n",
       "        vertical-align: middle;\n",
       "    }\n",
       "\n",
       "    .dataframe tbody tr th {\n",
       "        vertical-align: top;\n",
       "    }\n",
       "\n",
       "    .dataframe thead th {\n",
       "        text-align: right;\n",
       "    }\n",
       "</style>\n",
       "<table border=\"1\" class=\"dataframe\">\n",
       "  <thead>\n",
       "    <tr style=\"text-align: right;\">\n",
       "      <th></th>\n",
       "      <th>id</th>\n",
       "      <th>name</th>\n",
       "    </tr>\n",
       "  </thead>\n",
       "  <tbody>\n",
       "    <tr>\n",
       "      <th>0</th>\n",
       "      <td>54006424</td>\n",
       "      <td>Clemens Tönnies</td>\n",
       "    </tr>\n",
       "    <tr>\n",
       "      <th>1</th>\n",
       "      <td>54006424</td>\n",
       "      <td>Gerald Asamoah</td>\n",
       "    </tr>\n",
       "    <tr>\n",
       "      <th>2</th>\n",
       "      <td>54006424</td>\n",
       "      <td>Hans Sarpei</td>\n",
       "    </tr>\n",
       "    <tr>\n",
       "      <th>3</th>\n",
       "      <td>54006424</td>\n",
       "      <td>Cacau</td>\n",
       "    </tr>\n",
       "    <tr>\n",
       "      <th>4</th>\n",
       "      <td>54003004</td>\n",
       "      <td>Angela Merkel</td>\n",
       "    </tr>\n",
       "    <tr>\n",
       "      <th>5</th>\n",
       "      <td>54003004</td>\n",
       "      <td>Emmanuel Macron</td>\n",
       "    </tr>\n",
       "    <tr>\n",
       "      <th>6</th>\n",
       "      <td>54003004</td>\n",
       "      <td>Olaf Scholz</td>\n",
       "    </tr>\n",
       "    <tr>\n",
       "      <th>7</th>\n",
       "      <td>54003004</td>\n",
       "      <td>Alexander Hamilton</td>\n",
       "    </tr>\n",
       "    <tr>\n",
       "      <th>8</th>\n",
       "      <td>54003004</td>\n",
       "      <td>Christine Lagarde</td>\n",
       "    </tr>\n",
       "    <tr>\n",
       "      <th>9</th>\n",
       "      <td>54003004</td>\n",
       "      <td>Ursula von der Leyen</td>\n",
       "    </tr>\n",
       "    <tr>\n",
       "      <th>10</th>\n",
       "      <td>54003004</td>\n",
       "      <td>Robert Schuman</td>\n",
       "    </tr>\n",
       "    <tr>\n",
       "      <th>11</th>\n",
       "      <td>54009380</td>\n",
       "      <td>Lícia D ́Ávila</td>\n",
       "    </tr>\n",
       "    <tr>\n",
       "      <th>12</th>\n",
       "      <td>54009380</td>\n",
       "      <td>James Webb</td>\n",
       "    </tr>\n",
       "    <tr>\n",
       "      <th>13</th>\n",
       "      <td>54008153</td>\n",
       "      <td>Xi Jinping</td>\n",
       "    </tr>\n",
       "    <tr>\n",
       "      <th>14</th>\n",
       "      <td>54008153</td>\n",
       "      <td>Zhang Xiaoming</td>\n",
       "    </tr>\n",
       "    <tr>\n",
       "      <th>15</th>\n",
       "      <td>54008153</td>\n",
       "      <td>Carrie Lam</td>\n",
       "    </tr>\n",
       "    <tr>\n",
       "      <th>16</th>\n",
       "      <td>54008153</td>\n",
       "      <td>Mike Pompeo</td>\n",
       "    </tr>\n",
       "    <tr>\n",
       "      <th>17</th>\n",
       "      <td>54009331</td>\n",
       "      <td>Donald Trump</td>\n",
       "    </tr>\n",
       "    <tr>\n",
       "      <th>18</th>\n",
       "      <td>54009331</td>\n",
       "      <td>Mark Esper</td>\n",
       "    </tr>\n",
       "    <tr>\n",
       "      <th>19</th>\n",
       "      <td>54009331</td>\n",
       "      <td>Mark Milley</td>\n",
       "    </tr>\n",
       "  </tbody>\n",
       "</table>\n",
       "</div>"
      ],
      "text/plain": [
       "          id                  name\n",
       "0   54006424      Clemens Tönnies\n",
       "1   54006424        Gerald Asamoah\n",
       "2   54006424           Hans Sarpei\n",
       "3   54006424                 Cacau\n",
       "4   54003004         Angela Merkel\n",
       "5   54003004       Emmanuel Macron\n",
       "6   54003004           Olaf Scholz\n",
       "7   54003004    Alexander Hamilton\n",
       "8   54003004     Christine Lagarde\n",
       "9   54003004  Ursula von der Leyen\n",
       "10  54003004        Robert Schuman\n",
       "11  54009380      Lícia D ́Ávila\n",
       "12  54009380            James Webb\n",
       "13  54008153            Xi Jinping\n",
       "14  54008153        Zhang Xiaoming\n",
       "15  54008153            Carrie Lam\n",
       "16  54008153           Mike Pompeo\n",
       "17  54009331          Donald Trump\n",
       "18  54009331            Mark Esper\n",
       "19  54009331           Mark Milley"
      ]
     },
     "execution_count": 640,
     "metadata": {},
     "output_type": "execute_result"
    }
   ],
   "source": [
    "df.head(20)"
   ]
  },
  {
   "cell_type": "markdown",
   "id": "a3f7b177-effd-4702-bd20-1442a898ef03",
   "metadata": {},
   "source": [
    "Confirm result"
   ]
  },
  {
   "cell_type": "code",
   "execution_count": 642,
   "id": "d979a8e8-77c6-4537-8a19-b5157a414037",
   "metadata": {},
   "outputs": [
    {
     "data": {
      "text/plain": [
       "[]"
      ]
     },
     "execution_count": 642,
     "metadata": {},
     "output_type": "execute_result"
    }
   ],
   "source": [
    "[g for _, g in df.groupby(['id','name']) if len(g) > 1]"
   ]
  },
  {
   "cell_type": "code",
   "execution_count": 643,
   "id": "cbbbbeeb-e2bd-4d70-bc6d-a36fa3ce61c9",
   "metadata": {},
   "outputs": [
    {
     "name": "stdout",
     "output_type": "stream",
     "text": [
      "<class 'pandas.core.frame.DataFrame'>\n",
      "RangeIndex: 57269 entries, 0 to 57268\n",
      "Data columns (total 2 columns):\n",
      " #   Column  Non-Null Count  Dtype \n",
      "---  ------  --------------  ----- \n",
      " 0   id      57269 non-null  int64 \n",
      " 1   name    57269 non-null  object\n",
      "dtypes: int64(1), object(1)\n",
      "memory usage: 895.0+ KB\n"
     ]
    }
   ],
   "source": [
    "df.info()"
   ]
  },
  {
   "cell_type": "markdown",
   "id": "ce6d09a8-1c4f-4290-8b9f-db702e74e971",
   "metadata": {},
   "source": [
    "## Save"
   ]
  },
  {
   "cell_type": "code",
   "execution_count": 645,
   "id": "d5f96d32-d79e-4956-9767-205440d8014a",
   "metadata": {},
   "outputs": [],
   "source": [
    "outputdir = Path.cwd()\n",
    "filename = 'portuguese_articles_and_names_v3.csv'\n",
    "df.to_csv(outputdir/filename, index=False)"
   ]
  },
  {
   "cell_type": "markdown",
   "id": "5d41f28b-06bd-4bfb-957c-56d0e4fbcc7a",
   "metadata": {},
   "source": [
    "## Read"
   ]
  },
  {
   "cell_type": "code",
   "execution_count": 646,
   "id": "9324e1ae-d50d-49fb-a83f-61f56fe0ccb1",
   "metadata": {},
   "outputs": [],
   "source": [
    "inputdir = Path.cwd()\n",
    "filename = 'portuguese_articles_and_names_v3.csv'\n",
    "dtype={'id':int,\n",
    "       'name':str\n",
    "       }\n",
    "df = pd.read_csv(inputdir/filename, dtype=dtype)"
   ]
  },
  {
   "cell_type": "code",
   "execution_count": 647,
   "id": "c0b9efa3-ae2e-4e30-bab8-234c8a03e54f",
   "metadata": {},
   "outputs": [
    {
     "data": {
      "text/html": [
       "<div>\n",
       "<style scoped>\n",
       "    .dataframe tbody tr th:only-of-type {\n",
       "        vertical-align: middle;\n",
       "    }\n",
       "\n",
       "    .dataframe tbody tr th {\n",
       "        vertical-align: top;\n",
       "    }\n",
       "\n",
       "    .dataframe thead th {\n",
       "        text-align: right;\n",
       "    }\n",
       "</style>\n",
       "<table border=\"1\" class=\"dataframe\">\n",
       "  <thead>\n",
       "    <tr style=\"text-align: right;\">\n",
       "      <th></th>\n",
       "      <th>id</th>\n",
       "      <th>name</th>\n",
       "    </tr>\n",
       "  </thead>\n",
       "  <tbody>\n",
       "    <tr>\n",
       "      <th>0</th>\n",
       "      <td>54006424</td>\n",
       "      <td>Clemens Tönnies</td>\n",
       "    </tr>\n",
       "    <tr>\n",
       "      <th>1</th>\n",
       "      <td>54006424</td>\n",
       "      <td>Gerald Asamoah</td>\n",
       "    </tr>\n",
       "    <tr>\n",
       "      <th>2</th>\n",
       "      <td>54006424</td>\n",
       "      <td>Hans Sarpei</td>\n",
       "    </tr>\n",
       "    <tr>\n",
       "      <th>3</th>\n",
       "      <td>54006424</td>\n",
       "      <td>Cacau</td>\n",
       "    </tr>\n",
       "    <tr>\n",
       "      <th>4</th>\n",
       "      <td>54003004</td>\n",
       "      <td>Angela Merkel</td>\n",
       "    </tr>\n",
       "    <tr>\n",
       "      <th>...</th>\n",
       "      <td>...</td>\n",
       "      <td>...</td>\n",
       "    </tr>\n",
       "    <tr>\n",
       "      <th>57264</th>\n",
       "      <td>54006072</td>\n",
       "      <td>Paulo</td>\n",
       "    </tr>\n",
       "    <tr>\n",
       "      <th>57265</th>\n",
       "      <td>54006072</td>\n",
       "      <td>Anderson Correia</td>\n",
       "    </tr>\n",
       "    <tr>\n",
       "      <th>57266</th>\n",
       "      <td>54006072</td>\n",
       "      <td>Renato Feder</td>\n",
       "    </tr>\n",
       "    <tr>\n",
       "      <th>57267</th>\n",
       "      <td>54006072</td>\n",
       "      <td>Sérgio</td>\n",
       "    </tr>\n",
       "    <tr>\n",
       "      <th>57268</th>\n",
       "      <td>54006072</td>\n",
       "      <td>Freitas</td>\n",
       "    </tr>\n",
       "  </tbody>\n",
       "</table>\n",
       "<p>57269 rows × 2 columns</p>\n",
       "</div>"
      ],
      "text/plain": [
       "             id              name\n",
       "0      54006424  Clemens Tönnies\n",
       "1      54006424    Gerald Asamoah\n",
       "2      54006424       Hans Sarpei\n",
       "3      54006424             Cacau\n",
       "4      54003004     Angela Merkel\n",
       "...         ...               ...\n",
       "57264  54006072             Paulo\n",
       "57265  54006072  Anderson Correia\n",
       "57266  54006072      Renato Feder\n",
       "57267  54006072           Sérgio\n",
       "57268  54006072           Freitas\n",
       "\n",
       "[57269 rows x 2 columns]"
      ]
     },
     "execution_count": 647,
     "metadata": {},
     "output_type": "execute_result"
    }
   ],
   "source": [
    "df"
   ]
  }
 ],
 "metadata": {
  "kernelspec": {
   "display_name": "Python 3 (ipykernel)",
   "language": "python",
   "name": "python3"
  },
  "language_info": {
   "codemirror_mode": {
    "name": "ipython",
    "version": 3
   },
   "file_extension": ".py",
   "mimetype": "text/x-python",
   "name": "python",
   "nbconvert_exporter": "python",
   "pygments_lexer": "ipython3",
   "version": "3.10.6"
  }
 },
 "nbformat": 4,
 "nbformat_minor": 5
}
