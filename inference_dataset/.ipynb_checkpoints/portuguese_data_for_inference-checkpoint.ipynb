{
 "cells": [
  {
   "cell_type": "markdown",
   "id": "258f6661-fda0-44a5-b379-3afa1fd7d2e6",
   "metadata": {},
   "source": [
    "# - Portuguese Data for Inference -"
   ]
  },
  {
   "cell_type": "markdown",
   "id": "902037aa-5a8b-4f97-9884-1178d00ecdf7",
   "metadata": {},
   "source": [
    "# Imports"
   ]
  },
  {
   "cell_type": "code",
   "execution_count": 1,
   "id": "d9727dfa-27aa-4ab4-a395-020760ec1bfa",
   "metadata": {},
   "outputs": [
    {
     "data": {
      "application/javascript": [
       "IPython.notebook.set_autosave_interval(60000)"
      ]
     },
     "metadata": {},
     "output_type": "display_data"
    },
    {
     "name": "stdout",
     "output_type": "stream",
     "text": [
      "Autosaving every 60 seconds\n"
     ]
    }
   ],
   "source": [
    "%autosave 60"
   ]
  },
  {
   "cell_type": "code",
   "execution_count": 2,
   "id": "4db7588d-8793-4425-9e80-64d9516b4124",
   "metadata": {},
   "outputs": [],
   "source": [
    "import pickle\n",
    "from pathlib import Path\n",
    "from dataclasses import dataclass, field\n",
    "from tqdm import tqdm\n",
    "import transformers # conda install tensorflow\n",
    "#from transformers import pipeline, AutoTokenizer, AutoModelForTokenClassification\n",
    "from IPython.display import display, HTML\n",
    "from collections import deque\n",
    "from multiprocessing import Pool\n",
    "import os\n",
    "from functools import partial\n",
    "import pandas as pd\n",
    "import numpy as np\n",
    "import matplotlib.pyplot as plt\n",
    "\n",
    "# Needed to train the model\n",
    "#from datasets import Dataset,DatasetDict\n",
    "#from transformers import AutoModelForSequenceClassification,AutoTokenizer"
   ]
  },
  {
   "cell_type": "markdown",
   "id": "88520f8d-a786-4db9-a9a2-65c08d754cc2",
   "metadata": {
    "tags": []
   },
   "source": [
    "# Read original article data (including sentences with no names in it) "
   ]
  },
  {
   "cell_type": "code",
   "execution_count": 3,
   "id": "25e48e79-7281-4c19-b8ee-54944dd4188a",
   "metadata": {},
   "outputs": [],
   "source": [
    "inputdir = Path('/home/stefano')\n",
    "filename = Path('portuguese_sentences_with_names.csv')\n",
    "dtype={'id':int,\n",
    "       'language':str,\n",
    "       'sentence':str,\n",
    "       'name':str\n",
    "       }\n",
    "\n",
    "original = pd.read_csv(inputdir/filename, dtype=dtype).fillna('')\n",
    "original = original.drop(columns=['language']) # drop redundant column"
   ]
  },
  {
   "cell_type": "code",
   "execution_count": 4,
   "id": "c28b7daf-41df-4b2b-b345-db2760026fca",
   "metadata": {},
   "outputs": [
    {
     "data": {
      "text/html": [
       "<div>\n",
       "<style scoped>\n",
       "    .dataframe tbody tr th:only-of-type {\n",
       "        vertical-align: middle;\n",
       "    }\n",
       "\n",
       "    .dataframe tbody tr th {\n",
       "        vertical-align: top;\n",
       "    }\n",
       "\n",
       "    .dataframe thead th {\n",
       "        text-align: right;\n",
       "    }\n",
       "</style>\n",
       "<table border=\"1\" class=\"dataframe\">\n",
       "  <thead>\n",
       "    <tr style=\"text-align: right;\">\n",
       "      <th></th>\n",
       "      <th>id</th>\n",
       "      <th>sentence</th>\n",
       "      <th>name</th>\n",
       "    </tr>\n",
       "  </thead>\n",
       "  <tbody>\n",
       "    <tr>\n",
       "      <th>0</th>\n",
       "      <td>54006424</td>\n",
       "      <td>O presidente do FC Schalke 04 e proprietário ...</td>\n",
       "      <td>Clemens Tönnies</td>\n",
       "    </tr>\n",
       "    <tr>\n",
       "      <th>1</th>\n",
       "      <td>54006424</td>\n",
       "      <td>O Schalke não conseguiu nenhuma vitória nos ...</td>\n",
       "      <td></td>\n",
       "    </tr>\n",
       "    <tr>\n",
       "      <th>2</th>\n",
       "      <td>54006424</td>\n",
       "      <td>A equipe dos \"azuis-reais\" terminou o campeona...</td>\n",
       "      <td></td>\n",
       "    </tr>\n",
       "    <tr>\n",
       "      <th>3</th>\n",
       "      <td>54006424</td>\n",
       "      <td>A participação em uma dessas grandes competi...</td>\n",
       "      <td></td>\n",
       "    </tr>\n",
       "    <tr>\n",
       "      <th>4</th>\n",
       "      <td>54006424</td>\n",
       "      <td>Tönnies foi amplamente criticado no ano passa...</td>\n",
       "      <td></td>\n",
       "    </tr>\n",
       "    <tr>\n",
       "      <th>...</th>\n",
       "      <td>...</td>\n",
       "      <td>...</td>\n",
       "      <td>...</td>\n",
       "    </tr>\n",
       "    <tr>\n",
       "      <th>386070</th>\n",
       "      <td>54006316</td>\n",
       "      <td>Na avaliação por grupo de 100 mil habitantes...</td>\n",
       "      <td></td>\n",
       "    </tr>\n",
       "    <tr>\n",
       "      <th>386071</th>\n",
       "      <td>54006316</td>\n",
       "      <td>O Rio de Janeiro, a segunda unidade da federac...</td>\n",
       "      <td></td>\n",
       "    </tr>\n",
       "    <tr>\n",
       "      <th>386072</th>\n",
       "      <td>54006316</td>\n",
       "      <td>O estado mais afetado continua sendo São Paul...</td>\n",
       "      <td></td>\n",
       "    </tr>\n",
       "    <tr>\n",
       "      <th>386073</th>\n",
       "      <td>54006316</td>\n",
       "      <td>Em números acumulados, o Brasil tem 790.040 p...</td>\n",
       "      <td></td>\n",
       "    </tr>\n",
       "    <tr>\n",
       "      <th>386074</th>\n",
       "      <td>54006316</td>\n",
       "      <td>Entretanto, diversas autoridades e instituiço...</td>\n",
       "      <td></td>\n",
       "    </tr>\n",
       "  </tbody>\n",
       "</table>\n",
       "<p>386075 rows × 3 columns</p>\n",
       "</div>"
      ],
      "text/plain": [
       "              id                                           sentence  \\\n",
       "0       54006424  O presidente do FC Schalke 04 e proprietário ...   \n",
       "1       54006424  O Schalke não conseguiu nenhuma vitória nos ...   \n",
       "2       54006424  A equipe dos \"azuis-reais\" terminou o campeona...   \n",
       "3       54006424  A participação em uma dessas grandes competi...   \n",
       "4       54006424  Tönnies foi amplamente criticado no ano passa...   \n",
       "...          ...                                                ...   \n",
       "386070  54006316  Na avaliação por grupo de 100 mil habitantes...   \n",
       "386071  54006316  O Rio de Janeiro, a segunda unidade da federac...   \n",
       "386072  54006316  O estado mais afetado continua sendo São Paul...   \n",
       "386073  54006316  Em números acumulados, o Brasil tem 790.040 p...   \n",
       "386074  54006316  Entretanto, diversas autoridades e instituiço...   \n",
       "\n",
       "                    name  \n",
       "0       Clemens Tönnies  \n",
       "1                         \n",
       "2                         \n",
       "3                         \n",
       "4                         \n",
       "...                  ...  \n",
       "386070                    \n",
       "386071                    \n",
       "386072                    \n",
       "386073                    \n",
       "386074                    \n",
       "\n",
       "[386075 rows x 3 columns]"
      ]
     },
     "execution_count": 4,
     "metadata": {},
     "output_type": "execute_result"
    }
   ],
   "source": [
    "original"
   ]
  },
  {
   "cell_type": "code",
   "execution_count": 5,
   "id": "4da681d2-e655-4b20-9468-84543ac27d0a",
   "metadata": {},
   "outputs": [
    {
     "data": {
      "text/plain": [
       "11592"
      ]
     },
     "execution_count": 5,
     "metadata": {},
     "output_type": "execute_result"
    }
   ],
   "source": [
    "original.id.unique().size"
   ]
  },
  {
   "cell_type": "markdown",
   "id": "9424e3dc-91c8-4493-9b96-12e142e01456",
   "metadata": {},
   "source": [
    "# Extract full text of the articles"
   ]
  },
  {
   "cell_type": "markdown",
   "id": "311e049b-778a-4e84-b49b-a3273b9e4ddc",
   "metadata": {},
   "source": [
    "Concatenate the sentences in an article to extract the full text of the article all together"
   ]
  },
  {
   "cell_type": "markdown",
   "id": "0f9c6849-b937-477c-b836-581a89e5041a",
   "metadata": {},
   "source": [
    "*Note that the data `original` may have duplucated sentences per article (when that sentence has multiple names in it). However, the sentences are still in the same order as they appear in the original text. That order is preserved when using the method `unique` of the DataFrame."
   ]
  },
  {
   "cell_type": "code",
   "execution_count": 6,
   "id": "053f773b-e347-4430-a8a6-5243bec0d660",
   "metadata": {},
   "outputs": [],
   "source": [
    "full_texts = original.groupby(['id']).agg({'sentence':lambda x: ' '.join(x.unique())})"
   ]
  },
  {
   "cell_type": "code",
   "execution_count": 7,
   "id": "449d2298-cb3f-492b-85d5-11a9e9aecdba",
   "metadata": {},
   "outputs": [],
   "source": [
    "full_texts = full_texts.rename(columns = {'sentence':'full_text'})"
   ]
  },
  {
   "cell_type": "code",
   "execution_count": 8,
   "id": "4eb102c7-fc7f-4017-bf47-92fe366f25c2",
   "metadata": {},
   "outputs": [],
   "source": [
    "full_texts = full_texts.reset_index()"
   ]
  },
  {
   "cell_type": "code",
   "execution_count": 9,
   "id": "e671caff-8530-4416-85cc-4da93603abbe",
   "metadata": {},
   "outputs": [
    {
     "data": {
      "text/html": [
       "<div>\n",
       "<style scoped>\n",
       "    .dataframe tbody tr th:only-of-type {\n",
       "        vertical-align: middle;\n",
       "    }\n",
       "\n",
       "    .dataframe tbody tr th {\n",
       "        vertical-align: top;\n",
       "    }\n",
       "\n",
       "    .dataframe thead th {\n",
       "        text-align: right;\n",
       "    }\n",
       "</style>\n",
       "<table border=\"1\" class=\"dataframe\">\n",
       "  <thead>\n",
       "    <tr style=\"text-align: right;\">\n",
       "      <th></th>\n",
       "      <th>id</th>\n",
       "      <th>full_text</th>\n",
       "    </tr>\n",
       "  </thead>\n",
       "  <tbody>\n",
       "    <tr>\n",
       "      <th>0</th>\n",
       "      <td>36728631</td>\n",
       "      <td>Muitas pessoas, frequentemente trabalhando em ...</td>\n",
       "    </tr>\n",
       "    <tr>\n",
       "      <th>1</th>\n",
       "      <td>51740080</td>\n",
       "      <td>Com o objetivo de ampliar sua presença na Ama...</td>\n",
       "    </tr>\n",
       "    <tr>\n",
       "      <th>2</th>\n",
       "      <td>51846913</td>\n",
       "      <td>\"O populista Donald Trump e o extremista de di...</td>\n",
       "    </tr>\n",
       "    <tr>\n",
       "      <th>3</th>\n",
       "      <td>51850454</td>\n",
       "      <td>Quando Jair Messias Bolsonaro recebeu, no dia ...</td>\n",
       "    </tr>\n",
       "    <tr>\n",
       "      <th>4</th>\n",
       "      <td>51850907</td>\n",
       "      <td>Um incêndio na madrugada desta quarta-feira (...</td>\n",
       "    </tr>\n",
       "    <tr>\n",
       "      <th>...</th>\n",
       "      <td>...</td>\n",
       "      <td>...</td>\n",
       "    </tr>\n",
       "    <tr>\n",
       "      <th>11587</th>\n",
       "      <td>62461355</td>\n",
       "      <td>A comissão parlamentar que investiga a invasa...</td>\n",
       "    </tr>\n",
       "    <tr>\n",
       "      <th>11588</th>\n",
       "      <td>62461496</td>\n",
       "      <td>O Congresso derrubou, nesta terça-feira (12/7...</td>\n",
       "    </tr>\n",
       "    <tr>\n",
       "      <th>11589</th>\n",
       "      <td>62462074</td>\n",
       "      <td>Dias antes da visita do presidente dos Estados...</td>\n",
       "    </tr>\n",
       "    <tr>\n",
       "      <th>11590</th>\n",
       "      <td>62463146</td>\n",
       "      <td>O governo da Hungriadeclarou nesta quarta-feir...</td>\n",
       "    </tr>\n",
       "    <tr>\n",
       "      <th>11591</th>\n",
       "      <td>62463689</td>\n",
       "      <td>John Bolton, ex-assessor de segurança naciona...</td>\n",
       "    </tr>\n",
       "  </tbody>\n",
       "</table>\n",
       "<p>11592 rows × 2 columns</p>\n",
       "</div>"
      ],
      "text/plain": [
       "             id                                          full_text\n",
       "0      36728631  Muitas pessoas, frequentemente trabalhando em ...\n",
       "1      51740080  Com o objetivo de ampliar sua presença na Ama...\n",
       "2      51846913  \"O populista Donald Trump e o extremista de di...\n",
       "3      51850454  Quando Jair Messias Bolsonaro recebeu, no dia ...\n",
       "4      51850907  Um incêndio na madrugada desta quarta-feira (...\n",
       "...         ...                                                ...\n",
       "11587  62461355  A comissão parlamentar que investiga a invasa...\n",
       "11588  62461496  O Congresso derrubou, nesta terça-feira (12/7...\n",
       "11589  62462074  Dias antes da visita do presidente dos Estados...\n",
       "11590  62463146  O governo da Hungriadeclarou nesta quarta-feir...\n",
       "11591  62463689  John Bolton, ex-assessor de segurança naciona...\n",
       "\n",
       "[11592 rows x 2 columns]"
      ]
     },
     "execution_count": 9,
     "metadata": {},
     "output_type": "execute_result"
    }
   ],
   "source": [
    "full_texts"
   ]
  },
  {
   "cell_type": "markdown",
   "id": "1f619b83-bc01-41f5-9211-28eb8294e338",
   "metadata": {},
   "source": [
    "## Explore the data"
   ]
  },
  {
   "cell_type": "code",
   "execution_count": 10,
   "id": "8fea0adf-9abb-4089-8866-98d11c6f1fba",
   "metadata": {},
   "outputs": [],
   "source": [
    "full_texts['article_length'] = full_texts.full_text.apply(len)"
   ]
  },
  {
   "cell_type": "code",
   "execution_count": 11,
   "id": "4924f4a6-a855-407c-8573-c4a208990968",
   "metadata": {},
   "outputs": [
    {
     "data": {
      "text/plain": [
       "count    11592.000000\n",
       "mean      4447.650362\n",
       "std       2675.679618\n",
       "min         39.000000\n",
       "25%       2789.000000\n",
       "50%       3910.000000\n",
       "75%       5485.000000\n",
       "max      68140.000000\n",
       "Name: article_length, dtype: float64"
      ]
     },
     "execution_count": 11,
     "metadata": {},
     "output_type": "execute_result"
    }
   ],
   "source": [
    "full_texts.article_length.describe()"
   ]
  },
  {
   "cell_type": "code",
   "execution_count": 12,
   "id": "8bb759b9-b869-45fb-89c2-c4418235a375",
   "metadata": {},
   "outputs": [
    {
     "data": {
      "text/plain": [
       "<AxesSubplot:>"
      ]
     },
     "execution_count": 12,
     "metadata": {},
     "output_type": "execute_result"
    },
    {
     "data": {
      "image/png": "[encoded data removed]",
      "text/plain": [
       "<Figure size 640x480 with 1 Axes>"
      ]
     },
     "metadata": {},
     "output_type": "display_data"
    }
   ],
   "source": [
    "full_texts.article_length.hist()"
   ]
  },
  {
   "cell_type": "code",
   "execution_count": 13,
   "id": "1f539c25-4c69-46e6-8133-b6994c67d285",
   "metadata": {},
   "outputs": [
    {
     "data": {
      "text/plain": [
       "<matplotlib.lines.Line2D at 0x7fe907c1da20>"
      ]
     },
     "execution_count": 13,
     "metadata": {},
     "output_type": "execute_result"
    },
    {
     "data": {
      "image/png": "[encoded data removed]",
      "text/plain": [
       "<Figure size 640x480 with 1 Axes>"
      ]
     },
     "metadata": {},
     "output_type": "display_data"
    }
   ],
   "source": [
    "fig, ax = plt.subplots()\n",
    "bins=np.arange(0,70_000,100)\n",
    "full_texts.article_length.hist(bins=bins, ax=ax)\n",
    "\n",
    "too_long_article = 13_000\n",
    "ax.axvline(too_long_article, color='r', ls='--')"
   ]
  },
  {
   "cell_type": "markdown",
   "id": "ab41be9a-3a60-469c-9ecc-cc97583e0806",
   "metadata": {},
   "source": [
    "## Remove too long and too short articles (outliers)"
   ]
  },
  {
   "cell_type": "code",
   "execution_count": 14,
   "id": "fd05ecea-bdc2-47a8-b788-b8067ac91e19",
   "metadata": {},
   "outputs": [
    {
     "data": {
      "text/plain": [
       "count    11592.000000\n",
       "mean      4447.650362\n",
       "std       2675.679618\n",
       "min         39.000000\n",
       "25%       2789.000000\n",
       "50%       3910.000000\n",
       "75%       5485.000000\n",
       "max      68140.000000\n",
       "Name: article_length, dtype: float64"
      ]
     },
     "execution_count": 14,
     "metadata": {},
     "output_type": "execute_result"
    }
   ],
   "source": [
    "full_texts.article_length.describe()"
   ]
  },
  {
   "cell_type": "code",
   "execution_count": 15,
   "id": "9c3c2b0b-41bf-4edf-86d3-2d7a9d25cb26",
   "metadata": {},
   "outputs": [],
   "source": [
    "full_texts = full_texts.query('article_length<=@too_long_article')"
   ]
  },
  {
   "cell_type": "code",
   "execution_count": 16,
   "id": "f44912b9-a2e5-4133-bd2b-3bcfbd82a983",
   "metadata": {},
   "outputs": [
    {
     "data": {
      "text/plain": [
       "count    11455.000000\n",
       "mean      4276.534177\n",
       "std       2037.210100\n",
       "min         39.000000\n",
       "25%       2772.500000\n",
       "50%       3885.000000\n",
       "75%       5407.000000\n",
       "max      12992.000000\n",
       "Name: article_length, dtype: float64"
      ]
     },
     "execution_count": 16,
     "metadata": {},
     "output_type": "execute_result"
    }
   ],
   "source": [
    "full_texts.article_length.describe()"
   ]
  },
  {
   "cell_type": "code",
   "execution_count": 17,
   "id": "3134283d-49d2-4c91-a401-8c58011daacb",
   "metadata": {},
   "outputs": [
    {
     "data": {
      "text/plain": [
       "<AxesSubplot:>"
      ]
     },
     "execution_count": 17,
     "metadata": {},
     "output_type": "execute_result"
    },
    {
     "data": {
      "image/png": "[encoded data removed]",
      "text/plain": [
       "<Figure size 640x480 with 1 Axes>"
      ]
     },
     "metadata": {},
     "output_type": "display_data"
    }
   ],
   "source": [
    "full_texts.article_length.hist()"
   ]
  },
  {
   "cell_type": "code",
   "execution_count": 18,
   "id": "3264ebed-92fc-42f8-9e62-6d3afb37e573",
   "metadata": {},
   "outputs": [
    {
     "data": {
      "text/plain": [
       "<matplotlib.lines.Line2D at 0x7fe902661630>"
      ]
     },
     "execution_count": 18,
     "metadata": {},
     "output_type": "execute_result"
    },
    {
     "data": {
      "image/png": "[encoded data removed]",
      "text/plain": [
       "<Figure size 640x480 with 1 Axes>"
      ]
     },
     "metadata": {},
     "output_type": "display_data"
    }
   ],
   "source": [
    "fig, ax = plt.subplots()\n",
    "bins=np.arange(0,13_000,100)\n",
    "full_texts.article_length.hist(bins=bins, ax=ax)\n",
    "\n",
    "too_long_article = 11_300\n",
    "too_short_article = 700\n",
    "ax.axvline(too_long_article, color='r', ls='--')\n",
    "ax.axvline(too_short_article, color='r', ls='--')"
   ]
  },
  {
   "cell_type": "code",
   "execution_count": 19,
   "id": "b907c5f0-7c32-4214-9a21-52a3875be9e5",
   "metadata": {},
   "outputs": [
    {
     "data": {
      "text/plain": [
       "count    11455.000000\n",
       "mean      4276.534177\n",
       "std       2037.210100\n",
       "min         39.000000\n",
       "25%       2772.500000\n",
       "50%       3885.000000\n",
       "75%       5407.000000\n",
       "max      12992.000000\n",
       "Name: article_length, dtype: float64"
      ]
     },
     "execution_count": 19,
     "metadata": {},
     "output_type": "execute_result"
    }
   ],
   "source": [
    "full_texts.article_length.describe()"
   ]
  },
  {
   "cell_type": "code",
   "execution_count": 20,
   "id": "f263e5bc-6470-4f41-8fc7-217a83638146",
   "metadata": {},
   "outputs": [],
   "source": [
    "full_texts = full_texts.query('article_length<=@too_long_article and article_length>=@too_short_article')"
   ]
  },
  {
   "cell_type": "code",
   "execution_count": 21,
   "id": "5a2c3735-c65d-43e9-9ac8-b7cea20a8ded",
   "metadata": {},
   "outputs": [
    {
     "data": {
      "text/plain": [
       "count    11328.000000\n",
       "mean      4247.703302\n",
       "std       1931.994134\n",
       "min        727.000000\n",
       "25%       2783.750000\n",
       "50%       3882.000000\n",
       "75%       5383.250000\n",
       "max      11293.000000\n",
       "Name: article_length, dtype: float64"
      ]
     },
     "execution_count": 21,
     "metadata": {},
     "output_type": "execute_result"
    }
   ],
   "source": [
    "full_texts.article_length.describe()"
   ]
  },
  {
   "cell_type": "code",
   "execution_count": 22,
   "id": "868670e7-0698-458a-9035-ee55428fbe5f",
   "metadata": {},
   "outputs": [
    {
     "data": {
      "text/plain": [
       "<AxesSubplot:>"
      ]
     },
     "execution_count": 22,
     "metadata": {},
     "output_type": "execute_result"
    },
    {
     "data": {
      "image/png": "[encoded data removed]",
      "text/plain": [
       "<Figure size 640x480 with 1 Axes>"
      ]
     },
     "metadata": {},
     "output_type": "display_data"
    }
   ],
   "source": [
    "full_texts.article_length.hist()"
   ]
  },
  {
   "cell_type": "code",
   "execution_count": 23,
   "id": "d75eb4e0-60b9-4326-8242-29e1096e7233",
   "metadata": {},
   "outputs": [
    {
     "data": {
      "text/plain": [
       "<AxesSubplot:>"
      ]
     },
     "execution_count": 23,
     "metadata": {},
     "output_type": "execute_result"
    },
    {
     "data": {
      "image/png": "[encoded data removed]",
      "text/plain": [
       "<Figure size 640x480 with 1 Axes>"
      ]
     },
     "metadata": {},
     "output_type": "display_data"
    }
   ],
   "source": [
    "fig, ax = plt.subplots()\n",
    "bins=np.arange(0,13_000,100)\n",
    "full_texts.article_length.hist(bins=bins, ax=ax)"
   ]
  },
  {
   "cell_type": "markdown",
   "id": "6b93542c-30ca-42e6-8b6f-46372e7f765d",
   "metadata": {},
   "source": [
    "# Read information about names in articles"
   ]
  },
  {
   "cell_type": "markdown",
   "id": "98238e77-9782-4ddc-a114-bbe11af95539",
   "metadata": {},
   "source": [
    "The column `id` is the aarticle's ID. The column `name` contains the names within the corresponding article. Within the same article, the following is true:\n",
    "1. the names do not repeate\n",
    "2. if a name appears in the versions \"Stefano\" and \"Stefano Garcia\" (or similar), then the simpler version is removed"
   ]
  },
  {
   "cell_type": "code",
   "execution_count": 26,
   "id": "4857ca3d-c0fc-434a-9faa-8eebc2456cfb",
   "metadata": {},
   "outputs": [
    {
     "name": "stdout",
     "output_type": "stream",
     "text": [
      "portuguese_3sentences_with_names.csv\n",
      "portuguese_articles_and_names.csv\n",
      "portuguese_articles_and_names_v2.csv\n",
      "portuguese_articles_and_names_v3.csv\n",
      "portuguese_sentences_with_names.csv\n",
      "portuguese_sentences_with_names_tight.csv\n",
      "portuguese_sentences_with_names_v2.csv\n",
      "portuguese_sentences_with_names_v3.csv\n",
      "portuguese_test_data_v2.csv\n",
      "portuguese_training_data.csv\n",
      "portuguese_training_data_v2.csv\n",
      "t.csv\n"
     ]
    }
   ],
   "source": [
    "!ls *csv"
   ]
  },
  {
   "cell_type": "code",
   "execution_count": 28,
   "id": "578fb986-c7f8-42d7-ba99-52169baa3cc3",
   "metadata": {},
   "outputs": [],
   "source": [
    "inputdir = Path('/home/stefano')\n",
    "filename = 'portuguese_articles_and_names_v3.csv'\n",
    "names = pd.read_csv(inputdir/filename)"
   ]
  },
  {
   "cell_type": "code",
   "execution_count": 30,
   "id": "2cce8c0a-6958-4273-8738-52af8aa2426b",
   "metadata": {},
   "outputs": [
    {
     "name": "stdout",
     "output_type": "stream",
     "text": [
      "<class 'pandas.core.frame.DataFrame'>\n",
      "RangeIndex: 57269 entries, 0 to 57268\n",
      "Data columns (total 2 columns):\n",
      " #   Column  Non-Null Count  Dtype \n",
      "---  ------  --------------  ----- \n",
      " 0   id      57269 non-null  int64 \n",
      " 1   name    57269 non-null  object\n",
      "dtypes: int64(1), object(1)\n",
      "memory usage: 895.0+ KB\n"
     ]
    }
   ],
   "source": [
    "names.info()"
   ]
  },
  {
   "cell_type": "markdown",
   "id": "3b65f8ed-8ae7-4014-ac22-1f6824f7b079",
   "metadata": {},
   "source": [
    "# Remove articles with too many names in it (outliers)"
   ]
  },
  {
   "cell_type": "markdown",
   "id": "0bd81008-209c-4774-b668-c3e3cf6db888",
   "metadata": {},
   "source": [
    "## Take a look at the data"
   ]
  },
  {
   "cell_type": "markdown",
   "id": "4ecc919a-fe54-478c-882c-c71ca467dbeb",
   "metadata": {},
   "source": [
    "Describe some columns"
   ]
  },
  {
   "cell_type": "code",
   "execution_count": 31,
   "id": "3c88aca9-f318-40a2-999b-1ceb1d36fa51",
   "metadata": {},
   "outputs": [
    {
     "data": {
      "text/html": [
       "<div>\n",
       "<style scoped>\n",
       "    .dataframe tbody tr th:only-of-type {\n",
       "        vertical-align: middle;\n",
       "    }\n",
       "\n",
       "    .dataframe tbody tr th {\n",
       "        vertical-align: top;\n",
       "    }\n",
       "\n",
       "    .dataframe thead th {\n",
       "        text-align: right;\n",
       "    }\n",
       "</style>\n",
       "<table border=\"1\" class=\"dataframe\">\n",
       "  <thead>\n",
       "    <tr style=\"text-align: right;\">\n",
       "      <th></th>\n",
       "      <th>name</th>\n",
       "    </tr>\n",
       "  </thead>\n",
       "  <tbody>\n",
       "    <tr>\n",
       "      <th>count</th>\n",
       "      <td>57269</td>\n",
       "    </tr>\n",
       "    <tr>\n",
       "      <th>unique</th>\n",
       "      <td>22171</td>\n",
       "    </tr>\n",
       "    <tr>\n",
       "      <th>top</th>\n",
       "      <td>Jair Bolsonaro</td>\n",
       "    </tr>\n",
       "    <tr>\n",
       "      <th>freq</th>\n",
       "      <td>2003</td>\n",
       "    </tr>\n",
       "  </tbody>\n",
       "</table>\n",
       "</div>"
      ],
      "text/plain": [
       "                  name\n",
       "count            57269\n",
       "unique           22171\n",
       "top     Jair Bolsonaro\n",
       "freq              2003"
      ]
     },
     "execution_count": 31,
     "metadata": {},
     "output_type": "execute_result"
    }
   ],
   "source": [
    "names.describe(include=['object'])"
   ]
  },
  {
   "cell_type": "markdown",
   "id": "5758c956-52d5-4bfa-951a-e620bde10b7e",
   "metadata": {},
   "source": [
    "Check how many unique articles are there"
   ]
  },
  {
   "cell_type": "code",
   "execution_count": 33,
   "id": "f9b78104-9a05-4076-a98e-f6a314d15ef6",
   "metadata": {},
   "outputs": [
    {
     "data": {
      "text/plain": [
       "10541"
      ]
     },
     "execution_count": 33,
     "metadata": {},
     "output_type": "execute_result"
    }
   ],
   "source": [
    "names.id.unique().size"
   ]
  },
  {
   "cell_type": "markdown",
   "id": "c6813a8c-e76e-4e4e-8ead-2c255a9ca770",
   "metadata": {},
   "source": [
    "Check how many names per article"
   ]
  },
  {
   "cell_type": "code",
   "execution_count": 34,
   "id": "c3cfcd3a-b9f7-46f2-b581-10cc863c45d1",
   "metadata": {},
   "outputs": [],
   "source": [
    "names_grouped_by_article = names.groupby(['id']).agg({'name':lambda x: len(x)})"
   ]
  },
  {
   "cell_type": "code",
   "execution_count": 35,
   "id": "236f8d0c-cbf9-432b-8d60-1a78f49cf4e3",
   "metadata": {},
   "outputs": [
    {
     "data": {
      "text/html": [
       "<div>\n",
       "<style scoped>\n",
       "    .dataframe tbody tr th:only-of-type {\n",
       "        vertical-align: middle;\n",
       "    }\n",
       "\n",
       "    .dataframe tbody tr th {\n",
       "        vertical-align: top;\n",
       "    }\n",
       "\n",
       "    .dataframe thead th {\n",
       "        text-align: right;\n",
       "    }\n",
       "</style>\n",
       "<table border=\"1\" class=\"dataframe\">\n",
       "  <thead>\n",
       "    <tr style=\"text-align: right;\">\n",
       "      <th></th>\n",
       "      <th>name</th>\n",
       "    </tr>\n",
       "    <tr>\n",
       "      <th>id</th>\n",
       "      <th></th>\n",
       "    </tr>\n",
       "  </thead>\n",
       "  <tbody>\n",
       "    <tr>\n",
       "      <th>36728631</th>\n",
       "      <td>8</td>\n",
       "    </tr>\n",
       "    <tr>\n",
       "      <th>51740080</th>\n",
       "      <td>6</td>\n",
       "    </tr>\n",
       "    <tr>\n",
       "      <th>51846913</th>\n",
       "      <td>7</td>\n",
       "    </tr>\n",
       "    <tr>\n",
       "      <th>51850454</th>\n",
       "      <td>8</td>\n",
       "    </tr>\n",
       "    <tr>\n",
       "      <th>51850907</th>\n",
       "      <td>1</td>\n",
       "    </tr>\n",
       "  </tbody>\n",
       "</table>\n",
       "</div>"
      ],
      "text/plain": [
       "          name\n",
       "id            \n",
       "36728631     8\n",
       "51740080     6\n",
       "51846913     7\n",
       "51850454     8\n",
       "51850907     1"
      ]
     },
     "execution_count": 35,
     "metadata": {},
     "output_type": "execute_result"
    }
   ],
   "source": [
    "names_grouped_by_article.head()"
   ]
  },
  {
   "cell_type": "code",
   "execution_count": 36,
   "id": "d2c2bad3-2c4c-4617-8e71-98ce5c52a0c1",
   "metadata": {},
   "outputs": [
    {
     "data": {
      "text/plain": [
       "count    10541.000000\n",
       "mean         5.432976\n",
       "std          4.408547\n",
       "min          1.000000\n",
       "25%          2.000000\n",
       "50%          4.000000\n",
       "75%          7.000000\n",
       "max         79.000000\n",
       "Name: name, dtype: float64"
      ]
     },
     "execution_count": 36,
     "metadata": {},
     "output_type": "execute_result"
    }
   ],
   "source": [
    "names_grouped_by_article.name.describe()"
   ]
  },
  {
   "cell_type": "code",
   "execution_count": 37,
   "id": "5e141bc2-1909-4846-993e-d423be65ac2d",
   "metadata": {
    "tags": []
   },
   "outputs": [
    {
     "data": {
      "text/plain": [
       "<AxesSubplot:>"
      ]
     },
     "execution_count": 37,
     "metadata": {},
     "output_type": "execute_result"
    },
    {
     "data": {
      "image/png": "[encoded data removed]",
      "text/plain": [
       "<Figure size 640x480 with 1 Axes>"
      ]
     },
     "metadata": {},
     "output_type": "display_data"
    }
   ],
   "source": [
    "bins = np.arange(0,85)\n",
    "names_grouped_by_article.name.hist(bins=bins)"
   ]
  },
  {
   "cell_type": "markdown",
   "id": "b0b402de-48f9-435f-90b4-dcb20e146652",
   "metadata": {},
   "source": [
    "**Let us use the same value we used for the training set** "
   ]
  },
  {
   "cell_type": "code",
   "execution_count": 41,
   "id": "d6c50265-c30e-4509-b989-0f134f43f718",
   "metadata": {},
   "outputs": [],
   "source": [
    "too_many_names = 10"
   ]
  },
  {
   "cell_type": "code",
   "execution_count": 42,
   "id": "fce767b0-f9bc-4290-93e0-c461dd09df92",
   "metadata": {
    "tags": []
   },
   "outputs": [
    {
     "data": {
      "text/plain": [
       "<matplotlib.lines.Line2D at 0x7fe8fba48f10>"
      ]
     },
     "execution_count": 42,
     "metadata": {},
     "output_type": "execute_result"
    },
    {
     "data": {
      "image/png": "[encoded data removed]",
      "text/plain": [
       "<Figure size 640x480 with 1 Axes>"
      ]
     },
     "metadata": {},
     "output_type": "display_data"
    }
   ],
   "source": [
    "fig, ax = plt.subplots()\n",
    "bins = np.arange(1,40)\n",
    "names_grouped_by_article.name.hist(bins=bins, ax=ax, grid=False)\n",
    "\n",
    "# Outliers (tail of the distribution)\n",
    "ax.axvline(too_many_names, color='r')"
   ]
  },
  {
   "cell_type": "code",
   "execution_count": 51,
   "id": "df248a8b-7e16-47b4-a540-2e6a348a0041",
   "metadata": {},
   "outputs": [
    {
     "name": "stdout",
     "output_type": "stream",
     "text": [
      "Amount to remove 10.5%\n"
     ]
    }
   ],
   "source": [
    "total_num_of_outlier_articles = names_grouped_by_article.query('name>@too_many_names').index.size\n",
    "total_num_of_articles = names_grouped_by_article.index.size\n",
    "fraction_to_remove = total_num_of_outlier_articles/total_num_of_articles\n",
    "print(f'Amount to remove {100*fraction_to_remove:.1f}%')"
   ]
  },
  {
   "cell_type": "markdown",
   "id": "dfd90991-99fc-450e-ab2b-7fd048a0eac8",
   "metadata": {},
   "source": [
    "## Remove outliers"
   ]
  },
  {
   "cell_type": "markdown",
   "id": "86c265e3-4f00-4131-94c5-c2cb707c936d",
   "metadata": {},
   "source": [
    "Let's only keep articles with up to 15 names in it."
   ]
  },
  {
   "cell_type": "code",
   "execution_count": 52,
   "id": "89a9d092-9c06-41fa-9fe5-c7f9f7d33005",
   "metadata": {},
   "outputs": [],
   "source": [
    "article_ids = names_grouped_by_article.query('name>@too_many_names').index.tolist()"
   ]
  },
  {
   "cell_type": "markdown",
   "id": "859bb795-faa1-4420-bdbc-82a0e00325ac",
   "metadata": {},
   "source": [
    "Number of articles to remove"
   ]
  },
  {
   "cell_type": "code",
   "execution_count": 53,
   "id": "3bea5cc4-80e4-4b17-b96a-3767b43c2a2e",
   "metadata": {},
   "outputs": [
    {
     "data": {
      "text/plain": [
       "1102"
      ]
     },
     "execution_count": 53,
     "metadata": {},
     "output_type": "execute_result"
    }
   ],
   "source": [
    "len(article_ids)"
   ]
  },
  {
   "cell_type": "markdown",
   "id": "3d4f9e36-538d-4eea-8ea3-158371861f69",
   "metadata": {},
   "source": [
    "Check the number or articles before removing articles"
   ]
  },
  {
   "cell_type": "code",
   "execution_count": 54,
   "id": "33612a67-ee00-4127-bd75-7805bb025a1c",
   "metadata": {},
   "outputs": [
    {
     "data": {
      "text/plain": [
       "10541"
      ]
     },
     "execution_count": 54,
     "metadata": {},
     "output_type": "execute_result"
    }
   ],
   "source": [
    "names.id.unique().size"
   ]
  },
  {
   "cell_type": "markdown",
   "id": "b84cabd4-79d7-4c17-9f7b-35802ebd53eb",
   "metadata": {},
   "source": [
    "Remove articles"
   ]
  },
  {
   "cell_type": "code",
   "execution_count": 55,
   "id": "77addc19-cc7c-408b-a169-c05a299091b7",
   "metadata": {},
   "outputs": [],
   "source": [
    "names = names.query('id not in @article_ids').reset_index(drop=True)"
   ]
  },
  {
   "cell_type": "markdown",
   "id": "3972f8cf-fe5d-462b-9b83-8ab39dc5c321",
   "metadata": {},
   "source": [
    "Check the number or articles after removing articles"
   ]
  },
  {
   "cell_type": "code",
   "execution_count": 56,
   "id": "e14a9024-9964-4377-b1fa-8c4668c4bcf2",
   "metadata": {},
   "outputs": [
    {
     "data": {
      "text/plain": [
       "9439"
      ]
     },
     "execution_count": 56,
     "metadata": {},
     "output_type": "execute_result"
    }
   ],
   "source": [
    "names.query('id not in @article_ids').id.unique().size"
   ]
  },
  {
   "cell_type": "markdown",
   "id": "29c4a9cc-966a-4828-80dd-ab1c731a5756",
   "metadata": {},
   "source": [
    "Check how many names per article after removing articles"
   ]
  },
  {
   "cell_type": "code",
   "execution_count": 57,
   "id": "c733d2d2-a434-4305-a543-5e0a2387cd8f",
   "metadata": {},
   "outputs": [],
   "source": [
    "names_grouped_by_article = names.groupby(['id']).agg({'name':lambda x: len(x)})"
   ]
  },
  {
   "cell_type": "code",
   "execution_count": 58,
   "id": "4c92dcb6-3591-4ece-9801-d3bce9a7c0fc",
   "metadata": {},
   "outputs": [
    {
     "data": {
      "text/plain": [
       "count    9439.000000\n",
       "mean        4.310944\n",
       "std         2.512532\n",
       "min         1.000000\n",
       "25%         2.000000\n",
       "50%         4.000000\n",
       "75%         6.000000\n",
       "max        10.000000\n",
       "Name: name, dtype: float64"
      ]
     },
     "execution_count": 58,
     "metadata": {},
     "output_type": "execute_result"
    }
   ],
   "source": [
    "names_grouped_by_article.name.describe()"
   ]
  },
  {
   "cell_type": "code",
   "execution_count": 59,
   "id": "bc0cb9f1-f6e2-40ba-b1a1-70194b379d3c",
   "metadata": {
    "tags": []
   },
   "outputs": [
    {
     "data": {
      "text/plain": [
       "<AxesSubplot:>"
      ]
     },
     "execution_count": 59,
     "metadata": {},
     "output_type": "execute_result"
    },
    {
     "data": {
      "image/png": "[encoded data removed]",
      "text/plain": [
       "<Figure size 640x480 with 1 Axes>"
      ]
     },
     "metadata": {},
     "output_type": "display_data"
    }
   ],
   "source": [
    "bins = np.arange(0,11)\n",
    "names_grouped_by_article.name.hist(bins=bins)"
   ]
  },
  {
   "cell_type": "markdown",
   "id": "087e1266-9b35-4fc7-90c8-ee48dd9a356a",
   "metadata": {
    "tags": []
   },
   "source": [
    "# Remove articles in `names` set that are not in `original` anymore"
   ]
  },
  {
   "cell_type": "markdown",
   "id": "cf9a7147-f24a-4595-93ee-0952ec3ff034",
   "metadata": {},
   "source": [
    "Check that the original data has all nedeed articles"
   ]
  },
  {
   "cell_type": "code",
   "execution_count": 65,
   "id": "cac2eab0-289a-40cf-904b-579d2dd05638",
   "metadata": {},
   "outputs": [
    {
     "name": "stdout",
     "output_type": "stream",
     "text": [
      "{59737602, 58053132, 58726414, 57778205, 57850399, 57007647, 57114146, 59311139, 61737516, 61971507, 59706420, 57282101, 57607735, 53584442, 54261829, 57421386, 57686090, 53446236, 61943388, 53860455, 53538919, 59116137, 62414442, 57961579, 59002478, 53229686, 56164471, 52104312, 53505144, 55192189, 61966973, 56486527, 52345476, 56380548, 59801738, 62141583, 59310741, 58902685, 52407978, 58131633, 59927221, 53865656, 52559550, 54159041, 56275139, 57835716, 57455302, 59454162, 61135058, 57822934, 58144471, 57305815, 56059612, 58784481, 53596389, 57053419, 56753900, 56292590, 59331842, 58039044, 57919755, 57575701, 56890646, 62121755, 57468189, 54528808, 56938280, 52448555, 57653548, 57441068, 54924081, 62196018, 53276977, 53569844, 56540471, 60288823, 53114167, 57356611, 57943879, 56465230, 53523796, 59534677, 55677285, 55345001, 58989432, 61935996, 56106877, 56552832, 53096322, 57667973, 59312008, 53462410, 57821073, 57579414, 56825781, 60032951, 58782137, 57784764, 61199314, 56012757, 56702938, 53679593, 53947369, 57319917, 57429492, 57589750, 52574203}\n"
     ]
    }
   ],
   "source": [
    "print(set(names.id)-set(full_texts.id))"
   ]
  },
  {
   "cell_type": "code",
   "execution_count": 62,
   "id": "ff109e7f-8c52-4fe3-823e-0965ecff71af",
   "metadata": {},
   "outputs": [],
   "source": [
    "article_in_names_not_in_original = set(names.id)-set(full_texts.id)"
   ]
  },
  {
   "cell_type": "code",
   "execution_count": 64,
   "id": "4bd5586a-65ee-438a-97a8-b30c6a249c06",
   "metadata": {},
   "outputs": [
    {
     "data": {
      "text/plain": [
       "107"
      ]
     },
     "execution_count": 64,
     "metadata": {},
     "output_type": "execute_result"
    }
   ],
   "source": [
    "len(article_in_names_not_in_original)"
   ]
  },
  {
   "cell_type": "markdown",
   "id": "cb68fb45-6a99-437a-b575-229e268e772c",
   "metadata": {},
   "source": [
    "Remove articles from `names` that are not in the `original` anymore"
   ]
  },
  {
   "cell_type": "code",
   "execution_count": 68,
   "id": "e25094f2-f68e-4472-ae37-08a871fa4900",
   "metadata": {},
   "outputs": [
    {
     "data": {
      "text/plain": [
       "9439"
      ]
     },
     "execution_count": 68,
     "metadata": {},
     "output_type": "execute_result"
    }
   ],
   "source": [
    "names.id.unique().size"
   ]
  },
  {
   "cell_type": "code",
   "execution_count": 69,
   "id": "08b81624-bc2f-4def-9768-2e7fea3eb9c8",
   "metadata": {},
   "outputs": [],
   "source": [
    "names = names.query('id not in @article_in_names_not_in_original')"
   ]
  },
  {
   "cell_type": "code",
   "execution_count": 70,
   "id": "cc63d605-92a4-421f-9062-dbb9ddd8a26d",
   "metadata": {},
   "outputs": [
    {
     "data": {
      "text/plain": [
       "9332"
      ]
     },
     "execution_count": 70,
     "metadata": {},
     "output_type": "execute_result"
    }
   ],
   "source": [
    "names.id.unique().size"
   ]
  },
  {
   "cell_type": "code",
   "execution_count": null,
   "id": "84e427f4-31b4-4b7b-bb74-a9f849639fe6",
   "metadata": {},
   "outputs": [],
   "source": []
  },
  {
   "cell_type": "markdown",
   "id": "b889606c-7d31-4535-9955-b7f883c1ddd5",
   "metadata": {},
   "source": [
    "# Create data for the inference model"
   ]
  },
  {
   "cell_type": "markdown",
   "id": "ad45d3e3-7267-438b-a670-f0019183eea3",
   "metadata": {},
   "source": [
    "## Check data"
   ]
  },
  {
   "cell_type": "code",
   "execution_count": 75,
   "id": "5d800c8c-af9b-47f8-bd04-5e97a58b5181",
   "metadata": {},
   "outputs": [
    {
     "data": {
      "text/html": [
       "<div>\n",
       "<style scoped>\n",
       "    .dataframe tbody tr th:only-of-type {\n",
       "        vertical-align: middle;\n",
       "    }\n",
       "\n",
       "    .dataframe tbody tr th {\n",
       "        vertical-align: top;\n",
       "    }\n",
       "\n",
       "    .dataframe thead th {\n",
       "        text-align: right;\n",
       "    }\n",
       "</style>\n",
       "<table border=\"1\" class=\"dataframe\">\n",
       "  <thead>\n",
       "    <tr style=\"text-align: right;\">\n",
       "      <th></th>\n",
       "      <th>id</th>\n",
       "      <th>name</th>\n",
       "    </tr>\n",
       "  </thead>\n",
       "  <tbody>\n",
       "    <tr>\n",
       "      <th>0</th>\n",
       "      <td>54006424</td>\n",
       "      <td>Clemens Tönnies</td>\n",
       "    </tr>\n",
       "    <tr>\n",
       "      <th>1</th>\n",
       "      <td>54006424</td>\n",
       "      <td>Gerald Asamoah</td>\n",
       "    </tr>\n",
       "    <tr>\n",
       "      <th>2</th>\n",
       "      <td>54006424</td>\n",
       "      <td>Hans Sarpei</td>\n",
       "    </tr>\n",
       "    <tr>\n",
       "      <th>3</th>\n",
       "      <td>54006424</td>\n",
       "      <td>Cacau</td>\n",
       "    </tr>\n",
       "    <tr>\n",
       "      <th>4</th>\n",
       "      <td>54003004</td>\n",
       "      <td>Angela Merkel</td>\n",
       "    </tr>\n",
       "  </tbody>\n",
       "</table>\n",
       "</div>"
      ],
      "text/plain": [
       "         id              name\n",
       "0  54006424  Clemens Tönnies\n",
       "1  54006424    Gerald Asamoah\n",
       "2  54006424       Hans Sarpei\n",
       "3  54006424             Cacau\n",
       "4  54003004     Angela Merkel"
      ]
     },
     "execution_count": 75,
     "metadata": {},
     "output_type": "execute_result"
    }
   ],
   "source": [
    "names.head()"
   ]
  },
  {
   "cell_type": "code",
   "execution_count": 71,
   "id": "dffba9bf-5ac4-4577-988d-47699238964f",
   "metadata": {},
   "outputs": [
    {
     "data": {
      "text/html": [
       "<div>\n",
       "<style scoped>\n",
       "    .dataframe tbody tr th:only-of-type {\n",
       "        vertical-align: middle;\n",
       "    }\n",
       "\n",
       "    .dataframe tbody tr th {\n",
       "        vertical-align: top;\n",
       "    }\n",
       "\n",
       "    .dataframe thead th {\n",
       "        text-align: right;\n",
       "    }\n",
       "</style>\n",
       "<table border=\"1\" class=\"dataframe\">\n",
       "  <thead>\n",
       "    <tr style=\"text-align: right;\">\n",
       "      <th></th>\n",
       "      <th>name</th>\n",
       "    </tr>\n",
       "  </thead>\n",
       "  <tbody>\n",
       "    <tr>\n",
       "      <th>count</th>\n",
       "      <td>40141</td>\n",
       "    </tr>\n",
       "    <tr>\n",
       "      <th>unique</th>\n",
       "      <td>16669</td>\n",
       "    </tr>\n",
       "    <tr>\n",
       "      <th>top</th>\n",
       "      <td>Jair Bolsonaro</td>\n",
       "    </tr>\n",
       "    <tr>\n",
       "      <th>freq</th>\n",
       "      <td>1530</td>\n",
       "    </tr>\n",
       "  </tbody>\n",
       "</table>\n",
       "</div>"
      ],
      "text/plain": [
       "                  name\n",
       "count            40141\n",
       "unique           16669\n",
       "top     Jair Bolsonaro\n",
       "freq              1530"
      ]
     },
     "execution_count": 71,
     "metadata": {},
     "output_type": "execute_result"
    }
   ],
   "source": [
    "names.describe(include=['object'])"
   ]
  },
  {
   "cell_type": "markdown",
   "id": "d4c677fb-5e33-4ce2-b92c-614ed464cb8b",
   "metadata": {},
   "source": [
    "Check how many unique articles are there"
   ]
  },
  {
   "cell_type": "code",
   "execution_count": 72,
   "id": "c066c061-0d6c-43ab-b4a4-1884fb420a35",
   "metadata": {},
   "outputs": [
    {
     "data": {
      "text/plain": [
       "9332"
      ]
     },
     "execution_count": 72,
     "metadata": {},
     "output_type": "execute_result"
    }
   ],
   "source": [
    "names.id.unique().size"
   ]
  },
  {
   "cell_type": "markdown",
   "id": "4d17fc4f-6a0d-4d0b-a724-e2de1ef55a92",
   "metadata": {},
   "source": [
    "Check how many names per article after removing articles"
   ]
  },
  {
   "cell_type": "code",
   "execution_count": 76,
   "id": "dc55404a-425b-49d9-8ee8-bd7979a1dbd8",
   "metadata": {},
   "outputs": [],
   "source": [
    "names_grouped_by_article = names.groupby(['id']).agg({'name':lambda x: len(x)})"
   ]
  },
  {
   "cell_type": "code",
   "execution_count": 77,
   "id": "36232e1e-8495-43de-addb-40dfdbbafdc8",
   "metadata": {},
   "outputs": [
    {
     "data": {
      "text/plain": [
       "count    9332.000000\n",
       "mean        4.301436\n",
       "std         2.503262\n",
       "min         1.000000\n",
       "25%         2.000000\n",
       "50%         4.000000\n",
       "75%         6.000000\n",
       "max        10.000000\n",
       "Name: name, dtype: float64"
      ]
     },
     "execution_count": 77,
     "metadata": {},
     "output_type": "execute_result"
    }
   ],
   "source": [
    "names_grouped_by_article.name.describe()"
   ]
  },
  {
   "cell_type": "code",
   "execution_count": 78,
   "id": "aa55f449-264a-4fd3-a531-07b1c1350201",
   "metadata": {
    "tags": []
   },
   "outputs": [
    {
     "data": {
      "text/plain": [
       "<AxesSubplot:>"
      ]
     },
     "execution_count": 78,
     "metadata": {},
     "output_type": "execute_result"
    },
    {
     "data": {
      "image/png": "[encoded data removed]",
      "text/plain": [
       "<Figure size 640x480 with 1 Axes>"
      ]
     },
     "metadata": {},
     "output_type": "display_data"
    }
   ],
   "source": [
    "bins = np.arange(0,11)\n",
    "names_grouped_by_article.name.hist(bins=bins)"
   ]
  },
  {
   "cell_type": "markdown",
   "id": "9516fb0b-e7cd-42af-ab71-9333debc38f5",
   "metadata": {},
   "source": [
    "Check that the original data has all nedeed articles [subject to change]"
   ]
  },
  {
   "cell_type": "code",
   "execution_count": 80,
   "id": "2e88c0cf-b817-49a8-81e0-254658c29ece",
   "metadata": {},
   "outputs": [
    {
     "name": "stdout",
     "output_type": "stream",
     "text": [
      "set()\n"
     ]
    }
   ],
   "source": [
    "print(set(names.id)-set(full_texts.id))"
   ]
  },
  {
   "cell_type": "markdown",
   "id": "1be62ebd-d057-4eee-a266-92afaf206687",
   "metadata": {},
   "source": [
    "# Add the full-text information to the data sets"
   ]
  },
  {
   "cell_type": "code",
   "execution_count": 81,
   "id": "a29f0514-88b5-4582-80b0-b85e189a3d8d",
   "metadata": {},
   "outputs": [],
   "source": [
    "names_with_text = pd.merge(names, full_texts, how='inner', on=['id'])"
   ]
  },
  {
   "cell_type": "code",
   "execution_count": 84,
   "id": "a4b0c198-4b8b-4070-a1ce-0c3f3d3c19f1",
   "metadata": {},
   "outputs": [
    {
     "data": {
      "text/html": [
       "<div>\n",
       "<style scoped>\n",
       "    .dataframe tbody tr th:only-of-type {\n",
       "        vertical-align: middle;\n",
       "    }\n",
       "\n",
       "    .dataframe tbody tr th {\n",
       "        vertical-align: top;\n",
       "    }\n",
       "\n",
       "    .dataframe thead th {\n",
       "        text-align: right;\n",
       "    }\n",
       "</style>\n",
       "<table border=\"1\" class=\"dataframe\">\n",
       "  <thead>\n",
       "    <tr style=\"text-align: right;\">\n",
       "      <th></th>\n",
       "      <th>id</th>\n",
       "      <th>name</th>\n",
       "      <th>full_text</th>\n",
       "      <th>article_length</th>\n",
       "    </tr>\n",
       "  </thead>\n",
       "  <tbody>\n",
       "    <tr>\n",
       "      <th>0</th>\n",
       "      <td>54006424</td>\n",
       "      <td>Clemens Tönnies</td>\n",
       "      <td>O presidente do FC Schalke 04 e proprietário ...</td>\n",
       "      <td>6376</td>\n",
       "    </tr>\n",
       "    <tr>\n",
       "      <th>1</th>\n",
       "      <td>54006424</td>\n",
       "      <td>Gerald Asamoah</td>\n",
       "      <td>O presidente do FC Schalke 04 e proprietário ...</td>\n",
       "      <td>6376</td>\n",
       "    </tr>\n",
       "    <tr>\n",
       "      <th>2</th>\n",
       "      <td>54006424</td>\n",
       "      <td>Hans Sarpei</td>\n",
       "      <td>O presidente do FC Schalke 04 e proprietário ...</td>\n",
       "      <td>6376</td>\n",
       "    </tr>\n",
       "    <tr>\n",
       "      <th>3</th>\n",
       "      <td>54006424</td>\n",
       "      <td>Cacau</td>\n",
       "      <td>O presidente do FC Schalke 04 e proprietário ...</td>\n",
       "      <td>6376</td>\n",
       "    </tr>\n",
       "    <tr>\n",
       "      <th>4</th>\n",
       "      <td>54003004</td>\n",
       "      <td>Angela Merkel</td>\n",
       "      <td>Em meados de março, quando o coronavírus com...</td>\n",
       "      <td>5029</td>\n",
       "    </tr>\n",
       "    <tr>\n",
       "      <th>...</th>\n",
       "      <td>...</td>\n",
       "      <td>...</td>\n",
       "      <td>...</td>\n",
       "      <td>...</td>\n",
       "    </tr>\n",
       "    <tr>\n",
       "      <th>40136</th>\n",
       "      <td>54005845</td>\n",
       "      <td>Von der Leyen</td>\n",
       "      <td>A controversa lei de segurança nacional impos...</td>\n",
       "      <td>5983</td>\n",
       "    </tr>\n",
       "    <tr>\n",
       "      <th>40137</th>\n",
       "      <td>54005845</td>\n",
       "      <td>Charles Michel</td>\n",
       "      <td>A controversa lei de segurança nacional impos...</td>\n",
       "      <td>5983</td>\n",
       "    </tr>\n",
       "    <tr>\n",
       "      <th>40138</th>\n",
       "      <td>54005845</td>\n",
       "      <td>Gyde Jensen</td>\n",
       "      <td>A controversa lei de segurança nacional impos...</td>\n",
       "      <td>5983</td>\n",
       "    </tr>\n",
       "    <tr>\n",
       "      <th>40139</th>\n",
       "      <td>54005845</td>\n",
       "      <td>Angela Merkel</td>\n",
       "      <td>A controversa lei de segurança nacional impos...</td>\n",
       "      <td>5983</td>\n",
       "    </tr>\n",
       "    <tr>\n",
       "      <th>40140</th>\n",
       "      <td>54005845</td>\n",
       "      <td>Julian Braithwaite</td>\n",
       "      <td>A controversa lei de segurança nacional impos...</td>\n",
       "      <td>5983</td>\n",
       "    </tr>\n",
       "  </tbody>\n",
       "</table>\n",
       "<p>40141 rows × 4 columns</p>\n",
       "</div>"
      ],
      "text/plain": [
       "             id                name  \\\n",
       "0      54006424    Clemens Tönnies   \n",
       "1      54006424      Gerald Asamoah   \n",
       "2      54006424         Hans Sarpei   \n",
       "3      54006424               Cacau   \n",
       "4      54003004       Angela Merkel   \n",
       "...         ...                 ...   \n",
       "40136  54005845       Von der Leyen   \n",
       "40137  54005845      Charles Michel   \n",
       "40138  54005845         Gyde Jensen   \n",
       "40139  54005845       Angela Merkel   \n",
       "40140  54005845  Julian Braithwaite   \n",
       "\n",
       "                                               full_text  article_length  \n",
       "0      O presidente do FC Schalke 04 e proprietário ...            6376  \n",
       "1      O presidente do FC Schalke 04 e proprietário ...            6376  \n",
       "2      O presidente do FC Schalke 04 e proprietário ...            6376  \n",
       "3      O presidente do FC Schalke 04 e proprietário ...            6376  \n",
       "4      Em meados de março, quando o coronavírus com...            5029  \n",
       "...                                                  ...             ...  \n",
       "40136  A controversa lei de segurança nacional impos...            5983  \n",
       "40137  A controversa lei de segurança nacional impos...            5983  \n",
       "40138  A controversa lei de segurança nacional impos...            5983  \n",
       "40139  A controversa lei de segurança nacional impos...            5983  \n",
       "40140  A controversa lei de segurança nacional impos...            5983  \n",
       "\n",
       "[40141 rows x 4 columns]"
      ]
     },
     "execution_count": 84,
     "metadata": {},
     "output_type": "execute_result"
    }
   ],
   "source": [
    "names_with_text"
   ]
  },
  {
   "cell_type": "markdown",
   "id": "89a6aa2b-a71b-48c0-aeb2-9db0aadf285a",
   "metadata": {},
   "source": [
    "# Save"
   ]
  },
  {
   "cell_type": "code",
   "execution_count": 86,
   "id": "99b8cac5-81b6-4310-87de-07cd9d533727",
   "metadata": {
    "tags": []
   },
   "outputs": [],
   "source": [
    "outputdir = Path('/home/stefano')\n",
    "filename = Path('portuguese_data_for_inference.csv')\n",
    "names_with_text.to_csv(outputdir/filename, index=False)"
   ]
  },
  {
   "cell_type": "code",
   "execution_count": null,
   "id": "41f35355-cbe3-401b-ae7f-3906f71e84f5",
   "metadata": {},
   "outputs": [],
   "source": []
  }
 ],
 "metadata": {
  "kernelspec": {
   "display_name": "Python 3 (ipykernel)",
   "language": "python",
   "name": "python3"
  },
  "language_info": {
   "codemirror_mode": {
    "name": "ipython",
    "version": 3
   },
   "file_extension": ".py",
   "mimetype": "text/x-python",
   "name": "python",
   "nbconvert_exporter": "python",
   "pygments_lexer": "ipython3",
   "version": "3.10.6"
  },
  "toc-showmarkdowntxt": false,
  "toc-showtags": false
 },
 "nbformat": 4,
 "nbformat_minor": 5
}
