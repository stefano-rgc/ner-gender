{
 "cells": [
  {
   "cell_type": "markdown",
   "id": "53dcfc36-de54-4529-92e5-a03d1bb5ee8e",
   "metadata": {},
   "source": [
    "# Imports"
   ]
  },
  {
   "cell_type": "code",
   "execution_count": 1,
   "id": "3c97f972-9b35-4859-9c50-8c47b26f495e",
   "metadata": {},
   "outputs": [
    {
     "data": {
      "application/javascript": "IPython.notebook.set_autosave_interval(60000)"
     },
     "metadata": {},
     "output_type": "display_data"
    },
    {
     "name": "stdout",
     "output_type": "stream",
     "text": [
      "Autosaving every 60 seconds\n"
     ]
    }
   ],
   "source": [
    "%autosave 60"
   ]
  },
  {
   "cell_type": "code",
   "execution_count": 2,
   "id": "cd17c13e-3a1d-4efb-9530-44217ce4adcf",
   "metadata": {},
   "outputs": [
    {
     "name": "stderr",
     "output_type": "stream",
     "text": [
      "/var/folders/pv/4lz7c47j4d901p0hrt6r1s500000gn/T/ipykernel_20369/446625484.py:5: DeprecationWarning: Importing display from IPython.core.display is deprecated since IPython 7.14, please import from IPython display\n",
      "  from IPython.core.display import display, HTML\n"
     ]
    }
   ],
   "source": [
    "import numpy as np\n",
    "import pandas as pd\n",
    "import matplotlib.pyplot as plt\n",
    "from pathlib import Path\n",
    "from IPython.core.display import display, HTML\n",
    "from bs4 import BeautifulSoup\n",
    "import re\n",
    "from unicodedata import normalize # https://towardsdatascience.com/difference-between-nfd-nfc-nfkd-and-nfkc-explained-with-python-code-e2631f96ae6c\n",
    "import pickle\n",
    "from dataclasses import dataclass, field"
   ]
  },
  {
   "cell_type": "markdown",
   "id": "841330c9-1c22-4a55-b71d-cfa8bfa46df9",
   "metadata": {},
   "source": [
    "# Load starting data "
   ]
  },
  {
   "cell_type": "code",
   "execution_count": 51,
   "id": "bb10e02a-6d6b-4d19-b470-3cd2785533ed",
   "metadata": {},
   "outputs": [],
   "source": [
    "file = 'data/PORTUGUESE_BRAZIL.jsonl'\n",
    "data = pd.read_json(file, lines=True)"
   ]
  },
  {
   "cell_type": "markdown",
   "id": "fead5567-1910-4db1-8142-3cb76360a7a0",
   "metadata": {},
   "source": [
    "# Explore data"
   ]
  },
  {
   "cell_type": "code",
   "execution_count": 4,
   "id": "a879c2ec-9312-4c0d-a3de-98833534d250",
   "metadata": {
    "tags": []
   },
   "outputs": [
    {
     "data": {
      "text/html": [
       "<div>\n",
       "<style scoped>\n",
       "    .dataframe tbody tr th:only-of-type {\n",
       "        vertical-align: middle;\n",
       "    }\n",
       "\n",
       "    .dataframe tbody tr th {\n",
       "        vertical-align: top;\n",
       "    }\n",
       "\n",
       "    .dataframe thead th {\n",
       "        text-align: right;\n",
       "    }\n",
       "</style>\n",
       "<table border=\"1\" class=\"dataframe\">\n",
       "  <thead>\n",
       "    <tr style=\"text-align: right;\">\n",
       "      <th></th>\n",
       "      <th>id</th>\n",
       "      <th>language</th>\n",
       "      <th>name</th>\n",
       "      <th>shortTitle</th>\n",
       "      <th>text</th>\n",
       "      <th>teaser</th>\n",
       "      <th>shortTeaser</th>\n",
       "      <th>kicker</th>\n",
       "      <th>regions</th>\n",
       "      <th>keywords</th>\n",
       "      <th>...</th>\n",
       "      <th>contentDate</th>\n",
       "      <th>relatedAutoTopics</th>\n",
       "      <th>contentLinks</th>\n",
       "      <th>articles</th>\n",
       "      <th>isOpinion</th>\n",
       "      <th>contentAssociations</th>\n",
       "      <th>mainContentImageLink</th>\n",
       "      <th>images</th>\n",
       "      <th>externalLinks</th>\n",
       "      <th>topStory</th>\n",
       "    </tr>\n",
       "  </thead>\n",
       "  <tbody>\n",
       "    <tr>\n",
       "      <th>0</th>\n",
       "      <td>54006424</td>\n",
       "      <td>PORTUGUESE_BRAZIL</td>\n",
       "      <td>Covid-19, racismo e mau futebol derrubam presi...</td>\n",
       "      <td>Escândalos derrubam presidente do FC Schalke 04</td>\n",
       "      <td>&lt;p&gt;O presidente do FC Schalke 04 e proprietári...</td>\n",
       "      <td>Após sucessivas controvérsias e péssima campan...</td>\n",
       "      <td>Proprietário do frigorífico Tönnies, centro de...</td>\n",
       "      <td>Alemanha</td>\n",
       "      <td>[]</td>\n",
       "      <td>[{'name': 'Tönnies'}, {'name': 'covid-19'}, {'...</td>\n",
       "      <td>...</td>\n",
       "      <td>2020-07-01T00:37:53.785Z</td>\n",
       "      <td>[{'name': 'CPI da Pandemia'}, {'name': 'Covid-...</td>\n",
       "      <td>[{'name': 'Schalke 04, o declínio de uma lenda...</td>\n",
       "      <td>[{'name': 'Schalke 04, o declínio de uma lenda...</td>\n",
       "      <td>False</td>\n",
       "      <td>[{'id': 53326534}, {'id': 53326552}, {'id': 53...</td>\n",
       "      <td>{'description': 'Clemens Tönnies, proprietário...</td>\n",
       "      <td>[{'name': 'S04 Schalke-Boss Clemens Tönnies'},...</td>\n",
       "      <td>[]</td>\n",
       "      <td>False</td>\n",
       "    </tr>\n",
       "    <tr>\n",
       "      <th>1</th>\n",
       "      <td>54003004</td>\n",
       "      <td>PORTUGUESE_BRAZIL</td>\n",
       "      <td>Opinião: É o momento de Merkel definir o futur...</td>\n",
       "      <td>É o momento de Merkel definir o futuro da UE</td>\n",
       "      <td>&lt;figure class=\"placeholder-image master_landsc...</td>\n",
       "      <td>Alemanha assume presidência rotativa da UE em ...</td>\n",
       "      <td>Enquanto se prepara para entregar o cargo em 2...</td>\n",
       "      <td>Opinião</td>\n",
       "      <td>[]</td>\n",
       "      <td>[{'name': 'Angela Merkel'}, {'name': 'União Eu...</td>\n",
       "      <td>...</td>\n",
       "      <td>2020-07-01T08:42:23.316Z</td>\n",
       "      <td>[{'name': 'Angela Merkel'}, {'name': 'Comissão...</td>\n",
       "      <td>[{'name': ''}, {'name': 'Para Merkel, UE virou...</td>\n",
       "      <td>[{'name': 'Para Merkel, UE virou questão de co...</td>\n",
       "      <td>True</td>\n",
       "      <td>[{'id': 53322481}, {'id': 53322886}, {'id': 53...</td>\n",
       "      <td>{'description': '\"Este é o maior desafio que a...</td>\n",
       "      <td>[{'name': 'Brüssel | EU Gipfeltreffen: Angela ...</td>\n",
       "      <td>[]</td>\n",
       "      <td>False</td>\n",
       "    </tr>\n",
       "    <tr>\n",
       "      <th>2</th>\n",
       "      <td>54009380</td>\n",
       "      <td>PORTUGUESE_BRAZIL</td>\n",
       "      <td>Telescópio espacial Hubble completa 30 anos</td>\n",
       "      <td>Telescópio espacial Hubble completa 30 anos</td>\n",
       "      <td>&lt;p&gt;Na prática de exercícios físicos, o que é m...</td>\n",
       "      <td>James Webb, o telescópio sucessor, deve ficar ...</td>\n",
       "      <td>James Webb, o telescópio sucessor, deve ficar ...</td>\n",
       "      <td></td>\n",
       "      <td>[]</td>\n",
       "      <td>[{'name': 'Hubble'}, {'name': 'telescópio'}, {...</td>\n",
       "      <td>...</td>\n",
       "      <td>2020-07-01T09:20:47.843Z</td>\n",
       "      <td>[{'name': 'Telescópio Hubble'}]</td>\n",
       "      <td>[{'name': 'Hubble Weltraumteleskop'}]</td>\n",
       "      <td>[]</td>\n",
       "      <td>False</td>\n",
       "      <td>[{'id': 53329407}, {'id': 53329408}, {'id': 53...</td>\n",
       "      <td>{'description': None}</td>\n",
       "      <td>[{'name': 'Hubble Weltraumteleskop'}]</td>\n",
       "      <td>[]</td>\n",
       "      <td>False</td>\n",
       "    </tr>\n",
       "    <tr>\n",
       "      <th>3</th>\n",
       "      <td>54008153</td>\n",
       "      <td>PORTUGUESE_BRAZIL</td>\n",
       "      <td>Polícia de Hong Kong efetua primeiras prisões ...</td>\n",
       "      <td>Hong Kong efetua primeiras prisões com base em...</td>\n",
       "      <td>&lt;p&gt;Um homem que foi flagrado com uma bandeira ...</td>\n",
       "      <td>Protestos irrompem no território após autorida...</td>\n",
       "      <td>Protestos irrompem no território após autorida...</td>\n",
       "      <td>Ásia</td>\n",
       "      <td>[]</td>\n",
       "      <td>[{'name': 'Hong Kong'}, {'name': 'protestos em...</td>\n",
       "      <td>...</td>\n",
       "      <td>2020-07-01T09:44:01.046Z</td>\n",
       "      <td>[{'name': 'Hong Kong'}, {'name': 'China'}]</td>\n",
       "      <td>[{'name': ''}, {'name': 'China aprova lei de s...</td>\n",
       "      <td>[{'name': 'China aprova lei de segurança nacio...</td>\n",
       "      <td>False</td>\n",
       "      <td>[{'id': 53328442}, {'id': 53328443}, {'id': 53...</td>\n",
       "      <td>{'description': 'Polícia prende homem em prote...</td>\n",
       "      <td>[{'name': 'Hongkong | Pro-Democracy Proteste a...</td>\n",
       "      <td>[]</td>\n",
       "      <td>False</td>\n",
       "    </tr>\n",
       "    <tr>\n",
       "      <th>4</th>\n",
       "      <td>54009331</td>\n",
       "      <td>PORTUGUESE_BRAZIL</td>\n",
       "      <td>Trump aprova plano para retirar 9.500 soldados...</td>\n",
       "      <td>Trump aprova plano para retirar 9.500 soldados...</td>\n",
       "      <td>&lt;p&gt;O presidente dos Estados Unidos, Donald Tru...</td>\n",
       "      <td>Plano ainda precisa ser apresentado ao Congres...</td>\n",
       "      <td>Plano ainda precisa ser apresentado ao Congres...</td>\n",
       "      <td>Mundo</td>\n",
       "      <td>[]</td>\n",
       "      <td>[{'name': 'Alemanha'}, {'name': 'Otan'}, {'nam...</td>\n",
       "      <td>...</td>\n",
       "      <td>2020-07-01T10:22:04.158Z</td>\n",
       "      <td>[{'name': 'Otan'}, {'name': 'Estados Unidos'},...</td>\n",
       "      <td>[{'name': 'O mês de junho em imagens'}, {'name...</td>\n",
       "      <td>[{'name': 'Militares americanos na Alemanha, u...</td>\n",
       "      <td>False</td>\n",
       "      <td>[{'id': 53329506}, {'id': 53329508}, {'id': 53...</td>\n",
       "      <td>{'description': 'Base americana na Alemanha. T...</td>\n",
       "      <td>[{'name': 'Aus für US-Militär-Standorte Schwei...</td>\n",
       "      <td>[]</td>\n",
       "      <td>False</td>\n",
       "    </tr>\n",
       "  </tbody>\n",
       "</table>\n",
       "<p>5 rows × 27 columns</p>\n",
       "</div>"
      ],
      "text/plain": [
       "         id           language  \\\n",
       "0  54006424  PORTUGUESE_BRAZIL   \n",
       "1  54003004  PORTUGUESE_BRAZIL   \n",
       "2  54009380  PORTUGUESE_BRAZIL   \n",
       "3  54008153  PORTUGUESE_BRAZIL   \n",
       "4  54009331  PORTUGUESE_BRAZIL   \n",
       "\n",
       "                                                name  \\\n",
       "0  Covid-19, racismo e mau futebol derrubam presi...   \n",
       "1  Opinião: É o momento de Merkel definir o futur...   \n",
       "2        Telescópio espacial Hubble completa 30 anos   \n",
       "3  Polícia de Hong Kong efetua primeiras prisões ...   \n",
       "4  Trump aprova plano para retirar 9.500 soldados...   \n",
       "\n",
       "                                          shortTitle  \\\n",
       "0    Escândalos derrubam presidente do FC Schalke 04   \n",
       "1       É o momento de Merkel definir o futuro da UE   \n",
       "2        Telescópio espacial Hubble completa 30 anos   \n",
       "3  Hong Kong efetua primeiras prisões com base em...   \n",
       "4  Trump aprova plano para retirar 9.500 soldados...   \n",
       "\n",
       "                                                text  \\\n",
       "0  <p>O presidente do FC Schalke 04 e proprietári...   \n",
       "1  <figure class=\"placeholder-image master_landsc...   \n",
       "2  <p>Na prática de exercícios físicos, o que é m...   \n",
       "3  <p>Um homem que foi flagrado com uma bandeira ...   \n",
       "4  <p>O presidente dos Estados Unidos, Donald Tru...   \n",
       "\n",
       "                                              teaser  \\\n",
       "0  Após sucessivas controvérsias e péssima campan...   \n",
       "1  Alemanha assume presidência rotativa da UE em ...   \n",
       "2  James Webb, o telescópio sucessor, deve ficar ...   \n",
       "3  Protestos irrompem no território após autorida...   \n",
       "4  Plano ainda precisa ser apresentado ao Congres...   \n",
       "\n",
       "                                         shortTeaser    kicker regions  \\\n",
       "0  Proprietário do frigorífico Tönnies, centro de...  Alemanha      []   \n",
       "1  Enquanto se prepara para entregar o cargo em 2...   Opinião      []   \n",
       "2  James Webb, o telescópio sucessor, deve ficar ...                []   \n",
       "3  Protestos irrompem no território após autorida...      Ásia      []   \n",
       "4  Plano ainda precisa ser apresentado ao Congres...     Mundo      []   \n",
       "\n",
       "                                            keywords  ...  \\\n",
       "0  [{'name': 'Tönnies'}, {'name': 'covid-19'}, {'...  ...   \n",
       "1  [{'name': 'Angela Merkel'}, {'name': 'União Eu...  ...   \n",
       "2  [{'name': 'Hubble'}, {'name': 'telescópio'}, {...  ...   \n",
       "3  [{'name': 'Hong Kong'}, {'name': 'protestos em...  ...   \n",
       "4  [{'name': 'Alemanha'}, {'name': 'Otan'}, {'nam...  ...   \n",
       "\n",
       "                contentDate  \\\n",
       "0  2020-07-01T00:37:53.785Z   \n",
       "1  2020-07-01T08:42:23.316Z   \n",
       "2  2020-07-01T09:20:47.843Z   \n",
       "3  2020-07-01T09:44:01.046Z   \n",
       "4  2020-07-01T10:22:04.158Z   \n",
       "\n",
       "                                   relatedAutoTopics  \\\n",
       "0  [{'name': 'CPI da Pandemia'}, {'name': 'Covid-...   \n",
       "1  [{'name': 'Angela Merkel'}, {'name': 'Comissão...   \n",
       "2                    [{'name': 'Telescópio Hubble'}]   \n",
       "3         [{'name': 'Hong Kong'}, {'name': 'China'}]   \n",
       "4  [{'name': 'Otan'}, {'name': 'Estados Unidos'},...   \n",
       "\n",
       "                                        contentLinks  \\\n",
       "0  [{'name': 'Schalke 04, o declínio de uma lenda...   \n",
       "1  [{'name': ''}, {'name': 'Para Merkel, UE virou...   \n",
       "2              [{'name': 'Hubble Weltraumteleskop'}]   \n",
       "3  [{'name': ''}, {'name': 'China aprova lei de s...   \n",
       "4  [{'name': 'O mês de junho em imagens'}, {'name...   \n",
       "\n",
       "                                            articles isOpinion  \\\n",
       "0  [{'name': 'Schalke 04, o declínio de uma lenda...     False   \n",
       "1  [{'name': 'Para Merkel, UE virou questão de co...      True   \n",
       "2                                                 []     False   \n",
       "3  [{'name': 'China aprova lei de segurança nacio...     False   \n",
       "4  [{'name': 'Militares americanos na Alemanha, u...     False   \n",
       "\n",
       "                                 contentAssociations  \\\n",
       "0  [{'id': 53326534}, {'id': 53326552}, {'id': 53...   \n",
       "1  [{'id': 53322481}, {'id': 53322886}, {'id': 53...   \n",
       "2  [{'id': 53329407}, {'id': 53329408}, {'id': 53...   \n",
       "3  [{'id': 53328442}, {'id': 53328443}, {'id': 53...   \n",
       "4  [{'id': 53329506}, {'id': 53329508}, {'id': 53...   \n",
       "\n",
       "                                mainContentImageLink  \\\n",
       "0  {'description': 'Clemens Tönnies, proprietário...   \n",
       "1  {'description': '\"Este é o maior desafio que a...   \n",
       "2                              {'description': None}   \n",
       "3  {'description': 'Polícia prende homem em prote...   \n",
       "4  {'description': 'Base americana na Alemanha. T...   \n",
       "\n",
       "                                              images externalLinks topStory  \n",
       "0  [{'name': 'S04 Schalke-Boss Clemens Tönnies'},...            []    False  \n",
       "1  [{'name': 'Brüssel | EU Gipfeltreffen: Angela ...            []    False  \n",
       "2              [{'name': 'Hubble Weltraumteleskop'}]            []    False  \n",
       "3  [{'name': 'Hongkong | Pro-Democracy Proteste a...            []    False  \n",
       "4  [{'name': 'Aus für US-Militär-Standorte Schwei...            []    False  \n",
       "\n",
       "[5 rows x 27 columns]"
      ]
     },
     "execution_count": 4,
     "metadata": {},
     "output_type": "execute_result"
    }
   ],
   "source": [
    "data.head()"
   ]
  },
  {
   "cell_type": "code",
   "execution_count": 5,
   "id": "45e23a9a-7d62-42c5-8e66-9a5a53a24439",
   "metadata": {
    "tags": []
   },
   "outputs": [
    {
     "data": {
      "text/plain": [
       "id                                                                54006424\n",
       "language                                                 PORTUGUESE_BRAZIL\n",
       "name                     Covid-19, racismo e mau futebol derrubam presi...\n",
       "shortTitle                 Escândalos derrubam presidente do FC Schalke 04\n",
       "text                     <p>O presidente do FC Schalke 04 e proprietári...\n",
       "teaser                   Após sucessivas controvérsias e péssima campan...\n",
       "shortTeaser              Proprietário do frigorífico Tönnies, centro de...\n",
       "kicker                                                            Alemanha\n",
       "regions                                                                 []\n",
       "keywords                 [{'name': 'Tönnies'}, {'name': 'covid-19'}, {'...\n",
       "keywordStrings           [Tönnies, covid-19, coronavírus, pandemia, FC ...\n",
       "thematicFocusCategory                                  {'name': 'Futebol'}\n",
       "navigations                   [{'name': 'Alemanha'}, {'name': 'NOTÍCIAS'}]\n",
       "categories                        [{'name': 'Futebol'}, {'name': 'Saúde'}]\n",
       "departments                                    [{'name': 'Brasilianisch'}]\n",
       "firstPublicationDate                              2020-07-01T00:32:15.020Z\n",
       "lastModifiedDate                                  2020-07-07T16:44:41.762Z\n",
       "contentDate                                       2020-07-01T00:37:53.785Z\n",
       "relatedAutoTopics        [{'name': 'CPI da Pandemia'}, {'name': 'Covid-...\n",
       "contentLinks             [{'name': 'Schalke 04, o declínio de uma lenda...\n",
       "articles                 [{'name': 'Schalke 04, o declínio de uma lenda...\n",
       "isOpinion                                                            False\n",
       "contentAssociations      [{'id': 53326534}, {'id': 53326552}, {'id': 53...\n",
       "mainContentImageLink     {'description': 'Clemens Tönnies, proprietário...\n",
       "images                   [{'name': 'S04 Schalke-Boss Clemens Tönnies'},...\n",
       "externalLinks                                                           []\n",
       "topStory                                                             False\n",
       "Name: 0, dtype: object"
      ]
     },
     "execution_count": 5,
     "metadata": {},
     "output_type": "execute_result"
    }
   ],
   "source": [
    "data.iloc[0]"
   ]
  },
  {
   "cell_type": "code",
   "execution_count": 6,
   "id": "f1d10ad0-e601-4574-b23d-df24a273e941",
   "metadata": {
    "tags": []
   },
   "outputs": [
    {
     "name": "stdout",
     "output_type": "stream",
     "text": [
      "<class 'pandas.core.frame.DataFrame'>\n",
      "RangeIndex: 11848 entries, 0 to 11847\n",
      "Data columns (total 27 columns):\n",
      " #   Column                 Non-Null Count  Dtype \n",
      "---  ------                 --------------  ----- \n",
      " 0   id                     11848 non-null  int64 \n",
      " 1   language               11848 non-null  object\n",
      " 2   name                   11848 non-null  object\n",
      " 3   shortTitle             11848 non-null  object\n",
      " 4   text                   11848 non-null  object\n",
      " 5   teaser                 11848 non-null  object\n",
      " 6   shortTeaser            11848 non-null  object\n",
      " 7   kicker                 11787 non-null  object\n",
      " 8   regions                11848 non-null  object\n",
      " 9   keywords               11848 non-null  object\n",
      " 10  keywordStrings         11848 non-null  object\n",
      " 11  thematicFocusCategory  11837 non-null  object\n",
      " 12  navigations            11848 non-null  object\n",
      " 13  categories             11848 non-null  object\n",
      " 14  departments            11848 non-null  object\n",
      " 15  firstPublicationDate   11848 non-null  object\n",
      " 16  lastModifiedDate       11848 non-null  object\n",
      " 17  contentDate            11848 non-null  object\n",
      " 18  relatedAutoTopics      11848 non-null  object\n",
      " 19  contentLinks           11848 non-null  object\n",
      " 20  articles               11848 non-null  object\n",
      " 21  isOpinion              11848 non-null  bool  \n",
      " 22  contentAssociations    11848 non-null  object\n",
      " 23  mainContentImageLink   11727 non-null  object\n",
      " 24  images                 11848 non-null  object\n",
      " 25  externalLinks          11848 non-null  object\n",
      " 26  topStory               11848 non-null  bool  \n",
      "dtypes: bool(2), int64(1), object(24)\n",
      "memory usage: 2.3+ MB\n"
     ]
    }
   ],
   "source": [
    "data.info()"
   ]
  },
  {
   "cell_type": "markdown",
   "id": "a03c8dc5-e70a-4f4a-b00a-6cde78104112",
   "metadata": {
    "jp-MarkdownHeadingCollapsed": true,
    "tags": []
   },
   "source": [
    "## kicker"
   ]
  },
  {
   "cell_type": "markdown",
   "id": "ed6f5cb8-a3de-4a56-976e-524c4c5d8ab0",
   "metadata": {},
   "source": [
    "Overview"
   ]
  },
  {
   "cell_type": "code",
   "execution_count": 94,
   "id": "4f62a314-6288-4b69-bbc1-4701a4b19bfc",
   "metadata": {
    "tags": []
   },
   "outputs": [
    {
     "data": {
      "text/plain": [
       "0           Alemanha\n",
       "1            Opinião\n",
       "2                   \n",
       "3               Ásia\n",
       "4              Mundo\n",
       "            ...     \n",
       "11843       Alemanha\n",
       "11844          Mundo\n",
       "11845         Brasil\n",
       "11846    Coronavírus\n",
       "11847           None\n",
       "Name: kicker, Length: 11848, dtype: object"
      ]
     },
     "execution_count": 94,
     "metadata": {},
     "output_type": "execute_result"
    }
   ],
   "source": [
    "data.kicker"
   ]
  },
  {
   "cell_type": "markdown",
   "id": "6702dcbb-3e5f-4805-a0f6-9f3736322d27",
   "metadata": {},
   "source": [
    "Unique values"
   ]
  },
  {
   "cell_type": "code",
   "execution_count": 7,
   "id": "e5611a2a-3757-4a1c-9b85-4b4e83b8d567",
   "metadata": {},
   "outputs": [
    {
     "name": "stdout",
     "output_type": "stream",
     "text": [
      "Number of unique values = 447\n"
     ]
    },
    {
     "data": {
      "text/plain": [
       "Coronavírus          2283\n",
       "Brasil               1484\n",
       "Mundo                1063\n",
       "Alemanha              837\n",
       "Europa                493\n",
       "                     ... \n",
       "Coronavíus              1\n",
       "Sudão                   1\n",
       "Bósnia                  1\n",
       "guerra na Ucrânia       1\n",
       "Agronegócio             1\n",
       "Name: kicker, Length: 446, dtype: int64"
      ]
     },
     "execution_count": 7,
     "metadata": {},
     "output_type": "execute_result"
    }
   ],
   "source": [
    "print(f'Number of unique values = {data.kicker.unique().size}')\n",
    "data.kicker.value_counts()"
   ]
  },
  {
   "cell_type": "markdown",
   "id": "53574aad-2341-4a39-97d0-e5a00668a2b7",
   "metadata": {
    "jp-MarkdownHeadingCollapsed": true,
    "tags": []
   },
   "source": [
    "## Thematic Focus Category"
   ]
  },
  {
   "cell_type": "markdown",
   "id": "f83fcf6f-1e00-4067-a15d-b1bbf262bd06",
   "metadata": {},
   "source": [
    "Overview"
   ]
  },
  {
   "cell_type": "code",
   "execution_count": 8,
   "id": "b1660f59-c591-4374-b150-48962846b50b",
   "metadata": {},
   "outputs": [
    {
     "data": {
      "text/plain": [
       "0         {'name': 'Futebol'}\n",
       "1        {'name': 'Política'}\n",
       "2         {'name': 'Ciência'}\n",
       "3        {'name': 'Política'}\n",
       "4        {'name': 'Política'}\n",
       "                 ...         \n",
       "11843     {'name': 'Cultura'}\n",
       "11844    {'name': 'Política'}\n",
       "11845    {'name': 'Política'}\n",
       "11846       {'name': 'Saúde'}\n",
       "11847       {'name': 'Saúde'}\n",
       "Name: thematicFocusCategory, Length: 11848, dtype: object"
      ]
     },
     "execution_count": 8,
     "metadata": {},
     "output_type": "execute_result"
    }
   ],
   "source": [
    "data.thematicFocusCategory"
   ]
  },
  {
   "cell_type": "markdown",
   "id": "3eaef608-54a2-4d8f-bfc0-44aaefa04874",
   "metadata": {},
   "source": [
    "Extract the significant values from the column `thematicFocusCategory`"
   ]
  },
  {
   "cell_type": "code",
   "execution_count": 9,
   "id": "522e0574-1310-4676-9fe2-e9b33a2df6e1",
   "metadata": {},
   "outputs": [],
   "source": [
    "thematicFocusCategory_keys = []\n",
    "thematicFocusCategory_values = []\n",
    "for irow,row in enumerate(data.itertuples()):\n",
    "    d = row.thematicFocusCategory\n",
    "    if d is not None:\n",
    "        for (k,v) in d.items():\n",
    "            thematicFocusCategory_keys.append(k)\n",
    "            thematicFocusCategory_values.append(v)        "
   ]
  },
  {
   "cell_type": "markdown",
   "id": "6669f93a-bd5e-480f-8e65-90c127de00d8",
   "metadata": {},
   "source": [
    "Unique keys in the dictionary"
   ]
  },
  {
   "cell_type": "code",
   "execution_count": 10,
   "id": "a618146c-1e89-4c5b-88fc-b7ec545b28c6",
   "metadata": {},
   "outputs": [
    {
     "name": "stdout",
     "output_type": "stream",
     "text": [
      "Number of unique values = 1\n"
     ]
    },
    {
     "data": {
      "text/plain": [
       "name    11837\n",
       "dtype: int64"
      ]
     },
     "execution_count": 10,
     "metadata": {},
     "output_type": "execute_result"
    }
   ],
   "source": [
    "print(f'Number of unique values = {np.unique(thematicFocusCategory_keys).size}')\n",
    "pd.Series(thematicFocusCategory_keys).value_counts()"
   ]
  },
  {
   "cell_type": "markdown",
   "id": "9e9d593e-01ff-4ce0-85f8-e73e866a3bef",
   "metadata": {},
   "source": [
    "Unique values in the dictionary"
   ]
  },
  {
   "cell_type": "code",
   "execution_count": 11,
   "id": "cd8d6d59-d0c0-4d21-a6df-8696567a0cda",
   "metadata": {},
   "outputs": [
    {
     "name": "stdout",
     "output_type": "stream",
     "text": [
      "Number of unique values = 43\n"
     ]
    },
    {
     "data": {
      "text/plain": [
       "Política                    3780\n",
       "Saúde                       2936\n",
       "Sociedade                    866\n",
       "Conflitos                    679\n",
       "Economia                     632\n",
       "Natureza e meio ambiente     584\n",
       "Leis e Justiça               304\n",
       "Ciência                      294\n",
       "Cultura                      249\n",
       "História                     164\n",
       "Criminalidade                158\n",
       "Futebol                      148\n",
       "Esporte                      136\n",
       "Direitos humanos             106\n",
       "Educação                      80\n",
       "Religião                      77\n",
       "Catástrofe                    76\n",
       "Migração                      70\n",
       "Tecnologia                    68\n",
       "Igualdade de direitos         65\n",
       "Estado de Direito             45\n",
       "Liberdade de imprensa         43\n",
       "Terrorismo                    39\n",
       "Música                        39\n",
       "Filme                         28\n",
       "Variedades                    26\n",
       "Literatura                    22\n",
       "Segurança alimentar           22\n",
       "Arte                          17\n",
       "Viagem                        14\n",
       "Mídia                         13\n",
       "Clima                         13\n",
       "Liberdade de expressão        12\n",
       "Mundo digital                 10\n",
       "Carros e mobilidade            4\n",
       "Comércio                       4\n",
       "Aprender alemão                3\n",
       "Inovação                       3\n",
       "Arquitetura                    3\n",
       "Corrupção                      2\n",
       "Diversidade                    1\n",
       "Teatro                         1\n",
       "Dança                          1\n",
       "dtype: int64"
      ]
     },
     "execution_count": 11,
     "metadata": {},
     "output_type": "execute_result"
    }
   ],
   "source": [
    "print(f'Number of unique values = {np.unique(thematicFocusCategory_values).size}')\n",
    "pd.Series(thematicFocusCategory_values).value_counts()"
   ]
  },
  {
   "cell_type": "markdown",
   "id": "6ef4babe-3980-4f8c-b2de-eca11e2ddf85",
   "metadata": {
    "jp-MarkdownHeadingCollapsed": true,
    "tags": []
   },
   "source": [
    "## Navigations"
   ]
  },
  {
   "cell_type": "markdown",
   "id": "8bd0b3a3-d5fa-4c50-b549-76f2ffde599b",
   "metadata": {},
   "source": [
    "Overview"
   ]
  },
  {
   "cell_type": "code",
   "execution_count": 12,
   "id": "c8a81e64-eeb8-42fc-83a9-670ec5e2677a",
   "metadata": {},
   "outputs": [
    {
     "data": {
      "text/plain": [
       "0        [{'name': 'Alemanha'}, {'name': 'NOTÍCIAS'}]\n",
       "1                                 [{'name': 'Mundo'}]\n",
       "2                              [{'name': 'NOTÍCIAS'}]\n",
       "3                                 [{'name': 'Mundo'}]\n",
       "4           [{'name': 'Mundo'}, {'name': 'Alemanha'}]\n",
       "                             ...                     \n",
       "11843                          [{'name': 'Alemanha'}]\n",
       "11844                             [{'name': 'Mundo'}]\n",
       "11845                            [{'name': 'Brasil'}]\n",
       "11846                            [{'name': 'Brasil'}]\n",
       "11847                          [{'name': 'NOTÍCIAS'}]\n",
       "Name: navigations, Length: 11848, dtype: object"
      ]
     },
     "execution_count": 12,
     "metadata": {},
     "output_type": "execute_result"
    }
   ],
   "source": [
    "data.navigations"
   ]
  },
  {
   "cell_type": "markdown",
   "id": "8bf244d1-01f3-4d45-b8e1-a25f00d6c5d4",
   "metadata": {},
   "source": [
    "Extract the significant values from the column `navigations`"
   ]
  },
  {
   "cell_type": "code",
   "execution_count": 13,
   "id": "d3a83724-30e4-4260-87cd-8107d1a3294d",
   "metadata": {},
   "outputs": [],
   "source": [
    "navigations_keys = []\n",
    "navigations_values = []\n",
    "for irow,row in enumerate(data.itertuples()):\n",
    "    for d in row.navigations:\n",
    "        if d is not None:\n",
    "            for (k,v) in d.items():\n",
    "                navigations_keys.append(k)\n",
    "                navigations_values.append(v)        "
   ]
  },
  {
   "cell_type": "markdown",
   "id": "88cb92b2-280e-4e72-bb82-d89ff2a05b5f",
   "metadata": {},
   "source": [
    "Unique keys in the dictionary"
   ]
  },
  {
   "cell_type": "code",
   "execution_count": 14,
   "id": "a9722b5c-c7d2-40f0-9f6c-a836f1747d23",
   "metadata": {},
   "outputs": [
    {
     "name": "stdout",
     "output_type": "stream",
     "text": [
      "Number of unique values = 1\n"
     ]
    },
    {
     "data": {
      "text/plain": [
       "name    13235\n",
       "dtype: int64"
      ]
     },
     "execution_count": 14,
     "metadata": {},
     "output_type": "execute_result"
    }
   ],
   "source": [
    "print(f'Number of unique values = {np.unique(navigations_keys).size}')\n",
    "pd.Series(navigations_keys).value_counts()"
   ]
  },
  {
   "cell_type": "markdown",
   "id": "1015afc9-4e73-4440-805a-99f3f84ccf5c",
   "metadata": {},
   "source": [
    "Unique values in the dictionary"
   ]
  },
  {
   "cell_type": "code",
   "execution_count": 15,
   "id": "626d4e8f-b4fe-438a-b753-e51268b67dca",
   "metadata": {},
   "outputs": [
    {
     "name": "stdout",
     "output_type": "stream",
     "text": [
      "Number of unique values = 32\n"
     ]
    },
    {
     "data": {
      "text/plain": [
       "Mundo                     4570\n",
       "Brasil                    2949\n",
       "Alemanha                  1543\n",
       "Ciência e Saúde            954\n",
       "Economia                   485\n",
       "NOTÍCIAS                   405\n",
       "Colunas                    365\n",
       "Europa                     364\n",
       "Cultura                    356\n",
       "Política                   295\n",
       "Esporte                    267\n",
       "América Latina             250\n",
       "Meio Ambiente              176\n",
       "NRS-Import                  89\n",
       "Eleições nos EUA            71\n",
       "História                    34\n",
       "Turismo                     14\n",
       "Especial                    12\n",
       "Segunda Guerra Mundial       9\n",
       "dw.com Beta                  5\n",
       "Reunificação alemã           5\n",
       "Calendário Histórico         3\n",
       "BAKU-PT                      2\n",
       "Jogos Olímpicos              2\n",
       "Camarote.21                  2\n",
       "Futurando!                   2\n",
       "Redes Sociais                1\n",
       "DW no Celular                1\n",
       "Cursos de alemão             1\n",
       "Eleição na Alemanha          1\n",
       "ABOUT DW                     1\n",
       "EXPLORE A DW                 1\n",
       "dtype: int64"
      ]
     },
     "execution_count": 15,
     "metadata": {},
     "output_type": "execute_result"
    }
   ],
   "source": [
    "print(f'Number of unique values = {np.unique(navigations_values).size}')\n",
    "pd.Series(navigations_values).value_counts()"
   ]
  },
  {
   "cell_type": "markdown",
   "id": "6956761f-0a5f-4d71-9aae-2f24c2944082",
   "metadata": {
    "jp-MarkdownHeadingCollapsed": true,
    "tags": []
   },
   "source": [
    "## Categories"
   ]
  },
  {
   "cell_type": "markdown",
   "id": "3624683f-a363-4f42-8866-0c0cffc0fec9",
   "metadata": {},
   "source": [
    "Overview"
   ]
  },
  {
   "cell_type": "code",
   "execution_count": 16,
   "id": "d2d63240-4426-44fc-b85f-3a8071975126",
   "metadata": {},
   "outputs": [
    {
     "data": {
      "text/plain": [
       "0            [{'name': 'Futebol'}, {'name': 'Saúde'}]\n",
       "1        [{'name': 'Política'}, {'name': 'Economia'}]\n",
       "2                               [{'name': 'Ciência'}]\n",
       "3                              [{'name': 'Política'}]\n",
       "4                              [{'name': 'Política'}]\n",
       "                             ...                     \n",
       "11843                           [{'name': 'Cultura'}]\n",
       "11844                          [{'name': 'Política'}]\n",
       "11845                          [{'name': 'Política'}]\n",
       "11846                             [{'name': 'Saúde'}]\n",
       "11847       [{'name': 'Saúde'}, {'name': 'Política'}]\n",
       "Name: categories, Length: 11848, dtype: object"
      ]
     },
     "execution_count": 16,
     "metadata": {},
     "output_type": "execute_result"
    }
   ],
   "source": [
    "data.categories"
   ]
  },
  {
   "cell_type": "markdown",
   "id": "ab5aafea-3204-4ef4-83ff-893b5d69cffe",
   "metadata": {},
   "source": [
    "Extract the significant values from the column `categories`"
   ]
  },
  {
   "cell_type": "code",
   "execution_count": 17,
   "id": "d494cff5-7b82-4914-9b6a-1f7c2ecb67a6",
   "metadata": {},
   "outputs": [],
   "source": [
    "categories_keys = []\n",
    "categories_values = []\n",
    "for irow,row in enumerate(data.itertuples()):\n",
    "    for d in row.categories:\n",
    "        if d is not None:\n",
    "            for (k,v) in d.items():\n",
    "                categories_keys.append(k)\n",
    "                categories_values.append(v)        "
   ]
  },
  {
   "cell_type": "markdown",
   "id": "18371cb0-1c79-4c0f-928d-5309ad9f5f48",
   "metadata": {},
   "source": [
    "Unique keys in the dictionary"
   ]
  },
  {
   "cell_type": "code",
   "execution_count": 18,
   "id": "63e8c3d2-8f5b-4915-b125-7a1edb3d05d3",
   "metadata": {},
   "outputs": [
    {
     "name": "stdout",
     "output_type": "stream",
     "text": [
      "Number of unique values = 1\n"
     ]
    },
    {
     "data": {
      "text/plain": [
       "name    17758\n",
       "dtype: int64"
      ]
     },
     "execution_count": 18,
     "metadata": {},
     "output_type": "execute_result"
    }
   ],
   "source": [
    "print(f'Number of unique values = {np.unique(categories_keys).size}')\n",
    "pd.Series(categories_keys).value_counts()"
   ]
  },
  {
   "cell_type": "markdown",
   "id": "90f43ab8-8b3d-4b11-9f92-83ab780220d3",
   "metadata": {},
   "source": [
    "Unique values in the dictionary"
   ]
  },
  {
   "cell_type": "code",
   "execution_count": 19,
   "id": "807eef4d-16b1-4ed6-a3f6-91f48a095af0",
   "metadata": {},
   "outputs": [
    {
     "name": "stdout",
     "output_type": "stream",
     "text": [
      "Number of unique values = 46\n"
     ]
    },
    {
     "data": {
      "text/plain": [
       "Política                    5202\n",
       "Saúde                       3544\n",
       "Sociedade                   1690\n",
       "Economia                    1016\n",
       "Conflitos                    906\n",
       "Natureza e meio ambiente     792\n",
       "Leis e Justiça               648\n",
       "Ciência                      512\n",
       "Cultura                      380\n",
       "Direitos humanos             321\n",
       "História                     293\n",
       "Estado de Direito            272\n",
       "Criminalidade                264\n",
       "Esporte                      203\n",
       "Igualdade de direitos        199\n",
       "Futebol                      178\n",
       "Tecnologia                   154\n",
       "Religião                     128\n",
       "Variedades                   122\n",
       "Educação                     106\n",
       "Catástrofe                   100\n",
       "Migração                      96\n",
       "Liberdade de imprensa         89\n",
       "Liberdade de expressão        61\n",
       "Terrorismo                    58\n",
       "Música                        48\n",
       "Arte                          39\n",
       "Literatura                    36\n",
       "Filme                         36\n",
       "Viagem                        35\n",
       "Segurança alimentar           35\n",
       "Mídia                         33\n",
       "Comércio                      26\n",
       "Lifestyle                     23\n",
       "Clima                         22\n",
       "Mundo digital                 19\n",
       "[Outros]                      14\n",
       "Arquitetura                   12\n",
       "Carros e mobilidade           10\n",
       "Inovação                       8\n",
       "Globalização                   7\n",
       "Corrupção                      7\n",
       "Teatro                         5\n",
       "Dança                          3\n",
       "Aprender alemão                3\n",
       "Diversidade                    3\n",
       "dtype: int64"
      ]
     },
     "execution_count": 19,
     "metadata": {},
     "output_type": "execute_result"
    }
   ],
   "source": [
    "print(f'Number of unique values = {np.unique(categories_values).size}')\n",
    "pd.Series(categories_values).value_counts()"
   ]
  },
  {
   "cell_type": "markdown",
   "id": "a7dc6372-e48d-48f4-9f68-1bd0f680a67c",
   "metadata": {
    "jp-MarkdownHeadingCollapsed": true,
    "tags": []
   },
   "source": [
    "## Departments"
   ]
  },
  {
   "cell_type": "markdown",
   "id": "ec3298be-6169-4e67-92e8-09da9d16ca2d",
   "metadata": {},
   "source": [
    "Overview"
   ]
  },
  {
   "cell_type": "code",
   "execution_count": 20,
   "id": "13f95182-f0bd-4275-8aa8-b297cd2cd9b0",
   "metadata": {},
   "outputs": [
    {
     "data": {
      "text/plain": [
       "0        [{'name': 'Brasilianisch'}]\n",
       "1        [{'name': 'Brasilianisch'}]\n",
       "2        [{'name': 'Brasilianisch'}]\n",
       "3        [{'name': 'Brasilianisch'}]\n",
       "4        [{'name': 'Brasilianisch'}]\n",
       "                    ...             \n",
       "11843    [{'name': 'Brasilianisch'}]\n",
       "11844    [{'name': 'Brasilianisch'}]\n",
       "11845    [{'name': 'Brasilianisch'}]\n",
       "11846    [{'name': 'Brasilianisch'}]\n",
       "11847    [{'name': 'Brasilianisch'}]\n",
       "Name: departments, Length: 11848, dtype: object"
      ]
     },
     "execution_count": 20,
     "metadata": {},
     "output_type": "execute_result"
    }
   ],
   "source": [
    "data.departments"
   ]
  },
  {
   "cell_type": "markdown",
   "id": "6d9279c9-3849-4e54-ad41-7949a464b496",
   "metadata": {},
   "source": [
    "Extract the significant values from the column `departments`"
   ]
  },
  {
   "cell_type": "code",
   "execution_count": 21,
   "id": "200456c4-d43b-480a-8ba2-dd9275ca7b7b",
   "metadata": {},
   "outputs": [],
   "source": [
    "departments_keys = []\n",
    "departments_values = []\n",
    "for irow,row in enumerate(data.itertuples()):\n",
    "    for d in row.departments:\n",
    "        if d is not None:\n",
    "            for (k,v) in d.items():\n",
    "                departments_keys.append(k)\n",
    "                departments_values.append(v)        "
   ]
  },
  {
   "cell_type": "markdown",
   "id": "4013d330-f06e-41c9-a015-9bb8f9da30e7",
   "metadata": {},
   "source": [
    "Unique keys in the dictionary"
   ]
  },
  {
   "cell_type": "code",
   "execution_count": 22,
   "id": "baa9497f-43ce-4102-951e-723a25673275",
   "metadata": {},
   "outputs": [
    {
     "name": "stdout",
     "output_type": "stream",
     "text": [
      "Number of unique values = 1\n"
     ]
    },
    {
     "data": {
      "text/plain": [
       "name    10518\n",
       "dtype: int64"
      ]
     },
     "execution_count": 22,
     "metadata": {},
     "output_type": "execute_result"
    }
   ],
   "source": [
    "print(f'Number of unique values = {np.unique(departments_keys).size}')\n",
    "pd.Series(departments_keys).value_counts()"
   ]
  },
  {
   "cell_type": "markdown",
   "id": "45ff5fcd-db44-46b3-94f1-d2c335ed057a",
   "metadata": {},
   "source": [
    "Unique values in the dictionary"
   ]
  },
  {
   "cell_type": "code",
   "execution_count": 23,
   "id": "71ce87d8-4e36-4084-8ea3-b54638dc1339",
   "metadata": {},
   "outputs": [
    {
     "name": "stdout",
     "output_type": "stream",
     "text": [
      "Number of unique values = 3\n"
     ]
    },
    {
     "data": {
      "text/plain": [
       "Brasilianisch        10515\n",
       "Bildungsprogramme        2\n",
       "Testredaktion            1\n",
       "dtype: int64"
      ]
     },
     "execution_count": 23,
     "metadata": {},
     "output_type": "execute_result"
    }
   ],
   "source": [
    "print(f'Number of unique values = {np.unique(departments_values).size}')\n",
    "pd.Series(departments_values).value_counts()"
   ]
  },
  {
   "cell_type": "markdown",
   "id": "75d4f804-ae29-4c6d-866c-d1d402fdddd4",
   "metadata": {
    "jp-MarkdownHeadingCollapsed": true,
    "tags": []
   },
   "source": [
    "## First Publication Date"
   ]
  },
  {
   "cell_type": "markdown",
   "id": "1a79511a-9aaa-46e8-8a1c-f3a5518d2db8",
   "metadata": {},
   "source": [
    "Overview"
   ]
  },
  {
   "cell_type": "code",
   "execution_count": 24,
   "id": "0b3c8537-7777-4d1f-beb9-ab6b2ca45a35",
   "metadata": {},
   "outputs": [
    {
     "data": {
      "text/plain": [
       "0        2020-07-01T00:32:15.020Z\n",
       "1        2020-07-01T08:42:23.316Z\n",
       "2        2020-07-01T09:20:47.843Z\n",
       "3        2020-07-01T09:44:01.046Z\n",
       "4        2020-07-01T10:22:04.158Z\n",
       "                   ...           \n",
       "11843    2020-06-30T19:42:13.758Z\n",
       "11844    2020-06-30T20:05:06.610Z\n",
       "11845    2020-06-30T20:38:26.413Z\n",
       "11846    2020-06-30T22:25:40.885Z\n",
       "11847    2020-06-30T22:56:07.943Z\n",
       "Name: firstPublicationDate, Length: 11848, dtype: object"
      ]
     },
     "execution_count": 24,
     "metadata": {},
     "output_type": "execute_result"
    }
   ],
   "source": [
    "data.firstPublicationDate"
   ]
  },
  {
   "cell_type": "code",
   "execution_count": 25,
   "id": "a9808d11-9d9f-401f-ba07-5484f4658b4f",
   "metadata": {},
   "outputs": [
    {
     "name": "stdout",
     "output_type": "stream",
     "text": [
      "<class 'pandas.core.series.Series'>\n",
      "RangeIndex: 11848 entries, 0 to 11847\n",
      "Series name: firstPublicationDate\n",
      "Non-Null Count  Dtype \n",
      "--------------  ----- \n",
      "11848 non-null  object\n",
      "dtypes: object(1)\n",
      "memory usage: 92.7+ KB\n"
     ]
    }
   ],
   "source": [
    "data.firstPublicationDate.info()"
   ]
  },
  {
   "cell_type": "markdown",
   "id": "57a124e3-0679-4f97-a850-b44540af967d",
   "metadata": {},
   "source": [
    "First time"
   ]
  },
  {
   "cell_type": "code",
   "execution_count": 70,
   "id": "024638e3-dcc0-4b99-aff6-d9a04510c7a3",
   "metadata": {},
   "outputs": [
    {
     "data": {
      "text/plain": [
       "Timestamp('2020-01-01 09:58:44.825000')"
      ]
     },
     "execution_count": 70,
     "metadata": {},
     "output_type": "execute_result"
    }
   ],
   "source": [
    "data.firstPublicationDate.astype('datetime64[ns]').min()"
   ]
  },
  {
   "cell_type": "markdown",
   "id": "c9b3880d-d128-410d-81e3-c23714b586f9",
   "metadata": {},
   "source": [
    "Last time"
   ]
  },
  {
   "cell_type": "code",
   "execution_count": 71,
   "id": "23a79bb0-02cf-4da7-aad8-72d49c72e0c5",
   "metadata": {},
   "outputs": [
    {
     "data": {
      "text/plain": [
       "Timestamp('2022-07-13 20:12:54.406000')"
      ]
     },
     "execution_count": 71,
     "metadata": {},
     "output_type": "execute_result"
    }
   ],
   "source": [
    "data.firstPublicationDate.astype('datetime64[ns]').max()"
   ]
  },
  {
   "cell_type": "markdown",
   "id": "81b68b0c-695a-4fa4-a299-e838083c2a7f",
   "metadata": {
    "jp-MarkdownHeadingCollapsed": true,
    "tags": []
   },
   "source": [
    "## Last Modified Date"
   ]
  },
  {
   "cell_type": "markdown",
   "id": "c2c38003-5d91-4897-9f6d-d322bc62b2fb",
   "metadata": {},
   "source": [
    "Overview"
   ]
  },
  {
   "cell_type": "code",
   "execution_count": 36,
   "id": "888f5093-6199-4e91-a305-f3ba1d3a0de8",
   "metadata": {},
   "outputs": [
    {
     "data": {
      "text/plain": [
       "0        2020-07-07T16:44:41.762Z\n",
       "1        2020-07-01T10:57:00.218Z\n",
       "2        2020-07-01T09:20:47.843Z\n",
       "3        2020-07-01T12:09:30.928Z\n",
       "4        2020-07-07T16:37:08.872Z\n",
       "                   ...           \n",
       "11843    2020-07-07T16:49:47.832Z\n",
       "11844    2020-07-07T16:46:58.199Z\n",
       "11845    2020-06-30T20:52:52.002Z\n",
       "11846    2020-07-01T08:49:48.075Z\n",
       "11847    2020-06-30T22:56:07.943Z\n",
       "Name: lastModifiedDate, Length: 11848, dtype: object"
      ]
     },
     "execution_count": 36,
     "metadata": {},
     "output_type": "execute_result"
    }
   ],
   "source": [
    "data.lastModifiedDate"
   ]
  },
  {
   "cell_type": "code",
   "execution_count": 32,
   "id": "fb02135d-9632-4dca-a7da-976632dcb2ca",
   "metadata": {},
   "outputs": [
    {
     "name": "stdout",
     "output_type": "stream",
     "text": [
      "<class 'pandas.core.series.Series'>\n",
      "RangeIndex: 11848 entries, 0 to 11847\n",
      "Series name: lastModifiedDate\n",
      "Non-Null Count  Dtype \n",
      "--------------  ----- \n",
      "11848 non-null  object\n",
      "dtypes: object(1)\n",
      "memory usage: 92.7+ KB\n"
     ]
    }
   ],
   "source": [
    "data.lastModifiedDate.info()"
   ]
  },
  {
   "cell_type": "markdown",
   "id": "a7b83681-d919-4ba4-afef-83a7f9a9e356",
   "metadata": {},
   "source": [
    "First time"
   ]
  },
  {
   "cell_type": "code",
   "execution_count": 34,
   "id": "920fc429-b680-449b-bcdc-770dea4afe05",
   "metadata": {},
   "outputs": [
    {
     "data": {
      "text/plain": [
       "Timestamp('2020-01-01 12:41:49.504000')"
      ]
     },
     "execution_count": 34,
     "metadata": {},
     "output_type": "execute_result"
    }
   ],
   "source": [
    "data.lastModifiedDate.astype('datetime64[ns]').min()"
   ]
  },
  {
   "cell_type": "markdown",
   "id": "6d265845-0cde-4def-ac15-95fff40822d4",
   "metadata": {},
   "source": [
    "Last time"
   ]
  },
  {
   "cell_type": "code",
   "execution_count": 35,
   "id": "d9c9bf8a-fc0d-4ddc-b37a-e6232c215a8f",
   "metadata": {},
   "outputs": [
    {
     "data": {
      "text/plain": [
       "Timestamp('2022-07-13 20:12:54.406000')"
      ]
     },
     "execution_count": 35,
     "metadata": {},
     "output_type": "execute_result"
    }
   ],
   "source": [
    "data.lastModifiedDate.astype('datetime64[ns]').max()"
   ]
  },
  {
   "cell_type": "markdown",
   "id": "deabb607-4472-4a4f-9899-42e82527ffbb",
   "metadata": {
    "jp-MarkdownHeadingCollapsed": true,
    "tags": []
   },
   "source": [
    "## Content Date"
   ]
  },
  {
   "cell_type": "markdown",
   "id": "bf0d9d6f-b924-462f-bd08-20f8549d6abe",
   "metadata": {},
   "source": [
    "Overview"
   ]
  },
  {
   "cell_type": "code",
   "execution_count": 37,
   "id": "5916eeb9-8032-45ba-af96-d5e0a1bb309a",
   "metadata": {},
   "outputs": [
    {
     "data": {
      "text/plain": [
       "0        2020-07-01T00:37:53.785Z\n",
       "1        2020-07-01T08:42:23.316Z\n",
       "2        2020-07-01T09:20:47.843Z\n",
       "3        2020-07-01T09:44:01.046Z\n",
       "4        2020-07-01T10:22:04.158Z\n",
       "                   ...           \n",
       "11843    2020-06-30T19:42:13.758Z\n",
       "11844    2020-06-30T20:05:06.610Z\n",
       "11845    2020-06-30T20:38:26.413Z\n",
       "11846    2020-06-30T22:32:06.904Z\n",
       "11847    2020-06-30T22:56:07.943Z\n",
       "Name: contentDate, Length: 11848, dtype: object"
      ]
     },
     "execution_count": 37,
     "metadata": {},
     "output_type": "execute_result"
    }
   ],
   "source": [
    "data.contentDate"
   ]
  },
  {
   "cell_type": "code",
   "execution_count": 38,
   "id": "949e5edd-5dbd-44a1-8619-a495096eed75",
   "metadata": {},
   "outputs": [
    {
     "name": "stdout",
     "output_type": "stream",
     "text": [
      "<class 'pandas.core.series.Series'>\n",
      "RangeIndex: 11848 entries, 0 to 11847\n",
      "Series name: contentDate\n",
      "Non-Null Count  Dtype \n",
      "--------------  ----- \n",
      "11848 non-null  object\n",
      "dtypes: object(1)\n",
      "memory usage: 92.7+ KB\n"
     ]
    }
   ],
   "source": [
    "data.contentDate.info()"
   ]
  },
  {
   "cell_type": "markdown",
   "id": "c357279c-f467-448a-bc43-8bb9d88eb122",
   "metadata": {},
   "source": [
    "First time"
   ]
  },
  {
   "cell_type": "code",
   "execution_count": 39,
   "id": "ac02ebc9-c17f-40e5-a447-2cdb924ea09c",
   "metadata": {},
   "outputs": [
    {
     "data": {
      "text/plain": [
       "Timestamp('2020-01-01 09:58:44.825000')"
      ]
     },
     "execution_count": 39,
     "metadata": {},
     "output_type": "execute_result"
    }
   ],
   "source": [
    "data.contentDate.astype('datetime64[ns]').min()"
   ]
  },
  {
   "cell_type": "markdown",
   "id": "b554ef0d-4f22-46ce-8803-79a99930e27d",
   "metadata": {},
   "source": [
    "Last time"
   ]
  },
  {
   "cell_type": "code",
   "execution_count": 40,
   "id": "23c2b7bf-2053-4715-9c51-c262d0b3da89",
   "metadata": {},
   "outputs": [
    {
     "data": {
      "text/plain": [
       "Timestamp('2022-07-13 20:12:54.406000')"
      ]
     },
     "execution_count": 40,
     "metadata": {},
     "output_type": "execute_result"
    }
   ],
   "source": [
    "data.contentDate.astype('datetime64[ns]').max()"
   ]
  },
  {
   "cell_type": "markdown",
   "id": "d4e05087-25a9-4026-871e-8415b0ccee06",
   "metadata": {
    "tags": []
   },
   "source": [
    "## Related Auto Topics"
   ]
  },
  {
   "cell_type": "markdown",
   "id": "1b00bbc1-622c-48aa-9af4-66bd8f38ec49",
   "metadata": {},
   "source": [
    "Overview"
   ]
  },
  {
   "cell_type": "code",
   "execution_count": 72,
   "id": "8c4c0551-6070-4702-ab03-6ad1a6bc1e61",
   "metadata": {},
   "outputs": [
    {
     "data": {
      "text/plain": [
       "0        [{'name': 'CPI da Pandemia'}, {'name': 'Covid-...\n",
       "1        [{'name': 'Angela Merkel'}, {'name': 'Comissão...\n",
       "2                          [{'name': 'Telescópio Hubble'}]\n",
       "3               [{'name': 'Hong Kong'}, {'name': 'China'}]\n",
       "4        [{'name': 'Otan'}, {'name': 'Estados Unidos'},...\n",
       "                               ...                        \n",
       "11843    [{'name': 'Berlim'}, {'name': 'Nazismo'}, {'na...\n",
       "11844    [{'name': 'ONU'}, {'name': 'Estados Unidos'}, ...\n",
       "11845    [{'name': 'Jair Bolsonaro'}, {'name': 'CPI da ...\n",
       "11846    [{'name': 'Sars-Cov-2'}, {'name': 'CPI da Pand...\n",
       "11847                                                   []\n",
       "Name: relatedAutoTopics, Length: 11848, dtype: object"
      ]
     },
     "execution_count": 72,
     "metadata": {},
     "output_type": "execute_result"
    }
   ],
   "source": [
    "data.relatedAutoTopics"
   ]
  },
  {
   "cell_type": "markdown",
   "id": "acf80d1a-e36c-4e43-8a2b-2556bc9cf79a",
   "metadata": {},
   "source": [
    "Extract the significant values from the column `relatedAutoTopics`"
   ]
  },
  {
   "cell_type": "code",
   "execution_count": 41,
   "id": "8924e32f-839c-47da-b0d7-3520f64f9b96",
   "metadata": {},
   "outputs": [],
   "source": [
    "relatedAutoTopics_keys = []\n",
    "relatedAutoTopics_values = []\n",
    "for irow,row in enumerate(data.itertuples()):\n",
    "    for d in row.relatedAutoTopics:\n",
    "        if d is not None:\n",
    "            for (k,v) in d.items():\n",
    "                relatedAutoTopics_keys.append(k)\n",
    "                relatedAutoTopics_values.append(v)        "
   ]
  },
  {
   "cell_type": "markdown",
   "id": "8cc9255d-08cd-4f8c-89b3-e2a3e55cdada",
   "metadata": {},
   "source": [
    "Unique keys in the dictionary"
   ]
  },
  {
   "cell_type": "code",
   "execution_count": 43,
   "id": "68d75393-e84f-4ba0-b84c-12604b3ea64f",
   "metadata": {},
   "outputs": [
    {
     "name": "stdout",
     "output_type": "stream",
     "text": [
      "Number of unique values = 1\n"
     ]
    },
    {
     "data": {
      "text/plain": [
       "name    39160\n",
       "dtype: int64"
      ]
     },
     "execution_count": 43,
     "metadata": {},
     "output_type": "execute_result"
    }
   ],
   "source": [
    "print(f'Number of unique values = {np.unique(relatedAutoTopics_keys).size}')\n",
    "pd.Series(relatedAutoTopics_keys).value_counts()"
   ]
  },
  {
   "cell_type": "markdown",
   "id": "1378c8af-d2df-4684-a153-72f7b9e5619c",
   "metadata": {},
   "source": [
    "Unique values in the dictionary"
   ]
  },
  {
   "cell_type": "code",
   "execution_count": 44,
   "id": "da305a74-9aa9-45b1-b4ef-0b2b55914d91",
   "metadata": {
    "tags": []
   },
   "outputs": [
    {
     "name": "stdout",
     "output_type": "stream",
     "text": [
      "Number of unique values = 793\n"
     ]
    },
    {
     "data": {
      "text/plain": [
       "CPI da Pandemia         4411\n",
       "Covid-19                4104\n",
       "Jair Bolsonaro          1241\n",
       "Guerra na Ucrânia        988\n",
       "Vladimir Putin           955\n",
       "                        ... \n",
       "Dengue                     1\n",
       "Calendário Histórico       1\n",
       "David Bowie                1\n",
       "Michelle Obama             1\n",
       "François Fillon            1\n",
       "Length: 793, dtype: int64"
      ]
     },
     "execution_count": 44,
     "metadata": {},
     "output_type": "execute_result"
    }
   ],
   "source": [
    "print(f'Number of unique values = {np.unique(relatedAutoTopics_values).size}')\n",
    "pd.Series(relatedAutoTopics_values).value_counts()"
   ]
  },
  {
   "cell_type": "markdown",
   "id": "5db50bb6-c30b-4a27-804e-b1c37bef712b",
   "metadata": {},
   "source": [
    "## Is Opinion"
   ]
  },
  {
   "cell_type": "markdown",
   "id": "c1c175d0-2fbe-4314-ba93-fba16d6b2596",
   "metadata": {},
   "source": [
    "Overview"
   ]
  },
  {
   "cell_type": "code",
   "execution_count": 82,
   "id": "005fb05a-b0c6-470f-885d-e4ca52f219b6",
   "metadata": {},
   "outputs": [
    {
     "data": {
      "text/plain": [
       "0        False\n",
       "1         True\n",
       "2        False\n",
       "3        False\n",
       "4        False\n",
       "         ...  \n",
       "11843    False\n",
       "11844    False\n",
       "11845    False\n",
       "11846    False\n",
       "11847    False\n",
       "Name: isOpinion, Length: 11848, dtype: bool"
      ]
     },
     "execution_count": 82,
     "metadata": {},
     "output_type": "execute_result"
    }
   ],
   "source": [
    "data.isOpinion"
   ]
  },
  {
   "cell_type": "markdown",
   "id": "4db6470e-5279-4859-8187-f49319f4c47b",
   "metadata": {},
   "source": [
    "Extract the significant values from the column `isOpinion`"
   ]
  },
  {
   "cell_type": "code",
   "execution_count": 46,
   "id": "f47282cb-1b71-407a-ba7c-3c5048a9a811",
   "metadata": {},
   "outputs": [
    {
     "name": "stdout",
     "output_type": "stream",
     "text": [
      "<class 'pandas.core.series.Series'>\n",
      "RangeIndex: 11848 entries, 0 to 11847\n",
      "Series name: isOpinion\n",
      "Non-Null Count  Dtype\n",
      "--------------  -----\n",
      "11848 non-null  bool \n",
      "dtypes: bool(1)\n",
      "memory usage: 11.7 KB\n"
     ]
    }
   ],
   "source": [
    "data.isOpinion.info()"
   ]
  },
  {
   "cell_type": "markdown",
   "id": "5a80c34b-3ced-4669-b7fb-2855eabd2ca8",
   "metadata": {},
   "source": [
    "Unique values"
   ]
  },
  {
   "cell_type": "code",
   "execution_count": 83,
   "id": "5288a8cd-d37f-4024-a3bd-e95b76154dc7",
   "metadata": {},
   "outputs": [
    {
     "data": {
      "text/plain": [
       "False    11199\n",
       "True       649\n",
       "Name: isOpinion, dtype: int64"
      ]
     },
     "execution_count": 83,
     "metadata": {},
     "output_type": "execute_result"
    }
   ],
   "source": [
    "data.isOpinion.value_counts()"
   ]
  },
  {
   "cell_type": "markdown",
   "id": "9f037f8d-1038-4e3f-8901-9f7c87f5ae1b",
   "metadata": {},
   "source": [
    "## Images"
   ]
  },
  {
   "cell_type": "markdown",
   "id": "559996f0-650f-42e8-8609-d438656b62a6",
   "metadata": {},
   "source": [
    "Overview"
   ]
  },
  {
   "cell_type": "code",
   "execution_count": 85,
   "id": "2e9bc723-4684-48e3-b2e3-674a89abd1a1",
   "metadata": {},
   "outputs": [
    {
     "data": {
      "text/plain": [
       "0        [{'name': 'S04 Schalke-Boss Clemens Tönnies'},...\n",
       "1        [{'name': 'Brüssel | EU Gipfeltreffen: Angela ...\n",
       "2                    [{'name': 'Hubble Weltraumteleskop'}]\n",
       "3        [{'name': 'Hongkong | Pro-Democracy Proteste a...\n",
       "4        [{'name': 'Aus für US-Militär-Standorte Schwei...\n",
       "                               ...                        \n",
       "11843    [{'name': 'Ausstellung Enthüllt. Berlin und se...\n",
       "11844             [{'name': 'Hongkong Sicherheitsgesetz'}]\n",
       "11845      [{'name': 'Carlos Alberto Decotelli da Silva'}]\n",
       "11846                [{'name': 'Coronavirus I Brasilien'}]\n",
       "11847                                                   []\n",
       "Name: images, Length: 11848, dtype: object"
      ]
     },
     "execution_count": 85,
     "metadata": {},
     "output_type": "execute_result"
    }
   ],
   "source": [
    "data.images"
   ]
  },
  {
   "cell_type": "markdown",
   "id": "860cc534-a009-444f-9962-d9c5c4d6d86a",
   "metadata": {},
   "source": [
    "Extract the significant values from the column `images`"
   ]
  },
  {
   "cell_type": "code",
   "execution_count": 47,
   "id": "80d51dc5-1e24-402c-9633-8471e5563f94",
   "metadata": {},
   "outputs": [],
   "source": [
    "images = []\n",
    "for irow,row in enumerate(data.itertuples()):\n",
    "    images.append(len(row.images))"
   ]
  },
  {
   "cell_type": "code",
   "execution_count": 49,
   "id": "7dc5c2ee-be7d-41c8-9643-404b3ef4decc",
   "metadata": {},
   "outputs": [
    {
     "name": "stdout",
     "output_type": "stream",
     "text": [
      "Number of unique values = 15\n"
     ]
    },
    {
     "data": {
      "text/plain": [
       "1     8114\n",
       "2     1916\n",
       "3     1001\n",
       "4      418\n",
       "5      140\n",
       "0      118\n",
       "6       71\n",
       "8       21\n",
       "7       19\n",
       "10      10\n",
       "9       10\n",
       "12       4\n",
       "14       3\n",
       "11       2\n",
       "26       1\n",
       "dtype: int64"
      ]
     },
     "execution_count": 49,
     "metadata": {},
     "output_type": "execute_result"
    }
   ],
   "source": [
    "print(f'Number of unique values = {np.unique(images).size}')\n",
    "pd.Series(images).value_counts()"
   ]
  },
  {
   "cell_type": "code",
   "execution_count": 92,
   "id": "347a8960-389e-4aac-b132-a9b094bb972e",
   "metadata": {},
   "outputs": [
    {
     "data": {
      "text/plain": [
       "15"
      ]
     },
     "execution_count": 92,
     "metadata": {},
     "output_type": "execute_result"
    }
   ],
   "source": [
    "np.unique(images).size"
   ]
  },
  {
   "cell_type": "code",
   "execution_count": 93,
   "id": "79872531-b427-4e1d-802f-91f86ac9467f",
   "metadata": {},
   "outputs": [
    {
     "data": {
      "text/plain": [
       "1     8114\n",
       "2     1916\n",
       "3     1001\n",
       "4      418\n",
       "5      140\n",
       "0      118\n",
       "6       71\n",
       "8       21\n",
       "7       19\n",
       "10      10\n",
       "9       10\n",
       "12       4\n",
       "14       3\n",
       "11       2\n",
       "26       1\n",
       "dtype: int64"
      ]
     },
     "execution_count": 93,
     "metadata": {},
     "output_type": "execute_result"
    }
   ],
   "source": [
    "pd.Series(images).value_counts()"
   ]
  },
  {
   "cell_type": "markdown",
   "id": "33fb792c-cac8-45a8-a7ab-be7290274079",
   "metadata": {},
   "source": [
    "# Clean of one article"
   ]
  },
  {
   "cell_type": "code",
   "execution_count": 27,
   "id": "79e64f15-1307-4192-9312-1236d4fd05e2",
   "metadata": {},
   "outputs": [],
   "source": [
    "def normalize_white_space(text):\n",
    "    \"\"\"Normalize white space in a string.\"\"\"\n",
    "    return re.sub(r'\\s+', ' ', text).strip()\n",
    "\n",
    "def remove_puntuaction_marks(text): # Not used\n",
    "    \"\"\"Remove punctuation marks from a string.\"\"\"\n",
    "    return re.sub(r'\\.|\\,|\\?|\\!|\\;|\\:', '', text)\n",
    "\n",
    "def has_space(text):\n",
    "    \"\"\"Check if a string has space.\"\"\"\n",
    "    return ' ' in text\n",
    "\n",
    "@dataclass(frozen=True)\n",
    "class Article:\n",
    "    \"\"\"Dataclass to easily move and operate relevant content of an article\"\"\"\n",
    "    id: int\n",
    "    language: str\n",
    "    sentences: list[str] = field(repr=False)\n",
    "    original_text: str = field(repr=False)\n",
    "    number_of_sentences: int = field(init=False)\n",
    "    persons: tuple[list] = field(init=False, repr=False)\n",
    "    \n",
    "    def __post_init__(self):\n",
    "        object.__setattr__(self, 'number_of_sentences', len(self.sentences))\n",
    "        object.__setattr__(self, 'persons', tuple([] for i in range(self.number_of_sentences))) # one list per sentence\n",
    "    \n",
    "    def render_html(self):\n",
    "        \"\"\"Print attribute `original_text` rendered in HTML\"\"\"\n",
    "        display(HTML(self.original_text))"
   ]
  },
  {
   "cell_type": "markdown",
   "id": "0ea55478-dde3-4762-aa92-deca2e88cf91",
   "metadata": {
    "tags": []
   },
   "source": [
    "## Try with a single article first."
   ]
  },
  {
   "cell_type": "code",
   "execution_count": 28,
   "id": "0a3945de-3fd7-40f1-a65b-47023fc4c219",
   "metadata": {},
   "outputs": [],
   "source": [
    "article = data.iloc[0]"
   ]
  },
  {
   "cell_type": "markdown",
   "id": "ed9a6e71-cf00-440e-9ad4-0d5a41ef100e",
   "metadata": {},
   "source": [
    "## Explore"
   ]
  },
  {
   "cell_type": "markdown",
   "id": "be14d518-53fd-46c0-9474-02eb90cdee9a",
   "metadata": {},
   "source": [
    "Text"
   ]
  },
  {
   "cell_type": "code",
   "execution_count": 29,
   "id": "32b1efe3-32bf-4054-8712-20291d04c7c3",
   "metadata": {
    "collapsed": true,
    "jupyter": {
     "outputs_hidden": true
    },
    "tags": []
   },
   "outputs": [
    {
     "data": {
      "text/plain": [
       "'<p>O presidente do FC Schalke 04 e proprietário de um <a href=\"/pt-br/surto-em-frigorífico-provoca-novo-isolamento-na-alemanha/a-53913392\" class=\"internal-link\">frigorífico no centro de um novo surto de coronavírus</a>&nbsp; na Alemanha, Clemens Tönnies, renunciou nesta terça-feira (30/06) ao cargo que ocupava há 19 anos no tradicional clube de futebol alemão após se envolver em uma série de controvérsias, ainda que em questões bastante diferentes.</p>\\n\\n<p>O Schalke não conseguiu nenhuma vitória nos últimos 16 jogos que disputou pela Bundesliga, o campeonato alemão, na mais longa série sem um triunfo sequer na história da competição, e ainda foi goleado por 4 a 0 na última partida que disputou, contra o&nbsp;SC Freiburg.&nbsp;</p>\\n\\n<p>A equipe dos \"azuis-reais\" terminou o campeonato na 12ª colocação e não conseguiu se classificar para a Liga da Europa, o segundo mais importante torneio de clubes do continente, e ficou ainda mais longe da cobiçada vaga para a Liga dos Campeões da Uefa.</p>\\n\\n<p>A participação em uma dessas grandes competições europeias seria uma importante fonte de renda para a equipe, que vem atravessando uma série de problemas financeiros.</p>\\n\\n<p>Tönnies foi amplamente criticado no ano passado por uma declaração que lhe rendeu <a href=\"/pt-br/a-fala-racista-do-presidente-do-schalke-e-o-poder-do-vil-metal/a-50004824\" class=\"internal-link\">acusações de racismo</a>. No mês de agosto, durante um evento do clube, ele propôs o financiamento de usinas elétricas na África e disse: \"Então, os africanos parariam de derrubar árvores e de produzir crianças quando fica escuro.\"</p>\\n\\n<p>O comentário foi criticado como racista por ex-jogadores negros, como Gerald Asamoah, Hans Sarpei e pelo ex-atacante brasileiro Cacau, naturalizado alemão e que jogou pela seleção do país europeu.</p>\\n\\n<p>Mais tarde, Tönnies se desculpou pela afirmação, que disse ter sido \"errada\" e \"impensada\", mas os danos à&nbsp;sua imagem após o episódio ainda permanecem.</p>\\n\\n<p>O conselho honorário do clube considerou que Tönnies \"violou a proibição de discriminação contida no estatuto do clube\". Os conselheiros, entretanto, consideraram \"infundada\" a acusação de racismo contra o dirigente. Na época, o&nbsp;clube, porém, afirmou que Tönnies decidiu se afastar da entidade por um período de três meses.</p>\\n\\n<p>Ele também foi acusado, juntamente com outros dirigentes, de agir de modo questionável em relação aos torcedores que pediam o ressarcimento de ingressos comprados para os jogos da equipe que acabaram sendo realizados sem a presença de público em razão da pandemia de covid-19.</p>\\n\\n<p>Tönnies é dirigente do Schalke desde 1994 e se tornou presidente do clube em 2001. Nesse período, a equipe conquistou três Copas da Alemanha, foi cinco vezes vice-campeã da Bundesliga e se classificou para a Liga dos Campeões da Uefa&nbsp;em dez ocasiões.</p>\\n\\n<p>Nos últimos anos, porém, os problemas financeiros&nbsp;aumentaram. Em 2019, o clube anunciou ter&nbsp;dívidas de quase 200 milhões de euros, situação que deve ter se agravado durante a paralisação gerada pela crise do coronavírus.</p>\\n\\n<p>O Schalke escapou por pouco do rebaixamento na temporada anterior e apenas evitou a queda para a Segunda Divisão alemã este ano em razão do bom desempenho no primeiro turno do campeonato. Entretanto, os fracos resultados no returno aumentaram a pressão sobre a diretoria do clube. No último sábado, os torcedores organizaram um enorme protesto em frente ao estádio Veltins-Arena, na cidade de Gelsenkirchen, sede do clube.</p>\\n\\n<p>\"Sempre foi para mim uma honra servir a esse grande clube por mais de um quarto de século. Estarei ligado ao FC Schalke 04 por toda a minha vida\", afirmou Tönnies em seu pedido de desligamento. \"Minha maior tarefa agora será me concentrar por completo em minha empresa e conduzi-la na pior crise de sua história.\"</p>\\n\\n<p><strong>Frigorífico Tönnies vira epicentro de surto de covid-19</strong></p>\\n\\n<p>A empresa que leva o nome da família do ex-presidente do Schalke vem sendo fortemente criticada após o surgimento de um surto de coronavírus que forçou a reposição de medidas de confinamento em toda uma região, após mais de 1.500 funcionários do frigorífico Tönnies serem diagnosticados com covid-19.</p>\\n\\n<p>O governo do estado da Renânia do Norte-Vestfália impôs medidas rígidas de isolamento para Gütersloh e o distrito vizinho de Warendorf, na região onde vivem em torno de 640 mil pessoas. Cerca de 7 mil trabalhadores do frigorífico e seus familiares estão em quarentena. Todos os moradores dos dois distritos foram encorajados a se submeterem voluntariamente a testes de covid-19.</p>\\n\\n<p>As medidas reimpostas nos dois distritos, ampliadas até o dia 7 de julho, incluem restrições de contato e proibição da prática de esportes em locais fechados e de eventos culturais. Escolas e creches do distrito de Gütersloh já estavam fechadas desde 17 de junho, e a medida foi adotada em Warendorf na última quinta-feira.</p>\\n\\n<figure class=\"placeholder-image master_landscape big\"><img data-format=\"MASTER_LANDSCAPE\" data-id=\"53843187\" data-url=\"https://static-dev4.dw.com/image/53843187_${formatId}.jpg\" alt=\"Frigorífico Tönnies se tornou centro de novo surto de covid-19 no estado da Renânia do Norte-Vestfália\" style=\"padding-bottom: 56.25%; height: 0; max-height: 0;\"><figcaption class=\"img-caption\">Frigorífico Tönnies se tornou centro de novo surto de covid-19 no estado da Renânia do Norte-Vestfália<small class=\"copyright\">Foto: picture-alliance/dpa/D. Inderlied</small></figcaption></figure><p>Em ambos os distritos, os encontros em público só estão permitidos para pessoas de&nbsp;mesmo endereço ou apenas duas pessoas de domicílios distintos. Manifestações estão proibidas. Cinemas e bares também permanecem fechados, enquanto restaurantes podem funcionar sob regras rígidas, incluindo&nbsp;que no máximo duas pessoas ou uma família que vive no mesmo domicílio se sentem juntas.</p>\\n\\n<p>O frigorífico foi fechado e a empresa enfrenta críticas por não conseguir colaborar devidamente com as autoridades. A Tönnies não foi capaz de fornecer os endereços de todos os empregados para o monitoramento das quarentenas, pois grande parte deles é terceirizada, vinda de países do Leste Europeu com contratos temporários.</p>\\n\\n<p>Alguns conjuntos residenciais onde vivem esses trabalhadores foram cercados por grades para impor a quarentena obrigatória. As condições de moradia nesses locais não são as melhores, com muitos moradores para poucos metros quadrados, impossibilitando o distanciamento social. Soma-se a isso o medo de ficar sem receber salários com o fechamento do frigorífico.</p>\\n\\n<p>Após o escândalo, surgiram várias denúncias sobre as péssimas condições de trabalho no local. O surto trouxe à tona os altos custos sociais da carne de porco barata vendida na Alemanha, que só é possível de ser produzida com baixos salários e imigrantes que aceitem trabalhar e viver em condições precárias. O episódio reacendeu o debate sobre como proteger esses trabalhadores.</p>\\n\\n<p>A revolta gerada pelo papel da empresa no ressurgimento do coronavírus na região, após a doença estar amplamente controlada, levou muitas pessoas a pedirem o afastamento de Clemens Tönnies da companhia. Ele, porém, garante que vai tirar o frigorífico da crise.</p>\\n\\n<p>RC/dpa</p>\\n\\n<p>______________</p>\\n\\n<p><strong>A Deutsche Welle é a emissora internacional da Alemanha e produz jornalismo independente em 30 idiomas. Siga-nos no</strong>&nbsp;<a href=\"https://www.facebook.com/dw.brasil\">Facebook</a>&nbsp;|&nbsp;<a href=\"https://twitter.com/dw_brasil\">Twitter</a>&nbsp;|&nbsp;<a href=\"https://www.youtube.com/dwbrasil\">YouTube</a>&nbsp;<br>\\n|&nbsp;<a href=\"http://www.dw.com/pt-br/explore-a-dw/dw-no-celular/s-9142\">App</a>&nbsp;|&nbsp;<a href=\"https://www.instagram.com/dw.brasil/\">Instagram</a>&nbsp;|&nbsp;<a href=\"https://www.dw.com/assinatura-de-newsletter/a-15718263\">Newsletter</a></p>\\n\\n<p>&nbsp;</p>\\n'"
      ]
     },
     "execution_count": 29,
     "metadata": {},
     "output_type": "execute_result"
    }
   ],
   "source": [
    "article.text"
   ]
  },
  {
   "cell_type": "markdown",
   "id": "0034c326-831f-4963-9cec-a516e2b8c4bc",
   "metadata": {},
   "source": [
    "HTML"
   ]
  },
  {
   "cell_type": "code",
   "execution_count": 30,
   "id": "866640c1-0d6b-4822-a2ea-69929b63167e",
   "metadata": {
    "collapsed": true,
    "jupyter": {
     "outputs_hidden": true
    },
    "tags": []
   },
   "outputs": [
    {
     "data": {
      "text/html": [
       "<p>O presidente do FC Schalke 04 e proprietário de um <a href=\"/pt-br/surto-em-frigorífico-provoca-novo-isolamento-na-alemanha/a-53913392\" class=\"internal-link\">frigorífico no centro de um novo surto de coronavírus</a>&nbsp; na Alemanha, Clemens Tönnies, renunciou nesta terça-feira (30/06) ao cargo que ocupava há 19 anos no tradicional clube de futebol alemão após se envolver em uma série de controvérsias, ainda que em questões bastante diferentes.</p>\n",
       "\n",
       "<p>O Schalke não conseguiu nenhuma vitória nos últimos 16 jogos que disputou pela Bundesliga, o campeonato alemão, na mais longa série sem um triunfo sequer na história da competição, e ainda foi goleado por 4 a 0 na última partida que disputou, contra o&nbsp;SC Freiburg.&nbsp;</p>\n",
       "\n",
       "<p>A equipe dos \"azuis-reais\" terminou o campeonato na 12ª colocação e não conseguiu se classificar para a Liga da Europa, o segundo mais importante torneio de clubes do continente, e ficou ainda mais longe da cobiçada vaga para a Liga dos Campeões da Uefa.</p>\n",
       "\n",
       "<p>A participação em uma dessas grandes competições europeias seria uma importante fonte de renda para a equipe, que vem atravessando uma série de problemas financeiros.</p>\n",
       "\n",
       "<p>Tönnies foi amplamente criticado no ano passado por uma declaração que lhe rendeu <a href=\"/pt-br/a-fala-racista-do-presidente-do-schalke-e-o-poder-do-vil-metal/a-50004824\" class=\"internal-link\">acusações de racismo</a>. No mês de agosto, durante um evento do clube, ele propôs o financiamento de usinas elétricas na África e disse: \"Então, os africanos parariam de derrubar árvores e de produzir crianças quando fica escuro.\"</p>\n",
       "\n",
       "<p>O comentário foi criticado como racista por ex-jogadores negros, como Gerald Asamoah, Hans Sarpei e pelo ex-atacante brasileiro Cacau, naturalizado alemão e que jogou pela seleção do país europeu.</p>\n",
       "\n",
       "<p>Mais tarde, Tönnies se desculpou pela afirmação, que disse ter sido \"errada\" e \"impensada\", mas os danos à&nbsp;sua imagem após o episódio ainda permanecem.</p>\n",
       "\n",
       "<p>O conselho honorário do clube considerou que Tönnies \"violou a proibição de discriminação contida no estatuto do clube\". Os conselheiros, entretanto, consideraram \"infundada\" a acusação de racismo contra o dirigente. Na época, o&nbsp;clube, porém, afirmou que Tönnies decidiu se afastar da entidade por um período de três meses.</p>\n",
       "\n",
       "<p>Ele também foi acusado, juntamente com outros dirigentes, de agir de modo questionável em relação aos torcedores que pediam o ressarcimento de ingressos comprados para os jogos da equipe que acabaram sendo realizados sem a presença de público em razão da pandemia de covid-19.</p>\n",
       "\n",
       "<p>Tönnies é dirigente do Schalke desde 1994 e se tornou presidente do clube em 2001. Nesse período, a equipe conquistou três Copas da Alemanha, foi cinco vezes vice-campeã da Bundesliga e se classificou para a Liga dos Campeões da Uefa&nbsp;em dez ocasiões.</p>\n",
       "\n",
       "<p>Nos últimos anos, porém, os problemas financeiros&nbsp;aumentaram. Em 2019, o clube anunciou ter&nbsp;dívidas de quase 200 milhões de euros, situação que deve ter se agravado durante a paralisação gerada pela crise do coronavírus.</p>\n",
       "\n",
       "<p>O Schalke escapou por pouco do rebaixamento na temporada anterior e apenas evitou a queda para a Segunda Divisão alemã este ano em razão do bom desempenho no primeiro turno do campeonato. Entretanto, os fracos resultados no returno aumentaram a pressão sobre a diretoria do clube. No último sábado, os torcedores organizaram um enorme protesto em frente ao estádio Veltins-Arena, na cidade de Gelsenkirchen, sede do clube.</p>\n",
       "\n",
       "<p>\"Sempre foi para mim uma honra servir a esse grande clube por mais de um quarto de século. Estarei ligado ao FC Schalke 04 por toda a minha vida\", afirmou Tönnies em seu pedido de desligamento. \"Minha maior tarefa agora será me concentrar por completo em minha empresa e conduzi-la na pior crise de sua história.\"</p>\n",
       "\n",
       "<p><strong>Frigorífico Tönnies vira epicentro de surto de covid-19</strong></p>\n",
       "\n",
       "<p>A empresa que leva o nome da família do ex-presidente do Schalke vem sendo fortemente criticada após o surgimento de um surto de coronavírus que forçou a reposição de medidas de confinamento em toda uma região, após mais de 1.500 funcionários do frigorífico Tönnies serem diagnosticados com covid-19.</p>\n",
       "\n",
       "<p>O governo do estado da Renânia do Norte-Vestfália impôs medidas rígidas de isolamento para Gütersloh e o distrito vizinho de Warendorf, na região onde vivem em torno de 640 mil pessoas. Cerca de 7 mil trabalhadores do frigorífico e seus familiares estão em quarentena. Todos os moradores dos dois distritos foram encorajados a se submeterem voluntariamente a testes de covid-19.</p>\n",
       "\n",
       "<p>As medidas reimpostas nos dois distritos, ampliadas até o dia 7 de julho, incluem restrições de contato e proibição da prática de esportes em locais fechados e de eventos culturais. Escolas e creches do distrito de Gütersloh já estavam fechadas desde 17 de junho, e a medida foi adotada em Warendorf na última quinta-feira.</p>\n",
       "\n",
       "<figure class=\"placeholder-image master_landscape big\"><img data-format=\"MASTER_LANDSCAPE\" data-id=\"53843187\" data-url=\"https://static-dev4.dw.com/image/53843187_${formatId}.jpg\" alt=\"Frigorífico Tönnies se tornou centro de novo surto de covid-19 no estado da Renânia do Norte-Vestfália\" style=\"padding-bottom: 56.25%; height: 0; max-height: 0;\"><figcaption class=\"img-caption\">Frigorífico Tönnies se tornou centro de novo surto de covid-19 no estado da Renânia do Norte-Vestfália<small class=\"copyright\">Foto: picture-alliance/dpa/D. Inderlied</small></figcaption></figure><p>Em ambos os distritos, os encontros em público só estão permitidos para pessoas de&nbsp;mesmo endereço ou apenas duas pessoas de domicílios distintos. Manifestações estão proibidas. Cinemas e bares também permanecem fechados, enquanto restaurantes podem funcionar sob regras rígidas, incluindo&nbsp;que no máximo duas pessoas ou uma família que vive no mesmo domicílio se sentem juntas.</p>\n",
       "\n",
       "<p>O frigorífico foi fechado e a empresa enfrenta críticas por não conseguir colaborar devidamente com as autoridades. A Tönnies não foi capaz de fornecer os endereços de todos os empregados para o monitoramento das quarentenas, pois grande parte deles é terceirizada, vinda de países do Leste Europeu com contratos temporários.</p>\n",
       "\n",
       "<p>Alguns conjuntos residenciais onde vivem esses trabalhadores foram cercados por grades para impor a quarentena obrigatória. As condições de moradia nesses locais não são as melhores, com muitos moradores para poucos metros quadrados, impossibilitando o distanciamento social. Soma-se a isso o medo de ficar sem receber salários com o fechamento do frigorífico.</p>\n",
       "\n",
       "<p>Após o escândalo, surgiram várias denúncias sobre as péssimas condições de trabalho no local. O surto trouxe à tona os altos custos sociais da carne de porco barata vendida na Alemanha, que só é possível de ser produzida com baixos salários e imigrantes que aceitem trabalhar e viver em condições precárias. O episódio reacendeu o debate sobre como proteger esses trabalhadores.</p>\n",
       "\n",
       "<p>A revolta gerada pelo papel da empresa no ressurgimento do coronavírus na região, após a doença estar amplamente controlada, levou muitas pessoas a pedirem o afastamento de Clemens Tönnies da companhia. Ele, porém, garante que vai tirar o frigorífico da crise.</p>\n",
       "\n",
       "<p>RC/dpa</p>\n",
       "\n",
       "<p>______________</p>\n",
       "\n",
       "<p><strong>A Deutsche Welle é a emissora internacional da Alemanha e produz jornalismo independente em 30 idiomas. Siga-nos no</strong>&nbsp;<a href=\"https://www.facebook.com/dw.brasil\">Facebook</a>&nbsp;|&nbsp;<a href=\"https://twitter.com/dw_brasil\">Twitter</a>&nbsp;|&nbsp;<a href=\"https://www.youtube.com/dwbrasil\">YouTube</a>&nbsp;<br>\n",
       "|&nbsp;<a href=\"http://www.dw.com/pt-br/explore-a-dw/dw-no-celular/s-9142\">App</a>&nbsp;|&nbsp;<a href=\"https://www.instagram.com/dw.brasil/\">Instagram</a>&nbsp;|&nbsp;<a href=\"https://www.dw.com/assinatura-de-newsletter/a-15718263\">Newsletter</a></p>\n",
       "\n",
       "<p>&nbsp;</p>\n"
      ],
      "text/plain": [
       "<IPython.core.display.HTML object>"
      ]
     },
     "metadata": {},
     "output_type": "display_data"
    }
   ],
   "source": [
    "display(HTML(article.text))"
   ]
  },
  {
   "cell_type": "markdown",
   "id": "df02b27e-1606-4ad5-a2e5-a2d98cb2d6c4",
   "metadata": {},
   "source": [
    "## Clean"
   ]
  },
  {
   "cell_type": "code",
   "execution_count": 31,
   "id": "e4a2572c-5fd5-46ae-a77e-ea0d80430383",
   "metadata": {},
   "outputs": [],
   "source": [
    "# parse HTML format of the original text\n",
    "html_text = article.text\n",
    "soup = BeautifulSoup(html_text, 'html.parser')"
   ]
  },
  {
   "cell_type": "code",
   "execution_count": 32,
   "id": "4fb345d1-ef13-4538-8697-5a87ec6e065f",
   "metadata": {},
   "outputs": [],
   "source": [
    "# delete unwanted tags like figure captions\n",
    "for content in soup(['figure']):\n",
    "    content.decompose()"
   ]
  },
  {
   "cell_type": "code",
   "execution_count": 33,
   "id": "fa31eddb-92f8-4733-90d2-313c67024eae",
   "metadata": {},
   "outputs": [],
   "source": [
    "# regex to filter standard end of paragraph\n",
    "pattern1 = '\\.$' # sentence ends with .\n",
    "pattern2 = '\\.\"$' # sentence ends with .\" (quotes)\n",
    "pattern3 = \"\\.'$\" # sentence ends with .' (quotes)\n",
    "pattern = '|'.join([pattern1,pattern2,pattern3]) # use or-expression to combine all "
   ]
  },
  {
   "cell_type": "code",
   "execution_count": 34,
   "id": "a2a946cf-0486-41ab-8cfb-05dfd5f8aa01",
   "metadata": {},
   "outputs": [],
   "source": [
    "# Find paragraphs in the article (original text)\n",
    "paragraphs = []\n",
    "for content in soup.contents:\n",
    "    paragraph = content.get_text() # Convert to unicode text\n",
    "    paragraph = paragraph.strip() # Strip surrounding spaces\n",
    "    if re.search(pattern, paragraph):\n",
    "        paragraph = normalize(\"NFKD\", paragraph) # Unicode normalization. Eg, converts \"\\xa0\" to a long space\n",
    "        paragraph = normalize_white_space(paragraph)\n",
    "        paragraph = paragraph.strip() # Strip potential surrounding spaces introduced by the \"\\xa0\" conversion\n",
    "        paragraphs.append(paragraph)"
   ]
  },
  {
   "cell_type": "code",
   "execution_count": 35,
   "id": "c445254f-dffd-41c0-b24b-a0eafe343b6f",
   "metadata": {},
   "outputs": [],
   "source": [
    "# Find sentences in the paragraphs\n",
    "sentences = []\n",
    "for paragraph in paragraphs:\n",
    "    sentences.extend(re.split('(?<=\\.) ', paragraph)) # split text when \". \""
   ]
  },
  {
   "cell_type": "code",
   "execution_count": 36,
   "id": "7aff7048-32a3-409c-ac3d-b988ec7f0a15",
   "metadata": {},
   "outputs": [],
   "source": [
    "sentences = list(filter(has_space, sentences)) # Needed to classify as sentence"
   ]
  },
  {
   "cell_type": "markdown",
   "id": "71cd7a2a-0530-48d9-9969-43420f71467d",
   "metadata": {},
   "source": [
    "Check results"
   ]
  },
  {
   "cell_type": "code",
   "execution_count": 37,
   "id": "56662143-6d83-4ad6-81ee-5d73df72c5c4",
   "metadata": {
    "collapsed": true,
    "jupyter": {
     "outputs_hidden": true
    },
    "tags": []
   },
   "outputs": [
    {
     "data": {
      "text/plain": [
       "['O presidente do FC Schalke 04 e proprietário de um frigorífico no centro de um novo surto de coronavírus na Alemanha, Clemens Tönnies, renunciou nesta terça-feira (30/06) ao cargo que ocupava há 19 anos no tradicional clube de futebol alemão após se envolver em uma série de controvérsias, ainda que em questões bastante diferentes.',\n",
       " 'O Schalke não conseguiu nenhuma vitória nos últimos 16 jogos que disputou pela Bundesliga, o campeonato alemão, na mais longa série sem um triunfo sequer na história da competição, e ainda foi goleado por 4 a 0 na última partida que disputou, contra o SC Freiburg.',\n",
       " 'A equipe dos \"azuis-reais\" terminou o campeonato na 12a colocação e não conseguiu se classificar para a Liga da Europa, o segundo mais importante torneio de clubes do continente, e ficou ainda mais longe da cobiçada vaga para a Liga dos Campeões da Uefa.',\n",
       " 'A participação em uma dessas grandes competições europeias seria uma importante fonte de renda para a equipe, que vem atravessando uma série de problemas financeiros.',\n",
       " 'Tönnies foi amplamente criticado no ano passado por uma declaração que lhe rendeu acusações de racismo.',\n",
       " 'No mês de agosto, durante um evento do clube, ele propôs o financiamento de usinas elétricas na África e disse: \"Então, os africanos parariam de derrubar árvores e de produzir crianças quando fica escuro.\"',\n",
       " 'O comentário foi criticado como racista por ex-jogadores negros, como Gerald Asamoah, Hans Sarpei e pelo ex-atacante brasileiro Cacau, naturalizado alemão e que jogou pela seleção do país europeu.',\n",
       " 'Mais tarde, Tönnies se desculpou pela afirmação, que disse ter sido \"errada\" e \"impensada\", mas os danos à sua imagem após o episódio ainda permanecem.',\n",
       " 'O conselho honorário do clube considerou que Tönnies \"violou a proibição de discriminação contida no estatuto do clube\".',\n",
       " 'Os conselheiros, entretanto, consideraram \"infundada\" a acusação de racismo contra o dirigente.',\n",
       " 'Na época, o clube, porém, afirmou que Tönnies decidiu se afastar da entidade por um período de três meses.',\n",
       " 'Ele também foi acusado, juntamente com outros dirigentes, de agir de modo questionável em relação aos torcedores que pediam o ressarcimento de ingressos comprados para os jogos da equipe que acabaram sendo realizados sem a presença de público em razão da pandemia de covid-19.',\n",
       " 'Tönnies é dirigente do Schalke desde 1994 e se tornou presidente do clube em 2001.',\n",
       " 'Nesse período, a equipe conquistou três Copas da Alemanha, foi cinco vezes vice-campeã da Bundesliga e se classificou para a Liga dos Campeões da Uefa em dez ocasiões.',\n",
       " 'Nos últimos anos, porém, os problemas financeiros aumentaram.',\n",
       " 'Em 2019, o clube anunciou ter dívidas de quase 200 milhões de euros, situação que deve ter se agravado durante a paralisação gerada pela crise do coronavírus.',\n",
       " 'O Schalke escapou por pouco do rebaixamento na temporada anterior e apenas evitou a queda para a Segunda Divisão alemã este ano em razão do bom desempenho no primeiro turno do campeonato.',\n",
       " 'Entretanto, os fracos resultados no returno aumentaram a pressão sobre a diretoria do clube.',\n",
       " 'No último sábado, os torcedores organizaram um enorme protesto em frente ao estádio Veltins-Arena, na cidade de Gelsenkirchen, sede do clube.',\n",
       " '\"Sempre foi para mim uma honra servir a esse grande clube por mais de um quarto de século.',\n",
       " 'Estarei ligado ao FC Schalke 04 por toda a minha vida\", afirmou Tönnies em seu pedido de desligamento.',\n",
       " '\"Minha maior tarefa agora será me concentrar por completo em minha empresa e conduzi-la na pior crise de sua história.\"',\n",
       " 'A empresa que leva o nome da família do ex-presidente do Schalke vem sendo fortemente criticada após o surgimento de um surto de coronavírus que forçou a reposição de medidas de confinamento em toda uma região, após mais de 1.500 funcionários do frigorífico Tönnies serem diagnosticados com covid-19.',\n",
       " 'O governo do estado da Renânia do Norte-Vestfália impôs medidas rígidas de isolamento para Gütersloh e o distrito vizinho de Warendorf, na região onde vivem em torno de 640 mil pessoas.',\n",
       " 'Cerca de 7 mil trabalhadores do frigorífico e seus familiares estão em quarentena.',\n",
       " 'Todos os moradores dos dois distritos foram encorajados a se submeterem voluntariamente a testes de covid-19.',\n",
       " 'As medidas reimpostas nos dois distritos, ampliadas até o dia 7 de julho, incluem restrições de contato e proibição da prática de esportes em locais fechados e de eventos culturais.',\n",
       " 'Escolas e creches do distrito de Gütersloh já estavam fechadas desde 17 de junho, e a medida foi adotada em Warendorf na última quinta-feira.',\n",
       " 'Em ambos os distritos, os encontros em público só estão permitidos para pessoas de mesmo endereço ou apenas duas pessoas de domicílios distintos.',\n",
       " 'Manifestações estão proibidas.',\n",
       " 'Cinemas e bares também permanecem fechados, enquanto restaurantes podem funcionar sob regras rígidas, incluindo que no máximo duas pessoas ou uma família que vive no mesmo domicílio se sentem juntas.',\n",
       " 'O frigorífico foi fechado e a empresa enfrenta críticas por não conseguir colaborar devidamente com as autoridades.',\n",
       " 'A Tönnies não foi capaz de fornecer os endereços de todos os empregados para o monitoramento das quarentenas, pois grande parte deles é terceirizada, vinda de países do Leste Europeu com contratos temporários.',\n",
       " 'Alguns conjuntos residenciais onde vivem esses trabalhadores foram cercados por grades para impor a quarentena obrigatória.',\n",
       " 'As condições de moradia nesses locais não são as melhores, com muitos moradores para poucos metros quadrados, impossibilitando o distanciamento social.',\n",
       " 'Soma-se a isso o medo de ficar sem receber salários com o fechamento do frigorífico.',\n",
       " 'Após o escândalo, surgiram várias denúncias sobre as péssimas condições de trabalho no local.',\n",
       " 'O surto trouxe à tona os altos custos sociais da carne de porco barata vendida na Alemanha, que só é possível de ser produzida com baixos salários e imigrantes que aceitem trabalhar e viver em condições precárias.',\n",
       " 'O episódio reacendeu o debate sobre como proteger esses trabalhadores.',\n",
       " 'A revolta gerada pelo papel da empresa no ressurgimento do coronavírus na região, após a doença estar amplamente controlada, levou muitas pessoas a pedirem o afastamento de Clemens Tönnies da companhia.',\n",
       " 'Ele, porém, garante que vai tirar o frigorífico da crise.']"
      ]
     },
     "execution_count": 37,
     "metadata": {},
     "output_type": "execute_result"
    }
   ],
   "source": [
    "sentences"
   ]
  },
  {
   "cell_type": "markdown",
   "id": "fbec39fc-addd-463c-8aef-d4485b75ce50",
   "metadata": {},
   "source": [
    "## Collect"
   ]
  },
  {
   "cell_type": "markdown",
   "id": "9c0262af-f575-4694-81ae-fa52715936d4",
   "metadata": {},
   "source": [
    "Original"
   ]
  },
  {
   "cell_type": "code",
   "execution_count": 38,
   "id": "6fe8afdc-dc29-47c6-b26e-16d6a51e1efd",
   "metadata": {},
   "outputs": [
    {
     "data": {
      "text/plain": [
       "id                                                                54006424\n",
       "language                                                 PORTUGUESE_BRAZIL\n",
       "name                     Covid-19, racismo e mau futebol derrubam presi...\n",
       "shortTitle                 Escândalos derrubam presidente do FC Schalke 04\n",
       "text                     <p>O presidente do FC Schalke 04 e proprietári...\n",
       "teaser                   Após sucessivas controvérsias e péssima campan...\n",
       "shortTeaser              Proprietário do frigorífico Tönnies, centro de...\n",
       "kicker                                                            Alemanha\n",
       "regions                                                                 []\n",
       "keywords                 [{'name': 'Tönnies'}, {'name': 'covid-19'}, {'...\n",
       "keywordStrings           [Tönnies, covid-19, coronavírus, pandemia, FC ...\n",
       "thematicFocusCategory                                  {'name': 'Futebol'}\n",
       "navigations                   [{'name': 'Alemanha'}, {'name': 'NOTÍCIAS'}]\n",
       "categories                        [{'name': 'Futebol'}, {'name': 'Saúde'}]\n",
       "departments                                    [{'name': 'Brasilianisch'}]\n",
       "firstPublicationDate                              2020-07-01T00:32:15.020Z\n",
       "lastModifiedDate                                  2020-07-07T16:44:41.762Z\n",
       "contentDate                                       2020-07-01T00:37:53.785Z\n",
       "relatedAutoTopics        [{'name': 'CPI da Pandemia'}, {'name': 'Covid-...\n",
       "contentLinks             [{'name': 'Schalke 04, o declínio de uma lenda...\n",
       "articles                 [{'name': 'Schalke 04, o declínio de uma lenda...\n",
       "isOpinion                                                            False\n",
       "contentAssociations      [{'id': 53326534}, {'id': 53326552}, {'id': 53...\n",
       "mainContentImageLink     {'description': 'Clemens Tönnies, proprietário...\n",
       "images                   [{'name': 'S04 Schalke-Boss Clemens Tönnies'},...\n",
       "externalLinks                                                           []\n",
       "topStory                                                             False\n",
       "Name: 0, dtype: object"
      ]
     },
     "execution_count": 38,
     "metadata": {},
     "output_type": "execute_result"
    }
   ],
   "source": [
    "article"
   ]
  },
  {
   "cell_type": "markdown",
   "id": "30b5648f-2d8f-4554-a5ba-dfafa284c681",
   "metadata": {},
   "source": [
    "Dataclass"
   ]
  },
  {
   "cell_type": "code",
   "execution_count": 39,
   "id": "1b0284a0-5087-4076-b4bb-9f3984749884",
   "metadata": {},
   "outputs": [],
   "source": [
    "article = Article(article.id, article.language, sentences, article.text)"
   ]
  },
  {
   "cell_type": "code",
   "execution_count": 40,
   "id": "92083f13-c6f4-4c09-80dd-a6b029aaf3bf",
   "metadata": {},
   "outputs": [
    {
     "data": {
      "text/plain": [
       "Article(id=54006424, language='PORTUGUESE_BRAZIL', number_of_sentences=41)"
      ]
     },
     "execution_count": 40,
     "metadata": {},
     "output_type": "execute_result"
    }
   ],
   "source": [
    "article"
   ]
  },
  {
   "cell_type": "markdown",
   "id": "f991afb9-a600-4f7f-b574-72ea347f728c",
   "metadata": {},
   "source": [
    "Take a look at the sentences we found"
   ]
  },
  {
   "cell_type": "code",
   "execution_count": 41,
   "id": "c25a401d-3ad3-407d-bc07-117c4c7edc62",
   "metadata": {
    "collapsed": true,
    "jupyter": {
     "outputs_hidden": true
    },
    "tags": []
   },
   "outputs": [
    {
     "data": {
      "text/plain": [
       "['O presidente do FC Schalke 04 e proprietário de um frigorífico no centro de um novo surto de coronavírus na Alemanha, Clemens Tönnies, renunciou nesta terça-feira (30/06) ao cargo que ocupava há 19 anos no tradicional clube de futebol alemão após se envolver em uma série de controvérsias, ainda que em questões bastante diferentes.',\n",
       " 'O Schalke não conseguiu nenhuma vitória nos últimos 16 jogos que disputou pela Bundesliga, o campeonato alemão, na mais longa série sem um triunfo sequer na história da competição, e ainda foi goleado por 4 a 0 na última partida que disputou, contra o SC Freiburg.',\n",
       " 'A equipe dos \"azuis-reais\" terminou o campeonato na 12a colocação e não conseguiu se classificar para a Liga da Europa, o segundo mais importante torneio de clubes do continente, e ficou ainda mais longe da cobiçada vaga para a Liga dos Campeões da Uefa.',\n",
       " 'A participação em uma dessas grandes competições europeias seria uma importante fonte de renda para a equipe, que vem atravessando uma série de problemas financeiros.',\n",
       " 'Tönnies foi amplamente criticado no ano passado por uma declaração que lhe rendeu acusações de racismo.',\n",
       " 'No mês de agosto, durante um evento do clube, ele propôs o financiamento de usinas elétricas na África e disse: \"Então, os africanos parariam de derrubar árvores e de produzir crianças quando fica escuro.\"',\n",
       " 'O comentário foi criticado como racista por ex-jogadores negros, como Gerald Asamoah, Hans Sarpei e pelo ex-atacante brasileiro Cacau, naturalizado alemão e que jogou pela seleção do país europeu.',\n",
       " 'Mais tarde, Tönnies se desculpou pela afirmação, que disse ter sido \"errada\" e \"impensada\", mas os danos à sua imagem após o episódio ainda permanecem.',\n",
       " 'O conselho honorário do clube considerou que Tönnies \"violou a proibição de discriminação contida no estatuto do clube\".',\n",
       " 'Os conselheiros, entretanto, consideraram \"infundada\" a acusação de racismo contra o dirigente.',\n",
       " 'Na época, o clube, porém, afirmou que Tönnies decidiu se afastar da entidade por um período de três meses.',\n",
       " 'Ele também foi acusado, juntamente com outros dirigentes, de agir de modo questionável em relação aos torcedores que pediam o ressarcimento de ingressos comprados para os jogos da equipe que acabaram sendo realizados sem a presença de público em razão da pandemia de covid-19.',\n",
       " 'Tönnies é dirigente do Schalke desde 1994 e se tornou presidente do clube em 2001.',\n",
       " 'Nesse período, a equipe conquistou três Copas da Alemanha, foi cinco vezes vice-campeã da Bundesliga e se classificou para a Liga dos Campeões da Uefa em dez ocasiões.',\n",
       " 'Nos últimos anos, porém, os problemas financeiros aumentaram.',\n",
       " 'Em 2019, o clube anunciou ter dívidas de quase 200 milhões de euros, situação que deve ter se agravado durante a paralisação gerada pela crise do coronavírus.',\n",
       " 'O Schalke escapou por pouco do rebaixamento na temporada anterior e apenas evitou a queda para a Segunda Divisão alemã este ano em razão do bom desempenho no primeiro turno do campeonato.',\n",
       " 'Entretanto, os fracos resultados no returno aumentaram a pressão sobre a diretoria do clube.',\n",
       " 'No último sábado, os torcedores organizaram um enorme protesto em frente ao estádio Veltins-Arena, na cidade de Gelsenkirchen, sede do clube.',\n",
       " '\"Sempre foi para mim uma honra servir a esse grande clube por mais de um quarto de século.',\n",
       " 'Estarei ligado ao FC Schalke 04 por toda a minha vida\", afirmou Tönnies em seu pedido de desligamento.',\n",
       " '\"Minha maior tarefa agora será me concentrar por completo em minha empresa e conduzi-la na pior crise de sua história.\"',\n",
       " 'A empresa que leva o nome da família do ex-presidente do Schalke vem sendo fortemente criticada após o surgimento de um surto de coronavírus que forçou a reposição de medidas de confinamento em toda uma região, após mais de 1.500 funcionários do frigorífico Tönnies serem diagnosticados com covid-19.',\n",
       " 'O governo do estado da Renânia do Norte-Vestfália impôs medidas rígidas de isolamento para Gütersloh e o distrito vizinho de Warendorf, na região onde vivem em torno de 640 mil pessoas.',\n",
       " 'Cerca de 7 mil trabalhadores do frigorífico e seus familiares estão em quarentena.',\n",
       " 'Todos os moradores dos dois distritos foram encorajados a se submeterem voluntariamente a testes de covid-19.',\n",
       " 'As medidas reimpostas nos dois distritos, ampliadas até o dia 7 de julho, incluem restrições de contato e proibição da prática de esportes em locais fechados e de eventos culturais.',\n",
       " 'Escolas e creches do distrito de Gütersloh já estavam fechadas desde 17 de junho, e a medida foi adotada em Warendorf na última quinta-feira.',\n",
       " 'Em ambos os distritos, os encontros em público só estão permitidos para pessoas de mesmo endereço ou apenas duas pessoas de domicílios distintos.',\n",
       " 'Manifestações estão proibidas.',\n",
       " 'Cinemas e bares também permanecem fechados, enquanto restaurantes podem funcionar sob regras rígidas, incluindo que no máximo duas pessoas ou uma família que vive no mesmo domicílio se sentem juntas.',\n",
       " 'O frigorífico foi fechado e a empresa enfrenta críticas por não conseguir colaborar devidamente com as autoridades.',\n",
       " 'A Tönnies não foi capaz de fornecer os endereços de todos os empregados para o monitoramento das quarentenas, pois grande parte deles é terceirizada, vinda de países do Leste Europeu com contratos temporários.',\n",
       " 'Alguns conjuntos residenciais onde vivem esses trabalhadores foram cercados por grades para impor a quarentena obrigatória.',\n",
       " 'As condições de moradia nesses locais não são as melhores, com muitos moradores para poucos metros quadrados, impossibilitando o distanciamento social.',\n",
       " 'Soma-se a isso o medo de ficar sem receber salários com o fechamento do frigorífico.',\n",
       " 'Após o escândalo, surgiram várias denúncias sobre as péssimas condições de trabalho no local.',\n",
       " 'O surto trouxe à tona os altos custos sociais da carne de porco barata vendida na Alemanha, que só é possível de ser produzida com baixos salários e imigrantes que aceitem trabalhar e viver em condições precárias.',\n",
       " 'O episódio reacendeu o debate sobre como proteger esses trabalhadores.',\n",
       " 'A revolta gerada pelo papel da empresa no ressurgimento do coronavírus na região, após a doença estar amplamente controlada, levou muitas pessoas a pedirem o afastamento de Clemens Tönnies da companhia.',\n",
       " 'Ele, porém, garante que vai tirar o frigorífico da crise.']"
      ]
     },
     "execution_count": 41,
     "metadata": {},
     "output_type": "execute_result"
    }
   ],
   "source": [
    "article.sentences"
   ]
  },
  {
   "cell_type": "markdown",
   "id": "898ee8d5-2558-482c-9950-ea35e34f1822",
   "metadata": {},
   "source": [
    "Take a look at empty lists (one per sentences) that will be later filled in with the persons' names using the NER. "
   ]
  },
  {
   "cell_type": "code",
   "execution_count": 30,
   "id": "aed3d46c-0f57-4e9c-9d43-177eda11071b",
   "metadata": {
    "collapsed": true,
    "jupyter": {
     "outputs_hidden": true
    },
    "tags": []
   },
   "outputs": [
    {
     "data": {
      "text/plain": [
       "([],\n",
       " [],\n",
       " [],\n",
       " [],\n",
       " [],\n",
       " [],\n",
       " [],\n",
       " [],\n",
       " [],\n",
       " [],\n",
       " [],\n",
       " [],\n",
       " [],\n",
       " [],\n",
       " [],\n",
       " [],\n",
       " [],\n",
       " [],\n",
       " [],\n",
       " [],\n",
       " [],\n",
       " [],\n",
       " [],\n",
       " [],\n",
       " [],\n",
       " [],\n",
       " [],\n",
       " [],\n",
       " [],\n",
       " [],\n",
       " [],\n",
       " [],\n",
       " [],\n",
       " [],\n",
       " [],\n",
       " [],\n",
       " [],\n",
       " [],\n",
       " [],\n",
       " [],\n",
       " [])"
      ]
     },
     "execution_count": 30,
     "metadata": {},
     "output_type": "execute_result"
    }
   ],
   "source": [
    "article.persons"
   ]
  },
  {
   "cell_type": "markdown",
   "id": "725e0598-15d9-4b12-b7c9-476c4c692338",
   "metadata": {},
   "source": [
    "Check if the lenths agree with each other"
   ]
  },
  {
   "cell_type": "code",
   "execution_count": 42,
   "id": "db80a224-025f-482c-becd-5607d839eedd",
   "metadata": {},
   "outputs": [
    {
     "name": "stdout",
     "output_type": "stream",
     "text": [
      "41 41\n"
     ]
    }
   ],
   "source": [
    "print(len(article.sentences), len(article.persons))"
   ]
  },
  {
   "cell_type": "markdown",
   "id": "89e77327-7867-4420-8aa2-e47bd133fadb",
   "metadata": {},
   "source": [
    "# Cleaning of all articles"
   ]
  },
  {
   "cell_type": "code",
   "execution_count": 43,
   "id": "34a8d253-2e7e-46a5-9071-b9c91ea85056",
   "metadata": {},
   "outputs": [],
   "source": [
    "articles = []\n",
    "\n",
    "for article in data.itertuples(index=False):\n",
    "    \n",
    "    html_text = article.text\n",
    "    soup = BeautifulSoup(html_text, 'html.parser')\n",
    "\n",
    "    # delete unwanted tags like figure captions\n",
    "    for content in soup(['figure']):\n",
    "        content.decompose()\n",
    "\n",
    "    # regex to filter standard end of paragraph\n",
    "    pattern1 = '\\.$' # sentence ends with .\n",
    "    pattern2 = '\\.\"$' # sentence ends with .\" (quotes)\n",
    "    pattern3 = \"\\.'$\" # sentence ends with .' (quotes)\n",
    "    pattern = '|'.join([pattern1,pattern2,pattern3]) # use or-expression to combine all \n",
    "\n",
    "    paragraphs = []\n",
    "    for content in soup.contents:\n",
    "        paragraph = content.get_text() # Convert to unicode text\n",
    "        paragraph = paragraph.strip() # Strip surrounding spaces\n",
    "        if re.search(pattern, paragraph):\n",
    "            paragraph = normalize(\"NFKD\", paragraph) # Unicode normalization. Eg, converts \"\\xa0\" to a long space\n",
    "            paragraph = normalize_white_space(paragraph)\n",
    "            paragraph = paragraph.strip() # Strip potential surrounding spaces introduced by the \"\\xa0\" conversion\n",
    "            paragraphs.append(paragraph)\n",
    "\n",
    "    sentences = []\n",
    "    for paragraph in paragraphs:\n",
    "        sentences.extend(re.split('(?<=\\.) ', paragraph)) # split text when \". \"\n",
    "\n",
    "    sentences = list(filter(has_space, sentences)) # Needed to classify as sentence\n",
    "\n",
    "    articles.append(Article(article.id, article.language, sentences, article.text))"
   ]
  },
  {
   "cell_type": "markdown",
   "id": "1072cd4f-3b58-4184-b598-2cc812c48254",
   "metadata": {
    "tags": []
   },
   "source": [
    "## Check results"
   ]
  },
  {
   "cell_type": "markdown",
   "id": "46538916-7106-4cdc-ae99-e2190bab9d0b",
   "metadata": {},
   "source": [
    "Number of articles processed"
   ]
  },
  {
   "cell_type": "code",
   "execution_count": 44,
   "id": "91d73bce-0e9e-455f-b211-371cdbc71ee2",
   "metadata": {},
   "outputs": [
    {
     "data": {
      "text/plain": [
       "11848"
      ]
     },
     "execution_count": 44,
     "metadata": {},
     "output_type": "execute_result"
    }
   ],
   "source": [
    "len(articles)"
   ]
  },
  {
   "cell_type": "markdown",
   "id": "53277b1b-df52-44d8-84ec-35118b7e1038",
   "metadata": {},
   "source": [
    "Display info about the first 10 articles"
   ]
  },
  {
   "cell_type": "code",
   "execution_count": 45,
   "id": "5536dd2b-1809-4788-8cdc-0f9bd5b29d76",
   "metadata": {},
   "outputs": [
    {
     "data": {
      "text/plain": [
       "[Article(id=54006424, language='PORTUGUESE_BRAZIL', number_of_sentences=41),\n",
       " Article(id=54003004, language='PORTUGUESE_BRAZIL', number_of_sentences=34),\n",
       " Article(id=54009380, language='PORTUGUESE_BRAZIL', number_of_sentences=14),\n",
       " Article(id=54008153, language='PORTUGUESE_BRAZIL', number_of_sentences=22),\n",
       " Article(id=54009331, language='PORTUGUESE_BRAZIL', number_of_sentences=20),\n",
       " Article(id=54010979, language='PORTUGUESE_BRAZIL', number_of_sentences=32),\n",
       " Article(id=54011278, language='PORTUGUESE_BRAZIL', number_of_sentences=19),\n",
       " Article(id=54012392, language='PORTUGUESE_BRAZIL', number_of_sentences=161),\n",
       " Article(id=54015488, language='PORTUGUESE_BRAZIL', number_of_sentences=13),\n",
       " Article(id=54015413, language='PORTUGUESE_BRAZIL', number_of_sentences=19)]"
      ]
     },
     "execution_count": 45,
     "metadata": {},
     "output_type": "execute_result"
    }
   ],
   "source": [
    "articles[:10]"
   ]
  },
  {
   "cell_type": "markdown",
   "id": "aa1872fa-8843-409f-b4b4-e97c24635be5",
   "metadata": {},
   "source": [
    "### Check article 0"
   ]
  },
  {
   "cell_type": "code",
   "execution_count": 46,
   "id": "98d51120-f73a-425b-8dad-67e950ce0a96",
   "metadata": {
    "collapsed": true,
    "jupyter": {
     "outputs_hidden": true
    },
    "tags": []
   },
   "outputs": [
    {
     "data": {
      "text/html": [
       "<p>O presidente do FC Schalke 04 e proprietário de um <a href=\"/pt-br/surto-em-frigorífico-provoca-novo-isolamento-na-alemanha/a-53913392\" class=\"internal-link\">frigorífico no centro de um novo surto de coronavírus</a>&nbsp; na Alemanha, Clemens Tönnies, renunciou nesta terça-feira (30/06) ao cargo que ocupava há 19 anos no tradicional clube de futebol alemão após se envolver em uma série de controvérsias, ainda que em questões bastante diferentes.</p>\n",
       "\n",
       "<p>O Schalke não conseguiu nenhuma vitória nos últimos 16 jogos que disputou pela Bundesliga, o campeonato alemão, na mais longa série sem um triunfo sequer na história da competição, e ainda foi goleado por 4 a 0 na última partida que disputou, contra o&nbsp;SC Freiburg.&nbsp;</p>\n",
       "\n",
       "<p>A equipe dos \"azuis-reais\" terminou o campeonato na 12ª colocação e não conseguiu se classificar para a Liga da Europa, o segundo mais importante torneio de clubes do continente, e ficou ainda mais longe da cobiçada vaga para a Liga dos Campeões da Uefa.</p>\n",
       "\n",
       "<p>A participação em uma dessas grandes competições europeias seria uma importante fonte de renda para a equipe, que vem atravessando uma série de problemas financeiros.</p>\n",
       "\n",
       "<p>Tönnies foi amplamente criticado no ano passado por uma declaração que lhe rendeu <a href=\"/pt-br/a-fala-racista-do-presidente-do-schalke-e-o-poder-do-vil-metal/a-50004824\" class=\"internal-link\">acusações de racismo</a>. No mês de agosto, durante um evento do clube, ele propôs o financiamento de usinas elétricas na África e disse: \"Então, os africanos parariam de derrubar árvores e de produzir crianças quando fica escuro.\"</p>\n",
       "\n",
       "<p>O comentário foi criticado como racista por ex-jogadores negros, como Gerald Asamoah, Hans Sarpei e pelo ex-atacante brasileiro Cacau, naturalizado alemão e que jogou pela seleção do país europeu.</p>\n",
       "\n",
       "<p>Mais tarde, Tönnies se desculpou pela afirmação, que disse ter sido \"errada\" e \"impensada\", mas os danos à&nbsp;sua imagem após o episódio ainda permanecem.</p>\n",
       "\n",
       "<p>O conselho honorário do clube considerou que Tönnies \"violou a proibição de discriminação contida no estatuto do clube\". Os conselheiros, entretanto, consideraram \"infundada\" a acusação de racismo contra o dirigente. Na época, o&nbsp;clube, porém, afirmou que Tönnies decidiu se afastar da entidade por um período de três meses.</p>\n",
       "\n",
       "<p>Ele também foi acusado, juntamente com outros dirigentes, de agir de modo questionável em relação aos torcedores que pediam o ressarcimento de ingressos comprados para os jogos da equipe que acabaram sendo realizados sem a presença de público em razão da pandemia de covid-19.</p>\n",
       "\n",
       "<p>Tönnies é dirigente do Schalke desde 1994 e se tornou presidente do clube em 2001. Nesse período, a equipe conquistou três Copas da Alemanha, foi cinco vezes vice-campeã da Bundesliga e se classificou para a Liga dos Campeões da Uefa&nbsp;em dez ocasiões.</p>\n",
       "\n",
       "<p>Nos últimos anos, porém, os problemas financeiros&nbsp;aumentaram. Em 2019, o clube anunciou ter&nbsp;dívidas de quase 200 milhões de euros, situação que deve ter se agravado durante a paralisação gerada pela crise do coronavírus.</p>\n",
       "\n",
       "<p>O Schalke escapou por pouco do rebaixamento na temporada anterior e apenas evitou a queda para a Segunda Divisão alemã este ano em razão do bom desempenho no primeiro turno do campeonato. Entretanto, os fracos resultados no returno aumentaram a pressão sobre a diretoria do clube. No último sábado, os torcedores organizaram um enorme protesto em frente ao estádio Veltins-Arena, na cidade de Gelsenkirchen, sede do clube.</p>\n",
       "\n",
       "<p>\"Sempre foi para mim uma honra servir a esse grande clube por mais de um quarto de século. Estarei ligado ao FC Schalke 04 por toda a minha vida\", afirmou Tönnies em seu pedido de desligamento. \"Minha maior tarefa agora será me concentrar por completo em minha empresa e conduzi-la na pior crise de sua história.\"</p>\n",
       "\n",
       "<p><strong>Frigorífico Tönnies vira epicentro de surto de covid-19</strong></p>\n",
       "\n",
       "<p>A empresa que leva o nome da família do ex-presidente do Schalke vem sendo fortemente criticada após o surgimento de um surto de coronavírus que forçou a reposição de medidas de confinamento em toda uma região, após mais de 1.500 funcionários do frigorífico Tönnies serem diagnosticados com covid-19.</p>\n",
       "\n",
       "<p>O governo do estado da Renânia do Norte-Vestfália impôs medidas rígidas de isolamento para Gütersloh e o distrito vizinho de Warendorf, na região onde vivem em torno de 640 mil pessoas. Cerca de 7 mil trabalhadores do frigorífico e seus familiares estão em quarentena. Todos os moradores dos dois distritos foram encorajados a se submeterem voluntariamente a testes de covid-19.</p>\n",
       "\n",
       "<p>As medidas reimpostas nos dois distritos, ampliadas até o dia 7 de julho, incluem restrições de contato e proibição da prática de esportes em locais fechados e de eventos culturais. Escolas e creches do distrito de Gütersloh já estavam fechadas desde 17 de junho, e a medida foi adotada em Warendorf na última quinta-feira.</p>\n",
       "\n",
       "<figure class=\"placeholder-image master_landscape big\"><img data-format=\"MASTER_LANDSCAPE\" data-id=\"53843187\" data-url=\"https://static-dev4.dw.com/image/53843187_${formatId}.jpg\" alt=\"Frigorífico Tönnies se tornou centro de novo surto de covid-19 no estado da Renânia do Norte-Vestfália\" style=\"padding-bottom: 56.25%; height: 0; max-height: 0;\"><figcaption class=\"img-caption\">Frigorífico Tönnies se tornou centro de novo surto de covid-19 no estado da Renânia do Norte-Vestfália<small class=\"copyright\">Foto: picture-alliance/dpa/D. Inderlied</small></figcaption></figure><p>Em ambos os distritos, os encontros em público só estão permitidos para pessoas de&nbsp;mesmo endereço ou apenas duas pessoas de domicílios distintos. Manifestações estão proibidas. Cinemas e bares também permanecem fechados, enquanto restaurantes podem funcionar sob regras rígidas, incluindo&nbsp;que no máximo duas pessoas ou uma família que vive no mesmo domicílio se sentem juntas.</p>\n",
       "\n",
       "<p>O frigorífico foi fechado e a empresa enfrenta críticas por não conseguir colaborar devidamente com as autoridades. A Tönnies não foi capaz de fornecer os endereços de todos os empregados para o monitoramento das quarentenas, pois grande parte deles é terceirizada, vinda de países do Leste Europeu com contratos temporários.</p>\n",
       "\n",
       "<p>Alguns conjuntos residenciais onde vivem esses trabalhadores foram cercados por grades para impor a quarentena obrigatória. As condições de moradia nesses locais não são as melhores, com muitos moradores para poucos metros quadrados, impossibilitando o distanciamento social. Soma-se a isso o medo de ficar sem receber salários com o fechamento do frigorífico.</p>\n",
       "\n",
       "<p>Após o escândalo, surgiram várias denúncias sobre as péssimas condições de trabalho no local. O surto trouxe à tona os altos custos sociais da carne de porco barata vendida na Alemanha, que só é possível de ser produzida com baixos salários e imigrantes que aceitem trabalhar e viver em condições precárias. O episódio reacendeu o debate sobre como proteger esses trabalhadores.</p>\n",
       "\n",
       "<p>A revolta gerada pelo papel da empresa no ressurgimento do coronavírus na região, após a doença estar amplamente controlada, levou muitas pessoas a pedirem o afastamento de Clemens Tönnies da companhia. Ele, porém, garante que vai tirar o frigorífico da crise.</p>\n",
       "\n",
       "<p>RC/dpa</p>\n",
       "\n",
       "<p>______________</p>\n",
       "\n",
       "<p><strong>A Deutsche Welle é a emissora internacional da Alemanha e produz jornalismo independente em 30 idiomas. Siga-nos no</strong>&nbsp;<a href=\"https://www.facebook.com/dw.brasil\">Facebook</a>&nbsp;|&nbsp;<a href=\"https://twitter.com/dw_brasil\">Twitter</a>&nbsp;|&nbsp;<a href=\"https://www.youtube.com/dwbrasil\">YouTube</a>&nbsp;<br>\n",
       "|&nbsp;<a href=\"http://www.dw.com/pt-br/explore-a-dw/dw-no-celular/s-9142\">App</a>&nbsp;|&nbsp;<a href=\"https://www.instagram.com/dw.brasil/\">Instagram</a>&nbsp;|&nbsp;<a href=\"https://www.dw.com/assinatura-de-newsletter/a-15718263\">Newsletter</a></p>\n",
       "\n",
       "<p>&nbsp;</p>\n"
      ],
      "text/plain": [
       "<IPython.core.display.HTML object>"
      ]
     },
     "metadata": {},
     "output_type": "display_data"
    }
   ],
   "source": [
    "articles[0].render_html()"
   ]
  },
  {
   "cell_type": "code",
   "execution_count": 47,
   "id": "27752237-e474-4436-8354-47573acba0fa",
   "metadata": {},
   "outputs": [
    {
     "data": {
      "text/plain": [
       "'O presidente do FC Schalke 04 e proprietário de um frigorífico no centro de um novo surto de coronavírus na Alemanha, Clemens Tönnies, renunciou nesta terça-feira (30/06) ao cargo que ocupava há 19 anos no tradicional clube de futebol alemão após se envolver em uma série de controvérsias, ainda que em questões bastante diferentes.'"
      ]
     },
     "execution_count": 47,
     "metadata": {},
     "output_type": "execute_result"
    }
   ],
   "source": [
    "articles[0].sentences[0]"
   ]
  },
  {
   "cell_type": "code",
   "execution_count": 16,
   "id": "51724744-0737-4618-9160-ecc7751eaae0",
   "metadata": {},
   "outputs": [
    {
     "data": {
      "text/plain": [
       "'O Schalke não conseguiu nenhuma vitória nos últimos 16 jogos que disputou pela Bundesliga, o campeonato alemão, na mais longa série sem um triunfo sequer na história da competição, e ainda foi goleado por 4 a 0 na última partida que disputou, contra o SC Freiburg.'"
      ]
     },
     "execution_count": 16,
     "metadata": {},
     "output_type": "execute_result"
    }
   ],
   "source": [
    "articles[0].sentences[1]"
   ]
  },
  {
   "cell_type": "code",
   "execution_count": 17,
   "id": "0d49dc5a-ce68-41d5-a7c7-253011d6b39c",
   "metadata": {},
   "outputs": [
    {
     "data": {
      "text/plain": [
       "'Ele, porém, garante que vai tirar o frigorífico da crise.'"
      ]
     },
     "execution_count": 17,
     "metadata": {},
     "output_type": "execute_result"
    }
   ],
   "source": [
    "articles[0].sentences[-1]"
   ]
  },
  {
   "cell_type": "code",
   "execution_count": 18,
   "id": "918a8217-4467-40ba-b8ee-1f40f42d9278",
   "metadata": {},
   "outputs": [
    {
     "data": {
      "text/plain": [
       "'A revolta gerada pelo papel da empresa no ressurgimento do coronavírus na região, após a doença estar amplamente controlada, levou muitas pessoas a pedirem o afastamento de Clemens Tönnies da companhia.'"
      ]
     },
     "execution_count": 18,
     "metadata": {},
     "output_type": "execute_result"
    }
   ],
   "source": [
    "articles[0].sentences[-2]"
   ]
  },
  {
   "cell_type": "code",
   "execution_count": 39,
   "id": "53bf0a47-5c66-49bb-be19-1f84be8f2537",
   "metadata": {},
   "outputs": [
    {
     "data": {
      "text/plain": [
       "'Na época, o clube, porém, afirmou que Tönnies decidiu se afastar da entidade por um período de três meses.'"
      ]
     },
     "execution_count": 39,
     "metadata": {},
     "output_type": "execute_result"
    }
   ],
   "source": [
    "articles[0].sentences[10]"
   ]
  },
  {
   "cell_type": "code",
   "execution_count": 40,
   "id": "fc4f357c-dff4-4410-9b8b-7f821a43b644",
   "metadata": {},
   "outputs": [
    {
     "data": {
      "text/plain": [
       "'Estarei ligado ao FC Schalke 04 por toda a minha vida\", afirmou Tönnies em seu pedido de desligamento.'"
      ]
     },
     "execution_count": 40,
     "metadata": {},
     "output_type": "execute_result"
    }
   ],
   "source": [
    "articles[0].sentences[20]"
   ]
  },
  {
   "cell_type": "markdown",
   "id": "dad4dfe9-715a-4412-a004-4e9f9df7e1a9",
   "metadata": {},
   "source": [
    "### Check article 1"
   ]
  },
  {
   "cell_type": "code",
   "execution_count": 116,
   "id": "fb19813f-3428-447e-b441-f3a5d9e68ebe",
   "metadata": {
    "collapsed": true,
    "jupyter": {
     "outputs_hidden": true
    },
    "tags": []
   },
   "outputs": [
    {
     "data": {
      "text/html": [
       "<figure class=\"placeholder-image master_landscape big\"><img data-format=\"MASTER_LANDSCAPE\" data-id=\"52447704\" data-url=\"https://static-dev4.dw.com/image/52447704_${formatId}.jpg\" alt=\"Angela Merkel\" style=\"padding-bottom: 56.25%; height: 0; max-height: 0;\"><figcaption class=\"img-caption\">\"Este é o maior desafio que a União Europeia já enfrentou\", disse Merkel sobre a crise do coronavírus<small class=\"copyright\">Foto: Reuters/Y. Herman</small></figcaption></figure><p>Em meados de março, quando o coronavírus começou a se espalhar pela Europa, a chanceler federal alemã, Angela Merkel, deu um aviso implacável: \"Este é o maior desafio que a União Europeia já enfrentou\", disse.</p>\n",
       "\n",
       "<p>Agora, à medida que os países-membros começam a relaxar o isolamento e reabrem as fronteiras, a atenção se volta à recuperação. Se existe algum país em condições de catalisar a integração fiscal necessária para estabilizar a Europa, esse país é a Alemanha.</p>\n",
       "\n",
       "<p>Isso pode parecer paradoxal, uma vez que Berlim é conhecida por marcar passo em qualquer iniciativa que possa aliar dívida e risco entre os contidos membros do norte da UE e os sobrecarregados do sul.</p>\n",
       "\n",
       "<p>A maior economia da Europa passou relativamente bem por sua primeira batalha contra a covid-19: os economistas estimam que o PIB da Alemanha se contrairá em 6,6%, contra os mais de 11% da Itália e da Espanha. Então, por que ela deveria vincular mais estreitamente sua riqueza às deles?</p>\n",
       "\n",
       "<p>Deve fazê-lo, sim, porque na imperfeita União Europeia essas fortunas já estão indissociavelmente entrelaçadas. O que torna a Alemanha singularmente adequada para intermediar acordos sobre reformas de longo alcance não é a prosperidade, mas a abertura: sua economia depende das exportações e quase 70% de seu comércio são feitos com o resto da Europa. Se a Espanha ou a Itália tossem, a Alemanha estremece.</p>\n",
       "\n",
       "<p>Em maio, a Alemanha abandonou suas prioridades originais para o que agora reconhece ser uma \"presidência do coronavírus\".</p>\n",
       "\n",
       "<p>E após anos mantendo o presidente francês, Emmanuel Macron, à distância, Merkel está agora trabalhando com ele para recalibrar o enferrujado motor franco-alemão.</p>\n",
       "\n",
       "<p>Quando ambos anunciaram seu plano de um fundo de resgate de 500 bilhões de euros, ela admitiu, de maneira caracteristicamente discreta, tratar-se de um \"passo incomum\" e disse: \"Precisamos agir como europeus para sairmos mais fortes desta crise.\"</p>\n",
       "\n",
       "<p>O que não é apenas incomum, mas inovador, é a proposta dos dois líderes para financiar o fundo, permitindo que a Comissão Europeia contraia empréstimos nos mercados financeiros – um passo anteriormente impensável em direção à dívida comum. O ministro alemão das Finanças, Olaf Scholz, evocou a medida que deu início à integração fiscal dos Estados Unidos em 1790, quando um acordo do então secretário do Tesouro, Alexander Hamilton, permitiu ao governo americano assumir a dívida revolucionária de guerra contraída pelos estados e financiá-la através da emissão de títulos federais.</p>\n",
       "\n",
       "<p>A Comissão da UE anunciou seu próprio esquema de recuperação construído com base no plano Macron-Merkel. Desde então, tem havido muita discussão sobre se tudo isso realmente se assemelha ao que aconteceu no final do século 18 nos Estados Unidos. Céticos de ambos os lados dizem que a iniciativa fica muito aquém da união fiscal e, portanto, do \"big bang\" desencadeado pela medida de Hamilton.</p>\n",
       "\n",
       "<p>Isso fundamentalmente desvirtua a natureza do que Alexander Hamilton colocou em movimento. A integração fiscal americana não foi revolucionária, mas evolucionária. Ela foi construída por décadas de negociações muitas vezes complexas. A solidariedade entre os estados americanos, e entre eles e o governo federal, permanece – como claramente evidenciado pela crise atual – um desafio constante.</p>\n",
       "\n",
       "<p>Estabelecer a governança fiscal dos EUA teve tanto a ver com&nbsp;oferecer créditos quanto emitir dívidas. Hamilton previu que estabeleceria as bases para uma identidade fiscal coletiva, fortalecendo a nova união não apenas no país, mas também no exterior, tornando seus mercados e seus títulos mais atraentes para os investidores do que a dívida de qualquer estado individual.</p>\n",
       "\n",
       "<p>O mesmo raciocínio se aplica à Europa: se ela realmente aspira a se tornar um contrapeso para uma China em ascensão e os Estados Unidos em retrocesso, este é o momento de levar a integração a sério.</p>\n",
       "\n",
       "<p>Merkel está dizendo as coisas certas, mas podemos realmente esperar uma ação ousada desta figura política até agora cautelosa?</p>\n",
       "\n",
       "<p>A resposta é sim, por três razões. Primeiro, porque os riscos não poderiam ser maiores. A chefe do Banco Central Europeu, Christine Lagarde, disse recentemente diante do Parlamento Europeu que, se os danos causados pela pandemia de coronavírus&nbsp;aumentassem a divisão entre os países do norte e do sul da UE, isso colocaria em perigo a própria existência da União Europeia.</p>\n",
       "\n",
       "<p>Em segundo lugar, as circunstâncias são promissoras. O capital político de Merkel raramente foi maior. A forma como a Alemanha administrou a pandemia aumentou a confiança no governo e em Merkel. Como presidente do Conselho Europeu, a chanceler federal trabalhará com sua colega de confiança no partido, a presidente da Comissão Europeia, Ursula von der Leyen.</p>\n",
       "\n",
       "<p>Em terceiro lugar, e o mais importante, o momento é propício. Enquanto se prepara para entregar o cargo em 2021, Merkel tem a oportunidade final para moldar seu legado e reescrever seu ambíguo currículo na Europa. Setenta anos após o ministro das Relações Exteriores da França Robert Schuman mudar a história ao defender a gestão conjunta da produção de carvão e aço da França e da Alemanha, Merkel pode elevar esta visão para o próximo nível. \"A Europa não será feita de uma só vez, ou de acordo com um único plano\", disse Schuman em maio de 1950. \"Ela será construída com realizações concretas\".</p>\n",
       "\n",
       "<p>______________</p>\n",
       "\n",
       "<p><strong>A Deutsche Welle é a emissora internacional da Alemanha e produz jornalismo independente em 30 idiomas. Siga-nos no</strong>&nbsp;<a href=\"https://www.facebook.com/dw.brasil\">Facebook</a>&nbsp;|&nbsp;<a href=\"https://twitter.com/dw_brasil\">Twitter</a>&nbsp;|&nbsp;<a href=\"https://www.youtube.com/dwbrasil\">YouTube</a>&nbsp;<br>\n",
       "|&nbsp;<a href=\"http://www.dw.com/pt-br/explore-a-dw/dw-no-celular/s-9142\">App</a>&nbsp;|&nbsp;<a href=\"https://www.instagram.com/dw.brasil/\">Instagram</a>&nbsp;|&nbsp;<a href=\"https://www.dw.com/assinatura-de-newsletter/a-15718263\">Newsletter</a></p>\n",
       "\n",
       "<div data-id=\"52908358\" class=\"image-gallery embed\"></div>\n"
      ],
      "text/plain": [
       "<IPython.core.display.HTML object>"
      ]
     },
     "metadata": {},
     "output_type": "display_data"
    }
   ],
   "source": [
    "articles[1].render_html()"
   ]
  },
  {
   "cell_type": "code",
   "execution_count": 19,
   "id": "74c7e5d9-4e32-4143-b08e-bdbc2e2308c4",
   "metadata": {},
   "outputs": [
    {
     "data": {
      "text/plain": [
       "'Em meados de março, quando o coronavírus começou a se espalhar pela Europa, a chanceler federal alemã, Angela Merkel, deu um aviso implacável: \"Este é o maior desafio que a União Europeia já enfrentou\", disse.'"
      ]
     },
     "execution_count": 19,
     "metadata": {},
     "output_type": "execute_result"
    }
   ],
   "source": [
    "articles[1].sentences[0]"
   ]
  },
  {
   "cell_type": "code",
   "execution_count": 20,
   "id": "13ae0eff-12ae-4abf-b312-2c47154a8db1",
   "metadata": {},
   "outputs": [
    {
     "data": {
      "text/plain": [
       "'Agora, à medida que os países-membros começam a relaxar o isolamento e reabrem as fronteiras, a atenção se volta à recuperação.'"
      ]
     },
     "execution_count": 20,
     "metadata": {},
     "output_type": "execute_result"
    }
   ],
   "source": [
    "articles[1].sentences[1]"
   ]
  },
  {
   "cell_type": "code",
   "execution_count": 43,
   "id": "7cedf5e8-9d3d-4770-bddc-27d9092bcd4d",
   "metadata": {},
   "outputs": [
    {
     "data": {
      "text/plain": [
       "'Se existe algum país em condições de catalisar a integração fiscal necessária para estabilizar a Europa, esse país é a Alemanha.'"
      ]
     },
     "execution_count": 43,
     "metadata": {},
     "output_type": "execute_result"
    }
   ],
   "source": [
    "articles[1].sentences[2]"
   ]
  },
  {
   "cell_type": "code",
   "execution_count": 21,
   "id": "36c7953e-ac73-4099-944e-3583f5f098c9",
   "metadata": {},
   "outputs": [
    {
     "data": {
      "text/plain": [
       "'\"Ela será construída com realizações concretas\".'"
      ]
     },
     "execution_count": 21,
     "metadata": {},
     "output_type": "execute_result"
    }
   ],
   "source": [
    "articles[1].sentences[-1]"
   ]
  },
  {
   "cell_type": "code",
   "execution_count": 22,
   "id": "49e173a3-f62e-4cd8-8acc-bb2d8f262796",
   "metadata": {},
   "outputs": [
    {
     "data": {
      "text/plain": [
       "'\"A Europa não será feita de uma só vez, ou de acordo com um único plano\", disse Schuman em maio de 1950.'"
      ]
     },
     "execution_count": 22,
     "metadata": {},
     "output_type": "execute_result"
    }
   ],
   "source": [
    "articles[1].sentences[-2]"
   ]
  },
  {
   "cell_type": "code",
   "execution_count": 46,
   "id": "cb66ccc9-5324-4591-8ac9-af45aeae4ecb",
   "metadata": {},
   "outputs": [
    {
     "data": {
      "text/plain": [
       "'O que não é apenas incomum, mas inovador, é a proposta dos dois líderes para financiar o fundo, permitindo que a Comissão Europeia contraia empréstimos nos mercados financeiros – um passo anteriormente impensável em direção à dívida comum.'"
      ]
     },
     "execution_count": 46,
     "metadata": {},
     "output_type": "execute_result"
    }
   ],
   "source": [
    "articles[1].sentences[10]"
   ]
  },
  {
   "cell_type": "code",
   "execution_count": 48,
   "id": "d05c6720-77cc-4cb8-b725-25967d9a9b58",
   "metadata": {},
   "outputs": [
    {
     "data": {
      "text/plain": [
       "'Hamilton previu que estabeleceria as bases para uma identidade fiscal coletiva, fortalecendo a nova união não apenas no país, mas também no exterior, tornando seus mercados e seus títulos mais atraentes para os investidores do que a dívida de qualquer estado individual.'"
      ]
     },
     "execution_count": 48,
     "metadata": {},
     "output_type": "execute_result"
    }
   ],
   "source": [
    "articles[1].sentences[20]"
   ]
  },
  {
   "cell_type": "markdown",
   "id": "6ca14cd4-f3e8-4a84-b060-a08e870281db",
   "metadata": {},
   "source": [
    "# Save results"
   ]
  },
  {
   "cell_type": "code",
   "execution_count": 50,
   "id": "972de0e6-28c6-4f62-a4ea-fe174076d16e",
   "metadata": {},
   "outputs": [],
   "source": [
    "outputdir = Path('data')\n",
    "file = 'portuguese_sentences.pickle'\n",
    "with open(outputdir/file, 'wb') as file:\n",
    "    pickle.dump(articles, file)"
   ]
  },
  {
   "cell_type": "code",
   "execution_count": null,
   "id": "50071de5",
   "metadata": {},
   "outputs": [],
   "source": []
  }
 ],
 "metadata": {
  "kernelspec": {
   "display_name": "Python 3 (ipykernel)",
   "language": "python",
   "name": "python3"
  },
  "language_info": {
   "codemirror_mode": {
    "name": "ipython",
    "version": 3
   },
   "file_extension": ".py",
   "mimetype": "text/x-python",
   "name": "python",
   "nbconvert_exporter": "python",
   "pygments_lexer": "ipython3",
   "version": "3.10.6"
  }
 },
 "nbformat": 4,
 "nbformat_minor": 5
}
