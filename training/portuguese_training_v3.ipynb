{
 "cells": [
  {
   "cell_type": "markdown",
   "id": "7457d8a8-f5a7-4549-ace1-29ddd570ccba",
   "metadata": {
    "toc-hr-collapsed": true
   },
   "source": [
    "# Imports"
   ]
  },
  {
   "cell_type": "code",
   "execution_count": 1,
   "id": "813f6399-9a93-4ea2-8e9f-f5f39e81a065",
   "metadata": {},
   "outputs": [
    {
     "data": {
      "application/javascript": [
       "IPython.notebook.set_autosave_interval(60000)"
      ]
     },
     "metadata": {},
     "output_type": "display_data"
    },
    {
     "name": "stdout",
     "output_type": "stream",
     "text": [
      "Autosaving every 60 seconds\n"
     ]
    }
   ],
   "source": [
    "%autosave 60"
   ]
  },
  {
   "cell_type": "code",
   "execution_count": 2,
   "id": "7e5a5004-8900-4685-a999-f215c51c4d81",
   "metadata": {},
   "outputs": [
    {
     "name": "stderr",
     "output_type": "stream",
     "text": [
      "/Users/stefano/opt/anaconda3/envs/s2ds/lib/python3.10/site-packages/tqdm/auto.py:22: TqdmWarning: IProgress not found. Please update jupyter and ipywidgets. See https://ipywidgets.readthedocs.io/en/stable/user_install.html\n",
      "  from .autonotebook import tqdm as notebook_tqdm\n"
     ]
    }
   ],
   "source": [
    "#import spacy\n",
    "import numpy\n",
    "import seaborn\n",
    "import matplotlib.pyplot as plt\n",
    "import pandas\n",
    "import pickle\n",
    "from pathlib import Path\n",
    "from dataclasses import dataclass, field\n",
    "from tqdm import tqdm\n",
    "import transformers # conda install tensorflow\n",
    "from transformers import pipeline, AutoTokenizer, AutoModelForTokenClassification\n",
    "from IPython.display import display, HTML\n",
    "from collections import deque\n",
    "from multiprocessing import Pool\n",
    "import os\n",
    "from functools import partial\n",
    "import pandas as pd\n",
    "import numpy as np\n",
    "import re\n",
    "\n",
    "# Needed to train the model\n",
    "from datasets import Dataset,DatasetDict\n",
    "from transformers import AutoModelForSequenceClassification,AutoTokenizer"
   ]
  },
  {
   "cell_type": "markdown",
   "id": "c897385b-7313-4707-8249-64184bd446c3",
   "metadata": {},
   "source": [
    "# Data"
   ]
  },
  {
   "cell_type": "markdown",
   "id": "b2f2fb85-278a-4d60-ae79-e64875532995",
   "metadata": {},
   "source": [
    "Read the training dataset (`data`) and test dataset (`test_data`)"
   ]
  },
  {
   "cell_type": "code",
   "execution_count": 8,
   "id": "1a84b2b0-b1d3-4cf7-bcc2-2bf0efbaeabd",
   "metadata": {},
   "outputs": [],
   "source": [
    "inputdir = Path('../training_dataset')\n",
    "\n",
    "filename = 'portuguese_test_data_v2.csv'\n",
    "test_data = pd.read_csv(inputdir/filename)\n",
    "\n",
    "filename = 'portuguese_training_data_v2.csv'\n",
    "data = pd.read_csv(inputdir/filename)"
   ]
  },
  {
   "cell_type": "markdown",
   "id": "f2a311e1-5fee-4ccc-8745-5922902627d6",
   "metadata": {},
   "source": [
    "Take a look at it"
   ]
  },
  {
   "cell_type": "code",
   "execution_count": 9,
   "id": "0004eabc-516a-47a7-af09-bfc77a8ea3a5",
   "metadata": {},
   "outputs": [
    {
     "data": {
      "text/html": [
       "<div>\n",
       "<style scoped>\n",
       "    .dataframe tbody tr th:only-of-type {\n",
       "        vertical-align: middle;\n",
       "    }\n",
       "\n",
       "    .dataframe tbody tr th {\n",
       "        vertical-align: top;\n",
       "    }\n",
       "\n",
       "    .dataframe thead th {\n",
       "        text-align: right;\n",
       "    }\n",
       "</style>\n",
       "<table border=\"1\" class=\"dataframe\">\n",
       "  <thead>\n",
       "    <tr style=\"text-align: right;\">\n",
       "      <th></th>\n",
       "      <th>id</th>\n",
       "      <th>name</th>\n",
       "      <th>results_Wikipedia</th>\n",
       "      <th>full_text</th>\n",
       "      <th>article_length</th>\n",
       "    </tr>\n",
       "  </thead>\n",
       "  <tbody>\n",
       "    <tr>\n",
       "      <th>0</th>\n",
       "      <td>54153414</td>\n",
       "      <td>Andrzej Duda</td>\n",
       "      <td>MALE</td>\n",
       "      <td>A comissão eleitoral da Polônia anunciou nes...</td>\n",
       "      <td>3212</td>\n",
       "    </tr>\n",
       "    <tr>\n",
       "      <th>1</th>\n",
       "      <td>55253572</td>\n",
       "      <td>Erich Honecker</td>\n",
       "      <td>MALE</td>\n",
       "      <td>Natural e casual, elegantemente trajando ócul...</td>\n",
       "      <td>6176</td>\n",
       "    </tr>\n",
       "    <tr>\n",
       "      <th>2</th>\n",
       "      <td>58168985</td>\n",
       "      <td>Chris Whitty</td>\n",
       "      <td>FEMALE</td>\n",
       "      <td>Apesar do número crescente de casos de covid-...</td>\n",
       "      <td>6698</td>\n",
       "    </tr>\n",
       "    <tr>\n",
       "      <th>3</th>\n",
       "      <td>53821497</td>\n",
       "      <td>Luiz Henrique Mandetta</td>\n",
       "      <td>MALE</td>\n",
       "      <td>A Food and Drug Administration (FDA), agência...</td>\n",
       "      <td>4231</td>\n",
       "    </tr>\n",
       "    <tr>\n",
       "      <th>4</th>\n",
       "      <td>57170897</td>\n",
       "      <td>Angela Merkel</td>\n",
       "      <td>FEMALE</td>\n",
       "      <td>O populismo de direita alemão deu um passo ma...</td>\n",
       "      <td>5739</td>\n",
       "    </tr>\n",
       "    <tr>\n",
       "      <th>...</th>\n",
       "      <td>...</td>\n",
       "      <td>...</td>\n",
       "      <td>...</td>\n",
       "      <td>...</td>\n",
       "      <td>...</td>\n",
       "    </tr>\n",
       "    <tr>\n",
       "      <th>7995</th>\n",
       "      <td>61292150</td>\n",
       "      <td>Dilma Rousseff</td>\n",
       "      <td>FEMALE</td>\n",
       "      <td>Trata-se de um movimento iniciado nos anos 199...</td>\n",
       "      <td>5039</td>\n",
       "    </tr>\n",
       "    <tr>\n",
       "      <th>7996</th>\n",
       "      <td>60338691</td>\n",
       "      <td>Thomas Mann</td>\n",
       "      <td>MALE</td>\n",
       "      <td>A bordo de jet-skis, os homens avançam velozm...</td>\n",
       "      <td>4515</td>\n",
       "    </tr>\n",
       "    <tr>\n",
       "      <th>7997</th>\n",
       "      <td>57352798</td>\n",
       "      <td>Donald Trump</td>\n",
       "      <td>MALE</td>\n",
       "      <td>Os desenvolvedores da vacina russa contra covi...</td>\n",
       "      <td>4274</td>\n",
       "    </tr>\n",
       "    <tr>\n",
       "      <th>7998</th>\n",
       "      <td>61662604</td>\n",
       "      <td>Bolsonaro</td>\n",
       "      <td>MALE</td>\n",
       "      <td>Durante o governo do ex-presidente americano D...</td>\n",
       "      <td>9438</td>\n",
       "    </tr>\n",
       "    <tr>\n",
       "      <th>7999</th>\n",
       "      <td>55919036</td>\n",
       "      <td>Michelle Bachelet</td>\n",
       "      <td>FEMALE</td>\n",
       "      <td>O ativista e jornalista iraniano Ruhollah Zam ...</td>\n",
       "      <td>3862</td>\n",
       "    </tr>\n",
       "  </tbody>\n",
       "</table>\n",
       "<p>8000 rows × 5 columns</p>\n",
       "</div>"
      ],
      "text/plain": [
       "            id                    name results_Wikipedia  \\\n",
       "0     54153414            Andrzej Duda              MALE   \n",
       "1     55253572          Erich Honecker              MALE   \n",
       "2     58168985            Chris Whitty            FEMALE   \n",
       "3     53821497  Luiz Henrique Mandetta              MALE   \n",
       "4     57170897           Angela Merkel            FEMALE   \n",
       "...        ...                     ...               ...   \n",
       "7995  61292150          Dilma Rousseff            FEMALE   \n",
       "7996  60338691             Thomas Mann              MALE   \n",
       "7997  57352798            Donald Trump              MALE   \n",
       "7998  61662604               Bolsonaro              MALE   \n",
       "7999  55919036       Michelle Bachelet            FEMALE   \n",
       "\n",
       "                                              full_text  article_length  \n",
       "0     A comissão eleitoral da Polônia anunciou nes...            3212  \n",
       "1     Natural e casual, elegantemente trajando ócul...            6176  \n",
       "2     Apesar do número crescente de casos de covid-...            6698  \n",
       "3     A Food and Drug Administration (FDA), agência...            4231  \n",
       "4     O populismo de direita alemão deu um passo ma...            5739  \n",
       "...                                                 ...             ...  \n",
       "7995  Trata-se de um movimento iniciado nos anos 199...            5039  \n",
       "7996  A bordo de jet-skis, os homens avançam velozm...            4515  \n",
       "7997  Os desenvolvedores da vacina russa contra covi...            4274  \n",
       "7998  Durante o governo do ex-presidente americano D...            9438  \n",
       "7999  O ativista e jornalista iraniano Ruhollah Zam ...            3862  \n",
       "\n",
       "[8000 rows x 5 columns]"
      ]
     },
     "execution_count": 9,
     "metadata": {},
     "output_type": "execute_result"
    }
   ],
   "source": [
    "data"
   ]
  },
  {
   "cell_type": "code",
   "execution_count": 10,
   "id": "1f4f5a15-304a-4569-9d61-fa11b555466c",
   "metadata": {},
   "outputs": [
    {
     "name": "stdout",
     "output_type": "stream",
     "text": [
      "<class 'pandas.core.frame.DataFrame'>\n",
      "RangeIndex: 8000 entries, 0 to 7999\n",
      "Data columns (total 5 columns):\n",
      " #   Column             Non-Null Count  Dtype \n",
      "---  ------             --------------  ----- \n",
      " 0   id                 8000 non-null   int64 \n",
      " 1   name               8000 non-null   object\n",
      " 2   results_Wikipedia  8000 non-null   object\n",
      " 3   full_text          8000 non-null   object\n",
      " 4   article_length     8000 non-null   int64 \n",
      "dtypes: int64(2), object(3)\n",
      "memory usage: 312.6+ KB\n"
     ]
    }
   ],
   "source": [
    "data.info()"
   ]
  },
  {
   "cell_type": "code",
   "execution_count": 7,
   "id": "87aff310-63c1-4754-b2e6-955f064bdf50",
   "metadata": {},
   "outputs": [
    {
     "data": {
      "text/html": [
       "<div>\n",
       "<style scoped>\n",
       "    .dataframe tbody tr th:only-of-type {\n",
       "        vertical-align: middle;\n",
       "    }\n",
       "\n",
       "    .dataframe tbody tr th {\n",
       "        vertical-align: top;\n",
       "    }\n",
       "\n",
       "    .dataframe thead th {\n",
       "        text-align: right;\n",
       "    }\n",
       "</style>\n",
       "<table border=\"1\" class=\"dataframe\">\n",
       "  <thead>\n",
       "    <tr style=\"text-align: right;\">\n",
       "      <th></th>\n",
       "      <th>id</th>\n",
       "      <th>article_length</th>\n",
       "    </tr>\n",
       "  </thead>\n",
       "  <tbody>\n",
       "    <tr>\n",
       "      <th>count</th>\n",
       "      <td>8.000000e+03</td>\n",
       "      <td>8000.000000</td>\n",
       "    </tr>\n",
       "    <tr>\n",
       "      <th>mean</th>\n",
       "      <td>5.722675e+07</td>\n",
       "      <td>4824.881125</td>\n",
       "    </tr>\n",
       "    <tr>\n",
       "      <th>std</th>\n",
       "      <td>3.073276e+06</td>\n",
       "      <td>1919.536177</td>\n",
       "    </tr>\n",
       "    <tr>\n",
       "      <th>min</th>\n",
       "      <td>3.672863e+07</td>\n",
       "      <td>1160.000000</td>\n",
       "    </tr>\n",
       "    <tr>\n",
       "      <th>25%</th>\n",
       "      <td>5.469937e+07</td>\n",
       "      <td>3372.500000</td>\n",
       "    </tr>\n",
       "    <tr>\n",
       "      <th>50%</th>\n",
       "      <td>5.715333e+07</td>\n",
       "      <td>4549.000000</td>\n",
       "    </tr>\n",
       "    <tr>\n",
       "      <th>75%</th>\n",
       "      <td>5.992533e+07</td>\n",
       "      <td>5986.250000</td>\n",
       "    </tr>\n",
       "    <tr>\n",
       "      <th>max</th>\n",
       "      <td>6.246207e+07</td>\n",
       "      <td>11293.000000</td>\n",
       "    </tr>\n",
       "  </tbody>\n",
       "</table>\n",
       "</div>"
      ],
      "text/plain": [
       "                 id  article_length\n",
       "count  8.000000e+03     8000.000000\n",
       "mean   5.722675e+07     4824.881125\n",
       "std    3.073276e+06     1919.536177\n",
       "min    3.672863e+07     1160.000000\n",
       "25%    5.469937e+07     3372.500000\n",
       "50%    5.715333e+07     4549.000000\n",
       "75%    5.992533e+07     5986.250000\n",
       "max    6.246207e+07    11293.000000"
      ]
     },
     "execution_count": 7,
     "metadata": {},
     "output_type": "execute_result"
    }
   ],
   "source": [
    "data.describe()"
   ]
  },
  {
   "cell_type": "code",
   "execution_count": 8,
   "id": "dd4d9579-7276-4f26-8c3d-1e167f1a59fd",
   "metadata": {},
   "outputs": [
    {
     "data": {
      "text/html": [
       "<div>\n",
       "<style scoped>\n",
       "    .dataframe tbody tr th:only-of-type {\n",
       "        vertical-align: middle;\n",
       "    }\n",
       "\n",
       "    .dataframe tbody tr th {\n",
       "        vertical-align: top;\n",
       "    }\n",
       "\n",
       "    .dataframe thead th {\n",
       "        text-align: right;\n",
       "    }\n",
       "</style>\n",
       "<table border=\"1\" class=\"dataframe\">\n",
       "  <thead>\n",
       "    <tr style=\"text-align: right;\">\n",
       "      <th></th>\n",
       "      <th>name</th>\n",
       "      <th>results_Wikipedia</th>\n",
       "      <th>full_text</th>\n",
       "    </tr>\n",
       "  </thead>\n",
       "  <tbody>\n",
       "    <tr>\n",
       "      <th>count</th>\n",
       "      <td>8000</td>\n",
       "      <td>8000</td>\n",
       "      <td>8000</td>\n",
       "    </tr>\n",
       "    <tr>\n",
       "      <th>unique</th>\n",
       "      <td>2229</td>\n",
       "      <td>2</td>\n",
       "      <td>4949</td>\n",
       "    </tr>\n",
       "    <tr>\n",
       "      <th>top</th>\n",
       "      <td>Angela Merkel</td>\n",
       "      <td>MALE</td>\n",
       "      <td>A Academia de Artes e Ciências Cinematográfi...</td>\n",
       "    </tr>\n",
       "    <tr>\n",
       "      <th>freq</th>\n",
       "      <td>799</td>\n",
       "      <td>4000</td>\n",
       "      <td>8</td>\n",
       "    </tr>\n",
       "  </tbody>\n",
       "</table>\n",
       "</div>"
      ],
      "text/plain": [
       "                 name results_Wikipedia  \\\n",
       "count            8000              8000   \n",
       "unique           2229                 2   \n",
       "top     Angela Merkel              MALE   \n",
       "freq              799              4000   \n",
       "\n",
       "                                                full_text  \n",
       "count                                                8000  \n",
       "unique                                               4949  \n",
       "top     A Academia de Artes e Ciências Cinematográfi...  \n",
       "freq                                                    8  "
      ]
     },
     "execution_count": 8,
     "metadata": {},
     "output_type": "execute_result"
    }
   ],
   "source": [
    "data.describe(include=['object'])"
   ]
  },
  {
   "cell_type": "markdown",
   "id": "bd00162d-05ed-4dbc-a5e9-527c95de9e50",
   "metadata": {},
   "source": [
    "# Replace labels with numeric values"
   ]
  },
  {
   "cell_type": "markdown",
   "id": "e0a55a92-f19d-4c43-88de-b1571419c17a",
   "metadata": {},
   "source": [
    "Use 0 and 1 for female and male, respectively"
   ]
  },
  {
   "cell_type": "code",
   "execution_count": 10,
   "id": "e8343092-b9d7-46e1-b800-0dd5faef4c6c",
   "metadata": {},
   "outputs": [],
   "source": [
    "convert_gender_to_number = lambda x: {'MALE':1.0,'FEMALE':0.0}[x]\n",
    "data['label'] = data.results_Wikipedia.apply(convert_gender_to_number)\n",
    "test_data['label'] = test_data.results_Wikipedia.apply(convert_gender_to_number)"
   ]
  },
  {
   "cell_type": "code",
   "execution_count": 11,
   "id": "0c10ce94-0c8c-41b6-b77a-028a015ea889",
   "metadata": {},
   "outputs": [
    {
     "data": {
      "text/html": [
       "<div>\n",
       "<style scoped>\n",
       "    .dataframe tbody tr th:only-of-type {\n",
       "        vertical-align: middle;\n",
       "    }\n",
       "\n",
       "    .dataframe tbody tr th {\n",
       "        vertical-align: top;\n",
       "    }\n",
       "\n",
       "    .dataframe thead th {\n",
       "        text-align: right;\n",
       "    }\n",
       "</style>\n",
       "<table border=\"1\" class=\"dataframe\">\n",
       "  <thead>\n",
       "    <tr style=\"text-align: right;\">\n",
       "      <th></th>\n",
       "      <th>id</th>\n",
       "      <th>name</th>\n",
       "      <th>results_Wikipedia</th>\n",
       "      <th>full_text</th>\n",
       "      <th>article_length</th>\n",
       "      <th>label</th>\n",
       "    </tr>\n",
       "  </thead>\n",
       "  <tbody>\n",
       "    <tr>\n",
       "      <th>0</th>\n",
       "      <td>54153414</td>\n",
       "      <td>Andrzej Duda</td>\n",
       "      <td>MALE</td>\n",
       "      <td>A comissão eleitoral da Polônia anunciou nes...</td>\n",
       "      <td>3212</td>\n",
       "      <td>1.0</td>\n",
       "    </tr>\n",
       "    <tr>\n",
       "      <th>1</th>\n",
       "      <td>55253572</td>\n",
       "      <td>Erich Honecker</td>\n",
       "      <td>MALE</td>\n",
       "      <td>Natural e casual, elegantemente trajando ócul...</td>\n",
       "      <td>6176</td>\n",
       "      <td>1.0</td>\n",
       "    </tr>\n",
       "    <tr>\n",
       "      <th>2</th>\n",
       "      <td>58168985</td>\n",
       "      <td>Chris Whitty</td>\n",
       "      <td>FEMALE</td>\n",
       "      <td>Apesar do número crescente de casos de covid-...</td>\n",
       "      <td>6698</td>\n",
       "      <td>0.0</td>\n",
       "    </tr>\n",
       "    <tr>\n",
       "      <th>3</th>\n",
       "      <td>53821497</td>\n",
       "      <td>Luiz Henrique Mandetta</td>\n",
       "      <td>MALE</td>\n",
       "      <td>A Food and Drug Administration (FDA), agência...</td>\n",
       "      <td>4231</td>\n",
       "      <td>1.0</td>\n",
       "    </tr>\n",
       "    <tr>\n",
       "      <th>4</th>\n",
       "      <td>57170897</td>\n",
       "      <td>Angela Merkel</td>\n",
       "      <td>FEMALE</td>\n",
       "      <td>O populismo de direita alemão deu um passo ma...</td>\n",
       "      <td>5739</td>\n",
       "      <td>0.0</td>\n",
       "    </tr>\n",
       "    <tr>\n",
       "      <th>...</th>\n",
       "      <td>...</td>\n",
       "      <td>...</td>\n",
       "      <td>...</td>\n",
       "      <td>...</td>\n",
       "      <td>...</td>\n",
       "      <td>...</td>\n",
       "    </tr>\n",
       "    <tr>\n",
       "      <th>7995</th>\n",
       "      <td>61292150</td>\n",
       "      <td>Dilma Rousseff</td>\n",
       "      <td>FEMALE</td>\n",
       "      <td>Trata-se de um movimento iniciado nos anos 199...</td>\n",
       "      <td>5039</td>\n",
       "      <td>0.0</td>\n",
       "    </tr>\n",
       "    <tr>\n",
       "      <th>7996</th>\n",
       "      <td>60338691</td>\n",
       "      <td>Thomas Mann</td>\n",
       "      <td>MALE</td>\n",
       "      <td>A bordo de jet-skis, os homens avançam velozm...</td>\n",
       "      <td>4515</td>\n",
       "      <td>1.0</td>\n",
       "    </tr>\n",
       "    <tr>\n",
       "      <th>7997</th>\n",
       "      <td>57352798</td>\n",
       "      <td>Donald Trump</td>\n",
       "      <td>MALE</td>\n",
       "      <td>Os desenvolvedores da vacina russa contra covi...</td>\n",
       "      <td>4274</td>\n",
       "      <td>1.0</td>\n",
       "    </tr>\n",
       "    <tr>\n",
       "      <th>7998</th>\n",
       "      <td>61662604</td>\n",
       "      <td>Bolsonaro</td>\n",
       "      <td>MALE</td>\n",
       "      <td>Durante o governo do ex-presidente americano D...</td>\n",
       "      <td>9438</td>\n",
       "      <td>1.0</td>\n",
       "    </tr>\n",
       "    <tr>\n",
       "      <th>7999</th>\n",
       "      <td>55919036</td>\n",
       "      <td>Michelle Bachelet</td>\n",
       "      <td>FEMALE</td>\n",
       "      <td>O ativista e jornalista iraniano Ruhollah Zam ...</td>\n",
       "      <td>3862</td>\n",
       "      <td>0.0</td>\n",
       "    </tr>\n",
       "  </tbody>\n",
       "</table>\n",
       "<p>8000 rows × 6 columns</p>\n",
       "</div>"
      ],
      "text/plain": [
       "            id                    name results_Wikipedia  \\\n",
       "0     54153414            Andrzej Duda              MALE   \n",
       "1     55253572          Erich Honecker              MALE   \n",
       "2     58168985            Chris Whitty            FEMALE   \n",
       "3     53821497  Luiz Henrique Mandetta              MALE   \n",
       "4     57170897           Angela Merkel            FEMALE   \n",
       "...        ...                     ...               ...   \n",
       "7995  61292150          Dilma Rousseff            FEMALE   \n",
       "7996  60338691             Thomas Mann              MALE   \n",
       "7997  57352798            Donald Trump              MALE   \n",
       "7998  61662604               Bolsonaro              MALE   \n",
       "7999  55919036       Michelle Bachelet            FEMALE   \n",
       "\n",
       "                                              full_text  article_length  label  \n",
       "0     A comissão eleitoral da Polônia anunciou nes...            3212    1.0  \n",
       "1     Natural e casual, elegantemente trajando ócul...            6176    1.0  \n",
       "2     Apesar do número crescente de casos de covid-...            6698    0.0  \n",
       "3     A Food and Drug Administration (FDA), agência...            4231    1.0  \n",
       "4     O populismo de direita alemão deu um passo ma...            5739    0.0  \n",
       "...                                                 ...             ...    ...  \n",
       "7995  Trata-se de um movimento iniciado nos anos 199...            5039    0.0  \n",
       "7996  A bordo de jet-skis, os homens avançam velozm...            4515    1.0  \n",
       "7997  Os desenvolvedores da vacina russa contra covi...            4274    1.0  \n",
       "7998  Durante o governo do ex-presidente americano D...            9438    1.0  \n",
       "7999  O ativista e jornalista iraniano Ruhollah Zam ...            3862    0.0  \n",
       "\n",
       "[8000 rows x 6 columns]"
      ]
     },
     "execution_count": 11,
     "metadata": {},
     "output_type": "execute_result"
    }
   ],
   "source": [
    "data"
   ]
  },
  {
   "cell_type": "code",
   "execution_count": 12,
   "id": "82c2d5e5-fe01-4413-9614-80111fae0ab0",
   "metadata": {},
   "outputs": [
    {
     "name": "stdout",
     "output_type": "stream",
     "text": [
      "<class 'pandas.core.series.Series'>\n",
      "RangeIndex: 8000 entries, 0 to 7999\n",
      "Series name: label\n",
      "Non-Null Count  Dtype  \n",
      "--------------  -----  \n",
      "8000 non-null   float64\n",
      "dtypes: float64(1)\n",
      "memory usage: 62.6 KB\n"
     ]
    }
   ],
   "source": [
    "data.label.info()"
   ]
  },
  {
   "cell_type": "code",
   "execution_count": 13,
   "id": "16c4a2db-92ad-4f1a-add6-af50a5e14f40",
   "metadata": {},
   "outputs": [
    {
     "data": {
      "text/plain": [
       "1.0    4000\n",
       "0.0    4000\n",
       "Name: label, dtype: int64"
      ]
     },
     "execution_count": 13,
     "metadata": {},
     "output_type": "execute_result"
    }
   ],
   "source": [
    "data.label.value_counts()"
   ]
  },
  {
   "cell_type": "markdown",
   "id": "91b4dbbd-f920-4b8f-9ec7-7601d50e1f75",
   "metadata": {
    "tags": []
   },
   "source": [
    "# Remove unnecessary columns"
   ]
  },
  {
   "cell_type": "code",
   "execution_count": 14,
   "id": "93416f8c-af2c-49b3-a225-49bf2b28a632",
   "metadata": {},
   "outputs": [],
   "source": [
    "data = data.drop(columns=['results_Wikipedia', 'article_length'])\n",
    "test_data = test_data.drop(columns=['results_Wikipedia', 'article_length'])"
   ]
  },
  {
   "cell_type": "code",
   "execution_count": 15,
   "id": "2c293cf7-b5bf-4bad-83f8-b47d3217fdf6",
   "metadata": {},
   "outputs": [
    {
     "data": {
      "text/html": [
       "<div>\n",
       "<style scoped>\n",
       "    .dataframe tbody tr th:only-of-type {\n",
       "        vertical-align: middle;\n",
       "    }\n",
       "\n",
       "    .dataframe tbody tr th {\n",
       "        vertical-align: top;\n",
       "    }\n",
       "\n",
       "    .dataframe thead th {\n",
       "        text-align: right;\n",
       "    }\n",
       "</style>\n",
       "<table border=\"1\" class=\"dataframe\">\n",
       "  <thead>\n",
       "    <tr style=\"text-align: right;\">\n",
       "      <th></th>\n",
       "      <th>id</th>\n",
       "      <th>name</th>\n",
       "      <th>full_text</th>\n",
       "      <th>label</th>\n",
       "    </tr>\n",
       "  </thead>\n",
       "  <tbody>\n",
       "    <tr>\n",
       "      <th>0</th>\n",
       "      <td>54153414</td>\n",
       "      <td>Andrzej Duda</td>\n",
       "      <td>A comissão eleitoral da Polônia anunciou nes...</td>\n",
       "      <td>1.0</td>\n",
       "    </tr>\n",
       "    <tr>\n",
       "      <th>1</th>\n",
       "      <td>55253572</td>\n",
       "      <td>Erich Honecker</td>\n",
       "      <td>Natural e casual, elegantemente trajando ócul...</td>\n",
       "      <td>1.0</td>\n",
       "    </tr>\n",
       "    <tr>\n",
       "      <th>2</th>\n",
       "      <td>58168985</td>\n",
       "      <td>Chris Whitty</td>\n",
       "      <td>Apesar do número crescente de casos de covid-...</td>\n",
       "      <td>0.0</td>\n",
       "    </tr>\n",
       "    <tr>\n",
       "      <th>3</th>\n",
       "      <td>53821497</td>\n",
       "      <td>Luiz Henrique Mandetta</td>\n",
       "      <td>A Food and Drug Administration (FDA), agência...</td>\n",
       "      <td>1.0</td>\n",
       "    </tr>\n",
       "    <tr>\n",
       "      <th>4</th>\n",
       "      <td>57170897</td>\n",
       "      <td>Angela Merkel</td>\n",
       "      <td>O populismo de direita alemão deu um passo ma...</td>\n",
       "      <td>0.0</td>\n",
       "    </tr>\n",
       "    <tr>\n",
       "      <th>...</th>\n",
       "      <td>...</td>\n",
       "      <td>...</td>\n",
       "      <td>...</td>\n",
       "      <td>...</td>\n",
       "    </tr>\n",
       "    <tr>\n",
       "      <th>7995</th>\n",
       "      <td>61292150</td>\n",
       "      <td>Dilma Rousseff</td>\n",
       "      <td>Trata-se de um movimento iniciado nos anos 199...</td>\n",
       "      <td>0.0</td>\n",
       "    </tr>\n",
       "    <tr>\n",
       "      <th>7996</th>\n",
       "      <td>60338691</td>\n",
       "      <td>Thomas Mann</td>\n",
       "      <td>A bordo de jet-skis, os homens avançam velozm...</td>\n",
       "      <td>1.0</td>\n",
       "    </tr>\n",
       "    <tr>\n",
       "      <th>7997</th>\n",
       "      <td>57352798</td>\n",
       "      <td>Donald Trump</td>\n",
       "      <td>Os desenvolvedores da vacina russa contra covi...</td>\n",
       "      <td>1.0</td>\n",
       "    </tr>\n",
       "    <tr>\n",
       "      <th>7998</th>\n",
       "      <td>61662604</td>\n",
       "      <td>Bolsonaro</td>\n",
       "      <td>Durante o governo do ex-presidente americano D...</td>\n",
       "      <td>1.0</td>\n",
       "    </tr>\n",
       "    <tr>\n",
       "      <th>7999</th>\n",
       "      <td>55919036</td>\n",
       "      <td>Michelle Bachelet</td>\n",
       "      <td>O ativista e jornalista iraniano Ruhollah Zam ...</td>\n",
       "      <td>0.0</td>\n",
       "    </tr>\n",
       "  </tbody>\n",
       "</table>\n",
       "<p>8000 rows × 4 columns</p>\n",
       "</div>"
      ],
      "text/plain": [
       "            id                    name  \\\n",
       "0     54153414            Andrzej Duda   \n",
       "1     55253572          Erich Honecker   \n",
       "2     58168985            Chris Whitty   \n",
       "3     53821497  Luiz Henrique Mandetta   \n",
       "4     57170897           Angela Merkel   \n",
       "...        ...                     ...   \n",
       "7995  61292150          Dilma Rousseff   \n",
       "7996  60338691             Thomas Mann   \n",
       "7997  57352798            Donald Trump   \n",
       "7998  61662604               Bolsonaro   \n",
       "7999  55919036       Michelle Bachelet   \n",
       "\n",
       "                                              full_text  label  \n",
       "0     A comissão eleitoral da Polônia anunciou nes...    1.0  \n",
       "1     Natural e casual, elegantemente trajando ócul...    1.0  \n",
       "2     Apesar do número crescente de casos de covid-...    0.0  \n",
       "3     A Food and Drug Administration (FDA), agência...    1.0  \n",
       "4     O populismo de direita alemão deu um passo ma...    0.0  \n",
       "...                                                 ...    ...  \n",
       "7995  Trata-se de um movimento iniciado nos anos 199...    0.0  \n",
       "7996  A bordo de jet-skis, os homens avançam velozm...    1.0  \n",
       "7997  Os desenvolvedores da vacina russa contra covi...    1.0  \n",
       "7998  Durante o governo do ex-presidente americano D...    1.0  \n",
       "7999  O ativista e jornalista iraniano Ruhollah Zam ...    0.0  \n",
       "\n",
       "[8000 rows x 4 columns]"
      ]
     },
     "execution_count": 15,
     "metadata": {},
     "output_type": "execute_result"
    }
   ],
   "source": [
    "data"
   ]
  },
  {
   "cell_type": "markdown",
   "id": "ce86c05f-fc01-484f-9442-204b26b9c65d",
   "metadata": {},
   "source": [
    "# Create input for the model "
   ]
  },
  {
   "cell_type": "markdown",
   "id": "10b7cb0c-835c-471e-903a-7e815c61bec0",
   "metadata": {},
   "source": [
    "The input below is based on the example addressed in lecture 4 of the course “[Practical Deep Learning for Coders 2022](https://www.youtube.com/watch?v=toUgBQv1BT8&list=PLfYUBJiXbdtSvpQjSnJJ_PmDQB_VyT5iU&index=4&t=4674s)”\n",
    "\n",
    "In particular, the **minute 28:28** and **chapter** “*Question: rationale behind how input data was formatted*” of the video."
   ]
  },
  {
   "cell_type": "markdown",
   "id": "b440aa4e-07cf-4544-8ca6-c4456d7b2fa1",
   "metadata": {},
   "source": [
    "Input format: \n",
    "\n",
    ">A single string containing two fields (TEXT1, TEXT2) separated by semicolon as indicated below. \n",
    ">\n",
    ">`TEXT1: name; TEXT2: article-tex`\n",
    "\n",
    "Example:\n",
    "\n",
    ">`TEXT1: Maria Brown; TEXT2: Maria Brown is 28. She likes apples.`"
   ]
  },
  {
   "cell_type": "markdown",
   "id": "460d7590-f077-4286-a0fd-244451662018",
   "metadata": {},
   "source": [
    "Add a column to our datasets using the input formate above "
   ]
  },
  {
   "cell_type": "code",
   "execution_count": 16,
   "id": "676ab902-affc-4b33-9372-156383f62e5b",
   "metadata": {},
   "outputs": [],
   "source": [
    "data['input'] = 'TEXT1: ' + data['name'] + '; TEXT2: ' + data['full_text']\n",
    "test_data['input'] = 'TEXT1: ' + test_data['name'] + '; TEXT2: ' + test_data['full_text']"
   ]
  },
  {
   "cell_type": "code",
   "execution_count": 17,
   "id": "ff583ba5-474b-468b-b05a-68a9941b45ae",
   "metadata": {},
   "outputs": [
    {
     "data": {
      "text/html": [
       "<div>\n",
       "<style scoped>\n",
       "    .dataframe tbody tr th:only-of-type {\n",
       "        vertical-align: middle;\n",
       "    }\n",
       "\n",
       "    .dataframe tbody tr th {\n",
       "        vertical-align: top;\n",
       "    }\n",
       "\n",
       "    .dataframe thead th {\n",
       "        text-align: right;\n",
       "    }\n",
       "</style>\n",
       "<table border=\"1\" class=\"dataframe\">\n",
       "  <thead>\n",
       "    <tr style=\"text-align: right;\">\n",
       "      <th></th>\n",
       "      <th>id</th>\n",
       "      <th>name</th>\n",
       "      <th>full_text</th>\n",
       "      <th>label</th>\n",
       "      <th>input</th>\n",
       "    </tr>\n",
       "  </thead>\n",
       "  <tbody>\n",
       "    <tr>\n",
       "      <th>0</th>\n",
       "      <td>54153414</td>\n",
       "      <td>Andrzej Duda</td>\n",
       "      <td>A comissão eleitoral da Polônia anunciou nes...</td>\n",
       "      <td>1.0</td>\n",
       "      <td>TEXT1: Andrzej Duda; TEXT2: A comissão eleito...</td>\n",
       "    </tr>\n",
       "    <tr>\n",
       "      <th>1</th>\n",
       "      <td>55253572</td>\n",
       "      <td>Erich Honecker</td>\n",
       "      <td>Natural e casual, elegantemente trajando ócul...</td>\n",
       "      <td>1.0</td>\n",
       "      <td>TEXT1: Erich Honecker; TEXT2: Natural e casual...</td>\n",
       "    </tr>\n",
       "    <tr>\n",
       "      <th>2</th>\n",
       "      <td>58168985</td>\n",
       "      <td>Chris Whitty</td>\n",
       "      <td>Apesar do número crescente de casos de covid-...</td>\n",
       "      <td>0.0</td>\n",
       "      <td>TEXT1: Chris Whitty; TEXT2: Apesar do número ...</td>\n",
       "    </tr>\n",
       "    <tr>\n",
       "      <th>3</th>\n",
       "      <td>53821497</td>\n",
       "      <td>Luiz Henrique Mandetta</td>\n",
       "      <td>A Food and Drug Administration (FDA), agência...</td>\n",
       "      <td>1.0</td>\n",
       "      <td>TEXT1: Luiz Henrique Mandetta; TEXT2: A Food a...</td>\n",
       "    </tr>\n",
       "    <tr>\n",
       "      <th>4</th>\n",
       "      <td>57170897</td>\n",
       "      <td>Angela Merkel</td>\n",
       "      <td>O populismo de direita alemão deu um passo ma...</td>\n",
       "      <td>0.0</td>\n",
       "      <td>TEXT1: Angela Merkel; TEXT2: O populismo de di...</td>\n",
       "    </tr>\n",
       "    <tr>\n",
       "      <th>...</th>\n",
       "      <td>...</td>\n",
       "      <td>...</td>\n",
       "      <td>...</td>\n",
       "      <td>...</td>\n",
       "      <td>...</td>\n",
       "    </tr>\n",
       "    <tr>\n",
       "      <th>7995</th>\n",
       "      <td>61292150</td>\n",
       "      <td>Dilma Rousseff</td>\n",
       "      <td>Trata-se de um movimento iniciado nos anos 199...</td>\n",
       "      <td>0.0</td>\n",
       "      <td>TEXT1: Dilma Rousseff; TEXT2: Trata-se de um m...</td>\n",
       "    </tr>\n",
       "    <tr>\n",
       "      <th>7996</th>\n",
       "      <td>60338691</td>\n",
       "      <td>Thomas Mann</td>\n",
       "      <td>A bordo de jet-skis, os homens avançam velozm...</td>\n",
       "      <td>1.0</td>\n",
       "      <td>TEXT1: Thomas Mann; TEXT2: A bordo de jet-skis...</td>\n",
       "    </tr>\n",
       "    <tr>\n",
       "      <th>7997</th>\n",
       "      <td>57352798</td>\n",
       "      <td>Donald Trump</td>\n",
       "      <td>Os desenvolvedores da vacina russa contra covi...</td>\n",
       "      <td>1.0</td>\n",
       "      <td>TEXT1: Donald Trump; TEXT2: Os desenvolvedores...</td>\n",
       "    </tr>\n",
       "    <tr>\n",
       "      <th>7998</th>\n",
       "      <td>61662604</td>\n",
       "      <td>Bolsonaro</td>\n",
       "      <td>Durante o governo do ex-presidente americano D...</td>\n",
       "      <td>1.0</td>\n",
       "      <td>TEXT1: Bolsonaro; TEXT2: Durante o governo do ...</td>\n",
       "    </tr>\n",
       "    <tr>\n",
       "      <th>7999</th>\n",
       "      <td>55919036</td>\n",
       "      <td>Michelle Bachelet</td>\n",
       "      <td>O ativista e jornalista iraniano Ruhollah Zam ...</td>\n",
       "      <td>0.0</td>\n",
       "      <td>TEXT1: Michelle Bachelet; TEXT2: O ativista e ...</td>\n",
       "    </tr>\n",
       "  </tbody>\n",
       "</table>\n",
       "<p>8000 rows × 5 columns</p>\n",
       "</div>"
      ],
      "text/plain": [
       "            id                    name  \\\n",
       "0     54153414            Andrzej Duda   \n",
       "1     55253572          Erich Honecker   \n",
       "2     58168985            Chris Whitty   \n",
       "3     53821497  Luiz Henrique Mandetta   \n",
       "4     57170897           Angela Merkel   \n",
       "...        ...                     ...   \n",
       "7995  61292150          Dilma Rousseff   \n",
       "7996  60338691             Thomas Mann   \n",
       "7997  57352798            Donald Trump   \n",
       "7998  61662604               Bolsonaro   \n",
       "7999  55919036       Michelle Bachelet   \n",
       "\n",
       "                                              full_text  label  \\\n",
       "0     A comissão eleitoral da Polônia anunciou nes...    1.0   \n",
       "1     Natural e casual, elegantemente trajando ócul...    1.0   \n",
       "2     Apesar do número crescente de casos de covid-...    0.0   \n",
       "3     A Food and Drug Administration (FDA), agência...    1.0   \n",
       "4     O populismo de direita alemão deu um passo ma...    0.0   \n",
       "...                                                 ...    ...   \n",
       "7995  Trata-se de um movimento iniciado nos anos 199...    0.0   \n",
       "7996  A bordo de jet-skis, os homens avançam velozm...    1.0   \n",
       "7997  Os desenvolvedores da vacina russa contra covi...    1.0   \n",
       "7998  Durante o governo do ex-presidente americano D...    1.0   \n",
       "7999  O ativista e jornalista iraniano Ruhollah Zam ...    0.0   \n",
       "\n",
       "                                                  input  \n",
       "0     TEXT1: Andrzej Duda; TEXT2: A comissão eleito...  \n",
       "1     TEXT1: Erich Honecker; TEXT2: Natural e casual...  \n",
       "2     TEXT1: Chris Whitty; TEXT2: Apesar do número ...  \n",
       "3     TEXT1: Luiz Henrique Mandetta; TEXT2: A Food a...  \n",
       "4     TEXT1: Angela Merkel; TEXT2: O populismo de di...  \n",
       "...                                                 ...  \n",
       "7995  TEXT1: Dilma Rousseff; TEXT2: Trata-se de um m...  \n",
       "7996  TEXT1: Thomas Mann; TEXT2: A bordo de jet-skis...  \n",
       "7997  TEXT1: Donald Trump; TEXT2: Os desenvolvedores...  \n",
       "7998  TEXT1: Bolsonaro; TEXT2: Durante o governo do ...  \n",
       "7999  TEXT1: Michelle Bachelet; TEXT2: O ativista e ...  \n",
       "\n",
       "[8000 rows x 5 columns]"
      ]
     },
     "execution_count": 17,
     "metadata": {},
     "output_type": "execute_result"
    }
   ],
   "source": [
    "data"
   ]
  },
  {
   "cell_type": "markdown",
   "id": "7f2ec6a7-cf6c-440b-b72d-505bd053e97c",
   "metadata": {},
   "source": [
    "# Save dataset"
   ]
  },
  {
   "cell_type": "code",
   "execution_count": 48,
   "id": "f0ec17d0-8543-4afa-a108-21ab43951fd2",
   "metadata": {},
   "outputs": [],
   "source": [
    "outputdir = Path.cwd()\n",
    "\n",
    "filename = 'portuguese_training_data_v4.csv'\n",
    "data.to_csv(outputdir/filename, index=False)\n",
    "\n",
    "filename = 'portuguese_test_data_v4.csv'\n",
    "test_data.to_csv(outputdir/filename, index=False)"
   ]
  },
  {
   "cell_type": "markdown",
   "id": "9e613db5-220b-4f29-84b0-aa120121607d",
   "metadata": {},
   "source": [
    "# Read dataset"
   ]
  },
  {
   "cell_type": "code",
   "execution_count": 18,
   "id": "4fe0d84c-6d16-4a05-bdae-9a5832db13ce",
   "metadata": {},
   "outputs": [],
   "source": [
    "inputdir = Path.cwd()\n",
    "\n",
    "filename = 'portuguese_training_data_v4.csv'\n",
    "data = pd.read_csv(inputdir/filename)\n",
    "\n",
    "filename = 'portuguese_test_data_v4.csv'\n",
    "test_data = pd.read_csv(inputdir/filename)"
   ]
  },
  {
   "cell_type": "code",
   "execution_count": 19,
   "id": "df145208-c2b6-4b1f-b47a-2820bb5b7684",
   "metadata": {},
   "outputs": [
    {
     "data": {
      "text/html": [
       "<div>\n",
       "<style scoped>\n",
       "    .dataframe tbody tr th:only-of-type {\n",
       "        vertical-align: middle;\n",
       "    }\n",
       "\n",
       "    .dataframe tbody tr th {\n",
       "        vertical-align: top;\n",
       "    }\n",
       "\n",
       "    .dataframe thead th {\n",
       "        text-align: right;\n",
       "    }\n",
       "</style>\n",
       "<table border=\"1\" class=\"dataframe\">\n",
       "  <thead>\n",
       "    <tr style=\"text-align: right;\">\n",
       "      <th></th>\n",
       "      <th>id</th>\n",
       "      <th>name</th>\n",
       "      <th>full_text</th>\n",
       "      <th>label</th>\n",
       "      <th>input</th>\n",
       "    </tr>\n",
       "  </thead>\n",
       "  <tbody>\n",
       "    <tr>\n",
       "      <th>0</th>\n",
       "      <td>54153414</td>\n",
       "      <td>Andrzej Duda</td>\n",
       "      <td>A comissão eleitoral da Polônia anunciou nes...</td>\n",
       "      <td>1.0</td>\n",
       "      <td>TEXT1: Andrzej Duda; TEXT2: A comissão eleito...</td>\n",
       "    </tr>\n",
       "    <tr>\n",
       "      <th>1</th>\n",
       "      <td>55253572</td>\n",
       "      <td>Erich Honecker</td>\n",
       "      <td>Natural e casual, elegantemente trajando ócul...</td>\n",
       "      <td>1.0</td>\n",
       "      <td>TEXT1: Erich Honecker; TEXT2: Natural e casual...</td>\n",
       "    </tr>\n",
       "    <tr>\n",
       "      <th>2</th>\n",
       "      <td>58168985</td>\n",
       "      <td>Chris Whitty</td>\n",
       "      <td>Apesar do número crescente de casos de covid-...</td>\n",
       "      <td>0.0</td>\n",
       "      <td>TEXT1: Chris Whitty; TEXT2: Apesar do número ...</td>\n",
       "    </tr>\n",
       "    <tr>\n",
       "      <th>3</th>\n",
       "      <td>53821497</td>\n",
       "      <td>Luiz Henrique Mandetta</td>\n",
       "      <td>A Food and Drug Administration (FDA), agência...</td>\n",
       "      <td>1.0</td>\n",
       "      <td>TEXT1: Luiz Henrique Mandetta; TEXT2: A Food a...</td>\n",
       "    </tr>\n",
       "    <tr>\n",
       "      <th>4</th>\n",
       "      <td>57170897</td>\n",
       "      <td>Angela Merkel</td>\n",
       "      <td>O populismo de direita alemão deu um passo ma...</td>\n",
       "      <td>0.0</td>\n",
       "      <td>TEXT1: Angela Merkel; TEXT2: O populismo de di...</td>\n",
       "    </tr>\n",
       "    <tr>\n",
       "      <th>...</th>\n",
       "      <td>...</td>\n",
       "      <td>...</td>\n",
       "      <td>...</td>\n",
       "      <td>...</td>\n",
       "      <td>...</td>\n",
       "    </tr>\n",
       "    <tr>\n",
       "      <th>7995</th>\n",
       "      <td>61292150</td>\n",
       "      <td>Dilma Rousseff</td>\n",
       "      <td>Trata-se de um movimento iniciado nos anos 199...</td>\n",
       "      <td>0.0</td>\n",
       "      <td>TEXT1: Dilma Rousseff; TEXT2: Trata-se de um m...</td>\n",
       "    </tr>\n",
       "    <tr>\n",
       "      <th>7996</th>\n",
       "      <td>60338691</td>\n",
       "      <td>Thomas Mann</td>\n",
       "      <td>A bordo de jet-skis, os homens avançam velozm...</td>\n",
       "      <td>1.0</td>\n",
       "      <td>TEXT1: Thomas Mann; TEXT2: A bordo de jet-skis...</td>\n",
       "    </tr>\n",
       "    <tr>\n",
       "      <th>7997</th>\n",
       "      <td>57352798</td>\n",
       "      <td>Donald Trump</td>\n",
       "      <td>Os desenvolvedores da vacina russa contra covi...</td>\n",
       "      <td>1.0</td>\n",
       "      <td>TEXT1: Donald Trump; TEXT2: Os desenvolvedores...</td>\n",
       "    </tr>\n",
       "    <tr>\n",
       "      <th>7998</th>\n",
       "      <td>61662604</td>\n",
       "      <td>Bolsonaro</td>\n",
       "      <td>Durante o governo do ex-presidente americano D...</td>\n",
       "      <td>1.0</td>\n",
       "      <td>TEXT1: Bolsonaro; TEXT2: Durante o governo do ...</td>\n",
       "    </tr>\n",
       "    <tr>\n",
       "      <th>7999</th>\n",
       "      <td>55919036</td>\n",
       "      <td>Michelle Bachelet</td>\n",
       "      <td>O ativista e jornalista iraniano Ruhollah Zam ...</td>\n",
       "      <td>0.0</td>\n",
       "      <td>TEXT1: Michelle Bachelet; TEXT2: O ativista e ...</td>\n",
       "    </tr>\n",
       "  </tbody>\n",
       "</table>\n",
       "<p>8000 rows × 5 columns</p>\n",
       "</div>"
      ],
      "text/plain": [
       "            id                    name  \\\n",
       "0     54153414            Andrzej Duda   \n",
       "1     55253572          Erich Honecker   \n",
       "2     58168985            Chris Whitty   \n",
       "3     53821497  Luiz Henrique Mandetta   \n",
       "4     57170897           Angela Merkel   \n",
       "...        ...                     ...   \n",
       "7995  61292150          Dilma Rousseff   \n",
       "7996  60338691             Thomas Mann   \n",
       "7997  57352798            Donald Trump   \n",
       "7998  61662604               Bolsonaro   \n",
       "7999  55919036       Michelle Bachelet   \n",
       "\n",
       "                                              full_text  label  \\\n",
       "0     A comissão eleitoral da Polônia anunciou nes...    1.0   \n",
       "1     Natural e casual, elegantemente trajando ócul...    1.0   \n",
       "2     Apesar do número crescente de casos de covid-...    0.0   \n",
       "3     A Food and Drug Administration (FDA), agência...    1.0   \n",
       "4     O populismo de direita alemão deu um passo ma...    0.0   \n",
       "...                                                 ...    ...   \n",
       "7995  Trata-se de um movimento iniciado nos anos 199...    0.0   \n",
       "7996  A bordo de jet-skis, os homens avançam velozm...    1.0   \n",
       "7997  Os desenvolvedores da vacina russa contra covi...    1.0   \n",
       "7998  Durante o governo do ex-presidente americano D...    1.0   \n",
       "7999  O ativista e jornalista iraniano Ruhollah Zam ...    0.0   \n",
       "\n",
       "                                                  input  \n",
       "0     TEXT1: Andrzej Duda; TEXT2: A comissão eleito...  \n",
       "1     TEXT1: Erich Honecker; TEXT2: Natural e casual...  \n",
       "2     TEXT1: Chris Whitty; TEXT2: Apesar do número ...  \n",
       "3     TEXT1: Luiz Henrique Mandetta; TEXT2: A Food a...  \n",
       "4     TEXT1: Angela Merkel; TEXT2: O populismo de di...  \n",
       "...                                                 ...  \n",
       "7995  TEXT1: Dilma Rousseff; TEXT2: Trata-se de um m...  \n",
       "7996  TEXT1: Thomas Mann; TEXT2: A bordo de jet-skis...  \n",
       "7997  TEXT1: Donald Trump; TEXT2: Os desenvolvedores...  \n",
       "7998  TEXT1: Bolsonaro; TEXT2: Durante o governo do ...  \n",
       "7999  TEXT1: Michelle Bachelet; TEXT2: O ativista e ...  \n",
       "\n",
       "[8000 rows x 5 columns]"
      ]
     },
     "execution_count": 19,
     "metadata": {},
     "output_type": "execute_result"
    }
   ],
   "source": [
    "data"
   ]
  },
  {
   "cell_type": "code",
   "execution_count": 20,
   "id": "32c762ac-4bff-48bc-9a05-c7748cd1033d",
   "metadata": {},
   "outputs": [
    {
     "data": {
      "text/html": [
       "<div>\n",
       "<style scoped>\n",
       "    .dataframe tbody tr th:only-of-type {\n",
       "        vertical-align: middle;\n",
       "    }\n",
       "\n",
       "    .dataframe tbody tr th {\n",
       "        vertical-align: top;\n",
       "    }\n",
       "\n",
       "    .dataframe thead th {\n",
       "        text-align: right;\n",
       "    }\n",
       "</style>\n",
       "<table border=\"1\" class=\"dataframe\">\n",
       "  <thead>\n",
       "    <tr style=\"text-align: right;\">\n",
       "      <th></th>\n",
       "      <th>id</th>\n",
       "      <th>name</th>\n",
       "      <th>full_text</th>\n",
       "      <th>label</th>\n",
       "      <th>input</th>\n",
       "    </tr>\n",
       "  </thead>\n",
       "  <tbody>\n",
       "    <tr>\n",
       "      <th>0</th>\n",
       "      <td>54523862</td>\n",
       "      <td>Svetlana Tikhanovskaya</td>\n",
       "      <td>O ministro das Relações Exteriores da Lituâ...</td>\n",
       "      <td>0.0</td>\n",
       "      <td>TEXT1: Svetlana Tikhanovskaya; TEXT2: O minist...</td>\n",
       "    </tr>\n",
       "    <tr>\n",
       "      <th>1</th>\n",
       "      <td>57725423</td>\n",
       "      <td>Frank - Walter Steinmeier</td>\n",
       "      <td>Novas revelações, feitas neste domingo (30/0...</td>\n",
       "      <td>1.0</td>\n",
       "      <td>TEXT1: Frank - Walter Steinmeier; TEXT2: Novas...</td>\n",
       "    </tr>\n",
       "    <tr>\n",
       "      <th>2</th>\n",
       "      <td>58283114</td>\n",
       "      <td>Cristiano Carvalho</td>\n",
       "      <td>O representante da Davati Medical Supply, Cris...</td>\n",
       "      <td>0.0</td>\n",
       "      <td>TEXT1: Cristiano Carvalho; TEXT2: O representa...</td>\n",
       "    </tr>\n",
       "    <tr>\n",
       "      <th>3</th>\n",
       "      <td>60084542</td>\n",
       "      <td>Joe Biden</td>\n",
       "      <td>A partir deste sábado (11/12), brasileiros qu...</td>\n",
       "      <td>1.0</td>\n",
       "      <td>TEXT1: Joe Biden; TEXT2: A partir deste sábad...</td>\n",
       "    </tr>\n",
       "    <tr>\n",
       "      <th>4</th>\n",
       "      <td>62366291</td>\n",
       "      <td>Ann Linde</td>\n",
       "      <td>Embaixadores dos 30 países-membros da Otan as...</td>\n",
       "      <td>0.0</td>\n",
       "      <td>TEXT1: Ann Linde; TEXT2: Embaixadores dos 30 p...</td>\n",
       "    </tr>\n",
       "    <tr>\n",
       "      <th>...</th>\n",
       "      <td>...</td>\n",
       "      <td>...</td>\n",
       "      <td>...</td>\n",
       "      <td>...</td>\n",
       "      <td>...</td>\n",
       "    </tr>\n",
       "    <tr>\n",
       "      <th>351</th>\n",
       "      <td>58817709</td>\n",
       "      <td>Anne</td>\n",
       "      <td>Nascida em Teresina, Piauí, Mary Lages nunca ...</td>\n",
       "      <td>0.0</td>\n",
       "      <td>TEXT1: Anne; TEXT2: Nascida em Teresina, Piaui...</td>\n",
       "    </tr>\n",
       "    <tr>\n",
       "      <th>352</th>\n",
       "      <td>57146763</td>\n",
       "      <td>Recep Tayyip Erdogan</td>\n",
       "      <td>O primeiro-ministro italiano, Mario Draghi, ch...</td>\n",
       "      <td>1.0</td>\n",
       "      <td>TEXT1: Recep Tayyip Erdogan; TEXT2: O primeiro...</td>\n",
       "    </tr>\n",
       "    <tr>\n",
       "      <th>353</th>\n",
       "      <td>55374814</td>\n",
       "      <td>Francisco</td>\n",
       "      <td>Sete anos mais tarde, ele redobra a carga. No ...</td>\n",
       "      <td>1.0</td>\n",
       "      <td>TEXT1: Francisco; TEXT2: Sete anos mais tarde,...</td>\n",
       "    </tr>\n",
       "    <tr>\n",
       "      <th>354</th>\n",
       "      <td>58242406</td>\n",
       "      <td>Maria Van Kerkhove</td>\n",
       "      <td>A Organização Mundial da Saúde (OMS) expres...</td>\n",
       "      <td>0.0</td>\n",
       "      <td>TEXT1: Maria Van Kerkhove; TEXT2: A Organizaç...</td>\n",
       "    </tr>\n",
       "    <tr>\n",
       "      <th>355</th>\n",
       "      <td>56172005</td>\n",
       "      <td>Donald Trump</td>\n",
       "      <td>Isso depende da interpretação. Mas primeiro ...</td>\n",
       "      <td>1.0</td>\n",
       "      <td>TEXT1: Donald Trump; TEXT2: Isso depende da in...</td>\n",
       "    </tr>\n",
       "  </tbody>\n",
       "</table>\n",
       "<p>356 rows × 5 columns</p>\n",
       "</div>"
      ],
      "text/plain": [
       "           id                       name  \\\n",
       "0    54523862     Svetlana Tikhanovskaya   \n",
       "1    57725423  Frank - Walter Steinmeier   \n",
       "2    58283114         Cristiano Carvalho   \n",
       "3    60084542                  Joe Biden   \n",
       "4    62366291                  Ann Linde   \n",
       "..        ...                        ...   \n",
       "351  58817709                       Anne   \n",
       "352  57146763       Recep Tayyip Erdogan   \n",
       "353  55374814                  Francisco   \n",
       "354  58242406         Maria Van Kerkhove   \n",
       "355  56172005               Donald Trump   \n",
       "\n",
       "                                             full_text  label  \\\n",
       "0    O ministro das Relações Exteriores da Lituâ...    0.0   \n",
       "1    Novas revelações, feitas neste domingo (30/0...    1.0   \n",
       "2    O representante da Davati Medical Supply, Cris...    0.0   \n",
       "3    A partir deste sábado (11/12), brasileiros qu...    1.0   \n",
       "4    Embaixadores dos 30 países-membros da Otan as...    0.0   \n",
       "..                                                 ...    ...   \n",
       "351  Nascida em Teresina, Piauí, Mary Lages nunca ...    0.0   \n",
       "352  O primeiro-ministro italiano, Mario Draghi, ch...    1.0   \n",
       "353  Sete anos mais tarde, ele redobra a carga. No ...    1.0   \n",
       "354  A Organização Mundial da Saúde (OMS) expres...    0.0   \n",
       "355  Isso depende da interpretação. Mas primeiro ...    1.0   \n",
       "\n",
       "                                                 input  \n",
       "0    TEXT1: Svetlana Tikhanovskaya; TEXT2: O minist...  \n",
       "1    TEXT1: Frank - Walter Steinmeier; TEXT2: Novas...  \n",
       "2    TEXT1: Cristiano Carvalho; TEXT2: O representa...  \n",
       "3    TEXT1: Joe Biden; TEXT2: A partir deste sábad...  \n",
       "4    TEXT1: Ann Linde; TEXT2: Embaixadores dos 30 p...  \n",
       "..                                                 ...  \n",
       "351  TEXT1: Anne; TEXT2: Nascida em Teresina, Piaui...  \n",
       "352  TEXT1: Recep Tayyip Erdogan; TEXT2: O primeiro...  \n",
       "353  TEXT1: Francisco; TEXT2: Sete anos mais tarde,...  \n",
       "354  TEXT1: Maria Van Kerkhove; TEXT2: A Organizaç...  \n",
       "355  TEXT1: Donald Trump; TEXT2: Isso depende da in...  \n",
       "\n",
       "[356 rows x 5 columns]"
      ]
     },
     "execution_count": 20,
     "metadata": {},
     "output_type": "execute_result"
    }
   ],
   "source": [
    "test_data"
   ]
  },
  {
   "cell_type": "markdown",
   "id": "9deb1f90-c87c-41fe-a3ac-79ac5a7e34c2",
   "metadata": {},
   "source": [
    "# Check that all names are actually in the article text"
   ]
  },
  {
   "cell_type": "markdown",
   "id": "f18f8122-5930-4667-a26f-cca01889cca4",
   "metadata": {},
   "source": [
    "## Training data"
   ]
  },
  {
   "cell_type": "code",
   "execution_count": 21,
   "id": "e78832fe-b256-43b6-bd30-f4e46b551e97",
   "metadata": {},
   "outputs": [],
   "source": [
    "names_not_in_text=[]\n",
    "for row in data.itertuples():\n",
    "    if not row.name in row.full_text:\n",
    "        names_not_in_text.append(row.Index)"
   ]
  },
  {
   "cell_type": "code",
   "execution_count": 22,
   "id": "0724067e-ba5c-49bd-8c69-994c4607cfb6",
   "metadata": {},
   "outputs": [
    {
     "data": {
      "text/html": [
       "<div>\n",
       "<style scoped>\n",
       "    .dataframe tbody tr th:only-of-type {\n",
       "        vertical-align: middle;\n",
       "    }\n",
       "\n",
       "    .dataframe tbody tr th {\n",
       "        vertical-align: top;\n",
       "    }\n",
       "\n",
       "    .dataframe thead th {\n",
       "        text-align: right;\n",
       "    }\n",
       "</style>\n",
       "<table border=\"1\" class=\"dataframe\">\n",
       "  <thead>\n",
       "    <tr style=\"text-align: right;\">\n",
       "      <th></th>\n",
       "      <th>id</th>\n",
       "      <th>name</th>\n",
       "      <th>full_text</th>\n",
       "      <th>label</th>\n",
       "      <th>input</th>\n",
       "    </tr>\n",
       "  </thead>\n",
       "  <tbody>\n",
       "    <tr>\n",
       "      <th>144</th>\n",
       "      <td>51872891</td>\n",
       "      <td>Fayez al - Sarraj</td>\n",
       "      <td>O Parlamento da Turquia aprovou nesta quinta-f...</td>\n",
       "      <td>1.0</td>\n",
       "      <td>TEXT1: Fayez al - Sarraj; TEXT2: O Parlamento ...</td>\n",
       "    </tr>\n",
       "    <tr>\n",
       "      <th>160</th>\n",
       "      <td>55436782</td>\n",
       "      <td>Annegret Kramp - Karrenbauer</td>\n",
       "      <td>\"Ninguém depositou nenhuma arma ainda\", diz u...</td>\n",
       "      <td>0.0</td>\n",
       "      <td>TEXT1: Annegret Kramp - Karrenbauer; TEXT2: \"N...</td>\n",
       "    </tr>\n",
       "    <tr>\n",
       "      <th>165</th>\n",
       "      <td>59633122</td>\n",
       "      <td>Karl - Heinz Rummenigge</td>\n",
       "      <td>Joshua Kimmich, uma das maiores de estrelas da...</td>\n",
       "      <td>1.0</td>\n",
       "      <td>TEXT1: Karl - Heinz Rummenigge; TEXT2: Joshua ...</td>\n",
       "    </tr>\n",
       "    <tr>\n",
       "      <th>258</th>\n",
       "      <td>52031515</td>\n",
       "      <td>Abu Mahdi al - Muhandis</td>\n",
       "      <td>Qassim Soleimani, chefe das brigadas Quds, for...</td>\n",
       "      <td>1.0</td>\n",
       "      <td>TEXT1: Abu Mahdi al - Muhandis; TEXT2: Qassim ...</td>\n",
       "    </tr>\n",
       "    <tr>\n",
       "      <th>313</th>\n",
       "      <td>61926827</td>\n",
       "      <td>Karine Jean - Pierre</td>\n",
       "      <td>O presidente dos Estados Unidos, Joe Biden, fe...</td>\n",
       "      <td>0.0</td>\n",
       "      <td>TEXT1: Karine Jean - Pierre; TEXT2: O presiden...</td>\n",
       "    </tr>\n",
       "    <tr>\n",
       "      <th>...</th>\n",
       "      <td>...</td>\n",
       "      <td>...</td>\n",
       "      <td>...</td>\n",
       "      <td>...</td>\n",
       "      <td>...</td>\n",
       "    </tr>\n",
       "    <tr>\n",
       "      <th>7646</th>\n",
       "      <td>62412570</td>\n",
       "      <td>Reem Alabali - Radovan</td>\n",
       "      <td>Berlim quer dar a mais de 130 mil estrangeiros...</td>\n",
       "      <td>0.0</td>\n",
       "      <td>TEXT1: Reem Alabali - Radovan; TEXT2: Berlim q...</td>\n",
       "    </tr>\n",
       "    <tr>\n",
       "      <th>7698</th>\n",
       "      <td>52469365</td>\n",
       "      <td>Annegret Kramp - Karrenbauer</td>\n",
       "      <td>Não demorou muito para representantes de part...</td>\n",
       "      <td>0.0</td>\n",
       "      <td>TEXT1: Annegret Kramp - Karrenbauer; TEXT2: Na...</td>\n",
       "    </tr>\n",
       "    <tr>\n",
       "      <th>7711</th>\n",
       "      <td>53235120</td>\n",
       "      <td>Annegret Kramp - Karrenbauer</td>\n",
       "      <td>Costuma-se designar com o termo \"pato manco\" o...</td>\n",
       "      <td>0.0</td>\n",
       "      <td>TEXT1: Annegret Kramp - Karrenbauer; TEXT2: Co...</td>\n",
       "    </tr>\n",
       "    <tr>\n",
       "      <th>7782</th>\n",
       "      <td>62395160</td>\n",
       "      <td>Anita Lasker - Wallfisch</td>\n",
       "      <td>Eles experimentaram sofrimento e crueldade ime...</td>\n",
       "      <td>0.0</td>\n",
       "      <td>TEXT1: Anita Lasker - Wallfisch; TEXT2: Eles e...</td>\n",
       "    </tr>\n",
       "    <tr>\n",
       "      <th>7837</th>\n",
       "      <td>52322095</td>\n",
       "      <td>Annegret Kramp - Karrenbauer</td>\n",
       "      <td>A sucessora designada por Angela Merkel, Anneg...</td>\n",
       "      <td>0.0</td>\n",
       "      <td>TEXT1: Annegret Kramp - Karrenbauer; TEXT2: A ...</td>\n",
       "    </tr>\n",
       "  </tbody>\n",
       "</table>\n",
       "<p>160 rows × 5 columns</p>\n",
       "</div>"
      ],
      "text/plain": [
       "            id                          name  \\\n",
       "144   51872891             Fayez al - Sarraj   \n",
       "160   55436782  Annegret Kramp - Karrenbauer   \n",
       "165   59633122       Karl - Heinz Rummenigge   \n",
       "258   52031515       Abu Mahdi al - Muhandis   \n",
       "313   61926827          Karine Jean - Pierre   \n",
       "...        ...                           ...   \n",
       "7646  62412570        Reem Alabali - Radovan   \n",
       "7698  52469365  Annegret Kramp - Karrenbauer   \n",
       "7711  53235120  Annegret Kramp - Karrenbauer   \n",
       "7782  62395160      Anita Lasker - Wallfisch   \n",
       "7837  52322095  Annegret Kramp - Karrenbauer   \n",
       "\n",
       "                                              full_text  label  \\\n",
       "144   O Parlamento da Turquia aprovou nesta quinta-f...    1.0   \n",
       "160   \"Ninguém depositou nenhuma arma ainda\", diz u...    0.0   \n",
       "165   Joshua Kimmich, uma das maiores de estrelas da...    1.0   \n",
       "258   Qassim Soleimani, chefe das brigadas Quds, for...    1.0   \n",
       "313   O presidente dos Estados Unidos, Joe Biden, fe...    0.0   \n",
       "...                                                 ...    ...   \n",
       "7646  Berlim quer dar a mais de 130 mil estrangeiros...    0.0   \n",
       "7698  Não demorou muito para representantes de part...    0.0   \n",
       "7711  Costuma-se designar com o termo \"pato manco\" o...    0.0   \n",
       "7782  Eles experimentaram sofrimento e crueldade ime...    0.0   \n",
       "7837  A sucessora designada por Angela Merkel, Anneg...    0.0   \n",
       "\n",
       "                                                  input  \n",
       "144   TEXT1: Fayez al - Sarraj; TEXT2: O Parlamento ...  \n",
       "160   TEXT1: Annegret Kramp - Karrenbauer; TEXT2: \"N...  \n",
       "165   TEXT1: Karl - Heinz Rummenigge; TEXT2: Joshua ...  \n",
       "258   TEXT1: Abu Mahdi al - Muhandis; TEXT2: Qassim ...  \n",
       "313   TEXT1: Karine Jean - Pierre; TEXT2: O presiden...  \n",
       "...                                                 ...  \n",
       "7646  TEXT1: Reem Alabali - Radovan; TEXT2: Berlim q...  \n",
       "7698  TEXT1: Annegret Kramp - Karrenbauer; TEXT2: Na...  \n",
       "7711  TEXT1: Annegret Kramp - Karrenbauer; TEXT2: Co...  \n",
       "7782  TEXT1: Anita Lasker - Wallfisch; TEXT2: Eles e...  \n",
       "7837  TEXT1: Annegret Kramp - Karrenbauer; TEXT2: A ...  \n",
       "\n",
       "[160 rows x 5 columns]"
      ]
     },
     "execution_count": 22,
     "metadata": {},
     "output_type": "execute_result"
    }
   ],
   "source": [
    "data.loc[names_not_in_text]"
   ]
  },
  {
   "cell_type": "markdown",
   "id": "141fe96b-d35f-45a1-bba1-500bef1e86cb",
   "metadata": {},
   "source": [
    "It seems that there is a difficulty when dashes are part of the name.\n",
    "\n",
    "Let us see if that is the whole issue."
   ]
  },
  {
   "cell_type": "code",
   "execution_count": 23,
   "id": "153a8dbd-098e-4d44-b77c-5ae90739fcf6",
   "metadata": {},
   "outputs": [],
   "source": [
    "names_with_dash=[]\n",
    "for row in data.itertuples():\n",
    "    if ' - ' in row.name:\n",
    "        names_with_dash.append(row.Index)"
   ]
  },
  {
   "cell_type": "code",
   "execution_count": 24,
   "id": "2e1e81a6-532d-48b9-8a02-e85f2f4470c8",
   "metadata": {},
   "outputs": [
    {
     "data": {
      "text/plain": [
       "157"
      ]
     },
     "execution_count": 24,
     "metadata": {},
     "output_type": "execute_result"
    }
   ],
   "source": [
    "len(names_with_dash)"
   ]
  },
  {
   "cell_type": "code",
   "execution_count": 25,
   "id": "1d9f2cf4-5d1e-4c36-b73a-884be7c066f3",
   "metadata": {},
   "outputs": [
    {
     "data": {
      "text/html": [
       "<div>\n",
       "<style scoped>\n",
       "    .dataframe tbody tr th:only-of-type {\n",
       "        vertical-align: middle;\n",
       "    }\n",
       "\n",
       "    .dataframe tbody tr th {\n",
       "        vertical-align: top;\n",
       "    }\n",
       "\n",
       "    .dataframe thead th {\n",
       "        text-align: right;\n",
       "    }\n",
       "</style>\n",
       "<table border=\"1\" class=\"dataframe\">\n",
       "  <thead>\n",
       "    <tr style=\"text-align: right;\">\n",
       "      <th></th>\n",
       "      <th>id</th>\n",
       "      <th>name</th>\n",
       "      <th>full_text</th>\n",
       "      <th>label</th>\n",
       "      <th>input</th>\n",
       "    </tr>\n",
       "  </thead>\n",
       "  <tbody>\n",
       "    <tr>\n",
       "      <th>7232</th>\n",
       "      <td>52648845</td>\n",
       "      <td>Friedrich ] Schiller</td>\n",
       "      <td>Nike Wagner é diretora-geral do Beethovenfest...</td>\n",
       "      <td>1.0</td>\n",
       "      <td>TEXT1: Friedrich ] Schiller; TEXT2: Nike Wagne...</td>\n",
       "    </tr>\n",
       "    <tr>\n",
       "      <th>6545</th>\n",
       "      <td>54838911</td>\n",
       "      <td>Abraham ] Weintraub</td>\n",
       "      <td>Pouco mais de dois anos atrás, quando o diret...</td>\n",
       "      <td>1.0</td>\n",
       "      <td>TEXT1: Abraham ] Weintraub; TEXT2: Pouco mais ...</td>\n",
       "    </tr>\n",
       "    <tr>\n",
       "      <th>2501</th>\n",
       "      <td>59979063</td>\n",
       "      <td>Jair ] Bolsonaro</td>\n",
       "      <td>Coordenadora do Fórum de Ciência e Cultura d...</td>\n",
       "      <td>1.0</td>\n",
       "      <td>TEXT1: Jair ] Bolsonaro; TEXT2: Coordenadora d...</td>\n",
       "    </tr>\n",
       "  </tbody>\n",
       "</table>\n",
       "</div>"
      ],
      "text/plain": [
       "            id                  name  \\\n",
       "7232  52648845  Friedrich ] Schiller   \n",
       "6545  54838911   Abraham ] Weintraub   \n",
       "2501  59979063      Jair ] Bolsonaro   \n",
       "\n",
       "                                              full_text  label  \\\n",
       "7232  Nike Wagner é diretora-geral do Beethovenfest...    1.0   \n",
       "6545  Pouco mais de dois anos atrás, quando o diret...    1.0   \n",
       "2501  Coordenadora do Fórum de Ciência e Cultura d...    1.0   \n",
       "\n",
       "                                                  input  \n",
       "7232  TEXT1: Friedrich ] Schiller; TEXT2: Nike Wagne...  \n",
       "6545  TEXT1: Abraham ] Weintraub; TEXT2: Pouco mais ...  \n",
       "2501  TEXT1: Jair ] Bolsonaro; TEXT2: Coordenadora d...  "
      ]
     },
     "execution_count": 25,
     "metadata": {},
     "output_type": "execute_result"
    }
   ],
   "source": [
    "data.loc[list(set(names_not_in_text)-set(names_with_dash))]"
   ]
  },
  {
   "cell_type": "markdown",
   "id": "82b1cbaa-093f-4e05-a1fa-914bc145f1ef",
   "metadata": {},
   "source": [
    "Besides the names that contain a dash, there is also a few miss-identification by the NER when a square bracket is between two names."
   ]
  },
  {
   "cell_type": "markdown",
   "id": "11e85c4c-4a97-417c-93c4-bd2413a8e88e",
   "metadata": {},
   "source": [
    "Fortunatelly, all cases in which the name is \"not in the article text\" amount to 160 cases. Thas corresponds to a small percentage of the training data set of 8k inputs."
   ]
  },
  {
   "cell_type": "code",
   "execution_count": 26,
   "id": "64441812-76be-4ccc-883c-e6ddc97011b2",
   "metadata": {},
   "outputs": [
    {
     "name": "stdout",
     "output_type": "stream",
     "text": [
      "2.0%\n"
     ]
    }
   ],
   "source": [
    "print(f'{100*(160/8000)}%')"
   ]
  },
  {
   "cell_type": "markdown",
   "id": "40c08307-db37-403a-8b03-82986acc4623",
   "metadata": {},
   "source": [
    "We will remove those 160 cases and use a final input with 8000-160=7840 elements."
   ]
  },
  {
   "cell_type": "code",
   "execution_count": 27,
   "id": "007c41ff-5773-4652-a5e3-5ea96819c727",
   "metadata": {},
   "outputs": [
    {
     "data": {
      "text/plain": [
       "160"
      ]
     },
     "execution_count": 27,
     "metadata": {},
     "output_type": "execute_result"
    }
   ],
   "source": [
    "len(names_not_in_text)"
   ]
  },
  {
   "cell_type": "markdown",
   "id": "5b15222f-3be1-49e2-9692-c47218458aa4",
   "metadata": {},
   "source": [
    "### Remove problematic inputs"
   ]
  },
  {
   "cell_type": "code",
   "execution_count": 28,
   "id": "1d07d5d3-81a7-4ace-ba70-1103c0e3da0f",
   "metadata": {
    "tags": []
   },
   "outputs": [],
   "source": [
    "data = data.drop(names_not_in_text)"
   ]
  },
  {
   "cell_type": "markdown",
   "id": "a8b2b2b1-4f06-456b-bee6-ccb183c6e0a8",
   "metadata": {},
   "source": [
    "Check result"
   ]
  },
  {
   "cell_type": "code",
   "execution_count": 29,
   "id": "ed8cc829-61d5-430b-9894-ea918a5445f8",
   "metadata": {},
   "outputs": [],
   "source": [
    "names_not_in_text=[]\n",
    "for row in data.itertuples():\n",
    "    if not row.name in row.full_text:\n",
    "        names_not_in_text.append(row.Index)"
   ]
  },
  {
   "cell_type": "code",
   "execution_count": 30,
   "id": "da340374-0d64-4552-8df0-ad2f331b691f",
   "metadata": {},
   "outputs": [
    {
     "data": {
      "text/plain": [
       "0"
      ]
     },
     "execution_count": 30,
     "metadata": {},
     "output_type": "execute_result"
    }
   ],
   "source": [
    "len(names_not_in_text)"
   ]
  },
  {
   "cell_type": "code",
   "execution_count": 31,
   "id": "dd6eae15-b1b0-4f8a-8186-4abb3d202b4d",
   "metadata": {},
   "outputs": [],
   "source": [
    "data = data.reset_index(drop=True)"
   ]
  },
  {
   "cell_type": "markdown",
   "id": "1f75df77-dc38-4019-9e16-9977ea1b1141",
   "metadata": {},
   "source": [
    "### Save"
   ]
  },
  {
   "cell_type": "code",
   "execution_count": 210,
   "id": "2172d0c5-cd12-45e6-8857-c5272b91ada8",
   "metadata": {},
   "outputs": [],
   "source": [
    "outputdir = Path.cwd()\n",
    "filename = Path('portuguese_training_data_v5.csv')\n",
    "data.to_csv(outputdir/filename, index=False)"
   ]
  },
  {
   "cell_type": "markdown",
   "id": "8a10ffd3-0e90-475e-af29-59399792e3ef",
   "metadata": {},
   "source": [
    "## Test data"
   ]
  },
  {
   "cell_type": "code",
   "execution_count": 32,
   "id": "a6bd6c5a-eb79-410c-ab6a-446a4b0ec62b",
   "metadata": {},
   "outputs": [
    {
     "name": "stdout",
     "output_type": "stream",
     "text": [
      "<class 'pandas.core.frame.DataFrame'>\n",
      "RangeIndex: 356 entries, 0 to 355\n",
      "Data columns (total 5 columns):\n",
      " #   Column     Non-Null Count  Dtype  \n",
      "---  ------     --------------  -----  \n",
      " 0   id         356 non-null    int64  \n",
      " 1   name       356 non-null    object \n",
      " 2   full_text  356 non-null    object \n",
      " 3   label      356 non-null    float64\n",
      " 4   input      356 non-null    object \n",
      "dtypes: float64(1), int64(1), object(3)\n",
      "memory usage: 14.0+ KB\n"
     ]
    }
   ],
   "source": [
    "test_data.info()"
   ]
  },
  {
   "cell_type": "code",
   "execution_count": 33,
   "id": "490ed6ba-4d2c-4d95-85bd-0d9ef3018bcb",
   "metadata": {},
   "outputs": [],
   "source": [
    "names_not_in_text=[]\n",
    "for row in test_data.itertuples():\n",
    "    if not row.name in row.full_text:\n",
    "        names_not_in_text.append(row.Index)"
   ]
  },
  {
   "cell_type": "code",
   "execution_count": 34,
   "id": "b1a2363c-2262-456d-8bbb-ef130c6e3d8a",
   "metadata": {},
   "outputs": [
    {
     "data": {
      "text/html": [
       "<div>\n",
       "<style scoped>\n",
       "    .dataframe tbody tr th:only-of-type {\n",
       "        vertical-align: middle;\n",
       "    }\n",
       "\n",
       "    .dataframe tbody tr th {\n",
       "        vertical-align: top;\n",
       "    }\n",
       "\n",
       "    .dataframe thead th {\n",
       "        text-align: right;\n",
       "    }\n",
       "</style>\n",
       "<table border=\"1\" class=\"dataframe\">\n",
       "  <thead>\n",
       "    <tr style=\"text-align: right;\">\n",
       "      <th></th>\n",
       "      <th>id</th>\n",
       "      <th>name</th>\n",
       "      <th>full_text</th>\n",
       "      <th>label</th>\n",
       "      <th>input</th>\n",
       "    </tr>\n",
       "  </thead>\n",
       "  <tbody>\n",
       "    <tr>\n",
       "      <th>1</th>\n",
       "      <td>57725423</td>\n",
       "      <td>Frank - Walter Steinmeier</td>\n",
       "      <td>Novas revelações, feitas neste domingo (30/0...</td>\n",
       "      <td>1.0</td>\n",
       "      <td>TEXT1: Frank - Walter Steinmeier; TEXT2: Novas...</td>\n",
       "    </tr>\n",
       "    <tr>\n",
       "      <th>41</th>\n",
       "      <td>60250324</td>\n",
       "      <td>Park Geun - hye</td>\n",
       "      <td>Em meio a uma corrida presidencial acirrada na...</td>\n",
       "      <td>0.0</td>\n",
       "      <td>TEXT1: Park Geun - hye; TEXT2: Em meio a uma c...</td>\n",
       "    </tr>\n",
       "    <tr>\n",
       "      <th>143</th>\n",
       "      <td>52904509</td>\n",
       "      <td>Jeong Eun - kyeong</td>\n",
       "      <td>As estratégias governamentais para combater o...</td>\n",
       "      <td>0.0</td>\n",
       "      <td>TEXT1: Jeong Eun - kyeong; TEXT2: As estratég...</td>\n",
       "    </tr>\n",
       "    <tr>\n",
       "      <th>203</th>\n",
       "      <td>53892063</td>\n",
       "      <td>Alexandria Ocasio - Cortez</td>\n",
       "      <td>Após uma pausa de mais de três meses ditada ...</td>\n",
       "      <td>0.0</td>\n",
       "      <td>TEXT1: Alexandria Ocasio - Cortez; TEXT2: Apó...</td>\n",
       "    </tr>\n",
       "    <tr>\n",
       "      <th>224</th>\n",
       "      <td>53261585</td>\n",
       "      <td>Karin Keller - Sutter</td>\n",
       "      <td>O processo referente à suspeita de compra de ...</td>\n",
       "      <td>0.0</td>\n",
       "      <td>TEXT1: Karin Keller - Sutter; TEXT2: O process...</td>\n",
       "    </tr>\n",
       "    <tr>\n",
       "      <th>226</th>\n",
       "      <td>57201661</td>\n",
       "      <td>Annegret Kramp - Karrenbauer</td>\n",
       "      <td>A Alemanha acompanhará os Estados Unidos na r...</td>\n",
       "      <td>0.0</td>\n",
       "      <td>TEXT1: Annegret Kramp - Karrenbauer; TEXT2: A ...</td>\n",
       "    </tr>\n",
       "    <tr>\n",
       "      <th>255</th>\n",
       "      <td>55071798</td>\n",
       "      <td>Karin Keller - Sutter</td>\n",
       "      <td>Em referendo, os eleitores suíços rejeitaram...</td>\n",
       "      <td>0.0</td>\n",
       "      <td>TEXT1: Karin Keller - Sutter; TEXT2: Em refere...</td>\n",
       "    </tr>\n",
       "    <tr>\n",
       "      <th>267</th>\n",
       "      <td>52692639</td>\n",
       "      <td>Annegret Kramp - Karrenbauer</td>\n",
       "      <td>O número de infecções pelo novo coronavíru...</td>\n",
       "      <td>0.0</td>\n",
       "      <td>TEXT1: Annegret Kramp - Karrenbauer; TEXT2: O ...</td>\n",
       "    </tr>\n",
       "  </tbody>\n",
       "</table>\n",
       "</div>"
      ],
      "text/plain": [
       "           id                          name  \\\n",
       "1    57725423     Frank - Walter Steinmeier   \n",
       "41   60250324               Park Geun - hye   \n",
       "143  52904509            Jeong Eun - kyeong   \n",
       "203  53892063    Alexandria Ocasio - Cortez   \n",
       "224  53261585         Karin Keller - Sutter   \n",
       "226  57201661  Annegret Kramp - Karrenbauer   \n",
       "255  55071798         Karin Keller - Sutter   \n",
       "267  52692639  Annegret Kramp - Karrenbauer   \n",
       "\n",
       "                                             full_text  label  \\\n",
       "1    Novas revelações, feitas neste domingo (30/0...    1.0   \n",
       "41   Em meio a uma corrida presidencial acirrada na...    0.0   \n",
       "143  As estratégias governamentais para combater o...    0.0   \n",
       "203  Após uma pausa de mais de três meses ditada ...    0.0   \n",
       "224  O processo referente à suspeita de compra de ...    0.0   \n",
       "226  A Alemanha acompanhará os Estados Unidos na r...    0.0   \n",
       "255  Em referendo, os eleitores suíços rejeitaram...    0.0   \n",
       "267  O número de infecções pelo novo coronavíru...    0.0   \n",
       "\n",
       "                                                 input  \n",
       "1    TEXT1: Frank - Walter Steinmeier; TEXT2: Novas...  \n",
       "41   TEXT1: Park Geun - hye; TEXT2: Em meio a uma c...  \n",
       "143  TEXT1: Jeong Eun - kyeong; TEXT2: As estratég...  \n",
       "203  TEXT1: Alexandria Ocasio - Cortez; TEXT2: Apó...  \n",
       "224  TEXT1: Karin Keller - Sutter; TEXT2: O process...  \n",
       "226  TEXT1: Annegret Kramp - Karrenbauer; TEXT2: A ...  \n",
       "255  TEXT1: Karin Keller - Sutter; TEXT2: Em refere...  \n",
       "267  TEXT1: Annegret Kramp - Karrenbauer; TEXT2: O ...  "
      ]
     },
     "execution_count": 34,
     "metadata": {},
     "output_type": "execute_result"
    }
   ],
   "source": [
    "test_data.loc[names_not_in_text]"
   ]
  },
  {
   "cell_type": "markdown",
   "id": "57c117ad-8eef-457c-abfe-3bfbfee88735",
   "metadata": {},
   "source": [
    "It seems that there is a difficulty when dashes are part of the name."
   ]
  },
  {
   "cell_type": "code",
   "execution_count": 35,
   "id": "517d8628-2754-44ba-95a0-61e2ef70537d",
   "metadata": {},
   "outputs": [
    {
     "data": {
      "text/plain": [
       "8"
      ]
     },
     "execution_count": 35,
     "metadata": {},
     "output_type": "execute_result"
    }
   ],
   "source": [
    "len(names_not_in_text)"
   ]
  },
  {
   "cell_type": "markdown",
   "id": "05833ad1-9b6c-4489-b3e7-0c1c8ce8862f",
   "metadata": {},
   "source": [
    "Fortunatelly, all cases in which the name is \"not in the article text\" amount to 8 cases. Thas corresponds to a small percentage of the training data set of 356 inputs."
   ]
  },
  {
   "cell_type": "code",
   "execution_count": 36,
   "id": "2bab4c2c-b2cf-4095-a33b-f62f0f72d967",
   "metadata": {},
   "outputs": [
    {
     "name": "stdout",
     "output_type": "stream",
     "text": [
      "2.247191011235955%\n"
     ]
    }
   ],
   "source": [
    "print(f'{100*(8/356)}%')"
   ]
  },
  {
   "cell_type": "markdown",
   "id": "8b3bcb90-dd4d-42a0-a771-a8b37010d53d",
   "metadata": {},
   "source": [
    "We will remove those 8 cases and use a final input with 8000-160=7840 elements."
   ]
  },
  {
   "cell_type": "markdown",
   "id": "3472778f-efba-4ec0-b843-142e331f1b03",
   "metadata": {},
   "source": [
    "### Remove problematic inputs"
   ]
  },
  {
   "cell_type": "code",
   "execution_count": 37,
   "id": "128fe7f8-1a6b-4a19-aec4-f99c85ec45a5",
   "metadata": {
    "tags": []
   },
   "outputs": [],
   "source": [
    "test_data = test_data.drop(names_not_in_text)"
   ]
  },
  {
   "cell_type": "markdown",
   "id": "0fde0939-ed91-4c5a-8aaf-3030e459ed4a",
   "metadata": {},
   "source": [
    "Check result"
   ]
  },
  {
   "cell_type": "code",
   "execution_count": 38,
   "id": "566425fe-5174-4ca2-be35-a363f0e3ca8b",
   "metadata": {},
   "outputs": [],
   "source": [
    "names_not_in_text=[]\n",
    "for row in test_data.itertuples():\n",
    "    if not row.name in row.full_text:\n",
    "        names_not_in_text.append(row.Index)"
   ]
  },
  {
   "cell_type": "code",
   "execution_count": 39,
   "id": "c74c492e-d6d1-4fff-8589-91020a19e4d2",
   "metadata": {},
   "outputs": [
    {
     "data": {
      "text/plain": [
       "0"
      ]
     },
     "execution_count": 39,
     "metadata": {},
     "output_type": "execute_result"
    }
   ],
   "source": [
    "len(names_not_in_text)"
   ]
  },
  {
   "cell_type": "code",
   "execution_count": 40,
   "id": "a00908c6-332d-4d19-8b19-5e4ecc8f9f55",
   "metadata": {},
   "outputs": [],
   "source": [
    "test_data = test_data.reset_index(drop=True)"
   ]
  },
  {
   "cell_type": "markdown",
   "id": "12a99714-28f6-4509-95d7-667fb619f852",
   "metadata": {},
   "source": [
    "### Save"
   ]
  },
  {
   "cell_type": "code",
   "execution_count": 222,
   "id": "bb08e656-f4de-4ebd-8fce-a1ff82bf360e",
   "metadata": {},
   "outputs": [],
   "source": [
    "outputdir = Path.cwd()\n",
    "filename = Path('portuguese_test_data_v5.csv')\n",
    "test_data.to_csv(outputdir/filename, index=False)"
   ]
  },
  {
   "cell_type": "markdown",
   "id": "dca86f2a-9dc5-45a2-ae66-55e8195ec149",
   "metadata": {},
   "source": [
    "# Read dataset"
   ]
  },
  {
   "cell_type": "code",
   "execution_count": 41,
   "id": "ae6a2cf3-9cea-4183-804c-1554d6a18575",
   "metadata": {},
   "outputs": [],
   "source": [
    "inputdir = Path.cwd()\n",
    "\n",
    "filename = Path('portuguese_training_data_v5.csv')\n",
    "data = pd.read_csv(inputdir/filename)\n",
    "\n",
    "filename = Path('portuguese_test_data_v5.csv')\n",
    "test_data = pd.read_csv(inputdir/filename)"
   ]
  },
  {
   "cell_type": "code",
   "execution_count": 42,
   "id": "630b23ae-299f-41c6-8b44-100b06b0472d",
   "metadata": {},
   "outputs": [
    {
     "data": {
      "text/html": [
       "<div>\n",
       "<style scoped>\n",
       "    .dataframe tbody tr th:only-of-type {\n",
       "        vertical-align: middle;\n",
       "    }\n",
       "\n",
       "    .dataframe tbody tr th {\n",
       "        vertical-align: top;\n",
       "    }\n",
       "\n",
       "    .dataframe thead th {\n",
       "        text-align: right;\n",
       "    }\n",
       "</style>\n",
       "<table border=\"1\" class=\"dataframe\">\n",
       "  <thead>\n",
       "    <tr style=\"text-align: right;\">\n",
       "      <th></th>\n",
       "      <th>id</th>\n",
       "      <th>name</th>\n",
       "      <th>full_text</th>\n",
       "      <th>label</th>\n",
       "      <th>input</th>\n",
       "    </tr>\n",
       "  </thead>\n",
       "  <tbody>\n",
       "    <tr>\n",
       "      <th>0</th>\n",
       "      <td>54153414</td>\n",
       "      <td>Andrzej Duda</td>\n",
       "      <td>A comissão eleitoral da Polônia anunciou nes...</td>\n",
       "      <td>1.0</td>\n",
       "      <td>TEXT1: Andrzej Duda; TEXT2: A comissão eleito...</td>\n",
       "    </tr>\n",
       "    <tr>\n",
       "      <th>1</th>\n",
       "      <td>55253572</td>\n",
       "      <td>Erich Honecker</td>\n",
       "      <td>Natural e casual, elegantemente trajando ócul...</td>\n",
       "      <td>1.0</td>\n",
       "      <td>TEXT1: Erich Honecker; TEXT2: Natural e casual...</td>\n",
       "    </tr>\n",
       "    <tr>\n",
       "      <th>2</th>\n",
       "      <td>58168985</td>\n",
       "      <td>Chris Whitty</td>\n",
       "      <td>Apesar do número crescente de casos de covid-...</td>\n",
       "      <td>0.0</td>\n",
       "      <td>TEXT1: Chris Whitty; TEXT2: Apesar do número ...</td>\n",
       "    </tr>\n",
       "    <tr>\n",
       "      <th>3</th>\n",
       "      <td>53821497</td>\n",
       "      <td>Luiz Henrique Mandetta</td>\n",
       "      <td>A Food and Drug Administration (FDA), agência...</td>\n",
       "      <td>1.0</td>\n",
       "      <td>TEXT1: Luiz Henrique Mandetta; TEXT2: A Food a...</td>\n",
       "    </tr>\n",
       "    <tr>\n",
       "      <th>4</th>\n",
       "      <td>57170897</td>\n",
       "      <td>Angela Merkel</td>\n",
       "      <td>O populismo de direita alemão deu um passo ma...</td>\n",
       "      <td>0.0</td>\n",
       "      <td>TEXT1: Angela Merkel; TEXT2: O populismo de di...</td>\n",
       "    </tr>\n",
       "    <tr>\n",
       "      <th>...</th>\n",
       "      <td>...</td>\n",
       "      <td>...</td>\n",
       "      <td>...</td>\n",
       "      <td>...</td>\n",
       "      <td>...</td>\n",
       "    </tr>\n",
       "    <tr>\n",
       "      <th>7835</th>\n",
       "      <td>61292150</td>\n",
       "      <td>Dilma Rousseff</td>\n",
       "      <td>Trata-se de um movimento iniciado nos anos 199...</td>\n",
       "      <td>0.0</td>\n",
       "      <td>TEXT1: Dilma Rousseff; TEXT2: Trata-se de um m...</td>\n",
       "    </tr>\n",
       "    <tr>\n",
       "      <th>7836</th>\n",
       "      <td>60338691</td>\n",
       "      <td>Thomas Mann</td>\n",
       "      <td>A bordo de jet-skis, os homens avançam velozm...</td>\n",
       "      <td>1.0</td>\n",
       "      <td>TEXT1: Thomas Mann; TEXT2: A bordo de jet-skis...</td>\n",
       "    </tr>\n",
       "    <tr>\n",
       "      <th>7837</th>\n",
       "      <td>57352798</td>\n",
       "      <td>Donald Trump</td>\n",
       "      <td>Os desenvolvedores da vacina russa contra covi...</td>\n",
       "      <td>1.0</td>\n",
       "      <td>TEXT1: Donald Trump; TEXT2: Os desenvolvedores...</td>\n",
       "    </tr>\n",
       "    <tr>\n",
       "      <th>7838</th>\n",
       "      <td>61662604</td>\n",
       "      <td>Bolsonaro</td>\n",
       "      <td>Durante o governo do ex-presidente americano D...</td>\n",
       "      <td>1.0</td>\n",
       "      <td>TEXT1: Bolsonaro; TEXT2: Durante o governo do ...</td>\n",
       "    </tr>\n",
       "    <tr>\n",
       "      <th>7839</th>\n",
       "      <td>55919036</td>\n",
       "      <td>Michelle Bachelet</td>\n",
       "      <td>O ativista e jornalista iraniano Ruhollah Zam ...</td>\n",
       "      <td>0.0</td>\n",
       "      <td>TEXT1: Michelle Bachelet; TEXT2: O ativista e ...</td>\n",
       "    </tr>\n",
       "  </tbody>\n",
       "</table>\n",
       "<p>7840 rows × 5 columns</p>\n",
       "</div>"
      ],
      "text/plain": [
       "            id                    name  \\\n",
       "0     54153414            Andrzej Duda   \n",
       "1     55253572          Erich Honecker   \n",
       "2     58168985            Chris Whitty   \n",
       "3     53821497  Luiz Henrique Mandetta   \n",
       "4     57170897           Angela Merkel   \n",
       "...        ...                     ...   \n",
       "7835  61292150          Dilma Rousseff   \n",
       "7836  60338691             Thomas Mann   \n",
       "7837  57352798            Donald Trump   \n",
       "7838  61662604               Bolsonaro   \n",
       "7839  55919036       Michelle Bachelet   \n",
       "\n",
       "                                              full_text  label  \\\n",
       "0     A comissão eleitoral da Polônia anunciou nes...    1.0   \n",
       "1     Natural e casual, elegantemente trajando ócul...    1.0   \n",
       "2     Apesar do número crescente de casos de covid-...    0.0   \n",
       "3     A Food and Drug Administration (FDA), agência...    1.0   \n",
       "4     O populismo de direita alemão deu um passo ma...    0.0   \n",
       "...                                                 ...    ...   \n",
       "7835  Trata-se de um movimento iniciado nos anos 199...    0.0   \n",
       "7836  A bordo de jet-skis, os homens avançam velozm...    1.0   \n",
       "7837  Os desenvolvedores da vacina russa contra covi...    1.0   \n",
       "7838  Durante o governo do ex-presidente americano D...    1.0   \n",
       "7839  O ativista e jornalista iraniano Ruhollah Zam ...    0.0   \n",
       "\n",
       "                                                  input  \n",
       "0     TEXT1: Andrzej Duda; TEXT2: A comissão eleito...  \n",
       "1     TEXT1: Erich Honecker; TEXT2: Natural e casual...  \n",
       "2     TEXT1: Chris Whitty; TEXT2: Apesar do número ...  \n",
       "3     TEXT1: Luiz Henrique Mandetta; TEXT2: A Food a...  \n",
       "4     TEXT1: Angela Merkel; TEXT2: O populismo de di...  \n",
       "...                                                 ...  \n",
       "7835  TEXT1: Dilma Rousseff; TEXT2: Trata-se de um m...  \n",
       "7836  TEXT1: Thomas Mann; TEXT2: A bordo de jet-skis...  \n",
       "7837  TEXT1: Donald Trump; TEXT2: Os desenvolvedores...  \n",
       "7838  TEXT1: Bolsonaro; TEXT2: Durante o governo do ...  \n",
       "7839  TEXT1: Michelle Bachelet; TEXT2: O ativista e ...  \n",
       "\n",
       "[7840 rows x 5 columns]"
      ]
     },
     "execution_count": 42,
     "metadata": {},
     "output_type": "execute_result"
    }
   ],
   "source": [
    "data"
   ]
  },
  {
   "cell_type": "markdown",
   "id": "1153fc29-d406-4cbb-9837-c4e303dfcb3c",
   "metadata": {},
   "source": [
    "# Conform to use input string whose length does not exceed 512 characters"
   ]
  },
  {
   "cell_type": "markdown",
   "id": "4b6fa4db-2cd7-4c76-a894-9cb34dd2574a",
   "metadata": {},
   "source": [
    "## Training set"
   ]
  },
  {
   "cell_type": "code",
   "execution_count": 44,
   "id": "4508f836-a8f9-4231-9555-0f4af288e363",
   "metadata": {},
   "outputs": [],
   "source": [
    "new_full_text = []\n",
    "for row in data.itertuples():\n",
    "    name = row.name\n",
    "    full_text = row.full_text\n",
    "    \n",
    "    # Split full text into sentences\n",
    "    sentences = full_text.split('. ')\n",
    "    for i in range(len(sentences)-1):\n",
    "        sentences[i] = sentences[i]+'.' # Add dot that was removed when splitting\n",
    "\n",
    "    # Find name occurrences\n",
    "    name_occurrences = []\n",
    "    for i in range(len(sentences)):\n",
    "        if name in sentences[i]:\n",
    "            name_occurrences.append(i)\n",
    "    \n",
    "    # First ocurrence\n",
    "    name_occurrence = np.min(name_occurrences)\n",
    "    \n",
    "    # Append sentences one by one until it gets too large\n",
    "    max_num_of_characters = 420\n",
    "    max_num_of_sentences_to_append = 7\n",
    "    new_sentence = sentences[name_occurrence]\n",
    "    for i in range(2,max_num_of_sentences_to_append+2):\n",
    "        _new_sentence = ' '.join(sentences[name_occurrence:name_occurrence+i])\n",
    "        if len(_new_sentence) <= max_num_of_characters:\n",
    "            new_sentence = _new_sentence\n",
    "            \n",
    "    # Collect new input\n",
    "    new_full_text.append(new_sentence)"
   ]
  },
  {
   "cell_type": "code",
   "execution_count": 45,
   "id": "545d9ace-0f4f-43a2-bdab-99a23ec41799",
   "metadata": {},
   "outputs": [],
   "source": [
    "data['new_full_text'] = new_full_text"
   ]
  },
  {
   "cell_type": "code",
   "execution_count": 46,
   "id": "552c39bd-838a-48b8-876f-043c980a96bd",
   "metadata": {},
   "outputs": [
    {
     "data": {
      "text/html": [
       "<div>\n",
       "<style scoped>\n",
       "    .dataframe tbody tr th:only-of-type {\n",
       "        vertical-align: middle;\n",
       "    }\n",
       "\n",
       "    .dataframe tbody tr th {\n",
       "        vertical-align: top;\n",
       "    }\n",
       "\n",
       "    .dataframe thead th {\n",
       "        text-align: right;\n",
       "    }\n",
       "</style>\n",
       "<table border=\"1\" class=\"dataframe\">\n",
       "  <thead>\n",
       "    <tr style=\"text-align: right;\">\n",
       "      <th></th>\n",
       "      <th>id</th>\n",
       "      <th>name</th>\n",
       "      <th>full_text</th>\n",
       "      <th>label</th>\n",
       "      <th>input</th>\n",
       "      <th>new_full_text</th>\n",
       "    </tr>\n",
       "  </thead>\n",
       "  <tbody>\n",
       "    <tr>\n",
       "      <th>0</th>\n",
       "      <td>54153414</td>\n",
       "      <td>Andrzej Duda</td>\n",
       "      <td>A comissão eleitoral da Polônia anunciou nes...</td>\n",
       "      <td>1.0</td>\n",
       "      <td>TEXT1: Andrzej Duda; TEXT2: A comissão eleito...</td>\n",
       "      <td>A comissão eleitoral da Polônia anunciou nes...</td>\n",
       "    </tr>\n",
       "    <tr>\n",
       "      <th>1</th>\n",
       "      <td>55253572</td>\n",
       "      <td>Erich Honecker</td>\n",
       "      <td>Natural e casual, elegantemente trajando ócul...</td>\n",
       "      <td>1.0</td>\n",
       "      <td>TEXT1: Erich Honecker; TEXT2: Natural e casual...</td>\n",
       "      <td>Natural e casual, elegantemente trajando ócul...</td>\n",
       "    </tr>\n",
       "    <tr>\n",
       "      <th>2</th>\n",
       "      <td>58168985</td>\n",
       "      <td>Chris Whitty</td>\n",
       "      <td>Apesar do número crescente de casos de covid-...</td>\n",
       "      <td>0.0</td>\n",
       "      <td>TEXT1: Chris Whitty; TEXT2: Apesar do número ...</td>\n",
       "      <td>Questionados sobre isso durante a coletiva de ...</td>\n",
       "    </tr>\n",
       "    <tr>\n",
       "      <th>3</th>\n",
       "      <td>53821497</td>\n",
       "      <td>Luiz Henrique Mandetta</td>\n",
       "      <td>A Food and Drug Administration (FDA), agência...</td>\n",
       "      <td>1.0</td>\n",
       "      <td>TEXT1: Luiz Henrique Mandetta; TEXT2: A Food a...</td>\n",
       "      <td>Discórdias sobre o uso do medicamento teriam ...</td>\n",
       "    </tr>\n",
       "    <tr>\n",
       "      <th>4</th>\n",
       "      <td>57170897</td>\n",
       "      <td>Angela Merkel</td>\n",
       "      <td>O populismo de direita alemão deu um passo ma...</td>\n",
       "      <td>0.0</td>\n",
       "      <td>TEXT1: Angela Merkel; TEXT2: O populismo de di...</td>\n",
       "      <td>Em setembro, a Alemanha realiza eleições ger...</td>\n",
       "    </tr>\n",
       "  </tbody>\n",
       "</table>\n",
       "</div>"
      ],
      "text/plain": [
       "         id                    name  \\\n",
       "0  54153414            Andrzej Duda   \n",
       "1  55253572          Erich Honecker   \n",
       "2  58168985            Chris Whitty   \n",
       "3  53821497  Luiz Henrique Mandetta   \n",
       "4  57170897           Angela Merkel   \n",
       "\n",
       "                                           full_text  label  \\\n",
       "0  A comissão eleitoral da Polônia anunciou nes...    1.0   \n",
       "1  Natural e casual, elegantemente trajando ócul...    1.0   \n",
       "2  Apesar do número crescente de casos de covid-...    0.0   \n",
       "3  A Food and Drug Administration (FDA), agência...    1.0   \n",
       "4  O populismo de direita alemão deu um passo ma...    0.0   \n",
       "\n",
       "                                               input  \\\n",
       "0  TEXT1: Andrzej Duda; TEXT2: A comissão eleito...   \n",
       "1  TEXT1: Erich Honecker; TEXT2: Natural e casual...   \n",
       "2  TEXT1: Chris Whitty; TEXT2: Apesar do número ...   \n",
       "3  TEXT1: Luiz Henrique Mandetta; TEXT2: A Food a...   \n",
       "4  TEXT1: Angela Merkel; TEXT2: O populismo de di...   \n",
       "\n",
       "                                       new_full_text  \n",
       "0  A comissão eleitoral da Polônia anunciou nes...  \n",
       "1  Natural e casual, elegantemente trajando ócul...  \n",
       "2  Questionados sobre isso durante a coletiva de ...  \n",
       "3  Discórdias sobre o uso do medicamento teriam ...  \n",
       "4  Em setembro, a Alemanha realiza eleições ger...  "
      ]
     },
     "execution_count": 46,
     "metadata": {},
     "output_type": "execute_result"
    }
   ],
   "source": [
    "data.head()"
   ]
  },
  {
   "cell_type": "markdown",
   "id": "649189a5-3232-4744-a65a-35b461b04c41",
   "metadata": {},
   "source": [
    "Check that all names are in the column `new_full_text`"
   ]
  },
  {
   "cell_type": "code",
   "execution_count": 48,
   "id": "0e0b2d59-c244-4e35-b4ee-76279577a1c1",
   "metadata": {},
   "outputs": [],
   "source": [
    "lst = []\n",
    "for row in data.itertuples():\n",
    "    lst.append(row.name in row.new_full_text)"
   ]
  },
  {
   "cell_type": "code",
   "execution_count": 50,
   "id": "126c76f1-2e18-4377-98d1-ab90b22c3921",
   "metadata": {},
   "outputs": [
    {
     "data": {
      "text/plain": [
       "True"
      ]
     },
     "execution_count": 50,
     "metadata": {},
     "output_type": "execute_result"
    }
   ],
   "source": [
    "np.all(lst)"
   ]
  },
  {
   "cell_type": "markdown",
   "id": "0fca40fa-0075-4f03-bf6d-5a2c3bfdb171",
   "metadata": {},
   "source": [
    "Visual checks"
   ]
  },
  {
   "cell_type": "code",
   "execution_count": 51,
   "id": "0aeaadd8-e250-4430-8089-b89d2bfd3749",
   "metadata": {},
   "outputs": [
    {
     "name": "stdout",
     "output_type": "stream",
     "text": [
      "Heiko Maas\n",
      "\n",
      "Em videoconferência no Conselho de Segurança das Nações Unidas, o ministro alemão do Exterior, Heiko Maas, conclamou a comunidade mundial a agir de forma mais decidida contra todas as formas de violência sexual no contexto de conflitos de guerra. \"Estupro, prostituição forçada e escravidão sexual continuam sendo empregados como armas em conflitos por todo o mundo\", frisou o chefe de diplomacia. Ele criticou que, 20 anos após a aprovação da Resolução 1.325 da ONU e mais de um ano após a Resolução 2.467, \"quase não se veem progressos\": as vítimas frequentemente não recebem a ajuda de que necessitam, e a criminalidade sexualizada nas guerras segue destruindo sociedades em todas as regiões. Detentora da presidência rotativa do Conselho de Segurança da ONU no mês de julho, a Alemanha declarou como uma de suas prioridades o combate à violência sexual em conflitos bélicos. O debate desta sexta-feira (17/07) foi promovido também pela República Dominicana. Maas reivindicou a implementação vinculativa tanto da agenda Mulheres, Paz e Segurança quanto da Resolução 2.467 para combate a crimes sexuais em conflitos e fortalecimento das vítimas. É preciso garantir que sobreviventes dessa violência recebam assistência médica e legal, e que as mulheres participem imediatamente da consolidação da paz. Além disso, sanções devem passar a ter um papel mais incisivo na luta contra os crimes de guerra sexualizados, para que a impunidade dos agressores tenha fim, exigiu o político social-democrata. Ele comparou os desafios que os crimes sexuais em conflitos representam para a comunidade internacional com o combate à covid-19, sendo a violência específica de gênero um \"vírus global\" que há anos destrói vidas humanas e comunidades, sem que haja uma vacina à vista. O ministro alemão lembrou ainda o quanto a pandemia piorou a situação para numerosas vítimas: as medidas de confinamento dificultam seu acesso às entidades jurídicas e médicas, e o volume de denúncias de violência sexual reduziu-se significativamente. Segundo relatório da Organização das Nações Unidas relativo a 2019, em pelo menos 19 países foram praticados crimes sexuais por mais de 50 partidos de conflitos bélicos, incluindo exércitos governamentais, grupos rebeldes e organizações terroristas. No entanto as estatísticas sobre o número de vítimas são inexatas, tanto pelo medo de estigmatização como devido à investigação incompleta por parte das autoridades. A encarregada especial da ONU para violência sexual em conflitos, Pramila Patten, apelou para que se coloquem os atingidos no centro do interesse político, a fim de garantir que recebam a ajuda necessária. Ela enfatizou que essa forma de violência é empregada em zonas de conflito de todo o mundo como tática e como método de tortura. Além disso, vítimas de estupro brutal não são apenas fisicamente mutiladas, mas também carregam feridas psicológicas consigo.\n",
      "\n",
      "Em videoconferência no Conselho de Segurança das Nações Unidas, o ministro alemão do Exterior, Heiko Maas, conclamou a comunidade mundial a agir de forma mais decidida contra todas as formas de violência sexual no contexto de conflitos de guerra. \"Estupro, prostituição forçada e escravidão sexual continuam sendo empregados como armas em conflitos por todo o mundo\", frisou o chefe de diplomacia.\n",
      "\n",
      "407\n"
     ]
    }
   ],
   "source": [
    "i=150\n",
    "print(data.iloc[i]['name'])\n",
    "print('')\n",
    "print(data.iloc[i].full_text)\n",
    "print('')\n",
    "print(data.iloc[i].new_full_text)\n",
    "print('')\n",
    "print(len(data.iloc[i].new_full_text))"
   ]
  },
  {
   "cell_type": "markdown",
   "id": "63dc21ec-2657-4398-8f4f-6dfd8948233e",
   "metadata": {},
   "source": [
    "Drop and rename columns"
   ]
  },
  {
   "cell_type": "code",
   "execution_count": 54,
   "id": "5fa42aae-f017-4c57-985f-91f59ecdae01",
   "metadata": {},
   "outputs": [],
   "source": [
    "data = data.drop(columns=['input', 'full_text'])\n",
    "data = data.rename(columns={\"new_full_text\": \"full_text\"})"
   ]
  },
  {
   "cell_type": "code",
   "execution_count": 55,
   "id": "bd6658d3-9b39-4adf-a10e-b187bb7e1b62",
   "metadata": {},
   "outputs": [
    {
     "data": {
      "text/html": [
       "<div>\n",
       "<style scoped>\n",
       "    .dataframe tbody tr th:only-of-type {\n",
       "        vertical-align: middle;\n",
       "    }\n",
       "\n",
       "    .dataframe tbody tr th {\n",
       "        vertical-align: top;\n",
       "    }\n",
       "\n",
       "    .dataframe thead th {\n",
       "        text-align: right;\n",
       "    }\n",
       "</style>\n",
       "<table border=\"1\" class=\"dataframe\">\n",
       "  <thead>\n",
       "    <tr style=\"text-align: right;\">\n",
       "      <th></th>\n",
       "      <th>id</th>\n",
       "      <th>name</th>\n",
       "      <th>label</th>\n",
       "      <th>full_text</th>\n",
       "    </tr>\n",
       "  </thead>\n",
       "  <tbody>\n",
       "    <tr>\n",
       "      <th>0</th>\n",
       "      <td>54153414</td>\n",
       "      <td>Andrzej Duda</td>\n",
       "      <td>1.0</td>\n",
       "      <td>A comissão eleitoral da Polônia anunciou nes...</td>\n",
       "    </tr>\n",
       "    <tr>\n",
       "      <th>1</th>\n",
       "      <td>55253572</td>\n",
       "      <td>Erich Honecker</td>\n",
       "      <td>1.0</td>\n",
       "      <td>Natural e casual, elegantemente trajando ócul...</td>\n",
       "    </tr>\n",
       "    <tr>\n",
       "      <th>2</th>\n",
       "      <td>58168985</td>\n",
       "      <td>Chris Whitty</td>\n",
       "      <td>0.0</td>\n",
       "      <td>Questionados sobre isso durante a coletiva de ...</td>\n",
       "    </tr>\n",
       "    <tr>\n",
       "      <th>3</th>\n",
       "      <td>53821497</td>\n",
       "      <td>Luiz Henrique Mandetta</td>\n",
       "      <td>1.0</td>\n",
       "      <td>Discórdias sobre o uso do medicamento teriam ...</td>\n",
       "    </tr>\n",
       "    <tr>\n",
       "      <th>4</th>\n",
       "      <td>57170897</td>\n",
       "      <td>Angela Merkel</td>\n",
       "      <td>0.0</td>\n",
       "      <td>Em setembro, a Alemanha realiza eleições ger...</td>\n",
       "    </tr>\n",
       "  </tbody>\n",
       "</table>\n",
       "</div>"
      ],
      "text/plain": [
       "         id                    name  label  \\\n",
       "0  54153414            Andrzej Duda    1.0   \n",
       "1  55253572          Erich Honecker    1.0   \n",
       "2  58168985            Chris Whitty    0.0   \n",
       "3  53821497  Luiz Henrique Mandetta    1.0   \n",
       "4  57170897           Angela Merkel    0.0   \n",
       "\n",
       "                                           full_text  \n",
       "0  A comissão eleitoral da Polônia anunciou nes...  \n",
       "1  Natural e casual, elegantemente trajando ócul...  \n",
       "2  Questionados sobre isso durante a coletiva de ...  \n",
       "3  Discórdias sobre o uso do medicamento teriam ...  \n",
       "4  Em setembro, a Alemanha realiza eleições ger...  "
      ]
     },
     "execution_count": 55,
     "metadata": {},
     "output_type": "execute_result"
    }
   ],
   "source": [
    "data.head()"
   ]
  },
  {
   "cell_type": "markdown",
   "id": "0add5672-332e-44f1-9da7-728bfb8aed7c",
   "metadata": {},
   "source": [
    "Create, once again, the input"
   ]
  },
  {
   "cell_type": "code",
   "execution_count": 56,
   "id": "30aeeee2-39fe-483b-a460-e622c5689dd7",
   "metadata": {},
   "outputs": [],
   "source": [
    "data['input'] = 'TEXT1: ' + data['name'] + '; TEXT2: ' + data['full_text']"
   ]
  },
  {
   "cell_type": "code",
   "execution_count": 57,
   "id": "f4b43339-17c1-414a-98e3-8de81a25c37b",
   "metadata": {},
   "outputs": [
    {
     "data": {
      "text/html": [
       "<div>\n",
       "<style scoped>\n",
       "    .dataframe tbody tr th:only-of-type {\n",
       "        vertical-align: middle;\n",
       "    }\n",
       "\n",
       "    .dataframe tbody tr th {\n",
       "        vertical-align: top;\n",
       "    }\n",
       "\n",
       "    .dataframe thead th {\n",
       "        text-align: right;\n",
       "    }\n",
       "</style>\n",
       "<table border=\"1\" class=\"dataframe\">\n",
       "  <thead>\n",
       "    <tr style=\"text-align: right;\">\n",
       "      <th></th>\n",
       "      <th>id</th>\n",
       "      <th>name</th>\n",
       "      <th>label</th>\n",
       "      <th>full_text</th>\n",
       "      <th>input</th>\n",
       "    </tr>\n",
       "  </thead>\n",
       "  <tbody>\n",
       "    <tr>\n",
       "      <th>0</th>\n",
       "      <td>54153414</td>\n",
       "      <td>Andrzej Duda</td>\n",
       "      <td>1.0</td>\n",
       "      <td>A comissão eleitoral da Polônia anunciou nes...</td>\n",
       "      <td>TEXT1: Andrzej Duda; TEXT2: A comissão eleito...</td>\n",
       "    </tr>\n",
       "    <tr>\n",
       "      <th>1</th>\n",
       "      <td>55253572</td>\n",
       "      <td>Erich Honecker</td>\n",
       "      <td>1.0</td>\n",
       "      <td>Natural e casual, elegantemente trajando ócul...</td>\n",
       "      <td>TEXT1: Erich Honecker; TEXT2: Natural e casual...</td>\n",
       "    </tr>\n",
       "    <tr>\n",
       "      <th>2</th>\n",
       "      <td>58168985</td>\n",
       "      <td>Chris Whitty</td>\n",
       "      <td>0.0</td>\n",
       "      <td>Questionados sobre isso durante a coletiva de ...</td>\n",
       "      <td>TEXT1: Chris Whitty; TEXT2: Questionados sobre...</td>\n",
       "    </tr>\n",
       "    <tr>\n",
       "      <th>3</th>\n",
       "      <td>53821497</td>\n",
       "      <td>Luiz Henrique Mandetta</td>\n",
       "      <td>1.0</td>\n",
       "      <td>Discórdias sobre o uso do medicamento teriam ...</td>\n",
       "      <td>TEXT1: Luiz Henrique Mandetta; TEXT2: Discórd...</td>\n",
       "    </tr>\n",
       "    <tr>\n",
       "      <th>4</th>\n",
       "      <td>57170897</td>\n",
       "      <td>Angela Merkel</td>\n",
       "      <td>0.0</td>\n",
       "      <td>Em setembro, a Alemanha realiza eleições ger...</td>\n",
       "      <td>TEXT1: Angela Merkel; TEXT2: Em setembro, a Al...</td>\n",
       "    </tr>\n",
       "  </tbody>\n",
       "</table>\n",
       "</div>"
      ],
      "text/plain": [
       "         id                    name  label  \\\n",
       "0  54153414            Andrzej Duda    1.0   \n",
       "1  55253572          Erich Honecker    1.0   \n",
       "2  58168985            Chris Whitty    0.0   \n",
       "3  53821497  Luiz Henrique Mandetta    1.0   \n",
       "4  57170897           Angela Merkel    0.0   \n",
       "\n",
       "                                           full_text  \\\n",
       "0  A comissão eleitoral da Polônia anunciou nes...   \n",
       "1  Natural e casual, elegantemente trajando ócul...   \n",
       "2  Questionados sobre isso durante a coletiva de ...   \n",
       "3  Discórdias sobre o uso do medicamento teriam ...   \n",
       "4  Em setembro, a Alemanha realiza eleições ger...   \n",
       "\n",
       "                                               input  \n",
       "0  TEXT1: Andrzej Duda; TEXT2: A comissão eleito...  \n",
       "1  TEXT1: Erich Honecker; TEXT2: Natural e casual...  \n",
       "2  TEXT1: Chris Whitty; TEXT2: Questionados sobre...  \n",
       "3  TEXT1: Luiz Henrique Mandetta; TEXT2: Discórd...  \n",
       "4  TEXT1: Angela Merkel; TEXT2: Em setembro, a Al...  "
      ]
     },
     "execution_count": 57,
     "metadata": {},
     "output_type": "execute_result"
    }
   ],
   "source": [
    "data.head()"
   ]
  },
  {
   "cell_type": "markdown",
   "id": "041df8ee-3710-41b4-9c57-097d94aed5ba",
   "metadata": {},
   "source": [
    "Check"
   ]
  },
  {
   "cell_type": "code",
   "execution_count": 58,
   "id": "3a8497e4-d40b-4d5d-9fae-24c611ab1269",
   "metadata": {},
   "outputs": [
    {
     "name": "stdout",
     "output_type": "stream",
     "text": [
      "Winfried Kretschmann\n",
      "\n",
      "Segundo o governador Winfried Kretschmann, o tráfego de fronteira com áreas de risco do coronavírus será severamente controlado. Quem trabalha nos países vizinhos poderá atravessar a fronteira para esse fim, mas ficam vedadas as compras internacionais. O político advertiu que muitos deixam de obedecer os regulamentos, e que para desacelerar o avanço dos contágios com o coronavírus, cada dia conta.\n",
      "\n",
      "410\n",
      "\n",
      "TEXT1: Winfried Kretschmann; TEXT2: Segundo o governador Winfried Kretschmann, o tráfego de fronteira com áreas de risco do coronavírus será severamente controlado. Quem trabalha nos países vizinhos poderá atravessar a fronteira para esse fim, mas ficam vedadas as compras internacionais. O político advertiu que muitos deixam de obedecer os regulamentos, e que para desacelerar o avanço dos contágios com o coronavírus, cada dia conta.\n",
      "\n",
      "446\n"
     ]
    }
   ],
   "source": [
    "i=100\n",
    "print(data.iloc[i]['name'])\n",
    "print('')\n",
    "print(data.iloc[i].full_text)\n",
    "print('')\n",
    "print(len(data.iloc[i].full_text))\n",
    "print('')\n",
    "print(data.iloc[i].input)\n",
    "print('')\n",
    "print(len(data.iloc[i].input))"
   ]
  },
  {
   "cell_type": "markdown",
   "id": "2024db36-599c-4d9c-b010-74a611c12f5d",
   "metadata": {},
   "source": [
    "## Test set"
   ]
  },
  {
   "cell_type": "code",
   "execution_count": 59,
   "id": "86e4ee2e-a93b-4383-b5ed-05108de71c87",
   "metadata": {},
   "outputs": [],
   "source": [
    "new_full_text = []\n",
    "for row in test_data.itertuples():\n",
    "    name = row.name\n",
    "    full_text = row.full_text\n",
    "    \n",
    "    # Split full text into sentences\n",
    "    sentences = full_text.split('. ')\n",
    "    for i in range(len(sentences)-1):\n",
    "        sentences[i] = sentences[i]+'.' # Add dot that was removed when splitting\n",
    "\n",
    "    # Find name occurrences\n",
    "    name_occurrences = []\n",
    "    for i in range(len(sentences)):\n",
    "        if name in sentences[i]:\n",
    "            name_occurrences.append(i)\n",
    "    \n",
    "    # First ocurrence\n",
    "    name_occurrence = np.min(name_occurrences)\n",
    "    \n",
    "    # Append sentences one by one until it gets too large\n",
    "    max_num_of_characters = 420\n",
    "    max_num_of_sentences_to_append = 7\n",
    "    new_sentence = sentences[name_occurrence]\n",
    "    for i in range(2,max_num_of_sentences_to_append+2):\n",
    "        _new_sentence = ' '.join(sentences[name_occurrence:name_occurrence+i])\n",
    "        if len(_new_sentence) <= max_num_of_characters:\n",
    "            new_sentence = _new_sentence\n",
    "            \n",
    "    # Collect new input\n",
    "    new_full_text.append(new_sentence)"
   ]
  },
  {
   "cell_type": "code",
   "execution_count": 60,
   "id": "6ff5bed6-5d8f-4aeb-b986-dc3c05b6ea74",
   "metadata": {},
   "outputs": [],
   "source": [
    "test_data['new_full_text'] = new_full_text"
   ]
  },
  {
   "cell_type": "code",
   "execution_count": 61,
   "id": "082814ff-0d72-4dd7-915d-eed03f3910f0",
   "metadata": {},
   "outputs": [
    {
     "data": {
      "text/html": [
       "<div>\n",
       "<style scoped>\n",
       "    .dataframe tbody tr th:only-of-type {\n",
       "        vertical-align: middle;\n",
       "    }\n",
       "\n",
       "    .dataframe tbody tr th {\n",
       "        vertical-align: top;\n",
       "    }\n",
       "\n",
       "    .dataframe thead th {\n",
       "        text-align: right;\n",
       "    }\n",
       "</style>\n",
       "<table border=\"1\" class=\"dataframe\">\n",
       "  <thead>\n",
       "    <tr style=\"text-align: right;\">\n",
       "      <th></th>\n",
       "      <th>id</th>\n",
       "      <th>name</th>\n",
       "      <th>full_text</th>\n",
       "      <th>label</th>\n",
       "      <th>input</th>\n",
       "      <th>new_full_text</th>\n",
       "    </tr>\n",
       "  </thead>\n",
       "  <tbody>\n",
       "    <tr>\n",
       "      <th>0</th>\n",
       "      <td>54523862</td>\n",
       "      <td>Svetlana Tikhanovskaya</td>\n",
       "      <td>O ministro das Relações Exteriores da Lituâ...</td>\n",
       "      <td>0.0</td>\n",
       "      <td>TEXT1: Svetlana Tikhanovskaya; TEXT2: O minist...</td>\n",
       "      <td>O ministro das Relações Exteriores da Lituâ...</td>\n",
       "    </tr>\n",
       "    <tr>\n",
       "      <th>1</th>\n",
       "      <td>58283114</td>\n",
       "      <td>Cristiano Carvalho</td>\n",
       "      <td>O representante da Davati Medical Supply, Cris...</td>\n",
       "      <td>0.0</td>\n",
       "      <td>TEXT1: Cristiano Carvalho; TEXT2: O representa...</td>\n",
       "      <td>O representante da Davati Medical Supply, Cris...</td>\n",
       "    </tr>\n",
       "    <tr>\n",
       "      <th>2</th>\n",
       "      <td>60084542</td>\n",
       "      <td>Joe Biden</td>\n",
       "      <td>A partir deste sábado (11/12), brasileiros qu...</td>\n",
       "      <td>1.0</td>\n",
       "      <td>TEXT1: Joe Biden; TEXT2: A partir deste sábad...</td>\n",
       "      <td>Isso tem a ver com a crise social decorrente d...</td>\n",
       "    </tr>\n",
       "    <tr>\n",
       "      <th>3</th>\n",
       "      <td>62366291</td>\n",
       "      <td>Ann Linde</td>\n",
       "      <td>Embaixadores dos 30 países-membros da Otan as...</td>\n",
       "      <td>0.0</td>\n",
       "      <td>TEXT1: Ann Linde; TEXT2: Embaixadores dos 30 p...</td>\n",
       "      <td>\"Estamos tremendamente gratos por todo o forte...</td>\n",
       "    </tr>\n",
       "    <tr>\n",
       "      <th>4</th>\n",
       "      <td>52292779</td>\n",
       "      <td>Elizabeth Warren</td>\n",
       "      <td>A confusa primária democrata em Iowa lançou ...</td>\n",
       "      <td>0.0</td>\n",
       "      <td>TEXT1: Elizabeth Warren; TEXT2: A confusa prim...</td>\n",
       "      <td>Uma explicação para o sucesso de Buttigieg p...</td>\n",
       "    </tr>\n",
       "  </tbody>\n",
       "</table>\n",
       "</div>"
      ],
      "text/plain": [
       "         id                    name  \\\n",
       "0  54523862  Svetlana Tikhanovskaya   \n",
       "1  58283114      Cristiano Carvalho   \n",
       "2  60084542               Joe Biden   \n",
       "3  62366291               Ann Linde   \n",
       "4  52292779        Elizabeth Warren   \n",
       "\n",
       "                                           full_text  label  \\\n",
       "0  O ministro das Relações Exteriores da Lituâ...    0.0   \n",
       "1  O representante da Davati Medical Supply, Cris...    0.0   \n",
       "2  A partir deste sábado (11/12), brasileiros qu...    1.0   \n",
       "3  Embaixadores dos 30 países-membros da Otan as...    0.0   \n",
       "4  A confusa primária democrata em Iowa lançou ...    0.0   \n",
       "\n",
       "                                               input  \\\n",
       "0  TEXT1: Svetlana Tikhanovskaya; TEXT2: O minist...   \n",
       "1  TEXT1: Cristiano Carvalho; TEXT2: O representa...   \n",
       "2  TEXT1: Joe Biden; TEXT2: A partir deste sábad...   \n",
       "3  TEXT1: Ann Linde; TEXT2: Embaixadores dos 30 p...   \n",
       "4  TEXT1: Elizabeth Warren; TEXT2: A confusa prim...   \n",
       "\n",
       "                                       new_full_text  \n",
       "0  O ministro das Relações Exteriores da Lituâ...  \n",
       "1  O representante da Davati Medical Supply, Cris...  \n",
       "2  Isso tem a ver com a crise social decorrente d...  \n",
       "3  \"Estamos tremendamente gratos por todo o forte...  \n",
       "4  Uma explicação para o sucesso de Buttigieg p...  "
      ]
     },
     "execution_count": 61,
     "metadata": {},
     "output_type": "execute_result"
    }
   ],
   "source": [
    "test_data.head()"
   ]
  },
  {
   "cell_type": "markdown",
   "id": "e1c82c20-2daf-40ad-9461-5c1c5ce0f5cb",
   "metadata": {},
   "source": [
    "Check"
   ]
  },
  {
   "cell_type": "code",
   "execution_count": 62,
   "id": "8fa110f5-a1cb-42fa-ba48-dfd949d00c09",
   "metadata": {},
   "outputs": [
    {
     "name": "stdout",
     "output_type": "stream",
     "text": [
      "Mario Draghi\n",
      "\n",
      "O governo da Ucrânia descartou nesta segunda-feira (21/03) depor as armas em Mariupol, rejeitando um ultimato feito pela Rússia, que em troca se comprometia com a abertura de uma passagem segura para que soldados e civis deixassem a cidade portuária, localizada no sudeste ucraniano. No domingo, a Rússia havia dado prazo até esta segunda-feira para que as forças ucranianas abandonassem Mariupol, sitiada há semanas e em grande parte já destruída. Em troca, as forças russas autorizariam dois corredores humanitários para saída da cidade. No entanto, a vice-primeira-ministra da Ucrânia, Irina Vereshuchuk, recusou a rendição. \"Não se pode falar em rendição, deposição de armas. Já informamos o lado russo sobre isto\", afirmou, em declarações ao veículo ucraniano Ukrainska Pravda, citadas pela agência de notícias Associated Press. \"Eu escrevi: em vez de perderem tempo em oito páginas de cartas, abram o corredor\", ressaltou. A cidade sitiada de Mariupol, que tem sido uma das mais castigadas por bombardeiosdesde o início da invasão russa, está enfrentando falta de energia e escassez de alimentos e água. Relatos provenientes da localidade apontam extrema violência e destruição, com cadáveres espalhados pelas ruas. Num comunicado divulgado nesta segunda-feira, a organização não governamental Human Rights Watch (HRW) lembrou que as autoridades locais estimam em 3 mil o número de mortos na cidade, que teria 80% dos edifícios destruídos. As cifras não foram verificadas de forma independente. \"Residentes que escaparam [de Mariupol] disseram que hospitais, escolas, lojas e inúmeras casas foram danificadas ou destruídas por bombardeios. Muitos disseram que os seus familiares e vizinhos sofreram ferimentos sérios ou fatais, de fragmentos de explosivos\", diz o texto da HRW, que recorda os ataques russos a hospitais e a um teatro que servia de refúgio a centenas de pessoas. A organização realçou que populações civis devem poder ter acesso a assistência humanitária e ser retiradas de forma segura. \"A Rússia está proibida de obrigar civis, de forma individual ou em massa, a viajar para cidades russas ou para países como Belarus.\" As autoridades ucranianas denunciaram no domingo que milhares de pessoas teriam sido levadas à força de Mariupol para cidades russas, onde receberiam status de \"refugiados\" e seriam indicadas para postos de trabalho. A HRW sublinhou que o Tribunal Penal Internacional, a comissão de inquérito do Conselho de Direitos Humanos das Nações Unidas e outras jurisdições relevantes \"devem investigar potenciais crimes de guerra em Mariupol, com vista a processar os mais responsáveis\". Segundo as Nações Unidas, cerca de 13 milhões de pessoas necessitam de assistência humanitária na Ucrânia. “O que ocorre em Mariupol é um crime de guerra maciço\", disse nesta segunda-feira o chefe de política externa da União Europeia (UE), Josep Borrell, à margem de uma reunião de ministros do Exterior em Bruxelas. Pelo menos oito pessoas morreram durante bombardeio em Kiev na madrugada desta segunda-feira a prédios residenciais e a um moderno centro comercial na região noroeste da cidade, que ficou em ruínas. Em fotos, é possível ver um prédio de apartamentos vizinho, que permaneceu em pé como um esqueleto de concreto, com as janelas estilhaçadas. De acordo com o Ministério da Defesa em Moscou mais de 80 combatentes do lado ucraniano teriam sido mortos durante ataque de míssil a um campo de treinamento militar em Nova Liubomirka, na região de Rivne, no noroeste da Ucrânia. A informação não havia sido confirmada pelo lado ucraniano até a manhã desta segunda-feira (horário local). O governo da Rússia afirmou que ainda não há condições para uma reunião entre os presidentes dos dois países. \"Eles simplesmente não têm nada de concreto, nada de acordos que possam cumprir\", afirmou nesta segunda-feira o porta-voz do Kremlin, Dmitry Peskov, de acordo com a agência de notícias Interfax. O presidente ucraniano, Volodimir Zelenski, citou uma reunião com seu homólogo russo, Vladimir Putin, como alvo das atuais negociações. Peskov também disse que não haverá cessar-fogo nesta segunda-feira, durante a próxima rodada dessas negociações. O presidente dos EUA, Joe Biden, anunciou que viajará para a Polônia no final desta semana. Ele vai a Bruxelas primeiro, como previsto, nesta quinta-feira, onde participa de encontros com líderes da Otan, da UE e do G7. Na sexta-feira, segue para Varsóvia. No sábado, ele tem agendada uma reunião com o presidente polonês, Andrzej Duda. Entre os assuntos da visita à Polônia está a crise humanitária provocada pela guerra na Ucrânia. Segundo o governo polonês, mais de 2 milhões de refugiados já entraram na Polônia vindos da Ucrânia desde o começo da invasão russa. Nesta segunda-feira, Biden tem marcada uma reunião por videoconferência com o chanceler federal alemão, Olaf Scholz, o presidente da França, Emmanuel Macron, o primeiro-ministro italiano, Mario Draghi, e o primeiro-ministro britânico, Boris Johnson. O tema deve ser a resposta coordenada à Rússia.\n",
      "\n",
      "Nesta segunda-feira, Biden tem marcada uma reunião por videoconferência com o chanceler federal alemão, Olaf Scholz, o presidente da França, Emmanuel Macron, o primeiro-ministro italiano, Mario Draghi, e o primeiro-ministro britânico, Boris Johnson. O tema deve ser a resposta coordenada à Rússia.\n",
      "\n",
      "304\n"
     ]
    }
   ],
   "source": [
    "i=150\n",
    "print(test_data.iloc[i]['name'])\n",
    "print('')\n",
    "print(test_data.iloc[i].full_text)\n",
    "print('')\n",
    "print(test_data.iloc[i].new_full_text)\n",
    "print('')\n",
    "print(len(test_data.iloc[i].new_full_text))"
   ]
  },
  {
   "cell_type": "markdown",
   "id": "cc5d82e4-b2ac-4f31-8f9f-1c3ec5c4aad6",
   "metadata": {},
   "source": [
    "Drop and rename columns"
   ]
  },
  {
   "cell_type": "code",
   "execution_count": 65,
   "id": "2d66d950-e746-48f6-9049-1732625da82a",
   "metadata": {},
   "outputs": [],
   "source": [
    "test_data = test_data.drop(columns=['input', 'full_text'])\n",
    "test_data = test_data.rename(columns={\"new_full_text\": \"full_text\"})"
   ]
  },
  {
   "cell_type": "code",
   "execution_count": 66,
   "id": "641caf8d-3a1b-4f94-a708-a18e32a9e5ea",
   "metadata": {},
   "outputs": [
    {
     "data": {
      "text/html": [
       "<div>\n",
       "<style scoped>\n",
       "    .dataframe tbody tr th:only-of-type {\n",
       "        vertical-align: middle;\n",
       "    }\n",
       "\n",
       "    .dataframe tbody tr th {\n",
       "        vertical-align: top;\n",
       "    }\n",
       "\n",
       "    .dataframe thead th {\n",
       "        text-align: right;\n",
       "    }\n",
       "</style>\n",
       "<table border=\"1\" class=\"dataframe\">\n",
       "  <thead>\n",
       "    <tr style=\"text-align: right;\">\n",
       "      <th></th>\n",
       "      <th>id</th>\n",
       "      <th>name</th>\n",
       "      <th>label</th>\n",
       "      <th>full_text</th>\n",
       "    </tr>\n",
       "  </thead>\n",
       "  <tbody>\n",
       "    <tr>\n",
       "      <th>0</th>\n",
       "      <td>54523862</td>\n",
       "      <td>Svetlana Tikhanovskaya</td>\n",
       "      <td>0.0</td>\n",
       "      <td>O ministro das Relações Exteriores da Lituâ...</td>\n",
       "    </tr>\n",
       "    <tr>\n",
       "      <th>1</th>\n",
       "      <td>58283114</td>\n",
       "      <td>Cristiano Carvalho</td>\n",
       "      <td>0.0</td>\n",
       "      <td>O representante da Davati Medical Supply, Cris...</td>\n",
       "    </tr>\n",
       "    <tr>\n",
       "      <th>2</th>\n",
       "      <td>60084542</td>\n",
       "      <td>Joe Biden</td>\n",
       "      <td>1.0</td>\n",
       "      <td>Isso tem a ver com a crise social decorrente d...</td>\n",
       "    </tr>\n",
       "    <tr>\n",
       "      <th>3</th>\n",
       "      <td>62366291</td>\n",
       "      <td>Ann Linde</td>\n",
       "      <td>0.0</td>\n",
       "      <td>\"Estamos tremendamente gratos por todo o forte...</td>\n",
       "    </tr>\n",
       "    <tr>\n",
       "      <th>4</th>\n",
       "      <td>52292779</td>\n",
       "      <td>Elizabeth Warren</td>\n",
       "      <td>0.0</td>\n",
       "      <td>Uma explicação para o sucesso de Buttigieg p...</td>\n",
       "    </tr>\n",
       "  </tbody>\n",
       "</table>\n",
       "</div>"
      ],
      "text/plain": [
       "         id                    name  label  \\\n",
       "0  54523862  Svetlana Tikhanovskaya    0.0   \n",
       "1  58283114      Cristiano Carvalho    0.0   \n",
       "2  60084542               Joe Biden    1.0   \n",
       "3  62366291               Ann Linde    0.0   \n",
       "4  52292779        Elizabeth Warren    0.0   \n",
       "\n",
       "                                           full_text  \n",
       "0  O ministro das Relações Exteriores da Lituâ...  \n",
       "1  O representante da Davati Medical Supply, Cris...  \n",
       "2  Isso tem a ver com a crise social decorrente d...  \n",
       "3  \"Estamos tremendamente gratos por todo o forte...  \n",
       "4  Uma explicação para o sucesso de Buttigieg p...  "
      ]
     },
     "execution_count": 66,
     "metadata": {},
     "output_type": "execute_result"
    }
   ],
   "source": [
    "test_data.head()"
   ]
  },
  {
   "cell_type": "markdown",
   "id": "96111f7c-e401-4446-b3d6-8ec3c976e3de",
   "metadata": {},
   "source": [
    "Create, once again, the input"
   ]
  },
  {
   "cell_type": "code",
   "execution_count": 67,
   "id": "b3b128df-2751-4346-bf84-9e7fcd4e3353",
   "metadata": {},
   "outputs": [],
   "source": [
    "test_data['input'] = 'TEXT1: ' + test_data['name'] + '; TEXT2: ' + test_data['full_text']"
   ]
  },
  {
   "cell_type": "code",
   "execution_count": 68,
   "id": "d01ca2e4-b575-4537-9370-9e106bf36c9a",
   "metadata": {},
   "outputs": [
    {
     "data": {
      "text/html": [
       "<div>\n",
       "<style scoped>\n",
       "    .dataframe tbody tr th:only-of-type {\n",
       "        vertical-align: middle;\n",
       "    }\n",
       "\n",
       "    .dataframe tbody tr th {\n",
       "        vertical-align: top;\n",
       "    }\n",
       "\n",
       "    .dataframe thead th {\n",
       "        text-align: right;\n",
       "    }\n",
       "</style>\n",
       "<table border=\"1\" class=\"dataframe\">\n",
       "  <thead>\n",
       "    <tr style=\"text-align: right;\">\n",
       "      <th></th>\n",
       "      <th>id</th>\n",
       "      <th>name</th>\n",
       "      <th>label</th>\n",
       "      <th>full_text</th>\n",
       "      <th>input</th>\n",
       "    </tr>\n",
       "  </thead>\n",
       "  <tbody>\n",
       "    <tr>\n",
       "      <th>0</th>\n",
       "      <td>54523862</td>\n",
       "      <td>Svetlana Tikhanovskaya</td>\n",
       "      <td>0.0</td>\n",
       "      <td>O ministro das Relações Exteriores da Lituâ...</td>\n",
       "      <td>TEXT1: Svetlana Tikhanovskaya; TEXT2: O minist...</td>\n",
       "    </tr>\n",
       "    <tr>\n",
       "      <th>1</th>\n",
       "      <td>58283114</td>\n",
       "      <td>Cristiano Carvalho</td>\n",
       "      <td>0.0</td>\n",
       "      <td>O representante da Davati Medical Supply, Cris...</td>\n",
       "      <td>TEXT1: Cristiano Carvalho; TEXT2: O representa...</td>\n",
       "    </tr>\n",
       "    <tr>\n",
       "      <th>2</th>\n",
       "      <td>60084542</td>\n",
       "      <td>Joe Biden</td>\n",
       "      <td>1.0</td>\n",
       "      <td>Isso tem a ver com a crise social decorrente d...</td>\n",
       "      <td>TEXT1: Joe Biden; TEXT2: Isso tem a ver com a ...</td>\n",
       "    </tr>\n",
       "    <tr>\n",
       "      <th>3</th>\n",
       "      <td>62366291</td>\n",
       "      <td>Ann Linde</td>\n",
       "      <td>0.0</td>\n",
       "      <td>\"Estamos tremendamente gratos por todo o forte...</td>\n",
       "      <td>TEXT1: Ann Linde; TEXT2: \"Estamos tremendament...</td>\n",
       "    </tr>\n",
       "    <tr>\n",
       "      <th>4</th>\n",
       "      <td>52292779</td>\n",
       "      <td>Elizabeth Warren</td>\n",
       "      <td>0.0</td>\n",
       "      <td>Uma explicação para o sucesso de Buttigieg p...</td>\n",
       "      <td>TEXT1: Elizabeth Warren; TEXT2: Uma explicaça...</td>\n",
       "    </tr>\n",
       "  </tbody>\n",
       "</table>\n",
       "</div>"
      ],
      "text/plain": [
       "         id                    name  label  \\\n",
       "0  54523862  Svetlana Tikhanovskaya    0.0   \n",
       "1  58283114      Cristiano Carvalho    0.0   \n",
       "2  60084542               Joe Biden    1.0   \n",
       "3  62366291               Ann Linde    0.0   \n",
       "4  52292779        Elizabeth Warren    0.0   \n",
       "\n",
       "                                           full_text  \\\n",
       "0  O ministro das Relações Exteriores da Lituâ...   \n",
       "1  O representante da Davati Medical Supply, Cris...   \n",
       "2  Isso tem a ver com a crise social decorrente d...   \n",
       "3  \"Estamos tremendamente gratos por todo o forte...   \n",
       "4  Uma explicação para o sucesso de Buttigieg p...   \n",
       "\n",
       "                                               input  \n",
       "0  TEXT1: Svetlana Tikhanovskaya; TEXT2: O minist...  \n",
       "1  TEXT1: Cristiano Carvalho; TEXT2: O representa...  \n",
       "2  TEXT1: Joe Biden; TEXT2: Isso tem a ver com a ...  \n",
       "3  TEXT1: Ann Linde; TEXT2: \"Estamos tremendament...  \n",
       "4  TEXT1: Elizabeth Warren; TEXT2: Uma explicaça...  "
      ]
     },
     "execution_count": 68,
     "metadata": {},
     "output_type": "execute_result"
    }
   ],
   "source": [
    "test_data.head()"
   ]
  },
  {
   "cell_type": "markdown",
   "id": "d1e5fa7b-e18b-4d8e-919a-f60eff6f1ab7",
   "metadata": {},
   "source": [
    "Check"
   ]
  },
  {
   "cell_type": "code",
   "execution_count": 69,
   "id": "15879671-9875-4b66-a408-f48e6b755722",
   "metadata": {},
   "outputs": [
    {
     "name": "stdout",
     "output_type": "stream",
     "text": [
      "Justin Trudeau\n",
      "\n",
      "O primeiro-ministro canadense, Justin Trudeau, havia conversado com Biden e outras autoridades americanas para defender o oleoduto nos últimos dias e semanas. Aparentemente sem sucesso. \"Isso torna as coisas um pouco mais desconfortáveis para Trudeau num contexto doméstico\", afirma Ryan Katz-Rosene, professor de política na Universidade de Ottawa, à agência de notícias AFP.\n",
      "\n",
      "383\n",
      "\n",
      "TEXT1: Justin Trudeau; TEXT2: O primeiro-ministro canadense, Justin Trudeau, havia conversado com Biden e outras autoridades americanas para defender o oleoduto nos últimos dias e semanas. Aparentemente sem sucesso. \"Isso torna as coisas um pouco mais desconfortáveis para Trudeau num contexto doméstico\", afirma Ryan Katz-Rosene, professor de política na Universidade de Ottawa, à agência de notícias AFP.\n",
      "\n",
      "413\n"
     ]
    }
   ],
   "source": [
    "i=100\n",
    "print(test_data.iloc[i]['name'])\n",
    "print('')\n",
    "print(test_data.iloc[i].full_text)\n",
    "print('')\n",
    "print(len(test_data.iloc[i].full_text))\n",
    "print('')\n",
    "print(test_data.iloc[i].input)\n",
    "print('')\n",
    "print(len(test_data.iloc[i].input))"
   ]
  },
  {
   "cell_type": "markdown",
   "id": "883e7d7e-e8c2-4b6b-99cd-b524924f1cfc",
   "metadata": {
    "tags": []
   },
   "source": [
    "# Format the dataset"
   ]
  },
  {
   "cell_type": "markdown",
   "id": "25e0732d-32fc-4a02-a520-5950905673c0",
   "metadata": {},
   "source": [
    "Training data"
   ]
  },
  {
   "cell_type": "code",
   "execution_count": 70,
   "id": "094abbc5-43d8-410c-883e-fbc0776a8091",
   "metadata": {},
   "outputs": [],
   "source": [
    "data = data[['label','input']]"
   ]
  },
  {
   "cell_type": "code",
   "execution_count": 71,
   "id": "bd3895a3-cc64-4826-b9ad-b1484939cc22",
   "metadata": {},
   "outputs": [
    {
     "data": {
      "text/html": [
       "<div>\n",
       "<style scoped>\n",
       "    .dataframe tbody tr th:only-of-type {\n",
       "        vertical-align: middle;\n",
       "    }\n",
       "\n",
       "    .dataframe tbody tr th {\n",
       "        vertical-align: top;\n",
       "    }\n",
       "\n",
       "    .dataframe thead th {\n",
       "        text-align: right;\n",
       "    }\n",
       "</style>\n",
       "<table border=\"1\" class=\"dataframe\">\n",
       "  <thead>\n",
       "    <tr style=\"text-align: right;\">\n",
       "      <th></th>\n",
       "      <th>label</th>\n",
       "      <th>input</th>\n",
       "    </tr>\n",
       "  </thead>\n",
       "  <tbody>\n",
       "    <tr>\n",
       "      <th>0</th>\n",
       "      <td>1.0</td>\n",
       "      <td>TEXT1: Andrzej Duda; TEXT2: A comissão eleito...</td>\n",
       "    </tr>\n",
       "    <tr>\n",
       "      <th>1</th>\n",
       "      <td>1.0</td>\n",
       "      <td>TEXT1: Erich Honecker; TEXT2: Natural e casual...</td>\n",
       "    </tr>\n",
       "    <tr>\n",
       "      <th>2</th>\n",
       "      <td>0.0</td>\n",
       "      <td>TEXT1: Chris Whitty; TEXT2: Questionados sobre...</td>\n",
       "    </tr>\n",
       "    <tr>\n",
       "      <th>3</th>\n",
       "      <td>1.0</td>\n",
       "      <td>TEXT1: Luiz Henrique Mandetta; TEXT2: Discórd...</td>\n",
       "    </tr>\n",
       "    <tr>\n",
       "      <th>4</th>\n",
       "      <td>0.0</td>\n",
       "      <td>TEXT1: Angela Merkel; TEXT2: Em setembro, a Al...</td>\n",
       "    </tr>\n",
       "  </tbody>\n",
       "</table>\n",
       "</div>"
      ],
      "text/plain": [
       "   label                                              input\n",
       "0    1.0  TEXT1: Andrzej Duda; TEXT2: A comissão eleito...\n",
       "1    1.0  TEXT1: Erich Honecker; TEXT2: Natural e casual...\n",
       "2    0.0  TEXT1: Chris Whitty; TEXT2: Questionados sobre...\n",
       "3    1.0  TEXT1: Luiz Henrique Mandetta; TEXT2: Discórd...\n",
       "4    0.0  TEXT1: Angela Merkel; TEXT2: Em setembro, a Al..."
      ]
     },
     "execution_count": 71,
     "metadata": {},
     "output_type": "execute_result"
    }
   ],
   "source": [
    "data.head()"
   ]
  },
  {
   "cell_type": "markdown",
   "id": "24864fea-c037-4b17-afef-d1cc73308461",
   "metadata": {},
   "source": [
    "Test data"
   ]
  },
  {
   "cell_type": "code",
   "execution_count": 72,
   "id": "9e7fb96a-a7bd-4e31-8410-6fc8adfb932b",
   "metadata": {},
   "outputs": [],
   "source": [
    "test_data = test_data[['label','input']]"
   ]
  },
  {
   "cell_type": "code",
   "execution_count": 73,
   "id": "383e0fa8-c748-46c1-b24b-7a980478a4fc",
   "metadata": {},
   "outputs": [
    {
     "data": {
      "text/html": [
       "<div>\n",
       "<style scoped>\n",
       "    .dataframe tbody tr th:only-of-type {\n",
       "        vertical-align: middle;\n",
       "    }\n",
       "\n",
       "    .dataframe tbody tr th {\n",
       "        vertical-align: top;\n",
       "    }\n",
       "\n",
       "    .dataframe thead th {\n",
       "        text-align: right;\n",
       "    }\n",
       "</style>\n",
       "<table border=\"1\" class=\"dataframe\">\n",
       "  <thead>\n",
       "    <tr style=\"text-align: right;\">\n",
       "      <th></th>\n",
       "      <th>label</th>\n",
       "      <th>input</th>\n",
       "    </tr>\n",
       "  </thead>\n",
       "  <tbody>\n",
       "    <tr>\n",
       "      <th>0</th>\n",
       "      <td>0.0</td>\n",
       "      <td>TEXT1: Svetlana Tikhanovskaya; TEXT2: O minist...</td>\n",
       "    </tr>\n",
       "    <tr>\n",
       "      <th>1</th>\n",
       "      <td>0.0</td>\n",
       "      <td>TEXT1: Cristiano Carvalho; TEXT2: O representa...</td>\n",
       "    </tr>\n",
       "    <tr>\n",
       "      <th>2</th>\n",
       "      <td>1.0</td>\n",
       "      <td>TEXT1: Joe Biden; TEXT2: Isso tem a ver com a ...</td>\n",
       "    </tr>\n",
       "    <tr>\n",
       "      <th>3</th>\n",
       "      <td>0.0</td>\n",
       "      <td>TEXT1: Ann Linde; TEXT2: \"Estamos tremendament...</td>\n",
       "    </tr>\n",
       "    <tr>\n",
       "      <th>4</th>\n",
       "      <td>0.0</td>\n",
       "      <td>TEXT1: Elizabeth Warren; TEXT2: Uma explicaça...</td>\n",
       "    </tr>\n",
       "  </tbody>\n",
       "</table>\n",
       "</div>"
      ],
      "text/plain": [
       "   label                                              input\n",
       "0    0.0  TEXT1: Svetlana Tikhanovskaya; TEXT2: O minist...\n",
       "1    0.0  TEXT1: Cristiano Carvalho; TEXT2: O representa...\n",
       "2    1.0  TEXT1: Joe Biden; TEXT2: Isso tem a ver com a ...\n",
       "3    0.0  TEXT1: Ann Linde; TEXT2: \"Estamos tremendament...\n",
       "4    0.0  TEXT1: Elizabeth Warren; TEXT2: Uma explicaça..."
      ]
     },
     "execution_count": 73,
     "metadata": {},
     "output_type": "execute_result"
    }
   ],
   "source": [
    "test_data.head()"
   ]
  },
  {
   "cell_type": "markdown",
   "id": "df147ba0-578c-41fd-8d97-d25f11e81d3b",
   "metadata": {},
   "source": [
    "Conform to Transformers standard dataset format."
   ]
  },
  {
   "cell_type": "code",
   "execution_count": 74,
   "id": "29000d32-d9a4-47cd-9ece-66b424b8ec77",
   "metadata": {},
   "outputs": [],
   "source": [
    "ds = Dataset.from_pandas(data)"
   ]
  },
  {
   "cell_type": "markdown",
   "id": "4b463490-0f65-4347-98af-5c1523c58cf2",
   "metadata": {},
   "source": [
    "Take a look at the dataset"
   ]
  },
  {
   "cell_type": "code",
   "execution_count": 76,
   "id": "e8e517ec-b0e5-47c8-8822-26ec22ee4408",
   "metadata": {},
   "outputs": [
    {
     "data": {
      "text/plain": [
       "Dataset({\n",
       "    features: ['label', 'input'],\n",
       "    num_rows: 7840\n",
       "})"
      ]
     },
     "execution_count": 76,
     "metadata": {},
     "output_type": "execute_result"
    }
   ],
   "source": [
    "ds"
   ]
  },
  {
   "cell_type": "markdown",
   "id": "8a728c40-4c0e-4f71-bc24-4e9f8aec4b03",
   "metadata": {},
   "source": [
    "# Tokenization"
   ]
  },
  {
   "cell_type": "code",
   "execution_count": 78,
   "id": "7edabe6d-0dd1-4a21-b8a3-f4305b15e74d",
   "metadata": {},
   "outputs": [
    {
     "data": {
      "text/html": [
       "<div>\n",
       "<style scoped>\n",
       "    .dataframe tbody tr th:only-of-type {\n",
       "        vertical-align: middle;\n",
       "    }\n",
       "\n",
       "    .dataframe tbody tr th {\n",
       "        vertical-align: top;\n",
       "    }\n",
       "\n",
       "    .dataframe thead th {\n",
       "        text-align: right;\n",
       "    }\n",
       "</style>\n",
       "<table border=\"1\" class=\"dataframe\">\n",
       "  <thead>\n",
       "    <tr style=\"text-align: right;\">\n",
       "      <th></th>\n",
       "      <th>label</th>\n",
       "      <th>input</th>\n",
       "    </tr>\n",
       "  </thead>\n",
       "  <tbody>\n",
       "    <tr>\n",
       "      <th>0</th>\n",
       "      <td>1.0</td>\n",
       "      <td>TEXT1: Andrzej Duda; TEXT2: A comissão eleito...</td>\n",
       "    </tr>\n",
       "    <tr>\n",
       "      <th>1</th>\n",
       "      <td>1.0</td>\n",
       "      <td>TEXT1: Erich Honecker; TEXT2: Natural e casual...</td>\n",
       "    </tr>\n",
       "    <tr>\n",
       "      <th>2</th>\n",
       "      <td>0.0</td>\n",
       "      <td>TEXT1: Chris Whitty; TEXT2: Questionados sobre...</td>\n",
       "    </tr>\n",
       "    <tr>\n",
       "      <th>3</th>\n",
       "      <td>1.0</td>\n",
       "      <td>TEXT1: Luiz Henrique Mandetta; TEXT2: Discórd...</td>\n",
       "    </tr>\n",
       "    <tr>\n",
       "      <th>4</th>\n",
       "      <td>0.0</td>\n",
       "      <td>TEXT1: Angela Merkel; TEXT2: Em setembro, a Al...</td>\n",
       "    </tr>\n",
       "    <tr>\n",
       "      <th>...</th>\n",
       "      <td>...</td>\n",
       "      <td>...</td>\n",
       "    </tr>\n",
       "    <tr>\n",
       "      <th>7835</th>\n",
       "      <td>0.0</td>\n",
       "      <td>TEXT1: Dilma Rousseff; TEXT2: O pesquisador si...</td>\n",
       "    </tr>\n",
       "    <tr>\n",
       "      <th>7836</th>\n",
       "      <td>1.0</td>\n",
       "      <td>TEXT1: Thomas Mann; TEXT2: Além disso, ela me...</td>\n",
       "    </tr>\n",
       "    <tr>\n",
       "      <th>7837</th>\n",
       "      <td>1.0</td>\n",
       "      <td>TEXT1: Donald Trump; TEXT2: A mesma sequência...</td>\n",
       "    </tr>\n",
       "    <tr>\n",
       "      <th>7838</th>\n",
       "      <td>1.0</td>\n",
       "      <td>TEXT1: Bolsonaro; TEXT2: A postura oficial do ...</td>\n",
       "    </tr>\n",
       "    <tr>\n",
       "      <th>7839</th>\n",
       "      <td>0.0</td>\n",
       "      <td>TEXT1: Michelle Bachelet; TEXT2: \"A RSF está ...</td>\n",
       "    </tr>\n",
       "  </tbody>\n",
       "</table>\n",
       "<p>7840 rows × 2 columns</p>\n",
       "</div>"
      ],
      "text/plain": [
       "      label                                              input\n",
       "0       1.0  TEXT1: Andrzej Duda; TEXT2: A comissão eleito...\n",
       "1       1.0  TEXT1: Erich Honecker; TEXT2: Natural e casual...\n",
       "2       0.0  TEXT1: Chris Whitty; TEXT2: Questionados sobre...\n",
       "3       1.0  TEXT1: Luiz Henrique Mandetta; TEXT2: Discórd...\n",
       "4       0.0  TEXT1: Angela Merkel; TEXT2: Em setembro, a Al...\n",
       "...     ...                                                ...\n",
       "7835    0.0  TEXT1: Dilma Rousseff; TEXT2: O pesquisador si...\n",
       "7836    1.0  TEXT1: Thomas Mann; TEXT2: Além disso, ela me...\n",
       "7837    1.0  TEXT1: Donald Trump; TEXT2: A mesma sequência...\n",
       "7838    1.0  TEXT1: Bolsonaro; TEXT2: A postura oficial do ...\n",
       "7839    0.0  TEXT1: Michelle Bachelet; TEXT2: \"A RSF está ...\n",
       "\n",
       "[7840 rows x 2 columns]"
      ]
     },
     "execution_count": 78,
     "metadata": {},
     "output_type": "execute_result"
    }
   ],
   "source": [
    "data"
   ]
  },
  {
   "cell_type": "markdown",
   "id": "4b92be8b-7453-4ddc-bd37-120ca8471148",
   "metadata": {},
   "source": [
    "Here, **I am choosing the same model that I used for the Portuguese NER.**"
   ]
  },
  {
   "cell_type": "code",
   "execution_count": 79,
   "id": "98f83bdb-1f40-4258-9c3d-945694216ee9",
   "metadata": {
    "tags": []
   },
   "outputs": [],
   "source": [
    "model_nm = \"Davlan/bert-base-multilingual-cased-ner-hrl\"\n",
    "tokz = AutoTokenizer.from_pretrained(model_nm)"
   ]
  },
  {
   "cell_type": "markdown",
   "id": "b7c8de94-e415-482c-805e-61cb0d5d6dd5",
   "metadata": {},
   "source": [
    "We can check the indices of the special token IDs like so"
   ]
  },
  {
   "cell_type": "code",
   "execution_count": 80,
   "id": "54d2bbfa-ee26-4459-8307-7654de97194a",
   "metadata": {},
   "outputs": [
    {
     "data": {
      "text/plain": [
       "['[UNK]', '[SEP]', '[PAD]', '[CLS]', '[MASK]']"
      ]
     },
     "execution_count": 80,
     "metadata": {},
     "output_type": "execute_result"
    }
   ],
   "source": [
    "tokz.all_special_tokens"
   ]
  },
  {
   "cell_type": "markdown",
   "id": "be0d0674-0fdf-492c-ac79-9a2aaec76061",
   "metadata": {},
   "source": [
    "Function to tokenize the input"
   ]
  },
  {
   "cell_type": "code",
   "execution_count": 81,
   "id": "eb439013-b6b5-4959-b9e7-e326141c4bc0",
   "metadata": {},
   "outputs": [],
   "source": [
    "def tok_func(x):\n",
    "    return tokz (x[\"input\"])"
   ]
  },
  {
   "cell_type": "markdown",
   "id": "9e5cdc6c-6013-419f-ac02-2634c02c85df",
   "metadata": {},
   "source": [
    "Tokenize the dataset and remove columns that are no longer needed"
   ]
  },
  {
   "cell_type": "code",
   "execution_count": 82,
   "id": "734dc714-0673-46bb-b3ab-272545d845d6",
   "metadata": {},
   "outputs": [
    {
     "data": {
      "text/plain": [
       "Dataset({\n",
       "    features: ['label', 'input'],\n",
       "    num_rows: 7840\n",
       "})"
      ]
     },
     "execution_count": 82,
     "metadata": {},
     "output_type": "execute_result"
    }
   ],
   "source": [
    "ds"
   ]
  },
  {
   "cell_type": "code",
   "execution_count": 83,
   "id": "9cea6b0d-0991-4c4b-a12f-d0a376beb540",
   "metadata": {},
   "outputs": [
    {
     "name": "stderr",
     "output_type": "stream",
     "text": [
      "Parameter 'function'=<function tok_func at 0x7fc0e8208dc0> of the transform datasets.arrow_dataset.Dataset._map_single couldn't be hashed properly, a random hash was used instead. Make sure your transforms and parameters are serializable with pickle or dill for the dataset fingerprinting and caching to work. If you reuse this transform, the caching mechanism will consider it to be different from the previous calls and recompute everything. This warning is only showed once. Subsequent hashing failures won't be showed.\n",
      " 88%|████████▊ | 7/8 [00:00<00:00,  9.25ba/s]\n"
     ]
    }
   ],
   "source": [
    "cols = \"input\"\n",
    "tok_ds = ds.map(tok_func, batched=True, remove_columns=cols)"
   ]
  },
  {
   "cell_type": "markdown",
   "id": "8c8a9bde-a77f-4d6c-939b-4b1f43a8f7e5",
   "metadata": {},
   "source": [
    "Take a look at the tokenized dataset"
   ]
  },
  {
   "cell_type": "code",
   "execution_count": 84,
   "id": "e613eb1a-c0e1-48de-8bf7-63fef7fc35cb",
   "metadata": {},
   "outputs": [
    {
     "data": {
      "text/plain": [
       "Dataset({\n",
       "    features: ['label', 'input_ids', 'token_type_ids', 'attention_mask'],\n",
       "    num_rows: 7840\n",
       "})"
      ]
     },
     "execution_count": 84,
     "metadata": {},
     "output_type": "execute_result"
    }
   ],
   "source": [
    "tok_ds"
   ]
  },
  {
   "cell_type": "markdown",
   "id": "884e1cd5-ae85-497b-aa3e-b4f3e3910df3",
   "metadata": {},
   "source": [
    "Look at a row of the tokenized dataset"
   ]
  },
  {
   "cell_type": "code",
   "execution_count": 85,
   "id": "0445ac5d-1089-4a94-a0f3-6452dd3e1b58",
   "metadata": {
    "collapsed": true,
    "jupyter": {
     "outputs_hidden": true
    },
    "tags": []
   },
   "outputs": [
    {
     "data": {
      "text/plain": [
       "{'label': 1.0,\n",
       " 'input_ids': [101,\n",
       "  157,\n",
       "  11259,\n",
       "  12674,\n",
       "  11090,\n",
       "  10759,\n",
       "  131,\n",
       "  29247,\n",
       "  14925,\n",
       "  10229,\n",
       "  132,\n",
       "  157,\n",
       "  11259,\n",
       "  12674,\n",
       "  11090,\n",
       "  10729,\n",
       "  131,\n",
       "  138,\n",
       "  10212,\n",
       "  13404,\n",
       "  111017,\n",
       "  10133,\n",
       "  44393,\n",
       "  13600,\n",
       "  10143,\n",
       "  100,\n",
       "  57373,\n",
       "  37984,\n",
       "  13750,\n",
       "  118,\n",
       "  107027,\n",
       "  113,\n",
       "  10249,\n",
       "  120,\n",
       "  10878,\n",
       "  114,\n",
       "  10121,\n",
       "  183,\n",
       "  13103,\n",
       "  91905,\n",
       "  82355,\n",
       "  29247,\n",
       "  14925,\n",
       "  10229,\n",
       "  56017,\n",
       "  11524,\n",
       "  117,\n",
       "  10296,\n",
       "  110,\n",
       "  10398,\n",
       "  27201,\n",
       "  117,\n",
       "  10212,\n",
       "  32628,\n",
       "  15289,\n",
       "  10146,\n",
       "  10399,\n",
       "  13996,\n",
       "  26219,\n",
       "  72400,\n",
       "  10107,\n",
       "  10192,\n",
       "  12943,\n",
       "  17440,\n",
       "  10242,\n",
       "  12637,\n",
       "  11130,\n",
       "  111021,\n",
       "  10133,\n",
       "  111017,\n",
       "  10171,\n",
       "  53576,\n",
       "  10291,\n",
       "  117,\n",
       "  25507,\n",
       "  28642,\n",
       "  73010,\n",
       "  119,\n",
       "  28248,\n",
       "  82091,\n",
       "  183,\n",
       "  30423,\n",
       "  10143,\n",
       "  10303,\n",
       "  20316,\n",
       "  10350,\n",
       "  111021,\n",
       "  10113,\n",
       "  111017,\n",
       "  10133,\n",
       "  117,\n",
       "  183,\n",
       "  28950,\n",
       "  62930,\n",
       "  10104,\n",
       "  48725,\n",
       "  11669,\n",
       "  82091,\n",
       "  13372,\n",
       "  117,\n",
       "  38571,\n",
       "  57291,\n",
       "  157,\n",
       "  28768,\n",
       "  12805,\n",
       "  16231,\n",
       "  117,\n",
       "  71537,\n",
       "  11300,\n",
       "  117,\n",
       "  12791,\n",
       "  110,\n",
       "  10398,\n",
       "  27201,\n",
       "  119,\n",
       "  102],\n",
       " 'token_type_ids': [0,\n",
       "  0,\n",
       "  0,\n",
       "  0,\n",
       "  0,\n",
       "  0,\n",
       "  0,\n",
       "  0,\n",
       "  0,\n",
       "  0,\n",
       "  0,\n",
       "  0,\n",
       "  0,\n",
       "  0,\n",
       "  0,\n",
       "  0,\n",
       "  0,\n",
       "  0,\n",
       "  0,\n",
       "  0,\n",
       "  0,\n",
       "  0,\n",
       "  0,\n",
       "  0,\n",
       "  0,\n",
       "  0,\n",
       "  0,\n",
       "  0,\n",
       "  0,\n",
       "  0,\n",
       "  0,\n",
       "  0,\n",
       "  0,\n",
       "  0,\n",
       "  0,\n",
       "  0,\n",
       "  0,\n",
       "  0,\n",
       "  0,\n",
       "  0,\n",
       "  0,\n",
       "  0,\n",
       "  0,\n",
       "  0,\n",
       "  0,\n",
       "  0,\n",
       "  0,\n",
       "  0,\n",
       "  0,\n",
       "  0,\n",
       "  0,\n",
       "  0,\n",
       "  0,\n",
       "  0,\n",
       "  0,\n",
       "  0,\n",
       "  0,\n",
       "  0,\n",
       "  0,\n",
       "  0,\n",
       "  0,\n",
       "  0,\n",
       "  0,\n",
       "  0,\n",
       "  0,\n",
       "  0,\n",
       "  0,\n",
       "  0,\n",
       "  0,\n",
       "  0,\n",
       "  0,\n",
       "  0,\n",
       "  0,\n",
       "  0,\n",
       "  0,\n",
       "  0,\n",
       "  0,\n",
       "  0,\n",
       "  0,\n",
       "  0,\n",
       "  0,\n",
       "  0,\n",
       "  0,\n",
       "  0,\n",
       "  0,\n",
       "  0,\n",
       "  0,\n",
       "  0,\n",
       "  0,\n",
       "  0,\n",
       "  0,\n",
       "  0,\n",
       "  0,\n",
       "  0,\n",
       "  0,\n",
       "  0,\n",
       "  0,\n",
       "  0,\n",
       "  0,\n",
       "  0,\n",
       "  0,\n",
       "  0,\n",
       "  0,\n",
       "  0,\n",
       "  0,\n",
       "  0,\n",
       "  0,\n",
       "  0,\n",
       "  0,\n",
       "  0,\n",
       "  0,\n",
       "  0,\n",
       "  0,\n",
       "  0,\n",
       "  0,\n",
       "  0],\n",
       " 'attention_mask': [1,\n",
       "  1,\n",
       "  1,\n",
       "  1,\n",
       "  1,\n",
       "  1,\n",
       "  1,\n",
       "  1,\n",
       "  1,\n",
       "  1,\n",
       "  1,\n",
       "  1,\n",
       "  1,\n",
       "  1,\n",
       "  1,\n",
       "  1,\n",
       "  1,\n",
       "  1,\n",
       "  1,\n",
       "  1,\n",
       "  1,\n",
       "  1,\n",
       "  1,\n",
       "  1,\n",
       "  1,\n",
       "  1,\n",
       "  1,\n",
       "  1,\n",
       "  1,\n",
       "  1,\n",
       "  1,\n",
       "  1,\n",
       "  1,\n",
       "  1,\n",
       "  1,\n",
       "  1,\n",
       "  1,\n",
       "  1,\n",
       "  1,\n",
       "  1,\n",
       "  1,\n",
       "  1,\n",
       "  1,\n",
       "  1,\n",
       "  1,\n",
       "  1,\n",
       "  1,\n",
       "  1,\n",
       "  1,\n",
       "  1,\n",
       "  1,\n",
       "  1,\n",
       "  1,\n",
       "  1,\n",
       "  1,\n",
       "  1,\n",
       "  1,\n",
       "  1,\n",
       "  1,\n",
       "  1,\n",
       "  1,\n",
       "  1,\n",
       "  1,\n",
       "  1,\n",
       "  1,\n",
       "  1,\n",
       "  1,\n",
       "  1,\n",
       "  1,\n",
       "  1,\n",
       "  1,\n",
       "  1,\n",
       "  1,\n",
       "  1,\n",
       "  1,\n",
       "  1,\n",
       "  1,\n",
       "  1,\n",
       "  1,\n",
       "  1,\n",
       "  1,\n",
       "  1,\n",
       "  1,\n",
       "  1,\n",
       "  1,\n",
       "  1,\n",
       "  1,\n",
       "  1,\n",
       "  1,\n",
       "  1,\n",
       "  1,\n",
       "  1,\n",
       "  1,\n",
       "  1,\n",
       "  1,\n",
       "  1,\n",
       "  1,\n",
       "  1,\n",
       "  1,\n",
       "  1,\n",
       "  1,\n",
       "  1,\n",
       "  1,\n",
       "  1,\n",
       "  1,\n",
       "  1,\n",
       "  1,\n",
       "  1,\n",
       "  1,\n",
       "  1,\n",
       "  1,\n",
       "  1,\n",
       "  1,\n",
       "  1,\n",
       "  1,\n",
       "  1]}"
      ]
     },
     "execution_count": 85,
     "metadata": {},
     "output_type": "execute_result"
    }
   ],
   "source": [
    "row = tok_ds[0]\n",
    "row"
   ]
  },
  {
   "cell_type": "markdown",
   "id": "60a06b15-e259-4c6e-b320-af95f3fba7b2",
   "metadata": {},
   "source": [
    "# Separate the training set and the validation set"
   ]
  },
  {
   "cell_type": "markdown",
   "id": "acb28716-8af0-4d23-b883-61c4b73b02ca",
   "metadata": {},
   "source": [
    "Use a 25% of the dataset as test set"
   ]
  },
  {
   "cell_type": "code",
   "execution_count": 86,
   "id": "cc250984-3d33-474f-afad-cfed81486109",
   "metadata": {},
   "outputs": [
    {
     "data": {
      "text/plain": [
       "DatasetDict({\n",
       "    train: Dataset({\n",
       "        features: ['label', 'input_ids', 'token_type_ids', 'attention_mask'],\n",
       "        num_rows: 5880\n",
       "    })\n",
       "    test: Dataset({\n",
       "        features: ['label', 'input_ids', 'token_type_ids', 'attention_mask'],\n",
       "        num_rows: 1960\n",
       "    })\n",
       "})"
      ]
     },
     "execution_count": 86,
     "metadata": {},
     "output_type": "execute_result"
    }
   ],
   "source": [
    "dds = tok_ds.train_test_split(0.25, seed=42)\n",
    "dds"
   ]
  },
  {
   "cell_type": "markdown",
   "id": "1c664dbb-a973-49c8-bf6a-6e26f1c18633",
   "metadata": {},
   "source": [
    "# Train the model"
   ]
  },
  {
   "cell_type": "markdown",
   "id": "d284aa0b-34e5-4b71-b662-fdbf082c717b",
   "metadata": {},
   "source": [
    "Transformers expects metrics to be returned as a `dict`, since that way the trainer knows what label to use, so let's create a function to do that:"
   ]
  },
  {
   "cell_type": "code",
   "execution_count": 87,
   "id": "5458f464-3211-45db-a9e6-a3b783af4c71",
   "metadata": {},
   "outputs": [],
   "source": [
    "from transformers import TrainingArguments, Trainer"
   ]
  },
  {
   "cell_type": "code",
   "execution_count": 88,
   "id": "f8cfdf76-c6f7-4723-bbef-1c88a18ea581",
   "metadata": {},
   "outputs": [],
   "source": [
    "epochs = 4\n",
    "lr = 1e-4 # Learning rate\n",
    "bs = 128 # batch size\n",
    "wd = 0.01 # weight decay"
   ]
  },
  {
   "cell_type": "markdown",
   "id": "71b61133-910b-47f0-8280-dcb31b0817c3",
   "metadata": {},
   "source": [
    "Prepare the argument. I am using the same arguments as in the example in the video (1:15:50): https://www.youtube.com/watch?v=toUgBQv1BT8&t=652s"
   ]
  },
  {
   "cell_type": "code",
   "execution_count": 89,
   "id": "7e258f98-8af0-408e-952c-6be869803d98",
   "metadata": {},
   "outputs": [],
   "source": [
    "# It gave me an error when `fp16=True` so I use `fp16=False`\n",
    "\n",
    "args = TrainingArguments('outputs',\\\n",
    "                         learning_rate=lr,\\\n",
    "                         warmup_ratio=0.1,\\\n",
    "                         lr_scheduler_type='cosine',\\\n",
    "                         fp16=False,\\\n",
    "                         evaluation_strategy=\"epoch\",\\\n",
    "                         per_device_train_batch_size=bs,\\\n",
    "                         per_device_eval_batch_size=bs*2,\\\n",
    "                         num_train_epochs=epochs,\\\n",
    "                         weight_decay=wd,\\\n",
    "                         report_to='none')"
   ]
  },
  {
   "cell_type": "code",
   "execution_count": 90,
   "id": "d1f717e3-02c3-4ee0-8694-e1cb2958be95",
   "metadata": {},
   "outputs": [
    {
     "name": "stderr",
     "output_type": "stream",
     "text": [
      "Some weights of BertForSequenceClassification were not initialized from the model checkpoint at Davlan/bert-base-multilingual-cased-ner-hrl and are newly initialized: ['bert.pooler.dense.weight', 'bert.pooler.dense.bias']\n",
      "You should probably TRAIN this model on a down-stream task to be able to use it for predictions and inference.\n",
      "Some weights of BertForSequenceClassification were not initialized from the model checkpoint at Davlan/bert-base-multilingual-cased-ner-hrl and are newly initialized because the shapes did not match:\n",
      "- classifier.weight: found shape torch.Size([9, 768]) in the checkpoint and torch.Size([1, 768]) in the model instantiated\n",
      "- classifier.bias: found shape torch.Size([9]) in the checkpoint and torch.Size([1]) in the model instantiated\n",
      "You should probably TRAIN this model on a down-stream task to be able to use it for predictions and inference.\n"
     ]
    }
   ],
   "source": [
    "model = AutoModelForSequenceClassification.from_pretrained(model_nm, num_labels=1, ignore_mismatched_sizes=True)\n",
    "trainer = Trainer(model, args, train_dataset=dds['train'], eval_dataset=dds['test'], tokenizer=tokz)"
   ]
  },
  {
   "cell_type": "markdown",
   "id": "ef05c17b-a55d-422c-bc29-4a026d50b880",
   "metadata": {},
   "source": [
    "Let's train our model!"
   ]
  },
  {
   "cell_type": "markdown",
   "id": "48da4ee8-84d7-4a26-8be5-e3e6fb12f88b",
   "metadata": {},
   "source": [
    "**(The following command took about 8 hours to finish running in a computer with 2 CPUs and 8 GB of RAM)**"
   ]
  },
  {
   "cell_type": "code",
   "execution_count": 91,
   "id": "57de04fb-1cc2-4171-8b13-cca316135b09",
   "metadata": {},
   "outputs": [
    {
     "name": "stderr",
     "output_type": "stream",
     "text": [
      "/Users/stefano/opt/anaconda3/envs/s2ds/lib/python3.10/site-packages/transformers/optimization.py:306: FutureWarning: This implementation of AdamW is deprecated and will be removed in a future version. Use the PyTorch implementation torch.optim.AdamW instead, or set `no_deprecation_warning=True` to disable this warning\n",
      "  warnings.warn(\n",
      "***** Running training *****\n",
      "  Num examples = 5880\n",
      "  Num Epochs = 4\n",
      "  Instantaneous batch size per device = 128\n",
      "  Total train batch size (w. parallel, distributed & accumulation) = 128\n",
      "  Gradient Accumulation steps = 1\n",
      "  Total optimization steps = 184\n",
      "  Number of trainable parameters = 177854209\n",
      "You're using a BertTokenizerFast tokenizer. Please note that with a fast tokenizer, using the `__call__` method is faster than using a method to encode the text followed by a call to the `pad` method to get a padded encoding.\n"
     ]
    },
    {
     "data": {
      "text/html": [
       "\n",
       "    <div>\n",
       "      \n",
       "      <progress value='184' max='184' style='width:300px; height:20px; vertical-align: middle;'></progress>\n",
       "      [184/184 7:56:46, Epoch 4/4]\n",
       "    </div>\n",
       "    <table border=\"1\" class=\"dataframe\">\n",
       "  <thead>\n",
       " <tr style=\"text-align: left;\">\n",
       "      <th>Epoch</th>\n",
       "      <th>Training Loss</th>\n",
       "      <th>Validation Loss</th>\n",
       "    </tr>\n",
       "  </thead>\n",
       "  <tbody>\n",
       "    <tr>\n",
       "      <td>1</td>\n",
       "      <td>No log</td>\n",
       "      <td>0.025014</td>\n",
       "    </tr>\n",
       "    <tr>\n",
       "      <td>2</td>\n",
       "      <td>No log</td>\n",
       "      <td>0.016922</td>\n",
       "    </tr>\n",
       "    <tr>\n",
       "      <td>3</td>\n",
       "      <td>No log</td>\n",
       "      <td>0.017416</td>\n",
       "    </tr>\n",
       "    <tr>\n",
       "      <td>4</td>\n",
       "      <td>No log</td>\n",
       "      <td>0.014852</td>\n",
       "    </tr>\n",
       "  </tbody>\n",
       "</table><p>"
      ],
      "text/plain": [
       "<IPython.core.display.HTML object>"
      ]
     },
     "metadata": {},
     "output_type": "display_data"
    },
    {
     "name": "stderr",
     "output_type": "stream",
     "text": [
      "***** Running Evaluation *****\n",
      "  Num examples = 1960\n",
      "  Batch size = 256\n",
      "***** Running Evaluation *****\n",
      "  Num examples = 1960\n",
      "  Batch size = 256\n",
      "***** Running Evaluation *****\n",
      "  Num examples = 1960\n",
      "  Batch size = 256\n",
      "***** Running Evaluation *****\n",
      "  Num examples = 1960\n",
      "  Batch size = 256\n",
      "\n",
      "\n",
      "Training completed. Do not forget to share your model on huggingface.co/models =)\n",
      "\n",
      "\n"
     ]
    },
    {
     "data": {
      "text/plain": [
       "TrainOutput(global_step=184, training_loss=0.05298313887222954, metrics={'train_runtime': 28731.0958, 'train_samples_per_second': 0.819, 'train_steps_per_second': 0.006, 'total_flos': 2048436840362544.0, 'train_loss': 0.05298313887222954, 'epoch': 4.0})"
      ]
     },
     "execution_count": 91,
     "metadata": {},
     "output_type": "execute_result"
    }
   ],
   "source": [
    "trainer.train()"
   ]
  },
  {
   "cell_type": "markdown",
   "id": "1d0a3d80-4e8a-44d7-a4d2-66767e748971",
   "metadata": {},
   "source": [
    "# Save trained model"
   ]
  },
  {
   "cell_type": "code",
   "execution_count": 92,
   "id": "20657e95-4b7d-431e-b159-6efee936639f",
   "metadata": {},
   "outputs": [],
   "source": [
    "outputdir = Path.cwd()\n",
    "trained_model_nm = 'bert-base-multilingual-cased-ner-hrl-namesGenderPTv2'"
   ]
  },
  {
   "cell_type": "code",
   "execution_count": 93,
   "id": "b77da7f6-8dc2-4746-9347-f0da649f7ea1",
   "metadata": {},
   "outputs": [
    {
     "name": "stderr",
     "output_type": "stream",
     "text": [
      "Saving model checkpoint to /Users/stefano/bert-base-multilingual-cased-ner-hrl-namesGenderPTv2\n",
      "Configuration saved in /Users/stefano/bert-base-multilingual-cased-ner-hrl-namesGenderPTv2/config.json\n",
      "Model weights saved in /Users/stefano/bert-base-multilingual-cased-ner-hrl-namesGenderPTv2/pytorch_model.bin\n",
      "tokenizer config file saved in /Users/stefano/bert-base-multilingual-cased-ner-hrl-namesGenderPTv2/tokenizer_config.json\n",
      "Special tokens file saved in /Users/stefano/bert-base-multilingual-cased-ner-hrl-namesGenderPTv2/special_tokens_map.json\n"
     ]
    }
   ],
   "source": [
    "trainer.save_model(outputdir/trained_model_nm)"
   ]
  },
  {
   "cell_type": "markdown",
   "id": "8f37640c-d0b6-4fdb-bcbd-1d2e06477b8b",
   "metadata": {},
   "source": [
    "# Predictions"
   ]
  },
  {
   "cell_type": "markdown",
   "id": "2fcb20c1-babf-47dd-b461-00916aab3660",
   "metadata": {},
   "source": [
    "Test the trained model agaist the test dataset"
   ]
  },
  {
   "cell_type": "code",
   "execution_count": 94,
   "id": "d86d42fb-5b1f-4155-bb06-5b4701dcb232",
   "metadata": {},
   "outputs": [
    {
     "name": "stderr",
     "output_type": "stream",
     "text": [
      "  0%|          | 0/1 [00:00<?, ?ba/s]\n"
     ]
    }
   ],
   "source": [
    "eval_ds = Dataset.from_pandas(test_data).map(tok_func, batched=True)"
   ]
  },
  {
   "cell_type": "code",
   "execution_count": 95,
   "id": "d796e589-0355-4fbc-8480-e3eaa524868d",
   "metadata": {},
   "outputs": [
    {
     "data": {
      "text/plain": [
       "Dataset({\n",
       "    features: ['label', 'input', 'input_ids', 'token_type_ids', 'attention_mask'],\n",
       "    num_rows: 348\n",
       "})"
      ]
     },
     "execution_count": 95,
     "metadata": {},
     "output_type": "execute_result"
    }
   ],
   "source": [
    "eval_ds"
   ]
  },
  {
   "cell_type": "code",
   "execution_count": 96,
   "id": "5084f56b-71a5-49ef-98c8-3ea983f1600d",
   "metadata": {},
   "outputs": [
    {
     "name": "stderr",
     "output_type": "stream",
     "text": [
      "The following columns in the test set don't have a corresponding argument in `BertForSequenceClassification.forward` and have been ignored: input. If input are not expected by `BertForSequenceClassification.forward`,  you can safely ignore this message.\n",
      "***** Running Prediction *****\n",
      "  Num examples = 348\n",
      "  Batch size = 256\n"
     ]
    },
    {
     "data": {
      "text/html": [],
      "text/plain": [
       "<IPython.core.display.HTML object>"
      ]
     },
     "metadata": {},
     "output_type": "display_data"
    }
   ],
   "source": [
    "preds = trainer.predict(eval_ds).predictions.astype(float)"
   ]
  },
  {
   "cell_type": "code",
   "execution_count": 97,
   "id": "5c097f42-a2a8-48c7-87ec-355435fa5282",
   "metadata": {},
   "outputs": [
    {
     "data": {
      "text/html": [
       "<div>\n",
       "<style scoped>\n",
       "    .dataframe tbody tr th:only-of-type {\n",
       "        vertical-align: middle;\n",
       "    }\n",
       "\n",
       "    .dataframe tbody tr th {\n",
       "        vertical-align: top;\n",
       "    }\n",
       "\n",
       "    .dataframe thead th {\n",
       "        text-align: right;\n",
       "    }\n",
       "</style>\n",
       "<table border=\"1\" class=\"dataframe\">\n",
       "  <thead>\n",
       "    <tr style=\"text-align: right;\">\n",
       "      <th></th>\n",
       "      <th>label</th>\n",
       "      <th>input</th>\n",
       "    </tr>\n",
       "  </thead>\n",
       "  <tbody>\n",
       "    <tr>\n",
       "      <th>0</th>\n",
       "      <td>0.0</td>\n",
       "      <td>TEXT1: Svetlana Tikhanovskaya; TEXT2: O minist...</td>\n",
       "    </tr>\n",
       "    <tr>\n",
       "      <th>1</th>\n",
       "      <td>0.0</td>\n",
       "      <td>TEXT1: Cristiano Carvalho; TEXT2: O representa...</td>\n",
       "    </tr>\n",
       "    <tr>\n",
       "      <th>2</th>\n",
       "      <td>1.0</td>\n",
       "      <td>TEXT1: Joe Biden; TEXT2: Isso tem a ver com a ...</td>\n",
       "    </tr>\n",
       "    <tr>\n",
       "      <th>3</th>\n",
       "      <td>0.0</td>\n",
       "      <td>TEXT1: Ann Linde; TEXT2: \"Estamos tremendament...</td>\n",
       "    </tr>\n",
       "    <tr>\n",
       "      <th>4</th>\n",
       "      <td>0.0</td>\n",
       "      <td>TEXT1: Elizabeth Warren; TEXT2: Uma explicaça...</td>\n",
       "    </tr>\n",
       "    <tr>\n",
       "      <th>...</th>\n",
       "      <td>...</td>\n",
       "      <td>...</td>\n",
       "    </tr>\n",
       "    <tr>\n",
       "      <th>343</th>\n",
       "      <td>0.0</td>\n",
       "      <td>TEXT1: Anne; TEXT2: Dez anos antes, ela havia ...</td>\n",
       "    </tr>\n",
       "    <tr>\n",
       "      <th>344</th>\n",
       "      <td>1.0</td>\n",
       "      <td>TEXT1: Recep Tayyip Erdogan; TEXT2: O primeiro...</td>\n",
       "    </tr>\n",
       "    <tr>\n",
       "      <th>345</th>\n",
       "      <td>1.0</td>\n",
       "      <td>TEXT1: Francisco; TEXT2: Pois o mesmo Francisc...</td>\n",
       "    </tr>\n",
       "    <tr>\n",
       "      <th>346</th>\n",
       "      <td>0.0</td>\n",
       "      <td>TEXT1: Maria Van Kerkhove; TEXT2: A principal ...</td>\n",
       "    </tr>\n",
       "    <tr>\n",
       "      <th>347</th>\n",
       "      <td>1.0</td>\n",
       "      <td>TEXT1: Donald Trump; TEXT2: Os democratas no C...</td>\n",
       "    </tr>\n",
       "  </tbody>\n",
       "</table>\n",
       "<p>348 rows × 2 columns</p>\n",
       "</div>"
      ],
      "text/plain": [
       "     label                                              input\n",
       "0      0.0  TEXT1: Svetlana Tikhanovskaya; TEXT2: O minist...\n",
       "1      0.0  TEXT1: Cristiano Carvalho; TEXT2: O representa...\n",
       "2      1.0  TEXT1: Joe Biden; TEXT2: Isso tem a ver com a ...\n",
       "3      0.0  TEXT1: Ann Linde; TEXT2: \"Estamos tremendament...\n",
       "4      0.0  TEXT1: Elizabeth Warren; TEXT2: Uma explicaça...\n",
       "..     ...                                                ...\n",
       "343    0.0  TEXT1: Anne; TEXT2: Dez anos antes, ela havia ...\n",
       "344    1.0  TEXT1: Recep Tayyip Erdogan; TEXT2: O primeiro...\n",
       "345    1.0  TEXT1: Francisco; TEXT2: Pois o mesmo Francisc...\n",
       "346    0.0  TEXT1: Maria Van Kerkhove; TEXT2: A principal ...\n",
       "347    1.0  TEXT1: Donald Trump; TEXT2: Os democratas no C...\n",
       "\n",
       "[348 rows x 2 columns]"
      ]
     },
     "execution_count": 97,
     "metadata": {},
     "output_type": "execute_result"
    }
   ],
   "source": [
    "test_data"
   ]
  },
  {
   "cell_type": "markdown",
   "id": "ac55a17f-d65a-4ee4-b92c-3097040d94de",
   "metadata": {},
   "source": [
    "Clip and round predictions so that they are exactly 0 or 1"
   ]
  },
  {
   "cell_type": "code",
   "execution_count": 98,
   "id": "e0de9b3c-a468-4d17-a2c2-239472e14987",
   "metadata": {},
   "outputs": [],
   "source": [
    "preds_lst = []\n",
    "for n in np.clip(preds, 0, 1):\n",
    "    #print(f'{n.item():.2f}')\n",
    "    preds_lst.append(np.rint(n.item()))"
   ]
  },
  {
   "cell_type": "markdown",
   "id": "49b9278f-ef05-4563-9714-a8903f245548",
   "metadata": {},
   "source": [
    "Show it"
   ]
  },
  {
   "cell_type": "code",
   "execution_count": 99,
   "id": "06d8c2f1-4342-4a67-bf2b-c60bcd3d5cf3",
   "metadata": {},
   "outputs": [
    {
     "data": {
      "text/plain": [
       "[0.0, 0.0, 1.0, 0.0, 0.0, 0.0, 1.0, 0.0, 0.0, 0.0]"
      ]
     },
     "execution_count": 99,
     "metadata": {},
     "output_type": "execute_result"
    }
   ],
   "source": [
    "preds_lst[0:10]"
   ]
  },
  {
   "cell_type": "markdown",
   "id": "198e3a15-ce11-49c1-b37d-261d955d8638",
   "metadata": {},
   "source": [
    "Add the predictions to a DataFrame"
   ]
  },
  {
   "cell_type": "code",
   "execution_count": 101,
   "id": "9fd76529-a48d-4038-b0f5-b8981ce58c01",
   "metadata": {},
   "outputs": [],
   "source": [
    "test_data_with_prediction = test_data.copy()\n",
    "test_data_with_prediction['prediction'] = preds_lst"
   ]
  },
  {
   "cell_type": "code",
   "execution_count": 102,
   "id": "3fd43cbb-f9d4-46b0-8f22-5107bf4818b0",
   "metadata": {},
   "outputs": [
    {
     "data": {
      "text/html": [
       "<div>\n",
       "<style scoped>\n",
       "    .dataframe tbody tr th:only-of-type {\n",
       "        vertical-align: middle;\n",
       "    }\n",
       "\n",
       "    .dataframe tbody tr th {\n",
       "        vertical-align: top;\n",
       "    }\n",
       "\n",
       "    .dataframe thead th {\n",
       "        text-align: right;\n",
       "    }\n",
       "</style>\n",
       "<table border=\"1\" class=\"dataframe\">\n",
       "  <thead>\n",
       "    <tr style=\"text-align: right;\">\n",
       "      <th></th>\n",
       "      <th>label</th>\n",
       "      <th>input</th>\n",
       "      <th>prediction</th>\n",
       "    </tr>\n",
       "  </thead>\n",
       "  <tbody>\n",
       "    <tr>\n",
       "      <th>0</th>\n",
       "      <td>0.0</td>\n",
       "      <td>TEXT1: Svetlana Tikhanovskaya; TEXT2: O minist...</td>\n",
       "      <td>0.0</td>\n",
       "    </tr>\n",
       "    <tr>\n",
       "      <th>1</th>\n",
       "      <td>0.0</td>\n",
       "      <td>TEXT1: Cristiano Carvalho; TEXT2: O representa...</td>\n",
       "      <td>0.0</td>\n",
       "    </tr>\n",
       "    <tr>\n",
       "      <th>2</th>\n",
       "      <td>1.0</td>\n",
       "      <td>TEXT1: Joe Biden; TEXT2: Isso tem a ver com a ...</td>\n",
       "      <td>1.0</td>\n",
       "    </tr>\n",
       "    <tr>\n",
       "      <th>3</th>\n",
       "      <td>0.0</td>\n",
       "      <td>TEXT1: Ann Linde; TEXT2: \"Estamos tremendament...</td>\n",
       "      <td>0.0</td>\n",
       "    </tr>\n",
       "    <tr>\n",
       "      <th>4</th>\n",
       "      <td>0.0</td>\n",
       "      <td>TEXT1: Elizabeth Warren; TEXT2: Uma explicaça...</td>\n",
       "      <td>0.0</td>\n",
       "    </tr>\n",
       "    <tr>\n",
       "      <th>...</th>\n",
       "      <td>...</td>\n",
       "      <td>...</td>\n",
       "      <td>...</td>\n",
       "    </tr>\n",
       "    <tr>\n",
       "      <th>343</th>\n",
       "      <td>0.0</td>\n",
       "      <td>TEXT1: Anne; TEXT2: Dez anos antes, ela havia ...</td>\n",
       "      <td>0.0</td>\n",
       "    </tr>\n",
       "    <tr>\n",
       "      <th>344</th>\n",
       "      <td>1.0</td>\n",
       "      <td>TEXT1: Recep Tayyip Erdogan; TEXT2: O primeiro...</td>\n",
       "      <td>1.0</td>\n",
       "    </tr>\n",
       "    <tr>\n",
       "      <th>345</th>\n",
       "      <td>1.0</td>\n",
       "      <td>TEXT1: Francisco; TEXT2: Pois o mesmo Francisc...</td>\n",
       "      <td>1.0</td>\n",
       "    </tr>\n",
       "    <tr>\n",
       "      <th>346</th>\n",
       "      <td>0.0</td>\n",
       "      <td>TEXT1: Maria Van Kerkhove; TEXT2: A principal ...</td>\n",
       "      <td>0.0</td>\n",
       "    </tr>\n",
       "    <tr>\n",
       "      <th>347</th>\n",
       "      <td>1.0</td>\n",
       "      <td>TEXT1: Donald Trump; TEXT2: Os democratas no C...</td>\n",
       "      <td>1.0</td>\n",
       "    </tr>\n",
       "  </tbody>\n",
       "</table>\n",
       "<p>348 rows × 3 columns</p>\n",
       "</div>"
      ],
      "text/plain": [
       "     label                                              input  prediction\n",
       "0      0.0  TEXT1: Svetlana Tikhanovskaya; TEXT2: O minist...         0.0\n",
       "1      0.0  TEXT1: Cristiano Carvalho; TEXT2: O representa...         0.0\n",
       "2      1.0  TEXT1: Joe Biden; TEXT2: Isso tem a ver com a ...         1.0\n",
       "3      0.0  TEXT1: Ann Linde; TEXT2: \"Estamos tremendament...         0.0\n",
       "4      0.0  TEXT1: Elizabeth Warren; TEXT2: Uma explicaça...         0.0\n",
       "..     ...                                                ...         ...\n",
       "343    0.0  TEXT1: Anne; TEXT2: Dez anos antes, ela havia ...         0.0\n",
       "344    1.0  TEXT1: Recep Tayyip Erdogan; TEXT2: O primeiro...         1.0\n",
       "345    1.0  TEXT1: Francisco; TEXT2: Pois o mesmo Francisc...         1.0\n",
       "346    0.0  TEXT1: Maria Van Kerkhove; TEXT2: A principal ...         0.0\n",
       "347    1.0  TEXT1: Donald Trump; TEXT2: Os democratas no C...         1.0\n",
       "\n",
       "[348 rows x 3 columns]"
      ]
     },
     "execution_count": 102,
     "metadata": {},
     "output_type": "execute_result"
    }
   ],
   "source": [
    "test_data_with_prediction"
   ]
  },
  {
   "cell_type": "code",
   "execution_count": 103,
   "id": "933447b0-dde8-4e18-be6f-289a1fbca000",
   "metadata": {},
   "outputs": [
    {
     "name": "stdout",
     "output_type": "stream",
     "text": [
      "<class 'pandas.core.frame.DataFrame'>\n",
      "RangeIndex: 348 entries, 0 to 347\n",
      "Data columns (total 3 columns):\n",
      " #   Column      Non-Null Count  Dtype  \n",
      "---  ------      --------------  -----  \n",
      " 0   label       348 non-null    float64\n",
      " 1   input       348 non-null    object \n",
      " 2   prediction  348 non-null    float64\n",
      "dtypes: float64(2), object(1)\n",
      "memory usage: 8.3+ KB\n"
     ]
    }
   ],
   "source": [
    "test_data_with_prediction.info()"
   ]
  },
  {
   "cell_type": "markdown",
   "id": "a3f82ca8-b6e7-4486-8800-b83943d71122",
   "metadata": {},
   "source": [
    "Create column `hit` that indicates when the prediction matches the label"
   ]
  },
  {
   "cell_type": "code",
   "execution_count": 104,
   "id": "a666a471-2a19-4841-beca-c676d549b383",
   "metadata": {},
   "outputs": [],
   "source": [
    "test_data_with_prediction['hit'] = test_data_with_prediction.label == test_data_with_prediction.prediction"
   ]
  },
  {
   "cell_type": "code",
   "execution_count": 105,
   "id": "33dca32b-42b3-4c86-a4ef-8c23d94a40ed",
   "metadata": {},
   "outputs": [
    {
     "data": {
      "text/html": [
       "<div>\n",
       "<style scoped>\n",
       "    .dataframe tbody tr th:only-of-type {\n",
       "        vertical-align: middle;\n",
       "    }\n",
       "\n",
       "    .dataframe tbody tr th {\n",
       "        vertical-align: top;\n",
       "    }\n",
       "\n",
       "    .dataframe thead th {\n",
       "        text-align: right;\n",
       "    }\n",
       "</style>\n",
       "<table border=\"1\" class=\"dataframe\">\n",
       "  <thead>\n",
       "    <tr style=\"text-align: right;\">\n",
       "      <th></th>\n",
       "      <th>label</th>\n",
       "      <th>input</th>\n",
       "      <th>prediction</th>\n",
       "      <th>hit</th>\n",
       "    </tr>\n",
       "  </thead>\n",
       "  <tbody>\n",
       "    <tr>\n",
       "      <th>0</th>\n",
       "      <td>0.0</td>\n",
       "      <td>TEXT1: Svetlana Tikhanovskaya; TEXT2: O minist...</td>\n",
       "      <td>0.0</td>\n",
       "      <td>True</td>\n",
       "    </tr>\n",
       "    <tr>\n",
       "      <th>1</th>\n",
       "      <td>0.0</td>\n",
       "      <td>TEXT1: Cristiano Carvalho; TEXT2: O representa...</td>\n",
       "      <td>0.0</td>\n",
       "      <td>True</td>\n",
       "    </tr>\n",
       "    <tr>\n",
       "      <th>2</th>\n",
       "      <td>1.0</td>\n",
       "      <td>TEXT1: Joe Biden; TEXT2: Isso tem a ver com a ...</td>\n",
       "      <td>1.0</td>\n",
       "      <td>True</td>\n",
       "    </tr>\n",
       "    <tr>\n",
       "      <th>3</th>\n",
       "      <td>0.0</td>\n",
       "      <td>TEXT1: Ann Linde; TEXT2: \"Estamos tremendament...</td>\n",
       "      <td>0.0</td>\n",
       "      <td>True</td>\n",
       "    </tr>\n",
       "    <tr>\n",
       "      <th>4</th>\n",
       "      <td>0.0</td>\n",
       "      <td>TEXT1: Elizabeth Warren; TEXT2: Uma explicaça...</td>\n",
       "      <td>0.0</td>\n",
       "      <td>True</td>\n",
       "    </tr>\n",
       "    <tr>\n",
       "      <th>...</th>\n",
       "      <td>...</td>\n",
       "      <td>...</td>\n",
       "      <td>...</td>\n",
       "      <td>...</td>\n",
       "    </tr>\n",
       "    <tr>\n",
       "      <th>343</th>\n",
       "      <td>0.0</td>\n",
       "      <td>TEXT1: Anne; TEXT2: Dez anos antes, ela havia ...</td>\n",
       "      <td>0.0</td>\n",
       "      <td>True</td>\n",
       "    </tr>\n",
       "    <tr>\n",
       "      <th>344</th>\n",
       "      <td>1.0</td>\n",
       "      <td>TEXT1: Recep Tayyip Erdogan; TEXT2: O primeiro...</td>\n",
       "      <td>1.0</td>\n",
       "      <td>True</td>\n",
       "    </tr>\n",
       "    <tr>\n",
       "      <th>345</th>\n",
       "      <td>1.0</td>\n",
       "      <td>TEXT1: Francisco; TEXT2: Pois o mesmo Francisc...</td>\n",
       "      <td>1.0</td>\n",
       "      <td>True</td>\n",
       "    </tr>\n",
       "    <tr>\n",
       "      <th>346</th>\n",
       "      <td>0.0</td>\n",
       "      <td>TEXT1: Maria Van Kerkhove; TEXT2: A principal ...</td>\n",
       "      <td>0.0</td>\n",
       "      <td>True</td>\n",
       "    </tr>\n",
       "    <tr>\n",
       "      <th>347</th>\n",
       "      <td>1.0</td>\n",
       "      <td>TEXT1: Donald Trump; TEXT2: Os democratas no C...</td>\n",
       "      <td>1.0</td>\n",
       "      <td>True</td>\n",
       "    </tr>\n",
       "  </tbody>\n",
       "</table>\n",
       "<p>348 rows × 4 columns</p>\n",
       "</div>"
      ],
      "text/plain": [
       "     label                                              input  prediction  \\\n",
       "0      0.0  TEXT1: Svetlana Tikhanovskaya; TEXT2: O minist...         0.0   \n",
       "1      0.0  TEXT1: Cristiano Carvalho; TEXT2: O representa...         0.0   \n",
       "2      1.0  TEXT1: Joe Biden; TEXT2: Isso tem a ver com a ...         1.0   \n",
       "3      0.0  TEXT1: Ann Linde; TEXT2: \"Estamos tremendament...         0.0   \n",
       "4      0.0  TEXT1: Elizabeth Warren; TEXT2: Uma explicaça...         0.0   \n",
       "..     ...                                                ...         ...   \n",
       "343    0.0  TEXT1: Anne; TEXT2: Dez anos antes, ela havia ...         0.0   \n",
       "344    1.0  TEXT1: Recep Tayyip Erdogan; TEXT2: O primeiro...         1.0   \n",
       "345    1.0  TEXT1: Francisco; TEXT2: Pois o mesmo Francisc...         1.0   \n",
       "346    0.0  TEXT1: Maria Van Kerkhove; TEXT2: A principal ...         0.0   \n",
       "347    1.0  TEXT1: Donald Trump; TEXT2: Os democratas no C...         1.0   \n",
       "\n",
       "      hit  \n",
       "0    True  \n",
       "1    True  \n",
       "2    True  \n",
       "3    True  \n",
       "4    True  \n",
       "..    ...  \n",
       "343  True  \n",
       "344  True  \n",
       "345  True  \n",
       "346  True  \n",
       "347  True  \n",
       "\n",
       "[348 rows x 4 columns]"
      ]
     },
     "execution_count": 105,
     "metadata": {},
     "output_type": "execute_result"
    }
   ],
   "source": [
    "test_data_with_prediction"
   ]
  },
  {
   "cell_type": "markdown",
   "id": "7faec3ff-64be-4f18-a085-e31239a907da",
   "metadata": {},
   "source": [
    "Overview of the labels in the test dataset"
   ]
  },
  {
   "cell_type": "code",
   "execution_count": 106,
   "id": "4a74425f-3011-479d-a037-d40cd16836b8",
   "metadata": {},
   "outputs": [
    {
     "data": {
      "text/plain": [
       "1.0    177\n",
       "0.0    171\n",
       "Name: label, dtype: int64"
      ]
     },
     "execution_count": 106,
     "metadata": {},
     "output_type": "execute_result"
    }
   ],
   "source": [
    "test_data_with_prediction.label.value_counts()"
   ]
  },
  {
   "cell_type": "markdown",
   "id": "79558451-8ba2-4b73-b6d9-805a9f5df785",
   "metadata": {},
   "source": [
    "Overview of the hits (cases when the prediction matches the label)"
   ]
  },
  {
   "cell_type": "code",
   "execution_count": 107,
   "id": "a459025c-2b4e-4554-8dc9-2f8386f6fac5",
   "metadata": {},
   "outputs": [
    {
     "data": {
      "text/plain": [
       "True     344\n",
       "False      4\n",
       "Name: hit, dtype: int64"
      ]
     },
     "execution_count": 107,
     "metadata": {},
     "output_type": "execute_result"
    }
   ],
   "source": [
    "test_data_with_prediction.hit.value_counts()"
   ]
  },
  {
   "cell_type": "markdown",
   "id": "b2d354cd-2f0b-43cf-a507-c122fe7611a5",
   "metadata": {},
   "source": [
    "Show the cases when the prediction did not match the label"
   ]
  },
  {
   "cell_type": "code",
   "execution_count": 108,
   "id": "d7c195e7-423a-42a3-b6b6-751119cb5542",
   "metadata": {},
   "outputs": [
    {
     "data": {
      "text/html": [
       "<div>\n",
       "<style scoped>\n",
       "    .dataframe tbody tr th:only-of-type {\n",
       "        vertical-align: middle;\n",
       "    }\n",
       "\n",
       "    .dataframe tbody tr th {\n",
       "        vertical-align: top;\n",
       "    }\n",
       "\n",
       "    .dataframe thead th {\n",
       "        text-align: right;\n",
       "    }\n",
       "</style>\n",
       "<table border=\"1\" class=\"dataframe\">\n",
       "  <thead>\n",
       "    <tr style=\"text-align: right;\">\n",
       "      <th></th>\n",
       "      <th>label</th>\n",
       "      <th>input</th>\n",
       "      <th>prediction</th>\n",
       "      <th>hit</th>\n",
       "    </tr>\n",
       "  </thead>\n",
       "  <tbody>\n",
       "    <tr>\n",
       "      <th>256</th>\n",
       "      <td>0.0</td>\n",
       "      <td>TEXT1: Eteri Tutberidze; TEXT2: O COI pediu qu...</td>\n",
       "      <td>1.0</td>\n",
       "      <td>False</td>\n",
       "    </tr>\n",
       "    <tr>\n",
       "      <th>269</th>\n",
       "      <td>0.0</td>\n",
       "      <td>TEXT1: Idit Silman; TEXT2: Isso ocorreu sobret...</td>\n",
       "      <td>1.0</td>\n",
       "      <td>False</td>\n",
       "    </tr>\n",
       "    <tr>\n",
       "      <th>297</th>\n",
       "      <td>0.0</td>\n",
       "      <td>TEXT1: Wally Funk; TEXT2: A empresa aeroespaci...</td>\n",
       "      <td>1.0</td>\n",
       "      <td>False</td>\n",
       "    </tr>\n",
       "    <tr>\n",
       "      <th>326</th>\n",
       "      <td>1.0</td>\n",
       "      <td>TEXT1: Terrence Malick; TEXT2: Diversos críti...</td>\n",
       "      <td>0.0</td>\n",
       "      <td>False</td>\n",
       "    </tr>\n",
       "  </tbody>\n",
       "</table>\n",
       "</div>"
      ],
      "text/plain": [
       "     label                                              input  prediction  \\\n",
       "256    0.0  TEXT1: Eteri Tutberidze; TEXT2: O COI pediu qu...         1.0   \n",
       "269    0.0  TEXT1: Idit Silman; TEXT2: Isso ocorreu sobret...         1.0   \n",
       "297    0.0  TEXT1: Wally Funk; TEXT2: A empresa aeroespaci...         1.0   \n",
       "326    1.0  TEXT1: Terrence Malick; TEXT2: Diversos críti...         0.0   \n",
       "\n",
       "       hit  \n",
       "256  False  \n",
       "269  False  \n",
       "297  False  \n",
       "326  False  "
      ]
     },
     "execution_count": 108,
     "metadata": {},
     "output_type": "execute_result"
    }
   ],
   "source": [
    "test_data_with_prediction.query('hit==False')"
   ]
  },
  {
   "cell_type": "markdown",
   "id": "fee04c6e-33e4-4b2c-b12d-1a9035f0c69b",
   "metadata": {},
   "source": [
    "# Confusion matrix"
   ]
  },
  {
   "cell_type": "code",
   "execution_count": 109,
   "id": "3c1b97fe-225a-4ee5-84d1-2097aa1d4c75",
   "metadata": {},
   "outputs": [],
   "source": [
    "import sklearn"
   ]
  },
  {
   "cell_type": "code",
   "execution_count": 110,
   "id": "0a564a65-097c-4169-89f9-8ade801d13ac",
   "metadata": {},
   "outputs": [],
   "source": [
    "from sklearn.metrics import confusion_matrix, plot_confusion_matrix"
   ]
  },
  {
   "cell_type": "code",
   "execution_count": 111,
   "id": "d3642583-3867-411e-b962-41a831c1f3d4",
   "metadata": {},
   "outputs": [
    {
     "data": {
      "text/html": [
       "<div>\n",
       "<style scoped>\n",
       "    .dataframe tbody tr th:only-of-type {\n",
       "        vertical-align: middle;\n",
       "    }\n",
       "\n",
       "    .dataframe tbody tr th {\n",
       "        vertical-align: top;\n",
       "    }\n",
       "\n",
       "    .dataframe thead th {\n",
       "        text-align: right;\n",
       "    }\n",
       "</style>\n",
       "<table border=\"1\" class=\"dataframe\">\n",
       "  <thead>\n",
       "    <tr style=\"text-align: right;\">\n",
       "      <th></th>\n",
       "      <th>label</th>\n",
       "      <th>input</th>\n",
       "      <th>prediction</th>\n",
       "      <th>hit</th>\n",
       "    </tr>\n",
       "  </thead>\n",
       "  <tbody>\n",
       "    <tr>\n",
       "      <th>0</th>\n",
       "      <td>0.0</td>\n",
       "      <td>TEXT1: Svetlana Tikhanovskaya; TEXT2: O minist...</td>\n",
       "      <td>0.0</td>\n",
       "      <td>True</td>\n",
       "    </tr>\n",
       "    <tr>\n",
       "      <th>1</th>\n",
       "      <td>0.0</td>\n",
       "      <td>TEXT1: Cristiano Carvalho; TEXT2: O representa...</td>\n",
       "      <td>0.0</td>\n",
       "      <td>True</td>\n",
       "    </tr>\n",
       "    <tr>\n",
       "      <th>2</th>\n",
       "      <td>1.0</td>\n",
       "      <td>TEXT1: Joe Biden; TEXT2: Isso tem a ver com a ...</td>\n",
       "      <td>1.0</td>\n",
       "      <td>True</td>\n",
       "    </tr>\n",
       "    <tr>\n",
       "      <th>3</th>\n",
       "      <td>0.0</td>\n",
       "      <td>TEXT1: Ann Linde; TEXT2: \"Estamos tremendament...</td>\n",
       "      <td>0.0</td>\n",
       "      <td>True</td>\n",
       "    </tr>\n",
       "    <tr>\n",
       "      <th>4</th>\n",
       "      <td>0.0</td>\n",
       "      <td>TEXT1: Elizabeth Warren; TEXT2: Uma explicaça...</td>\n",
       "      <td>0.0</td>\n",
       "      <td>True</td>\n",
       "    </tr>\n",
       "    <tr>\n",
       "      <th>...</th>\n",
       "      <td>...</td>\n",
       "      <td>...</td>\n",
       "      <td>...</td>\n",
       "      <td>...</td>\n",
       "    </tr>\n",
       "    <tr>\n",
       "      <th>343</th>\n",
       "      <td>0.0</td>\n",
       "      <td>TEXT1: Anne; TEXT2: Dez anos antes, ela havia ...</td>\n",
       "      <td>0.0</td>\n",
       "      <td>True</td>\n",
       "    </tr>\n",
       "    <tr>\n",
       "      <th>344</th>\n",
       "      <td>1.0</td>\n",
       "      <td>TEXT1: Recep Tayyip Erdogan; TEXT2: O primeiro...</td>\n",
       "      <td>1.0</td>\n",
       "      <td>True</td>\n",
       "    </tr>\n",
       "    <tr>\n",
       "      <th>345</th>\n",
       "      <td>1.0</td>\n",
       "      <td>TEXT1: Francisco; TEXT2: Pois o mesmo Francisc...</td>\n",
       "      <td>1.0</td>\n",
       "      <td>True</td>\n",
       "    </tr>\n",
       "    <tr>\n",
       "      <th>346</th>\n",
       "      <td>0.0</td>\n",
       "      <td>TEXT1: Maria Van Kerkhove; TEXT2: A principal ...</td>\n",
       "      <td>0.0</td>\n",
       "      <td>True</td>\n",
       "    </tr>\n",
       "    <tr>\n",
       "      <th>347</th>\n",
       "      <td>1.0</td>\n",
       "      <td>TEXT1: Donald Trump; TEXT2: Os democratas no C...</td>\n",
       "      <td>1.0</td>\n",
       "      <td>True</td>\n",
       "    </tr>\n",
       "  </tbody>\n",
       "</table>\n",
       "<p>348 rows × 4 columns</p>\n",
       "</div>"
      ],
      "text/plain": [
       "     label                                              input  prediction  \\\n",
       "0      0.0  TEXT1: Svetlana Tikhanovskaya; TEXT2: O minist...         0.0   \n",
       "1      0.0  TEXT1: Cristiano Carvalho; TEXT2: O representa...         0.0   \n",
       "2      1.0  TEXT1: Joe Biden; TEXT2: Isso tem a ver com a ...         1.0   \n",
       "3      0.0  TEXT1: Ann Linde; TEXT2: \"Estamos tremendament...         0.0   \n",
       "4      0.0  TEXT1: Elizabeth Warren; TEXT2: Uma explicaça...         0.0   \n",
       "..     ...                                                ...         ...   \n",
       "343    0.0  TEXT1: Anne; TEXT2: Dez anos antes, ela havia ...         0.0   \n",
       "344    1.0  TEXT1: Recep Tayyip Erdogan; TEXT2: O primeiro...         1.0   \n",
       "345    1.0  TEXT1: Francisco; TEXT2: Pois o mesmo Francisc...         1.0   \n",
       "346    0.0  TEXT1: Maria Van Kerkhove; TEXT2: A principal ...         0.0   \n",
       "347    1.0  TEXT1: Donald Trump; TEXT2: Os democratas no C...         1.0   \n",
       "\n",
       "      hit  \n",
       "0    True  \n",
       "1    True  \n",
       "2    True  \n",
       "3    True  \n",
       "4    True  \n",
       "..    ...  \n",
       "343  True  \n",
       "344  True  \n",
       "345  True  \n",
       "346  True  \n",
       "347  True  \n",
       "\n",
       "[348 rows x 4 columns]"
      ]
     },
     "execution_count": 111,
     "metadata": {},
     "output_type": "execute_result"
    }
   ],
   "source": [
    "test_data_with_prediction"
   ]
  },
  {
   "cell_type": "code",
   "execution_count": 112,
   "id": "d402d214-4bf8-4bda-830e-b5f4641b5c98",
   "metadata": {},
   "outputs": [
    {
     "data": {
      "text/plain": [
       "1.0    177\n",
       "0.0    171\n",
       "Name: label, dtype: int64"
      ]
     },
     "execution_count": 112,
     "metadata": {},
     "output_type": "execute_result"
    }
   ],
   "source": [
    "test_data_with_prediction.label.value_counts()"
   ]
  },
  {
   "cell_type": "code",
   "execution_count": 113,
   "id": "7d51e9e3-4faf-4b07-8d89-97ed7ec246a1",
   "metadata": {},
   "outputs": [],
   "source": [
    "import seaborn as sn\n",
    "from sklearn.metrics import confusion_matrix, plot_confusion_matrix"
   ]
  },
  {
   "cell_type": "markdown",
   "id": "929eb2cd-bf7e-4052-b07c-ba7c670942e4",
   "metadata": {},
   "source": [
    "Put labels values and predicted values in a list-like object"
   ]
  },
  {
   "cell_type": "code",
   "execution_count": 114,
   "id": "d363deba-bd1a-4219-bfba-0a358187d90d",
   "metadata": {},
   "outputs": [
    {
     "name": "stdout",
     "output_type": "stream",
     "text": [
      "[0.0, 0.0, 1.0, 0.0, 0.0, 0.0, 1.0, 0.0, 0.0, 0.0]\n",
      "[0.0, 0.0, 1.0, 0.0, 0.0, 0.0, 1.0, 0.0, 0.0, 0.0]\n"
     ]
    }
   ],
   "source": [
    "y_true = test_data_with_prediction.label.tolist()\n",
    "y_pred = test_data_with_prediction.prediction.tolist()\n",
    "\n",
    "print(y_true[:10])\n",
    "print(y_pred[:10])"
   ]
  },
  {
   "cell_type": "markdown",
   "id": "9cb18fd7-9766-46f1-b1d1-aa50d27f1b3c",
   "metadata": {},
   "source": [
    "Generate the confussion matrix"
   ]
  },
  {
   "cell_type": "code",
   "execution_count": 115,
   "id": "19726d9a-ba2a-4a43-9030-cf55509f48b5",
   "metadata": {},
   "outputs": [
    {
     "data": {
      "text/plain": [
       "array([[168,   3],\n",
       "       [  1, 176]])"
      ]
     },
     "execution_count": 115,
     "metadata": {},
     "output_type": "execute_result"
    }
   ],
   "source": [
    "cm = confusion_matrix(y_true=y_true, y_pred=y_pred)\n",
    "cm"
   ]
  },
  {
   "cell_type": "markdown",
   "id": "74207e8f-7e59-4d94-9f08-a7c17da198d8",
   "metadata": {},
   "source": [
    "Make it into a Pandas DataFrame to add label names"
   ]
  },
  {
   "cell_type": "code",
   "execution_count": 116,
   "id": "4263f538-bc13-4e7c-b202-e37c09f77ef6",
   "metadata": {},
   "outputs": [
    {
     "data": {
      "text/html": [
       "<div>\n",
       "<style scoped>\n",
       "    .dataframe tbody tr th:only-of-type {\n",
       "        vertical-align: middle;\n",
       "    }\n",
       "\n",
       "    .dataframe tbody tr th {\n",
       "        vertical-align: top;\n",
       "    }\n",
       "\n",
       "    .dataframe thead th {\n",
       "        text-align: right;\n",
       "    }\n",
       "</style>\n",
       "<table border=\"1\" class=\"dataframe\">\n",
       "  <thead>\n",
       "    <tr style=\"text-align: right;\">\n",
       "      <th></th>\n",
       "      <th>male</th>\n",
       "      <th>female</th>\n",
       "    </tr>\n",
       "  </thead>\n",
       "  <tbody>\n",
       "    <tr>\n",
       "      <th>male</th>\n",
       "      <td>168</td>\n",
       "      <td>3</td>\n",
       "    </tr>\n",
       "    <tr>\n",
       "      <th>female</th>\n",
       "      <td>1</td>\n",
       "      <td>176</td>\n",
       "    </tr>\n",
       "  </tbody>\n",
       "</table>\n",
       "</div>"
      ],
      "text/plain": [
       "        male  female\n",
       "male     168       3\n",
       "female     1     176"
      ]
     },
     "execution_count": 116,
     "metadata": {},
     "output_type": "execute_result"
    }
   ],
   "source": [
    "df_cm = pd.DataFrame(cm, index=['male','female'], columns=['male','female'])\n",
    "df_cm"
   ]
  },
  {
   "cell_type": "markdown",
   "id": "5b9584ac-86a5-4877-8afa-fe9bca921ae4",
   "metadata": {},
   "source": [
    "Plot"
   ]
  },
  {
   "cell_type": "code",
   "execution_count": 117,
   "id": "63b89515-b3cf-41e3-b74b-65bf0163e8ed",
   "metadata": {},
   "outputs": [
    {
     "data": {
      "text/plain": [
       "Text(0.5, 23.52222222222222, 'Labelled')"
      ]
     },
     "execution_count": 117,
     "metadata": {},
     "output_type": "execute_result"
    },
    {
     "data": {
      "image/png": "[encoded data removed]",
      "text/plain": [
       "<Figure size 640x480 with 2 Axes>"
      ]
     },
     "metadata": {},
     "output_type": "display_data"
    }
   ],
   "source": [
    "fig, ax = plt.subplots()\n",
    "sn.heatmap(df_cm, annot=True, ax=ax, fmt='.0f')\n",
    "ax.set_ylabel('Predicted')\n",
    "ax.set_xlabel('Labelled')"
   ]
  },
  {
   "cell_type": "markdown",
   "id": "526592e1-bd07-4388-85aa-d5976bb072ae",
   "metadata": {},
   "source": [
    "# Read model"
   ]
  },
  {
   "cell_type": "markdown",
   "id": "ac9c342c-ab6b-4f9e-8e2b-7025ed507f5e",
   "metadata": {},
   "source": [
    "**We did not know how to properly restore a saved model. Therefore, the opted workaround was to repeat all the steps above except for the training one. That way, we can utilize our model in the same way we did when we applied it to the test dataset**"
   ]
  },
  {
   "cell_type": "markdown",
   "id": "0f8021d5-ea9e-46ae-a1bc-4b648e77651f",
   "metadata": {},
   "source": [
    "*Note that the code below assumes that the variables `test_data`, `args`, `dds`, `tokz`, `eval_ds` are still loaded in the memory. If they are not, those variables need to be loaded again from previous cells."
   ]
  },
  {
   "cell_type": "code",
   "execution_count": 14,
   "id": "29629c41-5450-467c-a95c-1f71a0e46a32",
   "metadata": {
    "tags": []
   },
   "outputs": [],
   "source": [
    "model_tmp = AutoModelForSequenceClassification.from_pretrained('bert-base-multilingual-cased-ner-hrl-namesGenderPTv2')"
   ]
  },
  {
   "cell_type": "code",
   "execution_count": 311,
   "id": "58d5b323-c6f5-4e89-84e0-b758a8024467",
   "metadata": {},
   "outputs": [
    {
     "data": {
      "text/plain": [
       "'TEXT1: Svetlana Tikhanovskaya; TEXT2: O ministro das Relações Exteriores da Lituânia, Linas Linkevicius, disse nesta terça-feira (11/08) que a candidata da oposição de Svetlana Tikhanovskaya deixou Belarus e \"está em segurança\" no país vizinho. O paradeiro de Tikhanovskaya era desconhecido na segunda-feira, após as eleições de domingo.'"
      ]
     },
     "execution_count": 311,
     "metadata": {},
     "output_type": "execute_result"
    }
   ],
   "source": [
    "test_data.iloc[0]['input']"
   ]
  },
  {
   "cell_type": "code",
   "execution_count": 312,
   "id": "b6f7cf0c-83da-4b6b-bf11-3ce1f1c42b91",
   "metadata": {},
   "outputs": [],
   "source": [
    "text_tmp = test_data.iloc[0]['input']"
   ]
  },
  {
   "cell_type": "code",
   "execution_count": 324,
   "id": "70bb7cc7-6687-4921-b122-15bff48411de",
   "metadata": {},
   "outputs": [],
   "source": [
    "trainer_tmp = Trainer(model_tmp, args, train_dataset=dds['train'], eval_dataset=dds['test'], tokenizer=tokz)"
   ]
  },
  {
   "cell_type": "code",
   "execution_count": 325,
   "id": "94d7e3cf-1ea9-43e1-bc4d-83c1f9016ec2",
   "metadata": {
    "collapsed": true,
    "jupyter": {
     "outputs_hidden": true
    },
    "tags": []
   },
   "outputs": [
    {
     "name": "stderr",
     "output_type": "stream",
     "text": [
      "The following columns in the test set don't have a corresponding argument in `BertForSequenceClassification.forward` and have been ignored: input. If input are not expected by `BertForSequenceClassification.forward`,  you can safely ignore this message.\n",
      "***** Running Prediction *****\n",
      "  Num examples = 348\n",
      "  Batch size = 256\n"
     ]
    },
    {
     "data": {
      "text/html": [],
      "text/plain": [
       "<IPython.core.display.HTML object>"
      ]
     },
     "metadata": {},
     "output_type": "display_data"
    },
    {
     "data": {
      "text/plain": [
       "array([[-3.75254713e-02],\n",
       "       [-1.81956366e-02],\n",
       "       [ 1.04794741e+00],\n",
       "       [-2.54409201e-02],\n",
       "       [-3.32937948e-02],\n",
       "       [-3.44730653e-02],\n",
       "       [ 1.00608718e+00],\n",
       "       [ 4.38465998e-02],\n",
       "       [ 1.72520205e-02],\n",
       "       [-1.57203041e-02],\n",
       "       [ 1.05983043e+00],\n",
       "       [ 1.04094124e+00],\n",
       "       [ 1.04528630e+00],\n",
       "       [-3.02419513e-02],\n",
       "       [-3.55342515e-02],\n",
       "       [ 1.05263722e+00],\n",
       "       [-3.89764570e-02],\n",
       "       [ 3.73351611e-02],\n",
       "       [ 1.04174221e+00],\n",
       "       [ 1.04001474e+00],\n",
       "       [ 1.05385435e+00],\n",
       "       [-4.38361429e-02],\n",
       "       [-3.11842933e-02],\n",
       "       [ 1.04556370e+00],\n",
       "       [ 1.06290972e+00],\n",
       "       [-2.76480578e-02],\n",
       "       [ 9.90332365e-01],\n",
       "       [-2.74651200e-02],\n",
       "       [ 1.04021621e+00],\n",
       "       [ 3.87104321e-03],\n",
       "       [ 1.05667543e+00],\n",
       "       [-3.29848044e-02],\n",
       "       [ 1.04174221e+00],\n",
       "       [ 1.39464820e-02],\n",
       "       [-3.29848044e-02],\n",
       "       [-3.88673134e-02],\n",
       "       [-1.86244510e-02],\n",
       "       [-3.87609974e-02],\n",
       "       [-1.67852007e-02],\n",
       "       [-2.03045085e-02],\n",
       "       [-1.05779683e-02],\n",
       "       [-8.47035181e-03],\n",
       "       [ 1.05866694e+00],\n",
       "       [-3.29848044e-02],\n",
       "       [ 1.04686499e+00],\n",
       "       [-2.76480578e-02],\n",
       "       [-3.92291509e-02],\n",
       "       [ 1.03162467e+00],\n",
       "       [ 9.96096015e-01],\n",
       "       [ 1.04546773e+00],\n",
       "       [ 1.05731857e+00],\n",
       "       [ 1.06089950e+00],\n",
       "       [ 1.68476701e-02],\n",
       "       [ 1.06563544e+00],\n",
       "       [-2.89489664e-02],\n",
       "       [ 1.02910233e+00],\n",
       "       [ 1.02847171e+00],\n",
       "       [-2.00130828e-02],\n",
       "       [ 1.03682899e+00],\n",
       "       [ 1.02583432e+00],\n",
       "       [-2.14575268e-02],\n",
       "       [ 1.05284691e+00],\n",
       "       [-1.70526691e-02],\n",
       "       [ 1.02123845e+00],\n",
       "       [ 1.05737472e+00],\n",
       "       [ 1.04330814e+00],\n",
       "       [ 7.18194246e-02],\n",
       "       [ 1.02816796e+00],\n",
       "       [ 1.05245900e+00],\n",
       "       [-3.62965688e-02],\n",
       "       [ 1.04362082e+00],\n",
       "       [-3.58846895e-02],\n",
       "       [ 1.05413830e+00],\n",
       "       [ 1.04749179e+00],\n",
       "       [ 1.04983115e+00],\n",
       "       [ 1.05907869e+00],\n",
       "       [ 1.04240322e+00],\n",
       "       [ 1.03050089e+00],\n",
       "       [-2.17924919e-03],\n",
       "       [-2.18601450e-02],\n",
       "       [ 1.05783689e+00],\n",
       "       [ 1.04453063e+00],\n",
       "       [ 2.24596605e-01],\n",
       "       [ 1.03899395e+00],\n",
       "       [ 5.74733038e-03],\n",
       "       [-2.04966031e-02],\n",
       "       [ 9.61024761e-01],\n",
       "       [-2.46087387e-02],\n",
       "       [ 1.05912352e+00],\n",
       "       [ 1.04483187e+00],\n",
       "       [ 8.89380369e-03],\n",
       "       [ 1.02774107e+00],\n",
       "       [ 1.04588175e+00],\n",
       "       [ 1.02683938e+00],\n",
       "       [ 1.05263722e+00],\n",
       "       [-2.32764296e-02],\n",
       "       [-7.02985562e-04],\n",
       "       [-3.62965688e-02],\n",
       "       [ 1.03628778e+00],\n",
       "       [-2.25361735e-02],\n",
       "       [ 1.05195761e+00],\n",
       "       [-2.17621736e-02],\n",
       "       [ 1.06223667e+00],\n",
       "       [-3.29848044e-02],\n",
       "       [ 1.04453063e+00],\n",
       "       [ 1.03299999e+00],\n",
       "       [ 1.07025290e+00],\n",
       "       [ 1.05565715e+00],\n",
       "       [-5.11286929e-02],\n",
       "       [ 1.05955815e+00],\n",
       "       [ 1.05700350e+00],\n",
       "       [-2.12145634e-02],\n",
       "       [-2.06855647e-02],\n",
       "       [ 1.04621637e+00],\n",
       "       [ 1.05475259e+00],\n",
       "       [ 1.06404376e+00],\n",
       "       [-1.57523192e-02],\n",
       "       [ 1.06238151e+00],\n",
       "       [ 8.25178549e-02],\n",
       "       [ 1.04453063e+00],\n",
       "       [ 2.32603133e-01],\n",
       "       [ 1.01776052e+00],\n",
       "       [-1.91115290e-02],\n",
       "       [-1.56584680e-02],\n",
       "       [-3.84039581e-02],\n",
       "       [ 1.05574703e+00],\n",
       "       [ 1.05287671e+00],\n",
       "       [-2.33252384e-02],\n",
       "       [ 1.04617262e+00],\n",
       "       [-3.89764570e-02],\n",
       "       [-2.35740766e-02],\n",
       "       [ 1.05221546e+00],\n",
       "       [-3.61267626e-02],\n",
       "       [ 1.04472184e+00],\n",
       "       [-9.57953464e-03],\n",
       "       [ 1.06186748e+00],\n",
       "       [-2.10684687e-02],\n",
       "       [-3.29854675e-02],\n",
       "       [ 1.05724204e+00],\n",
       "       [-1.29219992e-02],\n",
       "       [ 6.34626485e-04],\n",
       "       [ 1.04357195e+00],\n",
       "       [ 1.00896573e+00],\n",
       "       [ 1.03663146e+00],\n",
       "       [ 1.04300398e-03],\n",
       "       [ 1.02746999e+00],\n",
       "       [-3.93461883e-02],\n",
       "       [-3.49379517e-02],\n",
       "       [-1.13280779e-02],\n",
       "       [ 1.04771352e+00],\n",
       "       [ 1.05906641e+00],\n",
       "       [-3.80243175e-02],\n",
       "       [-3.62275541e-02],\n",
       "       [ 1.04701614e+00],\n",
       "       [-1.32323606e-02],\n",
       "       [ 1.04775202e+00],\n",
       "       [ 3.29012498e-02],\n",
       "       [-1.63155571e-02],\n",
       "       [-1.81049444e-02],\n",
       "       [-2.23750025e-02],\n",
       "       [ 1.05086267e+00],\n",
       "       [-1.26510812e-02],\n",
       "       [ 1.04650569e+00],\n",
       "       [ 3.50308698e-03],\n",
       "       [ 1.04619646e+00],\n",
       "       [ 1.03947985e+00],\n",
       "       [-4.00699936e-02],\n",
       "       [-3.72739471e-02],\n",
       "       [ 1.04004407e+00],\n",
       "       [ 1.05235291e+00],\n",
       "       [-1.15799112e-02],\n",
       "       [ 1.06431270e+00],\n",
       "       [ 1.04926896e+00],\n",
       "       [ 1.03650188e+00],\n",
       "       [-2.66752690e-02],\n",
       "       [ 1.01042128e+00],\n",
       "       [ 1.03715396e+00],\n",
       "       [ 1.06185651e+00],\n",
       "       [-4.01699208e-02],\n",
       "       [ 9.77514446e-01],\n",
       "       [ 1.00400472e+00],\n",
       "       [ 1.07802415e+00],\n",
       "       [-3.99532840e-02],\n",
       "       [-2.93006338e-02],\n",
       "       [-4.21879347e-03],\n",
       "       [-7.40986969e-03],\n",
       "       [-1.46709522e-02],\n",
       "       [ 9.72576976e-01],\n",
       "       [ 9.40215290e-01],\n",
       "       [ 1.02448595e+00],\n",
       "       [ 9.96351242e-01],\n",
       "       [ 1.05356956e+00],\n",
       "       [ 1.05174029e+00],\n",
       "       [ 3.65296528e-02],\n",
       "       [ 1.05396557e+00],\n",
       "       [ 1.04502678e+00],\n",
       "       [ 1.04360878e+00],\n",
       "       [ 1.05657208e+00],\n",
       "       [ 1.00792336e+00],\n",
       "       [ 1.05640793e+00],\n",
       "       [ 1.06392491e+00],\n",
       "       [ 1.05511427e+00],\n",
       "       [-1.20638041e-02],\n",
       "       [-2.51389630e-02],\n",
       "       [-2.33995244e-02],\n",
       "       [ 1.03777170e+00],\n",
       "       [ 1.04357231e+00],\n",
       "       [ 4.41142265e-03],\n",
       "       [ 1.03947985e+00],\n",
       "       [ 1.04191828e+00],\n",
       "       [ 1.28850952e-01],\n",
       "       [ 1.04621637e+00],\n",
       "       [ 1.02825356e+00],\n",
       "       [-3.29848044e-02],\n",
       "       [ 1.05429721e+00],\n",
       "       [ 1.04701614e+00],\n",
       "       [-3.29848044e-02],\n",
       "       [ 1.05690002e+00],\n",
       "       [-4.36507016e-02],\n",
       "       [-1.35077713e-02],\n",
       "       [-2.70396732e-02],\n",
       "       [-2.20278054e-02],\n",
       "       [ 1.06145692e+00],\n",
       "       [ 7.95258116e-03],\n",
       "       [ 1.05885124e+00],\n",
       "       [-2.76480578e-02],\n",
       "       [-1.04400022e-02],\n",
       "       [-2.32705176e-02],\n",
       "       [-3.33981514e-02],\n",
       "       [ 1.05921805e+00],\n",
       "       [ 1.04925752e+00],\n",
       "       [-3.21982317e-02],\n",
       "       [ 1.04722524e+00],\n",
       "       [ 1.04827142e+00],\n",
       "       [ 1.06308651e+00],\n",
       "       [ 1.04174221e+00],\n",
       "       [-3.28667387e-02],\n",
       "       [-3.92555036e-02],\n",
       "       [ 1.05651999e+00],\n",
       "       [-3.46559994e-02],\n",
       "       [ 1.06170917e+00],\n",
       "       [ 1.38707692e-02],\n",
       "       [ 1.03059757e+00],\n",
       "       [-4.57948409e-02],\n",
       "       [ 9.58152890e-01],\n",
       "       [-1.52268400e-02],\n",
       "       [ 1.04557872e+00],\n",
       "       [ 2.57526375e-02],\n",
       "       [ 7.34998845e-04],\n",
       "       [-2.40207314e-02],\n",
       "       [-3.47067118e-02],\n",
       "       [ 1.04350686e+00],\n",
       "       [ 1.03524590e+00],\n",
       "       [-3.26049775e-02],\n",
       "       [ 1.05775177e+00],\n",
       "       [-3.97126898e-02],\n",
       "       [ 9.76185381e-01],\n",
       "       [ 1.04274774e+00],\n",
       "       [-2.32321098e-02],\n",
       "       [-1.76288150e-02],\n",
       "       [ 1.04453063e+00],\n",
       "       [ 3.48117679e-01],\n",
       "       [ 1.03542769e+00],\n",
       "       [ 1.04356027e+00],\n",
       "       [ 1.05604923e+00],\n",
       "       [-3.47936712e-02],\n",
       "       [ 1.04158878e+00],\n",
       "       [ 1.04997504e+00],\n",
       "       [-1.53267598e-02],\n",
       "       [ 7.40952253e-01],\n",
       "       [ 1.06453228e+00],\n",
       "       [-1.52801638e-02],\n",
       "       [ 1.04710436e+00],\n",
       "       [ 1.05094647e+00],\n",
       "       [ 1.06088448e+00],\n",
       "       [-1.65563859e-02],\n",
       "       [ 1.05911243e+00],\n",
       "       [ 1.00160527e+00],\n",
       "       [-2.74438635e-02],\n",
       "       [ 1.05819654e+00],\n",
       "       [-3.54222953e-02],\n",
       "       [-3.61764356e-02],\n",
       "       [ 1.06398392e+00],\n",
       "       [ 1.05925226e+00],\n",
       "       [ 1.04353034e+00],\n",
       "       [ 1.02102828e+00],\n",
       "       [-2.80051343e-02],\n",
       "       [-3.89764570e-02],\n",
       "       [-2.71250829e-02],\n",
       "       [ 1.06589890e+00],\n",
       "       [ 1.05552864e+00],\n",
       "       [-3.91032957e-02],\n",
       "       [ 1.03038061e+00],\n",
       "       [ 1.00603414e+00],\n",
       "       [-3.11848596e-02],\n",
       "       [-3.09912972e-02],\n",
       "       [ 1.05779207e+00],\n",
       "       [ 1.36422127e-01],\n",
       "       [-3.68282571e-02],\n",
       "       [ 2.09419802e-02],\n",
       "       [ 1.04621637e+00],\n",
       "       [ 9.73834455e-01],\n",
       "       [-2.53261365e-02],\n",
       "       [ 1.05449915e+00],\n",
       "       [-3.57175060e-02],\n",
       "       [ 1.05585718e+00],\n",
       "       [-5.85973915e-03],\n",
       "       [ 1.04236734e+00],\n",
       "       [-2.27863379e-02],\n",
       "       [-2.48628706e-02],\n",
       "       [ 7.07064755e-04],\n",
       "       [ 2.70106718e-02],\n",
       "       [ 1.04926908e+00],\n",
       "       [-2.64660269e-02],\n",
       "       [ 1.01248765e+00],\n",
       "       [-3.29848044e-02],\n",
       "       [-3.29848044e-02],\n",
       "       [ 2.78875083e-01],\n",
       "       [-3.57832611e-02],\n",
       "       [-3.09526995e-02],\n",
       "       [ 1.04348779e+00],\n",
       "       [-8.63344874e-03],\n",
       "       [ 1.04240930e+00],\n",
       "       [-4.05809358e-02],\n",
       "       [ 1.87966302e-01],\n",
       "       [-3.07432152e-02],\n",
       "       [ 6.82704151e-01],\n",
       "       [-3.23068760e-02],\n",
       "       [ 1.06044912e+00],\n",
       "       [-2.35157274e-02],\n",
       "       [-4.82344292e-02],\n",
       "       [ 1.04174221e+00],\n",
       "       [ 1.02752614e+00],\n",
       "       [ 1.04639220e+00],\n",
       "       [ 1.06694520e+00],\n",
       "       [-3.29948142e-02],\n",
       "       [ 1.06905186e+00],\n",
       "       [-2.01268233e-02],\n",
       "       [ 1.04321897e+00],\n",
       "       [ 1.04621637e+00],\n",
       "       [-1.94969065e-02],\n",
       "       [-2.64044777e-02],\n",
       "       [ 1.04939878e+00],\n",
       "       [-2.28998344e-03],\n",
       "       [ 1.04939878e+00],\n",
       "       [ 1.01127684e+00],\n",
       "       [-3.33376415e-02],\n",
       "       [ 1.06264293e+00]])"
      ]
     },
     "execution_count": 325,
     "metadata": {},
     "output_type": "execute_result"
    }
   ],
   "source": [
    "trainer_tmp.predict(eval_ds).predictions.astype(float)"
   ]
  },
  {
   "cell_type": "code",
   "execution_count": null,
   "id": "d4673c68-0678-4607-99a1-e01bf8613dc0",
   "metadata": {},
   "outputs": [],
   "source": []
  },
  {
   "cell_type": "markdown",
   "id": "f6f6b1a9-9e7f-4c43-9613-bf1488a6fe72",
   "metadata": {},
   "source": [
    "# Compare test dataset against training dataset"
   ]
  },
  {
   "cell_type": "markdown",
   "id": "1511106d-148c-456c-aee1-355eb79de4dd",
   "metadata": {},
   "source": [
    "We will use the suffix `2` to prevent overwriting those variables (in case they are still loaded in the memory)"
   ]
  },
  {
   "cell_type": "code",
   "execution_count": 16,
   "id": "49534046-1987-4de4-ab92-b30271924112",
   "metadata": {},
   "outputs": [],
   "source": [
    "inputdir = Path.cwd()\n",
    "\n",
    "filename = 'portuguese_training_data_v5.csv'\n",
    "data2 = pd.read_csv(inputdir/filename)\n",
    "\n",
    "filename = 'portuguese_test_data_v5.csv'\n",
    "test_data2 = pd.read_csv(inputdir/filename)"
   ]
  },
  {
   "cell_type": "code",
   "execution_count": 17,
   "id": "e0ff212f-6fed-47d2-b43d-7f6ca227232f",
   "metadata": {},
   "outputs": [
    {
     "data": {
      "text/html": [
       "<div>\n",
       "<style scoped>\n",
       "    .dataframe tbody tr th:only-of-type {\n",
       "        vertical-align: middle;\n",
       "    }\n",
       "\n",
       "    .dataframe tbody tr th {\n",
       "        vertical-align: top;\n",
       "    }\n",
       "\n",
       "    .dataframe thead th {\n",
       "        text-align: right;\n",
       "    }\n",
       "</style>\n",
       "<table border=\"1\" class=\"dataframe\">\n",
       "  <thead>\n",
       "    <tr style=\"text-align: right;\">\n",
       "      <th></th>\n",
       "      <th>id</th>\n",
       "      <th>name</th>\n",
       "      <th>full_text</th>\n",
       "      <th>label</th>\n",
       "      <th>input</th>\n",
       "    </tr>\n",
       "  </thead>\n",
       "  <tbody>\n",
       "    <tr>\n",
       "      <th>0</th>\n",
       "      <td>54523862</td>\n",
       "      <td>Svetlana Tikhanovskaya</td>\n",
       "      <td>O ministro das Relações Exteriores da Lituâ...</td>\n",
       "      <td>0.0</td>\n",
       "      <td>TEXT1: Svetlana Tikhanovskaya; TEXT2: O minist...</td>\n",
       "    </tr>\n",
       "    <tr>\n",
       "      <th>1</th>\n",
       "      <td>58283114</td>\n",
       "      <td>Cristiano Carvalho</td>\n",
       "      <td>O representante da Davati Medical Supply, Cris...</td>\n",
       "      <td>0.0</td>\n",
       "      <td>TEXT1: Cristiano Carvalho; TEXT2: O representa...</td>\n",
       "    </tr>\n",
       "    <tr>\n",
       "      <th>2</th>\n",
       "      <td>60084542</td>\n",
       "      <td>Joe Biden</td>\n",
       "      <td>A partir deste sábado (11/12), brasileiros qu...</td>\n",
       "      <td>1.0</td>\n",
       "      <td>TEXT1: Joe Biden; TEXT2: A partir deste sábad...</td>\n",
       "    </tr>\n",
       "    <tr>\n",
       "      <th>3</th>\n",
       "      <td>62366291</td>\n",
       "      <td>Ann Linde</td>\n",
       "      <td>Embaixadores dos 30 países-membros da Otan as...</td>\n",
       "      <td>0.0</td>\n",
       "      <td>TEXT1: Ann Linde; TEXT2: Embaixadores dos 30 p...</td>\n",
       "    </tr>\n",
       "    <tr>\n",
       "      <th>4</th>\n",
       "      <td>52292779</td>\n",
       "      <td>Elizabeth Warren</td>\n",
       "      <td>A confusa primária democrata em Iowa lançou ...</td>\n",
       "      <td>0.0</td>\n",
       "      <td>TEXT1: Elizabeth Warren; TEXT2: A confusa prim...</td>\n",
       "    </tr>\n",
       "  </tbody>\n",
       "</table>\n",
       "</div>"
      ],
      "text/plain": [
       "         id                    name  \\\n",
       "0  54523862  Svetlana Tikhanovskaya   \n",
       "1  58283114      Cristiano Carvalho   \n",
       "2  60084542               Joe Biden   \n",
       "3  62366291               Ann Linde   \n",
       "4  52292779        Elizabeth Warren   \n",
       "\n",
       "                                           full_text  label  \\\n",
       "0  O ministro das Relações Exteriores da Lituâ...    0.0   \n",
       "1  O representante da Davati Medical Supply, Cris...    0.0   \n",
       "2  A partir deste sábado (11/12), brasileiros qu...    1.0   \n",
       "3  Embaixadores dos 30 países-membros da Otan as...    0.0   \n",
       "4  A confusa primária democrata em Iowa lançou ...    0.0   \n",
       "\n",
       "                                               input  \n",
       "0  TEXT1: Svetlana Tikhanovskaya; TEXT2: O minist...  \n",
       "1  TEXT1: Cristiano Carvalho; TEXT2: O representa...  \n",
       "2  TEXT1: Joe Biden; TEXT2: A partir deste sábad...  \n",
       "3  TEXT1: Ann Linde; TEXT2: Embaixadores dos 30 p...  \n",
       "4  TEXT1: Elizabeth Warren; TEXT2: A confusa prim...  "
      ]
     },
     "execution_count": 17,
     "metadata": {},
     "output_type": "execute_result"
    }
   ],
   "source": [
    "test_data2.head()"
   ]
  },
  {
   "cell_type": "code",
   "execution_count": 18,
   "id": "9d6b2c7c-f839-4b03-8d7e-c9f7e9c4c7c5",
   "metadata": {},
   "outputs": [
    {
     "data": {
      "text/html": [
       "<div>\n",
       "<style scoped>\n",
       "    .dataframe tbody tr th:only-of-type {\n",
       "        vertical-align: middle;\n",
       "    }\n",
       "\n",
       "    .dataframe tbody tr th {\n",
       "        vertical-align: top;\n",
       "    }\n",
       "\n",
       "    .dataframe thead th {\n",
       "        text-align: right;\n",
       "    }\n",
       "</style>\n",
       "<table border=\"1\" class=\"dataframe\">\n",
       "  <thead>\n",
       "    <tr style=\"text-align: right;\">\n",
       "      <th></th>\n",
       "      <th>id</th>\n",
       "      <th>name</th>\n",
       "      <th>full_text</th>\n",
       "      <th>label</th>\n",
       "      <th>input</th>\n",
       "    </tr>\n",
       "  </thead>\n",
       "  <tbody>\n",
       "    <tr>\n",
       "      <th>0</th>\n",
       "      <td>54153414</td>\n",
       "      <td>Andrzej Duda</td>\n",
       "      <td>A comissão eleitoral da Polônia anunciou nes...</td>\n",
       "      <td>1.0</td>\n",
       "      <td>TEXT1: Andrzej Duda; TEXT2: A comissão eleito...</td>\n",
       "    </tr>\n",
       "    <tr>\n",
       "      <th>1</th>\n",
       "      <td>55253572</td>\n",
       "      <td>Erich Honecker</td>\n",
       "      <td>Natural e casual, elegantemente trajando ócul...</td>\n",
       "      <td>1.0</td>\n",
       "      <td>TEXT1: Erich Honecker; TEXT2: Natural e casual...</td>\n",
       "    </tr>\n",
       "    <tr>\n",
       "      <th>2</th>\n",
       "      <td>58168985</td>\n",
       "      <td>Chris Whitty</td>\n",
       "      <td>Apesar do número crescente de casos de covid-...</td>\n",
       "      <td>0.0</td>\n",
       "      <td>TEXT1: Chris Whitty; TEXT2: Apesar do número ...</td>\n",
       "    </tr>\n",
       "    <tr>\n",
       "      <th>3</th>\n",
       "      <td>53821497</td>\n",
       "      <td>Luiz Henrique Mandetta</td>\n",
       "      <td>A Food and Drug Administration (FDA), agência...</td>\n",
       "      <td>1.0</td>\n",
       "      <td>TEXT1: Luiz Henrique Mandetta; TEXT2: A Food a...</td>\n",
       "    </tr>\n",
       "    <tr>\n",
       "      <th>4</th>\n",
       "      <td>57170897</td>\n",
       "      <td>Angela Merkel</td>\n",
       "      <td>O populismo de direita alemão deu um passo ma...</td>\n",
       "      <td>0.0</td>\n",
       "      <td>TEXT1: Angela Merkel; TEXT2: O populismo de di...</td>\n",
       "    </tr>\n",
       "  </tbody>\n",
       "</table>\n",
       "</div>"
      ],
      "text/plain": [
       "         id                    name  \\\n",
       "0  54153414            Andrzej Duda   \n",
       "1  55253572          Erich Honecker   \n",
       "2  58168985            Chris Whitty   \n",
       "3  53821497  Luiz Henrique Mandetta   \n",
       "4  57170897           Angela Merkel   \n",
       "\n",
       "                                           full_text  label  \\\n",
       "0  A comissão eleitoral da Polônia anunciou nes...    1.0   \n",
       "1  Natural e casual, elegantemente trajando ócul...    1.0   \n",
       "2  Apesar do número crescente de casos de covid-...    0.0   \n",
       "3  A Food and Drug Administration (FDA), agência...    1.0   \n",
       "4  O populismo de direita alemão deu um passo ma...    0.0   \n",
       "\n",
       "                                               input  \n",
       "0  TEXT1: Andrzej Duda; TEXT2: A comissão eleito...  \n",
       "1  TEXT1: Erich Honecker; TEXT2: Natural e casual...  \n",
       "2  TEXT1: Chris Whitty; TEXT2: Apesar do número ...  \n",
       "3  TEXT1: Luiz Henrique Mandetta; TEXT2: A Food a...  \n",
       "4  TEXT1: Angela Merkel; TEXT2: O populismo de di...  "
      ]
     },
     "execution_count": 18,
     "metadata": {},
     "output_type": "execute_result"
    }
   ],
   "source": [
    "data2.head()"
   ]
  },
  {
   "cell_type": "markdown",
   "id": "8629c846-f796-46bd-a667-e724acac1c42",
   "metadata": {},
   "source": [
    "Check if the names we use in the test data were also present in the training data and therefore chances are that the model is just repeating the answer for those names"
   ]
  },
  {
   "cell_type": "code",
   "execution_count": 374,
   "id": "33510ea8-b4a8-4bcf-8921-5cb64df7ec55",
   "metadata": {},
   "outputs": [],
   "source": [
    "names_in_training_dataset = data2['name'].tolist()"
   ]
  },
  {
   "cell_type": "code",
   "execution_count": 379,
   "id": "4120f23b-d4a7-4e14-83e5-6ef17def4fc6",
   "metadata": {},
   "outputs": [],
   "source": [
    "lst=[]\n",
    "for row in test_data2.itertuples():\n",
    "    if not row.name in names_in_training_dataset:\n",
    "        lst.append(row.Index)"
   ]
  },
  {
   "cell_type": "code",
   "execution_count": 381,
   "id": "3ed7a46f-85d8-410d-a2bc-bfa7091e6009",
   "metadata": {},
   "outputs": [
    {
     "data": {
      "text/plain": [
       "80"
      ]
     },
     "execution_count": 381,
     "metadata": {},
     "output_type": "execute_result"
    }
   ],
   "source": [
    "len(lst)"
   ]
  },
  {
   "cell_type": "markdown",
   "id": "d1422852-9f62-4f71-9874-2e64fc7af05a",
   "metadata": {},
   "source": [
    "There are 80 names in the test data set that the model was not exposed during the training "
   ]
  },
  {
   "cell_type": "code",
   "execution_count": 382,
   "id": "58ff4d67-29e0-4d85-8580-b66d0454daef",
   "metadata": {},
   "outputs": [
    {
     "data": {
      "text/html": [
       "<div>\n",
       "<style scoped>\n",
       "    .dataframe tbody tr th:only-of-type {\n",
       "        vertical-align: middle;\n",
       "    }\n",
       "\n",
       "    .dataframe tbody tr th {\n",
       "        vertical-align: top;\n",
       "    }\n",
       "\n",
       "    .dataframe thead th {\n",
       "        text-align: right;\n",
       "    }\n",
       "</style>\n",
       "<table border=\"1\" class=\"dataframe\">\n",
       "  <thead>\n",
       "    <tr style=\"text-align: right;\">\n",
       "      <th></th>\n",
       "      <th>id</th>\n",
       "      <th>name</th>\n",
       "      <th>full_text</th>\n",
       "      <th>label</th>\n",
       "      <th>input</th>\n",
       "    </tr>\n",
       "  </thead>\n",
       "  <tbody>\n",
       "    <tr>\n",
       "      <th>6</th>\n",
       "      <td>58672935</td>\n",
       "      <td>Sydney Brenner</td>\n",
       "      <td>O desenvolvimento de vacinas contra a malária...</td>\n",
       "      <td>1.0</td>\n",
       "      <td>TEXT1: Sydney Brenner; TEXT2: O desenvolviment...</td>\n",
       "    </tr>\n",
       "    <tr>\n",
       "      <th>17</th>\n",
       "      <td>59630489</td>\n",
       "      <td>Aretha Franklin</td>\n",
       "      <td>Barack Obama e Bruce Springsteen se conheceram...</td>\n",
       "      <td>0.0</td>\n",
       "      <td>TEXT1: Aretha Franklin; TEXT2: Barack Obama e ...</td>\n",
       "    </tr>\n",
       "    <tr>\n",
       "      <th>23</th>\n",
       "      <td>52493906</td>\n",
       "      <td>Marcos Dutra</td>\n",
       "      <td>Como único na mostra competitiva, o filme bra...</td>\n",
       "      <td>1.0</td>\n",
       "      <td>TEXT1: Marcos Dutra; TEXT2: Como único na mos...</td>\n",
       "    </tr>\n",
       "    <tr>\n",
       "      <th>26</th>\n",
       "      <td>52426392</td>\n",
       "      <td>Moritz Bleibtreu</td>\n",
       "      <td>O filme mais conhecido do diretor alemão Tom ...</td>\n",
       "      <td>1.0</td>\n",
       "      <td>TEXT1: Moritz Bleibtreu; TEXT2: O filme mais c...</td>\n",
       "    </tr>\n",
       "    <tr>\n",
       "      <th>36</th>\n",
       "      <td>57767975</td>\n",
       "      <td>Violeta Barrios de Chamorro</td>\n",
       "      <td>A líder da oposição na Nicarágua Cristiana...</td>\n",
       "      <td>0.0</td>\n",
       "      <td>TEXT1: Violeta Barrios de Chamorro; TEXT2: A l...</td>\n",
       "    </tr>\n",
       "    <tr>\n",
       "      <th>...</th>\n",
       "      <td>...</td>\n",
       "      <td>...</td>\n",
       "      <td>...</td>\n",
       "      <td>...</td>\n",
       "      <td>...</td>\n",
       "    </tr>\n",
       "    <tr>\n",
       "      <th>327</th>\n",
       "      <td>60418912</td>\n",
       "      <td>Joan Rivers</td>\n",
       "      <td>A atriz britânica Maureen Lipman ganhou as ma...</td>\n",
       "      <td>0.0</td>\n",
       "      <td>TEXT1: Joan Rivers; TEXT2: A atriz britânica ...</td>\n",
       "    </tr>\n",
       "    <tr>\n",
       "      <th>330</th>\n",
       "      <td>60950844</td>\n",
       "      <td>Magdalene Andersson</td>\n",
       "      <td>desencadeou uma série de consequências não ...</td>\n",
       "      <td>0.0</td>\n",
       "      <td>TEXT1: Magdalene Andersson; TEXT2: desencadeou...</td>\n",
       "    </tr>\n",
       "    <tr>\n",
       "      <th>332</th>\n",
       "      <td>62411504</td>\n",
       "      <td>Dom Phillps</td>\n",
       "      <td>Um homem suspeito de ser mandante dos assassin...</td>\n",
       "      <td>1.0</td>\n",
       "      <td>TEXT1: Dom Phillps; TEXT2: Um homem suspeito d...</td>\n",
       "    </tr>\n",
       "    <tr>\n",
       "      <th>337</th>\n",
       "      <td>62069188</td>\n",
       "      <td>Matilde</td>\n",
       "      <td>Em visita histórica à República Democrátic...</td>\n",
       "      <td>0.0</td>\n",
       "      <td>TEXT1: Matilde; TEXT2: Em visita histórica à...</td>\n",
       "    </tr>\n",
       "    <tr>\n",
       "      <th>340</th>\n",
       "      <td>60746608</td>\n",
       "      <td>Jeanne Calment</td>\n",
       "      <td>Ela não enxerga mais e precisa ser amparada s...</td>\n",
       "      <td>0.0</td>\n",
       "      <td>TEXT1: Jeanne Calment; TEXT2: Ela não enxerga...</td>\n",
       "    </tr>\n",
       "  </tbody>\n",
       "</table>\n",
       "<p>80 rows × 5 columns</p>\n",
       "</div>"
      ],
      "text/plain": [
       "           id                         name  \\\n",
       "6    58672935               Sydney Brenner   \n",
       "17   59630489              Aretha Franklin   \n",
       "23   52493906                 Marcos Dutra   \n",
       "26   52426392             Moritz Bleibtreu   \n",
       "36   57767975  Violeta Barrios de Chamorro   \n",
       "..        ...                          ...   \n",
       "327  60418912                  Joan Rivers   \n",
       "330  60950844          Magdalene Andersson   \n",
       "332  62411504                  Dom Phillps   \n",
       "337  62069188                      Matilde   \n",
       "340  60746608               Jeanne Calment   \n",
       "\n",
       "                                             full_text  label  \\\n",
       "6    O desenvolvimento de vacinas contra a malária...    1.0   \n",
       "17   Barack Obama e Bruce Springsteen se conheceram...    0.0   \n",
       "23   Como único na mostra competitiva, o filme bra...    1.0   \n",
       "26   O filme mais conhecido do diretor alemão Tom ...    1.0   \n",
       "36   A líder da oposição na Nicarágua Cristiana...    0.0   \n",
       "..                                                 ...    ...   \n",
       "327  A atriz britânica Maureen Lipman ganhou as ma...    0.0   \n",
       "330  desencadeou uma série de consequências não ...    0.0   \n",
       "332  Um homem suspeito de ser mandante dos assassin...    1.0   \n",
       "337  Em visita histórica à República Democrátic...    0.0   \n",
       "340  Ela não enxerga mais e precisa ser amparada s...    0.0   \n",
       "\n",
       "                                                 input  \n",
       "6    TEXT1: Sydney Brenner; TEXT2: O desenvolviment...  \n",
       "17   TEXT1: Aretha Franklin; TEXT2: Barack Obama e ...  \n",
       "23   TEXT1: Marcos Dutra; TEXT2: Como único na mos...  \n",
       "26   TEXT1: Moritz Bleibtreu; TEXT2: O filme mais c...  \n",
       "36   TEXT1: Violeta Barrios de Chamorro; TEXT2: A l...  \n",
       "..                                                 ...  \n",
       "327  TEXT1: Joan Rivers; TEXT2: A atriz britânica ...  \n",
       "330  TEXT1: Magdalene Andersson; TEXT2: desencadeou...  \n",
       "332  TEXT1: Dom Phillps; TEXT2: Um homem suspeito d...  \n",
       "337  TEXT1: Matilde; TEXT2: Em visita histórica à...  \n",
       "340  TEXT1: Jeanne Calment; TEXT2: Ela não enxerga...  \n",
       "\n",
       "[80 rows x 5 columns]"
      ]
     },
     "execution_count": 382,
     "metadata": {},
     "output_type": "execute_result"
    }
   ],
   "source": [
    "test_data2.loc[lst]"
   ]
  },
  {
   "cell_type": "markdown",
   "id": "8c8fdd06-2cd0-4910-b402-6e85b4d25159",
   "metadata": {},
   "source": [
    "Of those names, the proportion female and male is below"
   ]
  },
  {
   "cell_type": "code",
   "execution_count": 384,
   "id": "b0e4bc19-bbbd-4024-898c-eadb3af137b0",
   "metadata": {},
   "outputs": [
    {
     "data": {
      "text/plain": [
       "1.0    51\n",
       "0.0    29\n",
       "Name: label, dtype: int64"
      ]
     },
     "execution_count": 384,
     "metadata": {},
     "output_type": "execute_result"
    }
   ],
   "source": [
    "test_data2.loc[lst].label.value_counts()"
   ]
  },
  {
   "cell_type": "code",
   "execution_count": 391,
   "id": "53b5135a-d97f-4689-bf91-143c741b09a5",
   "metadata": {},
   "outputs": [
    {
     "data": {
      "text/plain": [
       "80"
      ]
     },
     "execution_count": 391,
     "metadata": {},
     "output_type": "execute_result"
    }
   ],
   "source": [
    "51+29"
   ]
  },
  {
   "cell_type": "markdown",
   "id": "d98eab71-d94e-4127-b35f-df4e6fb2eed5",
   "metadata": {},
   "source": [
    "If we keep in mind that only 4 inputs in the test data set were mislabelled, the percentage regarding those 80 new names is below"
   ]
  },
  {
   "cell_type": "code",
   "execution_count": 387,
   "id": "209a450a-808d-4522-8b4f-1ef182d84528",
   "metadata": {},
   "outputs": [
    {
     "data": {
      "text/plain": [
       "5.0"
      ]
     },
     "execution_count": 387,
     "metadata": {},
     "output_type": "execute_result"
    }
   ],
   "source": [
    "100*(4/(51+29))"
   ]
  },
  {
   "cell_type": "markdown",
   "id": "993889da-70f7-4094-8590-f9da5ed19957",
   "metadata": {},
   "source": [
    "and the percentage regarding the whole teset data set is below"
   ]
  },
  {
   "cell_type": "code",
   "execution_count": 390,
   "id": "d7b7f413-3a8b-4d2f-8d32-c96a44a752dd",
   "metadata": {},
   "outputs": [
    {
     "data": {
      "text/plain": [
       "1.1494252873563218"
      ]
     },
     "execution_count": 390,
     "metadata": {},
     "output_type": "execute_result"
    }
   ],
   "source": [
    "100*(4/348)"
   ]
  },
  {
   "cell_type": "markdown",
   "id": "d3e268bd-ec60-49cc-942a-1c6ee733d134",
   "metadata": {},
   "source": [
    "Below are the female names that were in the test data set and not in the training data set"
   ]
  },
  {
   "cell_type": "code",
   "execution_count": 386,
   "id": "5301ef56-7fc5-4dac-b388-f63ee9818020",
   "metadata": {},
   "outputs": [
    {
     "data": {
      "text/html": [
       "<div>\n",
       "<style scoped>\n",
       "    .dataframe tbody tr th:only-of-type {\n",
       "        vertical-align: middle;\n",
       "    }\n",
       "\n",
       "    .dataframe tbody tr th {\n",
       "        vertical-align: top;\n",
       "    }\n",
       "\n",
       "    .dataframe thead th {\n",
       "        text-align: right;\n",
       "    }\n",
       "</style>\n",
       "<table border=\"1\" class=\"dataframe\">\n",
       "  <thead>\n",
       "    <tr style=\"text-align: right;\">\n",
       "      <th></th>\n",
       "      <th>id</th>\n",
       "      <th>name</th>\n",
       "      <th>full_text</th>\n",
       "      <th>label</th>\n",
       "      <th>input</th>\n",
       "    </tr>\n",
       "  </thead>\n",
       "  <tbody>\n",
       "    <tr>\n",
       "      <th>17</th>\n",
       "      <td>59630489</td>\n",
       "      <td>Aretha Franklin</td>\n",
       "      <td>Barack Obama e Bruce Springsteen se conheceram...</td>\n",
       "      <td>0.0</td>\n",
       "      <td>TEXT1: Aretha Franklin; TEXT2: Barack Obama e ...</td>\n",
       "    </tr>\n",
       "    <tr>\n",
       "      <th>36</th>\n",
       "      <td>57767975</td>\n",
       "      <td>Violeta Barrios de Chamorro</td>\n",
       "      <td>A líder da oposição na Nicarágua Cristiana...</td>\n",
       "      <td>0.0</td>\n",
       "      <td>TEXT1: Violeta Barrios de Chamorro; TEXT2: A l...</td>\n",
       "    </tr>\n",
       "    <tr>\n",
       "      <th>40</th>\n",
       "      <td>53052021</td>\n",
       "      <td>Helena Nader</td>\n",
       "      <td>A fila de 16 mil testes para covid-19 no Insti...</td>\n",
       "      <td>0.0</td>\n",
       "      <td>TEXT1: Helena Nader; TEXT2: A fila de 16 mil t...</td>\n",
       "    </tr>\n",
       "    <tr>\n",
       "      <th>48</th>\n",
       "      <td>59068747</td>\n",
       "      <td>Meryl Streep</td>\n",
       "      <td>O lendário grupo de pop sueco ABBA anunciou n...</td>\n",
       "      <td>0.0</td>\n",
       "      <td>TEXT1: Meryl Streep; TEXT2: O lendário grupo ...</td>\n",
       "    </tr>\n",
       "    <tr>\n",
       "      <th>78</th>\n",
       "      <td>56632434</td>\n",
       "      <td>Christiane F.</td>\n",
       "      <td>No final dos anos 1970 e início dos anos 1980...</td>\n",
       "      <td>0.0</td>\n",
       "      <td>TEXT1: Christiane F.; TEXT2: No final dos anos...</td>\n",
       "    </tr>\n",
       "    <tr>\n",
       "      <th>79</th>\n",
       "      <td>61018740</td>\n",
       "      <td>Sylvia Sasse</td>\n",
       "      <td>Quando Vladimir Putin encerrou seu discurso no...</td>\n",
       "      <td>0.0</td>\n",
       "      <td>TEXT1: Sylvia Sasse; TEXT2: Quando Vladimir Pu...</td>\n",
       "    </tr>\n",
       "    <tr>\n",
       "      <th>90</th>\n",
       "      <td>54588225</td>\n",
       "      <td>Mary</td>\n",
       "      <td>Robert Trump, irmão caçula do presidente dos...</td>\n",
       "      <td>0.0</td>\n",
       "      <td>TEXT1: Mary; TEXT2: Robert Trump, irmão caçu...</td>\n",
       "    </tr>\n",
       "    <tr>\n",
       "      <th>158</th>\n",
       "      <td>56491406</td>\n",
       "      <td>Condoleezza Rice</td>\n",
       "      <td>O americano George Shultz, que foi secretário...</td>\n",
       "      <td>0.0</td>\n",
       "      <td>TEXT1: Condoleezza Rice; TEXT2: O americano Ge...</td>\n",
       "    </tr>\n",
       "    <tr>\n",
       "      <th>203</th>\n",
       "      <td>51988672</td>\n",
       "      <td>Annastacia Palszczuk</td>\n",
       "      <td>Em 3 de dezembro último, dois ativistas clima...</td>\n",
       "      <td>0.0</td>\n",
       "      <td>TEXT1: Annastacia Palszczuk; TEXT2: Em 3 de de...</td>\n",
       "    </tr>\n",
       "    <tr>\n",
       "      <th>210</th>\n",
       "      <td>56984001</td>\n",
       "      <td>Sojourner Truth</td>\n",
       "      <td>\"Ninguém nasce mulher, torna-se mulher.\" Nove...</td>\n",
       "      <td>0.0</td>\n",
       "      <td>TEXT1: Sojourner Truth; TEXT2: \"Ninguém nasce...</td>\n",
       "    </tr>\n",
       "    <tr>\n",
       "      <th>236</th>\n",
       "      <td>61550233</td>\n",
       "      <td>Analenna Baerbock</td>\n",
       "      <td>Em meio a críticas internacionais, da oposiç...</td>\n",
       "      <td>0.0</td>\n",
       "      <td>TEXT1: Analenna Baerbock; TEXT2: Em meio a cri...</td>\n",
       "    </tr>\n",
       "    <tr>\n",
       "      <th>239</th>\n",
       "      <td>60564452</td>\n",
       "      <td>Nina Simone</td>\n",
       "      <td>Samba? Futebol? Brasil! A vida de Elza Soares ...</td>\n",
       "      <td>0.0</td>\n",
       "      <td>TEXT1: Nina Simone; TEXT2: Samba? Futebol? Bra...</td>\n",
       "    </tr>\n",
       "    <tr>\n",
       "      <th>241</th>\n",
       "      <td>52328606</td>\n",
       "      <td>Andrea Nahles</td>\n",
       "      <td>O anúncio da presidente da União Democrata C...</td>\n",
       "      <td>0.0</td>\n",
       "      <td>TEXT1: Andrea Nahles; TEXT2: O anúncio da pre...</td>\n",
       "    </tr>\n",
       "    <tr>\n",
       "      <th>247</th>\n",
       "      <td>60463829</td>\n",
       "      <td>Sira Rego</td>\n",
       "      <td>Roberta Metsola sempre deixou claro que, para ...</td>\n",
       "      <td>0.0</td>\n",
       "      <td>TEXT1: Sira Rego; TEXT2: Roberta Metsola sempr...</td>\n",
       "    </tr>\n",
       "    <tr>\n",
       "      <th>248</th>\n",
       "      <td>55477647</td>\n",
       "      <td>Maxine Waters</td>\n",
       "      <td>Nas eleições presidenciais dos Estados Unido...</td>\n",
       "      <td>0.0</td>\n",
       "      <td>TEXT1: Maxine Waters; TEXT2: Nas eleições pr...</td>\n",
       "    </tr>\n",
       "    <tr>\n",
       "      <th>256</th>\n",
       "      <td>60771576</td>\n",
       "      <td>Eteri Tutberidze</td>\n",
       "      <td>A patinadora artística russa Kamila Valieva, ...</td>\n",
       "      <td>0.0</td>\n",
       "      <td>TEXT1: Eteri Tutberidze; TEXT2: A patinadora a...</td>\n",
       "    </tr>\n",
       "    <tr>\n",
       "      <th>261</th>\n",
       "      <td>53729007</td>\n",
       "      <td>Thaís Fidélis</td>\n",
       "      <td>O Brasil não teria negros em 2012. A previsã...</td>\n",
       "      <td>0.0</td>\n",
       "      <td>TEXT1: Thaís Fidélis; TEXT2: O Brasil não t...</td>\n",
       "    </tr>\n",
       "    <tr>\n",
       "      <th>269</th>\n",
       "      <td>62196163</td>\n",
       "      <td>Idit Silman</td>\n",
       "      <td>Apenas um ano após a formação de uma coaliz...</td>\n",
       "      <td>0.0</td>\n",
       "      <td>TEXT1: Idit Silman; TEXT2: Apenas um ano após...</td>\n",
       "    </tr>\n",
       "    <tr>\n",
       "      <th>271</th>\n",
       "      <td>60418912</td>\n",
       "      <td>Helen Mirren</td>\n",
       "      <td>A atriz britânica Maureen Lipman ganhou as ma...</td>\n",
       "      <td>0.0</td>\n",
       "      <td>TEXT1: Helen Mirren; TEXT2: A atriz britânica...</td>\n",
       "    </tr>\n",
       "    <tr>\n",
       "      <th>286</th>\n",
       "      <td>61699753</td>\n",
       "      <td>Emily Ferris</td>\n",
       "      <td>Os trens da Ukrsalisnyzja ainda estão circula...</td>\n",
       "      <td>0.0</td>\n",
       "      <td>TEXT1: Emily Ferris; TEXT2: Os trens da Ukrsal...</td>\n",
       "    </tr>\n",
       "    <tr>\n",
       "      <th>299</th>\n",
       "      <td>55392280</td>\n",
       "      <td>Lilian Tintori</td>\n",
       "      <td>O líder oposicionista venezuelano Leopoldo Lo...</td>\n",
       "      <td>0.0</td>\n",
       "      <td>TEXT1: Lilian Tintori; TEXT2: O líder oposici...</td>\n",
       "    </tr>\n",
       "    <tr>\n",
       "      <th>306</th>\n",
       "      <td>56075142</td>\n",
       "      <td>Petula Clark</td>\n",
       "      <td>Autoridades afirmaram que autor da explosão d...</td>\n",
       "      <td>0.0</td>\n",
       "      <td>TEXT1: Petula Clark; TEXT2: Autoridades afirma...</td>\n",
       "    </tr>\n",
       "    <tr>\n",
       "      <th>308</th>\n",
       "      <td>53541463</td>\n",
       "      <td>Teresa</td>\n",
       "      <td>O ministro Celso de Mello, do Supremo Tribunal...</td>\n",
       "      <td>0.0</td>\n",
       "      <td>TEXT1: Teresa; TEXT2: O ministro Celso de Mell...</td>\n",
       "    </tr>\n",
       "    <tr>\n",
       "      <th>317</th>\n",
       "      <td>56368522</td>\n",
       "      <td>Solange</td>\n",
       "      <td>Moradora do bairro do Campo Limpo, na zona sul...</td>\n",
       "      <td>0.0</td>\n",
       "      <td>TEXT1: Solange; TEXT2: Moradora do bairro do C...</td>\n",
       "    </tr>\n",
       "    <tr>\n",
       "      <th>324</th>\n",
       "      <td>54257046</td>\n",
       "      <td>Cyndi Lauper</td>\n",
       "      <td>A Potsdamer Platz é um local de peso simbóli...</td>\n",
       "      <td>0.0</td>\n",
       "      <td>TEXT1: Cyndi Lauper; TEXT2: A Potsdamer Platz ...</td>\n",
       "    </tr>\n",
       "    <tr>\n",
       "      <th>327</th>\n",
       "      <td>60418912</td>\n",
       "      <td>Joan Rivers</td>\n",
       "      <td>A atriz britânica Maureen Lipman ganhou as ma...</td>\n",
       "      <td>0.0</td>\n",
       "      <td>TEXT1: Joan Rivers; TEXT2: A atriz britânica ...</td>\n",
       "    </tr>\n",
       "    <tr>\n",
       "      <th>330</th>\n",
       "      <td>60950844</td>\n",
       "      <td>Magdalene Andersson</td>\n",
       "      <td>desencadeou uma série de consequências não ...</td>\n",
       "      <td>0.0</td>\n",
       "      <td>TEXT1: Magdalene Andersson; TEXT2: desencadeou...</td>\n",
       "    </tr>\n",
       "    <tr>\n",
       "      <th>337</th>\n",
       "      <td>62069188</td>\n",
       "      <td>Matilde</td>\n",
       "      <td>Em visita histórica à República Democrátic...</td>\n",
       "      <td>0.0</td>\n",
       "      <td>TEXT1: Matilde; TEXT2: Em visita histórica à...</td>\n",
       "    </tr>\n",
       "    <tr>\n",
       "      <th>340</th>\n",
       "      <td>60746608</td>\n",
       "      <td>Jeanne Calment</td>\n",
       "      <td>Ela não enxerga mais e precisa ser amparada s...</td>\n",
       "      <td>0.0</td>\n",
       "      <td>TEXT1: Jeanne Calment; TEXT2: Ela não enxerga...</td>\n",
       "    </tr>\n",
       "  </tbody>\n",
       "</table>\n",
       "</div>"
      ],
      "text/plain": [
       "           id                         name  \\\n",
       "17   59630489              Aretha Franklin   \n",
       "36   57767975  Violeta Barrios de Chamorro   \n",
       "40   53052021                 Helena Nader   \n",
       "48   59068747                 Meryl Streep   \n",
       "78   56632434                Christiane F.   \n",
       "79   61018740                 Sylvia Sasse   \n",
       "90   54588225                         Mary   \n",
       "158  56491406             Condoleezza Rice   \n",
       "203  51988672         Annastacia Palszczuk   \n",
       "210  56984001              Sojourner Truth   \n",
       "236  61550233            Analenna Baerbock   \n",
       "239  60564452                  Nina Simone   \n",
       "241  52328606                Andrea Nahles   \n",
       "247  60463829                    Sira Rego   \n",
       "248  55477647                Maxine Waters   \n",
       "256  60771576             Eteri Tutberidze   \n",
       "261  53729007              Thaís Fidélis   \n",
       "269  62196163                  Idit Silman   \n",
       "271  60418912                 Helen Mirren   \n",
       "286  61699753                 Emily Ferris   \n",
       "299  55392280               Lilian Tintori   \n",
       "306  56075142                 Petula Clark   \n",
       "308  53541463                       Teresa   \n",
       "317  56368522                      Solange   \n",
       "324  54257046                 Cyndi Lauper   \n",
       "327  60418912                  Joan Rivers   \n",
       "330  60950844          Magdalene Andersson   \n",
       "337  62069188                      Matilde   \n",
       "340  60746608               Jeanne Calment   \n",
       "\n",
       "                                             full_text  label  \\\n",
       "17   Barack Obama e Bruce Springsteen se conheceram...    0.0   \n",
       "36   A líder da oposição na Nicarágua Cristiana...    0.0   \n",
       "40   A fila de 16 mil testes para covid-19 no Insti...    0.0   \n",
       "48   O lendário grupo de pop sueco ABBA anunciou n...    0.0   \n",
       "78   No final dos anos 1970 e início dos anos 1980...    0.0   \n",
       "79   Quando Vladimir Putin encerrou seu discurso no...    0.0   \n",
       "90   Robert Trump, irmão caçula do presidente dos...    0.0   \n",
       "158  O americano George Shultz, que foi secretário...    0.0   \n",
       "203  Em 3 de dezembro último, dois ativistas clima...    0.0   \n",
       "210  \"Ninguém nasce mulher, torna-se mulher.\" Nove...    0.0   \n",
       "236  Em meio a críticas internacionais, da oposiç...    0.0   \n",
       "239  Samba? Futebol? Brasil! A vida de Elza Soares ...    0.0   \n",
       "241  O anúncio da presidente da União Democrata C...    0.0   \n",
       "247  Roberta Metsola sempre deixou claro que, para ...    0.0   \n",
       "248  Nas eleições presidenciais dos Estados Unido...    0.0   \n",
       "256  A patinadora artística russa Kamila Valieva, ...    0.0   \n",
       "261  O Brasil não teria negros em 2012. A previsã...    0.0   \n",
       "269  Apenas um ano após a formação de uma coaliz...    0.0   \n",
       "271  A atriz britânica Maureen Lipman ganhou as ma...    0.0   \n",
       "286  Os trens da Ukrsalisnyzja ainda estão circula...    0.0   \n",
       "299  O líder oposicionista venezuelano Leopoldo Lo...    0.0   \n",
       "306  Autoridades afirmaram que autor da explosão d...    0.0   \n",
       "308  O ministro Celso de Mello, do Supremo Tribunal...    0.0   \n",
       "317  Moradora do bairro do Campo Limpo, na zona sul...    0.0   \n",
       "324  A Potsdamer Platz é um local de peso simbóli...    0.0   \n",
       "327  A atriz britânica Maureen Lipman ganhou as ma...    0.0   \n",
       "330  desencadeou uma série de consequências não ...    0.0   \n",
       "337  Em visita histórica à República Democrátic...    0.0   \n",
       "340  Ela não enxerga mais e precisa ser amparada s...    0.0   \n",
       "\n",
       "                                                 input  \n",
       "17   TEXT1: Aretha Franklin; TEXT2: Barack Obama e ...  \n",
       "36   TEXT1: Violeta Barrios de Chamorro; TEXT2: A l...  \n",
       "40   TEXT1: Helena Nader; TEXT2: A fila de 16 mil t...  \n",
       "48   TEXT1: Meryl Streep; TEXT2: O lendário grupo ...  \n",
       "78   TEXT1: Christiane F.; TEXT2: No final dos anos...  \n",
       "79   TEXT1: Sylvia Sasse; TEXT2: Quando Vladimir Pu...  \n",
       "90   TEXT1: Mary; TEXT2: Robert Trump, irmão caçu...  \n",
       "158  TEXT1: Condoleezza Rice; TEXT2: O americano Ge...  \n",
       "203  TEXT1: Annastacia Palszczuk; TEXT2: Em 3 de de...  \n",
       "210  TEXT1: Sojourner Truth; TEXT2: \"Ninguém nasce...  \n",
       "236  TEXT1: Analenna Baerbock; TEXT2: Em meio a cri...  \n",
       "239  TEXT1: Nina Simone; TEXT2: Samba? Futebol? Bra...  \n",
       "241  TEXT1: Andrea Nahles; TEXT2: O anúncio da pre...  \n",
       "247  TEXT1: Sira Rego; TEXT2: Roberta Metsola sempr...  \n",
       "248  TEXT1: Maxine Waters; TEXT2: Nas eleições pr...  \n",
       "256  TEXT1: Eteri Tutberidze; TEXT2: A patinadora a...  \n",
       "261  TEXT1: Thaís Fidélis; TEXT2: O Brasil não t...  \n",
       "269  TEXT1: Idit Silman; TEXT2: Apenas um ano após...  \n",
       "271  TEXT1: Helen Mirren; TEXT2: A atriz britânica...  \n",
       "286  TEXT1: Emily Ferris; TEXT2: Os trens da Ukrsal...  \n",
       "299  TEXT1: Lilian Tintori; TEXT2: O líder oposici...  \n",
       "306  TEXT1: Petula Clark; TEXT2: Autoridades afirma...  \n",
       "308  TEXT1: Teresa; TEXT2: O ministro Celso de Mell...  \n",
       "317  TEXT1: Solange; TEXT2: Moradora do bairro do C...  \n",
       "324  TEXT1: Cyndi Lauper; TEXT2: A Potsdamer Platz ...  \n",
       "327  TEXT1: Joan Rivers; TEXT2: A atriz britânica ...  \n",
       "330  TEXT1: Magdalene Andersson; TEXT2: desencadeou...  \n",
       "337  TEXT1: Matilde; TEXT2: Em visita histórica à...  \n",
       "340  TEXT1: Jeanne Calment; TEXT2: Ela não enxerga...  "
      ]
     },
     "execution_count": 386,
     "metadata": {},
     "output_type": "execute_result"
    }
   ],
   "source": [
    "test_data2.loc[lst].query('label==0')"
   ]
  },
  {
   "cell_type": "markdown",
   "id": "066ce505-f630-430e-9b82-d3f887956f5a",
   "metadata": {},
   "source": [
    "and below are the cases where the predicted gender does not match the label in the test data set"
   ]
  },
  {
   "cell_type": "code",
   "execution_count": 385,
   "id": "a557088c-b393-4df2-87f0-7d2402a5bfea",
   "metadata": {},
   "outputs": [
    {
     "data": {
      "text/html": [
       "<div>\n",
       "<style scoped>\n",
       "    .dataframe tbody tr th:only-of-type {\n",
       "        vertical-align: middle;\n",
       "    }\n",
       "\n",
       "    .dataframe tbody tr th {\n",
       "        vertical-align: top;\n",
       "    }\n",
       "\n",
       "    .dataframe thead th {\n",
       "        text-align: right;\n",
       "    }\n",
       "</style>\n",
       "<table border=\"1\" class=\"dataframe\">\n",
       "  <thead>\n",
       "    <tr style=\"text-align: right;\">\n",
       "      <th></th>\n",
       "      <th>label</th>\n",
       "      <th>input</th>\n",
       "      <th>prediction</th>\n",
       "      <th>hit</th>\n",
       "    </tr>\n",
       "  </thead>\n",
       "  <tbody>\n",
       "    <tr>\n",
       "      <th>48</th>\n",
       "      <td>0.0</td>\n",
       "      <td>TEXT1: Meryl Streep; TEXT2: Desde que chegou a...</td>\n",
       "      <td>1.0</td>\n",
       "      <td>False</td>\n",
       "    </tr>\n",
       "    <tr>\n",
       "      <th>256</th>\n",
       "      <td>0.0</td>\n",
       "      <td>TEXT1: Eteri Tutberidze; TEXT2: O COI pediu qu...</td>\n",
       "      <td>1.0</td>\n",
       "      <td>False</td>\n",
       "    </tr>\n",
       "    <tr>\n",
       "      <th>269</th>\n",
       "      <td>0.0</td>\n",
       "      <td>TEXT1: Idit Silman; TEXT2: Isso ocorreu sobret...</td>\n",
       "      <td>1.0</td>\n",
       "      <td>False</td>\n",
       "    </tr>\n",
       "    <tr>\n",
       "      <th>301</th>\n",
       "      <td>0.0</td>\n",
       "      <td>TEXT1: E; TEXT2: Desde que chegou ao poder, o ...</td>\n",
       "      <td>1.0</td>\n",
       "      <td>False</td>\n",
       "    </tr>\n",
       "  </tbody>\n",
       "</table>\n",
       "</div>"
      ],
      "text/plain": [
       "     label                                              input  prediction  \\\n",
       "48     0.0  TEXT1: Meryl Streep; TEXT2: Desde que chegou a...         1.0   \n",
       "256    0.0  TEXT1: Eteri Tutberidze; TEXT2: O COI pediu qu...         1.0   \n",
       "269    0.0  TEXT1: Idit Silman; TEXT2: Isso ocorreu sobret...         1.0   \n",
       "301    0.0  TEXT1: E; TEXT2: Desde que chegou ao poder, o ...         1.0   \n",
       "\n",
       "       hit  \n",
       "48   False  \n",
       "256  False  \n",
       "269  False  \n",
       "301  False  "
      ]
     },
     "execution_count": 385,
     "metadata": {},
     "output_type": "execute_result"
    }
   ],
   "source": [
    "test_data_with_prediction.query('hit==False')"
   ]
  }
 ],
 "metadata": {
  "kernelspec": {
   "display_name": "Python 3 (ipykernel)",
   "language": "python",
   "name": "python3"
  },
  "language_info": {
   "codemirror_mode": {
    "name": "ipython",
    "version": 3
   },
   "file_extension": ".py",
   "mimetype": "text/x-python",
   "name": "python",
   "nbconvert_exporter": "python",
   "pygments_lexer": "ipython3",
   "version": "3.10.6"
  },
  "toc-showmarkdowntxt": false
 },
 "nbformat": 4,
 "nbformat_minor": 5
}
