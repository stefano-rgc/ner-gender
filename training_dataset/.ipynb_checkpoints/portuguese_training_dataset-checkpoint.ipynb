{
 "cells": [
  {
   "cell_type": "markdown",
   "id": "2965ada8-f54c-4034-b677-3c0fe4df94d2",
   "metadata": {},
   "source": [
    "# - Portuguese Training Dataset -"
   ]
  },
  {
   "cell_type": "markdown",
   "id": "902037aa-5a8b-4f97-9884-1178d00ecdf7",
   "metadata": {},
   "source": [
    "# Imports"
   ]
  },
  {
   "cell_type": "code",
   "execution_count": 1,
   "id": "d9727dfa-27aa-4ab4-a395-020760ec1bfa",
   "metadata": {},
   "outputs": [
    {
     "data": {
      "application/javascript": [
       "IPython.notebook.set_autosave_interval(60000)"
      ]
     },
     "metadata": {},
     "output_type": "display_data"
    },
    {
     "name": "stdout",
     "output_type": "stream",
     "text": [
      "Autosaving every 60 seconds\n"
     ]
    }
   ],
   "source": [
    "%autosave 60"
   ]
  },
  {
   "cell_type": "code",
   "execution_count": 2,
   "id": "4db7588d-8793-4425-9e80-64d9516b4124",
   "metadata": {},
   "outputs": [],
   "source": [
    "import pickle\n",
    "from pathlib import Path\n",
    "from dataclasses import dataclass, field\n",
    "from tqdm import tqdm\n",
    "import transformers # conda install tensorflow\n",
    "#from transformers import pipeline, AutoTokenizer, AutoModelForTokenClassification\n",
    "from IPython.display import display, HTML\n",
    "from collections import deque\n",
    "from multiprocessing import Pool\n",
    "import os\n",
    "from functools import partial\n",
    "import pandas as pd\n",
    "import numpy as np\n",
    "import matplotlib.pyplot as plt\n",
    "\n",
    "# Needed to train the model\n",
    "#from datasets import Dataset,DatasetDict\n",
    "#from transformers import AutoModelForSequenceClassification,AutoTokenizer"
   ]
  },
  {
   "cell_type": "markdown",
   "id": "88520f8d-a786-4db9-a9a2-65c08d754cc2",
   "metadata": {
    "tags": []
   },
   "source": [
    "# Read original article data (including sentences with no names in it) "
   ]
  },
  {
   "cell_type": "code",
   "execution_count": 3,
   "id": "25e48e79-7281-4c19-b8ee-54944dd4188a",
   "metadata": {},
   "outputs": [],
   "source": [
    "inputdir = Path('../ner')\n",
    "filename = 'portuguese_sentences_with_names.csv'\n",
    "dtype={'id':int,\n",
    "       'language':str,\n",
    "       'sentence':str,\n",
    "       'name':str\n",
    "       }\n",
    "\n",
    "original = pd.read_csv(inputdir/filename, dtype=dtype).fillna('')\n",
    "original = original.drop(columns=['language']) # drop redundant column"
   ]
  },
  {
   "cell_type": "code",
   "execution_count": 4,
   "id": "c28b7daf-41df-4b2b-b345-db2760026fca",
   "metadata": {},
   "outputs": [
    {
     "data": {
      "text/html": [
       "<div>\n",
       "<style scoped>\n",
       "    .dataframe tbody tr th:only-of-type {\n",
       "        vertical-align: middle;\n",
       "    }\n",
       "\n",
       "    .dataframe tbody tr th {\n",
       "        vertical-align: top;\n",
       "    }\n",
       "\n",
       "    .dataframe thead th {\n",
       "        text-align: right;\n",
       "    }\n",
       "</style>\n",
       "<table border=\"1\" class=\"dataframe\">\n",
       "  <thead>\n",
       "    <tr style=\"text-align: right;\">\n",
       "      <th></th>\n",
       "      <th>id</th>\n",
       "      <th>sentence</th>\n",
       "      <th>name</th>\n",
       "    </tr>\n",
       "  </thead>\n",
       "  <tbody>\n",
       "    <tr>\n",
       "      <th>0</th>\n",
       "      <td>54006424</td>\n",
       "      <td>O presidente do FC Schalke 04 e proprietário ...</td>\n",
       "      <td>Clemens Tönnies</td>\n",
       "    </tr>\n",
       "    <tr>\n",
       "      <th>1</th>\n",
       "      <td>54006424</td>\n",
       "      <td>O Schalke não conseguiu nenhuma vitória nos ...</td>\n",
       "      <td></td>\n",
       "    </tr>\n",
       "    <tr>\n",
       "      <th>2</th>\n",
       "      <td>54006424</td>\n",
       "      <td>A equipe dos \"azuis-reais\" terminou o campeona...</td>\n",
       "      <td></td>\n",
       "    </tr>\n",
       "    <tr>\n",
       "      <th>3</th>\n",
       "      <td>54006424</td>\n",
       "      <td>A participação em uma dessas grandes competi...</td>\n",
       "      <td></td>\n",
       "    </tr>\n",
       "    <tr>\n",
       "      <th>4</th>\n",
       "      <td>54006424</td>\n",
       "      <td>Tönnies foi amplamente criticado no ano passa...</td>\n",
       "      <td></td>\n",
       "    </tr>\n",
       "    <tr>\n",
       "      <th>...</th>\n",
       "      <td>...</td>\n",
       "      <td>...</td>\n",
       "      <td>...</td>\n",
       "    </tr>\n",
       "    <tr>\n",
       "      <th>386070</th>\n",
       "      <td>54006316</td>\n",
       "      <td>Na avaliação por grupo de 100 mil habitantes...</td>\n",
       "      <td></td>\n",
       "    </tr>\n",
       "    <tr>\n",
       "      <th>386071</th>\n",
       "      <td>54006316</td>\n",
       "      <td>O Rio de Janeiro, a segunda unidade da federac...</td>\n",
       "      <td></td>\n",
       "    </tr>\n",
       "    <tr>\n",
       "      <th>386072</th>\n",
       "      <td>54006316</td>\n",
       "      <td>O estado mais afetado continua sendo São Paul...</td>\n",
       "      <td></td>\n",
       "    </tr>\n",
       "    <tr>\n",
       "      <th>386073</th>\n",
       "      <td>54006316</td>\n",
       "      <td>Em números acumulados, o Brasil tem 790.040 p...</td>\n",
       "      <td></td>\n",
       "    </tr>\n",
       "    <tr>\n",
       "      <th>386074</th>\n",
       "      <td>54006316</td>\n",
       "      <td>Entretanto, diversas autoridades e instituiço...</td>\n",
       "      <td></td>\n",
       "    </tr>\n",
       "  </tbody>\n",
       "</table>\n",
       "<p>386075 rows × 3 columns</p>\n",
       "</div>"
      ],
      "text/plain": [
       "              id                                           sentence  \\\n",
       "0       54006424  O presidente do FC Schalke 04 e proprietário ...   \n",
       "1       54006424  O Schalke não conseguiu nenhuma vitória nos ...   \n",
       "2       54006424  A equipe dos \"azuis-reais\" terminou o campeona...   \n",
       "3       54006424  A participação em uma dessas grandes competi...   \n",
       "4       54006424  Tönnies foi amplamente criticado no ano passa...   \n",
       "...          ...                                                ...   \n",
       "386070  54006316  Na avaliação por grupo de 100 mil habitantes...   \n",
       "386071  54006316  O Rio de Janeiro, a segunda unidade da federac...   \n",
       "386072  54006316  O estado mais afetado continua sendo São Paul...   \n",
       "386073  54006316  Em números acumulados, o Brasil tem 790.040 p...   \n",
       "386074  54006316  Entretanto, diversas autoridades e instituiço...   \n",
       "\n",
       "                    name  \n",
       "0       Clemens Tönnies  \n",
       "1                         \n",
       "2                         \n",
       "3                         \n",
       "4                         \n",
       "...                  ...  \n",
       "386070                    \n",
       "386071                    \n",
       "386072                    \n",
       "386073                    \n",
       "386074                    \n",
       "\n",
       "[386075 rows x 3 columns]"
      ]
     },
     "execution_count": 4,
     "metadata": {},
     "output_type": "execute_result"
    }
   ],
   "source": [
    "original"
   ]
  },
  {
   "cell_type": "code",
   "execution_count": 5,
   "id": "4da681d2-e655-4b20-9468-84543ac27d0a",
   "metadata": {},
   "outputs": [
    {
     "data": {
      "text/plain": [
       "11592"
      ]
     },
     "execution_count": 5,
     "metadata": {},
     "output_type": "execute_result"
    }
   ],
   "source": [
    "original.id.unique().size"
   ]
  },
  {
   "cell_type": "markdown",
   "id": "9424e3dc-91c8-4493-9b96-12e142e01456",
   "metadata": {},
   "source": [
    "# Extract full text of the articles"
   ]
  },
  {
   "cell_type": "markdown",
   "id": "311e049b-778a-4e84-b49b-a3273b9e4ddc",
   "metadata": {},
   "source": [
    "Concatenate the sentences in an article to extract the full text of the article all together"
   ]
  },
  {
   "cell_type": "markdown",
   "id": "0f9c6849-b937-477c-b836-581a89e5041a",
   "metadata": {},
   "source": [
    "*Note that the data `original` may have duplucated sentences per article (when that sentence has multiple names in it). However, the sentences are still in the same order as they appear in the original text. That order is preserved when using the method `unique` of the DataFrame."
   ]
  },
  {
   "cell_type": "code",
   "execution_count": 6,
   "id": "1df3757a-1986-46de-baaa-0cf15ec89c28",
   "metadata": {},
   "outputs": [],
   "source": [
    "full_texts = original.groupby(['id']).agg({'sentence':lambda x: ' '.join(x.unique())})\n",
    "full_texts = full_texts.rename(columns = {'sentence':'full_text'})\n",
    "full_texts = full_texts.reset_index()"
   ]
  },
  {
   "cell_type": "code",
   "execution_count": 7,
   "id": "d2cf678b-742f-4b0e-be02-c8561e377ea4",
   "metadata": {},
   "outputs": [
    {
     "data": {
      "text/html": [
       "<div>\n",
       "<style scoped>\n",
       "    .dataframe tbody tr th:only-of-type {\n",
       "        vertical-align: middle;\n",
       "    }\n",
       "\n",
       "    .dataframe tbody tr th {\n",
       "        vertical-align: top;\n",
       "    }\n",
       "\n",
       "    .dataframe thead th {\n",
       "        text-align: right;\n",
       "    }\n",
       "</style>\n",
       "<table border=\"1\" class=\"dataframe\">\n",
       "  <thead>\n",
       "    <tr style=\"text-align: right;\">\n",
       "      <th></th>\n",
       "      <th>id</th>\n",
       "      <th>full_text</th>\n",
       "    </tr>\n",
       "  </thead>\n",
       "  <tbody>\n",
       "    <tr>\n",
       "      <th>0</th>\n",
       "      <td>36728631</td>\n",
       "      <td>Muitas pessoas, frequentemente trabalhando em ...</td>\n",
       "    </tr>\n",
       "    <tr>\n",
       "      <th>1</th>\n",
       "      <td>51740080</td>\n",
       "      <td>Com o objetivo de ampliar sua presença na Ama...</td>\n",
       "    </tr>\n",
       "    <tr>\n",
       "      <th>2</th>\n",
       "      <td>51846913</td>\n",
       "      <td>\"O populista Donald Trump e o extremista de di...</td>\n",
       "    </tr>\n",
       "    <tr>\n",
       "      <th>3</th>\n",
       "      <td>51850454</td>\n",
       "      <td>Quando Jair Messias Bolsonaro recebeu, no dia ...</td>\n",
       "    </tr>\n",
       "    <tr>\n",
       "      <th>4</th>\n",
       "      <td>51850907</td>\n",
       "      <td>Um incêndio na madrugada desta quarta-feira (...</td>\n",
       "    </tr>\n",
       "    <tr>\n",
       "      <th>...</th>\n",
       "      <td>...</td>\n",
       "      <td>...</td>\n",
       "    </tr>\n",
       "    <tr>\n",
       "      <th>11587</th>\n",
       "      <td>62461355</td>\n",
       "      <td>A comissão parlamentar que investiga a invasa...</td>\n",
       "    </tr>\n",
       "    <tr>\n",
       "      <th>11588</th>\n",
       "      <td>62461496</td>\n",
       "      <td>O Congresso derrubou, nesta terça-feira (12/7...</td>\n",
       "    </tr>\n",
       "    <tr>\n",
       "      <th>11589</th>\n",
       "      <td>62462074</td>\n",
       "      <td>Dias antes da visita do presidente dos Estados...</td>\n",
       "    </tr>\n",
       "    <tr>\n",
       "      <th>11590</th>\n",
       "      <td>62463146</td>\n",
       "      <td>O governo da Hungriadeclarou nesta quarta-feir...</td>\n",
       "    </tr>\n",
       "    <tr>\n",
       "      <th>11591</th>\n",
       "      <td>62463689</td>\n",
       "      <td>John Bolton, ex-assessor de segurança naciona...</td>\n",
       "    </tr>\n",
       "  </tbody>\n",
       "</table>\n",
       "<p>11592 rows × 2 columns</p>\n",
       "</div>"
      ],
      "text/plain": [
       "             id                                          full_text\n",
       "0      36728631  Muitas pessoas, frequentemente trabalhando em ...\n",
       "1      51740080  Com o objetivo de ampliar sua presença na Ama...\n",
       "2      51846913  \"O populista Donald Trump e o extremista de di...\n",
       "3      51850454  Quando Jair Messias Bolsonaro recebeu, no dia ...\n",
       "4      51850907  Um incêndio na madrugada desta quarta-feira (...\n",
       "...         ...                                                ...\n",
       "11587  62461355  A comissão parlamentar que investiga a invasa...\n",
       "11588  62461496  O Congresso derrubou, nesta terça-feira (12/7...\n",
       "11589  62462074  Dias antes da visita do presidente dos Estados...\n",
       "11590  62463146  O governo da Hungriadeclarou nesta quarta-feir...\n",
       "11591  62463689  John Bolton, ex-assessor de segurança naciona...\n",
       "\n",
       "[11592 rows x 2 columns]"
      ]
     },
     "execution_count": 7,
     "metadata": {},
     "output_type": "execute_result"
    }
   ],
   "source": [
    "full_texts"
   ]
  },
  {
   "cell_type": "markdown",
   "id": "1f619b83-bc01-41f5-9211-28eb8294e338",
   "metadata": {},
   "source": [
    "## Explore the data"
   ]
  },
  {
   "cell_type": "code",
   "execution_count": 10,
   "id": "8fea0adf-9abb-4089-8866-98d11c6f1fba",
   "metadata": {},
   "outputs": [],
   "source": [
    "full_texts['article_length'] = full_texts.full_text.apply(len)"
   ]
  },
  {
   "cell_type": "code",
   "execution_count": 11,
   "id": "4924f4a6-a855-407c-8573-c4a208990968",
   "metadata": {},
   "outputs": [
    {
     "data": {
      "text/plain": [
       "count    11592.000000\n",
       "mean      4447.650362\n",
       "std       2675.679618\n",
       "min         39.000000\n",
       "25%       2789.000000\n",
       "50%       3910.000000\n",
       "75%       5485.000000\n",
       "max      68140.000000\n",
       "Name: article_length, dtype: float64"
      ]
     },
     "execution_count": 11,
     "metadata": {},
     "output_type": "execute_result"
    }
   ],
   "source": [
    "full_texts.article_length.describe()"
   ]
  },
  {
   "cell_type": "code",
   "execution_count": 12,
   "id": "8bb759b9-b869-45fb-89c2-c4418235a375",
   "metadata": {},
   "outputs": [
    {
     "data": {
      "text/plain": [
       "<AxesSubplot:>"
      ]
     },
     "execution_count": 12,
     "metadata": {},
     "output_type": "execute_result"
    },
    {
     "data": {
      "image/png": "[encoded data removed]",
      "text/plain": [
       "<Figure size 640x480 with 1 Axes>"
      ]
     },
     "metadata": {},
     "output_type": "display_data"
    }
   ],
   "source": [
    "full_texts.article_length.hist()"
   ]
  },
  {
   "cell_type": "code",
   "execution_count": 13,
   "id": "1f539c25-4c69-46e6-8133-b6994c67d285",
   "metadata": {},
   "outputs": [
    {
     "data": {
      "text/plain": [
       "<matplotlib.lines.Line2D at 0x7f6d703abf10>"
      ]
     },
     "execution_count": 13,
     "metadata": {},
     "output_type": "execute_result"
    },
    {
     "data": {
      "image/png": "[encoded data removed]",
      "text/plain": [
       "<Figure size 640x480 with 1 Axes>"
      ]
     },
     "metadata": {},
     "output_type": "display_data"
    }
   ],
   "source": [
    "fig, ax = plt.subplots()\n",
    "bins=np.arange(0,70_000,100)\n",
    "full_texts.article_length.hist(bins=bins, ax=ax)\n",
    "\n",
    "too_long_article = 13_000\n",
    "ax.axvline(too_long_article, color='r', ls='--')"
   ]
  },
  {
   "cell_type": "markdown",
   "id": "ab41be9a-3a60-469c-9ecc-cc97583e0806",
   "metadata": {},
   "source": [
    "## Remove too long and too short articles (outliers)"
   ]
  },
  {
   "cell_type": "code",
   "execution_count": 14,
   "id": "fd05ecea-bdc2-47a8-b788-b8067ac91e19",
   "metadata": {},
   "outputs": [
    {
     "data": {
      "text/plain": [
       "count    11592.000000\n",
       "mean      4447.650362\n",
       "std       2675.679618\n",
       "min         39.000000\n",
       "25%       2789.000000\n",
       "50%       3910.000000\n",
       "75%       5485.000000\n",
       "max      68140.000000\n",
       "Name: article_length, dtype: float64"
      ]
     },
     "execution_count": 14,
     "metadata": {},
     "output_type": "execute_result"
    }
   ],
   "source": [
    "full_texts.article_length.describe()"
   ]
  },
  {
   "cell_type": "code",
   "execution_count": 15,
   "id": "9c3c2b0b-41bf-4edf-86d3-2d7a9d25cb26",
   "metadata": {},
   "outputs": [],
   "source": [
    "full_texts = full_texts.query('article_length<=@too_long_article')"
   ]
  },
  {
   "cell_type": "code",
   "execution_count": 16,
   "id": "f44912b9-a2e5-4133-bd2b-3bcfbd82a983",
   "metadata": {},
   "outputs": [
    {
     "data": {
      "text/plain": [
       "count    11455.000000\n",
       "mean      4276.534177\n",
       "std       2037.210100\n",
       "min         39.000000\n",
       "25%       2772.500000\n",
       "50%       3885.000000\n",
       "75%       5407.000000\n",
       "max      12992.000000\n",
       "Name: article_length, dtype: float64"
      ]
     },
     "execution_count": 16,
     "metadata": {},
     "output_type": "execute_result"
    }
   ],
   "source": [
    "full_texts.article_length.describe()"
   ]
  },
  {
   "cell_type": "code",
   "execution_count": 17,
   "id": "3134283d-49d2-4c91-a401-8c58011daacb",
   "metadata": {},
   "outputs": [
    {
     "data": {
      "text/plain": [
       "<AxesSubplot:>"
      ]
     },
     "execution_count": 17,
     "metadata": {},
     "output_type": "execute_result"
    },
    {
     "data": {
      "image/png": "[encoded data removed]",
      "text/plain": [
       "<Figure size 640x480 with 1 Axes>"
      ]
     },
     "metadata": {},
     "output_type": "display_data"
    }
   ],
   "source": [
    "full_texts.article_length.hist()"
   ]
  },
  {
   "cell_type": "code",
   "execution_count": 18,
   "id": "3264ebed-92fc-42f8-9e62-6d3afb37e573",
   "metadata": {},
   "outputs": [
    {
     "data": {
      "text/plain": [
       "<matplotlib.lines.Line2D at 0x7f6d6f5e1c60>"
      ]
     },
     "execution_count": 18,
     "metadata": {},
     "output_type": "execute_result"
    },
    {
     "data": {
      "image/png": "[encoded data removed]",
      "text/plain": [
       "<Figure size 640x480 with 1 Axes>"
      ]
     },
     "metadata": {},
     "output_type": "display_data"
    }
   ],
   "source": [
    "fig, ax = plt.subplots()\n",
    "bins=np.arange(0,13_000,100)\n",
    "full_texts.article_length.hist(bins=bins, ax=ax)\n",
    "\n",
    "too_long_article = 11_300\n",
    "too_short_article = 700\n",
    "ax.axvline(too_long_article, color='r', ls='--')\n",
    "ax.axvline(too_short_article, color='r', ls='--')"
   ]
  },
  {
   "cell_type": "code",
   "execution_count": 19,
   "id": "b907c5f0-7c32-4214-9a21-52a3875be9e5",
   "metadata": {},
   "outputs": [
    {
     "data": {
      "text/plain": [
       "count    11455.000000\n",
       "mean      4276.534177\n",
       "std       2037.210100\n",
       "min         39.000000\n",
       "25%       2772.500000\n",
       "50%       3885.000000\n",
       "75%       5407.000000\n",
       "max      12992.000000\n",
       "Name: article_length, dtype: float64"
      ]
     },
     "execution_count": 19,
     "metadata": {},
     "output_type": "execute_result"
    }
   ],
   "source": [
    "full_texts.article_length.describe()"
   ]
  },
  {
   "cell_type": "code",
   "execution_count": 20,
   "id": "f263e5bc-6470-4f41-8fc7-217a83638146",
   "metadata": {},
   "outputs": [],
   "source": [
    "full_texts = full_texts.query('article_length<=@too_long_article and article_length>=@too_short_article')"
   ]
  },
  {
   "cell_type": "code",
   "execution_count": 21,
   "id": "5a2c3735-c65d-43e9-9ac8-b7cea20a8ded",
   "metadata": {},
   "outputs": [
    {
     "data": {
      "text/plain": [
       "count    11328.000000\n",
       "mean      4247.703302\n",
       "std       1931.994134\n",
       "min        727.000000\n",
       "25%       2783.750000\n",
       "50%       3882.000000\n",
       "75%       5383.250000\n",
       "max      11293.000000\n",
       "Name: article_length, dtype: float64"
      ]
     },
     "execution_count": 21,
     "metadata": {},
     "output_type": "execute_result"
    }
   ],
   "source": [
    "full_texts.article_length.describe()"
   ]
  },
  {
   "cell_type": "code",
   "execution_count": 22,
   "id": "868670e7-0698-458a-9035-ee55428fbe5f",
   "metadata": {},
   "outputs": [
    {
     "data": {
      "text/plain": [
       "<AxesSubplot:>"
      ]
     },
     "execution_count": 22,
     "metadata": {},
     "output_type": "execute_result"
    },
    {
     "data": {
      "image/png": "[encoded data removed]",
      "text/plain": [
       "<Figure size 640x480 with 1 Axes>"
      ]
     },
     "metadata": {},
     "output_type": "display_data"
    }
   ],
   "source": [
    "full_texts.article_length.hist()"
   ]
  },
  {
   "cell_type": "code",
   "execution_count": 23,
   "id": "d75eb4e0-60b9-4326-8242-29e1096e7233",
   "metadata": {},
   "outputs": [
    {
     "data": {
      "text/plain": [
       "<AxesSubplot:>"
      ]
     },
     "execution_count": 23,
     "metadata": {},
     "output_type": "execute_result"
    },
    {
     "data": {
      "image/png": "[encoded data removed]",
      "text/plain": [
       "<Figure size 640x480 with 1 Axes>"
      ]
     },
     "metadata": {},
     "output_type": "display_data"
    }
   ],
   "source": [
    "fig, ax = plt.subplots()\n",
    "bins=np.arange(0,13_000,100)\n",
    "full_texts.article_length.hist(bins=bins, ax=ax)"
   ]
  },
  {
   "cell_type": "markdown",
   "id": "d3bf23cf-ac5d-460c-b44d-85871fe08944",
   "metadata": {},
   "source": [
    "# Read Wikipedia results"
   ]
  },
  {
   "cell_type": "markdown",
   "id": "4cf3091c-9ee9-422b-abe3-abf25b0cf8b6",
   "metadata": {},
   "source": [
    "This are the results from the Wikipedia query. The input for the query was the following file `portuguese_articles_and_names_v3.csv`. **Note that later, a new version of the Wikipedia query was developed and I did not have time to create a new training dataset using that lasted version**."
   ]
  },
  {
   "cell_type": "code",
   "execution_count": 18,
   "id": "8454f901-e920-487d-b9a2-958609710599",
   "metadata": {},
   "outputs": [],
   "source": [
    "inputdir = Path.cwd()\n",
    "filename = Path('Wikiresults.csv')\n",
    "wikidata = pd.read_csv(inputdir/filename, usecols=['id', 'name', 'results_Wikipedia'])"
   ]
  },
  {
   "cell_type": "markdown",
   "id": "07ef5dc2-f29a-4f1e-9bb9-189469fc521e",
   "metadata": {},
   "source": [
    "Take a look at it"
   ]
  },
  {
   "cell_type": "code",
   "execution_count": 19,
   "id": "fe5cab22-7c9c-4a6a-9748-277863a31134",
   "metadata": {},
   "outputs": [
    {
     "data": {
      "text/html": [
       "<div>\n",
       "<style scoped>\n",
       "    .dataframe tbody tr th:only-of-type {\n",
       "        vertical-align: middle;\n",
       "    }\n",
       "\n",
       "    .dataframe tbody tr th {\n",
       "        vertical-align: top;\n",
       "    }\n",
       "\n",
       "    .dataframe thead th {\n",
       "        text-align: right;\n",
       "    }\n",
       "</style>\n",
       "<table border=\"1\" class=\"dataframe\">\n",
       "  <thead>\n",
       "    <tr style=\"text-align: right;\">\n",
       "      <th></th>\n",
       "      <th>id</th>\n",
       "      <th>name</th>\n",
       "      <th>results_Wikipedia</th>\n",
       "    </tr>\n",
       "  </thead>\n",
       "  <tbody>\n",
       "    <tr>\n",
       "      <th>0</th>\n",
       "      <td>54006424</td>\n",
       "      <td>Clemens Tönnies</td>\n",
       "      <td>False</td>\n",
       "    </tr>\n",
       "    <tr>\n",
       "      <th>1</th>\n",
       "      <td>54006424</td>\n",
       "      <td>Gerald Asamoah</td>\n",
       "      <td>MALE</td>\n",
       "    </tr>\n",
       "    <tr>\n",
       "      <th>2</th>\n",
       "      <td>54006424</td>\n",
       "      <td>Hans Sarpei</td>\n",
       "      <td>MALE</td>\n",
       "    </tr>\n",
       "    <tr>\n",
       "      <th>3</th>\n",
       "      <td>54006424</td>\n",
       "      <td>Cacau</td>\n",
       "      <td>MALE</td>\n",
       "    </tr>\n",
       "    <tr>\n",
       "      <th>4</th>\n",
       "      <td>54003004</td>\n",
       "      <td>Angela Merkel</td>\n",
       "      <td>FEMALE</td>\n",
       "    </tr>\n",
       "    <tr>\n",
       "      <th>...</th>\n",
       "      <td>...</td>\n",
       "      <td>...</td>\n",
       "      <td>...</td>\n",
       "    </tr>\n",
       "    <tr>\n",
       "      <th>57264</th>\n",
       "      <td>54006072</td>\n",
       "      <td>Paulo</td>\n",
       "      <td>MALE</td>\n",
       "    </tr>\n",
       "    <tr>\n",
       "      <th>57265</th>\n",
       "      <td>54006072</td>\n",
       "      <td>Anderson Correia</td>\n",
       "      <td>False</td>\n",
       "    </tr>\n",
       "    <tr>\n",
       "      <th>57266</th>\n",
       "      <td>54006072</td>\n",
       "      <td>Renato Feder</td>\n",
       "      <td>False</td>\n",
       "    </tr>\n",
       "    <tr>\n",
       "      <th>57267</th>\n",
       "      <td>54006072</td>\n",
       "      <td>Sérgio</td>\n",
       "      <td>False</td>\n",
       "    </tr>\n",
       "    <tr>\n",
       "      <th>57268</th>\n",
       "      <td>54006072</td>\n",
       "      <td>Freitas</td>\n",
       "      <td>MALE</td>\n",
       "    </tr>\n",
       "  </tbody>\n",
       "</table>\n",
       "<p>57269 rows × 3 columns</p>\n",
       "</div>"
      ],
      "text/plain": [
       "             id              name results_Wikipedia\n",
       "0      54006424  Clemens Tönnies             False\n",
       "1      54006424    Gerald Asamoah              MALE\n",
       "2      54006424       Hans Sarpei              MALE\n",
       "3      54006424             Cacau              MALE\n",
       "4      54003004     Angela Merkel            FEMALE\n",
       "...         ...               ...               ...\n",
       "57264  54006072             Paulo              MALE\n",
       "57265  54006072  Anderson Correia             False\n",
       "57266  54006072      Renato Feder             False\n",
       "57267  54006072           Sérgio             False\n",
       "57268  54006072           Freitas              MALE\n",
       "\n",
       "[57269 rows x 3 columns]"
      ]
     },
     "execution_count": 19,
     "metadata": {},
     "output_type": "execute_result"
    }
   ],
   "source": [
    "wikidata"
   ]
  },
  {
   "cell_type": "markdown",
   "id": "b014da3f-a705-4fc0-93aa-424877bd09a7",
   "metadata": {},
   "source": [
    "See its information"
   ]
  },
  {
   "cell_type": "code",
   "execution_count": 27,
   "id": "89af1844-494c-41d6-a79a-44430e57d27b",
   "metadata": {},
   "outputs": [
    {
     "name": "stdout",
     "output_type": "stream",
     "text": [
      "<class 'pandas.core.frame.DataFrame'>\n",
      "RangeIndex: 57269 entries, 0 to 57268\n",
      "Data columns (total 3 columns):\n",
      " #   Column             Non-Null Count  Dtype \n",
      "---  ------             --------------  ----- \n",
      " 0   id                 57269 non-null  int64 \n",
      " 1   name               57269 non-null  object\n",
      " 2   results_Wikipedia  57269 non-null  object\n",
      "dtypes: int64(1), object(2)\n",
      "memory usage: 1.3+ MB\n"
     ]
    }
   ],
   "source": [
    "wikidata.info()"
   ]
  },
  {
   "cell_type": "markdown",
   "id": "a35386e6-b5bf-4bf0-965b-5e13415c47c7",
   "metadata": {},
   "source": [
    "Describe some columns"
   ]
  },
  {
   "cell_type": "code",
   "execution_count": 28,
   "id": "2e4e54a3-2263-4bf1-b10a-891b23786088",
   "metadata": {},
   "outputs": [
    {
     "data": {
      "text/html": [
       "<div>\n",
       "<style scoped>\n",
       "    .dataframe tbody tr th:only-of-type {\n",
       "        vertical-align: middle;\n",
       "    }\n",
       "\n",
       "    .dataframe tbody tr th {\n",
       "        vertical-align: top;\n",
       "    }\n",
       "\n",
       "    .dataframe thead th {\n",
       "        text-align: right;\n",
       "    }\n",
       "</style>\n",
       "<table border=\"1\" class=\"dataframe\">\n",
       "  <thead>\n",
       "    <tr style=\"text-align: right;\">\n",
       "      <th></th>\n",
       "      <th>name</th>\n",
       "      <th>results_Wikipedia</th>\n",
       "    </tr>\n",
       "  </thead>\n",
       "  <tbody>\n",
       "    <tr>\n",
       "      <th>count</th>\n",
       "      <td>57269</td>\n",
       "      <td>57269</td>\n",
       "    </tr>\n",
       "    <tr>\n",
       "      <th>unique</th>\n",
       "      <td>22171</td>\n",
       "      <td>4</td>\n",
       "    </tr>\n",
       "    <tr>\n",
       "      <th>top</th>\n",
       "      <td>Jair Bolsonaro</td>\n",
       "      <td>False</td>\n",
       "    </tr>\n",
       "    <tr>\n",
       "      <th>freq</th>\n",
       "      <td>2003</td>\n",
       "      <td>29229</td>\n",
       "    </tr>\n",
       "  </tbody>\n",
       "</table>\n",
       "</div>"
      ],
      "text/plain": [
       "                  name results_Wikipedia\n",
       "count            57269             57269\n",
       "unique           22171                 4\n",
       "top     Jair Bolsonaro             False\n",
       "freq              2003             29229"
      ]
     },
     "execution_count": 28,
     "metadata": {},
     "output_type": "execute_result"
    }
   ],
   "source": [
    "wikidata.describe(include=['object'])"
   ]
  },
  {
   "cell_type": "markdown",
   "id": "b96f52fd-737e-4f14-88fd-f9e5a32e510e",
   "metadata": {},
   "source": [
    "Check how many unique articles are there"
   ]
  },
  {
   "cell_type": "code",
   "execution_count": 21,
   "id": "42ffa4d1-97fe-456b-8578-8e168edae0cb",
   "metadata": {},
   "outputs": [
    {
     "data": {
      "text/plain": [
       "10541"
      ]
     },
     "execution_count": 21,
     "metadata": {},
     "output_type": "execute_result"
    }
   ],
   "source": [
    "wikidata.id.unique().size"
   ]
  },
  {
   "cell_type": "markdown",
   "id": "8c817cc6-402c-4959-9a72-8ca5575468e3",
   "metadata": {},
   "source": [
    "Check how many unique labels are there"
   ]
  },
  {
   "cell_type": "code",
   "execution_count": 22,
   "id": "157a45f6-9d60-4926-abac-18b62e2579b1",
   "metadata": {},
   "outputs": [
    {
     "data": {
      "text/plain": [
       "False     29229\n",
       "MALE      23121\n",
       "FEMALE     4912\n",
       "NB            7\n",
       "Name: results_Wikipedia, dtype: int64"
      ]
     },
     "execution_count": 22,
     "metadata": {},
     "output_type": "execute_result"
    }
   ],
   "source": [
    "wikidata.results_Wikipedia.value_counts()"
   ]
  },
  {
   "cell_type": "markdown",
   "id": "f06d4855-49a6-4fd1-9208-f405b1dd1bb9",
   "metadata": {},
   "source": [
    "Check how many names per article"
   ]
  },
  {
   "cell_type": "code",
   "execution_count": 31,
   "id": "5bf675ad-d357-4c4e-a519-c903cffc45e1",
   "metadata": {},
   "outputs": [],
   "source": [
    "wikidata_grouped_by_article = wikidata.groupby(['id']).agg({'name':lambda x: len(x)})"
   ]
  },
  {
   "cell_type": "code",
   "execution_count": 32,
   "id": "f32f9739-ee56-4f41-b53f-5293ba218d37",
   "metadata": {},
   "outputs": [
    {
     "data": {
      "text/html": [
       "<div>\n",
       "<style scoped>\n",
       "    .dataframe tbody tr th:only-of-type {\n",
       "        vertical-align: middle;\n",
       "    }\n",
       "\n",
       "    .dataframe tbody tr th {\n",
       "        vertical-align: top;\n",
       "    }\n",
       "\n",
       "    .dataframe thead th {\n",
       "        text-align: right;\n",
       "    }\n",
       "</style>\n",
       "<table border=\"1\" class=\"dataframe\">\n",
       "  <thead>\n",
       "    <tr style=\"text-align: right;\">\n",
       "      <th></th>\n",
       "      <th>name</th>\n",
       "    </tr>\n",
       "    <tr>\n",
       "      <th>id</th>\n",
       "      <th></th>\n",
       "    </tr>\n",
       "  </thead>\n",
       "  <tbody>\n",
       "    <tr>\n",
       "      <th>36728631</th>\n",
       "      <td>8</td>\n",
       "    </tr>\n",
       "    <tr>\n",
       "      <th>51740080</th>\n",
       "      <td>6</td>\n",
       "    </tr>\n",
       "    <tr>\n",
       "      <th>51846913</th>\n",
       "      <td>7</td>\n",
       "    </tr>\n",
       "    <tr>\n",
       "      <th>51850454</th>\n",
       "      <td>8</td>\n",
       "    </tr>\n",
       "    <tr>\n",
       "      <th>51850907</th>\n",
       "      <td>1</td>\n",
       "    </tr>\n",
       "  </tbody>\n",
       "</table>\n",
       "</div>"
      ],
      "text/plain": [
       "          name\n",
       "id            \n",
       "36728631     8\n",
       "51740080     6\n",
       "51846913     7\n",
       "51850454     8\n",
       "51850907     1"
      ]
     },
     "execution_count": 32,
     "metadata": {},
     "output_type": "execute_result"
    }
   ],
   "source": [
    "wikidata_grouped_by_article.head()"
   ]
  },
  {
   "cell_type": "code",
   "execution_count": 33,
   "id": "4e9ca104-f73e-4048-8028-2b10b895ae54",
   "metadata": {},
   "outputs": [
    {
     "data": {
      "text/plain": [
       "count    10541.000000\n",
       "mean         5.432976\n",
       "std          4.408547\n",
       "min          1.000000\n",
       "25%          2.000000\n",
       "50%          4.000000\n",
       "75%          7.000000\n",
       "max         79.000000\n",
       "Name: name, dtype: float64"
      ]
     },
     "execution_count": 33,
     "metadata": {},
     "output_type": "execute_result"
    }
   ],
   "source": [
    "wikidata_grouped_by_article.name.describe()"
   ]
  },
  {
   "cell_type": "code",
   "execution_count": 34,
   "id": "cc1bbf5c-87cd-46b7-a89c-18e4af402d18",
   "metadata": {
    "tags": []
   },
   "outputs": [
    {
     "data": {
      "text/plain": [
       "<AxesSubplot:>"
      ]
     },
     "execution_count": 34,
     "metadata": {},
     "output_type": "execute_result"
    },
    {
     "data": {
      "image/png": "[encoded data removed]",
      "text/plain": [
       "<Figure size 640x480 with 1 Axes>"
      ]
     },
     "metadata": {},
     "output_type": "display_data"
    }
   ],
   "source": [
    "bins = np.arange(-1,82)\n",
    "wikidata_grouped_by_article.name.hist(bins=bins)"
   ]
  },
  {
   "cell_type": "code",
   "execution_count": 35,
   "id": "67e809ba-2114-48fb-a3d2-0ecdcf37a98e",
   "metadata": {
    "tags": []
   },
   "outputs": [
    {
     "data": {
      "text/plain": [
       "<AxesSubplot:>"
      ]
     },
     "execution_count": 35,
     "metadata": {},
     "output_type": "execute_result"
    },
    {
     "data": {
      "image/png": "[encoded data removed]",
      "text/plain": [
       "<Figure size 640x480 with 1 Axes>"
      ]
     },
     "metadata": {},
     "output_type": "display_data"
    }
   ],
   "source": [
    "bins = np.arange(0,20)\n",
    "wikidata_grouped_by_article.name.hist(bins=bins)"
   ]
  },
  {
   "cell_type": "markdown",
   "id": "f3d9a199-0785-4ddf-adc3-621ca23b6a37",
   "metadata": {},
   "source": [
    "# Remove from the data the names that were not labelled as `female` or `male`"
   ]
  },
  {
   "cell_type": "markdown",
   "id": "2868db42-b2ff-421a-a1e8-c534722034b4",
   "metadata": {},
   "source": [
    "## Take a look at the labels to remove"
   ]
  },
  {
   "cell_type": "code",
   "execution_count": 36,
   "id": "650be832-ed77-4add-baea-39eb741aef59",
   "metadata": {},
   "outputs": [
    {
     "data": {
      "text/html": [
       "<div>\n",
       "<style scoped>\n",
       "    .dataframe tbody tr th:only-of-type {\n",
       "        vertical-align: middle;\n",
       "    }\n",
       "\n",
       "    .dataframe tbody tr th {\n",
       "        vertical-align: top;\n",
       "    }\n",
       "\n",
       "    .dataframe thead th {\n",
       "        text-align: right;\n",
       "    }\n",
       "</style>\n",
       "<table border=\"1\" class=\"dataframe\">\n",
       "  <thead>\n",
       "    <tr style=\"text-align: right;\">\n",
       "      <th></th>\n",
       "      <th>id</th>\n",
       "      <th>name</th>\n",
       "      <th>results_Wikipedia</th>\n",
       "    </tr>\n",
       "  </thead>\n",
       "  <tbody>\n",
       "    <tr>\n",
       "      <th>2848</th>\n",
       "      <td>54623961</td>\n",
       "      <td>Anuna De Wever</td>\n",
       "      <td>NB</td>\n",
       "    </tr>\n",
       "    <tr>\n",
       "      <th>12371</th>\n",
       "      <td>56283936</td>\n",
       "      <td>Demi Lovato</td>\n",
       "      <td>NB</td>\n",
       "    </tr>\n",
       "    <tr>\n",
       "      <th>27615</th>\n",
       "      <td>61271968</td>\n",
       "      <td>Sam Smith</td>\n",
       "      <td>NB</td>\n",
       "    </tr>\n",
       "    <tr>\n",
       "      <th>36301</th>\n",
       "      <td>58614355</td>\n",
       "      <td>Sam Smith</td>\n",
       "      <td>NB</td>\n",
       "    </tr>\n",
       "    <tr>\n",
       "      <th>39491</th>\n",
       "      <td>59148135</td>\n",
       "      <td>Judith Butler</td>\n",
       "      <td>NB</td>\n",
       "    </tr>\n",
       "    <tr>\n",
       "      <th>46219</th>\n",
       "      <td>51906971</td>\n",
       "      <td>Rose McGowan</td>\n",
       "      <td>NB</td>\n",
       "    </tr>\n",
       "    <tr>\n",
       "      <th>50325</th>\n",
       "      <td>52727890</td>\n",
       "      <td>Rose McGowan</td>\n",
       "      <td>NB</td>\n",
       "    </tr>\n",
       "  </tbody>\n",
       "</table>\n",
       "</div>"
      ],
      "text/plain": [
       "             id            name results_Wikipedia\n",
       "2848   54623961  Anuna De Wever                NB\n",
       "12371  56283936     Demi Lovato                NB\n",
       "27615  61271968       Sam Smith                NB\n",
       "36301  58614355       Sam Smith                NB\n",
       "39491  59148135   Judith Butler                NB\n",
       "46219  51906971    Rose McGowan                NB\n",
       "50325  52727890    Rose McGowan                NB"
      ]
     },
     "execution_count": 36,
     "metadata": {},
     "output_type": "execute_result"
    }
   ],
   "source": [
    "wikidata.query('results_Wikipedia==\"NB\"')"
   ]
  },
  {
   "cell_type": "code",
   "execution_count": 37,
   "id": "d3cc0c29-3e6e-4914-8a52-ccdae67ee7a6",
   "metadata": {},
   "outputs": [
    {
     "data": {
      "text/html": [
       "<div>\n",
       "<style scoped>\n",
       "    .dataframe tbody tr th:only-of-type {\n",
       "        vertical-align: middle;\n",
       "    }\n",
       "\n",
       "    .dataframe tbody tr th {\n",
       "        vertical-align: top;\n",
       "    }\n",
       "\n",
       "    .dataframe thead th {\n",
       "        text-align: right;\n",
       "    }\n",
       "</style>\n",
       "<table border=\"1\" class=\"dataframe\">\n",
       "  <thead>\n",
       "    <tr style=\"text-align: right;\">\n",
       "      <th></th>\n",
       "      <th>id</th>\n",
       "      <th>name</th>\n",
       "      <th>results_Wikipedia</th>\n",
       "    </tr>\n",
       "  </thead>\n",
       "  <tbody>\n",
       "    <tr>\n",
       "      <th>0</th>\n",
       "      <td>54006424</td>\n",
       "      <td>Clemens Tönnies</td>\n",
       "      <td>False</td>\n",
       "    </tr>\n",
       "    <tr>\n",
       "      <th>11</th>\n",
       "      <td>54009380</td>\n",
       "      <td>Lícia D ́Ávila</td>\n",
       "      <td>False</td>\n",
       "    </tr>\n",
       "    <tr>\n",
       "      <th>19</th>\n",
       "      <td>54009331</td>\n",
       "      <td>Mark Milley</td>\n",
       "      <td>False</td>\n",
       "    </tr>\n",
       "    <tr>\n",
       "      <th>20</th>\n",
       "      <td>54009331</td>\n",
       "      <td>Jonathan Hoffman</td>\n",
       "      <td>False</td>\n",
       "    </tr>\n",
       "    <tr>\n",
       "      <th>22</th>\n",
       "      <td>54009331</td>\n",
       "      <td>Peter Bayer</td>\n",
       "      <td>False</td>\n",
       "    </tr>\n",
       "    <tr>\n",
       "      <th>...</th>\n",
       "      <td>...</td>\n",
       "      <td>...</td>\n",
       "      <td>...</td>\n",
       "    </tr>\n",
       "    <tr>\n",
       "      <th>57261</th>\n",
       "      <td>54006072</td>\n",
       "      <td>Franco Bartolacci</td>\n",
       "      <td>False</td>\n",
       "    </tr>\n",
       "    <tr>\n",
       "      <th>57262</th>\n",
       "      <td>54006072</td>\n",
       "      <td>Thomas Conti</td>\n",
       "      <td>False</td>\n",
       "    </tr>\n",
       "    <tr>\n",
       "      <th>57265</th>\n",
       "      <td>54006072</td>\n",
       "      <td>Anderson Correia</td>\n",
       "      <td>False</td>\n",
       "    </tr>\n",
       "    <tr>\n",
       "      <th>57266</th>\n",
       "      <td>54006072</td>\n",
       "      <td>Renato Feder</td>\n",
       "      <td>False</td>\n",
       "    </tr>\n",
       "    <tr>\n",
       "      <th>57267</th>\n",
       "      <td>54006072</td>\n",
       "      <td>Sérgio</td>\n",
       "      <td>False</td>\n",
       "    </tr>\n",
       "  </tbody>\n",
       "</table>\n",
       "<p>29229 rows × 3 columns</p>\n",
       "</div>"
      ],
      "text/plain": [
       "             id               name results_Wikipedia\n",
       "0      54006424   Clemens Tönnies             False\n",
       "11     54009380   Lícia D ́Ávila             False\n",
       "19     54009331        Mark Milley             False\n",
       "20     54009331   Jonathan Hoffman             False\n",
       "22     54009331        Peter Bayer             False\n",
       "...         ...                ...               ...\n",
       "57261  54006072  Franco Bartolacci             False\n",
       "57262  54006072       Thomas Conti             False\n",
       "57265  54006072   Anderson Correia             False\n",
       "57266  54006072       Renato Feder             False\n",
       "57267  54006072            Sérgio             False\n",
       "\n",
       "[29229 rows x 3 columns]"
      ]
     },
     "execution_count": 37,
     "metadata": {},
     "output_type": "execute_result"
    }
   ],
   "source": [
    "wikidata.query('results_Wikipedia==\"False\"')"
   ]
  },
  {
   "cell_type": "markdown",
   "id": "fb6efbaa-ec65-4ee1-992b-7b2eab823ae4",
   "metadata": {},
   "source": [
    "## Take a look to the label `\"False\"`"
   ]
  },
  {
   "cell_type": "code",
   "execution_count": 38,
   "id": "941c5a63-03f9-426e-9fe0-84a674599030",
   "metadata": {},
   "outputs": [],
   "source": [
    "not_found_in_wikipedia = wikidata.query('results_Wikipedia==\"False\"')"
   ]
  },
  {
   "cell_type": "code",
   "execution_count": 39,
   "id": "217788b5-5542-4074-800e-7dcc75a77ea5",
   "metadata": {},
   "outputs": [],
   "source": [
    "not_found_in_wikipedia_grouped_by_article = not_found_in_wikipedia.groupby(['id']).agg({'name':lambda x: len(x)})"
   ]
  },
  {
   "cell_type": "code",
   "execution_count": 40,
   "id": "60e0c2ef-18aa-49b7-a09d-6fd2bd8fdf20",
   "metadata": {},
   "outputs": [
    {
     "data": {
      "text/html": [
       "<div>\n",
       "<style scoped>\n",
       "    .dataframe tbody tr th:only-of-type {\n",
       "        vertical-align: middle;\n",
       "    }\n",
       "\n",
       "    .dataframe tbody tr th {\n",
       "        vertical-align: top;\n",
       "    }\n",
       "\n",
       "    .dataframe thead th {\n",
       "        text-align: right;\n",
       "    }\n",
       "</style>\n",
       "<table border=\"1\" class=\"dataframe\">\n",
       "  <thead>\n",
       "    <tr style=\"text-align: right;\">\n",
       "      <th></th>\n",
       "      <th>name</th>\n",
       "    </tr>\n",
       "    <tr>\n",
       "      <th>id</th>\n",
       "      <th></th>\n",
       "    </tr>\n",
       "  </thead>\n",
       "  <tbody>\n",
       "    <tr>\n",
       "      <th>36728631</th>\n",
       "      <td>3</td>\n",
       "    </tr>\n",
       "    <tr>\n",
       "      <th>51740080</th>\n",
       "      <td>4</td>\n",
       "    </tr>\n",
       "    <tr>\n",
       "      <th>51846913</th>\n",
       "      <td>2</td>\n",
       "    </tr>\n",
       "    <tr>\n",
       "      <th>51850454</th>\n",
       "      <td>3</td>\n",
       "    </tr>\n",
       "    <tr>\n",
       "      <th>51850907</th>\n",
       "      <td>1</td>\n",
       "    </tr>\n",
       "  </tbody>\n",
       "</table>\n",
       "</div>"
      ],
      "text/plain": [
       "          name\n",
       "id            \n",
       "36728631     3\n",
       "51740080     4\n",
       "51846913     2\n",
       "51850454     3\n",
       "51850907     1"
      ]
     },
     "execution_count": 40,
     "metadata": {},
     "output_type": "execute_result"
    }
   ],
   "source": [
    "not_found_in_wikipedia_grouped_by_article.head()"
   ]
  },
  {
   "cell_type": "code",
   "execution_count": 41,
   "id": "5965c68f-b1fc-4f15-86b3-91ab24823ed4",
   "metadata": {},
   "outputs": [
    {
     "data": {
      "text/plain": [
       "count    9143.000000\n",
       "mean        3.196872\n",
       "std         2.504112\n",
       "min         1.000000\n",
       "25%         1.000000\n",
       "50%         3.000000\n",
       "75%         4.000000\n",
       "max        49.000000\n",
       "Name: name, dtype: float64"
      ]
     },
     "execution_count": 41,
     "metadata": {},
     "output_type": "execute_result"
    }
   ],
   "source": [
    "not_found_in_wikipedia_grouped_by_article.name.describe()"
   ]
  },
  {
   "cell_type": "code",
   "execution_count": 42,
   "id": "c7f45122-123d-4d35-b735-b8427962efdb",
   "metadata": {
    "tags": []
   },
   "outputs": [
    {
     "data": {
      "text/plain": [
       "<matplotlib.legend.Legend at 0x7f6d691a9c00>"
      ]
     },
     "execution_count": 42,
     "metadata": {},
     "output_type": "execute_result"
    },
    {
     "data": {
      "image/png": "[encoded data removed]",
      "text/plain": [
       "<Figure size 640x480 with 1 Axes>"
      ]
     },
     "metadata": {},
     "output_type": "display_data"
    }
   ],
   "source": [
    "fig, ax = plt.subplots()\n",
    "bins = np.arange(0,20)\n",
    "wikidata_grouped_by_article.name.hist(bins=bins, ax=ax, label='all data', alpha=1.0, color='k', grid=False)\n",
    "not_found_in_wikipedia_grouped_by_article.name.hist(bins=bins, ax=ax, label='gender not found in Wikipedia', alpha=0.5, color='r', grid=False)\n",
    "plt.legend()"
   ]
  },
  {
   "cell_type": "markdown",
   "id": "22845dd1-2245-476f-9af9-af30ba55ff17",
   "metadata": {},
   "source": [
    "Remove those labels"
   ]
  },
  {
   "cell_type": "code",
   "execution_count": 43,
   "id": "5817c993-6584-4eef-8f1c-857ce6750c2a",
   "metadata": {},
   "outputs": [],
   "source": [
    "lst = ['NB', 'False'] # labels to remove"
   ]
  },
  {
   "cell_type": "code",
   "execution_count": 44,
   "id": "b189ec7f-b1ac-460d-90f4-bf038da642a9",
   "metadata": {},
   "outputs": [],
   "source": [
    "new_wikidata = wikidata.query('results_Wikipedia not in @lst')"
   ]
  },
  {
   "cell_type": "markdown",
   "id": "c668b937-2635-47eb-bd11-d96f597085a5",
   "metadata": {},
   "source": [
    "Take a look at it"
   ]
  },
  {
   "cell_type": "code",
   "execution_count": 45,
   "id": "b86c6c5f-6977-4bf6-89fd-a30d6e417f16",
   "metadata": {},
   "outputs": [
    {
     "data": {
      "text/html": [
       "<div>\n",
       "<style scoped>\n",
       "    .dataframe tbody tr th:only-of-type {\n",
       "        vertical-align: middle;\n",
       "    }\n",
       "\n",
       "    .dataframe tbody tr th {\n",
       "        vertical-align: top;\n",
       "    }\n",
       "\n",
       "    .dataframe thead th {\n",
       "        text-align: right;\n",
       "    }\n",
       "</style>\n",
       "<table border=\"1\" class=\"dataframe\">\n",
       "  <thead>\n",
       "    <tr style=\"text-align: right;\">\n",
       "      <th></th>\n",
       "      <th>id</th>\n",
       "      <th>name</th>\n",
       "      <th>results_Wikipedia</th>\n",
       "    </tr>\n",
       "  </thead>\n",
       "  <tbody>\n",
       "    <tr>\n",
       "      <th>1</th>\n",
       "      <td>54006424</td>\n",
       "      <td>Gerald Asamoah</td>\n",
       "      <td>MALE</td>\n",
       "    </tr>\n",
       "    <tr>\n",
       "      <th>2</th>\n",
       "      <td>54006424</td>\n",
       "      <td>Hans Sarpei</td>\n",
       "      <td>MALE</td>\n",
       "    </tr>\n",
       "    <tr>\n",
       "      <th>3</th>\n",
       "      <td>54006424</td>\n",
       "      <td>Cacau</td>\n",
       "      <td>MALE</td>\n",
       "    </tr>\n",
       "    <tr>\n",
       "      <th>4</th>\n",
       "      <td>54003004</td>\n",
       "      <td>Angela Merkel</td>\n",
       "      <td>FEMALE</td>\n",
       "    </tr>\n",
       "    <tr>\n",
       "      <th>5</th>\n",
       "      <td>54003004</td>\n",
       "      <td>Emmanuel Macron</td>\n",
       "      <td>MALE</td>\n",
       "    </tr>\n",
       "    <tr>\n",
       "      <th>...</th>\n",
       "      <td>...</td>\n",
       "      <td>...</td>\n",
       "      <td>...</td>\n",
       "    </tr>\n",
       "    <tr>\n",
       "      <th>57259</th>\n",
       "      <td>54006072</td>\n",
       "      <td>Abraham Weintraub</td>\n",
       "      <td>MALE</td>\n",
       "    </tr>\n",
       "    <tr>\n",
       "      <th>57260</th>\n",
       "      <td>54006072</td>\n",
       "      <td>Carlos Alberto Decotelli da Silva</td>\n",
       "      <td>MALE</td>\n",
       "    </tr>\n",
       "    <tr>\n",
       "      <th>57263</th>\n",
       "      <td>54006072</td>\n",
       "      <td>Lattes</td>\n",
       "      <td>MALE</td>\n",
       "    </tr>\n",
       "    <tr>\n",
       "      <th>57264</th>\n",
       "      <td>54006072</td>\n",
       "      <td>Paulo</td>\n",
       "      <td>MALE</td>\n",
       "    </tr>\n",
       "    <tr>\n",
       "      <th>57268</th>\n",
       "      <td>54006072</td>\n",
       "      <td>Freitas</td>\n",
       "      <td>MALE</td>\n",
       "    </tr>\n",
       "  </tbody>\n",
       "</table>\n",
       "<p>28033 rows × 3 columns</p>\n",
       "</div>"
      ],
      "text/plain": [
       "             id                               name results_Wikipedia\n",
       "1      54006424                     Gerald Asamoah              MALE\n",
       "2      54006424                        Hans Sarpei              MALE\n",
       "3      54006424                              Cacau              MALE\n",
       "4      54003004                      Angela Merkel            FEMALE\n",
       "5      54003004                    Emmanuel Macron              MALE\n",
       "...         ...                                ...               ...\n",
       "57259  54006072                  Abraham Weintraub              MALE\n",
       "57260  54006072  Carlos Alberto Decotelli da Silva              MALE\n",
       "57263  54006072                             Lattes              MALE\n",
       "57264  54006072                              Paulo              MALE\n",
       "57268  54006072                            Freitas              MALE\n",
       "\n",
       "[28033 rows x 3 columns]"
      ]
     },
     "execution_count": 45,
     "metadata": {},
     "output_type": "execute_result"
    }
   ],
   "source": [
    "new_wikidata"
   ]
  },
  {
   "cell_type": "markdown",
   "id": "20aa4248-34c2-4659-b91b-184962b9ba30",
   "metadata": {},
   "source": [
    "See its information"
   ]
  },
  {
   "cell_type": "code",
   "execution_count": 46,
   "id": "729c51dd-73e8-4eda-982f-3859c63f3707",
   "metadata": {},
   "outputs": [
    {
     "name": "stdout",
     "output_type": "stream",
     "text": [
      "<class 'pandas.core.frame.DataFrame'>\n",
      "Int64Index: 28033 entries, 1 to 57268\n",
      "Data columns (total 3 columns):\n",
      " #   Column             Non-Null Count  Dtype \n",
      "---  ------             --------------  ----- \n",
      " 0   id                 28033 non-null  int64 \n",
      " 1   name               28033 non-null  object\n",
      " 2   results_Wikipedia  28033 non-null  object\n",
      "dtypes: int64(1), object(2)\n",
      "memory usage: 876.0+ KB\n"
     ]
    }
   ],
   "source": [
    "new_wikidata.info()"
   ]
  },
  {
   "cell_type": "markdown",
   "id": "38c8c9d3-f978-478d-abd4-eadd4cfa2a97",
   "metadata": {},
   "source": [
    "Describe some columns"
   ]
  },
  {
   "cell_type": "code",
   "execution_count": 47,
   "id": "d9388cb0-2292-480b-a55d-ec519c927aea",
   "metadata": {},
   "outputs": [
    {
     "data": {
      "text/html": [
       "<div>\n",
       "<style scoped>\n",
       "    .dataframe tbody tr th:only-of-type {\n",
       "        vertical-align: middle;\n",
       "    }\n",
       "\n",
       "    .dataframe tbody tr th {\n",
       "        vertical-align: top;\n",
       "    }\n",
       "\n",
       "    .dataframe thead th {\n",
       "        text-align: right;\n",
       "    }\n",
       "</style>\n",
       "<table border=\"1\" class=\"dataframe\">\n",
       "  <thead>\n",
       "    <tr style=\"text-align: right;\">\n",
       "      <th></th>\n",
       "      <th>name</th>\n",
       "      <th>results_Wikipedia</th>\n",
       "    </tr>\n",
       "  </thead>\n",
       "  <tbody>\n",
       "    <tr>\n",
       "      <th>count</th>\n",
       "      <td>28033</td>\n",
       "      <td>28033</td>\n",
       "    </tr>\n",
       "    <tr>\n",
       "      <th>unique</th>\n",
       "      <td>5218</td>\n",
       "      <td>2</td>\n",
       "    </tr>\n",
       "    <tr>\n",
       "      <th>top</th>\n",
       "      <td>Jair Bolsonaro</td>\n",
       "      <td>MALE</td>\n",
       "    </tr>\n",
       "    <tr>\n",
       "      <th>freq</th>\n",
       "      <td>2003</td>\n",
       "      <td>23121</td>\n",
       "    </tr>\n",
       "  </tbody>\n",
       "</table>\n",
       "</div>"
      ],
      "text/plain": [
       "                  name results_Wikipedia\n",
       "count            28033             28033\n",
       "unique            5218                 2\n",
       "top     Jair Bolsonaro              MALE\n",
       "freq              2003             23121"
      ]
     },
     "execution_count": 47,
     "metadata": {},
     "output_type": "execute_result"
    }
   ],
   "source": [
    "new_wikidata.describe(include=['object'])"
   ]
  },
  {
   "cell_type": "markdown",
   "id": "624e4e27-30c7-4635-8d09-e82d08287a7f",
   "metadata": {},
   "source": [
    "Check how many unique articles are there"
   ]
  },
  {
   "cell_type": "code",
   "execution_count": 48,
   "id": "a29b7f6e-9654-4959-825d-57111422b006",
   "metadata": {},
   "outputs": [
    {
     "data": {
      "text/plain": [
       "8492"
      ]
     },
     "execution_count": 48,
     "metadata": {},
     "output_type": "execute_result"
    }
   ],
   "source": [
    "new_wikidata.id.unique().size"
   ]
  },
  {
   "cell_type": "markdown",
   "id": "e1c37e7b-8275-4cc6-a8b7-ed05eb5dc642",
   "metadata": {},
   "source": [
    "Check how many unique labels are there"
   ]
  },
  {
   "cell_type": "code",
   "execution_count": 49,
   "id": "2e2e9fa7-9fdf-4d59-a15a-893f5568da1d",
   "metadata": {},
   "outputs": [
    {
     "data": {
      "text/plain": [
       "MALE      23121\n",
       "FEMALE     4912\n",
       "Name: results_Wikipedia, dtype: int64"
      ]
     },
     "execution_count": 49,
     "metadata": {},
     "output_type": "execute_result"
    }
   ],
   "source": [
    "new_wikidata.results_Wikipedia.value_counts()"
   ]
  },
  {
   "cell_type": "markdown",
   "id": "d257c2d3-1c29-450a-978c-35e4b19bfd89",
   "metadata": {},
   "source": [
    "Check how many names per article"
   ]
  },
  {
   "cell_type": "code",
   "execution_count": 50,
   "id": "6c738abb-a2e7-4dd2-9963-722b6f1524e3",
   "metadata": {},
   "outputs": [],
   "source": [
    "new_wikidata_grouped_by_article = new_wikidata.groupby(['id']).agg({'name':lambda x: len(x)})"
   ]
  },
  {
   "cell_type": "code",
   "execution_count": 51,
   "id": "c2a6d864-9707-4f4f-a127-7f0ab54013fb",
   "metadata": {},
   "outputs": [
    {
     "data": {
      "text/html": [
       "<div>\n",
       "<style scoped>\n",
       "    .dataframe tbody tr th:only-of-type {\n",
       "        vertical-align: middle;\n",
       "    }\n",
       "\n",
       "    .dataframe tbody tr th {\n",
       "        vertical-align: top;\n",
       "    }\n",
       "\n",
       "    .dataframe thead th {\n",
       "        text-align: right;\n",
       "    }\n",
       "</style>\n",
       "<table border=\"1\" class=\"dataframe\">\n",
       "  <thead>\n",
       "    <tr style=\"text-align: right;\">\n",
       "      <th></th>\n",
       "      <th>name</th>\n",
       "    </tr>\n",
       "    <tr>\n",
       "      <th>id</th>\n",
       "      <th></th>\n",
       "    </tr>\n",
       "  </thead>\n",
       "  <tbody>\n",
       "    <tr>\n",
       "      <th>36728631</th>\n",
       "      <td>5</td>\n",
       "    </tr>\n",
       "    <tr>\n",
       "      <th>51740080</th>\n",
       "      <td>2</td>\n",
       "    </tr>\n",
       "    <tr>\n",
       "      <th>51846913</th>\n",
       "      <td>5</td>\n",
       "    </tr>\n",
       "    <tr>\n",
       "      <th>51850454</th>\n",
       "      <td>5</td>\n",
       "    </tr>\n",
       "    <tr>\n",
       "      <th>51851186</th>\n",
       "      <td>1</td>\n",
       "    </tr>\n",
       "  </tbody>\n",
       "</table>\n",
       "</div>"
      ],
      "text/plain": [
       "          name\n",
       "id            \n",
       "36728631     5\n",
       "51740080     2\n",
       "51846913     5\n",
       "51850454     5\n",
       "51851186     1"
      ]
     },
     "execution_count": 51,
     "metadata": {},
     "output_type": "execute_result"
    }
   ],
   "source": [
    "new_wikidata_grouped_by_article.head()"
   ]
  },
  {
   "cell_type": "code",
   "execution_count": 52,
   "id": "78e69c77-0b53-46c9-b674-80fd97fafc35",
   "metadata": {},
   "outputs": [
    {
     "data": {
      "text/plain": [
       "count    8492.000000\n",
       "mean        3.301107\n",
       "std         2.826492\n",
       "min         1.000000\n",
       "25%         1.000000\n",
       "50%         2.000000\n",
       "75%         4.000000\n",
       "max        33.000000\n",
       "Name: name, dtype: float64"
      ]
     },
     "execution_count": 52,
     "metadata": {},
     "output_type": "execute_result"
    }
   ],
   "source": [
    "new_wikidata_grouped_by_article.name.describe()"
   ]
  },
  {
   "cell_type": "code",
   "execution_count": 53,
   "id": "4cdf83f8-80e9-490f-a318-5ecd074eaad5",
   "metadata": {
    "tags": []
   },
   "outputs": [
    {
     "data": {
      "text/plain": [
       "<AxesSubplot:>"
      ]
     },
     "execution_count": 53,
     "metadata": {},
     "output_type": "execute_result"
    },
    {
     "data": {
      "image/png": "[encoded data removed]",
      "text/plain": [
       "<Figure size 640x480 with 1 Axes>"
      ]
     },
     "metadata": {},
     "output_type": "display_data"
    }
   ],
   "source": [
    "bins = np.arange(0,35)\n",
    "new_wikidata_grouped_by_article.name.hist(bins=bins)"
   ]
  },
  {
   "cell_type": "code",
   "execution_count": 54,
   "id": "6937e3f8-fcff-45ee-90e5-f6157d083f6b",
   "metadata": {
    "tags": []
   },
   "outputs": [
    {
     "data": {
      "text/plain": [
       "<matplotlib.legend.Legend at 0x7f6d69064cd0>"
      ]
     },
     "execution_count": 54,
     "metadata": {},
     "output_type": "execute_result"
    },
    {
     "data": {
      "image/png": "[encoded data removed]",
      "text/plain": [
       "<Figure size 640x480 with 1 Axes>"
      ]
     },
     "metadata": {},
     "output_type": "display_data"
    }
   ],
   "source": [
    "fig, ax = plt.subplots()\n",
    "bins = np.arange(0,35)\n",
    "wikidata_grouped_by_article.name.hist(bins=bins, ax=ax, label='all data', alpha=1.0, color='k', grid=False)\n",
    "new_wikidata_grouped_by_article.name.hist(bins=bins, ax=ax, label='only male and female labelled data', alpha=0.5, color='r', grid=False)\n",
    "plt.legend()"
   ]
  },
  {
   "cell_type": "code",
   "execution_count": 55,
   "id": "db6ecca8-d72b-45ef-9e03-098cb3f88afe",
   "metadata": {
    "tags": []
   },
   "outputs": [
    {
     "data": {
      "text/plain": [
       "<matplotlib.legend.Legend at 0x7f6d691a88b0>"
      ]
     },
     "execution_count": 55,
     "metadata": {},
     "output_type": "execute_result"
    },
    {
     "data": {
      "image/png": "[encoded data removed]",
      "text/plain": [
       "<Figure size 640x480 with 1 Axes>"
      ]
     },
     "metadata": {},
     "output_type": "display_data"
    }
   ],
   "source": [
    "fig, ax = plt.subplots()\n",
    "bins = np.arange(0,35)\n",
    "wikidata_grouped_by_article.name.hist(bins=bins, ax=ax, label='all data', alpha=1.0, color='k', grid=False)\n",
    "new_wikidata_grouped_by_article.name.hist(bins=bins, ax=ax, label='only male and female labelled data', alpha=0.5, color='r', grid=False)\n",
    "not_found_in_wikipedia_grouped_by_article.name.hist(bins=bins, ax=ax, label='ender not found in Wikipedia', alpha=0.5, color='dodgerblue', grid=False)\n",
    "plt.legend()"
   ]
  },
  {
   "cell_type": "markdown",
   "id": "2f010cab-eec3-4590-b73f-5ab36d868336",
   "metadata": {},
   "source": [
    "It makes sense that, if the most likely value in red and blue is 1, then, because black is the union, the most likely value moves to the right.\n",
    "\n",
    "-> If most of the unknown names happen alone in an article (blue), and most gendered names happen alone in an article (red), then the histogram tell us that most likely there are many articles that contain one gendered name and one unknown name."
   ]
  },
  {
   "cell_type": "code",
   "execution_count": 56,
   "id": "fbbd029a-cc4e-4f1d-b7bb-c271a9c9ad20",
   "metadata": {},
   "outputs": [],
   "source": [
    "wikidata = new_wikidata\n",
    "wikidata_grouped_by_article = new_wikidata_grouped_by_article"
   ]
  },
  {
   "cell_type": "markdown",
   "id": "04b4c988-a8bf-4f86-9b2b-225c962c88c9",
   "metadata": {},
   "source": [
    "# Remove articles with too many names in it (outliers)"
   ]
  },
  {
   "cell_type": "markdown",
   "id": "d9cf720d-7a0a-410f-9a74-bf3c9a47b2e6",
   "metadata": {},
   "source": [
    "## Take a look at the data"
   ]
  },
  {
   "cell_type": "code",
   "execution_count": 57,
   "id": "c6e22d37-63b8-4c2b-a977-3561d7ec498e",
   "metadata": {},
   "outputs": [
    {
     "data": {
      "text/html": [
       "<div>\n",
       "<style scoped>\n",
       "    .dataframe tbody tr th:only-of-type {\n",
       "        vertical-align: middle;\n",
       "    }\n",
       "\n",
       "    .dataframe tbody tr th {\n",
       "        vertical-align: top;\n",
       "    }\n",
       "\n",
       "    .dataframe thead th {\n",
       "        text-align: right;\n",
       "    }\n",
       "</style>\n",
       "<table border=\"1\" class=\"dataframe\">\n",
       "  <thead>\n",
       "    <tr style=\"text-align: right;\">\n",
       "      <th></th>\n",
       "      <th>id</th>\n",
       "      <th>name</th>\n",
       "      <th>results_Wikipedia</th>\n",
       "    </tr>\n",
       "  </thead>\n",
       "  <tbody>\n",
       "    <tr>\n",
       "      <th>1</th>\n",
       "      <td>54006424</td>\n",
       "      <td>Gerald Asamoah</td>\n",
       "      <td>MALE</td>\n",
       "    </tr>\n",
       "    <tr>\n",
       "      <th>2</th>\n",
       "      <td>54006424</td>\n",
       "      <td>Hans Sarpei</td>\n",
       "      <td>MALE</td>\n",
       "    </tr>\n",
       "    <tr>\n",
       "      <th>3</th>\n",
       "      <td>54006424</td>\n",
       "      <td>Cacau</td>\n",
       "      <td>MALE</td>\n",
       "    </tr>\n",
       "    <tr>\n",
       "      <th>4</th>\n",
       "      <td>54003004</td>\n",
       "      <td>Angela Merkel</td>\n",
       "      <td>FEMALE</td>\n",
       "    </tr>\n",
       "    <tr>\n",
       "      <th>5</th>\n",
       "      <td>54003004</td>\n",
       "      <td>Emmanuel Macron</td>\n",
       "      <td>MALE</td>\n",
       "    </tr>\n",
       "    <tr>\n",
       "      <th>...</th>\n",
       "      <td>...</td>\n",
       "      <td>...</td>\n",
       "      <td>...</td>\n",
       "    </tr>\n",
       "    <tr>\n",
       "      <th>57259</th>\n",
       "      <td>54006072</td>\n",
       "      <td>Abraham Weintraub</td>\n",
       "      <td>MALE</td>\n",
       "    </tr>\n",
       "    <tr>\n",
       "      <th>57260</th>\n",
       "      <td>54006072</td>\n",
       "      <td>Carlos Alberto Decotelli da Silva</td>\n",
       "      <td>MALE</td>\n",
       "    </tr>\n",
       "    <tr>\n",
       "      <th>57263</th>\n",
       "      <td>54006072</td>\n",
       "      <td>Lattes</td>\n",
       "      <td>MALE</td>\n",
       "    </tr>\n",
       "    <tr>\n",
       "      <th>57264</th>\n",
       "      <td>54006072</td>\n",
       "      <td>Paulo</td>\n",
       "      <td>MALE</td>\n",
       "    </tr>\n",
       "    <tr>\n",
       "      <th>57268</th>\n",
       "      <td>54006072</td>\n",
       "      <td>Freitas</td>\n",
       "      <td>MALE</td>\n",
       "    </tr>\n",
       "  </tbody>\n",
       "</table>\n",
       "<p>28033 rows × 3 columns</p>\n",
       "</div>"
      ],
      "text/plain": [
       "             id                               name results_Wikipedia\n",
       "1      54006424                     Gerald Asamoah              MALE\n",
       "2      54006424                        Hans Sarpei              MALE\n",
       "3      54006424                              Cacau              MALE\n",
       "4      54003004                      Angela Merkel            FEMALE\n",
       "5      54003004                    Emmanuel Macron              MALE\n",
       "...         ...                                ...               ...\n",
       "57259  54006072                  Abraham Weintraub              MALE\n",
       "57260  54006072  Carlos Alberto Decotelli da Silva              MALE\n",
       "57263  54006072                             Lattes              MALE\n",
       "57264  54006072                              Paulo              MALE\n",
       "57268  54006072                            Freitas              MALE\n",
       "\n",
       "[28033 rows x 3 columns]"
      ]
     },
     "execution_count": 57,
     "metadata": {},
     "output_type": "execute_result"
    }
   ],
   "source": [
    "wikidata"
   ]
  },
  {
   "cell_type": "markdown",
   "id": "f7be0fc4-8263-4068-a6c6-47aa53e7df53",
   "metadata": {},
   "source": [
    "See its information"
   ]
  },
  {
   "cell_type": "code",
   "execution_count": 58,
   "id": "299e63fd-91f7-4653-be4e-ca5e6b914a41",
   "metadata": {},
   "outputs": [
    {
     "name": "stdout",
     "output_type": "stream",
     "text": [
      "<class 'pandas.core.frame.DataFrame'>\n",
      "Int64Index: 28033 entries, 1 to 57268\n",
      "Data columns (total 3 columns):\n",
      " #   Column             Non-Null Count  Dtype \n",
      "---  ------             --------------  ----- \n",
      " 0   id                 28033 non-null  int64 \n",
      " 1   name               28033 non-null  object\n",
      " 2   results_Wikipedia  28033 non-null  object\n",
      "dtypes: int64(1), object(2)\n",
      "memory usage: 876.0+ KB\n"
     ]
    }
   ],
   "source": [
    "wikidata.info()"
   ]
  },
  {
   "cell_type": "markdown",
   "id": "57d6c6ff-4155-4765-96f5-848b3e05d336",
   "metadata": {},
   "source": [
    "Describe some columns"
   ]
  },
  {
   "cell_type": "code",
   "execution_count": 59,
   "id": "2b9a2564-f6fb-4045-bda4-1876aa627ebc",
   "metadata": {},
   "outputs": [
    {
     "data": {
      "text/html": [
       "<div>\n",
       "<style scoped>\n",
       "    .dataframe tbody tr th:only-of-type {\n",
       "        vertical-align: middle;\n",
       "    }\n",
       "\n",
       "    .dataframe tbody tr th {\n",
       "        vertical-align: top;\n",
       "    }\n",
       "\n",
       "    .dataframe thead th {\n",
       "        text-align: right;\n",
       "    }\n",
       "</style>\n",
       "<table border=\"1\" class=\"dataframe\">\n",
       "  <thead>\n",
       "    <tr style=\"text-align: right;\">\n",
       "      <th></th>\n",
       "      <th>name</th>\n",
       "      <th>results_Wikipedia</th>\n",
       "    </tr>\n",
       "  </thead>\n",
       "  <tbody>\n",
       "    <tr>\n",
       "      <th>count</th>\n",
       "      <td>28033</td>\n",
       "      <td>28033</td>\n",
       "    </tr>\n",
       "    <tr>\n",
       "      <th>unique</th>\n",
       "      <td>5218</td>\n",
       "      <td>2</td>\n",
       "    </tr>\n",
       "    <tr>\n",
       "      <th>top</th>\n",
       "      <td>Jair Bolsonaro</td>\n",
       "      <td>MALE</td>\n",
       "    </tr>\n",
       "    <tr>\n",
       "      <th>freq</th>\n",
       "      <td>2003</td>\n",
       "      <td>23121</td>\n",
       "    </tr>\n",
       "  </tbody>\n",
       "</table>\n",
       "</div>"
      ],
      "text/plain": [
       "                  name results_Wikipedia\n",
       "count            28033             28033\n",
       "unique            5218                 2\n",
       "top     Jair Bolsonaro              MALE\n",
       "freq              2003             23121"
      ]
     },
     "execution_count": 59,
     "metadata": {},
     "output_type": "execute_result"
    }
   ],
   "source": [
    "wikidata.describe(include=['object'])"
   ]
  },
  {
   "cell_type": "markdown",
   "id": "514d92a4-d396-42c8-801e-747a8417bd08",
   "metadata": {},
   "source": [
    "Check how many unique articles are there"
   ]
  },
  {
   "cell_type": "code",
   "execution_count": 60,
   "id": "99a01d72-46e5-42ce-968a-9d241598b788",
   "metadata": {},
   "outputs": [
    {
     "data": {
      "text/plain": [
       "8492"
      ]
     },
     "execution_count": 60,
     "metadata": {},
     "output_type": "execute_result"
    }
   ],
   "source": [
    "wikidata.id.unique().size"
   ]
  },
  {
   "cell_type": "markdown",
   "id": "e91f1df2-b7cf-4e9f-872b-91ab4a4448c6",
   "metadata": {},
   "source": [
    "Check how many unique labels are there"
   ]
  },
  {
   "cell_type": "code",
   "execution_count": 61,
   "id": "27c5ee48-11de-4976-acd7-1fac1f25720e",
   "metadata": {},
   "outputs": [
    {
     "data": {
      "text/plain": [
       "MALE      23121\n",
       "FEMALE     4912\n",
       "Name: results_Wikipedia, dtype: int64"
      ]
     },
     "execution_count": 61,
     "metadata": {},
     "output_type": "execute_result"
    }
   ],
   "source": [
    "wikidata.results_Wikipedia.value_counts()"
   ]
  },
  {
   "cell_type": "markdown",
   "id": "2138ab33-6b61-4361-8293-4547ae01af67",
   "metadata": {},
   "source": [
    "Check how many names per article"
   ]
  },
  {
   "cell_type": "code",
   "execution_count": 62,
   "id": "1d48fdfd-8c08-4812-804a-6d16112db1e1",
   "metadata": {},
   "outputs": [],
   "source": [
    "wikidata_grouped_by_article = new_wikidata.groupby(['id']).agg({'name':lambda x: len(x)})"
   ]
  },
  {
   "cell_type": "code",
   "execution_count": 63,
   "id": "d4ed2d3e-687e-44cb-aec4-dcba8e6afcfb",
   "metadata": {},
   "outputs": [
    {
     "data": {
      "text/html": [
       "<div>\n",
       "<style scoped>\n",
       "    .dataframe tbody tr th:only-of-type {\n",
       "        vertical-align: middle;\n",
       "    }\n",
       "\n",
       "    .dataframe tbody tr th {\n",
       "        vertical-align: top;\n",
       "    }\n",
       "\n",
       "    .dataframe thead th {\n",
       "        text-align: right;\n",
       "    }\n",
       "</style>\n",
       "<table border=\"1\" class=\"dataframe\">\n",
       "  <thead>\n",
       "    <tr style=\"text-align: right;\">\n",
       "      <th></th>\n",
       "      <th>name</th>\n",
       "    </tr>\n",
       "    <tr>\n",
       "      <th>id</th>\n",
       "      <th></th>\n",
       "    </tr>\n",
       "  </thead>\n",
       "  <tbody>\n",
       "    <tr>\n",
       "      <th>36728631</th>\n",
       "      <td>5</td>\n",
       "    </tr>\n",
       "    <tr>\n",
       "      <th>51740080</th>\n",
       "      <td>2</td>\n",
       "    </tr>\n",
       "    <tr>\n",
       "      <th>51846913</th>\n",
       "      <td>5</td>\n",
       "    </tr>\n",
       "    <tr>\n",
       "      <th>51850454</th>\n",
       "      <td>5</td>\n",
       "    </tr>\n",
       "    <tr>\n",
       "      <th>51851186</th>\n",
       "      <td>1</td>\n",
       "    </tr>\n",
       "  </tbody>\n",
       "</table>\n",
       "</div>"
      ],
      "text/plain": [
       "          name\n",
       "id            \n",
       "36728631     5\n",
       "51740080     2\n",
       "51846913     5\n",
       "51850454     5\n",
       "51851186     1"
      ]
     },
     "execution_count": 63,
     "metadata": {},
     "output_type": "execute_result"
    }
   ],
   "source": [
    "wikidata_grouped_by_article.head()"
   ]
  },
  {
   "cell_type": "code",
   "execution_count": 64,
   "id": "fc1b9ca6-a7fc-4011-8a0d-7bae2d188a09",
   "metadata": {},
   "outputs": [
    {
     "data": {
      "text/plain": [
       "count    8492.000000\n",
       "mean        3.301107\n",
       "std         2.826492\n",
       "min         1.000000\n",
       "25%         1.000000\n",
       "50%         2.000000\n",
       "75%         4.000000\n",
       "max        33.000000\n",
       "Name: name, dtype: float64"
      ]
     },
     "execution_count": 64,
     "metadata": {},
     "output_type": "execute_result"
    }
   ],
   "source": [
    "wikidata_grouped_by_article.name.describe()"
   ]
  },
  {
   "cell_type": "code",
   "execution_count": 65,
   "id": "b7cd660f-c51b-4632-9cb0-7e2a01908040",
   "metadata": {
    "tags": []
   },
   "outputs": [
    {
     "data": {
      "text/plain": [
       "<AxesSubplot:>"
      ]
     },
     "execution_count": 65,
     "metadata": {},
     "output_type": "execute_result"
    },
    {
     "data": {
      "image/png": "[encoded data removed]",
      "text/plain": [
       "<Figure size 640x480 with 1 Axes>"
      ]
     },
     "metadata": {},
     "output_type": "display_data"
    }
   ],
   "source": [
    "bins = np.arange(0,35)\n",
    "wikidata_grouped_by_article.name.hist(bins=bins)"
   ]
  },
  {
   "cell_type": "code",
   "execution_count": 66,
   "id": "f9d23a90-35a9-4241-9d99-de3d42b957d0",
   "metadata": {
    "tags": []
   },
   "outputs": [
    {
     "data": {
      "text/plain": [
       "<matplotlib.lines.Line2D at 0x7f6d68dc68f0>"
      ]
     },
     "execution_count": 66,
     "metadata": {},
     "output_type": "execute_result"
    },
    {
     "data": {
      "image/png": "[encoded data removed]",
      "text/plain": [
       "<Figure size 640x480 with 1 Axes>"
      ]
     },
     "metadata": {},
     "output_type": "display_data"
    }
   ],
   "source": [
    "fig, ax = plt.subplots()\n",
    "bins = np.arange(1,20)\n",
    "wikidata_grouped_by_article.name.hist(bins=bins, ax=ax, grid=False)\n",
    "\n",
    "# Outliers (tail of the distribution)\n",
    "too_many_names = 10\n",
    "ax.axvline(too_many_names, color='r')"
   ]
  },
  {
   "cell_type": "markdown",
   "id": "6749e48f-ad8f-497c-bbaa-86dfe496ae0a",
   "metadata": {},
   "source": [
    "## Remove outliers"
   ]
  },
  {
   "cell_type": "markdown",
   "id": "3e93103d-0f8e-421e-a5de-47e6183bb9e4",
   "metadata": {},
   "source": [
    "Let's only keep articles with up to 10 names in it."
   ]
  },
  {
   "cell_type": "code",
   "execution_count": 67,
   "id": "c4f59003-7465-4156-9fca-7d9f986f22b3",
   "metadata": {},
   "outputs": [],
   "source": [
    "article_ids = wikidata_grouped_by_article.query('name>@too_many_names').index.tolist()"
   ]
  },
  {
   "cell_type": "markdown",
   "id": "65f66fa4-b099-40c0-ae36-e7e13eb473a7",
   "metadata": {},
   "source": [
    "Number of articles to remove"
   ]
  },
  {
   "cell_type": "code",
   "execution_count": 68,
   "id": "5e4a7065-f078-4ab7-90bd-dd3970313d18",
   "metadata": {},
   "outputs": [
    {
     "data": {
      "text/plain": [
       "234"
      ]
     },
     "execution_count": 68,
     "metadata": {},
     "output_type": "execute_result"
    }
   ],
   "source": [
    "len(article_ids)"
   ]
  },
  {
   "cell_type": "markdown",
   "id": "0002fa0f-3684-4694-98a8-a21707dba65b",
   "metadata": {},
   "source": [
    "Check the number or articles before removing articles"
   ]
  },
  {
   "cell_type": "code",
   "execution_count": 69,
   "id": "04c26064-6a57-4fee-beee-aaa70d8baa53",
   "metadata": {},
   "outputs": [
    {
     "data": {
      "text/plain": [
       "8492"
      ]
     },
     "execution_count": 69,
     "metadata": {},
     "output_type": "execute_result"
    }
   ],
   "source": [
    "wikidata.id.unique().size"
   ]
  },
  {
   "cell_type": "markdown",
   "id": "3a61708e-5669-46e9-b0ac-278aa4510782",
   "metadata": {},
   "source": [
    "Remove articles"
   ]
  },
  {
   "cell_type": "code",
   "execution_count": 70,
   "id": "e6f097bb-37cb-4905-8df4-afe66e533a6f",
   "metadata": {},
   "outputs": [],
   "source": [
    "wikidata = wikidata.query('id not in @article_ids').reset_index(drop=True)"
   ]
  },
  {
   "cell_type": "markdown",
   "id": "9f3b6d6b-2115-4363-9e1e-70abad069baf",
   "metadata": {},
   "source": [
    "Check the number or articles after removing articles"
   ]
  },
  {
   "cell_type": "code",
   "execution_count": 71,
   "id": "3a167142-8c8f-4992-a7a5-79e768c2fcda",
   "metadata": {},
   "outputs": [
    {
     "data": {
      "text/plain": [
       "8258"
      ]
     },
     "execution_count": 71,
     "metadata": {},
     "output_type": "execute_result"
    }
   ],
   "source": [
    "wikidata.query('id not in @article_ids').id.unique().size"
   ]
  },
  {
   "cell_type": "markdown",
   "id": "f3efde38-fb88-4b00-b1ca-fb5c44255064",
   "metadata": {},
   "source": [
    "Check how many names per article after removing articles"
   ]
  },
  {
   "cell_type": "code",
   "execution_count": 72,
   "id": "0965f7fa-606b-4a9a-8c72-9dce0040cd81",
   "metadata": {},
   "outputs": [],
   "source": [
    "wikidata_grouped_by_article = wikidata.groupby(['id']).agg({'name':lambda x: len(x)})"
   ]
  },
  {
   "cell_type": "code",
   "execution_count": 73,
   "id": "5feea4d2-204b-41a8-9ea3-2e404da041c8",
   "metadata": {},
   "outputs": [
    {
     "data": {
      "text/plain": [
       "count    8258.000000\n",
       "mean        3.001938\n",
       "std         2.144133\n",
       "min         1.000000\n",
       "25%         1.000000\n",
       "50%         2.000000\n",
       "75%         4.000000\n",
       "max        10.000000\n",
       "Name: name, dtype: float64"
      ]
     },
     "execution_count": 73,
     "metadata": {},
     "output_type": "execute_result"
    }
   ],
   "source": [
    "wikidata_grouped_by_article.name.describe()"
   ]
  },
  {
   "cell_type": "code",
   "execution_count": 74,
   "id": "ade9ad45-5aa9-4ba9-b296-2edf07e3a0e3",
   "metadata": {
    "tags": []
   },
   "outputs": [
    {
     "data": {
      "text/plain": [
       "<AxesSubplot:>"
      ]
     },
     "execution_count": 74,
     "metadata": {},
     "output_type": "execute_result"
    },
    {
     "data": {
      "image/png": "[encoded data removed]",
      "text/plain": [
       "<Figure size 640x480 with 1 Axes>"
      ]
     },
     "metadata": {},
     "output_type": "display_data"
    }
   ],
   "source": [
    "bins = np.arange(0,11)\n",
    "wikidata_grouped_by_article.name.hist(bins=bins)"
   ]
  },
  {
   "cell_type": "markdown",
   "id": "df7e877d-f4c9-4d34-8a15-0cc3027633f0",
   "metadata": {},
   "source": [
    "# Separate male and female "
   ]
  },
  {
   "cell_type": "markdown",
   "id": "9cea3135-c42a-4a2e-84b1-7d4c02f537e2",
   "metadata": {},
   "source": [
    "## Check the data"
   ]
  },
  {
   "cell_type": "code",
   "execution_count": 75,
   "id": "89e9e7fc-8a6b-4d00-a866-2a52f4de79d0",
   "metadata": {},
   "outputs": [
    {
     "data": {
      "text/html": [
       "<div>\n",
       "<style scoped>\n",
       "    .dataframe tbody tr th:only-of-type {\n",
       "        vertical-align: middle;\n",
       "    }\n",
       "\n",
       "    .dataframe tbody tr th {\n",
       "        vertical-align: top;\n",
       "    }\n",
       "\n",
       "    .dataframe thead th {\n",
       "        text-align: right;\n",
       "    }\n",
       "</style>\n",
       "<table border=\"1\" class=\"dataframe\">\n",
       "  <thead>\n",
       "    <tr style=\"text-align: right;\">\n",
       "      <th></th>\n",
       "      <th>name</th>\n",
       "      <th>results_Wikipedia</th>\n",
       "    </tr>\n",
       "  </thead>\n",
       "  <tbody>\n",
       "    <tr>\n",
       "      <th>count</th>\n",
       "      <td>24790</td>\n",
       "      <td>24790</td>\n",
       "    </tr>\n",
       "    <tr>\n",
       "      <th>unique</th>\n",
       "      <td>4620</td>\n",
       "      <td>2</td>\n",
       "    </tr>\n",
       "    <tr>\n",
       "      <th>top</th>\n",
       "      <td>Jair Bolsonaro</td>\n",
       "      <td>MALE</td>\n",
       "    </tr>\n",
       "    <tr>\n",
       "      <th>freq</th>\n",
       "      <td>1863</td>\n",
       "      <td>20458</td>\n",
       "    </tr>\n",
       "  </tbody>\n",
       "</table>\n",
       "</div>"
      ],
      "text/plain": [
       "                  name results_Wikipedia\n",
       "count            24790             24790\n",
       "unique            4620                 2\n",
       "top     Jair Bolsonaro              MALE\n",
       "freq              1863             20458"
      ]
     },
     "execution_count": 75,
     "metadata": {},
     "output_type": "execute_result"
    }
   ],
   "source": [
    "wikidata.describe(include=['object'])"
   ]
  },
  {
   "cell_type": "markdown",
   "id": "15f305ed-480d-4046-b87f-e76456ddec7a",
   "metadata": {},
   "source": [
    "Check how many unique articles are there"
   ]
  },
  {
   "cell_type": "code",
   "execution_count": 76,
   "id": "7bd8f4c4-b7ca-47b0-943a-3df2026a09db",
   "metadata": {},
   "outputs": [
    {
     "data": {
      "text/plain": [
       "8258"
      ]
     },
     "execution_count": 76,
     "metadata": {},
     "output_type": "execute_result"
    }
   ],
   "source": [
    "wikidata.id.unique().size"
   ]
  },
  {
   "cell_type": "markdown",
   "id": "43acdaa5-3336-4f8e-a112-e4159d80898b",
   "metadata": {},
   "source": [
    "Check how many unique labels are there"
   ]
  },
  {
   "cell_type": "code",
   "execution_count": 77,
   "id": "9858c682-3549-4247-bbb8-7db71ade4fc3",
   "metadata": {},
   "outputs": [
    {
     "data": {
      "text/plain": [
       "MALE      20458\n",
       "FEMALE     4332\n",
       "Name: results_Wikipedia, dtype: int64"
      ]
     },
     "execution_count": 77,
     "metadata": {},
     "output_type": "execute_result"
    }
   ],
   "source": [
    "wikidata.results_Wikipedia.value_counts()"
   ]
  },
  {
   "cell_type": "markdown",
   "id": "d93fff2d-c3c7-41bf-a2f8-f1b45d5ea211",
   "metadata": {},
   "source": [
    "## Check that the original data has all nedeed articles"
   ]
  },
  {
   "cell_type": "code",
   "execution_count": 82,
   "id": "11094559-8693-4fc5-942b-d1ac86ba813a",
   "metadata": {},
   "outputs": [
    {
     "name": "stdout",
     "output_type": "stream",
     "text": [
      "{53492736, 53266434, 61274631, 58053132, 57778205, 57850399, 57007647, 57114146, 59311139, 61737516, 61104687, 62378032, 61971507, 58619955, 57282101, 57607735, 53584442, 55686715, 60046906, 55372348, 54261829, 61090377, 57421386, 57686090, 61141065, 53016139, 53002321, 53057107, 56538195, 61421652, 61455444, 53446236, 53860455, 59116137, 59002478, 53229686, 56164471, 52104312, 53505144, 55192189, 61966973, 53021311, 61059712, 58180735, 59562113, 56486527, 52345476, 56380548, 59801738, 61157517, 62141583, 59310741, 53195927, 56069787, 58902685, 52407978, 59014829, 58131633, 54594738, 59927221, 55677629, 52559550, 61523138, 56275139, 57455302, 52949702, 53178569, 59454162, 61135058, 57822934, 58144471, 57305815, 58785495, 54036186, 56059612, 55208669, 58784481, 53596389, 53072617, 57053419, 56968428, 56753900, 56292590, 57969917, 59429631, 59331842, 59782404, 57919755, 52977939, 56890646, 52964630, 62213399, 62121755, 62055196, 53310236, 55490847, 57081125, 54528808, 56938280, 57653548, 57441068, 53389105, 62196018, 54924081, 53316404, 53569844, 53276977, 60288823, 53783864, 53114167, 53289278, 57356611, 53679430, 56215878, 53171528, 53401929, 52869452, 61426509, 56465230, 61047124, 53523796, 59534677, 58733402, 55677285, 55345001, 53205870, 53348722, 58188149, 58989432, 61935996, 56106877, 56552832, 52895106, 53096322, 57015686, 59312008, 53462410, 52947339, 52141454, 57821073, 57579414, 61115289, 53093786, 61168543, 58911652, 60994990, 58053556, 56825781, 60032951, 58782137, 57784764, 56664001, 53550533, 56641480, 61059533, 61199314, 56012757, 56702938, 55301595, 53693923, 53679593, 53947369, 57319917, 56614896, 57429492, 53530101, 57589750, 62074359, 61074938}\n"
     ]
    }
   ],
   "source": [
    "print(set(wikidata.id)-set(full_texts.id))"
   ]
  },
  {
   "cell_type": "code",
   "execution_count": 83,
   "id": "98ab16d7-7ea1-45c9-a01a-188e7a133cb3",
   "metadata": {},
   "outputs": [],
   "source": [
    "article_in_wikipedia_not_in_original = set(wikidata.id)-set(full_texts.id)"
   ]
  },
  {
   "cell_type": "code",
   "execution_count": 84,
   "id": "a5ee191e-31ab-4690-8e35-49e62ce43247",
   "metadata": {},
   "outputs": [
    {
     "data": {
      "text/plain": [
       "169"
      ]
     },
     "execution_count": 84,
     "metadata": {},
     "output_type": "execute_result"
    }
   ],
   "source": [
    "len(article_in_wikipedia_not_in_original)"
   ]
  },
  {
   "cell_type": "markdown",
   "id": "4fa53e9a-a35e-4eea-a9e9-178f77832df8",
   "metadata": {},
   "source": [
    "## Remove articles from the Wikipedia set that are not in the original anymore"
   ]
  },
  {
   "cell_type": "code",
   "execution_count": 90,
   "id": "5bb859b6-12b3-45ac-a3fc-68997b3da665",
   "metadata": {},
   "outputs": [
    {
     "data": {
      "text/plain": [
       "8258"
      ]
     },
     "execution_count": 90,
     "metadata": {},
     "output_type": "execute_result"
    }
   ],
   "source": [
    "wikidata.id.unique().size"
   ]
  },
  {
   "cell_type": "code",
   "execution_count": 93,
   "id": "5e509f7f-3af7-4e02-bfd5-5ff4e10ff7e9",
   "metadata": {},
   "outputs": [],
   "source": [
    "wikidata = wikidata.query('id not in @article_in_wikipedia_not_in_original')"
   ]
  },
  {
   "cell_type": "code",
   "execution_count": 94,
   "id": "c886f89e-cebc-4c49-9a0f-52344446eb44",
   "metadata": {},
   "outputs": [
    {
     "data": {
      "text/plain": [
       "8089"
      ]
     },
     "execution_count": 94,
     "metadata": {},
     "output_type": "execute_result"
    }
   ],
   "source": [
    "wikidata.id.unique().size"
   ]
  },
  {
   "cell_type": "markdown",
   "id": "c0629070-2416-4bea-a921-9e0c8fdad73e",
   "metadata": {},
   "source": [
    "## Separate M and F"
   ]
  },
  {
   "cell_type": "code",
   "execution_count": 95,
   "id": "f1048eb3-b370-4ce5-9676-a3d2bf102231",
   "metadata": {},
   "outputs": [],
   "source": [
    "wikidata_M = wikidata.query('results_Wikipedia==\"MALE\"')"
   ]
  },
  {
   "cell_type": "code",
   "execution_count": 96,
   "id": "9b0fd34e-768b-4bc1-9af0-c5218c22a21b",
   "metadata": {},
   "outputs": [],
   "source": [
    "wikidata_F = wikidata.query('results_Wikipedia==\"FEMALE\"')"
   ]
  },
  {
   "cell_type": "code",
   "execution_count": 97,
   "id": "cda2df12-c7de-44b0-b364-1abc9205d208",
   "metadata": {},
   "outputs": [
    {
     "data": {
      "text/html": [
       "<div>\n",
       "<style scoped>\n",
       "    .dataframe tbody tr th:only-of-type {\n",
       "        vertical-align: middle;\n",
       "    }\n",
       "\n",
       "    .dataframe tbody tr th {\n",
       "        vertical-align: top;\n",
       "    }\n",
       "\n",
       "    .dataframe thead th {\n",
       "        text-align: right;\n",
       "    }\n",
       "</style>\n",
       "<table border=\"1\" class=\"dataframe\">\n",
       "  <thead>\n",
       "    <tr style=\"text-align: right;\">\n",
       "      <th></th>\n",
       "      <th>id</th>\n",
       "      <th>name</th>\n",
       "      <th>results_Wikipedia</th>\n",
       "    </tr>\n",
       "  </thead>\n",
       "  <tbody>\n",
       "    <tr>\n",
       "      <th>0</th>\n",
       "      <td>54006424</td>\n",
       "      <td>Gerald Asamoah</td>\n",
       "      <td>MALE</td>\n",
       "    </tr>\n",
       "    <tr>\n",
       "      <th>1</th>\n",
       "      <td>54006424</td>\n",
       "      <td>Hans Sarpei</td>\n",
       "      <td>MALE</td>\n",
       "    </tr>\n",
       "    <tr>\n",
       "      <th>2</th>\n",
       "      <td>54006424</td>\n",
       "      <td>Cacau</td>\n",
       "      <td>MALE</td>\n",
       "    </tr>\n",
       "    <tr>\n",
       "      <th>4</th>\n",
       "      <td>54003004</td>\n",
       "      <td>Emmanuel Macron</td>\n",
       "      <td>MALE</td>\n",
       "    </tr>\n",
       "    <tr>\n",
       "      <th>5</th>\n",
       "      <td>54003004</td>\n",
       "      <td>Olaf Scholz</td>\n",
       "      <td>MALE</td>\n",
       "    </tr>\n",
       "    <tr>\n",
       "      <th>6</th>\n",
       "      <td>54003004</td>\n",
       "      <td>Alexander Hamilton</td>\n",
       "      <td>MALE</td>\n",
       "    </tr>\n",
       "    <tr>\n",
       "      <th>9</th>\n",
       "      <td>54003004</td>\n",
       "      <td>Robert Schuman</td>\n",
       "      <td>MALE</td>\n",
       "    </tr>\n",
       "    <tr>\n",
       "      <th>10</th>\n",
       "      <td>54009380</td>\n",
       "      <td>James Webb</td>\n",
       "      <td>MALE</td>\n",
       "    </tr>\n",
       "    <tr>\n",
       "      <th>11</th>\n",
       "      <td>54008153</td>\n",
       "      <td>Xi Jinping</td>\n",
       "      <td>MALE</td>\n",
       "    </tr>\n",
       "    <tr>\n",
       "      <th>12</th>\n",
       "      <td>54008153</td>\n",
       "      <td>Zhang Xiaoming</td>\n",
       "      <td>MALE</td>\n",
       "    </tr>\n",
       "  </tbody>\n",
       "</table>\n",
       "</div>"
      ],
      "text/plain": [
       "          id                name results_Wikipedia\n",
       "0   54006424      Gerald Asamoah              MALE\n",
       "1   54006424         Hans Sarpei              MALE\n",
       "2   54006424               Cacau              MALE\n",
       "4   54003004     Emmanuel Macron              MALE\n",
       "5   54003004         Olaf Scholz              MALE\n",
       "6   54003004  Alexander Hamilton              MALE\n",
       "9   54003004      Robert Schuman              MALE\n",
       "10  54009380          James Webb              MALE\n",
       "11  54008153          Xi Jinping              MALE\n",
       "12  54008153      Zhang Xiaoming              MALE"
      ]
     },
     "execution_count": 97,
     "metadata": {},
     "output_type": "execute_result"
    }
   ],
   "source": [
    "wikidata_M.head(10)"
   ]
  },
  {
   "cell_type": "code",
   "execution_count": 100,
   "id": "dc35d38a-aaaa-499d-a048-e2e628425fb4",
   "metadata": {},
   "outputs": [
    {
     "data": {
      "text/html": [
       "<div>\n",
       "<style scoped>\n",
       "    .dataframe tbody tr th:only-of-type {\n",
       "        vertical-align: middle;\n",
       "    }\n",
       "\n",
       "    .dataframe tbody tr th {\n",
       "        vertical-align: top;\n",
       "    }\n",
       "\n",
       "    .dataframe thead th {\n",
       "        text-align: right;\n",
       "    }\n",
       "</style>\n",
       "<table border=\"1\" class=\"dataframe\">\n",
       "  <thead>\n",
       "    <tr style=\"text-align: right;\">\n",
       "      <th></th>\n",
       "      <th>id</th>\n",
       "      <th>name</th>\n",
       "      <th>results_Wikipedia</th>\n",
       "    </tr>\n",
       "  </thead>\n",
       "  <tbody>\n",
       "    <tr>\n",
       "      <th>3</th>\n",
       "      <td>54003004</td>\n",
       "      <td>Angela Merkel</td>\n",
       "      <td>FEMALE</td>\n",
       "    </tr>\n",
       "    <tr>\n",
       "      <th>7</th>\n",
       "      <td>54003004</td>\n",
       "      <td>Christine Lagarde</td>\n",
       "      <td>FEMALE</td>\n",
       "    </tr>\n",
       "    <tr>\n",
       "      <th>8</th>\n",
       "      <td>54003004</td>\n",
       "      <td>Ursula von der Leyen</td>\n",
       "      <td>FEMALE</td>\n",
       "    </tr>\n",
       "    <tr>\n",
       "      <th>13</th>\n",
       "      <td>54008153</td>\n",
       "      <td>Carrie Lam</td>\n",
       "      <td>FEMALE</td>\n",
       "    </tr>\n",
       "    <tr>\n",
       "      <th>18</th>\n",
       "      <td>54009331</td>\n",
       "      <td>Angela Merkel</td>\n",
       "      <td>FEMALE</td>\n",
       "    </tr>\n",
       "    <tr>\n",
       "      <th>28</th>\n",
       "      <td>54019162</td>\n",
       "      <td>Angela Merkel</td>\n",
       "      <td>FEMALE</td>\n",
       "    </tr>\n",
       "    <tr>\n",
       "      <th>31</th>\n",
       "      <td>54020046</td>\n",
       "      <td>Yalitza Aparicio</td>\n",
       "      <td>FEMALE</td>\n",
       "    </tr>\n",
       "    <tr>\n",
       "      <th>32</th>\n",
       "      <td>54020046</td>\n",
       "      <td>Eva Longoria</td>\n",
       "      <td>FEMALE</td>\n",
       "    </tr>\n",
       "    <tr>\n",
       "      <th>33</th>\n",
       "      <td>54020046</td>\n",
       "      <td>Awkwafina</td>\n",
       "      <td>FEMALE</td>\n",
       "    </tr>\n",
       "    <tr>\n",
       "      <th>34</th>\n",
       "      <td>54020046</td>\n",
       "      <td>Zendaya</td>\n",
       "      <td>FEMALE</td>\n",
       "    </tr>\n",
       "  </tbody>\n",
       "</table>\n",
       "</div>"
      ],
      "text/plain": [
       "          id                  name results_Wikipedia\n",
       "3   54003004         Angela Merkel            FEMALE\n",
       "7   54003004     Christine Lagarde            FEMALE\n",
       "8   54003004  Ursula von der Leyen            FEMALE\n",
       "13  54008153            Carrie Lam            FEMALE\n",
       "18  54009331         Angela Merkel            FEMALE\n",
       "28  54019162         Angela Merkel            FEMALE\n",
       "31  54020046      Yalitza Aparicio            FEMALE\n",
       "32  54020046          Eva Longoria            FEMALE\n",
       "33  54020046             Awkwafina            FEMALE\n",
       "34  54020046               Zendaya            FEMALE"
      ]
     },
     "execution_count": 100,
     "metadata": {},
     "output_type": "execute_result"
    }
   ],
   "source": [
    "wikidata_F.head(10)"
   ]
  },
  {
   "cell_type": "markdown",
   "id": "24fd16c6-aaff-4dba-be24-a40a470feb12",
   "metadata": {},
   "source": [
    "# Create training data (includes validation) and test data"
   ]
  },
  {
   "cell_type": "markdown",
   "id": "6df3f468-5b8e-47fb-b089-86dffb178bd4",
   "metadata": {},
   "source": [
    "## Check data"
   ]
  },
  {
   "cell_type": "markdown",
   "id": "3431c7d9-ccdb-4351-87cd-644e8035c2db",
   "metadata": {},
   "source": [
    "### All"
   ]
  },
  {
   "cell_type": "code",
   "execution_count": 101,
   "id": "4f0b7464-d87d-438c-99d6-1bea0c1d08f9",
   "metadata": {},
   "outputs": [
    {
     "data": {
      "text/html": [
       "<div>\n",
       "<style scoped>\n",
       "    .dataframe tbody tr th:only-of-type {\n",
       "        vertical-align: middle;\n",
       "    }\n",
       "\n",
       "    .dataframe tbody tr th {\n",
       "        vertical-align: top;\n",
       "    }\n",
       "\n",
       "    .dataframe thead th {\n",
       "        text-align: right;\n",
       "    }\n",
       "</style>\n",
       "<table border=\"1\" class=\"dataframe\">\n",
       "  <thead>\n",
       "    <tr style=\"text-align: right;\">\n",
       "      <th></th>\n",
       "      <th>name</th>\n",
       "      <th>results_Wikipedia</th>\n",
       "    </tr>\n",
       "  </thead>\n",
       "  <tbody>\n",
       "    <tr>\n",
       "      <th>count</th>\n",
       "      <td>23892</td>\n",
       "      <td>23892</td>\n",
       "    </tr>\n",
       "    <tr>\n",
       "      <th>unique</th>\n",
       "      <td>4538</td>\n",
       "      <td>2</td>\n",
       "    </tr>\n",
       "    <tr>\n",
       "      <th>top</th>\n",
       "      <td>Jair Bolsonaro</td>\n",
       "      <td>MALE</td>\n",
       "    </tr>\n",
       "    <tr>\n",
       "      <th>freq</th>\n",
       "      <td>1773</td>\n",
       "      <td>19714</td>\n",
       "    </tr>\n",
       "  </tbody>\n",
       "</table>\n",
       "</div>"
      ],
      "text/plain": [
       "                  name results_Wikipedia\n",
       "count            23892             23892\n",
       "unique            4538                 2\n",
       "top     Jair Bolsonaro              MALE\n",
       "freq              1773             19714"
      ]
     },
     "execution_count": 101,
     "metadata": {},
     "output_type": "execute_result"
    }
   ],
   "source": [
    "wikidata.describe(include=['object'])"
   ]
  },
  {
   "cell_type": "markdown",
   "id": "ae925ddf-6918-4cc9-ae8a-3d11dfb2a664",
   "metadata": {},
   "source": [
    "Check how many unique articles are there"
   ]
  },
  {
   "cell_type": "code",
   "execution_count": 102,
   "id": "cfd8397d-2cd1-4a25-818a-5020b5df7954",
   "metadata": {},
   "outputs": [
    {
     "data": {
      "text/plain": [
       "8089"
      ]
     },
     "execution_count": 102,
     "metadata": {},
     "output_type": "execute_result"
    }
   ],
   "source": [
    "wikidata.id.unique().size"
   ]
  },
  {
   "cell_type": "markdown",
   "id": "c9b6e755-62f2-4cd4-b66d-8489380f47a3",
   "metadata": {},
   "source": [
    "Check how many unique labels are there"
   ]
  },
  {
   "cell_type": "code",
   "execution_count": 103,
   "id": "ab17ed26-1491-469f-aee3-9ab7e619e5fe",
   "metadata": {},
   "outputs": [
    {
     "data": {
      "text/plain": [
       "MALE      19714\n",
       "FEMALE     4178\n",
       "Name: results_Wikipedia, dtype: int64"
      ]
     },
     "execution_count": 103,
     "metadata": {},
     "output_type": "execute_result"
    }
   ],
   "source": [
    "wikidata.results_Wikipedia.value_counts()"
   ]
  },
  {
   "cell_type": "markdown",
   "id": "46512056-c960-486a-ad45-e0538f0220c4",
   "metadata": {},
   "source": [
    "### Female"
   ]
  },
  {
   "cell_type": "code",
   "execution_count": 124,
   "id": "7faac235-875b-4354-ad1d-3d5dc623bef9",
   "metadata": {},
   "outputs": [
    {
     "data": {
      "text/html": [
       "<div>\n",
       "<style scoped>\n",
       "    .dataframe tbody tr th:only-of-type {\n",
       "        vertical-align: middle;\n",
       "    }\n",
       "\n",
       "    .dataframe tbody tr th {\n",
       "        vertical-align: top;\n",
       "    }\n",
       "\n",
       "    .dataframe thead th {\n",
       "        text-align: right;\n",
       "    }\n",
       "</style>\n",
       "<table border=\"1\" class=\"dataframe\">\n",
       "  <thead>\n",
       "    <tr style=\"text-align: right;\">\n",
       "      <th></th>\n",
       "      <th>id</th>\n",
       "      <th>name</th>\n",
       "      <th>results_Wikipedia</th>\n",
       "    </tr>\n",
       "  </thead>\n",
       "  <tbody>\n",
       "    <tr>\n",
       "      <th>3</th>\n",
       "      <td>54003004</td>\n",
       "      <td>Angela Merkel</td>\n",
       "      <td>FEMALE</td>\n",
       "    </tr>\n",
       "    <tr>\n",
       "      <th>7</th>\n",
       "      <td>54003004</td>\n",
       "      <td>Christine Lagarde</td>\n",
       "      <td>FEMALE</td>\n",
       "    </tr>\n",
       "    <tr>\n",
       "      <th>8</th>\n",
       "      <td>54003004</td>\n",
       "      <td>Ursula von der Leyen</td>\n",
       "      <td>FEMALE</td>\n",
       "    </tr>\n",
       "    <tr>\n",
       "      <th>13</th>\n",
       "      <td>54008153</td>\n",
       "      <td>Carrie Lam</td>\n",
       "      <td>FEMALE</td>\n",
       "    </tr>\n",
       "    <tr>\n",
       "      <th>18</th>\n",
       "      <td>54009331</td>\n",
       "      <td>Angela Merkel</td>\n",
       "      <td>FEMALE</td>\n",
       "    </tr>\n",
       "    <tr>\n",
       "      <th>...</th>\n",
       "      <td>...</td>\n",
       "      <td>...</td>\n",
       "      <td>...</td>\n",
       "    </tr>\n",
       "    <tr>\n",
       "      <th>24758</th>\n",
       "      <td>53985315</td>\n",
       "      <td>Angela Merkel</td>\n",
       "      <td>FEMALE</td>\n",
       "    </tr>\n",
       "    <tr>\n",
       "      <th>24770</th>\n",
       "      <td>53995146</td>\n",
       "      <td>Camila</td>\n",
       "      <td>FEMALE</td>\n",
       "    </tr>\n",
       "    <tr>\n",
       "      <th>24771</th>\n",
       "      <td>54005186</td>\n",
       "      <td>Carrie Lam</td>\n",
       "      <td>FEMALE</td>\n",
       "    </tr>\n",
       "    <tr>\n",
       "      <th>24781</th>\n",
       "      <td>54005845</td>\n",
       "      <td>Ursula von der Leyen</td>\n",
       "      <td>FEMALE</td>\n",
       "    </tr>\n",
       "    <tr>\n",
       "      <th>24783</th>\n",
       "      <td>54005845</td>\n",
       "      <td>Angela Merkel</td>\n",
       "      <td>FEMALE</td>\n",
       "    </tr>\n",
       "  </tbody>\n",
       "</table>\n",
       "<p>4178 rows × 3 columns</p>\n",
       "</div>"
      ],
      "text/plain": [
       "             id                  name results_Wikipedia\n",
       "3      54003004         Angela Merkel            FEMALE\n",
       "7      54003004     Christine Lagarde            FEMALE\n",
       "8      54003004  Ursula von der Leyen            FEMALE\n",
       "13     54008153            Carrie Lam            FEMALE\n",
       "18     54009331         Angela Merkel            FEMALE\n",
       "...         ...                   ...               ...\n",
       "24758  53985315         Angela Merkel            FEMALE\n",
       "24770  53995146                Camila            FEMALE\n",
       "24771  54005186            Carrie Lam            FEMALE\n",
       "24781  54005845  Ursula von der Leyen            FEMALE\n",
       "24783  54005845         Angela Merkel            FEMALE\n",
       "\n",
       "[4178 rows x 3 columns]"
      ]
     },
     "execution_count": 124,
     "metadata": {},
     "output_type": "execute_result"
    }
   ],
   "source": [
    "wikidata_F"
   ]
  },
  {
   "cell_type": "code",
   "execution_count": 104,
   "id": "3569ee2a-85d4-4d7d-89ec-f5caa5f8f7f4",
   "metadata": {},
   "outputs": [
    {
     "data": {
      "text/html": [
       "<div>\n",
       "<style scoped>\n",
       "    .dataframe tbody tr th:only-of-type {\n",
       "        vertical-align: middle;\n",
       "    }\n",
       "\n",
       "    .dataframe tbody tr th {\n",
       "        vertical-align: top;\n",
       "    }\n",
       "\n",
       "    .dataframe thead th {\n",
       "        text-align: right;\n",
       "    }\n",
       "</style>\n",
       "<table border=\"1\" class=\"dataframe\">\n",
       "  <thead>\n",
       "    <tr style=\"text-align: right;\">\n",
       "      <th></th>\n",
       "      <th>name</th>\n",
       "      <th>results_Wikipedia</th>\n",
       "    </tr>\n",
       "  </thead>\n",
       "  <tbody>\n",
       "    <tr>\n",
       "      <th>count</th>\n",
       "      <td>4178</td>\n",
       "      <td>4178</td>\n",
       "    </tr>\n",
       "    <tr>\n",
       "      <th>unique</th>\n",
       "      <td>982</td>\n",
       "      <td>1</td>\n",
       "    </tr>\n",
       "    <tr>\n",
       "      <th>top</th>\n",
       "      <td>Angela Merkel</td>\n",
       "      <td>FEMALE</td>\n",
       "    </tr>\n",
       "    <tr>\n",
       "      <th>freq</th>\n",
       "      <td>823</td>\n",
       "      <td>4178</td>\n",
       "    </tr>\n",
       "  </tbody>\n",
       "</table>\n",
       "</div>"
      ],
      "text/plain": [
       "                 name results_Wikipedia\n",
       "count            4178              4178\n",
       "unique            982                 1\n",
       "top     Angela Merkel            FEMALE\n",
       "freq              823              4178"
      ]
     },
     "execution_count": 104,
     "metadata": {},
     "output_type": "execute_result"
    }
   ],
   "source": [
    "wikidata_F.describe(include=['object'])"
   ]
  },
  {
   "cell_type": "markdown",
   "id": "6113f356-0e39-4aaa-967c-0ae7c10f4059",
   "metadata": {},
   "source": [
    "Check how many unique articles are there"
   ]
  },
  {
   "cell_type": "code",
   "execution_count": 105,
   "id": "49b53e70-60a3-4f60-b4d7-e81a64bb5b67",
   "metadata": {},
   "outputs": [
    {
     "data": {
      "text/plain": [
       "3050"
      ]
     },
     "execution_count": 105,
     "metadata": {},
     "output_type": "execute_result"
    }
   ],
   "source": [
    "wikidata_F.id.unique().size"
   ]
  },
  {
   "cell_type": "markdown",
   "id": "a8fc9da3-1027-4d53-a1aa-7a310b97925c",
   "metadata": {},
   "source": [
    "Check how many names per article after removing articles"
   ]
  },
  {
   "cell_type": "code",
   "execution_count": 106,
   "id": "d01765f1-0a81-4724-938a-b5b374473840",
   "metadata": {},
   "outputs": [],
   "source": [
    "wikidata_F_grouped_by_article = wikidata_F.groupby(['id']).agg({'name':lambda x: len(x)})"
   ]
  },
  {
   "cell_type": "code",
   "execution_count": 107,
   "id": "d635e348-195e-43d0-a6ff-edeea706e47a",
   "metadata": {},
   "outputs": [
    {
     "data": {
      "text/plain": [
       "count    3050.000000\n",
       "mean        1.369836\n",
       "std         0.747758\n",
       "min         1.000000\n",
       "25%         1.000000\n",
       "50%         1.000000\n",
       "75%         2.000000\n",
       "max         8.000000\n",
       "Name: name, dtype: float64"
      ]
     },
     "execution_count": 107,
     "metadata": {},
     "output_type": "execute_result"
    }
   ],
   "source": [
    "wikidata_F_grouped_by_article.name.describe()"
   ]
  },
  {
   "cell_type": "code",
   "execution_count": 108,
   "id": "cbadf24b-bcdf-4d04-a7c3-f97b18d8c60e",
   "metadata": {
    "tags": []
   },
   "outputs": [
    {
     "data": {
      "text/plain": [
       "<AxesSubplot:>"
      ]
     },
     "execution_count": 108,
     "metadata": {},
     "output_type": "execute_result"
    },
    {
     "data": {
      "image/png": "[encoded data removed]",
      "text/plain": [
       "<Figure size 640x480 with 1 Axes>"
      ]
     },
     "metadata": {},
     "output_type": "display_data"
    }
   ],
   "source": [
    "bins = np.arange(0,11)\n",
    "wikidata_F_grouped_by_article.name.hist(bins=bins)"
   ]
  },
  {
   "cell_type": "markdown",
   "id": "c2a0da6c-fecf-400b-9aeb-711296861950",
   "metadata": {},
   "source": [
    "### Male"
   ]
  },
  {
   "cell_type": "code",
   "execution_count": 109,
   "id": "a06bc134-d2cb-4206-b378-83c16e5ed422",
   "metadata": {},
   "outputs": [
    {
     "data": {
      "text/html": [
       "<div>\n",
       "<style scoped>\n",
       "    .dataframe tbody tr th:only-of-type {\n",
       "        vertical-align: middle;\n",
       "    }\n",
       "\n",
       "    .dataframe tbody tr th {\n",
       "        vertical-align: top;\n",
       "    }\n",
       "\n",
       "    .dataframe thead th {\n",
       "        text-align: right;\n",
       "    }\n",
       "</style>\n",
       "<table border=\"1\" class=\"dataframe\">\n",
       "  <thead>\n",
       "    <tr style=\"text-align: right;\">\n",
       "      <th></th>\n",
       "      <th>name</th>\n",
       "      <th>results_Wikipedia</th>\n",
       "    </tr>\n",
       "  </thead>\n",
       "  <tbody>\n",
       "    <tr>\n",
       "      <th>count</th>\n",
       "      <td>19714</td>\n",
       "      <td>19714</td>\n",
       "    </tr>\n",
       "    <tr>\n",
       "      <th>unique</th>\n",
       "      <td>3556</td>\n",
       "      <td>1</td>\n",
       "    </tr>\n",
       "    <tr>\n",
       "      <th>top</th>\n",
       "      <td>Jair Bolsonaro</td>\n",
       "      <td>MALE</td>\n",
       "    </tr>\n",
       "    <tr>\n",
       "      <th>freq</th>\n",
       "      <td>1773</td>\n",
       "      <td>19714</td>\n",
       "    </tr>\n",
       "  </tbody>\n",
       "</table>\n",
       "</div>"
      ],
      "text/plain": [
       "                  name results_Wikipedia\n",
       "count            19714             19714\n",
       "unique            3556                 1\n",
       "top     Jair Bolsonaro              MALE\n",
       "freq              1773             19714"
      ]
     },
     "execution_count": 109,
     "metadata": {},
     "output_type": "execute_result"
    }
   ],
   "source": [
    "wikidata_M.describe(include=['object'])"
   ]
  },
  {
   "cell_type": "markdown",
   "id": "a4948fa5-79d6-4b32-80c9-b9f6d5459fe5",
   "metadata": {},
   "source": [
    "Check how many unique articles are there"
   ]
  },
  {
   "cell_type": "code",
   "execution_count": 110,
   "id": "4bb1a3a0-f42f-4cae-b696-2773efb5465b",
   "metadata": {},
   "outputs": [
    {
     "data": {
      "text/plain": [
       "7440"
      ]
     },
     "execution_count": 110,
     "metadata": {},
     "output_type": "execute_result"
    }
   ],
   "source": [
    "wikidata_M.id.unique().size"
   ]
  },
  {
   "cell_type": "markdown",
   "id": "331e9fe6-bd36-4604-9c4d-b268818c61c0",
   "metadata": {},
   "source": [
    "Check how many names per article after removing articles"
   ]
  },
  {
   "cell_type": "code",
   "execution_count": 111,
   "id": "af5d675e-04b3-43a7-a384-0d1eacc4b0cc",
   "metadata": {},
   "outputs": [],
   "source": [
    "wikidata_M_grouped_by_article = wikidata_M.groupby(['id']).agg({'name':lambda x: len(x)})"
   ]
  },
  {
   "cell_type": "code",
   "execution_count": 112,
   "id": "2578e2ea-2d1c-4770-aee0-2351ceb57d97",
   "metadata": {},
   "outputs": [
    {
     "data": {
      "text/plain": [
       "count    7440.000000\n",
       "mean        2.649731\n",
       "std         1.833989\n",
       "min         1.000000\n",
       "25%         1.000000\n",
       "50%         2.000000\n",
       "75%         4.000000\n",
       "max        10.000000\n",
       "Name: name, dtype: float64"
      ]
     },
     "execution_count": 112,
     "metadata": {},
     "output_type": "execute_result"
    }
   ],
   "source": [
    "wikidata_M_grouped_by_article.name.describe()"
   ]
  },
  {
   "cell_type": "code",
   "execution_count": 113,
   "id": "fa2ba5ce-415b-408b-a6ae-4d2fdf588810",
   "metadata": {
    "tags": []
   },
   "outputs": [
    {
     "data": {
      "text/plain": [
       "<AxesSubplot:>"
      ]
     },
     "execution_count": 113,
     "metadata": {},
     "output_type": "execute_result"
    },
    {
     "data": {
      "image/png": "[encoded data removed]",
      "text/plain": [
       "<Figure size 640x480 with 1 Axes>"
      ]
     },
     "metadata": {},
     "output_type": "display_data"
    }
   ],
   "source": [
    "bins = np.arange(0,11)\n",
    "wikidata_M_grouped_by_article.name.hist(bins=bins)"
   ]
  },
  {
   "cell_type": "markdown",
   "id": "e820bd9b-bd13-4e8e-b7b8-e0af2e93a0ad",
   "metadata": {},
   "source": [
    "### Both <a id='histogram1'></a>"
   ]
  },
  {
   "cell_type": "code",
   "execution_count": 114,
   "id": "af3149e8-3c45-43c1-b633-0d0d98e100e9",
   "metadata": {},
   "outputs": [
    {
     "data": {
      "text/plain": [
       "<matplotlib.legend.Legend at 0x7f6d6234a950>"
      ]
     },
     "execution_count": 114,
     "metadata": {},
     "output_type": "execute_result"
    },
    {
     "data": {
      "image/png": "[encoded data removed]",
      "text/plain": [
       "<Figure size 640x480 with 1 Axes>"
      ]
     },
     "metadata": {},
     "output_type": "display_data"
    }
   ],
   "source": [
    "fig, ax = plt.subplots()\n",
    "wikidata_M_grouped_by_article.name.hist(bins=bins, ax=ax, label='male', color='k', grid=False, alpha=1.0)\n",
    "wikidata_F_grouped_by_article.name.hist(bins=bins, ax=ax, label='female', color='r', grid=False, alpha=0.5)\n",
    "plt.legend()"
   ]
  },
  {
   "cell_type": "markdown",
   "id": "6bd85215-5da6-4e52-be4d-ad853862407d",
   "metadata": {},
   "source": [
    "Most articles have only one female name or male name.\n",
    "\n",
    "*Note that we are not plotting the potential case of an article containing at the same time a female name and another male name. This is because we are plotting female and male dataset separate\n",
    "\n",
    "Articles that contain two male names are more common than articles that contain two female names. Same applyes for number larger than two."
   ]
  },
  {
   "cell_type": "markdown",
   "id": "d4f6eb4d-374f-4e67-babe-e34a6c6fddc1",
   "metadata": {},
   "source": [
    "## Trainig set (includes validation set)"
   ]
  },
  {
   "cell_type": "code",
   "execution_count": 115,
   "id": "04ad1f7b-b841-42a6-a829-092c6d48a532",
   "metadata": {},
   "outputs": [],
   "source": [
    "size_of_training_set = 4_000 # including validation set\n",
    "males_data = wikidata_M.sample(size_of_training_set, random_state=0)\n",
    "females_data = wikidata_F.sample(size_of_training_set, random_state=1)"
   ]
  },
  {
   "cell_type": "code",
   "execution_count": 116,
   "id": "93013840-b99a-4cc6-a322-a4c96fd9c62d",
   "metadata": {},
   "outputs": [
    {
     "data": {
      "text/html": [
       "<div>\n",
       "<style scoped>\n",
       "    .dataframe tbody tr th:only-of-type {\n",
       "        vertical-align: middle;\n",
       "    }\n",
       "\n",
       "    .dataframe tbody tr th {\n",
       "        vertical-align: top;\n",
       "    }\n",
       "\n",
       "    .dataframe thead th {\n",
       "        text-align: right;\n",
       "    }\n",
       "</style>\n",
       "<table border=\"1\" class=\"dataframe\">\n",
       "  <thead>\n",
       "    <tr style=\"text-align: right;\">\n",
       "      <th></th>\n",
       "      <th>id</th>\n",
       "      <th>name</th>\n",
       "      <th>results_Wikipedia</th>\n",
       "    </tr>\n",
       "  </thead>\n",
       "  <tbody>\n",
       "    <tr>\n",
       "      <th>104</th>\n",
       "      <td>54044754</td>\n",
       "      <td>Michael Ryan</td>\n",
       "      <td>MALE</td>\n",
       "    </tr>\n",
       "    <tr>\n",
       "      <th>10553</th>\n",
       "      <td>60667556</td>\n",
       "      <td>Joe Biden</td>\n",
       "      <td>MALE</td>\n",
       "    </tr>\n",
       "    <tr>\n",
       "      <th>5872</th>\n",
       "      <td>56482283</td>\n",
       "      <td>Eduardo Pazuello</td>\n",
       "      <td>MALE</td>\n",
       "    </tr>\n",
       "    <tr>\n",
       "      <th>2079</th>\n",
       "      <td>55004246</td>\n",
       "      <td>Gavin Newsom</td>\n",
       "      <td>MALE</td>\n",
       "    </tr>\n",
       "    <tr>\n",
       "      <th>19258</th>\n",
       "      <td>60035292</td>\n",
       "      <td>Wolfgang Schmidt</td>\n",
       "      <td>MALE</td>\n",
       "    </tr>\n",
       "    <tr>\n",
       "      <th>...</th>\n",
       "      <td>...</td>\n",
       "      <td>...</td>\n",
       "      <td>...</td>\n",
       "    </tr>\n",
       "    <tr>\n",
       "      <th>13033</th>\n",
       "      <td>61634450</td>\n",
       "      <td>Jens Stoltenberg</td>\n",
       "      <td>MALE</td>\n",
       "    </tr>\n",
       "    <tr>\n",
       "      <th>17125</th>\n",
       "      <td>59149356</td>\n",
       "      <td>Donald Trump</td>\n",
       "      <td>MALE</td>\n",
       "    </tr>\n",
       "    <tr>\n",
       "      <th>23606</th>\n",
       "      <td>53551482</td>\n",
       "      <td>Celso de Mello</td>\n",
       "      <td>MALE</td>\n",
       "    </tr>\n",
       "    <tr>\n",
       "      <th>10886</th>\n",
       "      <td>60800766</td>\n",
       "      <td>Ricardo Salles</td>\n",
       "      <td>MALE</td>\n",
       "    </tr>\n",
       "    <tr>\n",
       "      <th>24472</th>\n",
       "      <td>53860884</td>\n",
       "      <td>Yascha Mounk</td>\n",
       "      <td>MALE</td>\n",
       "    </tr>\n",
       "  </tbody>\n",
       "</table>\n",
       "<p>4000 rows × 3 columns</p>\n",
       "</div>"
      ],
      "text/plain": [
       "             id              name results_Wikipedia\n",
       "104    54044754      Michael Ryan              MALE\n",
       "10553  60667556         Joe Biden              MALE\n",
       "5872   56482283  Eduardo Pazuello              MALE\n",
       "2079   55004246      Gavin Newsom              MALE\n",
       "19258  60035292  Wolfgang Schmidt              MALE\n",
       "...         ...               ...               ...\n",
       "13033  61634450  Jens Stoltenberg              MALE\n",
       "17125  59149356      Donald Trump              MALE\n",
       "23606  53551482    Celso de Mello              MALE\n",
       "10886  60800766    Ricardo Salles              MALE\n",
       "24472  53860884      Yascha Mounk              MALE\n",
       "\n",
       "[4000 rows x 3 columns]"
      ]
     },
     "execution_count": 116,
     "metadata": {},
     "output_type": "execute_result"
    }
   ],
   "source": [
    "males_data"
   ]
  },
  {
   "cell_type": "code",
   "execution_count": 118,
   "id": "4394341d-471a-4a03-8e05-37575409a0f9",
   "metadata": {
    "tags": []
   },
   "outputs": [
    {
     "data": {
      "text/html": [
       "<div>\n",
       "<style scoped>\n",
       "    .dataframe tbody tr th:only-of-type {\n",
       "        vertical-align: middle;\n",
       "    }\n",
       "\n",
       "    .dataframe tbody tr th {\n",
       "        vertical-align: top;\n",
       "    }\n",
       "\n",
       "    .dataframe thead th {\n",
       "        text-align: right;\n",
       "    }\n",
       "</style>\n",
       "<table border=\"1\" class=\"dataframe\">\n",
       "  <thead>\n",
       "    <tr style=\"text-align: right;\">\n",
       "      <th></th>\n",
       "      <th>id</th>\n",
       "      <th>name</th>\n",
       "      <th>results_Wikipedia</th>\n",
       "    </tr>\n",
       "  </thead>\n",
       "  <tbody>\n",
       "    <tr>\n",
       "      <th>62</th>\n",
       "      <td>54033786</td>\n",
       "      <td>Ghislaine Maxwell</td>\n",
       "      <td>FEMALE</td>\n",
       "    </tr>\n",
       "    <tr>\n",
       "      <th>22026</th>\n",
       "      <td>52812549</td>\n",
       "      <td>Sara Johnson</td>\n",
       "      <td>FEMALE</td>\n",
       "    </tr>\n",
       "    <tr>\n",
       "      <th>20553</th>\n",
       "      <td>52134915</td>\n",
       "      <td>Sonia Guajajara</td>\n",
       "      <td>FEMALE</td>\n",
       "    </tr>\n",
       "    <tr>\n",
       "      <th>12607</th>\n",
       "      <td>61478126</td>\n",
       "      <td>Marine Le Pen</td>\n",
       "      <td>FEMALE</td>\n",
       "    </tr>\n",
       "    <tr>\n",
       "      <th>18411</th>\n",
       "      <td>59644426</td>\n",
       "      <td>Raquel Dodge</td>\n",
       "      <td>FEMALE</td>\n",
       "    </tr>\n",
       "    <tr>\n",
       "      <th>...</th>\n",
       "      <td>...</td>\n",
       "      <td>...</td>\n",
       "      <td>...</td>\n",
       "    </tr>\n",
       "    <tr>\n",
       "      <th>8894</th>\n",
       "      <td>57801614</td>\n",
       "      <td>Angela Merkel</td>\n",
       "      <td>FEMALE</td>\n",
       "    </tr>\n",
       "    <tr>\n",
       "      <th>8236</th>\n",
       "      <td>57473056</td>\n",
       "      <td>Ursula von der Leyen</td>\n",
       "      <td>FEMALE</td>\n",
       "    </tr>\n",
       "    <tr>\n",
       "      <th>20680</th>\n",
       "      <td>52192476</td>\n",
       "      <td>Ursula von der Leyen</td>\n",
       "      <td>FEMALE</td>\n",
       "    </tr>\n",
       "    <tr>\n",
       "      <th>8235</th>\n",
       "      <td>57473056</td>\n",
       "      <td>Angela Merkel</td>\n",
       "      <td>FEMALE</td>\n",
       "    </tr>\n",
       "    <tr>\n",
       "      <th>7235</th>\n",
       "      <td>57051709</td>\n",
       "      <td>Aung San Suu Kyi</td>\n",
       "      <td>FEMALE</td>\n",
       "    </tr>\n",
       "  </tbody>\n",
       "</table>\n",
       "<p>4000 rows × 3 columns</p>\n",
       "</div>"
      ],
      "text/plain": [
       "             id                  name results_Wikipedia\n",
       "62     54033786     Ghislaine Maxwell            FEMALE\n",
       "22026  52812549          Sara Johnson            FEMALE\n",
       "20553  52134915       Sonia Guajajara            FEMALE\n",
       "12607  61478126         Marine Le Pen            FEMALE\n",
       "18411  59644426          Raquel Dodge            FEMALE\n",
       "...         ...                   ...               ...\n",
       "8894   57801614         Angela Merkel            FEMALE\n",
       "8236   57473056  Ursula von der Leyen            FEMALE\n",
       "20680  52192476  Ursula von der Leyen            FEMALE\n",
       "8235   57473056         Angela Merkel            FEMALE\n",
       "7235   57051709      Aung San Suu Kyi            FEMALE\n",
       "\n",
       "[4000 rows x 3 columns]"
      ]
     },
     "execution_count": 118,
     "metadata": {},
     "output_type": "execute_result"
    }
   ],
   "source": [
    "females_data"
   ]
  },
  {
   "cell_type": "markdown",
   "id": "2f6d2ceb-4985-4c73-8728-ea308035b33f",
   "metadata": {},
   "source": [
    "Check that the sample was done without replacement"
   ]
  },
  {
   "cell_type": "code",
   "execution_count": 117,
   "id": "522fa8cf-c501-4404-9f42-b7bee59cf1b0",
   "metadata": {},
   "outputs": [
    {
     "data": {
      "text/plain": [
       "4000"
      ]
     },
     "execution_count": 117,
     "metadata": {},
     "output_type": "execute_result"
    }
   ],
   "source": [
    "males_data.index.unique().size"
   ]
  },
  {
   "cell_type": "code",
   "execution_count": 119,
   "id": "34e3c8a1-755c-431a-b9bc-07a49ae9527c",
   "metadata": {},
   "outputs": [
    {
     "data": {
      "text/plain": [
       "4000"
      ]
     },
     "execution_count": 119,
     "metadata": {},
     "output_type": "execute_result"
    }
   ],
   "source": [
    "females_data.index.unique().size"
   ]
  },
  {
   "cell_type": "markdown",
   "id": "ac8746c2-a474-4c50-be2c-bb35448cdd66",
   "metadata": {},
   "source": [
    "Check the number of unique articles"
   ]
  },
  {
   "cell_type": "code",
   "execution_count": 120,
   "id": "c9e48c0f-9b8c-45c1-8429-6f76a5af2379",
   "metadata": {},
   "outputs": [
    {
     "data": {
      "text/plain": [
       "3071"
      ]
     },
     "execution_count": 120,
     "metadata": {},
     "output_type": "execute_result"
    }
   ],
   "source": [
    "males_data.id.unique().size"
   ]
  },
  {
   "cell_type": "code",
   "execution_count": 121,
   "id": "37babe7d-a723-4fcc-8e99-d2ff6ff66d96",
   "metadata": {},
   "outputs": [
    {
     "data": {
      "text/plain": [
       "2948"
      ]
     },
     "execution_count": 121,
     "metadata": {},
     "output_type": "execute_result"
    }
   ],
   "source": [
    "females_data.id.unique().size"
   ]
  },
  {
   "cell_type": "code",
   "execution_count": 122,
   "id": "a80ff3c4-5c0a-440a-bee6-664ce1182d0a",
   "metadata": {},
   "outputs": [],
   "source": [
    "males_data_grouped_by_article = males_data.groupby(['id']).agg({'name':lambda x: len(x)})\n",
    "females_data_grouped_by_article = females_data.groupby(['id']).agg({'name':lambda x: len(x)})"
   ]
  },
  {
   "cell_type": "code",
   "execution_count": 123,
   "id": "4a8d6e67-ff49-42a6-82c7-6c282469d7f4",
   "metadata": {},
   "outputs": [
    {
     "data": {
      "text/plain": [
       "<matplotlib.legend.Legend at 0x7f6d61f7d9f0>"
      ]
     },
     "execution_count": 123,
     "metadata": {},
     "output_type": "execute_result"
    },
    {
     "data": {
      "image/png": "[encoded data removed]",
      "text/plain": [
       "<Figure size 640x480 with 1 Axes>"
      ]
     },
     "metadata": {},
     "output_type": "display_data"
    }
   ],
   "source": [
    "fig, ax = plt.subplots()\n",
    "bins = np.arange(0,10)\n",
    "males_data_grouped_by_article.name.hist(bins=bins, ax=ax, label='male', color='k', grid=False, alpha=1.0)\n",
    "females_data_grouped_by_article.name.hist(bins=bins, ax=ax, label='female', color='r', grid=False, alpha=0.5)\n",
    "plt.legend()"
   ]
  },
  {
   "cell_type": "markdown",
   "id": "913120fd-acde-4ff0-ae3b-c28d730287d2",
   "metadata": {},
   "source": [
    "**Why** do the two histograms above look the same given that that data (`males_data` and `females_data`) comes from `wikidata_M` and `wikidata_F` [whose equivalent histograms look different from each other](#histogram1)?\n",
    "\n",
    "First, note that the histograms are not about `males_data` and `females_data` or `wikidata_M` and `wikidata_F`. The histograms are about their gropued version (grouped by article or `id` column). However, the question remains: why the histograms of the groped version for `males_data` and `females_data` are different from th grouped version for `wikidata_M` and `wikidata_F`?\n",
    "\n",
    "The reason is the sample that creates `males_data` samples from the rows of `wikidata_M`, i.e., takes random names and not articles. Then, it is less likely to randomly pick names that come from the same article: thera are 7.5k articles and 20k names. In addition, most articles only have one male name in it, as shown in [this histogram](#histogram1). Then it is natural that the histogram of the gruped version of `males_data`  is more skewed towards 1 than the histogram about the grouped version of `wikidata_M`."
   ]
  },
  {
   "cell_type": "markdown",
   "id": "9b615096-d635-407e-9135-dd6b2d0badb4",
   "metadata": {},
   "source": [
    "## Test set "
   ]
  },
  {
   "cell_type": "markdown",
   "id": "a74c60bd-0582-44c2-b4ea-66d1ed5c393e",
   "metadata": {},
   "source": [
    "This set will not take part in the training scheme. It will be kept separate to prevent from being potentialy corrupted by the training scheme.\n",
    "\n",
    "To create this set, we will use the elements from `wikidata_M` and `wikidata_F` that did not go to `male_data` and `female_data`."
   ]
  },
  {
   "cell_type": "code",
   "execution_count": 128,
   "id": "ef4940b3-2e50-4d6d-8fc2-a5ede36e871b",
   "metadata": {},
   "outputs": [
    {
     "data": {
      "text/html": [
       "<div>\n",
       "<style scoped>\n",
       "    .dataframe tbody tr th:only-of-type {\n",
       "        vertical-align: middle;\n",
       "    }\n",
       "\n",
       "    .dataframe tbody tr th {\n",
       "        vertical-align: top;\n",
       "    }\n",
       "\n",
       "    .dataframe thead th {\n",
       "        text-align: right;\n",
       "    }\n",
       "</style>\n",
       "<table border=\"1\" class=\"dataframe\">\n",
       "  <thead>\n",
       "    <tr style=\"text-align: right;\">\n",
       "      <th></th>\n",
       "      <th>id</th>\n",
       "      <th>name</th>\n",
       "      <th>results_Wikipedia</th>\n",
       "    </tr>\n",
       "  </thead>\n",
       "  <tbody>\n",
       "    <tr>\n",
       "      <th>50</th>\n",
       "      <td>54027541</td>\n",
       "      <td>Valentina Tereshkova</td>\n",
       "      <td>FEMALE</td>\n",
       "    </tr>\n",
       "    <tr>\n",
       "      <th>94</th>\n",
       "      <td>54037037</td>\n",
       "      <td>Rosa Weber</td>\n",
       "      <td>FEMALE</td>\n",
       "    </tr>\n",
       "    <tr>\n",
       "      <th>443</th>\n",
       "      <td>54213833</td>\n",
       "      <td>Mary Trump</td>\n",
       "      <td>FEMALE</td>\n",
       "    </tr>\n",
       "    <tr>\n",
       "      <th>555</th>\n",
       "      <td>54257046</td>\n",
       "      <td>Cyndi Lauper</td>\n",
       "      <td>FEMALE</td>\n",
       "    </tr>\n",
       "    <tr>\n",
       "      <th>908</th>\n",
       "      <td>54489955</td>\n",
       "      <td>Michelle Bolsonaro</td>\n",
       "      <td>FEMALE</td>\n",
       "    </tr>\n",
       "    <tr>\n",
       "      <th>...</th>\n",
       "      <td>...</td>\n",
       "      <td>...</td>\n",
       "      <td>...</td>\n",
       "    </tr>\n",
       "    <tr>\n",
       "      <th>24450</th>\n",
       "      <td>53854813</td>\n",
       "      <td>Angela Merkel</td>\n",
       "      <td>FEMALE</td>\n",
       "    </tr>\n",
       "    <tr>\n",
       "      <th>24475</th>\n",
       "      <td>53860884</td>\n",
       "      <td>Dilma Rousseff</td>\n",
       "      <td>FEMALE</td>\n",
       "    </tr>\n",
       "    <tr>\n",
       "      <th>24549</th>\n",
       "      <td>53892063</td>\n",
       "      <td>Alexandria Ocasio - Cortez</td>\n",
       "      <td>FEMALE</td>\n",
       "    </tr>\n",
       "    <tr>\n",
       "      <th>24594</th>\n",
       "      <td>53916411</td>\n",
       "      <td>Dilma Rousseff</td>\n",
       "      <td>FEMALE</td>\n",
       "    </tr>\n",
       "    <tr>\n",
       "      <th>24643</th>\n",
       "      <td>53932896</td>\n",
       "      <td>Caroline de Toni</td>\n",
       "      <td>FEMALE</td>\n",
       "    </tr>\n",
       "  </tbody>\n",
       "</table>\n",
       "<p>178 rows × 3 columns</p>\n",
       "</div>"
      ],
      "text/plain": [
       "             id                        name results_Wikipedia\n",
       "50     54027541        Valentina Tereshkova            FEMALE\n",
       "94     54037037                  Rosa Weber            FEMALE\n",
       "443    54213833                  Mary Trump            FEMALE\n",
       "555    54257046                Cyndi Lauper            FEMALE\n",
       "908    54489955          Michelle Bolsonaro            FEMALE\n",
       "...         ...                         ...               ...\n",
       "24450  53854813               Angela Merkel            FEMALE\n",
       "24475  53860884              Dilma Rousseff            FEMALE\n",
       "24549  53892063  Alexandria Ocasio - Cortez            FEMALE\n",
       "24594  53916411              Dilma Rousseff            FEMALE\n",
       "24643  53932896            Caroline de Toni            FEMALE\n",
       "\n",
       "[178 rows x 3 columns]"
      ]
     },
     "execution_count": 128,
     "metadata": {},
     "output_type": "execute_result"
    }
   ],
   "source": [
    "wikidata_F.query('index not in @females_data.index')"
   ]
  },
  {
   "cell_type": "markdown",
   "id": "2289641c-ce42-4238-a63c-97a91b76c234",
   "metadata": {},
   "source": [
    "Because only remain 178 elements in `wikidata_F`, then the test data set will be of that size for male and female"
   ]
  },
  {
   "cell_type": "code",
   "execution_count": 129,
   "id": "ecc6becc-9cb4-474c-a881-413c61a9598f",
   "metadata": {},
   "outputs": [],
   "source": [
    "size_of_test_set = 178"
   ]
  },
  {
   "cell_type": "code",
   "execution_count": 130,
   "id": "a4f0b218-815e-4d03-8230-47d9a329446c",
   "metadata": {},
   "outputs": [],
   "source": [
    "_ = wikidata_M.query('index not in @males_data.index')\n",
    "males_test = _.sample(size_of_test_set, random_state=3)"
   ]
  },
  {
   "cell_type": "code",
   "execution_count": 131,
   "id": "abde6579-af7d-4af5-b653-5758e85b7d8b",
   "metadata": {},
   "outputs": [],
   "source": [
    "_ = wikidata_F.query('index not in @females_data.index')\n",
    "females_test = _.sample(size_of_test_set, random_state=4)"
   ]
  },
  {
   "cell_type": "markdown",
   "id": "2d75e847-8fb3-4555-b233-1ee80c6ecaad",
   "metadata": {},
   "source": [
    "Check that the sample was done without replacement"
   ]
  },
  {
   "cell_type": "code",
   "execution_count": 132,
   "id": "46f81790-ba47-45d7-8e2d-271d1ab92ec9",
   "metadata": {},
   "outputs": [
    {
     "data": {
      "text/plain": [
       "178"
      ]
     },
     "execution_count": 132,
     "metadata": {},
     "output_type": "execute_result"
    }
   ],
   "source": [
    "males_test.index.unique().size"
   ]
  },
  {
   "cell_type": "code",
   "execution_count": 133,
   "id": "9562e846-7313-4560-b032-66dfb02a6280",
   "metadata": {},
   "outputs": [
    {
     "data": {
      "text/plain": [
       "178"
      ]
     },
     "execution_count": 133,
     "metadata": {},
     "output_type": "execute_result"
    }
   ],
   "source": [
    "females_test.index.unique().size"
   ]
  },
  {
   "cell_type": "markdown",
   "id": "0d21c63a-4628-42ef-9623-a809fe7b3928",
   "metadata": {},
   "source": [
    "Check the number of unique articles"
   ]
  },
  {
   "cell_type": "code",
   "execution_count": 134,
   "id": "9c885887-8f4a-4e8b-8648-6ae191a8a430",
   "metadata": {},
   "outputs": [
    {
     "data": {
      "text/plain": [
       "176"
      ]
     },
     "execution_count": 134,
     "metadata": {},
     "output_type": "execute_result"
    }
   ],
   "source": [
    "males_test.id.unique().size"
   ]
  },
  {
   "cell_type": "code",
   "execution_count": 135,
   "id": "ef0b6e50-a526-4d09-854e-da4a6ec32418",
   "metadata": {},
   "outputs": [
    {
     "data": {
      "text/plain": [
       "175"
      ]
     },
     "execution_count": 135,
     "metadata": {},
     "output_type": "execute_result"
    }
   ],
   "source": [
    "females_test.id.unique().size"
   ]
  },
  {
   "cell_type": "code",
   "execution_count": 136,
   "id": "3bc0c669-7b74-48bc-8d40-6186cbfe348e",
   "metadata": {},
   "outputs": [],
   "source": [
    "males_test_grouped_by_article = males_test.groupby(['id']).agg({'name':lambda x: len(x)})\n",
    "females_test_grouped_by_article = females_test.groupby(['id']).agg({'name':lambda x: len(x)})"
   ]
  },
  {
   "cell_type": "code",
   "execution_count": 137,
   "id": "d957009b-230f-4301-827e-81e34f6d0973",
   "metadata": {},
   "outputs": [
    {
     "data": {
      "text/plain": [
       "<matplotlib.legend.Legend at 0x7f6d6227cc70>"
      ]
     },
     "execution_count": 137,
     "metadata": {},
     "output_type": "execute_result"
    },
    {
     "data": {
      "image/png": "[encoded data removed]",
      "text/plain": [
       "<Figure size 640x480 with 1 Axes>"
      ]
     },
     "metadata": {},
     "output_type": "display_data"
    }
   ],
   "source": [
    "fig, ax = plt.subplots()\n",
    "bins = np.arange(0,10)\n",
    "males_test_grouped_by_article.name.hist(bins=bins, ax=ax, label='male', color='k', grid=False, alpha=1.0)\n",
    "females_test_grouped_by_article.name.hist(bins=bins, ax=ax, label='female', color='r', grid=False, alpha=0.5)\n",
    "plt.legend()"
   ]
  },
  {
   "cell_type": "markdown",
   "id": "5f46bf9d-e47d-4d74-9104-e8459c653057",
   "metadata": {},
   "source": [
    "# Save status"
   ]
  },
  {
   "cell_type": "code",
   "execution_count": 138,
   "id": "bbdb6f35-8b7c-451a-905e-9650f2231b7e",
   "metadata": {},
   "outputs": [],
   "source": [
    "outputdir = Path.cwd()\n",
    "file = 'names_and_articles_to_use_as_training_and_test_sets.pickle'\n",
    "with open(outputdir/file, 'wb') as file:\n",
    "    pickle.dump({'males_test':males_test,\n",
    "                 'females_test':females_test,\n",
    "                 'males_data':males_data,\n",
    "                 'females_data':females_data}, file)"
   ]
  },
  {
   "cell_type": "markdown",
   "id": "23148b51-8176-47ba-8574-80da6acb9f28",
   "metadata": {},
   "source": [
    "# Read training dataset (including validation) and test dataset"
   ]
  },
  {
   "cell_type": "code",
   "execution_count": 145,
   "id": "27a2fd82-6844-46d6-b9b1-0de84c69cb12",
   "metadata": {},
   "outputs": [],
   "source": [
    "inputdir = Path.cwd()\n",
    "file = 'names_and_articles_to_use_as_training_and_test_sets.pickle'\n",
    "with open(inputdir/file, 'rb') as file:\n",
    "    tmp = pickle.load(file)"
   ]
  },
  {
   "cell_type": "code",
   "execution_count": 146,
   "id": "96a7846c-efde-4496-8335-99ddad91965b",
   "metadata": {},
   "outputs": [],
   "source": [
    "# Test dataset\n",
    "males_test = tmp['males_test']\n",
    "females_test = tmp['females_test']\n",
    "\n",
    "# training dataset (including validation dataset)\n",
    "males_data = tmp['males_data']\n",
    "females_data = tmp['females_data']"
   ]
  },
  {
   "cell_type": "code",
   "execution_count": 147,
   "id": "21cf73ca-b14a-4fd1-a0ea-23a97c3b5f3d",
   "metadata": {
    "tags": []
   },
   "outputs": [
    {
     "data": {
      "text/html": [
       "<div>\n",
       "<style scoped>\n",
       "    .dataframe tbody tr th:only-of-type {\n",
       "        vertical-align: middle;\n",
       "    }\n",
       "\n",
       "    .dataframe tbody tr th {\n",
       "        vertical-align: top;\n",
       "    }\n",
       "\n",
       "    .dataframe thead th {\n",
       "        text-align: right;\n",
       "    }\n",
       "</style>\n",
       "<table border=\"1\" class=\"dataframe\">\n",
       "  <thead>\n",
       "    <tr style=\"text-align: right;\">\n",
       "      <th></th>\n",
       "      <th>id</th>\n",
       "      <th>name</th>\n",
       "      <th>results_Wikipedia</th>\n",
       "    </tr>\n",
       "  </thead>\n",
       "  <tbody>\n",
       "    <tr>\n",
       "      <th>104</th>\n",
       "      <td>54044754</td>\n",
       "      <td>Michael Ryan</td>\n",
       "      <td>MALE</td>\n",
       "    </tr>\n",
       "    <tr>\n",
       "      <th>10553</th>\n",
       "      <td>60667556</td>\n",
       "      <td>Joe Biden</td>\n",
       "      <td>MALE</td>\n",
       "    </tr>\n",
       "    <tr>\n",
       "      <th>5872</th>\n",
       "      <td>56482283</td>\n",
       "      <td>Eduardo Pazuello</td>\n",
       "      <td>MALE</td>\n",
       "    </tr>\n",
       "    <tr>\n",
       "      <th>2079</th>\n",
       "      <td>55004246</td>\n",
       "      <td>Gavin Newsom</td>\n",
       "      <td>MALE</td>\n",
       "    </tr>\n",
       "    <tr>\n",
       "      <th>19258</th>\n",
       "      <td>60035292</td>\n",
       "      <td>Wolfgang Schmidt</td>\n",
       "      <td>MALE</td>\n",
       "    </tr>\n",
       "  </tbody>\n",
       "</table>\n",
       "</div>"
      ],
      "text/plain": [
       "             id              name results_Wikipedia\n",
       "104    54044754      Michael Ryan              MALE\n",
       "10553  60667556         Joe Biden              MALE\n",
       "5872   56482283  Eduardo Pazuello              MALE\n",
       "2079   55004246      Gavin Newsom              MALE\n",
       "19258  60035292  Wolfgang Schmidt              MALE"
      ]
     },
     "execution_count": 147,
     "metadata": {},
     "output_type": "execute_result"
    }
   ],
   "source": [
    "males_data.head()"
   ]
  },
  {
   "cell_type": "markdown",
   "id": "b8fb17fc-7326-440a-9165-3ec2e8670e99",
   "metadata": {},
   "source": [
    "Take a look at it"
   ]
  },
  {
   "cell_type": "code",
   "execution_count": 148,
   "id": "8671686d-eff5-4795-8553-5698e1a5ee44",
   "metadata": {},
   "outputs": [
    {
     "name": "stdout",
     "output_type": "stream",
     "text": [
      "<class 'pandas.core.frame.DataFrame'>\n",
      "Int64Index: 4000 entries, 104 to 24472\n",
      "Data columns (total 3 columns):\n",
      " #   Column             Non-Null Count  Dtype \n",
      "---  ------             --------------  ----- \n",
      " 0   id                 4000 non-null   int64 \n",
      " 1   name               4000 non-null   object\n",
      " 2   results_Wikipedia  4000 non-null   object\n",
      "dtypes: int64(1), object(2)\n",
      "memory usage: 125.0+ KB\n"
     ]
    }
   ],
   "source": [
    "males_data.info()"
   ]
  },
  {
   "cell_type": "code",
   "execution_count": 149,
   "id": "08dc53c7-10d4-4119-af3b-784fc86e4c6c",
   "metadata": {},
   "outputs": [
    {
     "data": {
      "text/html": [
       "<div>\n",
       "<style scoped>\n",
       "    .dataframe tbody tr th:only-of-type {\n",
       "        vertical-align: middle;\n",
       "    }\n",
       "\n",
       "    .dataframe tbody tr th {\n",
       "        vertical-align: top;\n",
       "    }\n",
       "\n",
       "    .dataframe thead th {\n",
       "        text-align: right;\n",
       "    }\n",
       "</style>\n",
       "<table border=\"1\" class=\"dataframe\">\n",
       "  <thead>\n",
       "    <tr style=\"text-align: right;\">\n",
       "      <th></th>\n",
       "      <th>name</th>\n",
       "      <th>results_Wikipedia</th>\n",
       "    </tr>\n",
       "  </thead>\n",
       "  <tbody>\n",
       "    <tr>\n",
       "      <th>count</th>\n",
       "      <td>4000</td>\n",
       "      <td>4000</td>\n",
       "    </tr>\n",
       "    <tr>\n",
       "      <th>unique</th>\n",
       "      <td>1278</td>\n",
       "      <td>1</td>\n",
       "    </tr>\n",
       "    <tr>\n",
       "      <th>top</th>\n",
       "      <td>Jair Bolsonaro</td>\n",
       "      <td>MALE</td>\n",
       "    </tr>\n",
       "    <tr>\n",
       "      <th>freq</th>\n",
       "      <td>383</td>\n",
       "      <td>4000</td>\n",
       "    </tr>\n",
       "  </tbody>\n",
       "</table>\n",
       "</div>"
      ],
      "text/plain": [
       "                  name results_Wikipedia\n",
       "count             4000              4000\n",
       "unique            1278                 1\n",
       "top     Jair Bolsonaro              MALE\n",
       "freq               383              4000"
      ]
     },
     "execution_count": 149,
     "metadata": {},
     "output_type": "execute_result"
    }
   ],
   "source": [
    "males_data.describe(include=['object'])"
   ]
  },
  {
   "cell_type": "markdown",
   "id": "c192a033-4161-47cb-b0f2-f8b452969d7e",
   "metadata": {},
   "source": [
    "Unique number of articles"
   ]
  },
  {
   "cell_type": "code",
   "execution_count": 150,
   "id": "1b089a11-84f5-4722-b0f1-9befdcb73642",
   "metadata": {},
   "outputs": [
    {
     "data": {
      "text/plain": [
       "3071"
      ]
     },
     "execution_count": 150,
     "metadata": {},
     "output_type": "execute_result"
    }
   ],
   "source": [
    "males_data.id.unique().size"
   ]
  },
  {
   "cell_type": "markdown",
   "id": "5d1e1386-a6be-4781-94da-a83a2a45c742",
   "metadata": {},
   "source": [
    "## Check that the original data has all nedeed articles [subject to change]"
   ]
  },
  {
   "cell_type": "code",
   "execution_count": 154,
   "id": "c9f75b94-1b0e-422a-bb65-8704a1ada145",
   "metadata": {},
   "outputs": [
    {
     "name": "stdout",
     "output_type": "stream",
     "text": [
      "set()\n",
      "set()\n",
      "set()\n",
      "set()\n"
     ]
    }
   ],
   "source": [
    "print(set(males_data.id)-set(full_texts.id))\n",
    "print(set(females_data.id)-set(full_texts.id))\n",
    "print(set(males_test.id)-set(full_texts.id))\n",
    "print(set(females_test.id)-set(full_texts.id))"
   ]
  },
  {
   "cell_type": "markdown",
   "id": "04f6cd3c-adf7-4613-9698-5b6e50a5cd37",
   "metadata": {},
   "source": [
    "# Add the full-text information to the data sets"
   ]
  },
  {
   "cell_type": "code",
   "execution_count": 168,
   "id": "8f568233-5a10-4877-9e46-8f5f0aef1335",
   "metadata": {},
   "outputs": [],
   "source": [
    "males_data_with_text = pd.merge(males_data, full_texts, how='inner', on=['id'])\n",
    "females_data_with_text = pd.merge(females_data, full_texts, how='inner', on=['id'])\n",
    "\n",
    "males_test_with_text = pd.merge(males_test, full_texts, how='inner', on=['id'])\n",
    "females_test_with_text = pd.merge(females_test, full_texts, how='inner', on=['id'])"
   ]
  },
  {
   "cell_type": "markdown",
   "id": "af62c678-a16a-457e-ac71-5492f7f6ab83",
   "metadata": {},
   "source": [
    "# Generate the final data sets "
   ]
  },
  {
   "cell_type": "markdown",
   "id": "7b10f166-bb5a-48aa-976f-9290c4de725c",
   "metadata": {},
   "source": [
    "Let us concatenate the male and female data and then shuffle it."
   ]
  },
  {
   "cell_type": "code",
   "execution_count": 218,
   "id": "8d31e343-4814-42fa-ab3a-f46f44ae1ac7",
   "metadata": {},
   "outputs": [],
   "source": [
    "data = pd.concat([males_data_with_text,females_data_with_text]).sample(frac=1, random_state=6).reset_index(drop=True)"
   ]
  },
  {
   "cell_type": "code",
   "execution_count": 220,
   "id": "e330f2ac-f45a-46cc-a0b2-b76fb65fbabe",
   "metadata": {},
   "outputs": [],
   "source": [
    "test_data = pd.concat([males_test_with_text,females_test_with_text]).sample(frac=1, random_state=7).reset_index(drop=True)"
   ]
  },
  {
   "cell_type": "code",
   "execution_count": 221,
   "id": "0b207aa0-7f95-4888-8860-3f9216d04274",
   "metadata": {},
   "outputs": [
    {
     "data": {
      "text/html": [
       "<div>\n",
       "<style scoped>\n",
       "    .dataframe tbody tr th:only-of-type {\n",
       "        vertical-align: middle;\n",
       "    }\n",
       "\n",
       "    .dataframe tbody tr th {\n",
       "        vertical-align: top;\n",
       "    }\n",
       "\n",
       "    .dataframe thead th {\n",
       "        text-align: right;\n",
       "    }\n",
       "</style>\n",
       "<table border=\"1\" class=\"dataframe\">\n",
       "  <thead>\n",
       "    <tr style=\"text-align: right;\">\n",
       "      <th></th>\n",
       "      <th>id</th>\n",
       "      <th>name</th>\n",
       "      <th>results_Wikipedia</th>\n",
       "      <th>full_text</th>\n",
       "      <th>article_length</th>\n",
       "    </tr>\n",
       "  </thead>\n",
       "  <tbody>\n",
       "    <tr>\n",
       "      <th>0</th>\n",
       "      <td>54153414</td>\n",
       "      <td>Andrzej Duda</td>\n",
       "      <td>MALE</td>\n",
       "      <td>A comissão eleitoral da Polônia anunciou nes...</td>\n",
       "      <td>3212</td>\n",
       "    </tr>\n",
       "    <tr>\n",
       "      <th>1</th>\n",
       "      <td>55253572</td>\n",
       "      <td>Erich Honecker</td>\n",
       "      <td>MALE</td>\n",
       "      <td>Natural e casual, elegantemente trajando ócul...</td>\n",
       "      <td>6176</td>\n",
       "    </tr>\n",
       "    <tr>\n",
       "      <th>2</th>\n",
       "      <td>58168985</td>\n",
       "      <td>Chris Whitty</td>\n",
       "      <td>FEMALE</td>\n",
       "      <td>Apesar do número crescente de casos de covid-...</td>\n",
       "      <td>6698</td>\n",
       "    </tr>\n",
       "    <tr>\n",
       "      <th>3</th>\n",
       "      <td>53821497</td>\n",
       "      <td>Luiz Henrique Mandetta</td>\n",
       "      <td>MALE</td>\n",
       "      <td>A Food and Drug Administration (FDA), agência...</td>\n",
       "      <td>4231</td>\n",
       "    </tr>\n",
       "    <tr>\n",
       "      <th>4</th>\n",
       "      <td>57170897</td>\n",
       "      <td>Angela Merkel</td>\n",
       "      <td>FEMALE</td>\n",
       "      <td>O populismo de direita alemão deu um passo ma...</td>\n",
       "      <td>5739</td>\n",
       "    </tr>\n",
       "    <tr>\n",
       "      <th>...</th>\n",
       "      <td>...</td>\n",
       "      <td>...</td>\n",
       "      <td>...</td>\n",
       "      <td>...</td>\n",
       "      <td>...</td>\n",
       "    </tr>\n",
       "    <tr>\n",
       "      <th>7995</th>\n",
       "      <td>61292150</td>\n",
       "      <td>Dilma Rousseff</td>\n",
       "      <td>FEMALE</td>\n",
       "      <td>Trata-se de um movimento iniciado nos anos 199...</td>\n",
       "      <td>5039</td>\n",
       "    </tr>\n",
       "    <tr>\n",
       "      <th>7996</th>\n",
       "      <td>60338691</td>\n",
       "      <td>Thomas Mann</td>\n",
       "      <td>MALE</td>\n",
       "      <td>A bordo de jet-skis, os homens avançam velozm...</td>\n",
       "      <td>4515</td>\n",
       "    </tr>\n",
       "    <tr>\n",
       "      <th>7997</th>\n",
       "      <td>57352798</td>\n",
       "      <td>Donald Trump</td>\n",
       "      <td>MALE</td>\n",
       "      <td>Os desenvolvedores da vacina russa contra covi...</td>\n",
       "      <td>4274</td>\n",
       "    </tr>\n",
       "    <tr>\n",
       "      <th>7998</th>\n",
       "      <td>61662604</td>\n",
       "      <td>Bolsonaro</td>\n",
       "      <td>MALE</td>\n",
       "      <td>Durante o governo do ex-presidente americano D...</td>\n",
       "      <td>9438</td>\n",
       "    </tr>\n",
       "    <tr>\n",
       "      <th>7999</th>\n",
       "      <td>55919036</td>\n",
       "      <td>Michelle Bachelet</td>\n",
       "      <td>FEMALE</td>\n",
       "      <td>O ativista e jornalista iraniano Ruhollah Zam ...</td>\n",
       "      <td>3862</td>\n",
       "    </tr>\n",
       "  </tbody>\n",
       "</table>\n",
       "<p>8000 rows × 5 columns</p>\n",
       "</div>"
      ],
      "text/plain": [
       "            id                    name results_Wikipedia  \\\n",
       "0     54153414            Andrzej Duda              MALE   \n",
       "1     55253572          Erich Honecker              MALE   \n",
       "2     58168985            Chris Whitty            FEMALE   \n",
       "3     53821497  Luiz Henrique Mandetta              MALE   \n",
       "4     57170897           Angela Merkel            FEMALE   \n",
       "...        ...                     ...               ...   \n",
       "7995  61292150          Dilma Rousseff            FEMALE   \n",
       "7996  60338691             Thomas Mann              MALE   \n",
       "7997  57352798            Donald Trump              MALE   \n",
       "7998  61662604               Bolsonaro              MALE   \n",
       "7999  55919036       Michelle Bachelet            FEMALE   \n",
       "\n",
       "                                              full_text  article_length  \n",
       "0     A comissão eleitoral da Polônia anunciou nes...            3212  \n",
       "1     Natural e casual, elegantemente trajando ócul...            6176  \n",
       "2     Apesar do número crescente de casos de covid-...            6698  \n",
       "3     A Food and Drug Administration (FDA), agência...            4231  \n",
       "4     O populismo de direita alemão deu um passo ma...            5739  \n",
       "...                                                 ...             ...  \n",
       "7995  Trata-se de um movimento iniciado nos anos 199...            5039  \n",
       "7996  A bordo de jet-skis, os homens avançam velozm...            4515  \n",
       "7997  Os desenvolvedores da vacina russa contra covi...            4274  \n",
       "7998  Durante o governo do ex-presidente americano D...            9438  \n",
       "7999  O ativista e jornalista iraniano Ruhollah Zam ...            3862  \n",
       "\n",
       "[8000 rows x 5 columns]"
      ]
     },
     "execution_count": 221,
     "metadata": {},
     "output_type": "execute_result"
    }
   ],
   "source": [
    "data"
   ]
  },
  {
   "cell_type": "code",
   "execution_count": 222,
   "id": "cacb7e4c-866b-4847-acd7-dbcaaa22db6d",
   "metadata": {},
   "outputs": [
    {
     "data": {
      "text/html": [
       "<div>\n",
       "<style scoped>\n",
       "    .dataframe tbody tr th:only-of-type {\n",
       "        vertical-align: middle;\n",
       "    }\n",
       "\n",
       "    .dataframe tbody tr th {\n",
       "        vertical-align: top;\n",
       "    }\n",
       "\n",
       "    .dataframe thead th {\n",
       "        text-align: right;\n",
       "    }\n",
       "</style>\n",
       "<table border=\"1\" class=\"dataframe\">\n",
       "  <thead>\n",
       "    <tr style=\"text-align: right;\">\n",
       "      <th></th>\n",
       "      <th>id</th>\n",
       "      <th>name</th>\n",
       "      <th>results_Wikipedia</th>\n",
       "      <th>full_text</th>\n",
       "      <th>article_length</th>\n",
       "    </tr>\n",
       "  </thead>\n",
       "  <tbody>\n",
       "    <tr>\n",
       "      <th>0</th>\n",
       "      <td>54523862</td>\n",
       "      <td>Svetlana Tikhanovskaya</td>\n",
       "      <td>FEMALE</td>\n",
       "      <td>O ministro das Relações Exteriores da Lituâ...</td>\n",
       "      <td>6318</td>\n",
       "    </tr>\n",
       "    <tr>\n",
       "      <th>1</th>\n",
       "      <td>57725423</td>\n",
       "      <td>Frank - Walter Steinmeier</td>\n",
       "      <td>MALE</td>\n",
       "      <td>Novas revelações, feitas neste domingo (30/0...</td>\n",
       "      <td>1988</td>\n",
       "    </tr>\n",
       "    <tr>\n",
       "      <th>2</th>\n",
       "      <td>58283114</td>\n",
       "      <td>Cristiano Carvalho</td>\n",
       "      <td>FEMALE</td>\n",
       "      <td>O representante da Davati Medical Supply, Cris...</td>\n",
       "      <td>7654</td>\n",
       "    </tr>\n",
       "    <tr>\n",
       "      <th>3</th>\n",
       "      <td>60084542</td>\n",
       "      <td>Joe Biden</td>\n",
       "      <td>MALE</td>\n",
       "      <td>A partir deste sábado (11/12), brasileiros qu...</td>\n",
       "      <td>8205</td>\n",
       "    </tr>\n",
       "    <tr>\n",
       "      <th>4</th>\n",
       "      <td>62366291</td>\n",
       "      <td>Ann Linde</td>\n",
       "      <td>FEMALE</td>\n",
       "      <td>Embaixadores dos 30 países-membros da Otan as...</td>\n",
       "      <td>2248</td>\n",
       "    </tr>\n",
       "    <tr>\n",
       "      <th>...</th>\n",
       "      <td>...</td>\n",
       "      <td>...</td>\n",
       "      <td>...</td>\n",
       "      <td>...</td>\n",
       "      <td>...</td>\n",
       "    </tr>\n",
       "    <tr>\n",
       "      <th>351</th>\n",
       "      <td>58817709</td>\n",
       "      <td>Anne</td>\n",
       "      <td>FEMALE</td>\n",
       "      <td>Nascida em Teresina, Piauí, Mary Lages nunca ...</td>\n",
       "      <td>5475</td>\n",
       "    </tr>\n",
       "    <tr>\n",
       "      <th>352</th>\n",
       "      <td>57146763</td>\n",
       "      <td>Recep Tayyip Erdogan</td>\n",
       "      <td>MALE</td>\n",
       "      <td>O primeiro-ministro italiano, Mario Draghi, ch...</td>\n",
       "      <td>2750</td>\n",
       "    </tr>\n",
       "    <tr>\n",
       "      <th>353</th>\n",
       "      <td>55374814</td>\n",
       "      <td>Francisco</td>\n",
       "      <td>MALE</td>\n",
       "      <td>Sete anos mais tarde, ele redobra a carga. No ...</td>\n",
       "      <td>4451</td>\n",
       "    </tr>\n",
       "    <tr>\n",
       "      <th>354</th>\n",
       "      <td>58242406</td>\n",
       "      <td>Maria Van Kerkhove</td>\n",
       "      <td>FEMALE</td>\n",
       "      <td>A Organização Mundial da Saúde (OMS) expres...</td>\n",
       "      <td>4030</td>\n",
       "    </tr>\n",
       "    <tr>\n",
       "      <th>355</th>\n",
       "      <td>56172005</td>\n",
       "      <td>Donald Trump</td>\n",
       "      <td>MALE</td>\n",
       "      <td>Isso depende da interpretação. Mas primeiro ...</td>\n",
       "      <td>8358</td>\n",
       "    </tr>\n",
       "  </tbody>\n",
       "</table>\n",
       "<p>356 rows × 5 columns</p>\n",
       "</div>"
      ],
      "text/plain": [
       "           id                       name results_Wikipedia  \\\n",
       "0    54523862     Svetlana Tikhanovskaya            FEMALE   \n",
       "1    57725423  Frank - Walter Steinmeier              MALE   \n",
       "2    58283114         Cristiano Carvalho            FEMALE   \n",
       "3    60084542                  Joe Biden              MALE   \n",
       "4    62366291                  Ann Linde            FEMALE   \n",
       "..        ...                        ...               ...   \n",
       "351  58817709                       Anne            FEMALE   \n",
       "352  57146763       Recep Tayyip Erdogan              MALE   \n",
       "353  55374814                  Francisco              MALE   \n",
       "354  58242406         Maria Van Kerkhove            FEMALE   \n",
       "355  56172005               Donald Trump              MALE   \n",
       "\n",
       "                                             full_text  article_length  \n",
       "0    O ministro das Relações Exteriores da Lituâ...            6318  \n",
       "1    Novas revelações, feitas neste domingo (30/0...            1988  \n",
       "2    O representante da Davati Medical Supply, Cris...            7654  \n",
       "3    A partir deste sábado (11/12), brasileiros qu...            8205  \n",
       "4    Embaixadores dos 30 países-membros da Otan as...            2248  \n",
       "..                                                 ...             ...  \n",
       "351  Nascida em Teresina, Piauí, Mary Lages nunca ...            5475  \n",
       "352  O primeiro-ministro italiano, Mario Draghi, ch...            2750  \n",
       "353  Sete anos mais tarde, ele redobra a carga. No ...            4451  \n",
       "354  A Organização Mundial da Saúde (OMS) expres...            4030  \n",
       "355  Isso depende da interpretação. Mas primeiro ...            8358  \n",
       "\n",
       "[356 rows x 5 columns]"
      ]
     },
     "execution_count": 222,
     "metadata": {},
     "output_type": "execute_result"
    }
   ],
   "source": [
    "test_data"
   ]
  },
  {
   "cell_type": "markdown",
   "id": "9936aa7f-5b08-4611-a036-d12608eb7c04",
   "metadata": {},
   "source": [
    "# Save"
   ]
  },
  {
   "cell_type": "code",
   "execution_count": 227,
   "id": "99615b8f-3a27-4275-9d8e-89199fa08901",
   "metadata": {
    "tags": []
   },
   "outputs": [],
   "source": [
    "outputdir = Path.cwd()\n",
    "filename = Path('portuguese_training_data_v2.csv')\n",
    "data.to_csv(outputdir/filename, index=False)"
   ]
  },
  {
   "cell_type": "code",
   "execution_count": 228,
   "id": "4f3833f9-ad21-46f5-b867-e28b38652f86",
   "metadata": {
    "tags": []
   },
   "outputs": [],
   "source": [
    "outputdir = Path.cwd()\n",
    "filename = Path('portuguese_test_data_v2.csv')\n",
    "test_data.to_csv(outputdir/filename, index=False)"
   ]
  }
 ],
 "metadata": {
  "kernelspec": {
   "display_name": "Python 3 (ipykernel)",
   "language": "python",
   "name": "python3"
  },
  "language_info": {
   "codemirror_mode": {
    "name": "ipython",
    "version": 3
   },
   "file_extension": ".py",
   "mimetype": "text/x-python",
   "name": "python",
   "nbconvert_exporter": "python",
   "pygments_lexer": "ipython3",
   "version": "3.10.6"
  },
  "toc-showmarkdowntxt": false,
  "toc-showtags": false
 },
 "nbformat": 4,
 "nbformat_minor": 5
}
